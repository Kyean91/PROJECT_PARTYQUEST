{
 "cells": [
  {
   "cell_type": "code",
   "execution_count": 2,
   "id": "08b22ce8-7032-40a0-b688-a361e50e4ac5",
   "metadata": {},
   "outputs": [],
   "source": [
    "import pandas as pd\n",
    "import seaborn as sns\n",
    "import matplotlib.pyplot as plt\n",
    "import numpy as np"
   ]
  },
  {
   "cell_type": "code",
   "execution_count": 2,
   "id": "665d7ce9-f881-4fb1-8488-d82087d3da13",
   "metadata": {},
   "outputs": [],
   "source": [
    "# E_squad = pd.read_csv('./dataset/squad_E.csv')"
   ]
  },
  {
   "cell_type": "code",
   "execution_count": 3,
   "id": "0da4018a-9acf-4edb-94f4-7727be94f5ba",
   "metadata": {},
   "outputs": [],
   "source": [
    "# M_squad = pd.read_csv('./dataset/squad_M.csv')"
   ]
  },
  {
   "cell_type": "code",
   "execution_count": 4,
   "id": "b2cfded9-4d8b-40dc-8c3b-376037f411f7",
   "metadata": {},
   "outputs": [],
   "source": [
    "# E_squad.head()"
   ]
  },
  {
   "cell_type": "code",
   "execution_count": 5,
   "id": "355f8869-80ce-4a61-9092-66ed11afa55a",
   "metadata": {},
   "outputs": [],
   "source": [
    "# M_squad.head()"
   ]
  },
  {
   "cell_type": "code",
   "execution_count": 6,
   "id": "3ae51b5c-9bba-4103-970a-8e42a1fbb13f",
   "metadata": {},
   "outputs": [],
   "source": [
    "# E_duo = pd.read_csv('./dataset/duo_E.csv')"
   ]
  },
  {
   "cell_type": "code",
   "execution_count": 7,
   "id": "6620ff86-9ea3-4cbd-a8a8-6b756cac29b4",
   "metadata": {},
   "outputs": [],
   "source": [
    "# E_duo.head()"
   ]
  },
  {
   "cell_type": "code",
   "execution_count": 8,
   "id": "85bf3acb-e082-46ae-9f2a-ab7f99d83c33",
   "metadata": {},
   "outputs": [],
   "source": [
    "# M_duo = pd.read_csv('./dataset/duo_M.csv')"
   ]
  },
  {
   "cell_type": "code",
   "execution_count": 9,
   "id": "e5c4e982-dc61-4c23-95de-151e66caf6dd",
   "metadata": {},
   "outputs": [],
   "source": [
    "# M_duo.head()"
   ]
  },
  {
   "cell_type": "code",
   "execution_count": 3,
   "id": "65eb2b02-27ac-4d14-90c4-aab401c97370",
   "metadata": {},
   "outputs": [],
   "source": [
    "E_solo = pd.read_csv('./dataset/solo_E.csv')"
   ]
  },
  {
   "cell_type": "code",
   "execution_count": 4,
   "id": "22c67a12-bc8b-403f-9ab1-90cb42abf0b4",
   "metadata": {},
   "outputs": [],
   "source": [
    "M_solo = pd.read_csv('./dataset/solo_M.csv')"
   ]
  },
  {
   "cell_type": "code",
   "execution_count": 5,
   "id": "ed1058ff-1025-40a4-9abc-d68083ae9270",
   "metadata": {
    "tags": []
   },
   "outputs": [
    {
     "data": {
      "text/html": [
       "<div>\n",
       "<style scoped>\n",
       "    .dataframe tbody tr th:only-of-type {\n",
       "        vertical-align: middle;\n",
       "    }\n",
       "\n",
       "    .dataframe tbody tr th {\n",
       "        vertical-align: top;\n",
       "    }\n",
       "\n",
       "    .dataframe thead th {\n",
       "        text-align: right;\n",
       "    }\n",
       "</style>\n",
       "<table border=\"1\" class=\"dataframe\">\n",
       "  <thead>\n",
       "    <tr style=\"text-align: right;\">\n",
       "      <th></th>\n",
       "      <th>date</th>\n",
       "      <th>game_size</th>\n",
       "      <th>match_id</th>\n",
       "      <th>match_mode</th>\n",
       "      <th>party_size</th>\n",
       "      <th>player_assists</th>\n",
       "      <th>player_dbno</th>\n",
       "      <th>player_dist_ride</th>\n",
       "      <th>player_dist_walk</th>\n",
       "      <th>player_dmg</th>\n",
       "      <th>...</th>\n",
       "      <th>killed_by</th>\n",
       "      <th>killer_placement</th>\n",
       "      <th>killer_position_x</th>\n",
       "      <th>killer_position_y</th>\n",
       "      <th>map</th>\n",
       "      <th>time</th>\n",
       "      <th>victim_name</th>\n",
       "      <th>victim_placement</th>\n",
       "      <th>victim_position_x</th>\n",
       "      <th>victim_position_y</th>\n",
       "    </tr>\n",
       "  </thead>\n",
       "  <tbody>\n",
       "    <tr>\n",
       "      <th>0</th>\n",
       "      <td>2017-11-19T08:28:59+0000</td>\n",
       "      <td>91</td>\n",
       "      <td>2U4GBNA0YmlixJ6lhgS6xB2tqdo7SEhoYyHlVu18akkAzL...</td>\n",
       "      <td>tpp</td>\n",
       "      <td>1</td>\n",
       "      <td>0</td>\n",
       "      <td>0</td>\n",
       "      <td>0.000000</td>\n",
       "      <td>170.954788</td>\n",
       "      <td>0</td>\n",
       "      <td>...</td>\n",
       "      <td>NaN</td>\n",
       "      <td>NaN</td>\n",
       "      <td>NaN</td>\n",
       "      <td>NaN</td>\n",
       "      <td>ERANGEL</td>\n",
       "      <td>NaN</td>\n",
       "      <td>NaN</td>\n",
       "      <td>NaN</td>\n",
       "      <td>NaN</td>\n",
       "      <td>NaN</td>\n",
       "    </tr>\n",
       "    <tr>\n",
       "      <th>1</th>\n",
       "      <td>2017-11-19T08:28:59+0000</td>\n",
       "      <td>91</td>\n",
       "      <td>2U4GBNA0YmlixJ6lhgS6xB2tqdo7SEhoYyHlVu18akkAzL...</td>\n",
       "      <td>tpp</td>\n",
       "      <td>1</td>\n",
       "      <td>0</td>\n",
       "      <td>0</td>\n",
       "      <td>0.000000</td>\n",
       "      <td>66.545590</td>\n",
       "      <td>0</td>\n",
       "      <td>...</td>\n",
       "      <td>NaN</td>\n",
       "      <td>NaN</td>\n",
       "      <td>NaN</td>\n",
       "      <td>NaN</td>\n",
       "      <td>ERANGEL</td>\n",
       "      <td>NaN</td>\n",
       "      <td>NaN</td>\n",
       "      <td>NaN</td>\n",
       "      <td>NaN</td>\n",
       "      <td>NaN</td>\n",
       "    </tr>\n",
       "    <tr>\n",
       "      <th>2</th>\n",
       "      <td>2017-11-19T08:28:59+0000</td>\n",
       "      <td>91</td>\n",
       "      <td>2U4GBNA0YmlixJ6lhgS6xB2tqdo7SEhoYyHlVu18akkAzL...</td>\n",
       "      <td>tpp</td>\n",
       "      <td>1</td>\n",
       "      <td>0</td>\n",
       "      <td>0</td>\n",
       "      <td>728.722656</td>\n",
       "      <td>610.168945</td>\n",
       "      <td>124</td>\n",
       "      <td>...</td>\n",
       "      <td>NaN</td>\n",
       "      <td>NaN</td>\n",
       "      <td>NaN</td>\n",
       "      <td>NaN</td>\n",
       "      <td>ERANGEL</td>\n",
       "      <td>NaN</td>\n",
       "      <td>NaN</td>\n",
       "      <td>NaN</td>\n",
       "      <td>NaN</td>\n",
       "      <td>NaN</td>\n",
       "    </tr>\n",
       "    <tr>\n",
       "      <th>3</th>\n",
       "      <td>2017-11-19T08:28:59+0000</td>\n",
       "      <td>91</td>\n",
       "      <td>2U4GBNA0YmlixJ6lhgS6xB2tqdo7SEhoYyHlVu18akkAzL...</td>\n",
       "      <td>tpp</td>\n",
       "      <td>1</td>\n",
       "      <td>0</td>\n",
       "      <td>0</td>\n",
       "      <td>2646.184000</td>\n",
       "      <td>1431.292000</td>\n",
       "      <td>24</td>\n",
       "      <td>...</td>\n",
       "      <td>NaN</td>\n",
       "      <td>NaN</td>\n",
       "      <td>NaN</td>\n",
       "      <td>NaN</td>\n",
       "      <td>ERANGEL</td>\n",
       "      <td>NaN</td>\n",
       "      <td>NaN</td>\n",
       "      <td>NaN</td>\n",
       "      <td>NaN</td>\n",
       "      <td>NaN</td>\n",
       "    </tr>\n",
       "    <tr>\n",
       "      <th>4</th>\n",
       "      <td>2017-11-19T08:28:59+0000</td>\n",
       "      <td>91</td>\n",
       "      <td>2U4GBNA0YmlixJ6lhgS6xB2tqdo7SEhoYyHlVu18akkAzL...</td>\n",
       "      <td>tpp</td>\n",
       "      <td>1</td>\n",
       "      <td>0</td>\n",
       "      <td>0</td>\n",
       "      <td>0.000000</td>\n",
       "      <td>723.102300</td>\n",
       "      <td>100</td>\n",
       "      <td>...</td>\n",
       "      <td>M16A4</td>\n",
       "      <td>47.0</td>\n",
       "      <td>296314.6</td>\n",
       "      <td>302359.5</td>\n",
       "      <td>ERANGEL</td>\n",
       "      <td>297.0</td>\n",
       "      <td>DzzzZZZZP</td>\n",
       "      <td>66.0</td>\n",
       "      <td>295531.2</td>\n",
       "      <td>304050.2</td>\n",
       "    </tr>\n",
       "  </tbody>\n",
       "</table>\n",
       "<p>5 rows × 25 columns</p>\n",
       "</div>"
      ],
      "text/plain": [
       "                       date  game_size  \\\n",
       "0  2017-11-19T08:28:59+0000         91   \n",
       "1  2017-11-19T08:28:59+0000         91   \n",
       "2  2017-11-19T08:28:59+0000         91   \n",
       "3  2017-11-19T08:28:59+0000         91   \n",
       "4  2017-11-19T08:28:59+0000         91   \n",
       "\n",
       "                                            match_id match_mode  party_size  \\\n",
       "0  2U4GBNA0YmlixJ6lhgS6xB2tqdo7SEhoYyHlVu18akkAzL...        tpp           1   \n",
       "1  2U4GBNA0YmlixJ6lhgS6xB2tqdo7SEhoYyHlVu18akkAzL...        tpp           1   \n",
       "2  2U4GBNA0YmlixJ6lhgS6xB2tqdo7SEhoYyHlVu18akkAzL...        tpp           1   \n",
       "3  2U4GBNA0YmlixJ6lhgS6xB2tqdo7SEhoYyHlVu18akkAzL...        tpp           1   \n",
       "4  2U4GBNA0YmlixJ6lhgS6xB2tqdo7SEhoYyHlVu18akkAzL...        tpp           1   \n",
       "\n",
       "   player_assists  player_dbno  player_dist_ride  player_dist_walk  \\\n",
       "0               0            0          0.000000        170.954788   \n",
       "1               0            0          0.000000         66.545590   \n",
       "2               0            0        728.722656        610.168945   \n",
       "3               0            0       2646.184000       1431.292000   \n",
       "4               0            0          0.000000        723.102300   \n",
       "\n",
       "   player_dmg  ...  killed_by killer_placement  killer_position_x  \\\n",
       "0           0  ...        NaN              NaN                NaN   \n",
       "1           0  ...        NaN              NaN                NaN   \n",
       "2         124  ...        NaN              NaN                NaN   \n",
       "3          24  ...        NaN              NaN                NaN   \n",
       "4         100  ...      M16A4             47.0           296314.6   \n",
       "\n",
       "   killer_position_y      map   time  victim_name  victim_placement  \\\n",
       "0                NaN  ERANGEL    NaN          NaN               NaN   \n",
       "1                NaN  ERANGEL    NaN          NaN               NaN   \n",
       "2                NaN  ERANGEL    NaN          NaN               NaN   \n",
       "3                NaN  ERANGEL    NaN          NaN               NaN   \n",
       "4           302359.5  ERANGEL  297.0    DzzzZZZZP              66.0   \n",
       "\n",
       "   victim_position_x victim_position_y  \n",
       "0                NaN               NaN  \n",
       "1                NaN               NaN  \n",
       "2                NaN               NaN  \n",
       "3                NaN               NaN  \n",
       "4           295531.2          304050.2  \n",
       "\n",
       "[5 rows x 25 columns]"
      ]
     },
     "execution_count": 5,
     "metadata": {},
     "output_type": "execute_result"
    }
   ],
   "source": [
    "E_solo.head()"
   ]
  },
  {
   "cell_type": "code",
   "execution_count": 6,
   "id": "a62eabbe-363d-476b-b570-7ac93e4a2d82",
   "metadata": {
    "tags": []
   },
   "outputs": [
    {
     "data": {
      "text/html": [
       "<div>\n",
       "<style scoped>\n",
       "    .dataframe tbody tr th:only-of-type {\n",
       "        vertical-align: middle;\n",
       "    }\n",
       "\n",
       "    .dataframe tbody tr th {\n",
       "        vertical-align: top;\n",
       "    }\n",
       "\n",
       "    .dataframe thead th {\n",
       "        text-align: right;\n",
       "    }\n",
       "</style>\n",
       "<table border=\"1\" class=\"dataframe\">\n",
       "  <thead>\n",
       "    <tr style=\"text-align: right;\">\n",
       "      <th></th>\n",
       "      <th>date</th>\n",
       "      <th>game_size</th>\n",
       "      <th>match_id</th>\n",
       "      <th>match_mode</th>\n",
       "      <th>party_size</th>\n",
       "      <th>player_assists</th>\n",
       "      <th>player_dbno</th>\n",
       "      <th>player_dist_ride</th>\n",
       "      <th>player_dist_walk</th>\n",
       "      <th>player_dmg</th>\n",
       "      <th>...</th>\n",
       "      <th>killed_by</th>\n",
       "      <th>killer_placement</th>\n",
       "      <th>killer_position_x</th>\n",
       "      <th>killer_position_y</th>\n",
       "      <th>map</th>\n",
       "      <th>time</th>\n",
       "      <th>victim_name</th>\n",
       "      <th>victim_placement</th>\n",
       "      <th>victim_position_x</th>\n",
       "      <th>victim_position_y</th>\n",
       "    </tr>\n",
       "  </thead>\n",
       "  <tbody>\n",
       "    <tr>\n",
       "      <th>0</th>\n",
       "      <td>2017-12-30T10:44:20+0000</td>\n",
       "      <td>85</td>\n",
       "      <td>2U4GBNA0YmkvCmIao1jSik4oZSUnd8bzeMgA1H7GSnDkUa...</td>\n",
       "      <td>tpp</td>\n",
       "      <td>1</td>\n",
       "      <td>2</td>\n",
       "      <td>0</td>\n",
       "      <td>0.0000</td>\n",
       "      <td>2093.24900</td>\n",
       "      <td>110</td>\n",
       "      <td>...</td>\n",
       "      <td>NaN</td>\n",
       "      <td>NaN</td>\n",
       "      <td>NaN</td>\n",
       "      <td>NaN</td>\n",
       "      <td>MIRAMAR</td>\n",
       "      <td>NaN</td>\n",
       "      <td>NaN</td>\n",
       "      <td>NaN</td>\n",
       "      <td>NaN</td>\n",
       "      <td>NaN</td>\n",
       "    </tr>\n",
       "    <tr>\n",
       "      <th>1</th>\n",
       "      <td>2017-12-30T10:44:20+0000</td>\n",
       "      <td>85</td>\n",
       "      <td>2U4GBNA0YmkvCmIao1jSik4oZSUnd8bzeMgA1H7GSnDkUa...</td>\n",
       "      <td>tpp</td>\n",
       "      <td>1</td>\n",
       "      <td>0</td>\n",
       "      <td>0</td>\n",
       "      <td>0.0000</td>\n",
       "      <td>166.62450</td>\n",
       "      <td>0</td>\n",
       "      <td>...</td>\n",
       "      <td>NaN</td>\n",
       "      <td>NaN</td>\n",
       "      <td>NaN</td>\n",
       "      <td>NaN</td>\n",
       "      <td>MIRAMAR</td>\n",
       "      <td>NaN</td>\n",
       "      <td>NaN</td>\n",
       "      <td>NaN</td>\n",
       "      <td>NaN</td>\n",
       "      <td>NaN</td>\n",
       "    </tr>\n",
       "    <tr>\n",
       "      <th>2</th>\n",
       "      <td>2017-12-30T10:44:20+0000</td>\n",
       "      <td>85</td>\n",
       "      <td>2U4GBNA0YmkvCmIao1jSik4oZSUnd8bzeMgA1H7GSnDkUa...</td>\n",
       "      <td>tpp</td>\n",
       "      <td>1</td>\n",
       "      <td>0</td>\n",
       "      <td>0</td>\n",
       "      <td>513.7829</td>\n",
       "      <td>2472.66870</td>\n",
       "      <td>100</td>\n",
       "      <td>...</td>\n",
       "      <td>AKM</td>\n",
       "      <td>22.0</td>\n",
       "      <td>319200.7</td>\n",
       "      <td>340021.9</td>\n",
       "      <td>MIRAMAR</td>\n",
       "      <td>265.0</td>\n",
       "      <td>tjboby11</td>\n",
       "      <td>59.0</td>\n",
       "      <td>320995.9</td>\n",
       "      <td>339918.6</td>\n",
       "    </tr>\n",
       "    <tr>\n",
       "      <th>3</th>\n",
       "      <td>2017-12-30T10:44:20+0000</td>\n",
       "      <td>85</td>\n",
       "      <td>2U4GBNA0YmkvCmIao1jSik4oZSUnd8bzeMgA1H7GSnDkUa...</td>\n",
       "      <td>tpp</td>\n",
       "      <td>1</td>\n",
       "      <td>0</td>\n",
       "      <td>0</td>\n",
       "      <td>0.0000</td>\n",
       "      <td>50.22462</td>\n",
       "      <td>22</td>\n",
       "      <td>...</td>\n",
       "      <td>NaN</td>\n",
       "      <td>NaN</td>\n",
       "      <td>NaN</td>\n",
       "      <td>NaN</td>\n",
       "      <td>MIRAMAR</td>\n",
       "      <td>NaN</td>\n",
       "      <td>NaN</td>\n",
       "      <td>NaN</td>\n",
       "      <td>NaN</td>\n",
       "      <td>NaN</td>\n",
       "    </tr>\n",
       "    <tr>\n",
       "      <th>4</th>\n",
       "      <td>2017-12-30T10:44:20+0000</td>\n",
       "      <td>85</td>\n",
       "      <td>2U4GBNA0YmkvCmIao1jSik4oZSUnd8bzeMgA1H7GSnDkUa...</td>\n",
       "      <td>tpp</td>\n",
       "      <td>1</td>\n",
       "      <td>0</td>\n",
       "      <td>0</td>\n",
       "      <td>0.0000</td>\n",
       "      <td>87.91814</td>\n",
       "      <td>61</td>\n",
       "      <td>...</td>\n",
       "      <td>Win94</td>\n",
       "      <td>63.0</td>\n",
       "      <td>371892.2</td>\n",
       "      <td>424208.3</td>\n",
       "      <td>MIRAMAR</td>\n",
       "      <td>134.0</td>\n",
       "      <td>hjlkghxfhgfd</td>\n",
       "      <td>72.0</td>\n",
       "      <td>371039.0</td>\n",
       "      <td>424247.1</td>\n",
       "    </tr>\n",
       "  </tbody>\n",
       "</table>\n",
       "<p>5 rows × 25 columns</p>\n",
       "</div>"
      ],
      "text/plain": [
       "                       date  game_size  \\\n",
       "0  2017-12-30T10:44:20+0000         85   \n",
       "1  2017-12-30T10:44:20+0000         85   \n",
       "2  2017-12-30T10:44:20+0000         85   \n",
       "3  2017-12-30T10:44:20+0000         85   \n",
       "4  2017-12-30T10:44:20+0000         85   \n",
       "\n",
       "                                            match_id match_mode  party_size  \\\n",
       "0  2U4GBNA0YmkvCmIao1jSik4oZSUnd8bzeMgA1H7GSnDkUa...        tpp           1   \n",
       "1  2U4GBNA0YmkvCmIao1jSik4oZSUnd8bzeMgA1H7GSnDkUa...        tpp           1   \n",
       "2  2U4GBNA0YmkvCmIao1jSik4oZSUnd8bzeMgA1H7GSnDkUa...        tpp           1   \n",
       "3  2U4GBNA0YmkvCmIao1jSik4oZSUnd8bzeMgA1H7GSnDkUa...        tpp           1   \n",
       "4  2U4GBNA0YmkvCmIao1jSik4oZSUnd8bzeMgA1H7GSnDkUa...        tpp           1   \n",
       "\n",
       "   player_assists  player_dbno  player_dist_ride  player_dist_walk  \\\n",
       "0               2            0            0.0000        2093.24900   \n",
       "1               0            0            0.0000         166.62450   \n",
       "2               0            0          513.7829        2472.66870   \n",
       "3               0            0            0.0000          50.22462   \n",
       "4               0            0            0.0000          87.91814   \n",
       "\n",
       "   player_dmg  ...  killed_by killer_placement  killer_position_x  \\\n",
       "0         110  ...        NaN              NaN                NaN   \n",
       "1           0  ...        NaN              NaN                NaN   \n",
       "2         100  ...        AKM             22.0           319200.7   \n",
       "3          22  ...        NaN              NaN                NaN   \n",
       "4          61  ...      Win94             63.0           371892.2   \n",
       "\n",
       "   killer_position_y      map   time   victim_name  victim_placement  \\\n",
       "0                NaN  MIRAMAR    NaN           NaN               NaN   \n",
       "1                NaN  MIRAMAR    NaN           NaN               NaN   \n",
       "2           340021.9  MIRAMAR  265.0      tjboby11              59.0   \n",
       "3                NaN  MIRAMAR    NaN           NaN               NaN   \n",
       "4           424208.3  MIRAMAR  134.0  hjlkghxfhgfd              72.0   \n",
       "\n",
       "   victim_position_x victim_position_y  \n",
       "0                NaN               NaN  \n",
       "1                NaN               NaN  \n",
       "2           320995.9          339918.6  \n",
       "3                NaN               NaN  \n",
       "4           371039.0          424247.1  \n",
       "\n",
       "[5 rows x 25 columns]"
      ]
     },
     "execution_count": 6,
     "metadata": {},
     "output_type": "execute_result"
    }
   ],
   "source": [
    "M_solo.head()"
   ]
  },
  {
   "cell_type": "markdown",
   "id": "a2e8105f-1499-45b2-b92b-5bc3b9830961",
   "metadata": {},
   "source": [
    "## 데이터 셋 내에서 같은 값들로만 이루어진 컬럼 확인"
   ]
  },
  {
   "cell_type": "code",
   "execution_count": 14,
   "id": "632bd65b-30e6-4a11-8328-2f6d611ee7c1",
   "metadata": {
    "collapsed": true,
    "jupyter": {
     "outputs_hidden": true
    },
    "tags": []
   },
   "outputs": [
    {
     "data": {
      "text/plain": [
       "Index(['date', 'game_size', 'match_id', 'match_mode', 'party_size',\n",
       "       'player_assists', 'player_dbno', 'player_dist_ride', 'player_dist_walk',\n",
       "       'player_dmg', 'player_kills', 'player_name', 'player_survive_time',\n",
       "       'team_id', 'team_placement', 'killed_by', 'killer_placement',\n",
       "       'killer_position_x', 'killer_position_y', 'map', 'time', 'victim_name',\n",
       "       'victim_placement', 'victim_position_x', 'victim_position_y'],\n",
       "      dtype='object')"
      ]
     },
     "execution_count": 14,
     "metadata": {},
     "output_type": "execute_result"
    }
   ],
   "source": [
    "E_solo.columns"
   ]
  },
  {
   "cell_type": "code",
   "execution_count": 15,
   "id": "514054db-6866-4b7d-85b9-5c9f93b7033b",
   "metadata": {
    "collapsed": true,
    "jupyter": {
     "outputs_hidden": true
    },
    "tags": []
   },
   "outputs": [
    {
     "data": {
      "text/plain": [
       "array(['tpp'], dtype=object)"
      ]
     },
     "execution_count": 15,
     "metadata": {},
     "output_type": "execute_result"
    }
   ],
   "source": [
    "E_solo['match_mode'].unique()"
   ]
  },
  {
   "cell_type": "code",
   "execution_count": 16,
   "id": "69923158-f504-45bc-b73e-b6dc67ea3aaf",
   "metadata": {
    "collapsed": true,
    "jupyter": {
     "outputs_hidden": true
    },
    "tags": []
   },
   "outputs": [
    {
     "data": {
      "text/plain": [
       "array([1], dtype=int64)"
      ]
     },
     "execution_count": 16,
     "metadata": {},
     "output_type": "execute_result"
    }
   ],
   "source": [
    "E_solo['party_size'].unique()"
   ]
  },
  {
   "cell_type": "code",
   "execution_count": 17,
   "id": "dbf80f0d-2e44-4c86-acb2-a651995e735b",
   "metadata": {
    "collapsed": true,
    "jupyter": {
     "outputs_hidden": true
    },
    "tags": []
   },
   "outputs": [
    {
     "data": {
      "text/plain": [
       "array([0], dtype=int64)"
      ]
     },
     "execution_count": 17,
     "metadata": {},
     "output_type": "execute_result"
    }
   ],
   "source": [
    "E_solo['player_dbno'].unique()"
   ]
  },
  {
   "cell_type": "code",
   "execution_count": 19,
   "id": "32337dc6-37c3-4495-bef0-90ef6a4c4019",
   "metadata": {
    "collapsed": true,
    "jupyter": {
     "outputs_hidden": true
    },
    "tags": []
   },
   "outputs": [
    {
     "data": {
      "text/plain": [
       "Index(['date', 'game_size', 'match_id', 'match_mode', 'party_size',\n",
       "       'player_assists', 'player_dbno', 'player_dist_ride', 'player_dist_walk',\n",
       "       'player_dmg', 'player_kills', 'player_name', 'player_survive_time',\n",
       "       'team_id', 'team_placement', 'killed_by', 'killer_placement',\n",
       "       'killer_position_x', 'killer_position_y', 'map', 'time', 'victim_name',\n",
       "       'victim_placement', 'victim_position_x', 'victim_position_y'],\n",
       "      dtype='object')"
      ]
     },
     "execution_count": 19,
     "metadata": {},
     "output_type": "execute_result"
    }
   ],
   "source": [
    "M_solo.columns"
   ]
  },
  {
   "cell_type": "code",
   "execution_count": 20,
   "id": "74cf1ae8-0010-4809-a1f6-e6668468a92c",
   "metadata": {
    "collapsed": true,
    "jupyter": {
     "outputs_hidden": true
    },
    "tags": []
   },
   "outputs": [
    {
     "data": {
      "text/plain": [
       "array(['tpp'], dtype=object)"
      ]
     },
     "execution_count": 20,
     "metadata": {},
     "output_type": "execute_result"
    }
   ],
   "source": [
    "M_solo['match_mode'].unique()"
   ]
  },
  {
   "cell_type": "code",
   "execution_count": 21,
   "id": "c5457da3-317e-4a84-b8d7-848de75fe782",
   "metadata": {
    "collapsed": true,
    "jupyter": {
     "outputs_hidden": true
    },
    "tags": []
   },
   "outputs": [
    {
     "data": {
      "text/plain": [
       "array([1], dtype=int64)"
      ]
     },
     "execution_count": 21,
     "metadata": {},
     "output_type": "execute_result"
    }
   ],
   "source": [
    "M_solo['party_size'].unique()"
   ]
  },
  {
   "cell_type": "code",
   "execution_count": 22,
   "id": "09db08ee-fc09-44b9-abca-033b09c9387e",
   "metadata": {
    "collapsed": true,
    "jupyter": {
     "outputs_hidden": true
    },
    "tags": []
   },
   "outputs": [
    {
     "data": {
      "text/plain": [
       "array([0], dtype=int64)"
      ]
     },
     "execution_count": 22,
     "metadata": {},
     "output_type": "execute_result"
    }
   ],
   "source": [
    "M_solo['player_dbno'].unique()"
   ]
  },
  {
   "cell_type": "markdown",
   "id": "d2c55a30-25de-4961-8f6c-9b1adeeaa10e",
   "metadata": {},
   "source": [
    "### 동일한 값들만 가지는 컬럼을 제외한 새로운 데이터셋 생성"
   ]
  },
  {
   "cell_type": "code",
   "execution_count": 7,
   "id": "a78daac4-0757-4ba3-b83a-a996b7971bee",
   "metadata": {},
   "outputs": [],
   "source": [
    "E_solo_T = E_solo[['date', 'game_size', 'match_id', \n",
    "                   'player_assists', 'player_dist_ride', 'player_dist_walk',\n",
    "                   'player_dmg', 'player_kills', 'player_name', 'player_survive_time',\n",
    "                   'team_id', 'team_placement', 'killed_by', 'killer_placement',\n",
    "                   'killer_position_x', 'killer_position_y', 'map', 'time', 'victim_name',\n",
    "                   'victim_placement', 'victim_position_x', 'victim_position_y']]"
   ]
  },
  {
   "cell_type": "code",
   "execution_count": 8,
   "id": "d2a38986-e546-4f1b-bea9-b3b891e23771",
   "metadata": {},
   "outputs": [],
   "source": [
    "M_solo_T = M_solo[['date', 'game_size', 'match_id', \n",
    "                   'player_assists', 'player_dist_ride', 'player_dist_walk',\n",
    "                   'player_dmg', 'player_kills', 'player_name', 'player_survive_time',\n",
    "                   'team_id', 'team_placement', 'killed_by', 'killer_placement',\n",
    "                   'killer_position_x', 'killer_position_y', 'map', 'time', 'victim_name',\n",
    "                   'victim_placement', 'victim_position_x', 'victim_position_y']]"
   ]
  },
  {
   "cell_type": "code",
   "execution_count": 26,
   "id": "a8f97a25-ecf9-4b25-b7d2-8e70b4132d93",
   "metadata": {
    "collapsed": true,
    "jupyter": {
     "outputs_hidden": true
    },
    "tags": []
   },
   "outputs": [
    {
     "data": {
      "text/html": [
       "<div>\n",
       "<style scoped>\n",
       "    .dataframe tbody tr th:only-of-type {\n",
       "        vertical-align: middle;\n",
       "    }\n",
       "\n",
       "    .dataframe tbody tr th {\n",
       "        vertical-align: top;\n",
       "    }\n",
       "\n",
       "    .dataframe thead th {\n",
       "        text-align: right;\n",
       "    }\n",
       "</style>\n",
       "<table border=\"1\" class=\"dataframe\">\n",
       "  <thead>\n",
       "    <tr style=\"text-align: right;\">\n",
       "      <th></th>\n",
       "      <th>date</th>\n",
       "      <th>game_size</th>\n",
       "      <th>match_id</th>\n",
       "      <th>player_assists</th>\n",
       "      <th>player_dist_ride</th>\n",
       "      <th>player_dist_walk</th>\n",
       "      <th>player_dmg</th>\n",
       "      <th>player_kills</th>\n",
       "      <th>player_name</th>\n",
       "      <th>player_survive_time</th>\n",
       "      <th>team_id</th>\n",
       "      <th>team_placement</th>\n",
       "      <th>killed_by</th>\n",
       "      <th>killer_placement</th>\n",
       "      <th>killer_position_x</th>\n",
       "      <th>killer_position_y</th>\n",
       "      <th>time</th>\n",
       "      <th>victim_name</th>\n",
       "      <th>victim_placement</th>\n",
       "      <th>victim_position_x</th>\n",
       "      <th>victim_position_y</th>\n",
       "    </tr>\n",
       "  </thead>\n",
       "  <tbody>\n",
       "    <tr>\n",
       "      <th>0</th>\n",
       "      <td>2017-11-19T08:28:59+0000</td>\n",
       "      <td>91</td>\n",
       "      <td>2U4GBNA0YmlixJ6lhgS6xB2tqdo7SEhoYyHlVu18akkAzL...</td>\n",
       "      <td>0</td>\n",
       "      <td>0.000000</td>\n",
       "      <td>170.954788</td>\n",
       "      <td>0</td>\n",
       "      <td>0</td>\n",
       "      <td>Satch</td>\n",
       "      <td>186.999</td>\n",
       "      <td>100004</td>\n",
       "      <td>79</td>\n",
       "      <td>NaN</td>\n",
       "      <td>NaN</td>\n",
       "      <td>NaN</td>\n",
       "      <td>NaN</td>\n",
       "      <td>NaN</td>\n",
       "      <td>NaN</td>\n",
       "      <td>NaN</td>\n",
       "      <td>NaN</td>\n",
       "      <td>NaN</td>\n",
       "    </tr>\n",
       "    <tr>\n",
       "      <th>1</th>\n",
       "      <td>2017-11-19T08:28:59+0000</td>\n",
       "      <td>91</td>\n",
       "      <td>2U4GBNA0YmlixJ6lhgS6xB2tqdo7SEhoYyHlVu18akkAzL...</td>\n",
       "      <td>0</td>\n",
       "      <td>0.000000</td>\n",
       "      <td>66.545590</td>\n",
       "      <td>0</td>\n",
       "      <td>0</td>\n",
       "      <td>osamabinlaggon</td>\n",
       "      <td>124.782</td>\n",
       "      <td>100005</td>\n",
       "      <td>87</td>\n",
       "      <td>NaN</td>\n",
       "      <td>NaN</td>\n",
       "      <td>NaN</td>\n",
       "      <td>NaN</td>\n",
       "      <td>NaN</td>\n",
       "      <td>NaN</td>\n",
       "      <td>NaN</td>\n",
       "      <td>NaN</td>\n",
       "      <td>NaN</td>\n",
       "    </tr>\n",
       "    <tr>\n",
       "      <th>2</th>\n",
       "      <td>2017-11-19T08:28:59+0000</td>\n",
       "      <td>91</td>\n",
       "      <td>2U4GBNA0YmlixJ6lhgS6xB2tqdo7SEhoYyHlVu18akkAzL...</td>\n",
       "      <td>0</td>\n",
       "      <td>728.722656</td>\n",
       "      <td>610.168945</td>\n",
       "      <td>124</td>\n",
       "      <td>0</td>\n",
       "      <td>dengboyu76</td>\n",
       "      <td>839.161</td>\n",
       "      <td>100006</td>\n",
       "      <td>35</td>\n",
       "      <td>NaN</td>\n",
       "      <td>NaN</td>\n",
       "      <td>NaN</td>\n",
       "      <td>NaN</td>\n",
       "      <td>NaN</td>\n",
       "      <td>NaN</td>\n",
       "      <td>NaN</td>\n",
       "      <td>NaN</td>\n",
       "      <td>NaN</td>\n",
       "    </tr>\n",
       "    <tr>\n",
       "      <th>3</th>\n",
       "      <td>2017-11-19T08:28:59+0000</td>\n",
       "      <td>91</td>\n",
       "      <td>2U4GBNA0YmlixJ6lhgS6xB2tqdo7SEhoYyHlVu18akkAzL...</td>\n",
       "      <td>0</td>\n",
       "      <td>2646.184000</td>\n",
       "      <td>1431.292000</td>\n",
       "      <td>24</td>\n",
       "      <td>0</td>\n",
       "      <td>GOGingmimi</td>\n",
       "      <td>751.716</td>\n",
       "      <td>100007</td>\n",
       "      <td>46</td>\n",
       "      <td>NaN</td>\n",
       "      <td>NaN</td>\n",
       "      <td>NaN</td>\n",
       "      <td>NaN</td>\n",
       "      <td>NaN</td>\n",
       "      <td>NaN</td>\n",
       "      <td>NaN</td>\n",
       "      <td>NaN</td>\n",
       "      <td>NaN</td>\n",
       "    </tr>\n",
       "    <tr>\n",
       "      <th>4</th>\n",
       "      <td>2017-11-19T08:28:59+0000</td>\n",
       "      <td>91</td>\n",
       "      <td>2U4GBNA0YmlixJ6lhgS6xB2tqdo7SEhoYyHlVu18akkAzL...</td>\n",
       "      <td>0</td>\n",
       "      <td>0.000000</td>\n",
       "      <td>723.102300</td>\n",
       "      <td>100</td>\n",
       "      <td>1</td>\n",
       "      <td>AtomicBrunette</td>\n",
       "      <td>744.088</td>\n",
       "      <td>100011</td>\n",
       "      <td>47</td>\n",
       "      <td>M16A4</td>\n",
       "      <td>47.0</td>\n",
       "      <td>296314.6</td>\n",
       "      <td>302359.5</td>\n",
       "      <td>297.0</td>\n",
       "      <td>DzzzZZZZP</td>\n",
       "      <td>66.0</td>\n",
       "      <td>295531.2</td>\n",
       "      <td>304050.2</td>\n",
       "    </tr>\n",
       "  </tbody>\n",
       "</table>\n",
       "</div>"
      ],
      "text/plain": [
       "                       date  game_size  \\\n",
       "0  2017-11-19T08:28:59+0000         91   \n",
       "1  2017-11-19T08:28:59+0000         91   \n",
       "2  2017-11-19T08:28:59+0000         91   \n",
       "3  2017-11-19T08:28:59+0000         91   \n",
       "4  2017-11-19T08:28:59+0000         91   \n",
       "\n",
       "                                            match_id  player_assists  \\\n",
       "0  2U4GBNA0YmlixJ6lhgS6xB2tqdo7SEhoYyHlVu18akkAzL...               0   \n",
       "1  2U4GBNA0YmlixJ6lhgS6xB2tqdo7SEhoYyHlVu18akkAzL...               0   \n",
       "2  2U4GBNA0YmlixJ6lhgS6xB2tqdo7SEhoYyHlVu18akkAzL...               0   \n",
       "3  2U4GBNA0YmlixJ6lhgS6xB2tqdo7SEhoYyHlVu18akkAzL...               0   \n",
       "4  2U4GBNA0YmlixJ6lhgS6xB2tqdo7SEhoYyHlVu18akkAzL...               0   \n",
       "\n",
       "   player_dist_ride  player_dist_walk  player_dmg  player_kills  \\\n",
       "0          0.000000        170.954788           0             0   \n",
       "1          0.000000         66.545590           0             0   \n",
       "2        728.722656        610.168945         124             0   \n",
       "3       2646.184000       1431.292000          24             0   \n",
       "4          0.000000        723.102300         100             1   \n",
       "\n",
       "      player_name  player_survive_time  team_id  team_placement killed_by  \\\n",
       "0           Satch              186.999   100004              79       NaN   \n",
       "1  osamabinlaggon              124.782   100005              87       NaN   \n",
       "2      dengboyu76              839.161   100006              35       NaN   \n",
       "3      GOGingmimi              751.716   100007              46       NaN   \n",
       "4  AtomicBrunette              744.088   100011              47     M16A4   \n",
       "\n",
       "   killer_placement  killer_position_x  killer_position_y   time victim_name  \\\n",
       "0               NaN                NaN                NaN    NaN         NaN   \n",
       "1               NaN                NaN                NaN    NaN         NaN   \n",
       "2               NaN                NaN                NaN    NaN         NaN   \n",
       "3               NaN                NaN                NaN    NaN         NaN   \n",
       "4              47.0           296314.6           302359.5  297.0   DzzzZZZZP   \n",
       "\n",
       "   victim_placement  victim_position_x  victim_position_y  \n",
       "0               NaN                NaN                NaN  \n",
       "1               NaN                NaN                NaN  \n",
       "2               NaN                NaN                NaN  \n",
       "3               NaN                NaN                NaN  \n",
       "4              66.0           295531.2           304050.2  "
      ]
     },
     "execution_count": 26,
     "metadata": {},
     "output_type": "execute_result"
    }
   ],
   "source": [
    "pd.set_option('display.max_columns', None)\n",
    "E_solo_T.head(5)"
   ]
  },
  {
   "cell_type": "markdown",
   "id": "484360be-5108-44e0-85f2-94696b231ebf",
   "metadata": {},
   "source": [
    "### NA 확인"
   ]
  },
  {
   "cell_type": "markdown",
   "id": "4cbb8389-ca67-4abf-94d7-4cf781f8446e",
   "metadata": {},
   "source": [
    "#### E_solo Na 확인"
   ]
  },
  {
   "cell_type": "code",
   "execution_count": 9,
   "id": "db0eb64f-a89d-42ab-8c32-4212750c6d8d",
   "metadata": {},
   "outputs": [],
   "source": [
    "E_solo_T = E_solo_T.loc[E_solo_T['player_name'].isna() == False]"
   ]
  },
  {
   "cell_type": "markdown",
   "id": "0157bfa7-4738-4de9-bf1a-85d3a1a006d2",
   "metadata": {},
   "source": [
    "#### M_solo Na 확인"
   ]
  },
  {
   "cell_type": "code",
   "execution_count": 10,
   "id": "d713a014-0d71-4415-a7ee-4632dcf0749d",
   "metadata": {},
   "outputs": [],
   "source": [
    "M_solo_T = M_solo_T.loc[M_solo_T['player_name'].isna() == False]"
   ]
  },
  {
   "cell_type": "markdown",
   "id": "58764fd4-3f6f-4553-8cd1-687aae96118b",
   "metadata": {},
   "source": [
    "### Outlier 확인"
   ]
  },
  {
   "cell_type": "markdown",
   "id": "02b0592d-c3d0-4a43-bed1-2078b05c68a9",
   "metadata": {},
   "source": [
    "#### 1. E_solo Outlier 확인"
   ]
  },
  {
   "cell_type": "markdown",
   "id": "f48145c9-167a-405a-b9e8-a7b949daf519",
   "metadata": {},
   "source": [
    "##### 1. game_size 확인"
   ]
  },
  {
   "cell_type": "code",
   "execution_count": 30,
   "id": "72c3585d-d5ad-477c-97d9-3138dce960db",
   "metadata": {
    "collapsed": true,
    "jupyter": {
     "outputs_hidden": true
    },
    "tags": []
   },
   "outputs": [
    {
     "data": {
      "image/png": "[encoded data removed]",
      "text/plain": [
       "<Figure size 720x432 with 1 Axes>"
      ]
     },
     "metadata": {
      "needs_background": "light"
     },
     "output_type": "display_data"
    }
   ],
   "source": [
    "plt.figure(figsize = (10, 6))\n",
    "_ = plt.hist(E_solo_T['game_size'])"
   ]
  },
  {
   "cell_type": "code",
   "execution_count": 31,
   "id": "d4aa1de5-2e87-41e3-9e8a-56be7f8dc4ba",
   "metadata": {
    "collapsed": true,
    "jupyter": {
     "outputs_hidden": true
    },
    "tags": []
   },
   "outputs": [
    {
     "data": {
      "image/png": "[encoded data removed]",
      "text/plain": [
       "<Figure size 432x288 with 1 Axes>"
      ]
     },
     "metadata": {
      "needs_background": "light"
     },
     "output_type": "display_data"
    }
   ],
   "source": [
    "_ = sns.boxplot(x = 'game_size', data = E_solo_T)"
   ]
  },
  {
   "cell_type": "code",
   "execution_count": 32,
   "id": "81d3946e-1044-426b-9a22-157f89857b7c",
   "metadata": {},
   "outputs": [],
   "source": [
    "# game_size가 50 미만인 경우는 outlier로 판단?"
   ]
  },
  {
   "cell_type": "markdown",
   "id": "3ad2bd90-b983-47b3-8dfd-0edba93052bc",
   "metadata": {},
   "source": [
    "##### 2. player_assists 확인"
   ]
  },
  {
   "cell_type": "code",
   "execution_count": 33,
   "id": "20f3e7d9-b778-4e11-8dc8-24b7ac46b377",
   "metadata": {
    "collapsed": true,
    "jupyter": {
     "outputs_hidden": true
    },
    "tags": []
   },
   "outputs": [
    {
     "data": {
      "image/png": "[encoded data removed]",
      "text/plain": [
       "<Figure size 720x432 with 1 Axes>"
      ]
     },
     "metadata": {
      "needs_background": "light"
     },
     "output_type": "display_data"
    }
   ],
   "source": [
    "plt.figure(figsize = (10, 6))\n",
    "_ = plt.hist(E_solo_T['player_assists'])"
   ]
  },
  {
   "cell_type": "code",
   "execution_count": 34,
   "id": "6e66a46f-8a2d-4dd5-aa69-d878aa67241f",
   "metadata": {
    "collapsed": true,
    "jupyter": {
     "outputs_hidden": true
    },
    "tags": []
   },
   "outputs": [
    {
     "data": {
      "image/png": "[encoded data removed]",
      "text/plain": [
       "<Figure size 432x288 with 1 Axes>"
      ]
     },
     "metadata": {
      "needs_background": "light"
     },
     "output_type": "display_data"
    }
   ],
   "source": [
    "_ = sns.boxplot(x = 'player_assists', data = E_solo_T)"
   ]
  },
  {
   "cell_type": "code",
   "execution_count": 35,
   "id": "2a229ee6-228b-4173-95b6-14bc7667664a",
   "metadata": {},
   "outputs": [],
   "source": [
    "# solo 게임에서는 assist가 발생할 수 없으므로 0이 아닌 값은 outlier -> assist가 1값만 가지게 되므로 컬럼 drop"
   ]
  },
  {
   "cell_type": "markdown",
   "id": "2829c5ee-8073-4b7a-8807-301504e9ca19",
   "metadata": {},
   "source": [
    "##### 3. player_dist_ride 확인"
   ]
  },
  {
   "cell_type": "code",
   "execution_count": 36,
   "id": "550072b4-b7b2-482c-afdc-7f2ff9a12791",
   "metadata": {
    "collapsed": true,
    "jupyter": {
     "outputs_hidden": true
    },
    "tags": []
   },
   "outputs": [
    {
     "data": {
      "image/png": "[encoded data removed]",
      "text/plain": [
       "<Figure size 720x432 with 1 Axes>"
      ]
     },
     "metadata": {
      "needs_background": "light"
     },
     "output_type": "display_data"
    }
   ],
   "source": [
    "plt.figure(figsize = (10, 6))\n",
    "_ = plt.hist(E_solo_T['player_dist_ride'])"
   ]
  },
  {
   "cell_type": "code",
   "execution_count": 37,
   "id": "69609963-000c-41b1-a141-9a7c521af4dc",
   "metadata": {},
   "outputs": [
    {
     "data": {
      "text/plain": [
       "63647875100.0"
      ]
     },
     "execution_count": 37,
     "metadata": {},
     "output_type": "execute_result"
    }
   ],
   "source": [
    "E_solo_T['player_survive_time'].max()"
   ]
  },
  {
   "cell_type": "code",
   "execution_count": 38,
   "id": "028d9adb-202f-492f-a37e-45468e0e59a2",
   "metadata": {},
   "outputs": [
    {
     "data": {
      "text/plain": [
       "2218.204"
      ]
     },
     "execution_count": 38,
     "metadata": {},
     "output_type": "execute_result"
    }
   ],
   "source": [
    "M_solo_T['player_survive_time'].max()"
   ]
  },
  {
   "cell_type": "code",
   "execution_count": 39,
   "id": "43a1e7c5-ab95-46ba-9335-92d98a9e4bf6",
   "metadata": {
    "collapsed": true,
    "jupyter": {
     "outputs_hidden": true
    },
    "tags": []
   },
   "outputs": [
    {
     "data": {
      "image/png": "[encoded data removed]",
      "text/plain": [
       "<Figure size 432x288 with 1 Axes>"
      ]
     },
     "metadata": {
      "needs_background": "light"
     },
     "output_type": "display_data"
    }
   ],
   "source": [
    "_ = sns.boxplot(x = 'player_dist_ride', data = E_solo_T)"
   ]
  },
  {
   "cell_type": "code",
   "execution_count": 40,
   "id": "20d7ef2b-8783-479b-a5ed-0ede04cba96d",
   "metadata": {},
   "outputs": [],
   "source": [
    "# dist 컬럼들은 더욱 자세한 회의가 필요하다고 생각"
   ]
  },
  {
   "cell_type": "markdown",
   "id": "9376c719-e120-48a2-a12d-536f98972bed",
   "metadata": {},
   "source": [
    "##### 4. player_dist_walk 확인"
   ]
  },
  {
   "cell_type": "code",
   "execution_count": 41,
   "id": "4f270ee3-c7ce-41ae-ab5c-bb7b349b0b71",
   "metadata": {
    "collapsed": true,
    "jupyter": {
     "outputs_hidden": true
    },
    "tags": []
   },
   "outputs": [
    {
     "data": {
      "image/png": "[encoded data removed]",
      "text/plain": [
       "<Figure size 720x432 with 1 Axes>"
      ]
     },
     "metadata": {
      "needs_background": "light"
     },
     "output_type": "display_data"
    }
   ],
   "source": [
    "plt.figure(figsize = (10, 6))\n",
    "_ = plt.hist(E_solo_T['player_dist_walk'])"
   ]
  },
  {
   "cell_type": "code",
   "execution_count": 42,
   "id": "f337eea3-0839-4694-9edd-b7daa2d4cded",
   "metadata": {
    "collapsed": true,
    "jupyter": {
     "outputs_hidden": true
    },
    "tags": []
   },
   "outputs": [
    {
     "data": {
      "image/png": "[encoded data removed]",
      "text/plain": [
       "<Figure size 432x288 with 1 Axes>"
      ]
     },
     "metadata": {
      "needs_background": "light"
     },
     "output_type": "display_data"
    }
   ],
   "source": [
    "_ = sns.boxplot(x = 'player_dist_walk', data = E_solo_T)"
   ]
  },
  {
   "cell_type": "code",
   "execution_count": 43,
   "id": "8ee4361a-86fd-4eb9-b7d2-470dd05abe54",
   "metadata": {},
   "outputs": [],
   "source": [
    "# dist 컬럼들은 더욱 자세한 회의가 필요하다고 생각"
   ]
  },
  {
   "cell_type": "markdown",
   "id": "d3038467-8b13-41de-a45b-a8f16f15b0fa",
   "metadata": {},
   "source": [
    "##### 5. player_dmg 확인"
   ]
  },
  {
   "cell_type": "code",
   "execution_count": 44,
   "id": "3b065e7c-8a65-4297-a4f4-76771c2e2330",
   "metadata": {
    "collapsed": true,
    "jupyter": {
     "outputs_hidden": true
    },
    "tags": []
   },
   "outputs": [
    {
     "data": {
      "image/png": "[encoded data removed]",
      "text/plain": [
       "<Figure size 720x432 with 1 Axes>"
      ]
     },
     "metadata": {
      "needs_background": "light"
     },
     "output_type": "display_data"
    }
   ],
   "source": [
    "plt.figure(figsize = (10, 6))\n",
    "_ = plt.hist(E_solo_T['player_dmg'])"
   ]
  },
  {
   "cell_type": "code",
   "execution_count": 45,
   "id": "3e72de2a-0ff5-4b16-8e30-8c289f82f5c4",
   "metadata": {
    "collapsed": true,
    "jupyter": {
     "outputs_hidden": true
    },
    "tags": []
   },
   "outputs": [
    {
     "data": {
      "image/png": "[encoded data removed]",
      "text/plain": [
       "<Figure size 432x288 with 1 Axes>"
      ]
     },
     "metadata": {
      "needs_background": "light"
     },
     "output_type": "display_data"
    }
   ],
   "source": [
    "_ = sns.boxplot(x = 'player_dmg', data = E_solo_T)"
   ]
  },
  {
   "cell_type": "code",
   "execution_count": 46,
   "id": "4226a175-5f0e-408b-bc54-96dc92a5305a",
   "metadata": {},
   "outputs": [],
   "source": [
    "# player_kills에서 아웃라이어라고 판단하지 않은 유저들의 player_dmg값만 선택하여 outlier처리?"
   ]
  },
  {
   "cell_type": "markdown",
   "id": "c01e685b-456b-43bc-9511-420ea6579569",
   "metadata": {},
   "source": [
    "##### 6. player_kills 확인"
   ]
  },
  {
   "cell_type": "code",
   "execution_count": 47,
   "id": "7b411620-3e59-4d23-a63b-d75b7690b3bf",
   "metadata": {
    "collapsed": true,
    "jupyter": {
     "outputs_hidden": true
    },
    "tags": []
   },
   "outputs": [
    {
     "data": {
      "image/png": "[encoded data removed]",
      "text/plain": [
       "<Figure size 720x432 with 1 Axes>"
      ]
     },
     "metadata": {
      "needs_background": "light"
     },
     "output_type": "display_data"
    }
   ],
   "source": [
    "plt.figure(figsize = (10, 6))\n",
    "_ = plt.hist(E_solo_T['player_kills'])"
   ]
  },
  {
   "cell_type": "code",
   "execution_count": 48,
   "id": "b45bd51d-f6be-460b-a45d-e95d8f52b512",
   "metadata": {
    "collapsed": true,
    "jupyter": {
     "outputs_hidden": true
    },
    "tags": []
   },
   "outputs": [
    {
     "data": {
      "image/png": "[encoded data removed]",
      "text/plain": [
       "<Figure size 432x288 with 1 Axes>"
      ]
     },
     "metadata": {
      "needs_background": "light"
     },
     "output_type": "display_data"
    }
   ],
   "source": [
    "_ = sns.boxplot(x = 'player_kills', data = E_solo_T)"
   ]
  },
  {
   "cell_type": "code",
   "execution_count": 49,
   "id": "1bca6c4b-c9a7-42c5-824d-607c9c2d70f8",
   "metadata": {},
   "outputs": [],
   "source": [
    "# solo 게임에서 30킬 이상은 프로게이머들도 매우 드문 기록 - 30킬 이상은 outlier?"
   ]
  },
  {
   "cell_type": "markdown",
   "id": "6a69c083-7b32-4557-8620-dd264c5469b6",
   "metadata": {},
   "source": [
    "##### 7. player_survive_time 확인"
   ]
  },
  {
   "cell_type": "code",
   "execution_count": 50,
   "id": "7f02f797-1e30-417d-b977-30b7e0701bc5",
   "metadata": {
    "collapsed": true,
    "jupyter": {
     "outputs_hidden": true
    },
    "tags": []
   },
   "outputs": [
    {
     "data": {
      "image/png": "[encoded data removed]",
      "text/plain": [
       "<Figure size 720x432 with 1 Axes>"
      ]
     },
     "metadata": {
      "needs_background": "light"
     },
     "output_type": "display_data"
    }
   ],
   "source": [
    "plt.figure(figsize = (10, 6))\n",
    "_ = plt.hist(E_solo_T['player_survive_time'])"
   ]
  },
  {
   "cell_type": "code",
   "execution_count": 51,
   "id": "c7f8f05b-c175-40ff-8cfd-1dd7d144df53",
   "metadata": {
    "collapsed": true,
    "jupyter": {
     "outputs_hidden": true
    },
    "tags": []
   },
   "outputs": [
    {
     "data": {
      "image/png": "[encoded data removed]",
      "text/plain": [
       "<Figure size 432x288 with 1 Axes>"
      ]
     },
     "metadata": {
      "needs_background": "light"
     },
     "output_type": "display_data"
    }
   ],
   "source": [
    "_ = sns.boxplot(x = 'player_survive_time', data = E_solo_T)"
   ]
  },
  {
   "cell_type": "code",
   "execution_count": 52,
   "id": "be1fc5cf-c0cf-496f-b2df-5fd3f27386ba",
   "metadata": {},
   "outputs": [],
   "source": [
    "# 값 하나가 너무 동떨어진 값이라 outlier로 판단"
   ]
  },
  {
   "cell_type": "markdown",
   "id": "f815ee42-c54f-404e-88e5-bca8edaa8c6f",
   "metadata": {},
   "source": [
    "#### 2. M_solo Outlier 확인"
   ]
  },
  {
   "cell_type": "markdown",
   "id": "3ab0f4b8-5b52-414a-8423-0eb807a8e773",
   "metadata": {},
   "source": [
    "##### 1. game_size 확인"
   ]
  },
  {
   "cell_type": "code",
   "execution_count": 53,
   "id": "e46fcfe6-2319-4a69-9030-c8bbb6f098e1",
   "metadata": {
    "collapsed": true,
    "jupyter": {
     "outputs_hidden": true
    },
    "tags": []
   },
   "outputs": [
    {
     "data": {
      "image/png": "[encoded data removed]",
      "text/plain": [
       "<Figure size 720x432 with 1 Axes>"
      ]
     },
     "metadata": {
      "needs_background": "light"
     },
     "output_type": "display_data"
    }
   ],
   "source": [
    "plt.figure(figsize = (10, 6))\n",
    "_ = plt.hist(M_solo_T['game_size'])"
   ]
  },
  {
   "cell_type": "code",
   "execution_count": 54,
   "id": "9f37a5ed-e904-4c8c-92ee-76be8858ae99",
   "metadata": {
    "collapsed": true,
    "jupyter": {
     "outputs_hidden": true
    },
    "tags": []
   },
   "outputs": [
    {
     "data": {
      "image/png": "[encoded data removed]",
      "text/plain": [
       "<Figure size 432x288 with 1 Axes>"
      ]
     },
     "metadata": {
      "needs_background": "light"
     },
     "output_type": "display_data"
    }
   ],
   "source": [
    "_ = sns.boxplot(x = 'game_size', data = M_solo_T)"
   ]
  },
  {
   "cell_type": "code",
   "execution_count": 55,
   "id": "8e91f316-13ef-4f56-9dd7-e2b305177408",
   "metadata": {},
   "outputs": [],
   "source": [
    "# game_size가 50 미만인 경우는 outlier로 판단?"
   ]
  },
  {
   "cell_type": "markdown",
   "id": "3eac093a-9ec1-4122-9f52-315f3a8af750",
   "metadata": {},
   "source": [
    "##### 2. player_assists 확인"
   ]
  },
  {
   "cell_type": "code",
   "execution_count": 56,
   "id": "e9f38b83-b914-4daa-ba8f-52184203192e",
   "metadata": {
    "collapsed": true,
    "jupyter": {
     "outputs_hidden": true
    },
    "tags": []
   },
   "outputs": [
    {
     "data": {
      "image/png": "[encoded data removed]",
      "text/plain": [
       "<Figure size 720x432 with 1 Axes>"
      ]
     },
     "metadata": {
      "needs_background": "light"
     },
     "output_type": "display_data"
    }
   ],
   "source": [
    "plt.figure(figsize = (10, 6))\n",
    "_ = plt.hist(M_solo_T['player_assists'])"
   ]
  },
  {
   "cell_type": "code",
   "execution_count": 57,
   "id": "7ec620b1-81aa-4c9b-b85b-5fa5652183ea",
   "metadata": {
    "collapsed": true,
    "jupyter": {
     "outputs_hidden": true
    },
    "tags": []
   },
   "outputs": [
    {
     "data": {
      "image/png": "[encoded data removed]",
      "text/plain": [
       "<Figure size 432x288 with 1 Axes>"
      ]
     },
     "metadata": {
      "needs_background": "light"
     },
     "output_type": "display_data"
    }
   ],
   "source": [
    "_ = sns.boxplot(x = 'player_assists', data = M_solo_T)"
   ]
  },
  {
   "cell_type": "code",
   "execution_count": 58,
   "id": "7f463973-ed4a-4cff-af46-a3a96f1d591c",
   "metadata": {},
   "outputs": [],
   "source": [
    "# solo 게임에서는 assist가 발생할 수 없으므로 0이 아닌 값은 outlier -> assist가 1값만 가지게 되므로 컬럼 drop"
   ]
  },
  {
   "cell_type": "markdown",
   "id": "b03eab0d-95cb-4265-9da8-cf1b8ea46ebb",
   "metadata": {},
   "source": [
    "##### 3. player_dist_ride 확인"
   ]
  },
  {
   "cell_type": "code",
   "execution_count": 59,
   "id": "a988cba1-fe4e-4d06-82e7-aacdf7541ba6",
   "metadata": {
    "collapsed": true,
    "jupyter": {
     "outputs_hidden": true
    },
    "tags": []
   },
   "outputs": [
    {
     "data": {
      "image/png": "[encoded data removed]",
      "text/plain": [
       "<Figure size 720x432 with 1 Axes>"
      ]
     },
     "metadata": {
      "needs_background": "light"
     },
     "output_type": "display_data"
    }
   ],
   "source": [
    "plt.figure(figsize = (10, 6))\n",
    "_ = plt.hist(M_solo_T['player_dist_ride'])"
   ]
  },
  {
   "cell_type": "code",
   "execution_count": 60,
   "id": "8726adbf-14d2-49e4-9ee3-7e855e8d7d4d",
   "metadata": {
    "collapsed": true,
    "jupyter": {
     "outputs_hidden": true
    },
    "tags": []
   },
   "outputs": [
    {
     "data": {
      "image/png": "[encoded data removed]",
      "text/plain": [
       "<Figure size 432x288 with 1 Axes>"
      ]
     },
     "metadata": {
      "needs_background": "light"
     },
     "output_type": "display_data"
    }
   ],
   "source": [
    "_ = sns.boxplot(x = 'player_dist_ride', data = M_solo_T)"
   ]
  },
  {
   "cell_type": "code",
   "execution_count": 61,
   "id": "4fc837fd-46bc-4d44-a5d4-5da52751c6a2",
   "metadata": {},
   "outputs": [],
   "source": [
    "# dist 컬럼들은 더욱 자세한 회의가 필요하다고 생각"
   ]
  },
  {
   "cell_type": "markdown",
   "id": "fe8bf4c7-b5a6-4704-91e3-dd5b42e86267",
   "metadata": {},
   "source": [
    "##### 4. player_dist_walk 확인"
   ]
  },
  {
   "cell_type": "code",
   "execution_count": 62,
   "id": "05ccb936-453b-4cfe-bb33-01f9a53e0547",
   "metadata": {
    "collapsed": true,
    "jupyter": {
     "outputs_hidden": true
    },
    "tags": []
   },
   "outputs": [
    {
     "data": {
      "image/png": "[encoded data removed]",
      "text/plain": [
       "<Figure size 720x432 with 1 Axes>"
      ]
     },
     "metadata": {
      "needs_background": "light"
     },
     "output_type": "display_data"
    }
   ],
   "source": [
    "plt.figure(figsize = (10, 6))\n",
    "_ = plt.hist(M_solo_T['player_dist_walk'])"
   ]
  },
  {
   "cell_type": "code",
   "execution_count": 63,
   "id": "223fa2bd-4aaf-4536-b601-c778968f7148",
   "metadata": {
    "collapsed": true,
    "jupyter": {
     "outputs_hidden": true
    },
    "tags": []
   },
   "outputs": [
    {
     "data": {
      "image/png": "[encoded data removed]",
      "text/plain": [
       "<Figure size 432x288 with 1 Axes>"
      ]
     },
     "metadata": {
      "needs_background": "light"
     },
     "output_type": "display_data"
    }
   ],
   "source": [
    "_ = sns.boxplot(x = 'player_dist_walk', data = M_solo_T)"
   ]
  },
  {
   "cell_type": "code",
   "execution_count": 64,
   "id": "05230e15-d702-4f3c-b021-58aaeea8b43a",
   "metadata": {},
   "outputs": [],
   "source": [
    "# dist 컬럼들은 더욱 자세한 회의가 필요하다고 생각"
   ]
  },
  {
   "cell_type": "markdown",
   "id": "957bc6f3-79d0-4d2c-8768-db266005229d",
   "metadata": {},
   "source": [
    "##### 5. player_dmg 확인"
   ]
  },
  {
   "cell_type": "code",
   "execution_count": 65,
   "id": "1325a62c-7563-42d4-baee-58d68ed5fd05",
   "metadata": {
    "collapsed": true,
    "jupyter": {
     "outputs_hidden": true
    },
    "tags": []
   },
   "outputs": [
    {
     "data": {
      "image/png": "[encoded data removed]",
      "text/plain": [
       "<Figure size 720x432 with 1 Axes>"
      ]
     },
     "metadata": {
      "needs_background": "light"
     },
     "output_type": "display_data"
    }
   ],
   "source": [
    "plt.figure(figsize = (10, 6))\n",
    "_ = plt.hist(M_solo_T['player_dmg'])"
   ]
  },
  {
   "cell_type": "code",
   "execution_count": 66,
   "id": "f3fa40ad-2ff1-4696-a767-1a40c211c5cd",
   "metadata": {
    "collapsed": true,
    "jupyter": {
     "outputs_hidden": true
    },
    "tags": []
   },
   "outputs": [
    {
     "data": {
      "image/png": "[encoded data removed]",
      "text/plain": [
       "<Figure size 432x288 with 1 Axes>"
      ]
     },
     "metadata": {
      "needs_background": "light"
     },
     "output_type": "display_data"
    }
   ],
   "source": [
    "_ = sns.boxplot(x = 'player_dmg', data = M_solo_T)"
   ]
  },
  {
   "cell_type": "code",
   "execution_count": 67,
   "id": "392d6ffa-4a9e-4433-995d-cc16bcdea212",
   "metadata": {},
   "outputs": [],
   "source": [
    "# player_kills에서 아웃라이어라고 판단하지 않은 유저들의 player_dmg값만 선택하여 outlier처리?"
   ]
  },
  {
   "cell_type": "markdown",
   "id": "629dbb55-f9a2-479b-860a-d663bdb3c6cc",
   "metadata": {},
   "source": [
    "##### 6. player_kills 확인"
   ]
  },
  {
   "cell_type": "code",
   "execution_count": 68,
   "id": "184f454a-309c-47a3-8950-5052713afdf0",
   "metadata": {
    "collapsed": true,
    "jupyter": {
     "outputs_hidden": true
    },
    "tags": []
   },
   "outputs": [
    {
     "data": {
      "image/png": "[encoded data removed]",
      "text/plain": [
       "<Figure size 720x432 with 1 Axes>"
      ]
     },
     "metadata": {
      "needs_background": "light"
     },
     "output_type": "display_data"
    }
   ],
   "source": [
    "plt.figure(figsize = (10, 6))\n",
    "_ = plt.hist(M_solo_T['player_kills'])"
   ]
  },
  {
   "cell_type": "code",
   "execution_count": 69,
   "id": "8df76efd-c3d5-4e21-b080-567264f34668",
   "metadata": {
    "collapsed": true,
    "jupyter": {
     "outputs_hidden": true
    },
    "tags": []
   },
   "outputs": [
    {
     "data": {
      "image/png": "[encoded data removed]",
      "text/plain": [
       "<Figure size 432x288 with 1 Axes>"
      ]
     },
     "metadata": {
      "needs_background": "light"
     },
     "output_type": "display_data"
    }
   ],
   "source": [
    "_ = sns.boxplot(x = 'player_kills', data = M_solo_T)"
   ]
  },
  {
   "cell_type": "code",
   "execution_count": 70,
   "id": "6c714c50-bde6-404b-bbb5-7c08544370b0",
   "metadata": {},
   "outputs": [],
   "source": [
    "# solo 게임에서 30킬 이상은 프로게이머들도 매우 드문 기록 - 30킬 이상은 outlier?"
   ]
  },
  {
   "cell_type": "markdown",
   "id": "f88c0378-1097-473e-8f5e-670b917ed00a",
   "metadata": {},
   "source": [
    "##### 7. player_survive_time 확인"
   ]
  },
  {
   "cell_type": "code",
   "execution_count": 71,
   "id": "13441b02-245a-4626-a9fe-693e0e024d02",
   "metadata": {
    "collapsed": true,
    "jupyter": {
     "outputs_hidden": true
    },
    "tags": []
   },
   "outputs": [
    {
     "data": {
      "image/png": "[encoded data removed]",
      "text/plain": [
       "<Figure size 720x432 with 1 Axes>"
      ]
     },
     "metadata": {
      "needs_background": "light"
     },
     "output_type": "display_data"
    }
   ],
   "source": [
    "plt.figure(figsize = (10, 6))\n",
    "_ = plt.hist(M_solo_T['player_survive_time'])"
   ]
  },
  {
   "cell_type": "code",
   "execution_count": 72,
   "id": "ad931233-ec8d-4a5a-a609-fca48714477b",
   "metadata": {
    "collapsed": true,
    "jupyter": {
     "outputs_hidden": true
    },
    "tags": []
   },
   "outputs": [
    {
     "data": {
      "image/png": "[encoded data removed]",
      "text/plain": [
       "<Figure size 432x288 with 1 Axes>"
      ]
     },
     "metadata": {
      "needs_background": "light"
     },
     "output_type": "display_data"
    }
   ],
   "source": [
    "_ = sns.boxplot(x = 'player_survive_time', data = M_solo_T)"
   ]
  },
  {
   "cell_type": "code",
   "execution_count": 73,
   "id": "c509f7c3-3137-4c84-8a03-5dfd96ba6564",
   "metadata": {},
   "outputs": [],
   "source": [
    "# 이상치가 없다고 판단 - 신기한 데이터? "
   ]
  },
  {
   "cell_type": "markdown",
   "id": "c62b52e1-3e5b-484f-a170-99f22b529a14",
   "metadata": {},
   "source": [
    "### Outlier 분리"
   ]
  },
  {
   "cell_type": "markdown",
   "id": "cd883dc3-9a0d-460b-a91a-535c491a1fa6",
   "metadata": {},
   "source": [
    "#### 1. Game_size"
   ]
  },
  {
   "cell_type": "code",
   "execution_count": 77,
   "id": "01bfa69c-7d1b-42cc-9898-d593ddf64e39",
   "metadata": {},
   "outputs": [
    {
     "data": {
      "text/plain": [
       "((653868, 22), 3.822685365905134)"
      ]
     },
     "execution_count": 77,
     "metadata": {},
     "output_type": "execute_result"
    }
   ],
   "source": [
    "E_solo_T.loc[E_solo_T['game_size'] < 80]\n",
    "E_solo_T.loc[E_solo_T['game_size'] < 80].shape, E_solo_T.loc[E_solo_T['game_size'] < 80].shape[0] / E_solo_T.shape[0] * 100\n",
    "# ERANGEL의 game_size 변수의 아웃라이어는 653868개 / 비율은 3.822685365905134%"
   ]
  },
  {
   "cell_type": "code",
   "execution_count": 78,
   "id": "ad722907-fe73-4b1a-86f7-ee47cfb34747",
   "metadata": {},
   "outputs": [
    {
     "data": {
      "text/plain": [
       "((188778, 22), 6.096173172162043)"
      ]
     },
     "execution_count": 78,
     "metadata": {},
     "output_type": "execute_result"
    }
   ],
   "source": [
    "M_solo_T.loc[M_solo_T['game_size'] < 80]\n",
    "M_solo_T.loc[M_solo_T['game_size'] < 80].shape, M_solo_T.loc[M_solo_T['game_size'] < 80].shape[0] / M_solo_T.shape[0] * 100\n",
    "# MIRAMAR의 game_size 변수의 아웃라이어는 188778 / 비율은 6.096173172162043%"
   ]
  },
  {
   "cell_type": "markdown",
   "id": "dc4d1801-dd17-4cd0-8f19-641dc7bd062b",
   "metadata": {},
   "source": [
    "#### 2. player_dist_walk"
   ]
  },
  {
   "cell_type": "code",
   "execution_count": 79,
   "id": "b4af416d-90db-41dd-b4dd-d3a5cbc184e6",
   "metadata": {},
   "outputs": [
    {
     "data": {
      "text/plain": [
       "((11009, 22), 0.06436152739276066)"
      ]
     },
     "execution_count": 79,
     "metadata": {},
     "output_type": "execute_result"
    }
   ],
   "source": [
    "E_solo_T.loc[E_solo_T['player_dist_walk'] > 10000]\n",
    "E_solo_T.loc[E_solo_T['player_dist_walk'] > 10000].shape, E_solo_T.loc[E_solo_T['player_dist_walk'] > 10000].shape[0] / E_solo_T.shape[0] * 100\n",
    "# player_dist_walk 변수의 아웃라이어는 11009 / 비율은 0.06436152739276066%"
   ]
  },
  {
   "cell_type": "code",
   "execution_count": 80,
   "id": "0280c87a-3c6e-4aa1-8f17-46bade4228ca",
   "metadata": {},
   "outputs": [
    {
     "data": {
      "text/plain": [
       "((117, 22), 0.003778259443065182)"
      ]
     },
     "execution_count": 80,
     "metadata": {},
     "output_type": "execute_result"
    }
   ],
   "source": [
    "M_solo_T.loc[M_solo_T['player_dist_walk'] > 10000]\n",
    "M_solo_T.loc[M_solo_T['player_dist_walk'] > 10000].shape, M_solo_T.loc[M_solo_T['player_dist_walk'] > 10000].shape[0] / M_solo_T.shape[0] * 100\n",
    "# player_dist_walk 변수의 아웃라이어는 117 / 비율은 0.003778259443065182%"
   ]
  },
  {
   "cell_type": "markdown",
   "id": "55adb3bf-04d3-4a11-8efd-2fbb9cdd8cc8",
   "metadata": {},
   "source": [
    "#### player_dist_ride "
   ]
  },
  {
   "cell_type": "code",
   "execution_count": 81,
   "id": "24817c29-5242-4e30-912e-5a3eba64bac2",
   "metadata": {},
   "outputs": [
    {
     "data": {
      "text/plain": [
       "((818, 22), 0.004782244473365266)"
      ]
     },
     "execution_count": 81,
     "metadata": {},
     "output_type": "execute_result"
    }
   ],
   "source": [
    "E_solo_T.loc[E_solo_T['player_dist_ride'] > 30000]\n",
    "E_solo_T.loc[E_solo_T['player_dist_ride'] > 30000].shape, E_solo_T.loc[E_solo_T['player_dist_ride'] > 30000].shape[0] / E_solo_T.shape[0] * 100\n",
    "# player_dist_ride 변수의 아웃라이어는 818 / 비율은 0.004782244473365266%"
   ]
  },
  {
   "cell_type": "code",
   "execution_count": 82,
   "id": "b9935af5-bbb9-44fa-b2d8-f34eb44ae7e2",
   "metadata": {},
   "outputs": [
    {
     "data": {
      "text/plain": [
       "((1, 22), 3.2292815752693865e-05)"
      ]
     },
     "execution_count": 82,
     "metadata": {},
     "output_type": "execute_result"
    }
   ],
   "source": [
    "M_solo_T.loc[M_solo_T['player_dist_ride'] > 30000]\n",
    "M_solo_T.loc[M_solo_T['player_dist_ride'] > 30000].shape, M_solo_T.loc[M_solo_T['player_dist_ride'] > 30000].shape[0] / M_solo_T.shape[0] * 100\n",
    "# player_dist_ride 변수의 아웃라이어는 1 / 비율은 3.2292815752693865e-05%"
   ]
  },
  {
   "cell_type": "markdown",
   "id": "67d0f749-c12f-4a94-850a-eee3192497a3",
   "metadata": {},
   "source": [
    "#### player_dmg "
   ]
  },
  {
   "cell_type": "code",
   "execution_count": 83,
   "id": "65f0331a-6a50-4f86-9c80-1fe8d3dd104d",
   "metadata": {},
   "outputs": [
    {
     "data": {
      "text/plain": [
       "((27611, 22), 0.16142121290230851)"
      ]
     },
     "execution_count": 83,
     "metadata": {},
     "output_type": "execute_result"
    }
   ],
   "source": [
    "E_solo_T.loc[E_solo_T['player_dmg'] > 3000]\n",
    "E_solo_T.loc[E_solo_T['player_dmg'] > 3000].shape, E_solo_T.loc[E_solo_T['player_dmg'] > 3000].shape[0] / E_solo_T.shape[0] * 100\n",
    "# player_dmg 변수의 아웃라이어는 27611 / 비율은 0.16142121290230851%"
   ]
  },
  {
   "cell_type": "code",
   "execution_count": 84,
   "id": "532ecbe0-c1e3-46c2-9f1e-f11a939fb396",
   "metadata": {},
   "outputs": [
    {
     "data": {
      "text/plain": [
       "((759, 22), 0.024510247156294643)"
      ]
     },
     "execution_count": 84,
     "metadata": {},
     "output_type": "execute_result"
    }
   ],
   "source": [
    "M_solo_T.loc[M_solo_T['player_dmg'] > 3000]\n",
    "M_solo_T.loc[M_solo_T['player_dmg'] > 3000].shape, M_solo_T.loc[M_solo_T['player_dmg'] > 3000].shape[0] / M_solo_T.shape[0] * 100\n",
    "# player_dmg 변수의 아웃라이어는 759 / 비율은 0.024510247156294643%"
   ]
  },
  {
   "cell_type": "markdown",
   "id": "92014017-310f-4661-b8ad-d11a01c7de16",
   "metadata": {},
   "source": [
    "#### player_kills "
   ]
  },
  {
   "cell_type": "code",
   "execution_count": 85,
   "id": "6e1ac429-762e-4333-94c8-3db09fda45b6",
   "metadata": {},
   "outputs": [
    {
     "data": {
      "text/plain": [
       "((28645, 22), 0.1674662505373448)"
      ]
     },
     "execution_count": 85,
     "metadata": {},
     "output_type": "execute_result"
    }
   ],
   "source": [
    "E_solo_T.loc[E_solo_T['player_kills'] > 30]\n",
    "E_solo_T.loc[E_solo_T['player_kills'] > 30].shape, E_solo_T.loc[E_solo_T['player_kills'] > 30].shape[0] / E_solo_T.shape[0] * 100\n",
    "# player_kills 변수의 아웃라이어는 28645 / 비율은 0.1674662505373448%"
   ]
  },
  {
   "cell_type": "code",
   "execution_count": 86,
   "id": "51620399-5baf-4c98-8c14-5607bd41bd6d",
   "metadata": {},
   "outputs": [
    {
     "data": {
      "text/plain": [
       "((852, 22), 0.027513479021295174)"
      ]
     },
     "execution_count": 86,
     "metadata": {},
     "output_type": "execute_result"
    }
   ],
   "source": [
    "M_solo_T.loc[M_solo_T['player_kills'] > 30]\n",
    "M_solo_T.loc[M_solo_T['player_kills'] > 30].shape, M_solo_T.loc[M_solo_T['player_kills'] > 30].shape[0] / M_solo_T.shape[0] * 100\n",
    "# player_kills 변수의 아웃라이어는 852 / 비율은 0.027513479021295174%"
   ]
  },
  {
   "cell_type": "markdown",
   "id": "8837361b-0cf4-4d0f-9a2e-8c84bc9a56e8",
   "metadata": {},
   "source": [
    "#### player_survive_time  "
   ]
  },
  {
   "cell_type": "code",
   "execution_count": 87,
   "id": "b96e2d7b-1233-47d6-bcbe-3366e6eb8743",
   "metadata": {},
   "outputs": [
    {
     "data": {
      "text/plain": [
       "((658269, 22), 3.8484147765741814)"
      ]
     },
     "execution_count": 87,
     "metadata": {},
     "output_type": "execute_result"
    }
   ],
   "source": [
    "E_solo_T.loc[E_solo_T['player_survive_time'] > 1900]\n",
    "E_solo_T.loc[E_solo_T['player_survive_time'] > 1900].shape, E_solo_T.loc[E_solo_T['player_survive_time'] > 1900].shape[0] / E_solo_T.shape[0] * 100\n",
    "# player_survive_time 변수의 아웃라이어는 658269 / 비율은 3.8484147765741814%"
   ]
  },
  {
   "cell_type": "code",
   "execution_count": 88,
   "id": "7d478af7-d432-4c9a-ab3d-9468dee7f397",
   "metadata": {},
   "outputs": [
    {
     "data": {
      "text/plain": [
       "((91891, 22), 2.967419132330792)"
      ]
     },
     "execution_count": 88,
     "metadata": {},
     "output_type": "execute_result"
    }
   ],
   "source": [
    "M_solo_T.loc[M_solo_T['player_survive_time'] > 1900]\n",
    "M_solo_T.loc[M_solo_T['player_survive_time'] > 1900].shape, M_solo_T.loc[M_solo_T['player_survive_time'] > 1900].shape[0] / M_solo_T.shape[0] * 100\n",
    "# player_survive_time 변수의 아웃라이어는 91891 / 비율은 2.967419132330792%"
   ]
  },
  {
   "cell_type": "markdown",
   "id": "03ad834f-f3c3-4469-b40a-ca207826470b",
   "metadata": {},
   "source": [
    "#### player_dbno - solo 게임에서는 존재 할 수 없어서 처리하지 않음"
   ]
  },
  {
   "cell_type": "code",
   "execution_count": 89,
   "id": "ec7f261e-d769-4397-9e10-e679691128b1",
   "metadata": {},
   "outputs": [],
   "source": [
    "# E_solo_T.loc[E_solo_T['player_dbno'] > 11].shape[0]\n",
    "# E_solo_T.loc[E_solo_T['player_dbno'] > 11].shape, E_solo_T.loc[E_solo_T['player_dbno'] > 11].shape[0] / E_solo_T.shape[0] * 100"
   ]
  },
  {
   "cell_type": "code",
   "execution_count": 90,
   "id": "230bbec9-495d-4b7c-a71e-cdbc4fd6cc75",
   "metadata": {},
   "outputs": [],
   "source": [
    "# E_solo_T.loc[E_solo_T['player_dbno'] > 11].shape[0]\n",
    "# E_solo_T.loc[E_solo_T['player_dbno'] > 11].shape, E_solo_T.loc[E_solo_T['player_dbno'] > 11].shape[0] / E_solo_T.shape[0] * 100"
   ]
  },
  {
   "cell_type": "markdown",
   "id": "6eb91e79-edec-4959-ad7e-14f36a54a624",
   "metadata": {},
   "source": [
    "#### killer와 victim의 거리 "
   ]
  },
  {
   "cell_type": "code",
   "execution_count": 11,
   "id": "2b211cc1-6e45-42c0-8717-7d46b12b0c26",
   "metadata": {},
   "outputs": [],
   "source": [
    "E_kill_dist = np.sqrt(((E_solo_T['killer_position_x'] - E_solo_T['victim_position_x']) ** 2) + ((E_solo_T['killer_position_y'] - E_solo_T['victim_position_y']) ** 2))"
   ]
  },
  {
   "cell_type": "code",
   "execution_count": 12,
   "id": "0de3bb00-6394-406b-8476-8f5d78f845dd",
   "metadata": {},
   "outputs": [],
   "source": [
    "E_kill_dist_bol = E_kill_dist > 40000"
   ]
  },
  {
   "cell_type": "code",
   "execution_count": 13,
   "id": "79eb21cf-04cb-407b-99ae-e98080e58328",
   "metadata": {},
   "outputs": [],
   "source": [
    "E_solo_T['kill_dist'] = E_kill_dist"
   ]
  },
  {
   "cell_type": "code",
   "execution_count": 14,
   "id": "af46ce77-d1bb-4c02-8cf4-1a2a16e5a079",
   "metadata": {},
   "outputs": [],
   "source": [
    "M_kill_dist = np.sqrt(((M_solo_T['killer_position_x'] - M_solo_T['victim_position_x']) ** 2) + ((M_solo_T['killer_position_y'] - M_solo_T['victim_position_y']) ** 2))"
   ]
  },
  {
   "cell_type": "code",
   "execution_count": 15,
   "id": "518dc003-bc3a-4139-bd8f-3a80e2e66013",
   "metadata": {},
   "outputs": [],
   "source": [
    "M_kill_dist_bol = M_kill_dist > 40000"
   ]
  },
  {
   "cell_type": "code",
   "execution_count": 16,
   "id": "0494b94e-af80-4aaf-ab2e-702f6fa3d7ca",
   "metadata": {},
   "outputs": [],
   "source": [
    "M_solo_T['kill_dist'] = M_kill_dist"
   ]
  },
  {
   "cell_type": "code",
   "execution_count": 17,
   "id": "f9a4bf50-718d-4765-9f56-d7c747ecde58",
   "metadata": {},
   "outputs": [
    {
     "data": {
      "text/plain": [
       "((324923, 23), 1.8995858447668243)"
      ]
     },
     "execution_count": 17,
     "metadata": {},
     "output_type": "execute_result"
    }
   ],
   "source": [
    "E_solo_T.loc[E_kill_dist_bol]\n",
    "E_solo_T.loc[E_kill_dist_bol].shape, E_solo_T.loc[E_kill_dist_bol].shape[0] / E_solo_T.shape[0] * 100\n",
    "# killer와 victim의 거리 아웃라이어는 324923 / 비율은 1.8995858447668243%"
   ]
  },
  {
   "cell_type": "code",
   "execution_count": 18,
   "id": "f853a071-5dfa-4656-bd6d-ea9a2c5155da",
   "metadata": {},
   "outputs": [
    {
     "data": {
      "text/plain": [
       "((51632, 23), 1.6673426629430899)"
      ]
     },
     "execution_count": 18,
     "metadata": {},
     "output_type": "execute_result"
    }
   ],
   "source": [
    "M_solo_T.loc[M_kill_dist_bol]\n",
    "M_solo_T.loc[M_kill_dist_bol].shape, M_solo_T.loc[M_kill_dist_bol].shape[0] / M_solo_T.shape[0] * 100\n",
    "# killer와 victim의 거리 아웃라이어는 51632 / 비율은 1.6673426629430899%"
   ]
  },
  {
   "cell_type": "markdown",
   "id": "84bc68ab-6366-4923-a2c4-b03a0769d2e4",
   "metadata": {},
   "source": [
    "#### Outlier Dataset 만들기"
   ]
  },
  {
   "cell_type": "code",
   "execution_count": 14,
   "id": "b9d7fecc-3252-4ec4-bd38-e61cc8f24962",
   "metadata": {},
   "outputs": [],
   "source": [
    "E_solo_outlier = pd.concat([E_solo_T.loc[E_solo_T['game_size'] < 80], E_solo_T.loc[E_solo_T['player_dist_walk'] > 10000]\n",
    "                           , E_solo_T.loc[E_solo_T['player_dist_ride'] > 30000], E_solo_T.loc[E_solo_T['player_dmg'] > 3000]\n",
    "                           , E_solo_T.loc[E_solo_T['player_kills'] > 30], E_solo_T.loc[E_solo_T['player_survive_time'] > 1900]\n",
    "                           , E_solo_T.loc[E_kill_dist_bol]])"
   ]
  },
  {
   "cell_type": "code",
   "execution_count": 15,
   "id": "be4abcd3-7d8d-4ede-9ff8-89db19266d9d",
   "metadata": {},
   "outputs": [],
   "source": [
    "M_solo_outlier = pd.concat([M_solo_T.loc[M_solo_T['game_size'] < 80], M_solo_T.loc[M_solo_T['player_dist_walk'] > 10000]\n",
    "                           , M_solo_T.loc[M_solo_T['player_dist_ride'] > 30000], M_solo_T.loc[M_solo_T['player_dmg'] > 3000]\n",
    "                           , M_solo_T.loc[M_solo_T['player_kills'] > 30], M_solo_T.loc[M_solo_T['player_survive_time'] > 1900]\n",
    "                           , M_solo_T.loc[M_kill_dist_bol]])"
   ]
  },
  {
   "cell_type": "code",
   "execution_count": 16,
   "id": "39cc7394-e7d2-4598-972b-9397e0576250",
   "metadata": {},
   "outputs": [
    {
     "data": {
      "text/plain": [
       "129446"
      ]
     },
     "execution_count": 16,
     "metadata": {},
     "output_type": "execute_result"
    }
   ],
   "source": [
    "E_solo_outlier.duplicated().sum()"
   ]
  },
  {
   "cell_type": "code",
   "execution_count": 17,
   "id": "efe24291-c44d-4ac3-87ff-5738a615b23d",
   "metadata": {},
   "outputs": [
    {
     "data": {
      "text/plain": [
       "11468"
      ]
     },
     "execution_count": 17,
     "metadata": {},
     "output_type": "execute_result"
    }
   ],
   "source": [
    "M_solo_outlier.duplicated().sum()"
   ]
  },
  {
   "cell_type": "code",
   "execution_count": 18,
   "id": "658d7eee-7951-4d05-92f0-a375abb7c366",
   "metadata": {},
   "outputs": [],
   "source": [
    "E_solo_outlier = E_solo_outlier.drop_duplicates()"
   ]
  },
  {
   "cell_type": "code",
   "execution_count": 19,
   "id": "6ff3f9fb-63d7-48c8-b8e8-cca7fd522bf8",
   "metadata": {},
   "outputs": [],
   "source": [
    "M_solo_outlier = M_solo_outlier.drop_duplicates()"
   ]
  },
  {
   "cell_type": "code",
   "execution_count": 20,
   "id": "a687598d-13f0-4817-b03c-83226aa7603e",
   "metadata": {},
   "outputs": [
    {
     "data": {
      "text/plain": [
       "((1575697, 23), (322562, 23))"
      ]
     },
     "execution_count": 20,
     "metadata": {},
     "output_type": "execute_result"
    }
   ],
   "source": [
    "E_solo_outlier.shape, M_solo_outlier.shape"
   ]
  },
  {
   "cell_type": "code",
   "execution_count": 236,
   "id": "7c844461-6e91-407e-82e7-e03374f8d2eb",
   "metadata": {},
   "outputs": [],
   "source": [
    "# ERANGEL의 Outlier는 1575697개, MIRAMAR의 Outlier는 322562개"
   ]
  },
  {
   "cell_type": "markdown",
   "id": "582d9573-63eb-41ba-b31f-7039dbc97a6f",
   "metadata": {},
   "source": [
    "#### Outlier를 제거한 Dataset 만들기"
   ]
  },
  {
   "cell_type": "code",
   "execution_count": 19,
   "id": "005a3333-778a-48eb-aa36-58b90289ce4d",
   "metadata": {},
   "outputs": [],
   "source": [
    "E_solo_T = E_solo_T.loc[E_solo_T['game_size'] >= 80]\n",
    "E_solo_T = E_solo_T.loc[E_solo_T['player_dist_walk'] <= 10000]\n",
    "E_solo_T = E_solo_T.loc[E_solo_T['player_dist_ride'] <= 30000]\n",
    "E_solo_T = E_solo_T.loc[E_solo_T['player_dmg'] <= 3000]\n",
    "E_solo_T = E_solo_T.loc[E_solo_T['player_kills'] <= 30]\n",
    "E_solo_T = E_solo_T.loc[E_solo_T['player_survive_time'] <= 1900]\n",
    "E_solo_T = E_solo_T.loc[-E_kill_dist_bol]"
   ]
  },
  {
   "cell_type": "code",
   "execution_count": 20,
   "id": "2170b25e-08c4-4be8-8076-7295368995bb",
   "metadata": {},
   "outputs": [],
   "source": [
    "M_solo_T = M_solo_T.loc[M_solo_T['game_size'] >= 80]\n",
    "M_solo_T = M_solo_T.loc[M_solo_T['player_dist_walk'] <= 10000]\n",
    "M_solo_T = M_solo_T.loc[M_solo_T['player_dist_ride'] <= 30000]\n",
    "M_solo_T = M_solo_T.loc[M_solo_T['player_dmg'] <= 3000]\n",
    "M_solo_T = M_solo_T.loc[M_solo_T['player_kills'] <= 30]\n",
    "M_solo_T = M_solo_T.loc[M_solo_T['player_survive_time'] <= 1900]\n",
    "M_solo_T = M_solo_T.loc[-M_kill_dist_bol]"
   ]
  },
  {
   "cell_type": "code",
   "execution_count": 21,
   "id": "4c50faaf-e510-40d9-944c-36aa578de39e",
   "metadata": {},
   "outputs": [],
   "source": [
    "E_solo_anal = E_solo_T\n",
    "M_solo_anal = M_solo_T"
   ]
  },
  {
   "cell_type": "code",
   "execution_count": 22,
   "id": "47a8cb57-441a-469e-8b9e-272dedbc3067",
   "metadata": {},
   "outputs": [
    {
     "data": {
      "text/plain": [
       "((15529242, 23), (2774102, 23))"
      ]
     },
     "execution_count": 22,
     "metadata": {},
     "output_type": "execute_result"
    }
   ],
   "source": [
    "E_solo_anal.shape, M_solo_anal.shape"
   ]
  },
  {
   "cell_type": "code",
   "execution_count": 23,
   "id": "938dd33e-41f4-42b1-b80c-ca90245f7d77",
   "metadata": {},
   "outputs": [],
   "source": [
    "del E_solo_T, M_solo_T"
   ]
  },
  {
   "cell_type": "code",
   "execution_count": 24,
   "id": "74c0b85a-3d34-4b87-9287-c66f85938f46",
   "metadata": {},
   "outputs": [],
   "source": [
    "# 분석에 사용할 ERANGEL의 Data의 수는 15529242개, MIRAMAR의 Data의 수는 2774102개"
   ]
  },
  {
   "cell_type": "markdown",
   "id": "c6370947-fd00-4e1e-aecc-124d5b5b8255",
   "metadata": {},
   "source": [
    "### Tear_score 계산"
   ]
  },
  {
   "cell_type": "code",
   "execution_count": 26,
   "id": "4d621c08-cc1e-4877-9dd2-3ec3f0610607",
   "metadata": {},
   "outputs": [],
   "source": [
    "# (50 - 순위) * 0.5 + 킬 * 2 + 어시스트 * 2의 수식으로 티어 변동 점수 계산"
   ]
  },
  {
   "cell_type": "markdown",
   "id": "b530a62c-4576-4928-b1d9-13c8a4529984",
   "metadata": {},
   "source": [
    "#### 1. ERANGEL Tear 계산"
   ]
  },
  {
   "cell_type": "code",
   "execution_count": 24,
   "id": "24c79679-dd07-43ff-ba21-6fbd74661a30",
   "metadata": {},
   "outputs": [],
   "source": [
    "# 잘못 계산했을 떄 초기화 방법\n",
    "E_solo_anal = E_solo_anal[['date', 'game_size', 'match_id', 'player_assists', 'player_dist_ride',\n",
    "                           'player_dist_walk', 'player_dmg', 'player_kills', 'player_name',\n",
    "                           'player_survive_time', 'team_id', 'team_placement', 'killed_by',\n",
    "                           'killer_placement', 'killer_position_x', 'killer_position_y', 'map', 'time',\n",
    "                           'victim_name', 'victim_placement', 'victim_position_x',\n",
    "                           'victim_position_y', 'kill_dist']]"
   ]
  },
  {
   "cell_type": "code",
   "execution_count": 25,
   "id": "96195b9e-dfcd-4461-8b4f-70d086b899b6",
   "metadata": {},
   "outputs": [],
   "source": [
    "E_solo_anal['tear_score'] = (100 - (E_solo_anal['team_placement'])) + (E_solo_anal['player_kills'] * 2) + (E_solo_anal['player_assists'] * 2)"
   ]
  },
  {
   "cell_type": "markdown",
   "id": "b2176fcd-6e0a-4a9b-b6b3-162ffb1dab1f",
   "metadata": {},
   "source": [
    "#### 2. MIRAMAR Tear 계산"
   ]
  },
  {
   "cell_type": "code",
   "execution_count": 26,
   "id": "78c31662-1cc6-4a1d-9473-1f62eac580f1",
   "metadata": {},
   "outputs": [],
   "source": [
    "# 잘못 계산했을 떄 초기화 방법\n",
    "M_solo_anal = M_solo_anal[['date', 'game_size', 'match_id', 'player_assists', 'player_dist_ride',\n",
    "                           'player_dist_walk', 'player_dmg', 'player_kills', 'player_name',\n",
    "                           'player_survive_time', 'team_id', 'team_placement', 'killed_by',\n",
    "                           'killer_placement', 'killer_position_x', 'killer_position_y', 'map', 'time',\n",
    "                           'victim_name', 'victim_placement', 'victim_position_x',\n",
    "                           'victim_position_y', 'kill_dist']]"
   ]
  },
  {
   "cell_type": "code",
   "execution_count": 27,
   "id": "2fee51e0-beb7-40ad-a8ef-98d2a8324bc6",
   "metadata": {},
   "outputs": [],
   "source": [
    "M_solo_anal['tear_score'] = (100 - (M_solo_anal['team_placement'])) + (M_solo_anal['player_kills'] * 2) + (M_solo_anal['player_assists'] * 2)"
   ]
  },
  {
   "cell_type": "markdown",
   "id": "569d7ff0-49c6-46b4-96ad-3bdb25385b71",
   "metadata": {},
   "source": [
    "### Erangel, Miramar 데이터셋 합치기"
   ]
  },
  {
   "cell_type": "markdown",
   "id": "86c3b627-8642-4ba3-9aba-fd5f02392915",
   "metadata": {},
   "source": [
    "#### 1. 분석용 데이터 합치기"
   ]
  },
  {
   "cell_type": "code",
   "execution_count": 28,
   "id": "5931781f-d371-405c-aa12-bd581e63647c",
   "metadata": {},
   "outputs": [],
   "source": [
    "solo_anal = pd.concat([E_solo_anal, M_solo_anal]).reset_index(drop = True)"
   ]
  },
  {
   "cell_type": "markdown",
   "id": "758dd77d-d40c-466a-bb10-d4a27f683e83",
   "metadata": {},
   "source": [
    "#### 2. match 수가 10 이상인 유저들만 걸러내기"
   ]
  },
  {
   "cell_type": "code",
   "execution_count": 29,
   "id": "d8f63451-5740-48e6-bc71-08ab0cbaa8c1",
   "metadata": {},
   "outputs": [],
   "source": [
    "filtering = solo_anal.groupby('player_name')['match_id'].nunique().reset_index()"
   ]
  },
  {
   "cell_type": "code",
   "execution_count": 30,
   "id": "587d8e77-1919-408b-af78-db6bf563d54e",
   "metadata": {},
   "outputs": [],
   "source": [
    "solo_anal = solo_anal.merge(filtering, how = 'left', on = 'player_name')"
   ]
  },
  {
   "cell_type": "code",
   "execution_count": 31,
   "id": "f5e1fc16-98a2-429b-add7-db885b2ffb93",
   "metadata": {},
   "outputs": [],
   "source": [
    "solo_anal.columns = ['date', 'game_size', 'match_id', 'player_assists', 'player_dist_ride',\n",
    "                     'player_dist_walk', 'player_dmg', 'player_kills', 'player_name',\n",
    "                     'player_survive_time', 'team_id', 'team_placement', 'killed_by',\n",
    "                     'killer_placement', 'killer_position_x', 'killer_position_y', 'map',\n",
    "                     'time', 'victim_name', 'victim_placement', 'victim_position_x',\n",
    "                     'victim_position_y', 'kill_dist', 'tear_score', 'num_of_match']"
   ]
  },
  {
   "cell_type": "code",
   "execution_count": 32,
   "id": "ca802146-2698-4292-99a2-51a6aa26e2bf",
   "metadata": {},
   "outputs": [],
   "source": [
    "solo_anal = solo_anal.loc[solo_anal['num_of_match'] >= 10]"
   ]
  },
  {
   "cell_type": "markdown",
   "id": "9042b1ec-249e-4ad6-a85b-409a79762588",
   "metadata": {},
   "source": [
    "#### 3. tear_score 계산 및 player_name별 tear 나누기"
   ]
  },
  {
   "cell_type": "code",
   "execution_count": 33,
   "id": "48b9792d-762b-42f1-a3ef-2262b3662c28",
   "metadata": {},
   "outputs": [],
   "source": [
    "pubg_rp = solo_anal.groupby(['match_id', 'player_name'])['tear_score'].mean().reset_index()"
   ]
  },
  {
   "cell_type": "code",
   "execution_count": 34,
   "id": "3ff53929-3a3b-4ebe-b9ba-21bc2e28052d",
   "metadata": {},
   "outputs": [],
   "source": [
    "rp_sum = pubg_rp.groupby(['player_name'])['tear_score'].sum().reset_index()"
   ]
  },
  {
   "cell_type": "code",
   "execution_count": 35,
   "id": "d37d7fdb-ea96-489c-98de-84c5e3896ae0",
   "metadata": {},
   "outputs": [],
   "source": [
    "rp_sum['tear_score'] = np.log(rp_sum['tear_score'])"
   ]
  },
  {
   "cell_type": "code",
   "execution_count": 36,
   "id": "2c0017e3-ae73-4899-abec-05907cdb9d4f",
   "metadata": {},
   "outputs": [],
   "source": [
    "scores = [(rp_sum['tear_score'].min() - 1), 6, 6.75, 7.5, 8.25, 9, rp_sum['tear_score'].max()]\n",
    "tears = ['Bronze', 'Silver', 'Gold','Platinum','Diamond', 'Master']"
   ]
  },
  {
   "cell_type": "code",
   "execution_count": 37,
   "id": "4c9e0564-fb7f-4700-95d3-331519febf8a",
   "metadata": {},
   "outputs": [],
   "source": [
    "rp_sum['tear'] = pd.cut(rp_sum['tear_score'], bins = scores, labels = tears)"
   ]
  },
  {
   "cell_type": "code",
   "execution_count": 38,
   "id": "415073f0-c450-4d00-9e4d-32248c42983e",
   "metadata": {},
   "outputs": [],
   "source": [
    "solo_anal = solo_anal[['date', 'game_size', 'match_id', 'player_assists', 'player_dist_ride',\n",
    "                       'player_dist_walk', 'player_dmg', 'player_kills', 'player_name',\n",
    "                       'player_survive_time', 'team_id', 'team_placement', 'killed_by',\n",
    "                       'killer_placement', 'killer_position_x', 'killer_position_y', 'map',\n",
    "                       'time', 'victim_name', 'victim_placement', 'victim_position_x',\n",
    "                       'victim_position_y', 'kill_dist', 'tear_score', 'num_of_match']]"
   ]
  },
  {
   "cell_type": "code",
   "execution_count": 39,
   "id": "1efbee32-433d-4cb5-a5f6-f58d648af75d",
   "metadata": {},
   "outputs": [],
   "source": [
    "solo_anal = solo_anal.merge(rp_sum[['player_name', 'tear']], how = 'left', on = 'player_name')"
   ]
  },
  {
   "cell_type": "code",
   "execution_count": 40,
   "id": "8578dfc6-4d3d-4735-9e6d-dca474ce375a",
   "metadata": {},
   "outputs": [
    {
     "data": {
      "text/html": [
       "<div>\n",
       "<style scoped>\n",
       "    .dataframe tbody tr th:only-of-type {\n",
       "        vertical-align: middle;\n",
       "    }\n",
       "\n",
       "    .dataframe tbody tr th {\n",
       "        vertical-align: top;\n",
       "    }\n",
       "\n",
       "    .dataframe thead th {\n",
       "        text-align: right;\n",
       "    }\n",
       "</style>\n",
       "<table border=\"1\" class=\"dataframe\">\n",
       "  <thead>\n",
       "    <tr style=\"text-align: right;\">\n",
       "      <th></th>\n",
       "      <th>date</th>\n",
       "      <th>game_size</th>\n",
       "      <th>match_id</th>\n",
       "      <th>player_assists</th>\n",
       "      <th>player_dist_ride</th>\n",
       "      <th>player_dist_walk</th>\n",
       "      <th>player_dmg</th>\n",
       "      <th>player_kills</th>\n",
       "      <th>player_name</th>\n",
       "      <th>player_survive_time</th>\n",
       "      <th>...</th>\n",
       "      <th>map</th>\n",
       "      <th>time</th>\n",
       "      <th>victim_name</th>\n",
       "      <th>victim_placement</th>\n",
       "      <th>victim_position_x</th>\n",
       "      <th>victim_position_y</th>\n",
       "      <th>kill_dist</th>\n",
       "      <th>tear_score</th>\n",
       "      <th>num_of_match</th>\n",
       "      <th>tear</th>\n",
       "    </tr>\n",
       "  </thead>\n",
       "  <tbody>\n",
       "    <tr>\n",
       "      <th>0</th>\n",
       "      <td>2017-11-19T08:28:59+0000</td>\n",
       "      <td>91</td>\n",
       "      <td>2U4GBNA0YmlixJ6lhgS6xB2tqdo7SEhoYyHlVu18akkAzL...</td>\n",
       "      <td>0</td>\n",
       "      <td>0.00000</td>\n",
       "      <td>66.54559</td>\n",
       "      <td>0</td>\n",
       "      <td>0</td>\n",
       "      <td>osamabinlaggon</td>\n",
       "      <td>124.782</td>\n",
       "      <td>...</td>\n",
       "      <td>ERANGEL</td>\n",
       "      <td>NaN</td>\n",
       "      <td>NaN</td>\n",
       "      <td>NaN</td>\n",
       "      <td>NaN</td>\n",
       "      <td>NaN</td>\n",
       "      <td>NaN</td>\n",
       "      <td>13</td>\n",
       "      <td>16</td>\n",
       "      <td>Silver</td>\n",
       "    </tr>\n",
       "    <tr>\n",
       "      <th>1</th>\n",
       "      <td>2017-11-19T08:28:59+0000</td>\n",
       "      <td>91</td>\n",
       "      <td>2U4GBNA0YmlixJ6lhgS6xB2tqdo7SEhoYyHlVu18akkAzL...</td>\n",
       "      <td>0</td>\n",
       "      <td>2646.18400</td>\n",
       "      <td>1431.29200</td>\n",
       "      <td>24</td>\n",
       "      <td>0</td>\n",
       "      <td>GOGingmimi</td>\n",
       "      <td>751.716</td>\n",
       "      <td>...</td>\n",
       "      <td>ERANGEL</td>\n",
       "      <td>NaN</td>\n",
       "      <td>NaN</td>\n",
       "      <td>NaN</td>\n",
       "      <td>NaN</td>\n",
       "      <td>NaN</td>\n",
       "      <td>NaN</td>\n",
       "      <td>54</td>\n",
       "      <td>39</td>\n",
       "      <td>Platinum</td>\n",
       "    </tr>\n",
       "    <tr>\n",
       "      <th>2</th>\n",
       "      <td>2017-11-19T08:28:59+0000</td>\n",
       "      <td>91</td>\n",
       "      <td>2U4GBNA0YmlixJ6lhgS6xB2tqdo7SEhoYyHlVu18akkAzL...</td>\n",
       "      <td>0</td>\n",
       "      <td>0.00000</td>\n",
       "      <td>723.10230</td>\n",
       "      <td>100</td>\n",
       "      <td>1</td>\n",
       "      <td>AtomicBrunette</td>\n",
       "      <td>744.088</td>\n",
       "      <td>...</td>\n",
       "      <td>ERANGEL</td>\n",
       "      <td>297.0</td>\n",
       "      <td>DzzzZZZZP</td>\n",
       "      <td>66.0</td>\n",
       "      <td>295531.2</td>\n",
       "      <td>304050.2</td>\n",
       "      <td>1863.379202</td>\n",
       "      <td>55</td>\n",
       "      <td>14</td>\n",
       "      <td>Silver</td>\n",
       "    </tr>\n",
       "    <tr>\n",
       "      <th>3</th>\n",
       "      <td>2017-11-19T08:28:59+0000</td>\n",
       "      <td>91</td>\n",
       "      <td>2U4GBNA0YmlixJ6lhgS6xB2tqdo7SEhoYyHlVu18akkAzL...</td>\n",
       "      <td>0</td>\n",
       "      <td>1055.67761</td>\n",
       "      <td>1889.02800</td>\n",
       "      <td>438</td>\n",
       "      <td>4</td>\n",
       "      <td>LORD_JTR</td>\n",
       "      <td>1006.527</td>\n",
       "      <td>...</td>\n",
       "      <td>ERANGEL</td>\n",
       "      <td>773.0</td>\n",
       "      <td>hyh981118</td>\n",
       "      <td>44.0</td>\n",
       "      <td>215621.4</td>\n",
       "      <td>391763.2</td>\n",
       "      <td>5126.637270</td>\n",
       "      <td>79</td>\n",
       "      <td>17</td>\n",
       "      <td>Silver</td>\n",
       "    </tr>\n",
       "    <tr>\n",
       "      <th>4</th>\n",
       "      <td>2017-11-19T08:28:59+0000</td>\n",
       "      <td>91</td>\n",
       "      <td>2U4GBNA0YmlixJ6lhgS6xB2tqdo7SEhoYyHlVu18akkAzL...</td>\n",
       "      <td>0</td>\n",
       "      <td>1055.67761</td>\n",
       "      <td>1889.02800</td>\n",
       "      <td>438</td>\n",
       "      <td>4</td>\n",
       "      <td>LORD_JTR</td>\n",
       "      <td>1006.527</td>\n",
       "      <td>...</td>\n",
       "      <td>ERANGEL</td>\n",
       "      <td>109.0</td>\n",
       "      <td>jet9187</td>\n",
       "      <td>89.0</td>\n",
       "      <td>223026.7</td>\n",
       "      <td>461666.2</td>\n",
       "      <td>776.106307</td>\n",
       "      <td>79</td>\n",
       "      <td>17</td>\n",
       "      <td>Silver</td>\n",
       "    </tr>\n",
       "  </tbody>\n",
       "</table>\n",
       "<p>5 rows × 26 columns</p>\n",
       "</div>"
      ],
      "text/plain": [
       "                       date  game_size  \\\n",
       "0  2017-11-19T08:28:59+0000         91   \n",
       "1  2017-11-19T08:28:59+0000         91   \n",
       "2  2017-11-19T08:28:59+0000         91   \n",
       "3  2017-11-19T08:28:59+0000         91   \n",
       "4  2017-11-19T08:28:59+0000         91   \n",
       "\n",
       "                                            match_id  player_assists  \\\n",
       "0  2U4GBNA0YmlixJ6lhgS6xB2tqdo7SEhoYyHlVu18akkAzL...               0   \n",
       "1  2U4GBNA0YmlixJ6lhgS6xB2tqdo7SEhoYyHlVu18akkAzL...               0   \n",
       "2  2U4GBNA0YmlixJ6lhgS6xB2tqdo7SEhoYyHlVu18akkAzL...               0   \n",
       "3  2U4GBNA0YmlixJ6lhgS6xB2tqdo7SEhoYyHlVu18akkAzL...               0   \n",
       "4  2U4GBNA0YmlixJ6lhgS6xB2tqdo7SEhoYyHlVu18akkAzL...               0   \n",
       "\n",
       "   player_dist_ride  player_dist_walk  player_dmg  player_kills  \\\n",
       "0           0.00000          66.54559           0             0   \n",
       "1        2646.18400        1431.29200          24             0   \n",
       "2           0.00000         723.10230         100             1   \n",
       "3        1055.67761        1889.02800         438             4   \n",
       "4        1055.67761        1889.02800         438             4   \n",
       "\n",
       "      player_name  player_survive_time  ...      map   time victim_name  \\\n",
       "0  osamabinlaggon              124.782  ...  ERANGEL    NaN         NaN   \n",
       "1      GOGingmimi              751.716  ...  ERANGEL    NaN         NaN   \n",
       "2  AtomicBrunette              744.088  ...  ERANGEL  297.0   DzzzZZZZP   \n",
       "3        LORD_JTR             1006.527  ...  ERANGEL  773.0   hyh981118   \n",
       "4        LORD_JTR             1006.527  ...  ERANGEL  109.0     jet9187   \n",
       "\n",
       "   victim_placement  victim_position_x  victim_position_y    kill_dist  \\\n",
       "0               NaN                NaN                NaN          NaN   \n",
       "1               NaN                NaN                NaN          NaN   \n",
       "2              66.0           295531.2           304050.2  1863.379202   \n",
       "3              44.0           215621.4           391763.2  5126.637270   \n",
       "4              89.0           223026.7           461666.2   776.106307   \n",
       "\n",
       "   tear_score num_of_match      tear  \n",
       "0          13           16    Silver  \n",
       "1          54           39  Platinum  \n",
       "2          55           14    Silver  \n",
       "3          79           17    Silver  \n",
       "4          79           17    Silver  \n",
       "\n",
       "[5 rows x 26 columns]"
      ]
     },
     "execution_count": 40,
     "metadata": {},
     "output_type": "execute_result"
    }
   ],
   "source": [
    "solo_anal.head()"
   ]
  },
  {
   "cell_type": "markdown",
   "id": "be861bd4-eaac-4679-a0b1-f2cb7f2ff210",
   "metadata": {},
   "source": [
    "#### 2. Outlier 데이터 합치기"
   ]
  },
  {
   "cell_type": "code",
   "execution_count": 43,
   "id": "7fe15041-0494-4328-8443-78a8b9f660ce",
   "metadata": {},
   "outputs": [],
   "source": [
    "solo_outlier = pd.concat([E_solo_outlier, M_solo_outlier]).reset_index(drop = True)"
   ]
  },
  {
   "cell_type": "code",
   "execution_count": 44,
   "id": "5dd40d29-1e32-44bf-994b-1d506832dec5",
   "metadata": {
    "tags": []
   },
   "outputs": [
    {
     "data": {
      "text/html": [
       "<div>\n",
       "<style scoped>\n",
       "    .dataframe tbody tr th:only-of-type {\n",
       "        vertical-align: middle;\n",
       "    }\n",
       "\n",
       "    .dataframe tbody tr th {\n",
       "        vertical-align: top;\n",
       "    }\n",
       "\n",
       "    .dataframe thead th {\n",
       "        text-align: right;\n",
       "    }\n",
       "</style>\n",
       "<table border=\"1\" class=\"dataframe\">\n",
       "  <thead>\n",
       "    <tr style=\"text-align: right;\">\n",
       "      <th></th>\n",
       "      <th>date</th>\n",
       "      <th>game_size</th>\n",
       "      <th>match_id</th>\n",
       "      <th>player_assists</th>\n",
       "      <th>player_dist_ride</th>\n",
       "      <th>player_dist_walk</th>\n",
       "      <th>player_dmg</th>\n",
       "      <th>player_kills</th>\n",
       "      <th>player_name</th>\n",
       "      <th>player_survive_time</th>\n",
       "      <th>...</th>\n",
       "      <th>killer_placement</th>\n",
       "      <th>killer_position_x</th>\n",
       "      <th>killer_position_y</th>\n",
       "      <th>map</th>\n",
       "      <th>time</th>\n",
       "      <th>victim_name</th>\n",
       "      <th>victim_placement</th>\n",
       "      <th>victim_position_x</th>\n",
       "      <th>victim_position_y</th>\n",
       "      <th>kill_dist</th>\n",
       "    </tr>\n",
       "  </thead>\n",
       "  <tbody>\n",
       "    <tr>\n",
       "      <th>0</th>\n",
       "      <td>2017-12-17T06:37:50+0000</td>\n",
       "      <td>63</td>\n",
       "      <td>2U4GBNA0YmmyNWABCuuEotdFnf2pYAu3C5f-JJ9Qv-UyQV...</td>\n",
       "      <td>0</td>\n",
       "      <td>0.00000</td>\n",
       "      <td>197.745000</td>\n",
       "      <td>20</td>\n",
       "      <td>0</td>\n",
       "      <td>Poisoner-</td>\n",
       "      <td>306.522</td>\n",
       "      <td>...</td>\n",
       "      <td>NaN</td>\n",
       "      <td>NaN</td>\n",
       "      <td>NaN</td>\n",
       "      <td>ERANGEL</td>\n",
       "      <td>NaN</td>\n",
       "      <td>NaN</td>\n",
       "      <td>NaN</td>\n",
       "      <td>NaN</td>\n",
       "      <td>NaN</td>\n",
       "      <td>NaN</td>\n",
       "    </tr>\n",
       "    <tr>\n",
       "      <th>1</th>\n",
       "      <td>2017-12-17T06:37:50+0000</td>\n",
       "      <td>63</td>\n",
       "      <td>2U4GBNA0YmmyNWABCuuEotdFnf2pYAu3C5f-JJ9Qv-UyQV...</td>\n",
       "      <td>1</td>\n",
       "      <td>761.70780</td>\n",
       "      <td>856.389465</td>\n",
       "      <td>1</td>\n",
       "      <td>0</td>\n",
       "      <td>NEW-BEE-CH</td>\n",
       "      <td>815.788</td>\n",
       "      <td>...</td>\n",
       "      <td>NaN</td>\n",
       "      <td>NaN</td>\n",
       "      <td>NaN</td>\n",
       "      <td>ERANGEL</td>\n",
       "      <td>NaN</td>\n",
       "      <td>NaN</td>\n",
       "      <td>NaN</td>\n",
       "      <td>NaN</td>\n",
       "      <td>NaN</td>\n",
       "      <td>NaN</td>\n",
       "    </tr>\n",
       "    <tr>\n",
       "      <th>2</th>\n",
       "      <td>2017-12-17T06:37:50+0000</td>\n",
       "      <td>63</td>\n",
       "      <td>2U4GBNA0YmmyNWABCuuEotdFnf2pYAu3C5f-JJ9Qv-UyQV...</td>\n",
       "      <td>0</td>\n",
       "      <td>3053.30444</td>\n",
       "      <td>1741.988890</td>\n",
       "      <td>205</td>\n",
       "      <td>1</td>\n",
       "      <td>CHN-Demon</td>\n",
       "      <td>1070.069</td>\n",
       "      <td>...</td>\n",
       "      <td>23.0</td>\n",
       "      <td>297418.8</td>\n",
       "      <td>501408.4</td>\n",
       "      <td>ERANGEL</td>\n",
       "      <td>325.0</td>\n",
       "      <td>MuscleGod007</td>\n",
       "      <td>46.0</td>\n",
       "      <td>300051.5</td>\n",
       "      <td>499628.2</td>\n",
       "      <td>3178.084538</td>\n",
       "    </tr>\n",
       "    <tr>\n",
       "      <th>3</th>\n",
       "      <td>2017-12-17T06:37:50+0000</td>\n",
       "      <td>63</td>\n",
       "      <td>2U4GBNA0YmmyNWABCuuEotdFnf2pYAu3C5f-JJ9Qv-UyQV...</td>\n",
       "      <td>0</td>\n",
       "      <td>0.00000</td>\n",
       "      <td>9.943279</td>\n",
       "      <td>19</td>\n",
       "      <td>0</td>\n",
       "      <td>Apparition_111</td>\n",
       "      <td>107.597</td>\n",
       "      <td>...</td>\n",
       "      <td>NaN</td>\n",
       "      <td>NaN</td>\n",
       "      <td>NaN</td>\n",
       "      <td>ERANGEL</td>\n",
       "      <td>NaN</td>\n",
       "      <td>NaN</td>\n",
       "      <td>NaN</td>\n",
       "      <td>NaN</td>\n",
       "      <td>NaN</td>\n",
       "      <td>NaN</td>\n",
       "    </tr>\n",
       "    <tr>\n",
       "      <th>4</th>\n",
       "      <td>2017-12-17T06:37:50+0000</td>\n",
       "      <td>63</td>\n",
       "      <td>2U4GBNA0YmmyNWABCuuEotdFnf2pYAu3C5f-JJ9Qv-UyQV...</td>\n",
       "      <td>0</td>\n",
       "      <td>0.00000</td>\n",
       "      <td>2074.617430</td>\n",
       "      <td>199</td>\n",
       "      <td>2</td>\n",
       "      <td>YELLOW1988</td>\n",
       "      <td>679.751</td>\n",
       "      <td>...</td>\n",
       "      <td>35.0</td>\n",
       "      <td>404385.6</td>\n",
       "      <td>490252.1</td>\n",
       "      <td>ERANGEL</td>\n",
       "      <td>584.0</td>\n",
       "      <td>EVA_09</td>\n",
       "      <td>39.0</td>\n",
       "      <td>412031.9</td>\n",
       "      <td>482495.1</td>\n",
       "      <td>10892.059157</td>\n",
       "    </tr>\n",
       "  </tbody>\n",
       "</table>\n",
       "<p>5 rows × 23 columns</p>\n",
       "</div>"
      ],
      "text/plain": [
       "                       date  game_size  \\\n",
       "0  2017-12-17T06:37:50+0000         63   \n",
       "1  2017-12-17T06:37:50+0000         63   \n",
       "2  2017-12-17T06:37:50+0000         63   \n",
       "3  2017-12-17T06:37:50+0000         63   \n",
       "4  2017-12-17T06:37:50+0000         63   \n",
       "\n",
       "                                            match_id  player_assists  \\\n",
       "0  2U4GBNA0YmmyNWABCuuEotdFnf2pYAu3C5f-JJ9Qv-UyQV...               0   \n",
       "1  2U4GBNA0YmmyNWABCuuEotdFnf2pYAu3C5f-JJ9Qv-UyQV...               1   \n",
       "2  2U4GBNA0YmmyNWABCuuEotdFnf2pYAu3C5f-JJ9Qv-UyQV...               0   \n",
       "3  2U4GBNA0YmmyNWABCuuEotdFnf2pYAu3C5f-JJ9Qv-UyQV...               0   \n",
       "4  2U4GBNA0YmmyNWABCuuEotdFnf2pYAu3C5f-JJ9Qv-UyQV...               0   \n",
       "\n",
       "   player_dist_ride  player_dist_walk  player_dmg  player_kills  \\\n",
       "0           0.00000        197.745000          20             0   \n",
       "1         761.70780        856.389465           1             0   \n",
       "2        3053.30444       1741.988890         205             1   \n",
       "3           0.00000          9.943279          19             0   \n",
       "4           0.00000       2074.617430         199             2   \n",
       "\n",
       "      player_name  player_survive_time  ...  killer_placement  \\\n",
       "0       Poisoner-              306.522  ...               NaN   \n",
       "1      NEW-BEE-CH              815.788  ...               NaN   \n",
       "2       CHN-Demon             1070.069  ...              23.0   \n",
       "3  Apparition_111              107.597  ...               NaN   \n",
       "4      YELLOW1988              679.751  ...              35.0   \n",
       "\n",
       "   killer_position_x killer_position_y      map   time   victim_name  \\\n",
       "0                NaN               NaN  ERANGEL    NaN           NaN   \n",
       "1                NaN               NaN  ERANGEL    NaN           NaN   \n",
       "2           297418.8          501408.4  ERANGEL  325.0  MuscleGod007   \n",
       "3                NaN               NaN  ERANGEL    NaN           NaN   \n",
       "4           404385.6          490252.1  ERANGEL  584.0        EVA_09   \n",
       "\n",
       "  victim_placement  victim_position_x victim_position_y     kill_dist  \n",
       "0              NaN                NaN               NaN           NaN  \n",
       "1              NaN                NaN               NaN           NaN  \n",
       "2             46.0           300051.5          499628.2   3178.084538  \n",
       "3              NaN                NaN               NaN           NaN  \n",
       "4             39.0           412031.9          482495.1  10892.059157  \n",
       "\n",
       "[5 rows x 23 columns]"
      ]
     },
     "execution_count": 44,
     "metadata": {},
     "output_type": "execute_result"
    }
   ],
   "source": [
    "solo_outlier.head()"
   ]
  },
  {
   "cell_type": "markdown",
   "id": "445c9895-6c17-49ca-ac98-2d671eb240e4",
   "metadata": {},
   "source": [
    "### 변수변환"
   ]
  },
  {
   "cell_type": "markdown",
   "id": "8167e564-776b-4747-a3be-33a8f1752570",
   "metadata": {},
   "source": [
    "#### 1. KDA 변수 만들기"
   ]
  },
  {
   "cell_type": "code",
   "execution_count": 41,
   "id": "8ad5e2ad-cd63-4c50-b2a6-9ff1eddde0a6",
   "metadata": {},
   "outputs": [],
   "source": [
    "temp = solo_anal.groupby('player_name')['date'].count().reset_index()"
   ]
  },
  {
   "cell_type": "code",
   "execution_count": 42,
   "id": "2bc5875a-902d-4b54-8d84-169336880448",
   "metadata": {},
   "outputs": [],
   "source": [
    "temp.columns = ['player_name', 'death']"
   ]
  },
  {
   "cell_type": "code",
   "execution_count": 43,
   "id": "4b1b96ed-6992-478c-a297-7c6d13d8bad6",
   "metadata": {},
   "outputs": [],
   "source": [
    "num_of_1st = solo_anal[solo_anal['team_placement'] == 1][['match_id', 'player_name']].drop_duplicates().groupby('player_name').count().reset_index()"
   ]
  },
  {
   "cell_type": "code",
   "execution_count": 44,
   "id": "5d59c6a5-0370-424c-9bad-90ffd0b19bce",
   "metadata": {},
   "outputs": [
    {
     "data": {
      "text/html": [
       "<div>\n",
       "<style scoped>\n",
       "    .dataframe tbody tr th:only-of-type {\n",
       "        vertical-align: middle;\n",
       "    }\n",
       "\n",
       "    .dataframe tbody tr th {\n",
       "        vertical-align: top;\n",
       "    }\n",
       "\n",
       "    .dataframe thead th {\n",
       "        text-align: right;\n",
       "    }\n",
       "</style>\n",
       "<table border=\"1\" class=\"dataframe\">\n",
       "  <thead>\n",
       "    <tr style=\"text-align: right;\">\n",
       "      <th></th>\n",
       "      <th>player_name</th>\n",
       "      <th>match_id</th>\n",
       "    </tr>\n",
       "  </thead>\n",
       "  <tbody>\n",
       "    <tr>\n",
       "      <th>0</th>\n",
       "      <td>000000000032</td>\n",
       "      <td>1</td>\n",
       "    </tr>\n",
       "    <tr>\n",
       "      <th>1</th>\n",
       "      <td>000LXK000</td>\n",
       "      <td>1</td>\n",
       "    </tr>\n",
       "    <tr>\n",
       "      <th>2</th>\n",
       "      <td>000Raves</td>\n",
       "      <td>1</td>\n",
       "    </tr>\n",
       "    <tr>\n",
       "      <th>3</th>\n",
       "      <td>000_LEEI_000</td>\n",
       "      <td>1</td>\n",
       "    </tr>\n",
       "    <tr>\n",
       "      <th>4</th>\n",
       "      <td>000chelsea000</td>\n",
       "      <td>2</td>\n",
       "    </tr>\n",
       "    <tr>\n",
       "      <th>...</th>\n",
       "      <td>...</td>\n",
       "      <td>...</td>\n",
       "    </tr>\n",
       "    <tr>\n",
       "      <th>22619</th>\n",
       "      <td>zzzybom</td>\n",
       "      <td>2</td>\n",
       "    </tr>\n",
       "    <tr>\n",
       "      <th>22620</th>\n",
       "      <td>zzzz950227</td>\n",
       "      <td>1</td>\n",
       "    </tr>\n",
       "    <tr>\n",
       "      <th>22621</th>\n",
       "      <td>zzzzdanmo</td>\n",
       "      <td>1</td>\n",
       "    </tr>\n",
       "    <tr>\n",
       "      <th>22622</th>\n",
       "      <td>zzzzzhhhhh99999</td>\n",
       "      <td>1</td>\n",
       "    </tr>\n",
       "    <tr>\n",
       "      <th>22623</th>\n",
       "      <td>zzzzzzzzzzzb</td>\n",
       "      <td>1</td>\n",
       "    </tr>\n",
       "  </tbody>\n",
       "</table>\n",
       "<p>22624 rows × 2 columns</p>\n",
       "</div>"
      ],
      "text/plain": [
       "           player_name  match_id\n",
       "0         000000000032         1\n",
       "1            000LXK000         1\n",
       "2             000Raves         1\n",
       "3         000_LEEI_000         1\n",
       "4        000chelsea000         2\n",
       "...                ...       ...\n",
       "22619          zzzybom         2\n",
       "22620       zzzz950227         1\n",
       "22621        zzzzdanmo         1\n",
       "22622  zzzzzhhhhh99999         1\n",
       "22623     zzzzzzzzzzzb         1\n",
       "\n",
       "[22624 rows x 2 columns]"
      ]
     },
     "execution_count": 44,
     "metadata": {},
     "output_type": "execute_result"
    }
   ],
   "source": [
    "num_of_1st"
   ]
  },
  {
   "cell_type": "code",
   "execution_count": 45,
   "id": "b1ddbc91-4bd1-48fb-889b-afec180b0df9",
   "metadata": {},
   "outputs": [],
   "source": [
    "temp2 = temp.merge(num_of_1st, how = 'left', on = 'player_name')"
   ]
  },
  {
   "cell_type": "code",
   "execution_count": 46,
   "id": "202cc412-20d2-4f14-85d8-abb9827ce9ed",
   "metadata": {},
   "outputs": [],
   "source": [
    "temp2 = temp2.fillna(0)"
   ]
  },
  {
   "cell_type": "code",
   "execution_count": 47,
   "id": "04cddfb9-7613-4c8f-9b36-08a2dc4f3a5e",
   "metadata": {},
   "outputs": [],
   "source": [
    "temp2['real_death'] = temp2['death'] - temp2['match_id']"
   ]
  },
  {
   "cell_type": "code",
   "execution_count": 48,
   "id": "768d169e-8d9a-439d-8d83-99198a15c83e",
   "metadata": {},
   "outputs": [],
   "source": [
    "temp2 = temp2[['player_name', 'real_death']]"
   ]
  },
  {
   "cell_type": "code",
   "execution_count": 49,
   "id": "9af14250-bc12-46d3-88f4-c9cf02ba27a3",
   "metadata": {},
   "outputs": [],
   "source": [
    "kda = solo_anal.groupby('player_name')[['player_kills', 'player_assists']].sum().reset_index()"
   ]
  },
  {
   "cell_type": "code",
   "execution_count": 50,
   "id": "78df96d3-c187-4f05-813f-0fe0ea845cac",
   "metadata": {},
   "outputs": [],
   "source": [
    "kda = kda.merge(temp2, how = 'left', on = 'player_name')"
   ]
  },
  {
   "cell_type": "code",
   "execution_count": 51,
   "id": "6bfa82c0-3a59-407e-9c50-1c412ec354fb",
   "metadata": {},
   "outputs": [],
   "source": [
    "kda['kda'] = ((kda['player_kills'] + kda['player_assists']) / kda['real_death'])"
   ]
  },
  {
   "cell_type": "code",
   "execution_count": 52,
   "id": "b046be10-9025-40c3-b0ae-da13094e2d5d",
   "metadata": {},
   "outputs": [],
   "source": [
    "solo_anal = solo_anal.merge(kda[['player_name', 'kda']], how = 'left', on = 'player_name')"
   ]
  },
  {
   "cell_type": "markdown",
   "id": "50d6d3be-cf86-46d8-bad5-a1691004a665",
   "metadata": {},
   "source": [
    "#### 2. player_dmg ~ player_kills의 상관관계 확인"
   ]
  },
  {
   "cell_type": "code",
   "execution_count": 53,
   "id": "92653de3-c4d0-4823-add6-9b8b38db86ba",
   "metadata": {},
   "outputs": [
    {
     "data": {
      "text/plain": [
       "array([[1.        , 0.96986123],\n",
       "       [0.96986123, 1.        ]])"
      ]
     },
     "execution_count": 53,
     "metadata": {},
     "output_type": "execute_result"
    }
   ],
   "source": [
    "np.corrcoef(solo_anal['player_dmg'], solo_anal['player_kills'])"
   ]
  },
  {
   "cell_type": "code",
   "execution_count": 54,
   "id": "dd0c10fb-ad72-4e86-85dc-74e7cc9f7482",
   "metadata": {},
   "outputs": [],
   "source": [
    "# 상관계수가 0.9726로 매우 강한 양의 상관관계가 있다고 할 수 있음"
   ]
  },
  {
   "cell_type": "markdown",
   "id": "8f7eb709-8afb-4207-891e-a88acce79e8d",
   "metadata": {},
   "source": [
    "#### 3. player_survive_time ~ team_placement의 상관관계 확인"
   ]
  },
  {
   "cell_type": "code",
   "execution_count": 55,
   "id": "d5e5570b-2c2b-424d-b459-80caa077b79e",
   "metadata": {},
   "outputs": [
    {
     "data": {
      "text/plain": [
       "array([[ 1.        , -0.94970682],\n",
       "       [-0.94970682,  1.        ]])"
      ]
     },
     "execution_count": 55,
     "metadata": {},
     "output_type": "execute_result"
    }
   ],
   "source": [
    "np.corrcoef(solo_anal['player_survive_time'], solo_anal['team_placement'])"
   ]
  },
  {
   "cell_type": "code",
   "execution_count": 56,
   "id": "1015ff1b-9638-4d4c-b208-ddd02c5bf8c7",
   "metadata": {},
   "outputs": [
    {
     "data": {
      "text/plain": [
       "<AxesSubplot:xlabel='player_survive_time', ylabel='team_placement'>"
      ]
     },
     "execution_count": 56,
     "metadata": {},
     "output_type": "execute_result"
    },
    {
     "data": {
      "image/png": "[encoded data removed]",
      "text/plain": [
       "<Figure size 432x288 with 1 Axes>"
      ]
     },
     "metadata": {
      "needs_background": "light"
     },
     "output_type": "display_data"
    }
   ],
   "source": [
    "plt.axis([-2500, 2500, -150, 150])\n",
    "sns.scatterplot(x = 'player_survive_time', y = 'team_placement', data = solo_anal)"
   ]
  },
  {
   "cell_type": "code",
   "execution_count": 57,
   "id": "9003b33a-a1e8-435f-aa0e-6ca1f599ef87",
   "metadata": {},
   "outputs": [],
   "source": [
    "# 상관계수가 -0.9500으로 매우 강한 음의 상관관계가 있다고 할 수 있음"
   ]
  },
  {
   "cell_type": "markdown",
   "id": "355f35fa-5f44-446c-b936-9fada147cdd4",
   "metadata": {},
   "source": [
    "#### 4. player_dist_walk ~ team_placement, player_dist_ride ~ team_placement의 상관관계를 확인"
   ]
  },
  {
   "cell_type": "code",
   "execution_count": 58,
   "id": "41338ef3-3ee6-4a4e-a9b4-7b347a698cd4",
   "metadata": {},
   "outputs": [
    {
     "data": {
      "text/plain": [
       "array([[ 1.        , -0.82015544],\n",
       "       [-0.82015544,  1.        ]])"
      ]
     },
     "execution_count": 58,
     "metadata": {},
     "output_type": "execute_result"
    }
   ],
   "source": [
    "np.corrcoef(solo_anal['player_dist_walk'], solo_anal['team_placement'])"
   ]
  },
  {
   "cell_type": "code",
   "execution_count": 59,
   "id": "e7bcea84-51b5-44f3-aa81-a7d48d74671c",
   "metadata": {},
   "outputs": [],
   "source": [
    "# 상관계수가 -0.8210으로 매우 강한 음의 상관관계가 있다고 할 수 있음"
   ]
  },
  {
   "cell_type": "code",
   "execution_count": 60,
   "id": "f3e47a4d-61c5-47b2-8358-828b87c1ac26",
   "metadata": {},
   "outputs": [
    {
     "data": {
      "text/plain": [
       "array([[ 1.        , -0.53478603],\n",
       "       [-0.53478603,  1.        ]])"
      ]
     },
     "execution_count": 60,
     "metadata": {},
     "output_type": "execute_result"
    }
   ],
   "source": [
    "np.corrcoef(solo_anal['player_dist_ride'], solo_anal['team_placement'])"
   ]
  },
  {
   "cell_type": "code",
   "execution_count": 61,
   "id": "e10ea974-f271-4478-8b96-cf9abfbce226",
   "metadata": {},
   "outputs": [],
   "source": [
    "# 상관계수가 -0.5316로 약한 음의 상관관계가 있다고 할 수 있음"
   ]
  },
  {
   "cell_type": "markdown",
   "id": "f322369c-c5d6-437a-b05f-ec491da4b39f",
   "metadata": {},
   "source": [
    "#### 4.1 player_dist_walk + player_dist_ride ~ team_placement의 상관관계를 확인"
   ]
  },
  {
   "cell_type": "code",
   "execution_count": 62,
   "id": "41851dd8-8073-418f-a357-686485ea950d",
   "metadata": {},
   "outputs": [
    {
     "data": {
      "text/plain": [
       "array([[1.       , 0.4719813],\n",
       "       [0.4719813, 1.       ]])"
      ]
     },
     "execution_count": 62,
     "metadata": {},
     "output_type": "execute_result"
    }
   ],
   "source": [
    "np.corrcoef((solo_anal['player_dist_ride'] + solo_anal['player_dist_walk']), solo_anal['player_kills'])"
   ]
  },
  {
   "cell_type": "code",
   "execution_count": 63,
   "id": "9168ce57-8c8b-40db-9c95-77649fe4559d",
   "metadata": {},
   "outputs": [],
   "source": [
    "# 상관계수가 0.4786로 매우 약한 양의 상관관계가 있다고 할 수 있음"
   ]
  },
  {
   "cell_type": "code",
   "execution_count": 64,
   "id": "d65217c5-5918-48fe-9923-ca4c31b54173",
   "metadata": {},
   "outputs": [
    {
     "data": {
      "text/plain": [
       "array([[1.        , 0.33250187],\n",
       "       [0.33250187, 1.        ]])"
      ]
     },
     "execution_count": 64,
     "metadata": {},
     "output_type": "execute_result"
    }
   ],
   "source": [
    "np.corrcoef(solo_anal['player_dist_ride'], solo_anal['player_dist_walk'])"
   ]
  },
  {
   "cell_type": "code",
   "execution_count": 165,
   "id": "efacd8de-fd1f-44cc-ae2e-72e65324e5cf",
   "metadata": {},
   "outputs": [],
   "source": [
    "# 상관계수가 0.3276로 상관관계가 없다고 할 수 있음"
   ]
  },
  {
   "cell_type": "code",
   "execution_count": 99,
   "id": "ae152b3b-5022-4f5e-9423-2861ebed03fb",
   "metadata": {},
   "outputs": [
    {
     "data": {
      "text/html": [
       "<div>\n",
       "<style scoped>\n",
       "    .dataframe tbody tr th:only-of-type {\n",
       "        vertical-align: middle;\n",
       "    }\n",
       "\n",
       "    .dataframe tbody tr th {\n",
       "        vertical-align: top;\n",
       "    }\n",
       "\n",
       "    .dataframe thead th {\n",
       "        text-align: right;\n",
       "    }\n",
       "</style>\n",
       "<table border=\"1\" class=\"dataframe\">\n",
       "  <thead>\n",
       "    <tr style=\"text-align: right;\">\n",
       "      <th></th>\n",
       "      <th>date</th>\n",
       "      <th>game_size</th>\n",
       "      <th>match_id</th>\n",
       "      <th>player_assists</th>\n",
       "      <th>player_dist_ride</th>\n",
       "      <th>player_dist_walk</th>\n",
       "      <th>player_dmg</th>\n",
       "      <th>player_kills</th>\n",
       "      <th>player_name</th>\n",
       "      <th>player_survive_time</th>\n",
       "      <th>...</th>\n",
       "      <th>killer_position_y</th>\n",
       "      <th>map</th>\n",
       "      <th>time</th>\n",
       "      <th>victim_name</th>\n",
       "      <th>victim_placement</th>\n",
       "      <th>victim_position_x</th>\n",
       "      <th>victim_position_y</th>\n",
       "      <th>tear_score</th>\n",
       "      <th>tear</th>\n",
       "      <th>kda</th>\n",
       "    </tr>\n",
       "  </thead>\n",
       "  <tbody>\n",
       "    <tr>\n",
       "      <th>0</th>\n",
       "      <td>2017-11-19T08:28:59+0000</td>\n",
       "      <td>91</td>\n",
       "      <td>2U4GBNA0YmlixJ6lhgS6xB2tqdo7SEhoYyHlVu18akkAzL...</td>\n",
       "      <td>0</td>\n",
       "      <td>0.000000</td>\n",
       "      <td>66.545590</td>\n",
       "      <td>0</td>\n",
       "      <td>0</td>\n",
       "      <td>osamabinlaggon</td>\n",
       "      <td>124.782</td>\n",
       "      <td>...</td>\n",
       "      <td>NaN</td>\n",
       "      <td>ERANGEL</td>\n",
       "      <td>NaN</td>\n",
       "      <td>NaN</td>\n",
       "      <td>NaN</td>\n",
       "      <td>NaN</td>\n",
       "      <td>NaN</td>\n",
       "      <td>-18.5</td>\n",
       "      <td>Bronze</td>\n",
       "      <td>0.555556</td>\n",
       "    </tr>\n",
       "    <tr>\n",
       "      <th>1</th>\n",
       "      <td>2017-11-19T08:28:59+0000</td>\n",
       "      <td>91</td>\n",
       "      <td>2U4GBNA0YmlixJ6lhgS6xB2tqdo7SEhoYyHlVu18akkAzL...</td>\n",
       "      <td>0</td>\n",
       "      <td>728.722656</td>\n",
       "      <td>610.168945</td>\n",
       "      <td>124</td>\n",
       "      <td>0</td>\n",
       "      <td>dengboyu76</td>\n",
       "      <td>839.161</td>\n",
       "      <td>...</td>\n",
       "      <td>NaN</td>\n",
       "      <td>ERANGEL</td>\n",
       "      <td>NaN</td>\n",
       "      <td>NaN</td>\n",
       "      <td>NaN</td>\n",
       "      <td>NaN</td>\n",
       "      <td>NaN</td>\n",
       "      <td>7.5</td>\n",
       "      <td>Bronze</td>\n",
       "      <td>0.833333</td>\n",
       "    </tr>\n",
       "    <tr>\n",
       "      <th>2</th>\n",
       "      <td>2017-11-19T08:28:59+0000</td>\n",
       "      <td>91</td>\n",
       "      <td>2U4GBNA0YmlixJ6lhgS6xB2tqdo7SEhoYyHlVu18akkAzL...</td>\n",
       "      <td>0</td>\n",
       "      <td>2646.184000</td>\n",
       "      <td>1431.292000</td>\n",
       "      <td>24</td>\n",
       "      <td>0</td>\n",
       "      <td>GOGingmimi</td>\n",
       "      <td>751.716</td>\n",
       "      <td>...</td>\n",
       "      <td>NaN</td>\n",
       "      <td>ERANGEL</td>\n",
       "      <td>NaN</td>\n",
       "      <td>NaN</td>\n",
       "      <td>NaN</td>\n",
       "      <td>NaN</td>\n",
       "      <td>NaN</td>\n",
       "      <td>2.0</td>\n",
       "      <td>Bronze</td>\n",
       "      <td>0.822222</td>\n",
       "    </tr>\n",
       "    <tr>\n",
       "      <th>3</th>\n",
       "      <td>2017-11-19T08:28:59+0000</td>\n",
       "      <td>91</td>\n",
       "      <td>2U4GBNA0YmlixJ6lhgS6xB2tqdo7SEhoYyHlVu18akkAzL...</td>\n",
       "      <td>0</td>\n",
       "      <td>0.000000</td>\n",
       "      <td>723.102300</td>\n",
       "      <td>100</td>\n",
       "      <td>1</td>\n",
       "      <td>AtomicBrunette</td>\n",
       "      <td>744.088</td>\n",
       "      <td>...</td>\n",
       "      <td>302359.5</td>\n",
       "      <td>ERANGEL</td>\n",
       "      <td>297.0</td>\n",
       "      <td>DzzzZZZZP</td>\n",
       "      <td>66.0</td>\n",
       "      <td>295531.2</td>\n",
       "      <td>304050.2</td>\n",
       "      <td>3.5</td>\n",
       "      <td>Bronze</td>\n",
       "      <td>0.214286</td>\n",
       "    </tr>\n",
       "    <tr>\n",
       "      <th>4</th>\n",
       "      <td>2017-11-19T08:28:59+0000</td>\n",
       "      <td>91</td>\n",
       "      <td>2U4GBNA0YmlixJ6lhgS6xB2tqdo7SEhoYyHlVu18akkAzL...</td>\n",
       "      <td>0</td>\n",
       "      <td>1055.677610</td>\n",
       "      <td>1889.028000</td>\n",
       "      <td>438</td>\n",
       "      <td>4</td>\n",
       "      <td>LORD_JTR</td>\n",
       "      <td>1006.527</td>\n",
       "      <td>...</td>\n",
       "      <td>386930.9</td>\n",
       "      <td>ERANGEL</td>\n",
       "      <td>773.0</td>\n",
       "      <td>hyh981118</td>\n",
       "      <td>44.0</td>\n",
       "      <td>215621.4</td>\n",
       "      <td>391763.2</td>\n",
       "      <td>18.5</td>\n",
       "      <td>Bronze</td>\n",
       "      <td>0.789474</td>\n",
       "    </tr>\n",
       "  </tbody>\n",
       "</table>\n",
       "<p>5 rows × 25 columns</p>\n",
       "</div>"
      ],
      "text/plain": [
       "                       date  game_size  \\\n",
       "0  2017-11-19T08:28:59+0000         91   \n",
       "1  2017-11-19T08:28:59+0000         91   \n",
       "2  2017-11-19T08:28:59+0000         91   \n",
       "3  2017-11-19T08:28:59+0000         91   \n",
       "4  2017-11-19T08:28:59+0000         91   \n",
       "\n",
       "                                            match_id  player_assists  \\\n",
       "0  2U4GBNA0YmlixJ6lhgS6xB2tqdo7SEhoYyHlVu18akkAzL...               0   \n",
       "1  2U4GBNA0YmlixJ6lhgS6xB2tqdo7SEhoYyHlVu18akkAzL...               0   \n",
       "2  2U4GBNA0YmlixJ6lhgS6xB2tqdo7SEhoYyHlVu18akkAzL...               0   \n",
       "3  2U4GBNA0YmlixJ6lhgS6xB2tqdo7SEhoYyHlVu18akkAzL...               0   \n",
       "4  2U4GBNA0YmlixJ6lhgS6xB2tqdo7SEhoYyHlVu18akkAzL...               0   \n",
       "\n",
       "   player_dist_ride  player_dist_walk  player_dmg  player_kills  \\\n",
       "0          0.000000         66.545590           0             0   \n",
       "1        728.722656        610.168945         124             0   \n",
       "2       2646.184000       1431.292000          24             0   \n",
       "3          0.000000        723.102300         100             1   \n",
       "4       1055.677610       1889.028000         438             4   \n",
       "\n",
       "      player_name  player_survive_time  ...  killer_position_y      map  \\\n",
       "0  osamabinlaggon              124.782  ...                NaN  ERANGEL   \n",
       "1      dengboyu76              839.161  ...                NaN  ERANGEL   \n",
       "2      GOGingmimi              751.716  ...                NaN  ERANGEL   \n",
       "3  AtomicBrunette              744.088  ...           302359.5  ERANGEL   \n",
       "4        LORD_JTR             1006.527  ...           386930.9  ERANGEL   \n",
       "\n",
       "    time  victim_name  victim_placement  victim_position_x victim_position_y  \\\n",
       "0    NaN          NaN               NaN                NaN               NaN   \n",
       "1    NaN          NaN               NaN                NaN               NaN   \n",
       "2    NaN          NaN               NaN                NaN               NaN   \n",
       "3  297.0    DzzzZZZZP              66.0           295531.2          304050.2   \n",
       "4  773.0    hyh981118              44.0           215621.4          391763.2   \n",
       "\n",
       "   tear_score    tear       kda  \n",
       "0       -18.5  Bronze  0.555556  \n",
       "1         7.5  Bronze  0.833333  \n",
       "2         2.0  Bronze  0.822222  \n",
       "3         3.5  Bronze  0.214286  \n",
       "4        18.5  Bronze  0.789474  \n",
       "\n",
       "[5 rows x 25 columns]"
      ]
     },
     "execution_count": 99,
     "metadata": {},
     "output_type": "execute_result"
    }
   ],
   "source": [
    "solo_anal.head()"
   ]
  },
  {
   "cell_type": "markdown",
   "id": "98028b87-20ea-47f0-b23c-748f6bb70786",
   "metadata": {},
   "source": [
    "### 분석용 데이터로의 정제"
   ]
  },
  {
   "cell_type": "markdown",
   "id": "47312a1f-9568-486e-ad01-3556b80597ec",
   "metadata": {},
   "source": [
    "#### 1. ANOVA 분석에 사용할 변수들로만 구성된 DataFrame으로 변수 선택"
   ]
  },
  {
   "cell_type": "code",
   "execution_count": 53,
   "id": "68b91c5e-1358-4473-ba84-baab6a744c96",
   "metadata": {},
   "outputs": [
    {
     "data": {
      "text/plain": [
       "Index(['date', 'game_size', 'match_id', 'player_assists', 'player_dist_ride',\n",
       "       'player_dist_walk', 'player_dmg', 'player_kills', 'player_name',\n",
       "       'player_survive_time', 'team_id', 'team_placement', 'killed_by',\n",
       "       'killer_placement', 'killer_position_x', 'killer_position_y', 'map',\n",
       "       'time', 'victim_name', 'victim_placement', 'victim_position_x',\n",
       "       'victim_position_y', 'kill_dist', 'tear_score', 'num_of_match', 'tear',\n",
       "       'kda'],\n",
       "      dtype='object')"
      ]
     },
     "execution_count": 53,
     "metadata": {},
     "output_type": "execute_result"
    }
   ],
   "source": [
    "solo_anal.columns"
   ]
  },
  {
   "cell_type": "code",
   "execution_count": 54,
   "id": "d116044a-c74a-44a3-bd0f-c11e28d94b0c",
   "metadata": {},
   "outputs": [],
   "source": [
    "anova_solo = solo_anal[['game_size', 'match_id', 'player_assists', 'player_dist_ride',\n",
    "                        'player_dist_walk', 'player_dmg', 'player_kills', 'player_name',\n",
    "                        'player_survive_time', 'team_id', 'team_placement', 'killed_by',\n",
    "                        'killer_placement', 'map', 'time', 'victim_name', 'victim_placement', \n",
    "                        'kill_dist', 'tear_score', 'num_of_match', 'tear',\n",
    "                        'kda']]"
   ]
  },
  {
   "cell_type": "code",
   "execution_count": 55,
   "id": "61867333-69b9-4054-b965-2cb6849bf613",
   "metadata": {},
   "outputs": [],
   "source": [
    "solo_tear = solo_anal[['player_name', 'tear']]"
   ]
  },
  {
   "cell_type": "code",
   "execution_count": 56,
   "id": "48791864-7d79-4c5c-8091-35b7d3a8b98e",
   "metadata": {},
   "outputs": [
    {
     "data": {
      "text/html": [
       "<div>\n",
       "<style scoped>\n",
       "    .dataframe tbody tr th:only-of-type {\n",
       "        vertical-align: middle;\n",
       "    }\n",
       "\n",
       "    .dataframe tbody tr th {\n",
       "        vertical-align: top;\n",
       "    }\n",
       "\n",
       "    .dataframe thead th {\n",
       "        text-align: right;\n",
       "    }\n",
       "</style>\n",
       "<table border=\"1\" class=\"dataframe\">\n",
       "  <thead>\n",
       "    <tr style=\"text-align: right;\">\n",
       "      <th></th>\n",
       "      <th>game_size</th>\n",
       "      <th>match_id</th>\n",
       "      <th>player_assists</th>\n",
       "      <th>player_dist_ride</th>\n",
       "      <th>player_dist_walk</th>\n",
       "      <th>player_dmg</th>\n",
       "      <th>player_kills</th>\n",
       "      <th>player_name</th>\n",
       "      <th>player_survive_time</th>\n",
       "      <th>team_id</th>\n",
       "      <th>...</th>\n",
       "      <th>killer_placement</th>\n",
       "      <th>map</th>\n",
       "      <th>time</th>\n",
       "      <th>victim_name</th>\n",
       "      <th>victim_placement</th>\n",
       "      <th>kill_dist</th>\n",
       "      <th>tear_score</th>\n",
       "      <th>num_of_match</th>\n",
       "      <th>tear</th>\n",
       "      <th>kda</th>\n",
       "    </tr>\n",
       "  </thead>\n",
       "  <tbody>\n",
       "    <tr>\n",
       "      <th>0</th>\n",
       "      <td>91</td>\n",
       "      <td>2U4GBNA0YmlixJ6lhgS6xB2tqdo7SEhoYyHlVu18akkAzL...</td>\n",
       "      <td>0</td>\n",
       "      <td>0.00000</td>\n",
       "      <td>66.54559</td>\n",
       "      <td>0</td>\n",
       "      <td>0</td>\n",
       "      <td>osamabinlaggon</td>\n",
       "      <td>124.782</td>\n",
       "      <td>100005</td>\n",
       "      <td>...</td>\n",
       "      <td>NaN</td>\n",
       "      <td>ERANGEL</td>\n",
       "      <td>NaN</td>\n",
       "      <td>NaN</td>\n",
       "      <td>NaN</td>\n",
       "      <td>NaN</td>\n",
       "      <td>13</td>\n",
       "      <td>16</td>\n",
       "      <td>Silver</td>\n",
       "      <td>0.555556</td>\n",
       "    </tr>\n",
       "    <tr>\n",
       "      <th>1</th>\n",
       "      <td>91</td>\n",
       "      <td>2U4GBNA0YmlixJ6lhgS6xB2tqdo7SEhoYyHlVu18akkAzL...</td>\n",
       "      <td>0</td>\n",
       "      <td>2646.18400</td>\n",
       "      <td>1431.29200</td>\n",
       "      <td>24</td>\n",
       "      <td>0</td>\n",
       "      <td>GOGingmimi</td>\n",
       "      <td>751.716</td>\n",
       "      <td>100007</td>\n",
       "      <td>...</td>\n",
       "      <td>NaN</td>\n",
       "      <td>ERANGEL</td>\n",
       "      <td>NaN</td>\n",
       "      <td>NaN</td>\n",
       "      <td>NaN</td>\n",
       "      <td>NaN</td>\n",
       "      <td>54</td>\n",
       "      <td>39</td>\n",
       "      <td>Platinum</td>\n",
       "      <td>0.822222</td>\n",
       "    </tr>\n",
       "    <tr>\n",
       "      <th>2</th>\n",
       "      <td>91</td>\n",
       "      <td>2U4GBNA0YmlixJ6lhgS6xB2tqdo7SEhoYyHlVu18akkAzL...</td>\n",
       "      <td>0</td>\n",
       "      <td>0.00000</td>\n",
       "      <td>723.10230</td>\n",
       "      <td>100</td>\n",
       "      <td>1</td>\n",
       "      <td>AtomicBrunette</td>\n",
       "      <td>744.088</td>\n",
       "      <td>100011</td>\n",
       "      <td>...</td>\n",
       "      <td>47.0</td>\n",
       "      <td>ERANGEL</td>\n",
       "      <td>297.0</td>\n",
       "      <td>DzzzZZZZP</td>\n",
       "      <td>66.0</td>\n",
       "      <td>1863.379202</td>\n",
       "      <td>55</td>\n",
       "      <td>14</td>\n",
       "      <td>Silver</td>\n",
       "      <td>0.214286</td>\n",
       "    </tr>\n",
       "    <tr>\n",
       "      <th>3</th>\n",
       "      <td>91</td>\n",
       "      <td>2U4GBNA0YmlixJ6lhgS6xB2tqdo7SEhoYyHlVu18akkAzL...</td>\n",
       "      <td>0</td>\n",
       "      <td>1055.67761</td>\n",
       "      <td>1889.02800</td>\n",
       "      <td>438</td>\n",
       "      <td>4</td>\n",
       "      <td>LORD_JTR</td>\n",
       "      <td>1006.527</td>\n",
       "      <td>100022</td>\n",
       "      <td>...</td>\n",
       "      <td>29.0</td>\n",
       "      <td>ERANGEL</td>\n",
       "      <td>773.0</td>\n",
       "      <td>hyh981118</td>\n",
       "      <td>44.0</td>\n",
       "      <td>5126.637270</td>\n",
       "      <td>79</td>\n",
       "      <td>17</td>\n",
       "      <td>Silver</td>\n",
       "      <td>0.789474</td>\n",
       "    </tr>\n",
       "    <tr>\n",
       "      <th>4</th>\n",
       "      <td>91</td>\n",
       "      <td>2U4GBNA0YmlixJ6lhgS6xB2tqdo7SEhoYyHlVu18akkAzL...</td>\n",
       "      <td>0</td>\n",
       "      <td>1055.67761</td>\n",
       "      <td>1889.02800</td>\n",
       "      <td>438</td>\n",
       "      <td>4</td>\n",
       "      <td>LORD_JTR</td>\n",
       "      <td>1006.527</td>\n",
       "      <td>100022</td>\n",
       "      <td>...</td>\n",
       "      <td>29.0</td>\n",
       "      <td>ERANGEL</td>\n",
       "      <td>109.0</td>\n",
       "      <td>jet9187</td>\n",
       "      <td>89.0</td>\n",
       "      <td>776.106307</td>\n",
       "      <td>79</td>\n",
       "      <td>17</td>\n",
       "      <td>Silver</td>\n",
       "      <td>0.789474</td>\n",
       "    </tr>\n",
       "  </tbody>\n",
       "</table>\n",
       "<p>5 rows × 22 columns</p>\n",
       "</div>"
      ],
      "text/plain": [
       "   game_size                                           match_id  \\\n",
       "0         91  2U4GBNA0YmlixJ6lhgS6xB2tqdo7SEhoYyHlVu18akkAzL...   \n",
       "1         91  2U4GBNA0YmlixJ6lhgS6xB2tqdo7SEhoYyHlVu18akkAzL...   \n",
       "2         91  2U4GBNA0YmlixJ6lhgS6xB2tqdo7SEhoYyHlVu18akkAzL...   \n",
       "3         91  2U4GBNA0YmlixJ6lhgS6xB2tqdo7SEhoYyHlVu18akkAzL...   \n",
       "4         91  2U4GBNA0YmlixJ6lhgS6xB2tqdo7SEhoYyHlVu18akkAzL...   \n",
       "\n",
       "   player_assists  player_dist_ride  player_dist_walk  player_dmg  \\\n",
       "0               0           0.00000          66.54559           0   \n",
       "1               0        2646.18400        1431.29200          24   \n",
       "2               0           0.00000         723.10230         100   \n",
       "3               0        1055.67761        1889.02800         438   \n",
       "4               0        1055.67761        1889.02800         438   \n",
       "\n",
       "   player_kills     player_name  player_survive_time  team_id  ...  \\\n",
       "0             0  osamabinlaggon              124.782   100005  ...   \n",
       "1             0      GOGingmimi              751.716   100007  ...   \n",
       "2             1  AtomicBrunette              744.088   100011  ...   \n",
       "3             4        LORD_JTR             1006.527   100022  ...   \n",
       "4             4        LORD_JTR             1006.527   100022  ...   \n",
       "\n",
       "   killer_placement      map   time victim_name  victim_placement  \\\n",
       "0               NaN  ERANGEL    NaN         NaN               NaN   \n",
       "1               NaN  ERANGEL    NaN         NaN               NaN   \n",
       "2              47.0  ERANGEL  297.0   DzzzZZZZP              66.0   \n",
       "3              29.0  ERANGEL  773.0   hyh981118              44.0   \n",
       "4              29.0  ERANGEL  109.0     jet9187              89.0   \n",
       "\n",
       "     kill_dist  tear_score  num_of_match      tear       kda  \n",
       "0          NaN          13            16    Silver  0.555556  \n",
       "1          NaN          54            39  Platinum  0.822222  \n",
       "2  1863.379202          55            14    Silver  0.214286  \n",
       "3  5126.637270          79            17    Silver  0.789474  \n",
       "4   776.106307          79            17    Silver  0.789474  \n",
       "\n",
       "[5 rows x 22 columns]"
      ]
     },
     "execution_count": 56,
     "metadata": {},
     "output_type": "execute_result"
    }
   ],
   "source": [
    "anova_solo.head()"
   ]
  },
  {
   "cell_type": "code",
   "execution_count": 57,
   "id": "4cc78a9e-e5c9-454f-b5b7-f131e03219b5",
   "metadata": {},
   "outputs": [],
   "source": [
    "temp = anova_solo.groupby(['match_id', 'player_name']).mean().reset_index().iloc[:, 1:]"
   ]
  },
  {
   "cell_type": "code",
   "execution_count": 58,
   "id": "3fad5db3-e889-4c60-9074-2fc9dce84b70",
   "metadata": {},
   "outputs": [],
   "source": [
    "temp2 = temp.groupby('player_name').mean().reset_index()"
   ]
  },
  {
   "cell_type": "code",
   "execution_count": 59,
   "id": "f0f296a9-1cf8-4922-9f9d-46464d994505",
   "metadata": {},
   "outputs": [
    {
     "data": {
      "text/html": [
       "<div>\n",
       "<style scoped>\n",
       "    .dataframe tbody tr th:only-of-type {\n",
       "        vertical-align: middle;\n",
       "    }\n",
       "\n",
       "    .dataframe tbody tr th {\n",
       "        vertical-align: top;\n",
       "    }\n",
       "\n",
       "    .dataframe thead th {\n",
       "        text-align: right;\n",
       "    }\n",
       "</style>\n",
       "<table border=\"1\" class=\"dataframe\">\n",
       "  <thead>\n",
       "    <tr style=\"text-align: right;\">\n",
       "      <th></th>\n",
       "      <th>player_name</th>\n",
       "      <th>game_size</th>\n",
       "      <th>player_assists</th>\n",
       "      <th>player_dist_ride</th>\n",
       "      <th>player_dist_walk</th>\n",
       "      <th>player_dmg</th>\n",
       "      <th>player_kills</th>\n",
       "      <th>player_survive_time</th>\n",
       "      <th>team_id</th>\n",
       "      <th>team_placement</th>\n",
       "      <th>killer_placement</th>\n",
       "      <th>time</th>\n",
       "      <th>victim_placement</th>\n",
       "      <th>kill_dist</th>\n",
       "      <th>tear_score</th>\n",
       "      <th>num_of_match</th>\n",
       "      <th>kda</th>\n",
       "    </tr>\n",
       "  </thead>\n",
       "  <tbody>\n",
       "    <tr>\n",
       "      <th>0</th>\n",
       "      <td>0-0-0-0-0-o</td>\n",
       "      <td>96.000000</td>\n",
       "      <td>0.000000</td>\n",
       "      <td>405.481372</td>\n",
       "      <td>686.748755</td>\n",
       "      <td>226.500000</td>\n",
       "      <td>2.000000</td>\n",
       "      <td>663.063200</td>\n",
       "      <td>100053.500000</td>\n",
       "      <td>61.600000</td>\n",
       "      <td>38.600000</td>\n",
       "      <td>480.106667</td>\n",
       "      <td>60.926667</td>\n",
       "      <td>3660.370599</td>\n",
       "      <td>42.400000</td>\n",
       "      <td>10.0</td>\n",
       "      <td>4.080000</td>\n",
       "    </tr>\n",
       "    <tr>\n",
       "      <th>1</th>\n",
       "      <td>0-0HeartBreaker</td>\n",
       "      <td>90.818182</td>\n",
       "      <td>0.000000</td>\n",
       "      <td>2349.623621</td>\n",
       "      <td>1662.081098</td>\n",
       "      <td>87.454545</td>\n",
       "      <td>0.727273</td>\n",
       "      <td>945.472091</td>\n",
       "      <td>100056.363636</td>\n",
       "      <td>34.272727</td>\n",
       "      <td>21.250000</td>\n",
       "      <td>372.000000</td>\n",
       "      <td>60.750000</td>\n",
       "      <td>2416.433686</td>\n",
       "      <td>67.181818</td>\n",
       "      <td>11.0</td>\n",
       "      <td>0.727273</td>\n",
       "    </tr>\n",
       "    <tr>\n",
       "      <th>2</th>\n",
       "      <td>0-0JiangNan</td>\n",
       "      <td>91.638298</td>\n",
       "      <td>0.063830</td>\n",
       "      <td>761.737536</td>\n",
       "      <td>1063.161897</td>\n",
       "      <td>82.680851</td>\n",
       "      <td>0.574468</td>\n",
       "      <td>669.198745</td>\n",
       "      <td>100060.042553</td>\n",
       "      <td>46.276596</td>\n",
       "      <td>35.666667</td>\n",
       "      <td>424.952381</td>\n",
       "      <td>54.174603</td>\n",
       "      <td>2349.284635</td>\n",
       "      <td>55.000000</td>\n",
       "      <td>47.0</td>\n",
       "      <td>0.851852</td>\n",
       "    </tr>\n",
       "    <tr>\n",
       "      <th>3</th>\n",
       "      <td>0-0TAT</td>\n",
       "      <td>92.629630</td>\n",
       "      <td>0.074074</td>\n",
       "      <td>1044.934811</td>\n",
       "      <td>731.275610</td>\n",
       "      <td>140.703704</td>\n",
       "      <td>1.259259</td>\n",
       "      <td>553.449259</td>\n",
       "      <td>100036.259259</td>\n",
       "      <td>53.407407</td>\n",
       "      <td>40.000000</td>\n",
       "      <td>388.915556</td>\n",
       "      <td>63.546667</td>\n",
       "      <td>2073.601928</td>\n",
       "      <td>49.259259</td>\n",
       "      <td>27.0</td>\n",
       "      <td>2.000000</td>\n",
       "    </tr>\n",
       "    <tr>\n",
       "      <th>4</th>\n",
       "      <td>0-101</td>\n",
       "      <td>93.388889</td>\n",
       "      <td>0.083333</td>\n",
       "      <td>321.020738</td>\n",
       "      <td>756.959344</td>\n",
       "      <td>107.833333</td>\n",
       "      <td>0.861111</td>\n",
       "      <td>539.380889</td>\n",
       "      <td>100051.416667</td>\n",
       "      <td>58.916667</td>\n",
       "      <td>40.823529</td>\n",
       "      <td>479.156863</td>\n",
       "      <td>60.411765</td>\n",
       "      <td>3711.149071</td>\n",
       "      <td>42.972222</td>\n",
       "      <td>36.0</td>\n",
       "      <td>1.560000</td>\n",
       "    </tr>\n",
       "  </tbody>\n",
       "</table>\n",
       "</div>"
      ],
      "text/plain": [
       "       player_name  game_size  player_assists  player_dist_ride  \\\n",
       "0      0-0-0-0-0-o  96.000000        0.000000        405.481372   \n",
       "1  0-0HeartBreaker  90.818182        0.000000       2349.623621   \n",
       "2      0-0JiangNan  91.638298        0.063830        761.737536   \n",
       "3           0-0TAT  92.629630        0.074074       1044.934811   \n",
       "4            0-101  93.388889        0.083333        321.020738   \n",
       "\n",
       "   player_dist_walk  player_dmg  player_kills  player_survive_time  \\\n",
       "0        686.748755  226.500000      2.000000           663.063200   \n",
       "1       1662.081098   87.454545      0.727273           945.472091   \n",
       "2       1063.161897   82.680851      0.574468           669.198745   \n",
       "3        731.275610  140.703704      1.259259           553.449259   \n",
       "4        756.959344  107.833333      0.861111           539.380889   \n",
       "\n",
       "         team_id  team_placement  killer_placement        time  \\\n",
       "0  100053.500000       61.600000         38.600000  480.106667   \n",
       "1  100056.363636       34.272727         21.250000  372.000000   \n",
       "2  100060.042553       46.276596         35.666667  424.952381   \n",
       "3  100036.259259       53.407407         40.000000  388.915556   \n",
       "4  100051.416667       58.916667         40.823529  479.156863   \n",
       "\n",
       "   victim_placement    kill_dist  tear_score  num_of_match       kda  \n",
       "0         60.926667  3660.370599   42.400000          10.0  4.080000  \n",
       "1         60.750000  2416.433686   67.181818          11.0  0.727273  \n",
       "2         54.174603  2349.284635   55.000000          47.0  0.851852  \n",
       "3         63.546667  2073.601928   49.259259          27.0  2.000000  \n",
       "4         60.411765  3711.149071   42.972222          36.0  1.560000  "
      ]
     },
     "execution_count": 59,
     "metadata": {},
     "output_type": "execute_result"
    }
   ],
   "source": [
    "temp2.head()"
   ]
  },
  {
   "cell_type": "code",
   "execution_count": 60,
   "id": "016c7c73-ee87-4e5b-b726-1fe8d61af336",
   "metadata": {},
   "outputs": [
    {
     "data": {
      "text/plain": [
       "8497685"
      ]
     },
     "execution_count": 60,
     "metadata": {},
     "output_type": "execute_result"
    }
   ],
   "source": [
    "solo_tear.duplicated().sum()"
   ]
  },
  {
   "cell_type": "code",
   "execution_count": 61,
   "id": "530e827e-4698-4ef9-9a7e-835f9268328e",
   "metadata": {},
   "outputs": [],
   "source": [
    "solo_tear = solo_tear.drop_duplicates()"
   ]
  },
  {
   "cell_type": "code",
   "execution_count": 62,
   "id": "d1af86a1-f4b0-4445-805e-3d38c1915d7f",
   "metadata": {},
   "outputs": [],
   "source": [
    "anova_solo = temp2.merge(solo_tear, how = 'left', on = 'player_name')"
   ]
  },
  {
   "cell_type": "code",
   "execution_count": 63,
   "id": "74ee378f-b40d-4d4f-a63c-542997b2fe2a",
   "metadata": {},
   "outputs": [],
   "source": [
    "anova_solo = anova_solo.iloc[:, 1:]"
   ]
  },
  {
   "cell_type": "code",
   "execution_count": 64,
   "id": "b9e34db5-1a52-4fea-8e2c-936cd4f8a489",
   "metadata": {},
   "outputs": [],
   "source": [
    "tier_diff_solo = anova_solo[['player_kills', 'player_dmg', 'player_assists']]"
   ]
  },
  {
   "cell_type": "code",
   "execution_count": 65,
   "id": "1221762e-cc7f-4df1-a93b-2798f414c582",
   "metadata": {},
   "outputs": [
    {
     "name": "stderr",
     "output_type": "stream",
     "text": [
      "c:\\users\\kyean\\anaconda3\\envs\\nano\\lib\\site-packages\\pandas\\core\\frame.py:3607: SettingWithCopyWarning: \n",
      "A value is trying to be set on a copy of a slice from a DataFrame.\n",
      "Try using .loc[row_indexer,col_indexer] = value instead\n",
      "\n",
      "See the caveats in the documentation: https://pandas.pydata.org/pandas-docs/stable/user_guide/indexing.html#returning-a-view-versus-a-copy\n",
      "  self._set_item(key, value)\n"
     ]
    }
   ],
   "source": [
    "tier_diff_solo['player_dbno'] = 0"
   ]
  },
  {
   "cell_type": "code",
   "execution_count": 66,
   "id": "d7d6a79f-d2ae-4627-b885-82722eb51e31",
   "metadata": {},
   "outputs": [
    {
     "data": {
      "text/html": [
       "<div>\n",
       "<style scoped>\n",
       "    .dataframe tbody tr th:only-of-type {\n",
       "        vertical-align: middle;\n",
       "    }\n",
       "\n",
       "    .dataframe tbody tr th {\n",
       "        vertical-align: top;\n",
       "    }\n",
       "\n",
       "    .dataframe thead th {\n",
       "        text-align: right;\n",
       "    }\n",
       "</style>\n",
       "<table border=\"1\" class=\"dataframe\">\n",
       "  <thead>\n",
       "    <tr style=\"text-align: right;\">\n",
       "      <th></th>\n",
       "      <th>player_kills</th>\n",
       "      <th>player_dmg</th>\n",
       "      <th>player_assists</th>\n",
       "      <th>player_dbno</th>\n",
       "    </tr>\n",
       "  </thead>\n",
       "  <tbody>\n",
       "    <tr>\n",
       "      <th>0</th>\n",
       "      <td>2.000000</td>\n",
       "      <td>226.500000</td>\n",
       "      <td>0.000000</td>\n",
       "      <td>0</td>\n",
       "    </tr>\n",
       "    <tr>\n",
       "      <th>1</th>\n",
       "      <td>0.727273</td>\n",
       "      <td>87.454545</td>\n",
       "      <td>0.000000</td>\n",
       "      <td>0</td>\n",
       "    </tr>\n",
       "    <tr>\n",
       "      <th>2</th>\n",
       "      <td>0.574468</td>\n",
       "      <td>82.680851</td>\n",
       "      <td>0.063830</td>\n",
       "      <td>0</td>\n",
       "    </tr>\n",
       "    <tr>\n",
       "      <th>3</th>\n",
       "      <td>1.259259</td>\n",
       "      <td>140.703704</td>\n",
       "      <td>0.074074</td>\n",
       "      <td>0</td>\n",
       "    </tr>\n",
       "    <tr>\n",
       "      <th>4</th>\n",
       "      <td>0.861111</td>\n",
       "      <td>107.833333</td>\n",
       "      <td>0.083333</td>\n",
       "      <td>0</td>\n",
       "    </tr>\n",
       "    <tr>\n",
       "      <th>...</th>\n",
       "      <td>...</td>\n",
       "      <td>...</td>\n",
       "      <td>...</td>\n",
       "      <td>...</td>\n",
       "    </tr>\n",
       "    <tr>\n",
       "      <th>298514</th>\n",
       "      <td>0.631579</td>\n",
       "      <td>87.736842</td>\n",
       "      <td>0.052632</td>\n",
       "      <td>0</td>\n",
       "    </tr>\n",
       "    <tr>\n",
       "      <th>298515</th>\n",
       "      <td>1.322581</td>\n",
       "      <td>144.451613</td>\n",
       "      <td>0.032258</td>\n",
       "      <td>0</td>\n",
       "    </tr>\n",
       "    <tr>\n",
       "      <th>298516</th>\n",
       "      <td>1.095238</td>\n",
       "      <td>146.190476</td>\n",
       "      <td>0.095238</td>\n",
       "      <td>0</td>\n",
       "    </tr>\n",
       "    <tr>\n",
       "      <th>298517</th>\n",
       "      <td>0.153846</td>\n",
       "      <td>39.230769</td>\n",
       "      <td>0.000000</td>\n",
       "      <td>0</td>\n",
       "    </tr>\n",
       "    <tr>\n",
       "      <th>298518</th>\n",
       "      <td>0.851852</td>\n",
       "      <td>123.000000</td>\n",
       "      <td>0.148148</td>\n",
       "      <td>0</td>\n",
       "    </tr>\n",
       "  </tbody>\n",
       "</table>\n",
       "<p>298519 rows × 4 columns</p>\n",
       "</div>"
      ],
      "text/plain": [
       "        player_kills  player_dmg  player_assists  player_dbno\n",
       "0           2.000000  226.500000        0.000000            0\n",
       "1           0.727273   87.454545        0.000000            0\n",
       "2           0.574468   82.680851        0.063830            0\n",
       "3           1.259259  140.703704        0.074074            0\n",
       "4           0.861111  107.833333        0.083333            0\n",
       "...              ...         ...             ...          ...\n",
       "298514      0.631579   87.736842        0.052632            0\n",
       "298515      1.322581  144.451613        0.032258            0\n",
       "298516      1.095238  146.190476        0.095238            0\n",
       "298517      0.153846   39.230769        0.000000            0\n",
       "298518      0.851852  123.000000        0.148148            0\n",
       "\n",
       "[298519 rows x 4 columns]"
      ]
     },
     "execution_count": 66,
     "metadata": {},
     "output_type": "execute_result"
    }
   ],
   "source": [
    "tier_diff_solo"
   ]
  },
  {
   "cell_type": "code",
   "execution_count": 67,
   "id": "abb59673-c573-4f6b-911f-3be8a5e5060e",
   "metadata": {},
   "outputs": [],
   "source": [
    "tier_diff_solo = pd.concat([tier_diff_solo, anova_solo[['kda', 'player_dist_walk', 'player_dist_ride', 'kill_dist', 'player_survive_time', 'team_placement', 'num_of_match', 'tear']]], axis = 1)"
   ]
  },
  {
   "cell_type": "code",
   "execution_count": 68,
   "id": "5de6bafa-5d23-45d1-8183-e19ccef96c10",
   "metadata": {},
   "outputs": [],
   "source": [
    "tier_diff_solo.columns = ['player_kills', 'player_dmg', 'player_assists', 'player_dbno', 'kda',\n",
    "                          'player_dist_walk', 'player_dist_ride', 'kill_dist',\n",
    "                          'player_survive_time', 'team_placement', 'num_of_match', 'tier']"
   ]
  },
  {
   "cell_type": "code",
   "execution_count": 69,
   "id": "fb877d3b-039c-4c23-85f4-64b396ab126a",
   "metadata": {},
   "outputs": [
    {
     "data": {
      "text/html": [
       "<div>\n",
       "<style scoped>\n",
       "    .dataframe tbody tr th:only-of-type {\n",
       "        vertical-align: middle;\n",
       "    }\n",
       "\n",
       "    .dataframe tbody tr th {\n",
       "        vertical-align: top;\n",
       "    }\n",
       "\n",
       "    .dataframe thead th {\n",
       "        text-align: right;\n",
       "    }\n",
       "</style>\n",
       "<table border=\"1\" class=\"dataframe\">\n",
       "  <thead>\n",
       "    <tr style=\"text-align: right;\">\n",
       "      <th></th>\n",
       "      <th>player_kills</th>\n",
       "      <th>player_dmg</th>\n",
       "      <th>player_assists</th>\n",
       "      <th>player_dbno</th>\n",
       "      <th>kda</th>\n",
       "      <th>player_dist_walk</th>\n",
       "      <th>player_dist_ride</th>\n",
       "      <th>kill_dist</th>\n",
       "      <th>player_survive_time</th>\n",
       "      <th>team_placement</th>\n",
       "      <th>num_of_match</th>\n",
       "      <th>tier</th>\n",
       "    </tr>\n",
       "  </thead>\n",
       "  <tbody>\n",
       "    <tr>\n",
       "      <th>0</th>\n",
       "      <td>2.000000</td>\n",
       "      <td>226.500000</td>\n",
       "      <td>0.000000</td>\n",
       "      <td>0</td>\n",
       "      <td>4.080000</td>\n",
       "      <td>686.748755</td>\n",
       "      <td>405.481372</td>\n",
       "      <td>3660.370599</td>\n",
       "      <td>663.063200</td>\n",
       "      <td>61.600000</td>\n",
       "      <td>10.0</td>\n",
       "      <td>Silver</td>\n",
       "    </tr>\n",
       "    <tr>\n",
       "      <th>1</th>\n",
       "      <td>0.727273</td>\n",
       "      <td>87.454545</td>\n",
       "      <td>0.000000</td>\n",
       "      <td>0</td>\n",
       "      <td>0.727273</td>\n",
       "      <td>1662.081098</td>\n",
       "      <td>2349.623621</td>\n",
       "      <td>2416.433686</td>\n",
       "      <td>945.472091</td>\n",
       "      <td>34.272727</td>\n",
       "      <td>11.0</td>\n",
       "      <td>Silver</td>\n",
       "    </tr>\n",
       "    <tr>\n",
       "      <th>2</th>\n",
       "      <td>0.574468</td>\n",
       "      <td>82.680851</td>\n",
       "      <td>0.063830</td>\n",
       "      <td>0</td>\n",
       "      <td>0.851852</td>\n",
       "      <td>1063.161897</td>\n",
       "      <td>761.737536</td>\n",
       "      <td>2349.284635</td>\n",
       "      <td>669.198745</td>\n",
       "      <td>46.276596</td>\n",
       "      <td>47.0</td>\n",
       "      <td>Platinum</td>\n",
       "    </tr>\n",
       "    <tr>\n",
       "      <th>3</th>\n",
       "      <td>1.259259</td>\n",
       "      <td>140.703704</td>\n",
       "      <td>0.074074</td>\n",
       "      <td>0</td>\n",
       "      <td>2.000000</td>\n",
       "      <td>731.275610</td>\n",
       "      <td>1044.934811</td>\n",
       "      <td>2073.601928</td>\n",
       "      <td>553.449259</td>\n",
       "      <td>53.407407</td>\n",
       "      <td>27.0</td>\n",
       "      <td>Gold</td>\n",
       "    </tr>\n",
       "    <tr>\n",
       "      <th>4</th>\n",
       "      <td>0.861111</td>\n",
       "      <td>107.833333</td>\n",
       "      <td>0.083333</td>\n",
       "      <td>0</td>\n",
       "      <td>1.560000</td>\n",
       "      <td>756.959344</td>\n",
       "      <td>321.020738</td>\n",
       "      <td>3711.149071</td>\n",
       "      <td>539.380889</td>\n",
       "      <td>58.916667</td>\n",
       "      <td>36.0</td>\n",
       "      <td>Gold</td>\n",
       "    </tr>\n",
       "    <tr>\n",
       "      <th>...</th>\n",
       "      <td>...</td>\n",
       "      <td>...</td>\n",
       "      <td>...</td>\n",
       "      <td>...</td>\n",
       "      <td>...</td>\n",
       "      <td>...</td>\n",
       "      <td>...</td>\n",
       "      <td>...</td>\n",
       "      <td>...</td>\n",
       "      <td>...</td>\n",
       "      <td>...</td>\n",
       "      <td>...</td>\n",
       "    </tr>\n",
       "    <tr>\n",
       "      <th>298514</th>\n",
       "      <td>0.631579</td>\n",
       "      <td>87.736842</td>\n",
       "      <td>0.052632</td>\n",
       "      <td>0</td>\n",
       "      <td>1.840000</td>\n",
       "      <td>1037.011672</td>\n",
       "      <td>714.801655</td>\n",
       "      <td>2563.280189</td>\n",
       "      <td>642.166684</td>\n",
       "      <td>51.052632</td>\n",
       "      <td>19.0</td>\n",
       "      <td>Gold</td>\n",
       "    </tr>\n",
       "    <tr>\n",
       "      <th>298515</th>\n",
       "      <td>1.322581</td>\n",
       "      <td>144.451613</td>\n",
       "      <td>0.032258</td>\n",
       "      <td>0</td>\n",
       "      <td>2.830189</td>\n",
       "      <td>1382.297662</td>\n",
       "      <td>726.627352</td>\n",
       "      <td>4850.737478</td>\n",
       "      <td>702.945677</td>\n",
       "      <td>45.032258</td>\n",
       "      <td>31.0</td>\n",
       "      <td>Gold</td>\n",
       "    </tr>\n",
       "    <tr>\n",
       "      <th>298516</th>\n",
       "      <td>1.095238</td>\n",
       "      <td>146.190476</td>\n",
       "      <td>0.095238</td>\n",
       "      <td>0</td>\n",
       "      <td>3.250000</td>\n",
       "      <td>662.501793</td>\n",
       "      <td>428.054347</td>\n",
       "      <td>1111.599817</td>\n",
       "      <td>493.468619</td>\n",
       "      <td>62.952381</td>\n",
       "      <td>21.0</td>\n",
       "      <td>Silver</td>\n",
       "    </tr>\n",
       "    <tr>\n",
       "      <th>298517</th>\n",
       "      <td>0.153846</td>\n",
       "      <td>39.230769</td>\n",
       "      <td>0.000000</td>\n",
       "      <td>0</td>\n",
       "      <td>0.153846</td>\n",
       "      <td>1000.066268</td>\n",
       "      <td>39.710883</td>\n",
       "      <td>577.903946</td>\n",
       "      <td>537.895769</td>\n",
       "      <td>51.153846</td>\n",
       "      <td>13.0</td>\n",
       "      <td>Silver</td>\n",
       "    </tr>\n",
       "    <tr>\n",
       "      <th>298518</th>\n",
       "      <td>0.851852</td>\n",
       "      <td>123.000000</td>\n",
       "      <td>0.148148</td>\n",
       "      <td>0</td>\n",
       "      <td>1.410256</td>\n",
       "      <td>921.378134</td>\n",
       "      <td>513.678969</td>\n",
       "      <td>2951.666690</td>\n",
       "      <td>612.440704</td>\n",
       "      <td>54.629630</td>\n",
       "      <td>27.0</td>\n",
       "      <td>Gold</td>\n",
       "    </tr>\n",
       "  </tbody>\n",
       "</table>\n",
       "<p>298519 rows × 12 columns</p>\n",
       "</div>"
      ],
      "text/plain": [
       "        player_kills  player_dmg  player_assists  player_dbno       kda  \\\n",
       "0           2.000000  226.500000        0.000000            0  4.080000   \n",
       "1           0.727273   87.454545        0.000000            0  0.727273   \n",
       "2           0.574468   82.680851        0.063830            0  0.851852   \n",
       "3           1.259259  140.703704        0.074074            0  2.000000   \n",
       "4           0.861111  107.833333        0.083333            0  1.560000   \n",
       "...              ...         ...             ...          ...       ...   \n",
       "298514      0.631579   87.736842        0.052632            0  1.840000   \n",
       "298515      1.322581  144.451613        0.032258            0  2.830189   \n",
       "298516      1.095238  146.190476        0.095238            0  3.250000   \n",
       "298517      0.153846   39.230769        0.000000            0  0.153846   \n",
       "298518      0.851852  123.000000        0.148148            0  1.410256   \n",
       "\n",
       "        player_dist_walk  player_dist_ride    kill_dist  player_survive_time  \\\n",
       "0             686.748755        405.481372  3660.370599           663.063200   \n",
       "1            1662.081098       2349.623621  2416.433686           945.472091   \n",
       "2            1063.161897        761.737536  2349.284635           669.198745   \n",
       "3             731.275610       1044.934811  2073.601928           553.449259   \n",
       "4             756.959344        321.020738  3711.149071           539.380889   \n",
       "...                  ...               ...          ...                  ...   \n",
       "298514       1037.011672        714.801655  2563.280189           642.166684   \n",
       "298515       1382.297662        726.627352  4850.737478           702.945677   \n",
       "298516        662.501793        428.054347  1111.599817           493.468619   \n",
       "298517       1000.066268         39.710883   577.903946           537.895769   \n",
       "298518        921.378134        513.678969  2951.666690           612.440704   \n",
       "\n",
       "        team_placement  num_of_match      tier  \n",
       "0            61.600000          10.0    Silver  \n",
       "1            34.272727          11.0    Silver  \n",
       "2            46.276596          47.0  Platinum  \n",
       "3            53.407407          27.0      Gold  \n",
       "4            58.916667          36.0      Gold  \n",
       "...                ...           ...       ...  \n",
       "298514       51.052632          19.0      Gold  \n",
       "298515       45.032258          31.0      Gold  \n",
       "298516       62.952381          21.0    Silver  \n",
       "298517       51.153846          13.0    Silver  \n",
       "298518       54.629630          27.0      Gold  \n",
       "\n",
       "[298519 rows x 12 columns]"
      ]
     },
     "execution_count": 69,
     "metadata": {},
     "output_type": "execute_result"
    }
   ],
   "source": [
    "tier_diff_solo"
   ]
  },
  {
   "cell_type": "code",
   "execution_count": 74,
   "id": "986d66a0-2121-453b-a792-c7d2a450a86e",
   "metadata": {},
   "outputs": [],
   "source": [
    "# tier_diff_solo.to_csv('./Dataset/tier_diff_solo.csv', index = False)"
   ]
  },
  {
   "cell_type": "code",
   "execution_count": 243,
   "id": "cc6de5b9-4606-4601-970c-dd2408afd3c2",
   "metadata": {},
   "outputs": [
    {
     "data": {
      "text/html": [
       "<div>\n",
       "<style scoped>\n",
       "    .dataframe tbody tr th:only-of-type {\n",
       "        vertical-align: middle;\n",
       "    }\n",
       "\n",
       "    .dataframe tbody tr th {\n",
       "        vertical-align: top;\n",
       "    }\n",
       "\n",
       "    .dataframe thead th {\n",
       "        text-align: right;\n",
       "    }\n",
       "</style>\n",
       "<table border=\"1\" class=\"dataframe\">\n",
       "  <thead>\n",
       "    <tr style=\"text-align: right;\">\n",
       "      <th></th>\n",
       "      <th>player_kills</th>\n",
       "      <th>player_dmg</th>\n",
       "      <th>player_assists</th>\n",
       "      <th>player_dbno</th>\n",
       "      <th>kda</th>\n",
       "      <th>player_dist_walk</th>\n",
       "      <th>player_dist_ride</th>\n",
       "      <th>kill_dist</th>\n",
       "      <th>player_survive_time</th>\n",
       "      <th>team_placement</th>\n",
       "      <th>num_of_match</th>\n",
       "      <th>tier</th>\n",
       "    </tr>\n",
       "  </thead>\n",
       "  <tbody>\n",
       "    <tr>\n",
       "      <th>0</th>\n",
       "      <td>0.106383</td>\n",
       "      <td>0.120078</td>\n",
       "      <td>0.000000</td>\n",
       "      <td>NaN</td>\n",
       "      <td>0.166263</td>\n",
       "      <td>0.121593</td>\n",
       "      <td>0.051050</td>\n",
       "      <td>0.094555</td>\n",
       "      <td>0.322476</td>\n",
       "      <td>0.660266</td>\n",
       "      <td>0.000000</td>\n",
       "      <td>Silver</td>\n",
       "    </tr>\n",
       "    <tr>\n",
       "      <th>1</th>\n",
       "      <td>0.038685</td>\n",
       "      <td>0.046364</td>\n",
       "      <td>0.000000</td>\n",
       "      <td>NaN</td>\n",
       "      <td>0.029637</td>\n",
       "      <td>0.294281</td>\n",
       "      <td>0.295819</td>\n",
       "      <td>0.062422</td>\n",
       "      <td>0.492134</td>\n",
       "      <td>0.359043</td>\n",
       "      <td>0.001311</td>\n",
       "      <td>Silver</td>\n",
       "    </tr>\n",
       "    <tr>\n",
       "      <th>2</th>\n",
       "      <td>0.030557</td>\n",
       "      <td>0.043833</td>\n",
       "      <td>0.089362</td>\n",
       "      <td>NaN</td>\n",
       "      <td>0.034714</td>\n",
       "      <td>0.188239</td>\n",
       "      <td>0.095903</td>\n",
       "      <td>0.060687</td>\n",
       "      <td>0.326162</td>\n",
       "      <td>0.491359</td>\n",
       "      <td>0.048493</td>\n",
       "      <td>Platinum</td>\n",
       "    </tr>\n",
       "    <tr>\n",
       "      <th>3</th>\n",
       "      <td>0.066982</td>\n",
       "      <td>0.074594</td>\n",
       "      <td>0.103704</td>\n",
       "      <td>NaN</td>\n",
       "      <td>0.081502</td>\n",
       "      <td>0.129477</td>\n",
       "      <td>0.131558</td>\n",
       "      <td>0.053566</td>\n",
       "      <td>0.256625</td>\n",
       "      <td>0.569960</td>\n",
       "      <td>0.022280</td>\n",
       "      <td>Gold</td>\n",
       "    </tr>\n",
       "    <tr>\n",
       "      <th>4</th>\n",
       "      <td>0.045804</td>\n",
       "      <td>0.057168</td>\n",
       "      <td>0.116667</td>\n",
       "      <td>NaN</td>\n",
       "      <td>0.063571</td>\n",
       "      <td>0.134024</td>\n",
       "      <td>0.040417</td>\n",
       "      <td>0.095867</td>\n",
       "      <td>0.248173</td>\n",
       "      <td>0.630688</td>\n",
       "      <td>0.034076</td>\n",
       "      <td>Gold</td>\n",
       "    </tr>\n",
       "  </tbody>\n",
       "</table>\n",
       "</div>"
      ],
      "text/plain": [
       "   player_kills  player_dmg  player_assists  player_dbno       kda  \\\n",
       "0      0.106383    0.120078        0.000000          NaN  0.166263   \n",
       "1      0.038685    0.046364        0.000000          NaN  0.029637   \n",
       "2      0.030557    0.043833        0.089362          NaN  0.034714   \n",
       "3      0.066982    0.074594        0.103704          NaN  0.081502   \n",
       "4      0.045804    0.057168        0.116667          NaN  0.063571   \n",
       "\n",
       "   player_dist_walk  player_dist_ride  kill_dist  player_survive_time  \\\n",
       "0          0.121593          0.051050   0.094555             0.322476   \n",
       "1          0.294281          0.295819   0.062422             0.492134   \n",
       "2          0.188239          0.095903   0.060687             0.326162   \n",
       "3          0.129477          0.131558   0.053566             0.256625   \n",
       "4          0.134024          0.040417   0.095867             0.248173   \n",
       "\n",
       "   team_placement  num_of_match      tier  \n",
       "0        0.660266      0.000000    Silver  \n",
       "1        0.359043      0.001311    Silver  \n",
       "2        0.491359      0.048493  Platinum  \n",
       "3        0.569960      0.022280      Gold  \n",
       "4        0.630688      0.034076      Gold  "
      ]
     },
     "execution_count": 243,
     "metadata": {},
     "output_type": "execute_result"
    }
   ],
   "source": [
    "tier_diff_solo.head()"
   ]
  },
  {
   "cell_type": "code",
   "execution_count": 76,
   "id": "71c3c30f-f411-4661-916d-446cc99c047f",
   "metadata": {},
   "outputs": [
    {
     "data": {
      "text/plain": [
       "(298519, 12)"
      ]
     },
     "execution_count": 76,
     "metadata": {},
     "output_type": "execute_result"
    }
   ],
   "source": [
    "tier_diff_solo.shape"
   ]
  },
  {
   "cell_type": "markdown",
   "id": "e15791f2-ce09-484c-8ec7-4a1d60690779",
   "metadata": {},
   "source": [
    "---\n",
    "---\n",
    "---\n",
    "---"
   ]
  },
  {
   "cell_type": "code",
   "execution_count": 244,
   "id": "1b21b8ed-1e28-428b-acbf-f2f77f749e27",
   "metadata": {},
   "outputs": [],
   "source": [
    "tier_diff_solo = pd.read_csv('./Dataset/tier_diff_solo.csv')"
   ]
  },
  {
   "cell_type": "code",
   "execution_count": 245,
   "id": "6a190b8b-3e05-4c3a-8eaf-b54aed41dbd1",
   "metadata": {},
   "outputs": [
    {
     "data": {
      "text/html": [
       "<div>\n",
       "<style scoped>\n",
       "    .dataframe tbody tr th:only-of-type {\n",
       "        vertical-align: middle;\n",
       "    }\n",
       "\n",
       "    .dataframe tbody tr th {\n",
       "        vertical-align: top;\n",
       "    }\n",
       "\n",
       "    .dataframe thead th {\n",
       "        text-align: right;\n",
       "    }\n",
       "</style>\n",
       "<table border=\"1\" class=\"dataframe\">\n",
       "  <thead>\n",
       "    <tr style=\"text-align: right;\">\n",
       "      <th></th>\n",
       "      <th>player_kills</th>\n",
       "      <th>player_dmg</th>\n",
       "      <th>player_assists</th>\n",
       "      <th>player_dbno</th>\n",
       "      <th>kda</th>\n",
       "      <th>player_dist_walk</th>\n",
       "      <th>player_dist_ride</th>\n",
       "      <th>kill_dist</th>\n",
       "      <th>player_survive_time</th>\n",
       "      <th>team_placement</th>\n",
       "      <th>num_of_match</th>\n",
       "      <th>tier</th>\n",
       "    </tr>\n",
       "  </thead>\n",
       "  <tbody>\n",
       "    <tr>\n",
       "      <th>0</th>\n",
       "      <td>2.000000</td>\n",
       "      <td>226.500000</td>\n",
       "      <td>0.000000</td>\n",
       "      <td>0</td>\n",
       "      <td>4.080000</td>\n",
       "      <td>686.748755</td>\n",
       "      <td>405.481372</td>\n",
       "      <td>3660.370599</td>\n",
       "      <td>663.063200</td>\n",
       "      <td>61.600000</td>\n",
       "      <td>10.0</td>\n",
       "      <td>Silver</td>\n",
       "    </tr>\n",
       "    <tr>\n",
       "      <th>1</th>\n",
       "      <td>0.727273</td>\n",
       "      <td>87.454545</td>\n",
       "      <td>0.000000</td>\n",
       "      <td>0</td>\n",
       "      <td>0.727273</td>\n",
       "      <td>1662.081098</td>\n",
       "      <td>2349.623621</td>\n",
       "      <td>2416.433686</td>\n",
       "      <td>945.472091</td>\n",
       "      <td>34.272727</td>\n",
       "      <td>11.0</td>\n",
       "      <td>Silver</td>\n",
       "    </tr>\n",
       "    <tr>\n",
       "      <th>2</th>\n",
       "      <td>0.574468</td>\n",
       "      <td>82.680851</td>\n",
       "      <td>0.063830</td>\n",
       "      <td>0</td>\n",
       "      <td>0.851852</td>\n",
       "      <td>1063.161897</td>\n",
       "      <td>761.737536</td>\n",
       "      <td>2349.284635</td>\n",
       "      <td>669.198745</td>\n",
       "      <td>46.276596</td>\n",
       "      <td>47.0</td>\n",
       "      <td>Platinum</td>\n",
       "    </tr>\n",
       "    <tr>\n",
       "      <th>3</th>\n",
       "      <td>1.259259</td>\n",
       "      <td>140.703704</td>\n",
       "      <td>0.074074</td>\n",
       "      <td>0</td>\n",
       "      <td>2.000000</td>\n",
       "      <td>731.275610</td>\n",
       "      <td>1044.934811</td>\n",
       "      <td>2073.601928</td>\n",
       "      <td>553.449259</td>\n",
       "      <td>53.407407</td>\n",
       "      <td>27.0</td>\n",
       "      <td>Gold</td>\n",
       "    </tr>\n",
       "    <tr>\n",
       "      <th>4</th>\n",
       "      <td>0.861111</td>\n",
       "      <td>107.833333</td>\n",
       "      <td>0.083333</td>\n",
       "      <td>0</td>\n",
       "      <td>1.560000</td>\n",
       "      <td>756.959344</td>\n",
       "      <td>321.020738</td>\n",
       "      <td>3711.149071</td>\n",
       "      <td>539.380889</td>\n",
       "      <td>58.916667</td>\n",
       "      <td>36.0</td>\n",
       "      <td>Gold</td>\n",
       "    </tr>\n",
       "  </tbody>\n",
       "</table>\n",
       "</div>"
      ],
      "text/plain": [
       "   player_kills  player_dmg  player_assists  player_dbno       kda  \\\n",
       "0      2.000000  226.500000        0.000000            0  4.080000   \n",
       "1      0.727273   87.454545        0.000000            0  0.727273   \n",
       "2      0.574468   82.680851        0.063830            0  0.851852   \n",
       "3      1.259259  140.703704        0.074074            0  2.000000   \n",
       "4      0.861111  107.833333        0.083333            0  1.560000   \n",
       "\n",
       "   player_dist_walk  player_dist_ride    kill_dist  player_survive_time  \\\n",
       "0        686.748755        405.481372  3660.370599           663.063200   \n",
       "1       1662.081098       2349.623621  2416.433686           945.472091   \n",
       "2       1063.161897        761.737536  2349.284635           669.198745   \n",
       "3        731.275610       1044.934811  2073.601928           553.449259   \n",
       "4        756.959344        321.020738  3711.149071           539.380889   \n",
       "\n",
       "   team_placement  num_of_match      tier  \n",
       "0       61.600000          10.0    Silver  \n",
       "1       34.272727          11.0    Silver  \n",
       "2       46.276596          47.0  Platinum  \n",
       "3       53.407407          27.0      Gold  \n",
       "4       58.916667          36.0      Gold  "
      ]
     },
     "execution_count": 245,
     "metadata": {},
     "output_type": "execute_result"
    }
   ],
   "source": [
    "tier_diff_solo.head()"
   ]
  },
  {
   "cell_type": "code",
   "execution_count": 246,
   "id": "426d660a-2619-47f6-98e6-5fece5fb3cd6",
   "metadata": {},
   "outputs": [],
   "source": [
    "solo_b = tier_diff_solo[tier_diff_solo['tier'] == 'Bronze']\n",
    "solo_s = tier_diff_solo[tier_diff_solo['tier'] == 'Silver']\n",
    "solo_g = tier_diff_solo[tier_diff_solo['tier'] == 'Gold']\n",
    "solo_p = tier_diff_solo[tier_diff_solo['tier'] == 'Platinum']\n",
    "solo_d = tier_diff_solo[tier_diff_solo['tier'] == 'Diamond']\n",
    "solo_m = tier_diff_solo[tier_diff_solo['tier'] == 'Master']"
   ]
  },
  {
   "cell_type": "code",
   "execution_count": 247,
   "id": "3c5666b3-c1a6-4f4a-8c8d-2d2708f5c0c8",
   "metadata": {},
   "outputs": [],
   "source": [
    "solo_b = solo_b[solo_b.columns.difference(['tier'])]\n",
    "solo_s = solo_s[solo_s.columns.difference(['tier'])]\n",
    "solo_g = solo_g[solo_g.columns.difference(['tier'])]\n",
    "solo_p = solo_p[solo_p.columns.difference(['tier'])]\n",
    "solo_d = solo_d[solo_d.columns.difference(['tier'])]\n",
    "solo_m = solo_m[solo_m.columns.difference(['tier'])]"
   ]
  },
  {
   "cell_type": "code",
   "execution_count": 248,
   "id": "1bdd5c3d-686f-4b6d-9f36-7a66acfb6856",
   "metadata": {},
   "outputs": [],
   "source": [
    "temp1 = pd.DataFrame([solo_b.columns.difference(['tier']), solo_b[solo_b.columns.difference(['tier'])].median()]).T\n",
    "temp1['tier'] = 'Bronze'\n",
    "temp1 = temp1.reindex(columns = ['tier', 0, 1])\n",
    "temp1.columns = ['tier', 'col', 'median']"
   ]
  },
  {
   "cell_type": "code",
   "execution_count": 249,
   "id": "9c85457a-5737-43a3-8380-28069487df21",
   "metadata": {},
   "outputs": [],
   "source": [
    "temp2 = pd.DataFrame([solo_s.columns.difference(['tier']), solo_s[solo_s.columns.difference(['tier'])].median()]).T\n",
    "temp2['tier'] = 'Silver'\n",
    "temp2 = temp2.reindex(columns = ['tier', 0, 1])\n",
    "temp2.columns = ['tier', 'col', 'median']"
   ]
  },
  {
   "cell_type": "code",
   "execution_count": 250,
   "id": "8324cb50-d22e-459c-a68c-e75c472fa5e1",
   "metadata": {},
   "outputs": [],
   "source": [
    "temp3 = pd.DataFrame([solo_g.columns.difference(['tier']), solo_g[solo_g.columns.difference(['tier'])].median()]).T\n",
    "temp3['tier'] = 'Gold'\n",
    "temp3 = temp3.reindex(columns = ['tier', 0, 1])\n",
    "temp3.columns = ['tier', 'col', 'median']"
   ]
  },
  {
   "cell_type": "code",
   "execution_count": 251,
   "id": "422589c3-2445-464b-b6e5-4732f6d8c509",
   "metadata": {},
   "outputs": [],
   "source": [
    "temp4 = pd.DataFrame([solo_p.columns.difference(['tier']), solo_p[solo_p.columns.difference(['tier'])].median()]).T\n",
    "temp4['tier'] = 'Platinum'\n",
    "temp4 = temp4.reindex(columns = ['tier', 0, 1])\n",
    "temp4.columns = ['tier', 'col', 'median']"
   ]
  },
  {
   "cell_type": "code",
   "execution_count": 252,
   "id": "cd453551-b3d3-4388-993c-92ff5998712b",
   "metadata": {},
   "outputs": [],
   "source": [
    "temp5 = pd.DataFrame([solo_d.columns.difference(['tier']), solo_d[solo_d.columns.difference(['tier'])].median()]).T\n",
    "temp5['tier'] = 'Diamond'\n",
    "temp5 = temp5.reindex(columns = ['tier', 0, 1])\n",
    "temp5.columns = ['tier', 'col', 'median']"
   ]
  },
  {
   "cell_type": "code",
   "execution_count": 253,
   "id": "f91b48b9-15ed-4682-9b10-f90c2628f46d",
   "metadata": {},
   "outputs": [],
   "source": [
    "temp6 = pd.DataFrame([solo_m.columns.difference(['tier']), solo_m[solo_m.columns.difference(['tier'])].median()]).T\n",
    "temp6['tier'] = 'Master'\n",
    "temp6 = temp6.reindex(columns = ['tier', 0, 1])\n",
    "temp6.columns = ['tier', 'col', 'median']"
   ]
  },
  {
   "cell_type": "code",
   "execution_count": 254,
   "id": "610517ff-6543-4124-8c5c-fb54c3ce1b92",
   "metadata": {},
   "outputs": [],
   "source": [
    "temp = pd.concat([temp1, temp2, temp3, temp4, temp5, temp6])"
   ]
  },
  {
   "cell_type": "code",
   "execution_count": 255,
   "id": "13b0b7a6-9151-4be5-bdd6-57173e690d2c",
   "metadata": {},
   "outputs": [
    {
     "data": {
      "text/plain": [
       "<Figure size 2160x720 with 0 Axes>"
      ]
     },
     "metadata": {},
     "output_type": "display_data"
    },
    {
     "data": {
      "image/png": "[encoded data removed]",
      "text/plain": [
       "<Figure size 443.85x360 with 1 Axes>"
      ]
     },
     "metadata": {},
     "output_type": "display_data"
    }
   ],
   "source": [
    "plt.figure(figsize = (30, 10))\n",
    "_ = sns.catplot(x = 'median', y = 'col', hue = 'tier', kind = 'bar', ci = None, orient = 'h', data = temp)"
   ]
  },
  {
   "cell_type": "markdown",
   "id": "3af10a19-8932-4b5d-9908-ee4748fa69b2",
   "metadata": {},
   "source": [
    "---"
   ]
  },
  {
   "cell_type": "code",
   "execution_count": 282,
   "id": "6dcdfb7d-674b-4c53-8e3c-f4d3b7903884",
   "metadata": {},
   "outputs": [
    {
     "data": {
      "text/html": [
       "<div>\n",
       "<style scoped>\n",
       "    .dataframe tbody tr th:only-of-type {\n",
       "        vertical-align: middle;\n",
       "    }\n",
       "\n",
       "    .dataframe tbody tr th {\n",
       "        vertical-align: top;\n",
       "    }\n",
       "\n",
       "    .dataframe thead th {\n",
       "        text-align: right;\n",
       "    }\n",
       "</style>\n",
       "<table border=\"1\" class=\"dataframe\">\n",
       "  <thead>\n",
       "    <tr style=\"text-align: right;\">\n",
       "      <th></th>\n",
       "      <th>player_kills</th>\n",
       "      <th>player_dmg</th>\n",
       "      <th>player_assists</th>\n",
       "      <th>player_dbno</th>\n",
       "      <th>kda</th>\n",
       "      <th>player_dist_walk</th>\n",
       "      <th>player_dist_ride</th>\n",
       "      <th>kill_dist</th>\n",
       "      <th>player_survive_time</th>\n",
       "      <th>team_placement</th>\n",
       "      <th>num_of_match</th>\n",
       "      <th>tier</th>\n",
       "    </tr>\n",
       "  </thead>\n",
       "  <tbody>\n",
       "    <tr>\n",
       "      <th>0</th>\n",
       "      <td>2.000000</td>\n",
       "      <td>226.500000</td>\n",
       "      <td>0.000000</td>\n",
       "      <td>0</td>\n",
       "      <td>4.080000</td>\n",
       "      <td>686.748755</td>\n",
       "      <td>405.481372</td>\n",
       "      <td>3660.370599</td>\n",
       "      <td>663.063200</td>\n",
       "      <td>61.600000</td>\n",
       "      <td>10.0</td>\n",
       "      <td>Silver</td>\n",
       "    </tr>\n",
       "    <tr>\n",
       "      <th>1</th>\n",
       "      <td>0.727273</td>\n",
       "      <td>87.454545</td>\n",
       "      <td>0.000000</td>\n",
       "      <td>0</td>\n",
       "      <td>0.727273</td>\n",
       "      <td>1662.081098</td>\n",
       "      <td>2349.623621</td>\n",
       "      <td>2416.433686</td>\n",
       "      <td>945.472091</td>\n",
       "      <td>34.272727</td>\n",
       "      <td>11.0</td>\n",
       "      <td>Silver</td>\n",
       "    </tr>\n",
       "    <tr>\n",
       "      <th>2</th>\n",
       "      <td>0.574468</td>\n",
       "      <td>82.680851</td>\n",
       "      <td>0.063830</td>\n",
       "      <td>0</td>\n",
       "      <td>0.851852</td>\n",
       "      <td>1063.161897</td>\n",
       "      <td>761.737536</td>\n",
       "      <td>2349.284635</td>\n",
       "      <td>669.198745</td>\n",
       "      <td>46.276596</td>\n",
       "      <td>47.0</td>\n",
       "      <td>Platinum</td>\n",
       "    </tr>\n",
       "    <tr>\n",
       "      <th>3</th>\n",
       "      <td>1.259259</td>\n",
       "      <td>140.703704</td>\n",
       "      <td>0.074074</td>\n",
       "      <td>0</td>\n",
       "      <td>2.000000</td>\n",
       "      <td>731.275610</td>\n",
       "      <td>1044.934811</td>\n",
       "      <td>2073.601928</td>\n",
       "      <td>553.449259</td>\n",
       "      <td>53.407407</td>\n",
       "      <td>27.0</td>\n",
       "      <td>Gold</td>\n",
       "    </tr>\n",
       "    <tr>\n",
       "      <th>4</th>\n",
       "      <td>0.861111</td>\n",
       "      <td>107.833333</td>\n",
       "      <td>0.083333</td>\n",
       "      <td>0</td>\n",
       "      <td>1.560000</td>\n",
       "      <td>756.959344</td>\n",
       "      <td>321.020738</td>\n",
       "      <td>3711.149071</td>\n",
       "      <td>539.380889</td>\n",
       "      <td>58.916667</td>\n",
       "      <td>36.0</td>\n",
       "      <td>Gold</td>\n",
       "    </tr>\n",
       "  </tbody>\n",
       "</table>\n",
       "</div>"
      ],
      "text/plain": [
       "   player_kills  player_dmg  player_assists  player_dbno       kda  \\\n",
       "0      2.000000  226.500000        0.000000            0  4.080000   \n",
       "1      0.727273   87.454545        0.000000            0  0.727273   \n",
       "2      0.574468   82.680851        0.063830            0  0.851852   \n",
       "3      1.259259  140.703704        0.074074            0  2.000000   \n",
       "4      0.861111  107.833333        0.083333            0  1.560000   \n",
       "\n",
       "   player_dist_walk  player_dist_ride    kill_dist  player_survive_time  \\\n",
       "0        686.748755        405.481372  3660.370599           663.063200   \n",
       "1       1662.081098       2349.623621  2416.433686           945.472091   \n",
       "2       1063.161897        761.737536  2349.284635           669.198745   \n",
       "3        731.275610       1044.934811  2073.601928           553.449259   \n",
       "4        756.959344        321.020738  3711.149071           539.380889   \n",
       "\n",
       "   team_placement  num_of_match      tier  \n",
       "0       61.600000          10.0    Silver  \n",
       "1       34.272727          11.0    Silver  \n",
       "2       46.276596          47.0  Platinum  \n",
       "3       53.407407          27.0      Gold  \n",
       "4       58.916667          36.0      Gold  "
      ]
     },
     "execution_count": 282,
     "metadata": {},
     "output_type": "execute_result"
    }
   ],
   "source": [
    "tier_diff_solo.head()"
   ]
  },
  {
   "cell_type": "code",
   "execution_count": 283,
   "id": "e25db727-bbb8-4ac9-aca4-10e519af9847",
   "metadata": {},
   "outputs": [],
   "source": [
    "tds = tier_diff_solo[tier_diff_solo.columns.difference(['player_dbno'])]"
   ]
  },
  {
   "cell_type": "code",
   "execution_count": 284,
   "id": "89984a8b-18fb-4eb4-9772-f70123ad1706",
   "metadata": {},
   "outputs": [
    {
     "name": "stderr",
     "output_type": "stream",
     "text": [
      "c:\\users\\kyean\\anaconda3\\envs\\nano\\lib\\site-packages\\pandas\\core\\frame.py:3607: SettingWithCopyWarning: \n",
      "A value is trying to be set on a copy of a slice from a DataFrame.\n",
      "Try using .loc[row_indexer,col_indexer] = value instead\n",
      "\n",
      "See the caveats in the documentation: https://pandas.pydata.org/pandas-docs/stable/user_guide/indexing.html#returning-a-view-versus-a-copy\n",
      "  self._set_item(key, value)\n"
     ]
    }
   ],
   "source": [
    "tds[tds.columns.difference(['tier'])] = ((tds[tds.columns.difference(['tier'])] - tds[tds.columns.difference(['tier'])].min()) / (tds[tds.columns.difference(['tier'])].max() - tds[tds.columns.difference(['tier'])].min()))"
   ]
  },
  {
   "cell_type": "code",
   "execution_count": 285,
   "id": "0c57f354-2e2c-449a-a45d-76db4fc73ba1",
   "metadata": {},
   "outputs": [
    {
     "data": {
      "text/html": [
       "<div>\n",
       "<style scoped>\n",
       "    .dataframe tbody tr th:only-of-type {\n",
       "        vertical-align: middle;\n",
       "    }\n",
       "\n",
       "    .dataframe tbody tr th {\n",
       "        vertical-align: top;\n",
       "    }\n",
       "\n",
       "    .dataframe thead th {\n",
       "        text-align: right;\n",
       "    }\n",
       "</style>\n",
       "<table border=\"1\" class=\"dataframe\">\n",
       "  <thead>\n",
       "    <tr style=\"text-align: right;\">\n",
       "      <th></th>\n",
       "      <th>kda</th>\n",
       "      <th>kill_dist</th>\n",
       "      <th>num_of_match</th>\n",
       "      <th>player_assists</th>\n",
       "      <th>player_dist_ride</th>\n",
       "      <th>player_dist_walk</th>\n",
       "      <th>player_dmg</th>\n",
       "      <th>player_kills</th>\n",
       "      <th>player_survive_time</th>\n",
       "      <th>team_placement</th>\n",
       "      <th>tier</th>\n",
       "    </tr>\n",
       "  </thead>\n",
       "  <tbody>\n",
       "    <tr>\n",
       "      <th>0</th>\n",
       "      <td>0.166263</td>\n",
       "      <td>0.094555</td>\n",
       "      <td>0.000000</td>\n",
       "      <td>0.000000</td>\n",
       "      <td>0.051050</td>\n",
       "      <td>0.121593</td>\n",
       "      <td>0.120078</td>\n",
       "      <td>0.106383</td>\n",
       "      <td>0.322476</td>\n",
       "      <td>0.660266</td>\n",
       "      <td>Silver</td>\n",
       "    </tr>\n",
       "    <tr>\n",
       "      <th>1</th>\n",
       "      <td>0.029637</td>\n",
       "      <td>0.062422</td>\n",
       "      <td>0.001311</td>\n",
       "      <td>0.000000</td>\n",
       "      <td>0.295819</td>\n",
       "      <td>0.294281</td>\n",
       "      <td>0.046364</td>\n",
       "      <td>0.038685</td>\n",
       "      <td>0.492134</td>\n",
       "      <td>0.359043</td>\n",
       "      <td>Silver</td>\n",
       "    </tr>\n",
       "    <tr>\n",
       "      <th>2</th>\n",
       "      <td>0.034714</td>\n",
       "      <td>0.060687</td>\n",
       "      <td>0.048493</td>\n",
       "      <td>0.089362</td>\n",
       "      <td>0.095903</td>\n",
       "      <td>0.188239</td>\n",
       "      <td>0.043833</td>\n",
       "      <td>0.030557</td>\n",
       "      <td>0.326162</td>\n",
       "      <td>0.491359</td>\n",
       "      <td>Platinum</td>\n",
       "    </tr>\n",
       "    <tr>\n",
       "      <th>3</th>\n",
       "      <td>0.081502</td>\n",
       "      <td>0.053566</td>\n",
       "      <td>0.022280</td>\n",
       "      <td>0.103704</td>\n",
       "      <td>0.131558</td>\n",
       "      <td>0.129477</td>\n",
       "      <td>0.074594</td>\n",
       "      <td>0.066982</td>\n",
       "      <td>0.256625</td>\n",
       "      <td>0.569960</td>\n",
       "      <td>Gold</td>\n",
       "    </tr>\n",
       "    <tr>\n",
       "      <th>4</th>\n",
       "      <td>0.063571</td>\n",
       "      <td>0.095867</td>\n",
       "      <td>0.034076</td>\n",
       "      <td>0.116667</td>\n",
       "      <td>0.040417</td>\n",
       "      <td>0.134024</td>\n",
       "      <td>0.057168</td>\n",
       "      <td>0.045804</td>\n",
       "      <td>0.248173</td>\n",
       "      <td>0.630688</td>\n",
       "      <td>Gold</td>\n",
       "    </tr>\n",
       "    <tr>\n",
       "      <th>...</th>\n",
       "      <td>...</td>\n",
       "      <td>...</td>\n",
       "      <td>...</td>\n",
       "      <td>...</td>\n",
       "      <td>...</td>\n",
       "      <td>...</td>\n",
       "      <td>...</td>\n",
       "      <td>...</td>\n",
       "      <td>...</td>\n",
       "      <td>...</td>\n",
       "      <td>...</td>\n",
       "    </tr>\n",
       "    <tr>\n",
       "      <th>298514</th>\n",
       "      <td>0.074981</td>\n",
       "      <td>0.066215</td>\n",
       "      <td>0.011796</td>\n",
       "      <td>0.073684</td>\n",
       "      <td>0.089994</td>\n",
       "      <td>0.183609</td>\n",
       "      <td>0.046513</td>\n",
       "      <td>0.033595</td>\n",
       "      <td>0.309922</td>\n",
       "      <td>0.544004</td>\n",
       "      <td>Gold</td>\n",
       "    </tr>\n",
       "    <tr>\n",
       "      <th>298515</th>\n",
       "      <td>0.115332</td>\n",
       "      <td>0.125305</td>\n",
       "      <td>0.027523</td>\n",
       "      <td>0.045161</td>\n",
       "      <td>0.091483</td>\n",
       "      <td>0.244744</td>\n",
       "      <td>0.076581</td>\n",
       "      <td>0.070350</td>\n",
       "      <td>0.346435</td>\n",
       "      <td>0.477643</td>\n",
       "      <td>Gold</td>\n",
       "    </tr>\n",
       "    <tr>\n",
       "      <th>298516</th>\n",
       "      <td>0.132440</td>\n",
       "      <td>0.028715</td>\n",
       "      <td>0.014417</td>\n",
       "      <td>0.133333</td>\n",
       "      <td>0.053892</td>\n",
       "      <td>0.117300</td>\n",
       "      <td>0.077503</td>\n",
       "      <td>0.058257</td>\n",
       "      <td>0.220591</td>\n",
       "      <td>0.675173</td>\n",
       "      <td>Silver</td>\n",
       "    </tr>\n",
       "    <tr>\n",
       "      <th>298517</th>\n",
       "      <td>0.006269</td>\n",
       "      <td>0.014929</td>\n",
       "      <td>0.003932</td>\n",
       "      <td>0.000000</td>\n",
       "      <td>0.005000</td>\n",
       "      <td>0.177068</td>\n",
       "      <td>0.020798</td>\n",
       "      <td>0.008183</td>\n",
       "      <td>0.247281</td>\n",
       "      <td>0.545120</td>\n",
       "      <td>Silver</td>\n",
       "    </tr>\n",
       "    <tr>\n",
       "      <th>298518</th>\n",
       "      <td>0.057469</td>\n",
       "      <td>0.076248</td>\n",
       "      <td>0.022280</td>\n",
       "      <td>0.207407</td>\n",
       "      <td>0.064672</td>\n",
       "      <td>0.163135</td>\n",
       "      <td>0.065208</td>\n",
       "      <td>0.045311</td>\n",
       "      <td>0.292064</td>\n",
       "      <td>0.583433</td>\n",
       "      <td>Gold</td>\n",
       "    </tr>\n",
       "  </tbody>\n",
       "</table>\n",
       "<p>298519 rows × 11 columns</p>\n",
       "</div>"
      ],
      "text/plain": [
       "             kda  kill_dist  num_of_match  player_assists  player_dist_ride  \\\n",
       "0       0.166263   0.094555      0.000000        0.000000          0.051050   \n",
       "1       0.029637   0.062422      0.001311        0.000000          0.295819   \n",
       "2       0.034714   0.060687      0.048493        0.089362          0.095903   \n",
       "3       0.081502   0.053566      0.022280        0.103704          0.131558   \n",
       "4       0.063571   0.095867      0.034076        0.116667          0.040417   \n",
       "...          ...        ...           ...             ...               ...   \n",
       "298514  0.074981   0.066215      0.011796        0.073684          0.089994   \n",
       "298515  0.115332   0.125305      0.027523        0.045161          0.091483   \n",
       "298516  0.132440   0.028715      0.014417        0.133333          0.053892   \n",
       "298517  0.006269   0.014929      0.003932        0.000000          0.005000   \n",
       "298518  0.057469   0.076248      0.022280        0.207407          0.064672   \n",
       "\n",
       "        player_dist_walk  player_dmg  player_kills  player_survive_time  \\\n",
       "0               0.121593    0.120078      0.106383             0.322476   \n",
       "1               0.294281    0.046364      0.038685             0.492134   \n",
       "2               0.188239    0.043833      0.030557             0.326162   \n",
       "3               0.129477    0.074594      0.066982             0.256625   \n",
       "4               0.134024    0.057168      0.045804             0.248173   \n",
       "...                  ...         ...           ...                  ...   \n",
       "298514          0.183609    0.046513      0.033595             0.309922   \n",
       "298515          0.244744    0.076581      0.070350             0.346435   \n",
       "298516          0.117300    0.077503      0.058257             0.220591   \n",
       "298517          0.177068    0.020798      0.008183             0.247281   \n",
       "298518          0.163135    0.065208      0.045311             0.292064   \n",
       "\n",
       "        team_placement      tier  \n",
       "0             0.660266    Silver  \n",
       "1             0.359043    Silver  \n",
       "2             0.491359  Platinum  \n",
       "3             0.569960      Gold  \n",
       "4             0.630688      Gold  \n",
       "...                ...       ...  \n",
       "298514        0.544004      Gold  \n",
       "298515        0.477643      Gold  \n",
       "298516        0.675173    Silver  \n",
       "298517        0.545120    Silver  \n",
       "298518        0.583433      Gold  \n",
       "\n",
       "[298519 rows x 11 columns]"
      ]
     },
     "execution_count": 285,
     "metadata": {},
     "output_type": "execute_result"
    }
   ],
   "source": [
    "tds"
   ]
  },
  {
   "cell_type": "code",
   "execution_count": 286,
   "id": "46b584f3-4e6f-42cc-b91e-4920aaae25f5",
   "metadata": {},
   "outputs": [],
   "source": [
    "solo_b2 = tds[tds['tier'] == 'Bronze']\n",
    "solo_s2 = tds[tds['tier'] == 'Silver']\n",
    "solo_g2 = tds[tds['tier'] == 'Gold']\n",
    "solo_p2 = tds[tds['tier'] == 'Platinum']\n",
    "solo_d2 = tds[tds['tier'] == 'Diamond']\n",
    "solo_m2 = tds[tds['tier'] == 'Master']"
   ]
  },
  {
   "cell_type": "code",
   "execution_count": 287,
   "id": "c9f4bfd9-1c4c-4828-9a84-67aeb6087b49",
   "metadata": {},
   "outputs": [],
   "source": [
    "temp1 = pd.DataFrame([solo_b2.columns.difference(['tier']), solo_b2[solo_b2.columns.difference(['tier'])].median()]).T\n",
    "temp1['tier'] = 'Bronze'\n",
    "temp1 = temp1.reindex(columns = ['tier', 0, 1])\n",
    "temp1.columns = ['tier', 'col', 'median']"
   ]
  },
  {
   "cell_type": "code",
   "execution_count": 288,
   "id": "8d902809-8dbe-4735-9c0f-a2cdeb72b726",
   "metadata": {},
   "outputs": [],
   "source": [
    "temp2 = pd.DataFrame([solo_s2.columns.difference(['tier']), solo_s2[solo_s2.columns.difference(['tier'])].median()]).T\n",
    "temp2['tier'] = 'Silver'\n",
    "temp2 = temp2.reindex(columns = ['tier', 0, 1])\n",
    "temp2.columns = ['tier', 'col', 'median']"
   ]
  },
  {
   "cell_type": "code",
   "execution_count": 289,
   "id": "f51d937c-8f16-4771-ba65-e72eb7946dff",
   "metadata": {},
   "outputs": [],
   "source": [
    "temp3 = pd.DataFrame([solo_g2.columns.difference(['tier']), solo_g2[solo_g2.columns.difference(['tier'])].median()]).T\n",
    "temp3['tier'] = 'Gold'\n",
    "temp3 = temp3.reindex(columns = ['tier', 0, 1])\n",
    "temp3.columns = ['tier', 'col', 'median']"
   ]
  },
  {
   "cell_type": "code",
   "execution_count": 290,
   "id": "b411bdf5-0f5b-4ab7-b62f-c8c3e44e7fce",
   "metadata": {},
   "outputs": [],
   "source": [
    "temp4 = pd.DataFrame([solo_p2.columns.difference(['tier']), solo_p2[solo_p2.columns.difference(['tier'])].median()]).T\n",
    "temp4['tier'] = 'Platinum'\n",
    "temp4 = temp4.reindex(columns = ['tier', 0, 1])\n",
    "temp4.columns = ['tier', 'col', 'median']"
   ]
  },
  {
   "cell_type": "code",
   "execution_count": 291,
   "id": "2aa12b11-9efe-4ea3-bab1-dea5c97d81d7",
   "metadata": {},
   "outputs": [],
   "source": [
    "temp5 = pd.DataFrame([solo_d2.columns.difference(['tier']), solo_d2[solo_d2.columns.difference(['tier'])].median()]).T\n",
    "temp5['tier'] = 'Diamond'\n",
    "temp5 = temp5.reindex(columns = ['tier', 0, 1])\n",
    "temp5.columns = ['tier', 'col', 'median']"
   ]
  },
  {
   "cell_type": "code",
   "execution_count": 292,
   "id": "6bcacc5d-636e-4acc-94a6-35a50367cf03",
   "metadata": {},
   "outputs": [],
   "source": [
    "temp6 = pd.DataFrame([solo_m2.columns.difference(['tier']), solo_m2[solo_m2.columns.difference(['tier'])].median()]).T\n",
    "temp6['tier'] = 'Master'\n",
    "temp6 = temp6.reindex(columns = ['tier', 0, 1])\n",
    "temp6.columns = ['tier', 'col', 'median']"
   ]
  },
  {
   "cell_type": "code",
   "execution_count": 293,
   "id": "1a27d1fc-e6d6-440e-a9f4-6db688b76540",
   "metadata": {},
   "outputs": [],
   "source": [
    "temp_ = pd.concat([temp1, temp2, temp3, temp4, temp5, temp6])"
   ]
  },
  {
   "cell_type": "code",
   "execution_count": 294,
   "id": "e76a3951-5df9-45a4-ae8b-52d01a7ac521",
   "metadata": {},
   "outputs": [
    {
     "data": {
      "text/plain": [
       "<Figure size 2160x720 with 0 Axes>"
      ]
     },
     "metadata": {},
     "output_type": "display_data"
    },
    {
     "data": {
      "image/png": "[encoded data removed]",
      "text/plain": [
       "<Figure size 443.85x360 with 1 Axes>"
      ]
     },
     "metadata": {},
     "output_type": "display_data"
    }
   ],
   "source": [
    "plt.figure(figsize = (30, 10))\n",
    "_ = sns.catplot(x = 'median', y = 'col', hue = 'tier', kind = 'bar', ci = None, orient = 'h', data = temp_)"
   ]
  },
  {
   "cell_type": "code",
   "execution_count": 299,
   "id": "fc21c4ab-2c7f-4e41-a96c-5a4d7dccf5c2",
   "metadata": {},
   "outputs": [
    {
     "data": {
      "text/html": [
       "<div>\n",
       "<style scoped>\n",
       "    .dataframe tbody tr th:only-of-type {\n",
       "        vertical-align: middle;\n",
       "    }\n",
       "\n",
       "    .dataframe tbody tr th {\n",
       "        vertical-align: top;\n",
       "    }\n",
       "\n",
       "    .dataframe thead th {\n",
       "        text-align: right;\n",
       "    }\n",
       "</style>\n",
       "<table border=\"1\" class=\"dataframe\">\n",
       "  <thead>\n",
       "    <tr style=\"text-align: right;\">\n",
       "      <th></th>\n",
       "      <th>tier</th>\n",
       "      <th>col</th>\n",
       "      <th>median</th>\n",
       "    </tr>\n",
       "  </thead>\n",
       "  <tbody>\n",
       "    <tr>\n",
       "      <th>0</th>\n",
       "      <td>Bronze</td>\n",
       "      <td>kda</td>\n",
       "      <td>0.031347</td>\n",
       "    </tr>\n",
       "    <tr>\n",
       "      <th>1</th>\n",
       "      <td>Bronze</td>\n",
       "      <td>kill_dist</td>\n",
       "      <td>0.033623</td>\n",
       "    </tr>\n",
       "    <tr>\n",
       "      <th>2</th>\n",
       "      <td>Bronze</td>\n",
       "      <td>num_of_match</td>\n",
       "      <td>0.0</td>\n",
       "    </tr>\n",
       "    <tr>\n",
       "      <th>3</th>\n",
       "      <td>Bronze</td>\n",
       "      <td>player_assists</td>\n",
       "      <td>0.0</td>\n",
       "    </tr>\n",
       "    <tr>\n",
       "      <th>4</th>\n",
       "      <td>Bronze</td>\n",
       "      <td>player_dist_ride</td>\n",
       "      <td>0.026116</td>\n",
       "    </tr>\n",
       "    <tr>\n",
       "      <th>5</th>\n",
       "      <td>Bronze</td>\n",
       "      <td>player_dist_walk</td>\n",
       "      <td>0.080834</td>\n",
       "    </tr>\n",
       "    <tr>\n",
       "      <th>6</th>\n",
       "      <td>Bronze</td>\n",
       "      <td>player_dmg</td>\n",
       "      <td>0.037163</td>\n",
       "    </tr>\n",
       "    <tr>\n",
       "      <th>7</th>\n",
       "      <td>Bronze</td>\n",
       "      <td>player_kills</td>\n",
       "      <td>0.026596</td>\n",
       "    </tr>\n",
       "    <tr>\n",
       "      <th>8</th>\n",
       "      <td>Bronze</td>\n",
       "      <td>player_survive_time</td>\n",
       "      <td>0.146115</td>\n",
       "    </tr>\n",
       "    <tr>\n",
       "      <th>9</th>\n",
       "      <td>Bronze</td>\n",
       "      <td>team_placement</td>\n",
       "      <td>0.723096</td>\n",
       "    </tr>\n",
       "    <tr>\n",
       "      <th>0</th>\n",
       "      <td>Silver</td>\n",
       "      <td>kda</td>\n",
       "      <td>0.049483</td>\n",
       "    </tr>\n",
       "    <tr>\n",
       "      <th>1</th>\n",
       "      <td>Silver</td>\n",
       "      <td>kill_dist</td>\n",
       "      <td>0.056198</td>\n",
       "    </tr>\n",
       "    <tr>\n",
       "      <th>2</th>\n",
       "      <td>Silver</td>\n",
       "      <td>num_of_match</td>\n",
       "      <td>0.002621</td>\n",
       "    </tr>\n",
       "    <tr>\n",
       "      <th>3</th>\n",
       "      <td>Silver</td>\n",
       "      <td>player_assists</td>\n",
       "      <td>0.073684</td>\n",
       "    </tr>\n",
       "    <tr>\n",
       "      <th>4</th>\n",
       "      <td>Silver</td>\n",
       "      <td>player_dist_ride</td>\n",
       "      <td>0.083314</td>\n",
       "    </tr>\n",
       "    <tr>\n",
       "      <th>5</th>\n",
       "      <td>Silver</td>\n",
       "      <td>player_dist_walk</td>\n",
       "      <td>0.17377</td>\n",
       "    </tr>\n",
       "    <tr>\n",
       "      <th>6</th>\n",
       "      <td>Silver</td>\n",
       "      <td>player_dmg</td>\n",
       "      <td>0.050171</td>\n",
       "    </tr>\n",
       "    <tr>\n",
       "      <th>7</th>\n",
       "      <td>Silver</td>\n",
       "      <td>player_kills</td>\n",
       "      <td>0.037994</td>\n",
       "    </tr>\n",
       "    <tr>\n",
       "      <th>8</th>\n",
       "      <td>Silver</td>\n",
       "      <td>player_survive_time</td>\n",
       "      <td>0.315445</td>\n",
       "    </tr>\n",
       "    <tr>\n",
       "      <th>9</th>\n",
       "      <td>Silver</td>\n",
       "      <td>team_placement</td>\n",
       "      <td>0.544272</td>\n",
       "    </tr>\n",
       "  </tbody>\n",
       "</table>\n",
       "</div>"
      ],
      "text/plain": [
       "     tier                  col    median\n",
       "0  Bronze                  kda  0.031347\n",
       "1  Bronze            kill_dist  0.033623\n",
       "2  Bronze         num_of_match       0.0\n",
       "3  Bronze       player_assists       0.0\n",
       "4  Bronze     player_dist_ride  0.026116\n",
       "5  Bronze     player_dist_walk  0.080834\n",
       "6  Bronze           player_dmg  0.037163\n",
       "7  Bronze         player_kills  0.026596\n",
       "8  Bronze  player_survive_time  0.146115\n",
       "9  Bronze       team_placement  0.723096\n",
       "0  Silver                  kda  0.049483\n",
       "1  Silver            kill_dist  0.056198\n",
       "2  Silver         num_of_match  0.002621\n",
       "3  Silver       player_assists  0.073684\n",
       "4  Silver     player_dist_ride  0.083314\n",
       "5  Silver     player_dist_walk   0.17377\n",
       "6  Silver           player_dmg  0.050171\n",
       "7  Silver         player_kills  0.037994\n",
       "8  Silver  player_survive_time  0.315445\n",
       "9  Silver       team_placement  0.544272"
      ]
     },
     "execution_count": 299,
     "metadata": {},
     "output_type": "execute_result"
    }
   ],
   "source": [
    "temp_[(temp_['tier'] == 'Bronze') | (temp_['tier'] == 'Silver')]"
   ]
  },
  {
   "cell_type": "code",
   "execution_count": 300,
   "id": "e1db6d35-0d2c-45fe-8a3b-64312cfd7458",
   "metadata": {},
   "outputs": [
    {
     "data": {
      "image/png": "[encoded data removed]",
      "text/plain": [
       "<Figure size 434.6x360 with 1 Axes>"
      ]
     },
     "metadata": {},
     "output_type": "display_data"
    }
   ],
   "source": [
    "_ = sns.catplot(x = 'median', y = 'col', hue = 'tier', kind = 'bar', ci = None, orient = 'h'\n",
    "                , data = temp_[(temp_['tier'] == 'Bronze') | (temp_['tier'] == 'Silver')])"
   ]
  },
  {
   "cell_type": "code",
   "execution_count": 301,
   "id": "e1d12dad-d46b-4d9f-9d7b-ee185d5bd627",
   "metadata": {},
   "outputs": [
    {
     "data": {
      "image/png": "[encoded data removed]",
      "text/plain": [
       "<Figure size 427.35x360 with 1 Axes>"
      ]
     },
     "metadata": {},
     "output_type": "display_data"
    }
   ],
   "source": [
    "_ = sns.catplot(x = 'median', y = 'col', hue = 'tier', kind = 'bar', ci = None, orient = 'h'\n",
    "                , data = temp_[(temp_['tier'] == 'Silver') | (temp_['tier'] == 'Gold')])"
   ]
  },
  {
   "cell_type": "code",
   "execution_count": 302,
   "id": "58f9ee94-983b-4bcf-a505-61f6475fdbfc",
   "metadata": {},
   "outputs": [
    {
     "data": {
      "image/png": "[encoded data removed]",
      "text/plain": [
       "<Figure size 442.725x360 with 1 Axes>"
      ]
     },
     "metadata": {},
     "output_type": "display_data"
    }
   ],
   "source": [
    "_ = sns.catplot(x = 'median', y = 'col', hue = 'tier', kind = 'bar', ci = None, orient = 'h'\n",
    "                , data = temp_[(temp_['tier'] == 'Gold') | (temp_['tier'] == 'Platinum')])"
   ]
  },
  {
   "cell_type": "code",
   "execution_count": 303,
   "id": "cf9e113f-c23b-4197-be26-f1bc4b4e68c4",
   "metadata": {},
   "outputs": [
    {
     "data": {
      "image/png": "[encoded data removed]",
      "text/plain": [
       "<Figure size 443.85x360 with 1 Axes>"
      ]
     },
     "metadata": {},
     "output_type": "display_data"
    }
   ],
   "source": [
    "_ = sns.catplot(x = 'median', y = 'col', hue = 'tier', kind = 'bar', ci = None, orient = 'h'\n",
    "                , data = temp_[(temp_['tier'] == 'Platinum') | (temp_['tier'] == 'Diamond')])"
   ]
  },
  {
   "cell_type": "code",
   "execution_count": 308,
   "id": "fd3a4773-28ad-4edb-9a2f-2762cbda7f11",
   "metadata": {},
   "outputs": [
    {
     "data": {
      "image/png": "[encoded data removed]",
      "text/plain": [
       "<Figure size 443.85x360 with 1 Axes>"
      ]
     },
     "metadata": {},
     "output_type": "display_data"
    }
   ],
   "source": [
    "_ = sns.catplot(x = 'median', y = 'col', hue = 'tier', kind = 'bar', ci = None, orient = 'h'\n",
    "                , data = temp_[(temp_['tier'] == 'Diamond') | (temp_['tier'] == 'Master')])"
   ]
  },
  {
   "cell_type": "code",
   "execution_count": null,
   "id": "258e43e8-e422-42db-8bff-ab7e377d8291",
   "metadata": {},
   "outputs": [],
   "source": []
  }
 ],
 "metadata": {
  "kernelspec": {
   "display_name": "Python 3 (ipykernel)",
   "language": "python",
   "name": "python3"
  },
  "language_info": {
   "codemirror_mode": {
    "name": "ipython",
    "version": 3
   },
   "file_extension": ".py",
   "mimetype": "text/x-python",
   "name": "python",
   "nbconvert_exporter": "python",
   "pygments_lexer": "ipython3",
   "version": "3.8.10"
  }
 },
 "nbformat": 4,
 "nbformat_minor": 5
}
