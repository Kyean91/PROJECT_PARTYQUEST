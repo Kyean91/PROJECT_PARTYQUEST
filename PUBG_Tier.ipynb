{
 "cells": [
  {
   "cell_type": "markdown",
   "id": "6b128103",
   "metadata": {},
   "source": [
    "# Data Description"
   ]
  },
  {
   "cell_type": "markdown",
   "id": "1c94a049",
   "metadata": {},
   "source": [
    "## Data Source\n",
    "\n",
    "* PUBG Match Deaths and Statistics, Kaggle \n",
    "    \\- https://www.kaggle.com/skihikingkevin/pubg-match-deaths"
   ]
  },
  {
   "cell_type": "markdown",
   "id": "4d83d42b",
   "metadata": {},
   "source": [
    "## Data Introduction\n",
    "\n",
    "In this Kaggle Dataset, over 720,000 competitive matches from the popular game PlayerUnknown's Battlegrounds. The data was extracted from pubg.op.gg, a game tracker website.\n",
    "\n",
    "\n",
    "### PlayerUnknown's Battlegrounds\n",
    "\n",
    "PUBG is a first/third-person shooter battle royale style game that matches over 90 players on a large island where teams and players fight to the death until one remains. Players are airdropped from an airplane onto the island where they are to scavenge towns and buildings for weapons, ammo, armor and first-aid. Players will then decide to either fight or hide with the ultimate goal of being the last one standing. A bluezone (see below) will appear a few minutes into the game to corral players closer and closer together by dealing damage to anyone that stands within the bluezone and sparing whoever is within the safe zone.\n",
    "\n",
    "\n",
    "### The Dataset\n",
    "\n",
    "This dataset provides two zips: aggregate and deaths.\n",
    "\n",
    "In **deaths**, the files record every death that occurred within the 720k matches. That is, each row documents an event where a player has died in the match.\n",
    "\n",
    "In **aggregate**, each match's meta information and player statistics are summarized (as provided by pubg). It includes various aggregate statistics such as player kills, damage, distance walked, etc as well as metadata on the match itself such as queue size, fpp/tpp, date, etc.\n",
    "The uncompressed data is divided into 5 chunks of approximately 2gb each.\n",
    "\n",
    "### Columns in deaths\n",
    "\n",
    "1. killed_by: Which weapon is killed\n",
    "1. killer_name: Killer game id\n",
    "1. killer_placement: The final ranking of the team where the killer is located\n",
    "1. killer_position_x: X coordinate of the killer when the killing behavior occurs\n",
    "1. killer_position_y: Y coordinate of the killer when the killing behavior occurs\n",
    "1. map: Game Map(Erangel island/ Miramar desert)\n",
    "1. match_id : Event Unique ID\n",
    "1. time: When the kill occurs(How many seconds after the game starts)\n",
    "1. victim_name: The killed game id\n",
    "1. victim_position_x: X coordinate of the person being killed when the killing occurs\n",
    "1. victim_position_y: Y coordinate of the killer at the time of the killing behavior\n",
    "\n",
    "### Columns in aggregate\n",
    "\n",
    "1. date: Start time of the game\n",
    "1. game_size: Site size\n",
    "1. match_id: Event Unique ID\n",
    "1. match_mode: Game Mode(First/ Third Person View)\n",
    "1. party_size: Squad size(1person/ 2people/ 4people)\n",
    "1. player_assists: Rescue teammates\n",
    "1. player_dbno: Number of times the player was knocked down\n",
    "1. player_dist_ride: Driving Distance\n",
    "1. player_dist_walk: Walking distance\n",
    "1. player_dmg: Injury points\n",
    "1. player_kills: kills\n",
    "1. player_name: Player Game id\n",
    "1. player_survive_time: Player survival time\n",
    "1. team_id: The player's team number\n",
    "1. team_placement: The final ranking of the player's team"
   ]
  },
  {
   "cell_type": "markdown",
   "id": "42085fe9",
   "metadata": {},
   "source": [
    "# 라이브러리 및 데이터 로드"
   ]
  },
  {
   "cell_type": "markdown",
   "id": "0b32791b",
   "metadata": {},
   "source": [
    "## 라이브러리"
   ]
  },
  {
   "cell_type": "code",
   "execution_count": null,
   "id": "9235dc1f",
   "metadata": {
    "ExecuteTime": {
     "end_time": "2021-08-11T12:46:08.865445Z",
     "start_time": "2021-08-11T12:46:07.659889Z"
    }
   },
   "outputs": [],
   "source": [
    "import pandas as pd\n",
    "import numpy as np\n",
    "import matplotlib.pyplot as plt\n",
    "import seaborn as sns\n",
    "import math\n",
    "from tqdm.auto import tqdm\n",
    "tqdm.pandas()"
   ]
  },
  {
   "cell_type": "code",
   "execution_count": null,
   "id": "9f788efa",
   "metadata": {
    "ExecuteTime": {
     "end_time": "2021-08-11T12:46:08.869088Z",
     "start_time": "2021-08-11T12:46:08.867054Z"
    }
   },
   "outputs": [],
   "source": [
    "plt.rc('font', family='AppleGothic')\n",
    "plt.rc('axes', unicode_minus=False)"
   ]
  },
  {
   "cell_type": "code",
   "execution_count": null,
   "id": "ce86b550",
   "metadata": {
    "ExecuteTime": {
     "end_time": "2021-07-31T03:33:58.148830Z",
     "start_time": "2021-07-31T03:33:58.146635Z"
    }
   },
   "outputs": [],
   "source": [
    "pd.set_option('display.float_format', lambda x: '%.3f' % x)"
   ]
  },
  {
   "cell_type": "markdown",
   "id": "26877902",
   "metadata": {},
   "source": [
    "## 데이터"
   ]
  },
  {
   "cell_type": "code",
   "execution_count": null,
   "id": "3bf2aff3",
   "metadata": {
    "ExecuteTime": {
     "end_time": "2021-08-11T12:46:10.451607Z",
     "start_time": "2021-08-11T12:46:10.449513Z"
    }
   },
   "outputs": [],
   "source": [
    "data_dir = '../dataset/raw/'"
   ]
  },
  {
   "cell_type": "code",
   "execution_count": null,
   "id": "ccb0ea64",
   "metadata": {
    "ExecuteTime": {
     "end_time": "2021-08-11T12:48:12.112855Z",
     "start_time": "2021-08-11T12:46:11.779591Z"
    }
   },
   "outputs": [],
   "source": [
    "agg_0 = pd.read_csv(data_dir + 'aggregate/agg_match_stats_0.csv')\n",
    "agg_1 = pd.read_csv(data_dir + 'aggregate/agg_match_stats_1.csv')\n",
    "agg_2 = pd.read_csv(data_dir + 'aggregate/agg_match_stats_2.csv')\n",
    "agg_3 = pd.read_csv(data_dir + 'aggregate/agg_match_stats_3.csv')\n",
    "agg_4 = pd.read_csv(data_dir + 'aggregate/agg_match_stats_4.csv')"
   ]
  },
  {
   "cell_type": "code",
   "execution_count": null,
   "id": "f2213474",
   "metadata": {
    "ExecuteTime": {
     "end_time": "2021-08-11T12:50:07.623522Z",
     "start_time": "2021-08-11T12:48:12.118146Z"
    }
   },
   "outputs": [],
   "source": [
    "deaths_0 = pd.read_csv(data_dir + 'deaths/kill_match_stats_final_0.csv')\n",
    "deaths_1 = pd.read_csv(data_dir + 'deaths/kill_match_stats_final_1.csv')\n",
    "deaths_2 = pd.read_csv(data_dir + 'deaths/kill_match_stats_final_2.csv')\n",
    "deaths_3 = pd.read_csv(data_dir + 'deaths/kill_match_stats_final_3.csv')\n",
    "deaths_4 = pd.read_csv(data_dir + 'deaths/kill_match_stats_final_4.csv')"
   ]
  },
  {
   "cell_type": "markdown",
   "id": "8045f049",
   "metadata": {},
   "source": [
    "# Data preprocessing"
   ]
  },
  {
   "cell_type": "markdown",
   "id": "53d43fc7",
   "metadata": {},
   "source": [
    "## Aggregate의 na 제거"
   ]
  },
  {
   "cell_type": "code",
   "execution_count": null,
   "id": "ffa60a69",
   "metadata": {
    "ExecuteTime": {
     "end_time": "2021-08-11T12:50:44.853516Z",
     "start_time": "2021-08-11T12:50:13.319304Z"
    }
   },
   "outputs": [],
   "source": [
    "agg_0 = agg_0.dropna()\n",
    "agg_1 = agg_1.dropna()\n",
    "agg_2 = agg_2.dropna()\n",
    "agg_3 = agg_3.dropna()\n",
    "agg_4 = agg_4.dropna()"
   ]
  },
  {
   "cell_type": "markdown",
   "id": "96a491de",
   "metadata": {},
   "source": [
    "## match_mode 제거\n",
    "* 모두 'tpp'만 가짐"
   ]
  },
  {
   "cell_type": "code",
   "execution_count": null,
   "id": "272a40a1",
   "metadata": {},
   "outputs": [],
   "source": [
    "del agg_0['match_mode']\n",
    "del agg_1['match_mode']\n",
    "del agg_2['match_mode']\n",
    "del agg_3['match_mode']\n",
    "del agg_4['match_mode']"
   ]
  },
  {
   "cell_type": "markdown",
   "id": "df58c239",
   "metadata": {},
   "source": [
    "## 두 데이터에서 매칭되지 않는 match_id 제거"
   ]
  },
  {
   "cell_type": "code",
   "execution_count": null,
   "id": "5390a544",
   "metadata": {
    "ExecuteTime": {
     "end_time": "2021-08-11T12:55:19.246053Z",
     "start_time": "2021-08-11T12:55:19.238232Z"
    }
   },
   "outputs": [],
   "source": [
    "agg_list = [agg_0, agg_1, agg_2, agg_3, agg_4]"
   ]
  },
  {
   "cell_type": "code",
   "execution_count": null,
   "id": "e7721b4d",
   "metadata": {
    "ExecuteTime": {
     "end_time": "2021-08-11T12:55:25.874088Z",
     "start_time": "2021-08-11T12:55:20.620247Z"
    }
   },
   "outputs": [],
   "source": [
    "match_id_list =[]\n",
    "for i in agg_list:\n",
    "    match_id_list += [x for x in i['match_id'].unique()]"
   ]
  },
  {
   "cell_type": "code",
   "execution_count": null,
   "id": "f8871775",
   "metadata": {
    "ExecuteTime": {
     "end_time": "2021-08-11T12:56:00.645261Z",
     "start_time": "2021-08-11T12:55:38.178299Z"
    }
   },
   "outputs": [],
   "source": [
    "deaths_0 = deaths_0[deaths_0['match_id'].isin(match_id_list)]\n",
    "deaths_1 = deaths_1[deaths_1['match_id'].isin(match_id_list)]\n",
    "deaths_2 = deaths_2[deaths_2['match_id'].isin(match_id_list)]\n",
    "deaths_3 = deaths_3[deaths_3['match_id'].isin(match_id_list)]\n",
    "deaths_4 = deaths_4[deaths_4['match_id'].isin(match_id_list)]"
   ]
  },
  {
   "cell_type": "markdown",
   "id": "336eef7f",
   "metadata": {},
   "source": [
    "## deaths data na 처리"
   ]
  },
  {
   "cell_type": "code",
   "execution_count": null,
   "id": "dbbcdf58",
   "metadata": {
    "ExecuteTime": {
     "end_time": "2021-08-11T12:56:05.233491Z",
     "start_time": "2021-08-11T12:56:03.110257Z"
    }
   },
   "outputs": [],
   "source": [
    "deaths_0.isnull().mean()*100"
   ]
  },
  {
   "cell_type": "code",
   "execution_count": null,
   "id": "1eba4e1d",
   "metadata": {
    "ExecuteTime": {
     "end_time": "2021-08-11T12:56:07.236152Z",
     "start_time": "2021-08-11T12:56:05.235262Z"
    }
   },
   "outputs": [],
   "source": [
    "deaths_1.isnull().mean()*100"
   ]
  },
  {
   "cell_type": "code",
   "execution_count": null,
   "id": "85aebf55",
   "metadata": {
    "ExecuteTime": {
     "end_time": "2021-08-11T12:56:09.294299Z",
     "start_time": "2021-08-11T12:56:07.238091Z"
    }
   },
   "outputs": [],
   "source": [
    "deaths_2.isnull().mean()*100"
   ]
  },
  {
   "cell_type": "code",
   "execution_count": null,
   "id": "299e3811",
   "metadata": {
    "ExecuteTime": {
     "end_time": "2021-08-11T12:56:11.354140Z",
     "start_time": "2021-08-11T12:56:09.295922Z"
    }
   },
   "outputs": [],
   "source": [
    "deaths_3.isnull().mean()*100"
   ]
  },
  {
   "cell_type": "code",
   "execution_count": null,
   "id": "3f8a5de2",
   "metadata": {
    "ExecuteTime": {
     "end_time": "2021-08-11T12:56:13.142500Z",
     "start_time": "2021-08-11T12:56:11.355615Z"
    },
    "scrolled": false
   },
   "outputs": [],
   "source": [
    "deaths_4.isnull().mean()*100"
   ]
  },
  {
   "cell_type": "markdown",
   "id": "36961487",
   "metadata": {},
   "source": [
    "### map na drop"
   ]
  },
  {
   "cell_type": "code",
   "execution_count": null,
   "id": "eb9dcc43",
   "metadata": {
    "ExecuteTime": {
     "end_time": "2021-08-11T12:58:49.004192Z",
     "start_time": "2021-08-11T12:58:48.539252Z"
    }
   },
   "outputs": [],
   "source": [
    "deaths_0['map'].unique()"
   ]
  },
  {
   "cell_type": "markdown",
   "id": "729f8b43",
   "metadata": {},
   "source": [
    "* map 결측값 대체 가능 여부 확인"
   ]
  },
  {
   "cell_type": "code",
   "execution_count": null,
   "id": "76b8faaa",
   "metadata": {
    "ExecuteTime": {
     "end_time": "2021-08-11T12:59:06.386801Z",
     "start_time": "2021-08-11T12:59:04.628525Z"
    }
   },
   "outputs": [],
   "source": [
    "# map이 na인 match_id 정리\n",
    "\n",
    "d0_map_na_match_id = [x for x in deaths_0.loc[deaths_0['map'].isnull(), 'match_id'].unique()]\n",
    "d1_map_na_match_id = [x for x in deaths_1.loc[deaths_1['map'].isnull(), 'match_id'].unique()]\n",
    "d2_map_na_match_id = [x for x in deaths_2.loc[deaths_2['map'].isnull(), 'match_id'].unique()]\n",
    "d3_map_na_match_id = [x for x in deaths_3.loc[deaths_3['map'].isnull(), 'match_id'].unique()]\n",
    "d4_map_na_match_id = [x for x in deaths_4.loc[deaths_4['map'].isnull(), 'match_id'].unique()]\n",
    "\n",
    "map_na_match_id = []\n",
    "map_na_match_id = d0_map_na_match_id + d1_map_na_match_id + d2_map_na_match_id + d3_map_na_match_id + d4_map_na_match_id "
   ]
  },
  {
   "cell_type": "code",
   "execution_count": null,
   "id": "c80e1b69",
   "metadata": {
    "ExecuteTime": {
     "end_time": "2021-08-11T12:59:19.771232Z",
     "start_time": "2021-08-11T12:59:11.639488Z"
    }
   },
   "outputs": [],
   "source": [
    "# map이 있는 match_id 정리\n",
    "\n",
    "d0_map_match_id = [x for x in deaths_0.loc[deaths_0['map'].isin(['MIRAMAR', 'ERANGEL']), 'match_id'].unique()]\n",
    "d1_map_match_id = [x for x in deaths_1.loc[deaths_1['map'].isin(['MIRAMAR', 'ERANGEL']), 'match_id'].unique()]\n",
    "d2_map_match_id = [x for x in deaths_2.loc[deaths_2['map'].isin(['MIRAMAR', 'ERANGEL']), 'match_id'].unique()]\n",
    "d3_map_match_id = [x for x in deaths_3.loc[deaths_3['map'].isin(['MIRAMAR', 'ERANGEL']), 'match_id'].unique()]\n",
    "d4_map_match_id = [x for x in deaths_4.loc[deaths_4['map'].isin(['MIRAMAR', 'ERANGEL']), 'match_id'].unique()]\n",
    "\n",
    "map_match_id = []\n",
    "map_match_id = d0_map_match_id + d1_map_match_id + d2_map_match_id + d3_map_match_id + d4_map_match_id"
   ]
  },
  {
   "cell_type": "code",
   "execution_count": null,
   "id": "799e4dff",
   "metadata": {
    "ExecuteTime": {
     "end_time": "2021-08-11T13:02:57.517731Z",
     "start_time": "2021-08-11T12:59:21.876095Z"
    }
   },
   "outputs": [],
   "source": [
    "[map_na_match_id.index(x) for x in map_match_id if x in map_na_match_id]"
   ]
  },
  {
   "cell_type": "markdown",
   "id": "6c14c1d3",
   "metadata": {},
   "source": [
    "* 대체 불가능 판단 -> Drop"
   ]
  },
  {
   "cell_type": "code",
   "execution_count": null,
   "id": "32aeef4d",
   "metadata": {
    "ExecuteTime": {
     "end_time": "2021-07-30T05:06:16.880323Z",
     "start_time": "2021-07-30T05:06:08.426592Z"
    }
   },
   "outputs": [],
   "source": [
    "deaths_0 = deaths_0[deaths_0['map'].isnull()==False]\n",
    "deaths_1 = deaths_1[deaths_1['map'].isnull()==False]\n",
    "deaths_2 = deaths_2[deaths_2['map'].isnull()==False]\n",
    "deaths_3 = deaths_3[deaths_3['map'].isnull()==False]\n",
    "deaths_4 = deaths_4[deaths_4['map'].isnull()==False]"
   ]
  },
  {
   "cell_type": "markdown",
   "id": "9a6453f3",
   "metadata": {},
   "source": [
    "### deaths 데이터 na drop"
   ]
  },
  {
   "cell_type": "code",
   "execution_count": null,
   "id": "ab36399e",
   "metadata": {
    "ExecuteTime": {
     "end_time": "2021-07-30T05:06:42.908140Z",
     "start_time": "2021-07-30T05:06:26.621405Z"
    }
   },
   "outputs": [],
   "source": [
    "deaths_0 = deaths_0.dropna()\n",
    "deaths_1 = deaths_1.dropna()\n",
    "deaths_2 = deaths_2.dropna()\n",
    "deaths_3 = deaths_3.dropna()\n",
    "deaths_4 = deaths_4.dropna()"
   ]
  },
  {
   "cell_type": "code",
   "execution_count": null,
   "id": "d1dda049",
   "metadata": {
    "ExecuteTime": {
     "end_time": "2021-07-30T05:06:44.672085Z",
     "start_time": "2021-07-30T05:06:42.909565Z"
    }
   },
   "outputs": [],
   "source": [
    "deaths_0.isnull().mean()*100"
   ]
  },
  {
   "cell_type": "markdown",
   "id": "03424ecd",
   "metadata": {},
   "source": [
    "## Data 병합"
   ]
  },
  {
   "cell_type": "markdown",
   "id": "31ce3765",
   "metadata": {},
   "source": [
    "* key columns: agg.match_id = deaths.match_id, agg.player_name = deaths.killer_name"
   ]
  },
  {
   "cell_type": "code",
   "execution_count": null,
   "id": "c55eff5a",
   "metadata": {
    "ExecuteTime": {
     "end_time": "2021-07-30T05:06:44.679291Z",
     "start_time": "2021-07-30T05:06:44.674584Z"
    }
   },
   "outputs": [],
   "source": [
    "# key column의 이름을 맞춰야 함\n",
    "# deaths의 killer_name을 player_name으로 변경\n",
    "\n",
    "def chg_cols(df_lst, cols):\n",
    "    for i in tqdm(df_lst):\n",
    "        i.columns = cols"
   ]
  },
  {
   "cell_type": "code",
   "execution_count": null,
   "id": "86e0cbc1",
   "metadata": {
    "ExecuteTime": {
     "end_time": "2021-07-30T05:06:44.682627Z",
     "start_time": "2021-07-30T05:06:44.680711Z"
    }
   },
   "outputs": [],
   "source": [
    "deaths_lst = [deaths_0, deaths_1, deaths_2, deaths_3, deaths_4]\n",
    "agg_lst = [agg_0, agg_1, agg_2, agg_3, agg_4]"
   ]
  },
  {
   "cell_type": "code",
   "execution_count": null,
   "id": "8845f9f1",
   "metadata": {
    "ExecuteTime": {
     "end_time": "2021-07-30T05:06:44.686904Z",
     "start_time": "2021-07-30T05:06:44.684045Z"
    }
   },
   "outputs": [],
   "source": [
    "col_names = ['killed_by', 'player_name', 'killer_placement', 'killer_position_x',\n",
    "             'killer_position_y', 'map', 'match_id', 'time', 'victim_name',\n",
    "             'victim_placement', 'victim_position_x', 'victim_position_y']"
   ]
  },
  {
   "cell_type": "code",
   "execution_count": null,
   "id": "76cb2ef8",
   "metadata": {
    "ExecuteTime": {
     "end_time": "2021-07-30T05:06:45.026094Z",
     "start_time": "2021-07-30T05:06:44.688195Z"
    }
   },
   "outputs": [],
   "source": [
    "# key column 이름 맞추기\n",
    "\n",
    "chg_cols(deaths_lst, col_names)"
   ]
  },
  {
   "cell_type": "markdown",
   "id": "c5031e68",
   "metadata": {},
   "source": [
    "## Aggregate 데이터와 Deaths 데이터 Merge"
   ]
  },
  {
   "cell_type": "markdown",
   "id": "a4d7b4af",
   "metadata": {},
   "source": [
    "* 같은 번호의 데이터와 짝을 이루는 것을 match_id로 확인함\n",
    "    * e.g. agg_0는 deaths_0과 Merge"
   ]
  },
  {
   "cell_type": "code",
   "execution_count": null,
   "id": "90f70106",
   "metadata": {
    "ExecuteTime": {
     "end_time": "2021-07-30T05:09:51.108864Z",
     "start_time": "2021-07-30T05:06:45.030328Z"
    }
   },
   "outputs": [],
   "source": [
    "df_0 = pd.merge(agg_0, deaths_0, how='left', on=['match_id', 'player_name'])\n",
    "df_1 = pd.merge(agg_1, deaths_1, how='left', on=['match_id', 'player_name'])\n",
    "df_2 = pd.merge(agg_2, deaths_2, how='left', on=['match_id', 'player_name'])\n",
    "df_3 = pd.merge(agg_3, deaths_3, how='left', on=['match_id', 'player_name'])\n",
    "df_4 = pd.merge(agg_4, deaths_4, how='left', on=['match_id', 'player_name'])"
   ]
  },
  {
   "cell_type": "code",
   "execution_count": null,
   "id": "cf8fe931",
   "metadata": {
    "ExecuteTime": {
     "end_time": "2021-07-30T05:10:10.853226Z",
     "start_time": "2021-07-30T05:09:51.139755Z"
    }
   },
   "outputs": [],
   "source": [
    "df_0[df_0['party_size']==2].isnull().sum()"
   ]
  },
  {
   "cell_type": "markdown",
   "id": "3960fd1f",
   "metadata": {},
   "source": [
    "## map별로 나누기"
   ]
  },
  {
   "cell_type": "markdown",
   "id": "a4cae857",
   "metadata": {},
   "source": [
    "* ERANGEL과 MIRAMAR로 데이터 셋을 나눔"
   ]
  },
  {
   "cell_type": "code",
   "execution_count": null,
   "id": "9147b549",
   "metadata": {
    "ExecuteTime": {
     "end_time": "2021-07-30T05:10:21.399117Z",
     "start_time": "2021-07-30T05:10:10.858539Z"
    }
   },
   "outputs": [],
   "source": [
    "E_match_id_0 = list(df_0.loc[df_0['map']=='ERANGEL', 'match_id'].unique())\n",
    "E_match_id_1 = list(df_1.loc[df_1['map']=='ERANGEL', 'match_id'].unique())\n",
    "E_match_id_2 = list(df_2.loc[df_2['map']=='ERANGEL', 'match_id'].unique())\n",
    "E_match_id_3 = list(df_3.loc[df_3['map']=='ERANGEL', 'match_id'].unique())\n",
    "E_match_id_4 = list(df_4.loc[df_4['map']=='ERANGEL', 'match_id'].unique())\n",
    "\n",
    "E_match_id = E_match_id_0 + E_match_id_1 + E_match_id_2 + E_match_id_3 + E_match_id_4"
   ]
  },
  {
   "cell_type": "code",
   "execution_count": null,
   "id": "01fc69f7",
   "metadata": {
    "ExecuteTime": {
     "end_time": "2021-07-30T05:10:21.467917Z",
     "start_time": "2021-07-30T05:10:21.401824Z"
    }
   },
   "outputs": [],
   "source": [
    "# 중복 여부 확인\n",
    "\n",
    "len(E_match_id), len(set(E_match_id))"
   ]
  },
  {
   "cell_type": "code",
   "execution_count": null,
   "id": "acac7fb7",
   "metadata": {
    "ExecuteTime": {
     "end_time": "2021-07-30T05:10:26.227226Z",
     "start_time": "2021-07-30T05:10:21.469939Z"
    }
   },
   "outputs": [],
   "source": [
    "M_match_id_0 = list(df_0.loc[df_0['map']=='MIRAMAR', 'match_id'].unique())\n",
    "M_match_id_1 = list(df_1.loc[df_1['map']=='MIRAMAR', 'match_id'].unique())\n",
    "M_match_id_2 = list(df_2.loc[df_2['map']=='MIRAMAR', 'match_id'].unique())\n",
    "M_match_id_3 = list(df_3.loc[df_3['map']=='MIRAMAR', 'match_id'].unique())\n",
    "M_match_id_4 = list(df_4.loc[df_4['map']=='MIRAMAR', 'match_id'].unique())\n",
    "\n",
    "M_match_id = M_match_id_0 + M_match_id_1 + M_match_id_2 + M_match_id_3 + M_match_id_4"
   ]
  },
  {
   "cell_type": "code",
   "execution_count": null,
   "id": "42c85c53",
   "metadata": {
    "ExecuteTime": {
     "end_time": "2021-08-12T00:20:53.270954Z",
     "start_time": "2021-08-12T00:20:53.218294Z"
    }
   },
   "outputs": [],
   "source": [
    "# 중복 여부 확인\n",
    "\n",
    "len(M_match_id), len(set(M_match_id))"
   ]
  },
  {
   "cell_type": "code",
   "execution_count": null,
   "id": "950efcc4",
   "metadata": {
    "ExecuteTime": {
     "end_time": "2021-07-30T05:10:26.377324Z",
     "start_time": "2021-07-30T05:10:26.248011Z"
    }
   },
   "outputs": [],
   "source": [
    "len(E_match_id + M_match_id), len(set(E_match_id + M_match_id))"
   ]
  },
  {
   "cell_type": "code",
   "execution_count": null,
   "id": "39067d65",
   "metadata": {
    "ExecuteTime": {
     "end_time": "2021-07-30T05:10:34.026960Z",
     "start_time": "2021-07-30T05:10:26.379212Z"
    }
   },
   "outputs": [],
   "source": [
    "# kill 기록이 없는 player의 경우, 병합 했을 때 deaths의 컬럼에 대해 na값 발생\n",
    "# map의 경우 match_id를 통해 채울 수 있음\n",
    "\n",
    "df_0.loc[(df_0['match_id'].isin(E_match_id))&(df_0['map'].isnull()), 'map'] = 'ERANGEL'\n",
    "df_1.loc[(df_1['match_id'].isin(E_match_id))&(df_1['map'].isnull()), 'map'] = 'ERANGEL'\n",
    "df_2.loc[(df_2['match_id'].isin(E_match_id))&(df_2['map'].isnull()), 'map'] = 'ERANGEL'\n",
    "df_3.loc[(df_3['match_id'].isin(E_match_id))&(df_3['map'].isnull()), 'map'] = 'ERANGEL'\n",
    "df_4.loc[(df_4['match_id'].isin(E_match_id))&(df_4['map'].isnull()), 'map'] = 'ERANGEL'"
   ]
  },
  {
   "cell_type": "code",
   "execution_count": null,
   "id": "33ed0dc5",
   "metadata": {
    "ExecuteTime": {
     "end_time": "2021-07-30T05:10:40.325321Z",
     "start_time": "2021-07-30T05:10:34.028331Z"
    }
   },
   "outputs": [],
   "source": [
    "df_0.loc[(df_0['match_id'].isin(M_match_id))&(df_0['map'].isnull()), 'map'] = 'MIRAMAR'\n",
    "df_1.loc[(df_1['match_id'].isin(M_match_id))&(df_1['map'].isnull()), 'map'] = 'MIRAMAR'\n",
    "df_2.loc[(df_2['match_id'].isin(M_match_id))&(df_2['map'].isnull()), 'map'] = 'MIRAMAR'\n",
    "df_3.loc[(df_3['match_id'].isin(M_match_id))&(df_3['map'].isnull()), 'map'] = 'MIRAMAR'\n",
    "df_4.loc[(df_4['match_id'].isin(M_match_id))&(df_4['map'].isnull()), 'map'] = 'MIRAMAR'"
   ]
  },
  {
   "cell_type": "code",
   "execution_count": null,
   "id": "17e52698",
   "metadata": {
    "ExecuteTime": {
     "end_time": "2021-07-30T05:12:16.671803Z",
     "start_time": "2021-07-30T05:10:40.326846Z"
    }
   },
   "outputs": [],
   "source": [
    "df_0_E = df_0[df_0['map']=='ERANGEL']\n",
    "df_1_E = df_1[df_1['map']=='ERANGEL']\n",
    "df_2_E = df_2[df_2['map']=='ERANGEL']\n",
    "df_3_E = df_3[df_3['map']=='ERANGEL']\n",
    "df_4_E = df_4[df_4['map']=='ERANGEL']"
   ]
  },
  {
   "cell_type": "code",
   "execution_count": null,
   "id": "dc0bebab",
   "metadata": {
    "ExecuteTime": {
     "end_time": "2021-07-30T05:12:50.228824Z",
     "start_time": "2021-07-30T05:12:16.682253Z"
    }
   },
   "outputs": [],
   "source": [
    "df_0_M = df_0[df_0['map']=='MIRAMAR']\n",
    "df_1_M = df_1[df_1['map']=='MIRAMAR']\n",
    "df_2_M = df_2[df_2['map']=='MIRAMAR']\n",
    "df_3_M = df_3[df_3['map']=='MIRAMAR']\n",
    "df_4_M = df_4[df_4['map']=='MIRAMAR']"
   ]
  },
  {
   "cell_type": "code",
   "execution_count": null,
   "id": "04807d60",
   "metadata": {
    "ExecuteTime": {
     "end_time": "2021-07-30T05:12:55.874610Z",
     "start_time": "2021-07-30T05:12:50.235528Z"
    }
   },
   "outputs": [],
   "source": [
    "df_4_E.isnull().sum()"
   ]
  },
  {
   "cell_type": "code",
   "execution_count": null,
   "id": "7c4b36f7",
   "metadata": {
    "ExecuteTime": {
     "end_time": "2021-07-30T05:12:56.514499Z",
     "start_time": "2021-07-30T05:12:55.876880Z"
    }
   },
   "outputs": [],
   "source": [
    "df_4_M.isnull().sum()"
   ]
  },
  {
   "cell_type": "markdown",
   "id": "fc9265ef",
   "metadata": {},
   "source": [
    "## party_size 별로 데이터 나누기"
   ]
  },
  {
   "cell_type": "markdown",
   "id": "99bc92f0",
   "metadata": {},
   "source": [
    "* party_size에 따라 Tier가 다르기 때문에 데이터를 분리함"
   ]
  },
  {
   "cell_type": "code",
   "execution_count": null,
   "id": "e81974bf",
   "metadata": {
    "ExecuteTime": {
     "end_time": "2021-07-30T05:13:28.737247Z",
     "start_time": "2021-07-30T05:12:56.517002Z"
    }
   },
   "outputs": [],
   "source": [
    "df_0_solo_E = df_0_E[df_0_E['party_size']==1]\n",
    "df_1_solo_E = df_1_E[df_1_E['party_size']==1]\n",
    "df_2_solo_E = df_2_E[df_2_E['party_size']==1]\n",
    "df_3_solo_E = df_3_E[df_3_E['party_size']==1]\n",
    "df_4_solo_E = df_4_E[df_4_E['party_size']==1]"
   ]
  },
  {
   "cell_type": "code",
   "execution_count": null,
   "id": "95944a40",
   "metadata": {
    "ExecuteTime": {
     "end_time": "2021-07-30T05:13:33.454203Z",
     "start_time": "2021-07-30T05:13:28.740772Z"
    }
   },
   "outputs": [],
   "source": [
    "df_0_solo_M = df_0_M[df_0_M['party_size']==1]\n",
    "df_1_solo_M = df_1_M[df_1_M['party_size']==1]\n",
    "df_2_solo_M = df_2_M[df_2_M['party_size']==1]\n",
    "df_3_solo_M = df_3_M[df_3_M['party_size']==1]\n",
    "df_4_solo_M = df_4_M[df_4_M['party_size']==1]"
   ]
  },
  {
   "cell_type": "code",
   "execution_count": null,
   "id": "21db1c71",
   "metadata": {
    "ExecuteTime": {
     "end_time": "2021-07-30T05:14:04.893975Z",
     "start_time": "2021-07-30T05:13:33.459855Z"
    }
   },
   "outputs": [],
   "source": [
    "df_0_duo_E = df_0_E[df_0_E['party_size']==2]\n",
    "df_1_duo_E = df_1_E[df_1_E['party_size']==2]\n",
    "df_2_duo_E = df_2_E[df_2_E['party_size']==2]\n",
    "df_3_duo_E = df_3_E[df_3_E['party_size']==2]\n",
    "df_4_duo_E = df_4_E[df_4_E['party_size']==2]"
   ]
  },
  {
   "cell_type": "code",
   "execution_count": null,
   "id": "a45aba9d",
   "metadata": {
    "ExecuteTime": {
     "end_time": "2021-07-30T05:14:13.589603Z",
     "start_time": "2021-07-30T05:14:04.897651Z"
    }
   },
   "outputs": [],
   "source": [
    "df_0_duo_M = df_0_M[df_0_M['party_size']==2]\n",
    "df_1_duo_M = df_1_M[df_1_M['party_size']==2]\n",
    "df_2_duo_M = df_2_M[df_2_M['party_size']==2]\n",
    "df_3_duo_M = df_3_M[df_3_M['party_size']==2]\n",
    "df_4_duo_M = df_4_M[df_4_M['party_size']==2]"
   ]
  },
  {
   "cell_type": "code",
   "execution_count": null,
   "id": "b598d94d",
   "metadata": {
    "ExecuteTime": {
     "end_time": "2021-07-30T05:14:58.838318Z",
     "start_time": "2021-07-30T05:14:13.593640Z"
    }
   },
   "outputs": [],
   "source": [
    "df_0_squad_E = df_0_E[df_0_E['party_size']==4]\n",
    "df_1_squad_E = df_1_E[df_1_E['party_size']==4]\n",
    "df_2_squad_E = df_2_E[df_2_E['party_size']==4]\n",
    "df_3_squad_E = df_3_E[df_3_E['party_size']==4]\n",
    "df_4_squad_E = df_4_E[df_4_E['party_size']==4]"
   ]
  },
  {
   "cell_type": "code",
   "execution_count": null,
   "id": "c79ba425",
   "metadata": {
    "ExecuteTime": {
     "end_time": "2021-07-30T05:15:11.952058Z",
     "start_time": "2021-07-30T05:14:58.844469Z"
    }
   },
   "outputs": [],
   "source": [
    "df_0_squad_M = df_0_M[df_0_M['party_size']==4]\n",
    "df_1_squad_M = df_1_M[df_1_M['party_size']==4]\n",
    "df_2_squad_M = df_2_M[df_2_M['party_size']==4]\n",
    "df_3_squad_M = df_3_M[df_3_M['party_size']==4]\n",
    "df_4_squad_M = df_4_M[df_4_M['party_size']==4]"
   ]
  },
  {
   "cell_type": "markdown",
   "id": "1a34054b",
   "metadata": {},
   "source": [
    "## party_size별 map별 Dataset 만들기"
   ]
  },
  {
   "cell_type": "code",
   "execution_count": null,
   "id": "3a7f44d2",
   "metadata": {
    "ExecuteTime": {
     "end_time": "2021-07-30T05:15:29.716818Z",
     "start_time": "2021-07-30T05:15:11.956560Z"
    }
   },
   "outputs": [],
   "source": [
    "df_solo_E = pd.concat([df_0_solo_E, df_1_solo_E, df_2_solo_E, df_3_solo_E, df_4_solo_E])"
   ]
  },
  {
   "cell_type": "code",
   "execution_count": null,
   "id": "44122006",
   "metadata": {
    "ExecuteTime": {
     "end_time": "2021-07-30T05:15:54.875301Z",
     "start_time": "2021-07-30T05:15:29.721351Z"
    }
   },
   "outputs": [],
   "source": [
    "df_duo_E = pd.concat([df_0_duo_E, df_1_duo_E, df_2_duo_E, df_3_duo_E, df_4_duo_E])"
   ]
  },
  {
   "cell_type": "code",
   "execution_count": null,
   "id": "7515e38d",
   "metadata": {
    "ExecuteTime": {
     "end_time": "2021-07-30T05:28:54.055502Z",
     "start_time": "2021-07-30T05:15:54.880726Z"
    }
   },
   "outputs": [],
   "source": [
    "df_squad_E = pd.concat([df_0_squad_E, df_1_squad_E, df_2_squad_E, df_3_squad_E, df_4_squad_E])"
   ]
  },
  {
   "cell_type": "code",
   "execution_count": null,
   "id": "fe78de85",
   "metadata": {
    "ExecuteTime": {
     "end_time": "2021-07-30T05:28:59.000445Z",
     "start_time": "2021-07-30T05:28:54.059061Z"
    }
   },
   "outputs": [],
   "source": [
    "df_solo_M = pd.concat([df_0_solo_M, df_1_solo_M, df_2_solo_M, df_3_solo_M, df_4_solo_M])"
   ]
  },
  {
   "cell_type": "code",
   "execution_count": null,
   "id": "5e21c5dc",
   "metadata": {
    "ExecuteTime": {
     "end_time": "2021-07-30T05:29:03.390387Z",
     "start_time": "2021-07-30T05:28:59.002474Z"
    }
   },
   "outputs": [],
   "source": [
    "df_duo_M = pd.concat([df_0_duo_M, df_1_duo_M, df_2_duo_M, df_3_duo_M, df_4_duo_M])"
   ]
  },
  {
   "cell_type": "code",
   "execution_count": null,
   "id": "cc11f4e1",
   "metadata": {
    "ExecuteTime": {
     "end_time": "2021-07-30T05:29:11.651102Z",
     "start_time": "2021-07-30T05:29:03.395060Z"
    }
   },
   "outputs": [],
   "source": [
    "df_squad_M = pd.concat([df_0_squad_M, df_1_squad_M, df_2_squad_M, df_3_squad_M, df_4_squad_M])"
   ]
  },
  {
   "cell_type": "code",
   "execution_count": null,
   "id": "7c810a46",
   "metadata": {},
   "outputs": [],
   "source": [
    "del df_solo_E['party_size']\n",
    "del df_duo_E['party_size']\n",
    "del df_squad_E['party_size']\n",
    "del df_solo_M['party_size']\n",
    "del df_duo_M['party_size']\n",
    "del df_squad_M['party_size']"
   ]
  },
  {
   "cell_type": "markdown",
   "id": "12624780",
   "metadata": {},
   "source": [
    "## killed_by 그룹핑"
   ]
  },
  {
   "cell_type": "code",
   "execution_count": null,
   "id": "68764cd1",
   "metadata": {
    "ExecuteTime": {
     "end_time": "2021-07-30T05:29:11.680073Z",
     "start_time": "2021-07-30T05:29:11.655389Z"
    }
   },
   "outputs": [],
   "source": [
    "def killed_by_refine(df):\n",
    "    df['killed_by'] = df['killed_by'].replace({'death.WeapSawnoff_C': 'sawed_off', 'death.PlayerMale_A_C': 'Punch', 'death.PG117_A_01_C':'Boat' , 'death.RedZoneBomb_C':'RedZone'})\n",
    "    df['killed_by'] = df['killed_by'].replace(['Pickup Truck','Hit by Car','Buggy','Dacia','Motorbike','Motorbike (SideCar)','Uaz','Van'], 'land_vehicle')\n",
    "    df['killed_by'] = df['killed_by'].replace(['death.ProjMolotov_C', 'death.ProjMolotov_DamageField_C', 'death.Buff_FireDOT_C'], 'Molotov')\n",
    "    df['killed_by'] = df['killed_by'].replace(['Aquarail','Boat'], 'water_vehicle')"
   ]
  },
  {
   "cell_type": "code",
   "execution_count": null,
   "id": "9cd8b443",
   "metadata": {
    "ExecuteTime": {
     "end_time": "2021-07-30T05:29:20.860498Z",
     "start_time": "2021-07-30T05:29:11.684683Z"
    },
    "scrolled": true
   },
   "outputs": [],
   "source": [
    "killed_by_refine(df_solo_E)"
   ]
  },
  {
   "cell_type": "code",
   "execution_count": null,
   "id": "7df53479",
   "metadata": {
    "ExecuteTime": {
     "end_time": "2021-07-30T05:29:34.453798Z",
     "start_time": "2021-07-30T05:29:20.864209Z"
    },
    "scrolled": true
   },
   "outputs": [],
   "source": [
    "killed_by_refine(df_duo_E)"
   ]
  },
  {
   "cell_type": "code",
   "execution_count": null,
   "id": "c560d1b9",
   "metadata": {
    "ExecuteTime": {
     "end_time": "2021-07-30T05:29:53.264151Z",
     "start_time": "2021-07-30T05:29:34.456455Z"
    },
    "scrolled": true
   },
   "outputs": [],
   "source": [
    "killed_by_refine(df_squad_E)"
   ]
  },
  {
   "cell_type": "code",
   "execution_count": null,
   "id": "07e8b910",
   "metadata": {
    "ExecuteTime": {
     "end_time": "2021-07-30T05:29:55.276999Z",
     "start_time": "2021-07-30T05:29:53.266477Z"
    },
    "scrolled": true
   },
   "outputs": [],
   "source": [
    "killed_by_refine(df_solo_M)"
   ]
  },
  {
   "cell_type": "code",
   "execution_count": null,
   "id": "9e647115",
   "metadata": {
    "ExecuteTime": {
     "end_time": "2021-07-30T05:29:58.145205Z",
     "start_time": "2021-07-30T05:29:55.280940Z"
    },
    "scrolled": true
   },
   "outputs": [],
   "source": [
    "killed_by_refine(df_duo_M)"
   ]
  },
  {
   "cell_type": "code",
   "execution_count": null,
   "id": "7c9fdd17",
   "metadata": {
    "ExecuteTime": {
     "end_time": "2021-07-30T05:30:02.774624Z",
     "start_time": "2021-07-30T05:29:58.148477Z"
    },
    "scrolled": true
   },
   "outputs": [],
   "source": [
    "killed_by_refine(df_squad_M)"
   ]
  },
  {
   "cell_type": "markdown",
   "id": "f4438ef3",
   "metadata": {},
   "source": [
    "## csv로 내보내기"
   ]
  },
  {
   "cell_type": "code",
   "execution_count": null,
   "id": "338c0bb5",
   "metadata": {
    "ExecuteTime": {
     "end_time": "2021-07-30T05:33:10.097588Z",
     "start_time": "2021-07-30T05:30:02.777380Z"
    }
   },
   "outputs": [],
   "source": [
    "df_solo_E.to_csv('../dataset/preprocessing/solo_E.csv', index=False)"
   ]
  },
  {
   "cell_type": "code",
   "execution_count": null,
   "id": "a744a863",
   "metadata": {
    "ExecuteTime": {
     "end_time": "2021-07-30T05:37:46.705697Z",
     "start_time": "2021-07-30T05:33:10.100550Z"
    }
   },
   "outputs": [],
   "source": [
    "df_duo_E.to_csv('../dataset/preprocessing/duo_E.csv', index=False)"
   ]
  },
  {
   "cell_type": "code",
   "execution_count": null,
   "id": "6fc023af",
   "metadata": {
    "ExecuteTime": {
     "end_time": "2021-07-30T06:08:42.838096Z",
     "start_time": "2021-07-30T05:37:46.709931Z"
    }
   },
   "outputs": [],
   "source": [
    "df_squad_E.to_csv('../dataset/preprocessing/squad_E.csv', index=False)"
   ]
  },
  {
   "cell_type": "code",
   "execution_count": null,
   "id": "125f6f92",
   "metadata": {
    "ExecuteTime": {
     "end_time": "2021-07-30T06:09:17.415102Z",
     "start_time": "2021-07-30T06:08:42.841385Z"
    }
   },
   "outputs": [],
   "source": [
    "df_solo_M.to_csv('../dataset/preprocessing/solo_M.csv', index=False)"
   ]
  },
  {
   "cell_type": "code",
   "execution_count": null,
   "id": "8999a37a",
   "metadata": {
    "ExecuteTime": {
     "end_time": "2021-07-30T06:10:14.191371Z",
     "start_time": "2021-07-30T06:09:17.416941Z"
    }
   },
   "outputs": [],
   "source": [
    "df_duo_M.to_csv('../dataset/preprocessing/duo_M.csv', index=False)"
   ]
  },
  {
   "cell_type": "code",
   "execution_count": null,
   "id": "65fa97c0",
   "metadata": {
    "ExecuteTime": {
     "end_time": "2021-07-30T06:11:51.000938Z",
     "start_time": "2021-07-30T06:10:14.193354Z"
    }
   },
   "outputs": [],
   "source": [
    "df_squad_M.to_csv('../dataset/preprocessing/squad_M.csv', index=False)"
   ]
  },
  {
   "cell_type": "markdown",
   "id": "25b3fec5",
   "metadata": {},
   "source": [
    "# Outlier 처리"
   ]
  },
  {
   "cell_type": "markdown",
   "id": "da6b05cb",
   "metadata": {},
   "source": [
    "## Duo"
   ]
  },
  {
   "cell_type": "code",
   "execution_count": null,
   "id": "a52bcbfd",
   "metadata": {
    "ExecuteTime": {
     "end_time": "2021-08-01T15:14:05.381640Z",
     "start_time": "2021-08-01T15:13:52.097334Z"
    }
   },
   "outputs": [],
   "source": [
    "df_M = pd.read_csv('../dataset/preprocessing/duo_M.csv')"
   ]
  },
  {
   "cell_type": "code",
   "execution_count": null,
   "id": "28f399d2",
   "metadata": {
    "ExecuteTime": {
     "end_time": "2021-08-01T15:15:25.086715Z",
     "start_time": "2021-08-01T15:14:05.383259Z"
    }
   },
   "outputs": [],
   "source": [
    "df_E = pd.read_csv('../dataset/preprocessing/duo_E.csv')"
   ]
  },
  {
   "cell_type": "code",
   "execution_count": null,
   "id": "1c10d5f6",
   "metadata": {
    "ExecuteTime": {
     "end_time": "2021-08-01T15:15:25.098655Z",
     "start_time": "2021-08-01T15:15:25.089574Z"
    }
   },
   "outputs": [],
   "source": [
    "pd.set_option('display.float_format', lambda x: '%.3f' % x)"
   ]
  },
  {
   "cell_type": "code",
   "execution_count": null,
   "id": "34a64c62",
   "metadata": {
    "ExecuteTime": {
     "end_time": "2021-08-01T15:15:25.108919Z",
     "start_time": "2021-08-01T15:15:25.100657Z"
    }
   },
   "outputs": [],
   "source": [
    "df_E.shape, df_M.shape"
   ]
  },
  {
   "cell_type": "code",
   "execution_count": null,
   "id": "95bf7315",
   "metadata": {
    "ExecuteTime": {
     "end_time": "2021-07-30T06:15:37.118400Z",
     "start_time": "2021-07-30T06:15:32.170015Z"
    }
   },
   "outputs": [],
   "source": [
    "df_E.isnull().sum()"
   ]
  },
  {
   "cell_type": "code",
   "execution_count": null,
   "id": "d5770351",
   "metadata": {
    "ExecuteTime": {
     "end_time": "2021-07-30T06:15:39.757623Z",
     "start_time": "2021-07-30T06:15:37.119803Z"
    }
   },
   "outputs": [],
   "source": [
    "df_M.isnull().sum()"
   ]
  },
  {
   "cell_type": "code",
   "execution_count": null,
   "id": "88f0864b",
   "metadata": {
    "ExecuteTime": {
     "end_time": "2021-07-30T06:15:43.226940Z",
     "start_time": "2021-07-30T06:15:39.759788Z"
    }
   },
   "outputs": [],
   "source": [
    "df_M.describe()"
   ]
  },
  {
   "cell_type": "code",
   "execution_count": null,
   "id": "a892ebc8",
   "metadata": {
    "ExecuteTime": {
     "end_time": "2021-07-30T06:15:56.983855Z",
     "start_time": "2021-07-30T06:15:43.229498Z"
    }
   },
   "outputs": [],
   "source": [
    "df_E.describe()"
   ]
  },
  {
   "cell_type": "code",
   "execution_count": null,
   "id": "7cbcc100",
   "metadata": {
    "ExecuteTime": {
     "end_time": "2021-07-30T06:15:59.830902Z",
     "start_time": "2021-07-30T06:15:56.985914Z"
    }
   },
   "outputs": [],
   "source": [
    "df_E_raw = df_E.copy()"
   ]
  },
  {
   "cell_type": "code",
   "execution_count": null,
   "id": "f0bdcc93",
   "metadata": {
    "ExecuteTime": {
     "end_time": "2021-07-30T06:16:00.068291Z",
     "start_time": "2021-07-30T06:15:59.832298Z"
    }
   },
   "outputs": [],
   "source": [
    "df_M_raw = df_M.copy()"
   ]
  },
  {
   "cell_type": "markdown",
   "id": "a7409cec",
   "metadata": {},
   "source": [
    "### game_size\n",
    "* 40팀 미만"
   ]
  },
  {
   "cell_type": "code",
   "execution_count": null,
   "id": "8f2b0042",
   "metadata": {
    "ExecuteTime": {
     "end_time": "2021-07-30T06:16:07.884910Z",
     "start_time": "2021-07-30T06:16:00.069771Z"
    }
   },
   "outputs": [],
   "source": [
    "df_E = df_E.loc[df_E['game_size'] >= 40]"
   ]
  },
  {
   "cell_type": "code",
   "execution_count": null,
   "id": "23cfaf71",
   "metadata": {
    "ExecuteTime": {
     "end_time": "2021-07-30T06:16:08.788172Z",
     "start_time": "2021-07-30T06:16:07.886443Z"
    }
   },
   "outputs": [],
   "source": [
    "df_M = df_M.loc[df_M['game_size'] >= 40]"
   ]
  },
  {
   "cell_type": "code",
   "execution_count": null,
   "id": "f067a593",
   "metadata": {
    "ExecuteTime": {
     "end_time": "2021-07-30T06:16:08.973217Z",
     "start_time": "2021-07-30T06:16:08.789361Z"
    },
    "scrolled": true
   },
   "outputs": [],
   "source": [
    "df_E['team_placement'].value_counts()"
   ]
  },
  {
   "cell_type": "code",
   "execution_count": null,
   "id": "1ccb9fa5",
   "metadata": {
    "ExecuteTime": {
     "end_time": "2021-07-30T06:16:09.007904Z",
     "start_time": "2021-07-30T06:16:08.974604Z"
    },
    "scrolled": true
   },
   "outputs": [],
   "source": [
    "df_M['team_placement'].value_counts()"
   ]
  },
  {
   "cell_type": "markdown",
   "id": "32b79604",
   "metadata": {},
   "source": [
    "### player_dist_ride, player_dist_walk\n",
    "* ride 30km 초과\n",
    "* walk 10km 초과"
   ]
  },
  {
   "cell_type": "code",
   "execution_count": null,
   "id": "30fbc8a1",
   "metadata": {
    "ExecuteTime": {
     "end_time": "2021-07-30T06:16:14.257735Z",
     "start_time": "2021-07-30T06:16:09.009415Z"
    }
   },
   "outputs": [],
   "source": [
    "df_E = df_E.loc[df_E['player_dist_ride'] <= 30000]"
   ]
  },
  {
   "cell_type": "code",
   "execution_count": null,
   "id": "2c155043",
   "metadata": {
    "ExecuteTime": {
     "end_time": "2021-07-30T06:16:15.023611Z",
     "start_time": "2021-07-30T06:16:14.259305Z"
    }
   },
   "outputs": [],
   "source": [
    "df_M = df_M.loc[df_M['player_dist_ride'] <= 30000]"
   ]
  },
  {
   "cell_type": "code",
   "execution_count": null,
   "id": "b540cd96",
   "metadata": {
    "ExecuteTime": {
     "end_time": "2021-07-30T06:16:19.441768Z",
     "start_time": "2021-07-30T06:16:15.025084Z"
    }
   },
   "outputs": [],
   "source": [
    "df_E = df_E.loc[df_E['player_dist_walk'] <= 10000]"
   ]
  },
  {
   "cell_type": "code",
   "execution_count": null,
   "id": "9b3472b9",
   "metadata": {
    "ExecuteTime": {
     "end_time": "2021-07-30T06:16:20.012762Z",
     "start_time": "2021-07-30T06:16:19.443221Z"
    }
   },
   "outputs": [],
   "source": [
    "df_M = df_M.loc[df_M['player_dist_walk'] <= 10000]"
   ]
  },
  {
   "cell_type": "code",
   "execution_count": null,
   "id": "5787ffa2",
   "metadata": {
    "ExecuteTime": {
     "end_time": "2021-07-30T06:16:20.188432Z",
     "start_time": "2021-07-30T06:16:20.014128Z"
    },
    "scrolled": true
   },
   "outputs": [],
   "source": [
    "df_E['team_placement'].value_counts()"
   ]
  },
  {
   "cell_type": "code",
   "execution_count": null,
   "id": "c5850b3e",
   "metadata": {
    "ExecuteTime": {
     "end_time": "2021-07-30T06:16:20.224617Z",
     "start_time": "2021-07-30T06:16:20.193146Z"
    },
    "scrolled": true
   },
   "outputs": [],
   "source": [
    "df_M['team_placement'].value_counts()"
   ]
  },
  {
   "cell_type": "markdown",
   "id": "502800fa",
   "metadata": {},
   "source": [
    "### player_kills, player_dmg\n",
    "* kill: 30킬 초과\n",
    "* dmg: 3000데미지 초과"
   ]
  },
  {
   "cell_type": "code",
   "execution_count": null,
   "id": "48780f0b",
   "metadata": {
    "ExecuteTime": {
     "end_time": "2021-07-30T06:16:39.918211Z",
     "start_time": "2021-07-30T06:16:20.227243Z"
    }
   },
   "outputs": [],
   "source": [
    "plt.ticklabel_format(style='plain')\n",
    "sns.scatterplot(data=df_E[['player_dmg', 'player_kills']], x='player_dmg', y='player_kills')"
   ]
  },
  {
   "cell_type": "code",
   "execution_count": null,
   "id": "410c8c38",
   "metadata": {
    "ExecuteTime": {
     "end_time": "2021-07-30T06:16:43.911233Z",
     "start_time": "2021-07-30T06:16:39.919591Z"
    }
   },
   "outputs": [],
   "source": [
    "plt.ticklabel_format(style='plain')\n",
    "sns.scatterplot(data=df_M[['player_dmg', 'player_kills']], x='player_dmg', y='player_kills')"
   ]
  },
  {
   "cell_type": "code",
   "execution_count": null,
   "id": "b8467e05",
   "metadata": {
    "ExecuteTime": {
     "end_time": "2021-07-30T06:16:52.297295Z",
     "start_time": "2021-07-30T06:16:43.912649Z"
    }
   },
   "outputs": [],
   "source": [
    "df_E = df_E.drop(df_E.loc[(df_E['player_kills'] > 30 ) | (df_E['player_dmg'] > 3000)].index)"
   ]
  },
  {
   "cell_type": "code",
   "execution_count": null,
   "id": "92ebc65c",
   "metadata": {
    "ExecuteTime": {
     "end_time": "2021-07-30T06:16:53.567016Z",
     "start_time": "2021-07-30T06:16:52.298786Z"
    }
   },
   "outputs": [],
   "source": [
    "df_M = df_M.drop(df_M.loc[(df_M['player_kills'] > 30 ) | (df_M['player_dmg'] > 3000)].index)"
   ]
  },
  {
   "cell_type": "code",
   "execution_count": null,
   "id": "e9fda69a",
   "metadata": {
    "ExecuteTime": {
     "end_time": "2021-07-30T06:16:53.726862Z",
     "start_time": "2021-07-30T06:16:53.568472Z"
    },
    "scrolled": true
   },
   "outputs": [],
   "source": [
    "df_E['team_placement'].value_counts()"
   ]
  },
  {
   "cell_type": "code",
   "execution_count": null,
   "id": "1a4e8ed1",
   "metadata": {
    "ExecuteTime": {
     "end_time": "2021-07-30T06:16:53.765649Z",
     "start_time": "2021-07-30T06:16:53.728303Z"
    },
    "scrolled": true
   },
   "outputs": [],
   "source": [
    "df_M['team_placement'].value_counts()"
   ]
  },
  {
   "cell_type": "markdown",
   "id": "b6a7cf8f",
   "metadata": {},
   "source": [
    "### kill_dist\n",
    "* 400m 초과"
   ]
  },
  {
   "cell_type": "code",
   "execution_count": null,
   "id": "896900ff",
   "metadata": {
    "ExecuteTime": {
     "end_time": "2021-07-30T06:16:54.289720Z",
     "start_time": "2021-07-30T06:16:53.767116Z"
    }
   },
   "outputs": [],
   "source": [
    "df_E['kill_dist'] = np.sqrt((df_E['killer_position_x'] - df_E['victim_position_x'])**2 \n",
    "                             + (df_E['killer_position_y'] - df_E['victim_position_y'])**2)"
   ]
  },
  {
   "cell_type": "code",
   "execution_count": null,
   "id": "25b63139",
   "metadata": {
    "ExecuteTime": {
     "end_time": "2021-07-30T06:16:54.393933Z",
     "start_time": "2021-07-30T06:16:54.291203Z"
    }
   },
   "outputs": [],
   "source": [
    "df_M['kill_dist'] = np.sqrt((df_M['killer_position_x'] - df_M['victim_position_x'])**2 \n",
    "                             + (df_M['killer_position_y'] - df_M['victim_position_y'])**2)"
   ]
  },
  {
   "cell_type": "code",
   "execution_count": null,
   "id": "fd4af2e0",
   "metadata": {
    "ExecuteTime": {
     "end_time": "2021-07-30T06:16:55.248753Z",
     "start_time": "2021-07-30T06:16:54.395399Z"
    }
   },
   "outputs": [],
   "source": [
    "plt.ticklabel_format(style='plain')\n",
    "df_E.loc[df_E['kill_dist'] < 40000, 'kill_dist'].hist(bins=100)"
   ]
  },
  {
   "cell_type": "code",
   "execution_count": null,
   "id": "c51b9659",
   "metadata": {
    "ExecuteTime": {
     "end_time": "2021-07-30T06:16:55.562569Z",
     "start_time": "2021-07-30T06:16:55.250243Z"
    }
   },
   "outputs": [],
   "source": [
    "plt.ticklabel_format(style='plain')\n",
    "df_M.loc[df_M['kill_dist'] < 40000, 'kill_dist'].hist(bins=100)"
   ]
  },
  {
   "cell_type": "code",
   "execution_count": null,
   "id": "fdc41482",
   "metadata": {
    "ExecuteTime": {
     "end_time": "2021-07-30T06:17:05.475934Z",
     "start_time": "2021-07-30T06:16:55.564092Z"
    }
   },
   "outputs": [],
   "source": [
    "df_E = df_E.drop(df_E[df_E['kill_dist'] > 40000].index)"
   ]
  },
  {
   "cell_type": "code",
   "execution_count": null,
   "id": "58c71aa4",
   "metadata": {
    "ExecuteTime": {
     "end_time": "2021-07-30T06:17:06.932696Z",
     "start_time": "2021-07-30T06:17:05.477376Z"
    }
   },
   "outputs": [],
   "source": [
    "df_M = df_M.drop(df_M[df_M['kill_dist'] > 40000].index)"
   ]
  },
  {
   "cell_type": "markdown",
   "id": "20f76fe8",
   "metadata": {},
   "source": [
    "### player_assists, player_dbno\n",
    "* assist: 그대로 사용\n",
    "* dbno: 11번 초과"
   ]
  },
  {
   "cell_type": "code",
   "execution_count": null,
   "id": "8ef14a37",
   "metadata": {
    "ExecuteTime": {
     "end_time": "2021-07-30T06:17:13.590579Z",
     "start_time": "2021-07-30T06:17:06.934154Z"
    }
   },
   "outputs": [],
   "source": [
    "df_E = df_E.drop(df_E.loc[df_E['player_dbno'] > 11].index)"
   ]
  },
  {
   "cell_type": "code",
   "execution_count": null,
   "id": "b3d8b661",
   "metadata": {
    "ExecuteTime": {
     "end_time": "2021-07-30T06:17:14.510733Z",
     "start_time": "2021-07-30T06:17:13.592077Z"
    }
   },
   "outputs": [],
   "source": [
    "df_M = df_M.drop(df_M.loc[df_M['player_dbno'] > 11].index)"
   ]
  },
  {
   "cell_type": "code",
   "execution_count": null,
   "id": "ef78a79d",
   "metadata": {
    "ExecuteTime": {
     "end_time": "2021-07-30T06:17:14.670074Z",
     "start_time": "2021-07-30T06:17:14.512162Z"
    },
    "scrolled": true
   },
   "outputs": [],
   "source": [
    "df_E['team_placement'].value_counts()"
   ]
  },
  {
   "cell_type": "code",
   "execution_count": null,
   "id": "5265e571",
   "metadata": {
    "ExecuteTime": {
     "end_time": "2021-07-30T06:17:14.706381Z",
     "start_time": "2021-07-30T06:17:14.671411Z"
    },
    "scrolled": true
   },
   "outputs": [],
   "source": [
    "df_M['team_placement'].value_counts()"
   ]
  },
  {
   "cell_type": "markdown",
   "id": "f09d3c03",
   "metadata": {},
   "source": [
    "### player_survive_time\n",
    "* 1900초 초과"
   ]
  },
  {
   "cell_type": "code",
   "execution_count": null,
   "id": "d6ccbc62",
   "metadata": {
    "ExecuteTime": {
     "end_time": "2021-07-30T06:17:17.874249Z",
     "start_time": "2021-07-30T06:17:14.707833Z"
    }
   },
   "outputs": [],
   "source": [
    "df_E_1 = df_E.copy()\n",
    "df_M_1 = df_M.copy()"
   ]
  },
  {
   "cell_type": "code",
   "execution_count": null,
   "id": "67d44325",
   "metadata": {
    "ExecuteTime": {
     "end_time": "2021-07-30T06:17:17.877442Z",
     "start_time": "2021-07-30T06:17:17.875768Z"
    }
   },
   "outputs": [],
   "source": [
    "# df_E = df_E_1.copy()\n",
    "# df_M = df_M_1.copy()"
   ]
  },
  {
   "cell_type": "code",
   "execution_count": null,
   "id": "5d41504a",
   "metadata": {
    "ExecuteTime": {
     "end_time": "2021-07-30T06:17:18.552873Z",
     "start_time": "2021-07-30T06:17:17.878873Z"
    }
   },
   "outputs": [],
   "source": [
    "df_E['player_survive_time'].hist(bins=100)"
   ]
  },
  {
   "cell_type": "code",
   "execution_count": null,
   "id": "ebdb0aba",
   "metadata": {
    "ExecuteTime": {
     "end_time": "2021-07-30T06:17:18.990485Z",
     "start_time": "2021-07-30T06:17:18.554469Z"
    }
   },
   "outputs": [],
   "source": [
    "df_E.loc[df_E['team_placement']==1, 'player_survive_time'].hist(bins=100)"
   ]
  },
  {
   "cell_type": "code",
   "execution_count": null,
   "id": "312ae23a",
   "metadata": {
    "ExecuteTime": {
     "end_time": "2021-07-30T06:17:19.062111Z",
     "start_time": "2021-07-30T06:17:18.992020Z"
    },
    "scrolled": true
   },
   "outputs": [],
   "source": [
    "df_E.loc[df_E['player_survive_time'] > 1900, 'team_placement'].value_counts()"
   ]
  },
  {
   "cell_type": "code",
   "execution_count": null,
   "id": "330c1c64",
   "metadata": {
    "ExecuteTime": {
     "end_time": "2021-07-30T06:17:28.929869Z",
     "start_time": "2021-07-30T06:17:19.063671Z"
    }
   },
   "outputs": [],
   "source": [
    "df_E = df_E.drop(df_E.loc[(df_E['player_survive_time'] > 1900)].index)"
   ]
  },
  {
   "cell_type": "code",
   "execution_count": null,
   "id": "aa46eb2e",
   "metadata": {
    "ExecuteTime": {
     "end_time": "2021-07-30T06:17:30.212787Z",
     "start_time": "2021-07-30T06:17:28.931447Z"
    }
   },
   "outputs": [],
   "source": [
    "df_M = df_M.drop(df_M.loc[(df_M['player_survive_time'] > 1900)].index)"
   ]
  },
  {
   "cell_type": "code",
   "execution_count": null,
   "id": "eab86b52",
   "metadata": {
    "ExecuteTime": {
     "end_time": "2021-07-30T06:17:30.339428Z",
     "start_time": "2021-07-30T06:17:30.214247Z"
    },
    "scrolled": true
   },
   "outputs": [],
   "source": [
    "df_E['team_placement'].value_counts()"
   ]
  },
  {
   "cell_type": "code",
   "execution_count": null,
   "id": "cab4920b",
   "metadata": {
    "ExecuteTime": {
     "end_time": "2021-07-30T06:17:30.370333Z",
     "start_time": "2021-07-30T06:17:30.340810Z"
    },
    "scrolled": true
   },
   "outputs": [],
   "source": [
    "df_M['team_placement'].value_counts()"
   ]
  },
  {
   "cell_type": "markdown",
   "id": "7e38703f",
   "metadata": {},
   "source": [
    "## 분석 Dataset 확인"
   ]
  },
  {
   "cell_type": "code",
   "execution_count": null,
   "id": "4768cade",
   "metadata": {
    "ExecuteTime": {
     "end_time": "2021-07-30T06:17:30.375014Z",
     "start_time": "2021-07-30T06:17:30.371857Z"
    }
   },
   "outputs": [],
   "source": [
    "df_E.shape"
   ]
  },
  {
   "cell_type": "code",
   "execution_count": null,
   "id": "bc1cf90d",
   "metadata": {
    "ExecuteTime": {
     "end_time": "2021-07-30T06:17:35.272076Z",
     "start_time": "2021-07-30T06:17:30.376596Z"
    }
   },
   "outputs": [],
   "source": [
    "df_E.isnull().sum()"
   ]
  },
  {
   "cell_type": "code",
   "execution_count": null,
   "id": "0158057f",
   "metadata": {
    "ExecuteTime": {
     "end_time": "2021-07-30T06:17:35.276273Z",
     "start_time": "2021-07-30T06:17:35.273496Z"
    }
   },
   "outputs": [],
   "source": [
    "df_M.shape"
   ]
  },
  {
   "cell_type": "code",
   "execution_count": null,
   "id": "d37eb161",
   "metadata": {
    "ExecuteTime": {
     "end_time": "2021-07-30T06:17:36.214422Z",
     "start_time": "2021-07-30T06:17:35.277678Z"
    }
   },
   "outputs": [],
   "source": [
    "df_M.isnull().sum()"
   ]
  },
  {
   "cell_type": "markdown",
   "id": "0130d4e8",
   "metadata": {},
   "source": [
    "## Dataset 분리하기"
   ]
  },
  {
   "cell_type": "markdown",
   "id": "4c244f3b",
   "metadata": {},
   "source": [
    "* Outlier를 제거한 데이터셋과 Outlier만 모은 데이터셋으로 분리"
   ]
  },
  {
   "cell_type": "code",
   "execution_count": null,
   "id": "d06b6c99",
   "metadata": {
    "ExecuteTime": {
     "end_time": "2021-07-30T06:18:49.534034Z",
     "start_time": "2021-07-30T06:18:47.358963Z"
    }
   },
   "outputs": [],
   "source": [
    "E_in_idx = list(df_E.index)\n",
    "M_in_idx = list(df_M.index)"
   ]
  },
  {
   "cell_type": "code",
   "execution_count": null,
   "id": "f514e765",
   "metadata": {
    "ExecuteTime": {
     "end_time": "2021-07-30T06:18:53.202064Z",
     "start_time": "2021-07-30T06:18:49.535767Z"
    }
   },
   "outputs": [],
   "source": [
    "df_E_in = df_E.reset_index(drop=True)\n",
    "df_M_in = df_M.reset_index(drop=True)"
   ]
  },
  {
   "cell_type": "code",
   "execution_count": null,
   "id": "9b4a3384",
   "metadata": {
    "ExecuteTime": {
     "end_time": "2021-07-30T06:19:02.215768Z",
     "start_time": "2021-07-30T06:18:53.203949Z"
    },
    "scrolled": true
   },
   "outputs": [],
   "source": [
    "E_out_idx = list(set(df_E_raw.index) - set(df_E.index))\n",
    "M_out_idx = list(set(df_M_raw.index) - set(df_M.index))"
   ]
  },
  {
   "cell_type": "code",
   "execution_count": null,
   "id": "70775de8",
   "metadata": {
    "ExecuteTime": {
     "end_time": "2021-07-30T06:19:10.111474Z",
     "start_time": "2021-07-30T06:19:02.217571Z"
    }
   },
   "outputs": [],
   "source": [
    "df_E_out = df_E_raw.loc[E_out_idx].reset_index(drop=True)\n",
    "df_M_out = df_M_raw.loc[M_out_idx].reset_index(drop=True)"
   ]
  },
  {
   "cell_type": "markdown",
   "id": "05863548",
   "metadata": {},
   "source": [
    "## csv로 내보내기"
   ]
  },
  {
   "cell_type": "code",
   "execution_count": null,
   "id": "8cf48770",
   "metadata": {
    "ExecuteTime": {
     "end_time": "2021-07-30T06:19:45.351923Z",
     "start_time": "2021-07-30T06:19:23.629240Z"
    }
   },
   "outputs": [],
   "source": [
    "df_E_out.to_csv('../dataset/duo/duo_E_out.csv', index=False)"
   ]
  },
  {
   "cell_type": "code",
   "execution_count": null,
   "id": "74d24a66",
   "metadata": {
    "ExecuteTime": {
     "end_time": "2021-07-30T06:19:49.451936Z",
     "start_time": "2021-07-30T06:19:45.353727Z"
    }
   },
   "outputs": [],
   "source": [
    "df_M_out.to_csv('../dataset/duo/duo_M_out.csv', index=False)"
   ]
  },
  {
   "cell_type": "code",
   "execution_count": null,
   "id": "76f9ae70",
   "metadata": {
    "ExecuteTime": {
     "end_time": "2021-07-30T06:23:49.026620Z",
     "start_time": "2021-07-30T06:19:49.453806Z"
    }
   },
   "outputs": [],
   "source": [
    "df_E_in.to_csv('../dataset/duo/duo_E_in.csv', index=False)"
   ]
  },
  {
   "cell_type": "code",
   "execution_count": null,
   "id": "8b307d9f",
   "metadata": {
    "ExecuteTime": {
     "end_time": "2021-07-30T06:24:35.338637Z",
     "start_time": "2021-07-30T06:23:49.028306Z"
    }
   },
   "outputs": [],
   "source": [
    "df_M_in.to_csv('../dataset/duo/duo_M_in.csv', index=False)"
   ]
  },
  {
   "cell_type": "markdown",
   "id": "846f866a",
   "metadata": {},
   "source": [
    "## play_count 10회 이상인 player 선택"
   ]
  },
  {
   "cell_type": "code",
   "execution_count": null,
   "id": "e8af3baf",
   "metadata": {
    "ExecuteTime": {
     "end_time": "2021-07-30T06:24:46.803233Z",
     "start_time": "2021-07-30T06:24:35.339832Z"
    }
   },
   "outputs": [],
   "source": [
    "df_duo = pd.concat([df_E_in, df_M_in])"
   ]
  },
  {
   "cell_type": "code",
   "execution_count": null,
   "id": "4e7a420b",
   "metadata": {},
   "outputs": [],
   "source": [
    "df_duo.shape"
   ]
  },
  {
   "cell_type": "code",
   "execution_count": null,
   "id": "c70564ad",
   "metadata": {
    "ExecuteTime": {
     "end_time": "2021-07-30T06:26:04.635624Z",
     "start_time": "2021-07-30T06:25:39.561820Z"
    }
   },
   "outputs": [],
   "source": [
    "play_count = df_duo.groupby('player_name')['match_id'].nunique().to_frame()"
   ]
  },
  {
   "cell_type": "code",
   "execution_count": null,
   "id": "c321393c",
   "metadata": {
    "ExecuteTime": {
     "end_time": "2021-07-30T06:26:04.859930Z",
     "start_time": "2021-07-30T06:26:04.637220Z"
    }
   },
   "outputs": [],
   "source": [
    "play_count.loc[play_count['match_id'] >= 10].index"
   ]
  },
  {
   "cell_type": "code",
   "execution_count": null,
   "id": "8a5628cd",
   "metadata": {
    "ExecuteTime": {
     "end_time": "2021-07-30T06:26:35.773457Z",
     "start_time": "2021-07-30T06:26:10.964139Z"
    }
   },
   "outputs": [],
   "source": [
    "df_duo = df.loc[df['player_name'].isin(play_count[play_count['match_id'] >= 10].index)]"
   ]
  },
  {
   "cell_type": "code",
   "execution_count": null,
   "id": "e15942e4",
   "metadata": {
    "ExecuteTime": {
     "end_time": "2021-07-30T06:27:07.531127Z",
     "start_time": "2021-07-30T06:27:07.526047Z"
    }
   },
   "outputs": [],
   "source": [
    "df_duo.shape"
   ]
  },
  {
   "cell_type": "code",
   "execution_count": null,
   "id": "a9ba5d0f",
   "metadata": {
    "ExecuteTime": {
     "end_time": "2021-07-30T06:32:54.877811Z",
     "start_time": "2021-07-30T06:29:30.728934Z"
    }
   },
   "outputs": [],
   "source": [
    "df_duo.to_csv('../dataset/duo/duo.csv', index=False)"
   ]
  },
  {
   "cell_type": "markdown",
   "id": "0165f594",
   "metadata": {},
   "source": [
    "# 파생변수 생성"
   ]
  },
  {
   "cell_type": "markdown",
   "id": "008fa012",
   "metadata": {},
   "source": [
    "## Duo"
   ]
  },
  {
   "cell_type": "code",
   "execution_count": null,
   "id": "ab1c8c06",
   "metadata": {
    "ExecuteTime": {
     "end_time": "2021-07-31T03:33:58.144951Z",
     "start_time": "2021-07-31T03:32:59.275439Z"
    }
   },
   "outputs": [],
   "source": [
    "df = pd.read_csv('../dataset/duo/duo.csv')"
   ]
  },
  {
   "cell_type": "code",
   "execution_count": null,
   "id": "6eb5f40c",
   "metadata": {
    "ExecuteTime": {
     "end_time": "2021-07-31T03:33:58.155011Z",
     "start_time": "2021-07-31T03:33:58.150780Z"
    }
   },
   "outputs": [],
   "source": [
    "df.shape"
   ]
  },
  {
   "cell_type": "code",
   "execution_count": null,
   "id": "3d132d4a",
   "metadata": {
    "ExecuteTime": {
     "end_time": "2021-07-31T03:33:58.165511Z",
     "start_time": "2021-07-31T03:33:58.156722Z"
    }
   },
   "outputs": [],
   "source": [
    "df.info()"
   ]
  },
  {
   "cell_type": "markdown",
   "id": "cc396030",
   "metadata": {},
   "source": [
    "### date\n",
    "\n",
    "* 날짜형 데이터 처리"
   ]
  },
  {
   "cell_type": "code",
   "execution_count": null,
   "id": "e5c07505",
   "metadata": {
    "ExecuteTime": {
     "end_time": "2021-07-31T03:34:08.979860Z",
     "start_time": "2021-07-31T03:34:05.915299Z"
    }
   },
   "outputs": [],
   "source": [
    "df['date'] = pd.to_datetime(df['date'])"
   ]
  },
  {
   "cell_type": "markdown",
   "id": "9e7ed818",
   "metadata": {},
   "source": [
    "### Score\n",
    "* each_game_score: (50 - team_placement) * 1 + player_kills * 2 + player_assists * 2\n",
    "* total_score: sum(each_game_score) by player_name"
   ]
  },
  {
   "cell_type": "code",
   "execution_count": null,
   "id": "fc8f26b0",
   "metadata": {
    "ExecuteTime": {
     "end_time": "2021-07-31T03:38:31.534225Z",
     "start_time": "2021-07-31T03:38:31.440511Z"
    },
    "scrolled": true
   },
   "outputs": [],
   "source": [
    "df['team_placement'].value_counts()"
   ]
  },
  {
   "cell_type": "code",
   "execution_count": null,
   "id": "376c7c0b",
   "metadata": {
    "ExecuteTime": {
     "end_time": "2021-07-31T03:38:31.683528Z",
     "start_time": "2021-07-31T03:38:31.535654Z"
    }
   },
   "outputs": [],
   "source": [
    "# player별 각 게임에서의 점수 계산\n",
    "\n",
    "df['each_game_score'] = (50 - df['team_placement'])*1 + df['player_kills']*2 + df['player_assists']*2\n",
    "min(df['each_game_score']), max(df['each_game_score'])"
   ]
  },
  {
   "cell_type": "code",
   "execution_count": null,
   "id": "3494ceb7",
   "metadata": {
    "ExecuteTime": {
     "end_time": "2021-07-31T03:38:43.327459Z",
     "start_time": "2021-07-31T03:38:42.952650Z"
    }
   },
   "outputs": [],
   "source": [
    "# player별 총 점수를 계산\n",
    "\n",
    "score = df.groupby(['player_name', 'match_id'])['each_game_score'].mean().to_frame()\n",
    "total_score = score.groupby('player_name')['each_game_score'].sum().to_frame()\n",
    "total_score.columns = ['total_score']\n",
    "min(total_score['total_score']), max(total_score['total_score'])"
   ]
  },
  {
   "cell_type": "code",
   "execution_count": null,
   "id": "bd5eb4ac",
   "metadata": {
    "ExecuteTime": {
     "end_time": "2021-07-31T03:38:44.521336Z",
     "start_time": "2021-07-31T03:38:43.402878Z"
    }
   },
   "outputs": [],
   "source": [
    "total_score['total_score'].hist(bins=1000)\n",
    "plt.ticklabel_format(style='plain')"
   ]
  },
  {
   "cell_type": "code",
   "execution_count": null,
   "id": "29c278ee",
   "metadata": {
    "ExecuteTime": {
     "end_time": "2021-07-31T03:38:44.536232Z",
     "start_time": "2021-07-31T03:38:44.522910Z"
    }
   },
   "outputs": [],
   "source": [
    "total_score.loc[total_score['total_score'] > 1500, 'total_score'].count()"
   ]
  },
  {
   "cell_type": "code",
   "execution_count": null,
   "id": "06eda961",
   "metadata": {
    "ExecuteTime": {
     "end_time": "2021-07-31T03:38:55.067003Z",
     "start_time": "2021-07-31T03:38:47.117331Z"
    }
   },
   "outputs": [],
   "source": [
    "df['total_score'] = total_score.loc[df['player_name'], 'total_score'].values"
   ]
  },
  {
   "cell_type": "code",
   "execution_count": null,
   "id": "d0d4f462",
   "metadata": {
    "ExecuteTime": {
     "end_time": "2021-07-31T03:38:55.197237Z",
     "start_time": "2021-07-31T03:38:55.068590Z"
    }
   },
   "outputs": [],
   "source": [
    "df['total_score'] = np.log(df['total_score'])"
   ]
  },
  {
   "cell_type": "code",
   "execution_count": null,
   "id": "86390736",
   "metadata": {
    "ExecuteTime": {
     "end_time": "2021-07-31T03:38:59.606025Z",
     "start_time": "2021-07-31T03:38:55.198615Z"
    }
   },
   "outputs": [],
   "source": [
    "df.groupby('player_name')['total_score'].mean().hist(bins=1000)"
   ]
  },
  {
   "cell_type": "markdown",
   "id": "6353e349",
   "metadata": {},
   "source": [
    "### Tier"
   ]
  },
  {
   "cell_type": "code",
   "execution_count": null,
   "id": "83114be4",
   "metadata": {
    "ExecuteTime": {
     "end_time": "2021-07-31T03:38:59.610560Z",
     "start_time": "2021-07-31T03:38:59.607543Z"
    }
   },
   "outputs": [],
   "source": [
    "def get_tier(score):\n",
    "    if score < 6:\n",
    "        return 1 # Bronze\n",
    "    elif score < 6.75:\n",
    "        return 2 # Silver\n",
    "    elif score < 7.5:\n",
    "        return 3 # Gold\n",
    "    elif score < 8.25:\n",
    "        return 4 # Platinum\n",
    "    elif score < 9:\n",
    "        return 5 # Diamond\n",
    "    else: \n",
    "        return 6 # Master"
   ]
  },
  {
   "cell_type": "code",
   "execution_count": null,
   "id": "3a805df4",
   "metadata": {
    "ExecuteTime": {
     "end_time": "2021-07-31T03:39:04.926060Z",
     "start_time": "2021-07-31T03:38:59.612087Z"
    }
   },
   "outputs": [],
   "source": [
    "df['tier'] = df['total_score'].apply(lambda x: get_tier(x))"
   ]
  },
  {
   "cell_type": "code",
   "execution_count": null,
   "id": "14b5ae1a",
   "metadata": {
    "ExecuteTime": {
     "end_time": "2021-07-31T03:39:08.457236Z",
     "start_time": "2021-07-31T03:39:04.927604Z"
    }
   },
   "outputs": [],
   "source": [
    "df.groupby('player_name')['tier'].mean().hist()"
   ]
  },
  {
   "cell_type": "code",
   "execution_count": null,
   "id": "470e757b",
   "metadata": {
    "ExecuteTime": {
     "end_time": "2021-07-31T03:39:14.899533Z",
     "start_time": "2021-07-31T03:39:08.466952Z"
    }
   },
   "outputs": [],
   "source": [
    "df.groupby('tier')['player_name'].nunique()"
   ]
  },
  {
   "cell_type": "code",
   "execution_count": null,
   "id": "901e5613",
   "metadata": {
    "ExecuteTime": {
     "end_time": "2021-07-31T03:39:21.392398Z",
     "start_time": "2021-07-31T03:39:14.902669Z"
    }
   },
   "outputs": [],
   "source": [
    "df.groupby('tier')['player_name'].nunique()/491883*100"
   ]
  },
  {
   "cell_type": "markdown",
   "id": "ae6c9841",
   "metadata": {},
   "source": [
    "### KDA\n",
    "* (kills + assists)/deaths"
   ]
  },
  {
   "cell_type": "markdown",
   "id": "1d8500a3",
   "metadata": {},
   "source": [
    "#### kills"
   ]
  },
  {
   "cell_type": "code",
   "execution_count": null,
   "id": "4c102d27",
   "metadata": {
    "ExecuteTime": {
     "end_time": "2021-07-31T03:39:31.101849Z",
     "start_time": "2021-07-31T03:39:21.393817Z"
    }
   },
   "outputs": [],
   "source": [
    "kill = df.groupby(['player_name', 'match_id'])['player_kills'].mean().to_frame()"
   ]
  },
  {
   "cell_type": "code",
   "execution_count": null,
   "id": "8348b111",
   "metadata": {
    "ExecuteTime": {
     "end_time": "2021-07-31T03:39:31.515760Z",
     "start_time": "2021-07-31T03:39:31.103336Z"
    }
   },
   "outputs": [],
   "source": [
    "kills = kill.groupby('player_name')['player_kills'].sum().to_frame()"
   ]
  },
  {
   "cell_type": "code",
   "execution_count": null,
   "id": "12092680",
   "metadata": {
    "ExecuteTime": {
     "end_time": "2021-07-31T03:39:31.522870Z",
     "start_time": "2021-07-31T03:39:31.517250Z"
    }
   },
   "outputs": [],
   "source": [
    "kills.head()"
   ]
  },
  {
   "cell_type": "code",
   "execution_count": null,
   "id": "1429bcb0",
   "metadata": {
    "ExecuteTime": {
     "end_time": "2021-07-31T03:39:31.529050Z",
     "start_time": "2021-07-31T03:39:31.524443Z"
    }
   },
   "outputs": [],
   "source": [
    "kills.isnull().sum()"
   ]
  },
  {
   "cell_type": "markdown",
   "id": "35eaf3d0",
   "metadata": {},
   "source": [
    "#### assists"
   ]
  },
  {
   "cell_type": "code",
   "execution_count": null,
   "id": "ff3481bd",
   "metadata": {
    "ExecuteTime": {
     "end_time": "2021-07-31T03:39:41.200207Z",
     "start_time": "2021-07-31T03:39:31.530480Z"
    }
   },
   "outputs": [],
   "source": [
    "assist = df.groupby(['player_name', 'match_id'])['player_assists'].mean().to_frame()"
   ]
  },
  {
   "cell_type": "code",
   "execution_count": null,
   "id": "2730a69f",
   "metadata": {
    "ExecuteTime": {
     "end_time": "2021-07-31T03:39:41.616377Z",
     "start_time": "2021-07-31T03:39:41.201417Z"
    }
   },
   "outputs": [],
   "source": [
    "assists = assist.groupby('player_name')['player_assists'].sum().to_frame()"
   ]
  },
  {
   "cell_type": "code",
   "execution_count": null,
   "id": "959897e0",
   "metadata": {
    "ExecuteTime": {
     "end_time": "2021-07-31T03:39:41.622919Z",
     "start_time": "2021-07-31T03:39:41.618034Z"
    }
   },
   "outputs": [],
   "source": [
    "assists.head()"
   ]
  },
  {
   "cell_type": "code",
   "execution_count": null,
   "id": "855bce98",
   "metadata": {
    "ExecuteTime": {
     "end_time": "2021-07-31T03:39:41.628875Z",
     "start_time": "2021-07-31T03:39:41.624400Z"
    }
   },
   "outputs": [],
   "source": [
    "assists.isnull().sum()"
   ]
  },
  {
   "cell_type": "markdown",
   "id": "f86a06d4",
   "metadata": {},
   "source": [
    "#### deaths"
   ]
  },
  {
   "cell_type": "code",
   "execution_count": null,
   "id": "903e0b7b",
   "metadata": {
    "ExecuteTime": {
     "end_time": "2021-07-31T03:39:45.932498Z",
     "start_time": "2021-07-31T03:39:41.630233Z"
    }
   },
   "outputs": [],
   "source": [
    "# 1등 한 game 횟수\n",
    "count_rank1 = df[df['team_placement']==1].groupby('player_name')['match_id'].nunique().to_frame()\n",
    "count_rank1.columns = ['rank1']"
   ]
  },
  {
   "cell_type": "code",
   "execution_count": null,
   "id": "285c032a",
   "metadata": {
    "ExecuteTime": {
     "end_time": "2021-07-31T03:39:45.938470Z",
     "start_time": "2021-07-31T03:39:45.933932Z"
    }
   },
   "outputs": [],
   "source": [
    "count_rank1.isnull().sum()"
   ]
  },
  {
   "cell_type": "code",
   "execution_count": null,
   "id": "971dba94",
   "metadata": {
    "ExecuteTime": {
     "end_time": "2021-07-31T03:39:52.915703Z",
     "start_time": "2021-07-31T03:39:45.939941Z"
    }
   },
   "outputs": [],
   "source": [
    "# play한 game 횟수\n",
    "\n",
    "game_count = df.groupby('player_name')['match_id'].nunique().to_frame()\n",
    "game_count.columns = ['games']"
   ]
  },
  {
   "cell_type": "code",
   "execution_count": null,
   "id": "b3938c54",
   "metadata": {
    "ExecuteTime": {
     "end_time": "2021-07-31T03:39:52.922202Z",
     "start_time": "2021-07-31T03:39:52.917229Z"
    }
   },
   "outputs": [],
   "source": [
    "game_count.isnull().sum()"
   ]
  },
  {
   "cell_type": "code",
   "execution_count": null,
   "id": "aef14088",
   "metadata": {
    "ExecuteTime": {
     "end_time": "2021-07-31T03:39:53.436998Z",
     "start_time": "2021-07-31T03:39:52.923569Z"
    }
   },
   "outputs": [],
   "source": [
    "deaths = pd.merge(count_rank1, game_count, how='outer', on='player_name')\n",
    "deaths.head()"
   ]
  },
  {
   "cell_type": "code",
   "execution_count": null,
   "id": "19140fa2",
   "metadata": {
    "ExecuteTime": {
     "end_time": "2021-07-31T03:39:53.443527Z",
     "start_time": "2021-07-31T03:39:53.438435Z"
    }
   },
   "outputs": [],
   "source": [
    "deaths.isnull().sum()"
   ]
  },
  {
   "cell_type": "code",
   "execution_count": null,
   "id": "0d94631a",
   "metadata": {
    "ExecuteTime": {
     "end_time": "2021-07-31T03:39:53.451625Z",
     "start_time": "2021-07-31T03:39:53.445023Z"
    }
   },
   "outputs": [],
   "source": [
    "deaths = deaths.fillna(0)"
   ]
  },
  {
   "cell_type": "code",
   "execution_count": null,
   "id": "d4760405",
   "metadata": {
    "ExecuteTime": {
     "end_time": "2021-07-31T03:39:53.460363Z",
     "start_time": "2021-07-31T03:39:53.453075Z"
    }
   },
   "outputs": [],
   "source": [
    "deaths['deaths'] = deaths['games'] - deaths['rank1']\n",
    "deaths.head(1)"
   ]
  },
  {
   "cell_type": "markdown",
   "id": "09399e95",
   "metadata": {},
   "source": [
    "#### KDA"
   ]
  },
  {
   "cell_type": "code",
   "execution_count": null,
   "id": "a90e2f66",
   "metadata": {
    "ExecuteTime": {
     "end_time": "2021-07-31T03:39:54.690191Z",
     "start_time": "2021-07-31T03:39:53.461640Z"
    }
   },
   "outputs": [],
   "source": [
    "kda = pd.merge(kills, assists, how='outer', on='player_name')\n",
    "kda = pd.merge(kda, deaths['deaths'], how='outer', on='player_name')\n",
    "kda.isnull().sum()"
   ]
  },
  {
   "cell_type": "code",
   "execution_count": null,
   "id": "4b0d1264",
   "metadata": {
    "ExecuteTime": {
     "end_time": "2021-07-31T03:39:54.701668Z",
     "start_time": "2021-07-31T03:39:54.691615Z"
    }
   },
   "outputs": [],
   "source": [
    "kda['kda'] = (kda['player_kills'] + kda['player_assists']) / kda['deaths']\n",
    "kda.head()"
   ]
  },
  {
   "cell_type": "code",
   "execution_count": null,
   "id": "9883110e",
   "metadata": {
    "ExecuteTime": {
     "end_time": "2021-07-31T03:40:14.583799Z",
     "start_time": "2021-07-31T03:39:54.702979Z"
    }
   },
   "outputs": [],
   "source": [
    "df = pd.merge(df, kda['kda'], how='left', on='player_name')"
   ]
  },
  {
   "cell_type": "code",
   "execution_count": null,
   "id": "33451801",
   "metadata": {
    "ExecuteTime": {
     "end_time": "2021-07-31T03:40:14.610943Z",
     "start_time": "2021-07-31T03:40:14.585401Z"
    }
   },
   "outputs": [],
   "source": [
    "df['kda'].isnull().sum()"
   ]
  },
  {
   "cell_type": "markdown",
   "id": "3cd83972",
   "metadata": {},
   "source": [
    "### num_of_match\n",
    "* player별 play 횟수"
   ]
  },
  {
   "cell_type": "code",
   "execution_count": null,
   "id": "2eed1fc2",
   "metadata": {
    "ExecuteTime": {
     "end_time": "2021-07-31T06:55:01.289697Z",
     "start_time": "2021-07-31T06:54:39.776522Z"
    }
   },
   "outputs": [],
   "source": [
    "# tier별 차이를 확인하는 데에 필요한 컬럼만 선택\n",
    "\n",
    "cols = ['player_name', 'match_id', 'player_kills', 'player_dmg', 'player_assists', 'player_dbno',  'kda',\n",
    "        'player_dist_walk', 'player_dist_ride', 'kill_dist', 'player_survive_time', 'team_placement', 'tier']\n",
    "\n",
    "df_player_match = pd.pivot_table(data=df[cols], index=['player_name', 'match_id'], aggfunc='mean')"
   ]
  },
  {
   "cell_type": "code",
   "execution_count": null,
   "id": "4c7ca8da",
   "metadata": {},
   "outputs": [],
   "source": [
    "# player별 game play 횟수\n",
    "\n",
    "num_of_match = df_player_match.groupby('player_name')['tier'].value_counts().to_frame()\n",
    "num_of_match.columns = ['num_of_match']"
   ]
  },
  {
   "cell_type": "code",
   "execution_count": null,
   "id": "73e36b3f",
   "metadata": {},
   "outputs": [],
   "source": [
    "df_player = df_player_match.groupby('player_name').mean()\n",
    "df_player = pd.merge(df_player, num_of_match, how='left', on='player_name')"
   ]
  },
  {
   "cell_type": "code",
   "execution_count": null,
   "id": "fa9135de",
   "metadata": {},
   "outputs": [],
   "source": [
    "df_player = df_player[['player_kills', 'player_dmg', 'player_assists', 'player_dbno',  'kda', 'player_dist_walk', \n",
    "                       'player_dist_ride', 'kill_dist', 'player_survive_time', 'team_placement',\n",
    "                       'num_of_match','tier']]\n",
    "df_player.head()"
   ]
  },
  {
   "cell_type": "code",
   "execution_count": null,
   "id": "1462f408",
   "metadata": {},
   "outputs": [],
   "source": [
    "df_player.shape"
   ]
  },
  {
   "cell_type": "code",
   "execution_count": null,
   "id": "05962d11",
   "metadata": {},
   "outputs": [],
   "source": [
    "df_player.info()"
   ]
  },
  {
   "cell_type": "code",
   "execution_count": null,
   "id": "93a1a395",
   "metadata": {},
   "outputs": [],
   "source": [
    "df_player.to_csv('tier_diff_duo.csv', index=False)"
   ]
  },
  {
   "cell_type": "markdown",
   "id": "9c9c40c2",
   "metadata": {},
   "source": [
    "# Tier별 차이 검정"
   ]
  },
  {
   "cell_type": "markdown",
   "id": "3996d961",
   "metadata": {},
   "source": [
    "## Duo"
   ]
  },
  {
   "cell_type": "code",
   "execution_count": null,
   "id": "a961a6af",
   "metadata": {
    "ExecuteTime": {
     "end_time": "2021-08-02T01:08:06.504104Z",
     "start_time": "2021-08-02T01:08:06.270238Z"
    }
   },
   "outputs": [],
   "source": [
    "df.corr().style.background_gradient(cmap='Blues')"
   ]
  },
  {
   "cell_type": "code",
   "execution_count": null,
   "id": "31510c2a",
   "metadata": {
    "ExecuteTime": {
     "end_time": "2021-08-02T01:08:06.553012Z",
     "start_time": "2021-08-02T01:08:06.505810Z"
    },
    "scrolled": true
   },
   "outputs": [],
   "source": [
    "df.groupby('tier').mean()"
   ]
  },
  {
   "cell_type": "markdown",
   "id": "32dc5b9a",
   "metadata": {},
   "source": [
    "### player_kills\n",
    "* Tier와 평균 kill 횟수는 비례함"
   ]
  },
  {
   "cell_type": "code",
   "execution_count": null,
   "id": "5ce7e4bd",
   "metadata": {
    "ExecuteTime": {
     "end_time": "2021-08-02T01:08:09.683645Z",
     "start_time": "2021-08-02T01:08:09.667015Z"
    }
   },
   "outputs": [],
   "source": [
    "df.groupby('tier')['player_kills'].mean().to_frame()"
   ]
  },
  {
   "cell_type": "code",
   "execution_count": null,
   "id": "f2204352",
   "metadata": {
    "ExecuteTime": {
     "end_time": "2021-08-02T01:08:11.053546Z",
     "start_time": "2021-08-02T01:08:09.825168Z"
    }
   },
   "outputs": [],
   "source": [
    "plt.figure(figsize=(15, 5))\n",
    "sns.kdeplot(data=df, x='player_kills', hue='tier', multiple='stack')"
   ]
  },
  {
   "cell_type": "code",
   "execution_count": null,
   "id": "a2e1e373",
   "metadata": {
    "ExecuteTime": {
     "end_time": "2021-08-02T01:08:11.168428Z",
     "start_time": "2021-08-02T01:08:11.055272Z"
    }
   },
   "outputs": [],
   "source": [
    "tier1 = stats.anderson(df.loc[df['tier'] == 1, 'player_kills'], dist='norm')\n",
    "tier2 = stats.anderson(df.loc[df['tier'] == 2, 'player_kills'], dist='norm')\n",
    "tier3 = stats.anderson(df.loc[df['tier'] == 3, 'player_kills'], dist='norm')\n",
    "tier4 = stats.anderson(df.loc[df['tier'] == 4, 'player_kills'], dist='norm')\n",
    "tier5 = stats.anderson(df.loc[df['tier'] == 5, 'player_kills'], dist='norm')\n",
    "tier6 = stats.anderson(df.loc[df['tier'] == 6, 'player_kills'], dist='norm')\n",
    "\n",
    "print('tier1:', tier1[0] < tier1[1][2], '\\n' \n",
    "      'tier2:', tier2[0] < tier2[1][2], '\\n'\n",
    "      'tier3:', tier3[0] < tier3[1][2], '\\n'\n",
    "      'tier4:', tier4[0] < tier3[1][2], '\\n'\n",
    "      'tier5:', tier5[0] < tier3[1][2], '\\n'\n",
    "      'tier6:', tier6[0] < tier3[1][2], '\\n')"
   ]
  },
  {
   "cell_type": "code",
   "execution_count": null,
   "id": "41fd549f",
   "metadata": {
    "ExecuteTime": {
     "end_time": "2021-08-02T01:08:11.276716Z",
     "start_time": "2021-08-02T01:08:11.171262Z"
    }
   },
   "outputs": [],
   "source": [
    "stats.kruskal(df.loc[df['tier'] == 1, 'player_kills'],\n",
    "              df.loc[df['tier'] == 2, 'player_kills'],\n",
    "              df.loc[df['tier'] == 3, 'player_kills'],\n",
    "              df.loc[df['tier'] == 4, 'player_kills'],\n",
    "              df.loc[df['tier'] == 5, 'player_kills'],\n",
    "              df.loc[df['tier'] == 6, 'player_kills'])"
   ]
  },
  {
   "cell_type": "code",
   "execution_count": null,
   "id": "244f3ce0",
   "metadata": {
    "ExecuteTime": {
     "end_time": "2021-08-02T01:08:11.625610Z",
     "start_time": "2021-08-02T01:08:11.278614Z"
    }
   },
   "outputs": [],
   "source": [
    "sp.posthoc_conover(df, val_col ='player_kills', \n",
    "                     group_col ='tier', p_adjust = 'holm').style.background_gradient(cmap='Blues')"
   ]
  },
  {
   "cell_type": "markdown",
   "id": "b5dd5cd2",
   "metadata": {},
   "source": [
    "### player_dmg"
   ]
  },
  {
   "cell_type": "code",
   "execution_count": null,
   "id": "10aa4344",
   "metadata": {
    "ExecuteTime": {
     "end_time": "2021-08-02T01:08:11.644155Z",
     "start_time": "2021-08-02T01:08:11.627202Z"
    }
   },
   "outputs": [],
   "source": [
    "df.groupby('tier')['player_dmg'].mean().to_frame()"
   ]
  },
  {
   "cell_type": "code",
   "execution_count": null,
   "id": "42acf8da",
   "metadata": {
    "ExecuteTime": {
     "end_time": "2021-08-02T01:08:12.574291Z",
     "start_time": "2021-08-02T01:08:11.646004Z"
    }
   },
   "outputs": [],
   "source": [
    "plt.figure(figsize=(15,5))\n",
    "sns.violinplot(data=df, x='tier', y='player_dmg')"
   ]
  },
  {
   "cell_type": "code",
   "execution_count": null,
   "id": "ac6da3f9",
   "metadata": {
    "ExecuteTime": {
     "end_time": "2021-08-02T01:08:13.769736Z",
     "start_time": "2021-08-02T01:08:12.575800Z"
    }
   },
   "outputs": [],
   "source": [
    "plt.figure(figsize=(15, 5))\n",
    "sns.kdeplot(data=df, x='player_dmg', hue='tier', multiple='stack')"
   ]
  },
  {
   "cell_type": "code",
   "execution_count": null,
   "id": "3ee20655",
   "metadata": {
    "ExecuteTime": {
     "end_time": "2021-08-02T01:08:13.894241Z",
     "start_time": "2021-08-02T01:08:13.772759Z"
    }
   },
   "outputs": [],
   "source": [
    "tier1 = stats.anderson(df.loc[df['tier'] == 1, 'player_dmg'], dist='norm')\n",
    "tier2 = stats.anderson(df.loc[df['tier'] == 2, 'player_dmg'], dist='norm')\n",
    "tier3 = stats.anderson(df.loc[df['tier'] == 3, 'player_dmg'], dist='norm')\n",
    "tier4 = stats.anderson(df.loc[df['tier'] == 4, 'player_dmg'], dist='norm')\n",
    "tier5 = stats.anderson(df.loc[df['tier'] == 5, 'player_dmg'], dist='norm')\n",
    "tier6 = stats.anderson(df.loc[df['tier'] == 6, 'player_dmg'], dist='norm')\n",
    "\n",
    "print('tier1:', tier1[0] < tier1[1][2], '\\n' \n",
    "      'tier2:', tier2[0] < tier2[1][2], '\\n'\n",
    "      'tier3:', tier3[0] < tier3[1][2], '\\n'\n",
    "      'tier4:', tier4[0] < tier3[1][2], '\\n'\n",
    "      'tier5:', tier5[0] < tier3[1][2], '\\n'\n",
    "      'tier6:', tier6[0] < tier3[1][2], '\\n')"
   ]
  },
  {
   "cell_type": "code",
   "execution_count": null,
   "id": "2bd6ac28",
   "metadata": {
    "ExecuteTime": {
     "end_time": "2021-08-02T01:08:14.034167Z",
     "start_time": "2021-08-02T01:08:13.896642Z"
    }
   },
   "outputs": [],
   "source": [
    "stats.kruskal(df.loc[df['tier'] == 1, 'player_dmg'],\n",
    "              df.loc[df['tier'] == 2, 'player_dmg'],\n",
    "              df.loc[df['tier'] == 3, 'player_dmg'],\n",
    "              df.loc[df['tier'] == 4, 'player_dmg'],\n",
    "              df.loc[df['tier'] == 5, 'player_dmg'],\n",
    "              df.loc[df['tier'] == 6, 'player_dmg'])"
   ]
  },
  {
   "cell_type": "code",
   "execution_count": null,
   "id": "6f185261",
   "metadata": {
    "ExecuteTime": {
     "end_time": "2021-08-02T01:08:14.436240Z",
     "start_time": "2021-08-02T01:08:14.035584Z"
    }
   },
   "outputs": [],
   "source": [
    "sp.posthoc_conover(df, val_col ='player_dmg', \n",
    "                     group_col ='tier', p_adjust = 'holm').style.background_gradient(cmap='Blues')"
   ]
  },
  {
   "cell_type": "markdown",
   "id": "4d327158",
   "metadata": {},
   "source": [
    "### player_assists\n",
    "* Tier와 평균 assits 횟수는 비례함 "
   ]
  },
  {
   "cell_type": "code",
   "execution_count": null,
   "id": "2fb9fafc",
   "metadata": {
    "ExecuteTime": {
     "end_time": "2021-08-02T01:08:14.453573Z",
     "start_time": "2021-08-02T01:08:14.437689Z"
    }
   },
   "outputs": [],
   "source": [
    "df.groupby('tier')['player_assists'].mean().to_frame()"
   ]
  },
  {
   "cell_type": "code",
   "execution_count": null,
   "id": "d0c13047",
   "metadata": {
    "ExecuteTime": {
     "end_time": "2021-08-02T01:08:15.289686Z",
     "start_time": "2021-08-02T01:08:14.455200Z"
    }
   },
   "outputs": [],
   "source": [
    "plt.figure(figsize=(15,5))\n",
    "sns.violinplot(data=df, x='tier', y='player_assists')"
   ]
  },
  {
   "cell_type": "code",
   "execution_count": null,
   "id": "a31a1db9",
   "metadata": {
    "ExecuteTime": {
     "end_time": "2021-08-02T01:08:16.629630Z",
     "start_time": "2021-08-02T01:08:15.291131Z"
    }
   },
   "outputs": [],
   "source": [
    "plt.figure(figsize=(15, 5))\n",
    "sns.kdeplot(data=df, x='player_assists', hue='tier', multiple='stack')"
   ]
  },
  {
   "cell_type": "code",
   "execution_count": null,
   "id": "0422ef64",
   "metadata": {
    "ExecuteTime": {
     "end_time": "2021-08-02T01:08:16.739498Z",
     "start_time": "2021-08-02T01:08:16.631186Z"
    }
   },
   "outputs": [],
   "source": [
    "tier1 = stats.anderson(df.loc[df['tier'] == 1, 'player_assists'], dist='norm')\n",
    "tier2 = stats.anderson(df.loc[df['tier'] == 2, 'player_assists'], dist='norm')\n",
    "tier3 = stats.anderson(df.loc[df['tier'] == 3, 'player_assists'], dist='norm')\n",
    "tier4 = stats.anderson(df.loc[df['tier'] == 4, 'player_assists'], dist='norm')\n",
    "tier5 = stats.anderson(df.loc[df['tier'] == 5, 'player_assists'], dist='norm')\n",
    "tier6 = stats.anderson(df.loc[df['tier'] == 6, 'player_assists'], dist='norm')\n",
    "\n",
    "print('tier1:', tier1[0] < tier1[1][2], '\\n' \n",
    "      'tier2:', tier2[0] < tier2[1][2], '\\n'\n",
    "      'tier3:', tier3[0] < tier3[1][2], '\\n'\n",
    "      'tier4:', tier4[0] < tier3[1][2], '\\n'\n",
    "      'tier5:', tier5[0] < tier3[1][2], '\\n'\n",
    "      'tier6:', tier6[0] < tier3[1][2], '\\n')"
   ]
  },
  {
   "cell_type": "code",
   "execution_count": null,
   "id": "7aac378c",
   "metadata": {
    "ExecuteTime": {
     "end_time": "2021-08-02T01:08:16.840545Z",
     "start_time": "2021-08-02T01:08:16.741211Z"
    }
   },
   "outputs": [],
   "source": [
    "stats.kruskal(df.loc[df['tier'] == 1, 'player_assists'],\n",
    "              df.loc[df['tier'] == 2, 'player_assists'],\n",
    "              df.loc[df['tier'] == 3, 'player_assists'],\n",
    "              df.loc[df['tier'] == 4, 'player_assists'],\n",
    "              df.loc[df['tier'] == 5, 'player_assists'],\n",
    "              df.loc[df['tier'] == 6, 'player_assists'])"
   ]
  },
  {
   "cell_type": "code",
   "execution_count": null,
   "id": "8fdaa0d6",
   "metadata": {
    "ExecuteTime": {
     "end_time": "2021-08-02T01:08:17.147650Z",
     "start_time": "2021-08-02T01:08:16.842085Z"
    }
   },
   "outputs": [],
   "source": [
    "sp.posthoc_conover(df, val_col ='player_assists', \n",
    "                     group_col ='tier', p_adjust = 'holm').style.background_gradient(cmap='Blues')"
   ]
  },
  {
   "cell_type": "markdown",
   "id": "339e7772",
   "metadata": {},
   "source": [
    "### player_dbno\n",
    "* Tier와 평균 dbno 횟수는 비례함 "
   ]
  },
  {
   "cell_type": "code",
   "execution_count": null,
   "id": "cf80f382",
   "metadata": {
    "ExecuteTime": {
     "end_time": "2021-08-02T01:08:17.164208Z",
     "start_time": "2021-08-02T01:08:17.149036Z"
    }
   },
   "outputs": [],
   "source": [
    "df.groupby('tier')['player_dbno'].mean().to_frame()"
   ]
  },
  {
   "cell_type": "code",
   "execution_count": null,
   "id": "045c6ae3",
   "metadata": {
    "ExecuteTime": {
     "end_time": "2021-08-02T01:08:18.381317Z",
     "start_time": "2021-08-02T01:08:17.165612Z"
    }
   },
   "outputs": [],
   "source": [
    "plt.figure(figsize=(15, 5))\n",
    "sns.kdeplot(data=df, x='player_dbno', hue='tier', multiple='stack')"
   ]
  },
  {
   "cell_type": "code",
   "execution_count": null,
   "id": "5b922fee",
   "metadata": {
    "ExecuteTime": {
     "end_time": "2021-08-02T01:08:18.492471Z",
     "start_time": "2021-08-02T01:08:18.385047Z"
    }
   },
   "outputs": [],
   "source": [
    "tier1 = stats.anderson(df.loc[df['tier'] == 1, 'player_dbno'], dist='norm')\n",
    "tier2 = stats.anderson(df.loc[df['tier'] == 2, 'player_dbno'], dist='norm')\n",
    "tier3 = stats.anderson(df.loc[df['tier'] == 3, 'player_dbno'], dist='norm')\n",
    "tier4 = stats.anderson(df.loc[df['tier'] == 4, 'player_dbno'], dist='norm')\n",
    "tier5 = stats.anderson(df.loc[df['tier'] == 5, 'player_dbno'], dist='norm')\n",
    "tier6 = stats.anderson(df.loc[df['tier'] == 6, 'player_dbno'], dist='norm')\n",
    "\n",
    "print('tier1:', tier1[0] < tier1[1][2], '\\n' \n",
    "      'tier2:', tier2[0] < tier2[1][2], '\\n'\n",
    "      'tier3:', tier3[0] < tier3[1][2], '\\n'\n",
    "      'tier4:', tier4[0] < tier3[1][2], '\\n'\n",
    "      'tier5:', tier5[0] < tier3[1][2], '\\n'\n",
    "      'tier6:', tier6[0] < tier3[1][2], '\\n')"
   ]
  },
  {
   "cell_type": "code",
   "execution_count": null,
   "id": "039fbb33",
   "metadata": {
    "ExecuteTime": {
     "end_time": "2021-08-02T01:08:18.600040Z",
     "start_time": "2021-08-02T01:08:18.495043Z"
    }
   },
   "outputs": [],
   "source": [
    "stats.kruskal(df.loc[df['tier'] == 1, 'player_dbno'],\n",
    "              df.loc[df['tier'] == 2, 'player_dbno'],\n",
    "              df.loc[df['tier'] == 3, 'player_dbno'],\n",
    "              df.loc[df['tier'] == 4, 'player_dbno'],\n",
    "              df.loc[df['tier'] == 5, 'player_dbno'],\n",
    "              df.loc[df['tier'] == 6, 'player_dbno'])"
   ]
  },
  {
   "cell_type": "code",
   "execution_count": null,
   "id": "e81e3ea0",
   "metadata": {
    "ExecuteTime": {
     "end_time": "2021-08-02T01:08:18.909297Z",
     "start_time": "2021-08-02T01:08:18.601624Z"
    }
   },
   "outputs": [],
   "source": [
    "sp.posthoc_conover(df, val_col ='player_dbno', \n",
    "                     group_col ='tier', p_adjust = 'holm').style.background_gradient(cmap='Blues')"
   ]
  },
  {
   "cell_type": "markdown",
   "id": "935168dc",
   "metadata": {},
   "source": [
    "### kda\n",
    "* Tier와 평균 kda는 비례함"
   ]
  },
  {
   "cell_type": "code",
   "execution_count": null,
   "id": "48019f83",
   "metadata": {
    "ExecuteTime": {
     "end_time": "2021-08-02T01:08:18.926107Z",
     "start_time": "2021-08-02T01:08:18.910787Z"
    }
   },
   "outputs": [],
   "source": [
    "df.groupby('tier')['kda'].mean().to_frame()"
   ]
  },
  {
   "cell_type": "code",
   "execution_count": null,
   "id": "531f2402",
   "metadata": {
    "ExecuteTime": {
     "end_time": "2021-08-02T01:08:19.716531Z",
     "start_time": "2021-08-02T01:08:18.927528Z"
    }
   },
   "outputs": [],
   "source": [
    "plt.figure(figsize=(15,5))\n",
    "sns.violinplot(data=df, x='tier', y='kda')"
   ]
  },
  {
   "cell_type": "code",
   "execution_count": null,
   "id": "1147783e",
   "metadata": {
    "ExecuteTime": {
     "end_time": "2021-08-02T01:08:20.689970Z",
     "start_time": "2021-08-02T01:08:19.717992Z"
    }
   },
   "outputs": [],
   "source": [
    "plt.figure(figsize=(15, 5))\n",
    "sns.kdeplot(data=df, x='kda', hue='tier', multiple='stack')"
   ]
  },
  {
   "cell_type": "code",
   "execution_count": null,
   "id": "b0dcfb9b",
   "metadata": {
    "ExecuteTime": {
     "end_time": "2021-08-02T01:08:20.803549Z",
     "start_time": "2021-08-02T01:08:20.691634Z"
    }
   },
   "outputs": [],
   "source": [
    "tier1 = stats.anderson(df.loc[df['tier'] == 1, 'kda'], dist='norm')\n",
    "tier2 = stats.anderson(df.loc[df['tier'] == 2, 'kda'], dist='norm')\n",
    "tier3 = stats.anderson(df.loc[df['tier'] == 3, 'kda'], dist='norm')\n",
    "tier4 = stats.anderson(df.loc[df['tier'] == 4, 'kda'], dist='norm')\n",
    "tier5 = stats.anderson(df.loc[df['tier'] == 5, 'kda'], dist='norm')\n",
    "tier6 = stats.anderson(df.loc[df['tier'] == 6, 'kda'], dist='norm')\n",
    "\n",
    "print('tier1:', tier1[0] < tier1[1][2], '\\n' \n",
    "      'tier2:', tier2[0] < tier2[1][2], '\\n'\n",
    "      'tier3:', tier3[0] < tier3[1][2], '\\n'\n",
    "      'tier4:', tier4[0] < tier3[1][2], '\\n'\n",
    "      'tier5:', tier5[0] < tier3[1][2], '\\n'\n",
    "      'tier6:', tier6[0] < tier3[1][2], '\\n')"
   ]
  },
  {
   "cell_type": "code",
   "execution_count": null,
   "id": "b90fdda2",
   "metadata": {
    "ExecuteTime": {
     "end_time": "2021-08-02T01:08:20.911412Z",
     "start_time": "2021-08-02T01:08:20.805156Z"
    }
   },
   "outputs": [],
   "source": [
    "stats.kruskal(df.loc[df['tier'] == 1, 'kda'],\n",
    "              df.loc[df['tier'] == 2, 'kda'],\n",
    "              df.loc[df['tier'] == 3, 'kda'],\n",
    "              df.loc[df['tier'] == 4, 'kda'],\n",
    "              df.loc[df['tier'] == 5, 'kda'],\n",
    "              df.loc[df['tier'] == 6, 'kda'])"
   ]
  },
  {
   "cell_type": "code",
   "execution_count": null,
   "id": "cfad47c1",
   "metadata": {
    "ExecuteTime": {
     "end_time": "2021-08-02T01:08:21.228559Z",
     "start_time": "2021-08-02T01:08:20.912891Z"
    }
   },
   "outputs": [],
   "source": [
    "sp.posthoc_conover(df, val_col ='kda', \n",
    "                     group_col ='tier', p_adjust = 'holm').style.background_gradient(cmap='Blues')"
   ]
  },
  {
   "cell_type": "markdown",
   "id": "5e34c6c7",
   "metadata": {},
   "source": [
    "### player_dist_walk\n",
    "* Tier 1~3 에서 평균 거리가 증가\n",
    "* Tier 3~6 에서는 거리가 감소\n",
    "* Tier 2와 5는 평균의 차이가 없음"
   ]
  },
  {
   "cell_type": "code",
   "execution_count": null,
   "id": "f0d9cb67",
   "metadata": {
    "ExecuteTime": {
     "end_time": "2021-08-02T01:08:21.246114Z",
     "start_time": "2021-08-02T01:08:21.229998Z"
    }
   },
   "outputs": [],
   "source": [
    "df.groupby('tier')['player_dist_walk'].mean().to_frame()"
   ]
  },
  {
   "cell_type": "code",
   "execution_count": null,
   "id": "49f834da",
   "metadata": {
    "ExecuteTime": {
     "end_time": "2021-08-02T01:08:22.168999Z",
     "start_time": "2021-08-02T01:08:21.247554Z"
    }
   },
   "outputs": [],
   "source": [
    "plt.figure(figsize=(15,5))\n",
    "sns.violinplot(data=df, x='tier', y='player_dist_walk')"
   ]
  },
  {
   "cell_type": "code",
   "execution_count": null,
   "id": "c6f90f68",
   "metadata": {
    "ExecuteTime": {
     "end_time": "2021-08-02T01:08:23.705227Z",
     "start_time": "2021-08-02T01:08:22.170521Z"
    }
   },
   "outputs": [],
   "source": [
    "plt.figure(figsize=(15, 5))\n",
    "sns.kdeplot(data=df, x='player_dist_walk', hue='tier', multiple='stack')"
   ]
  },
  {
   "cell_type": "code",
   "execution_count": null,
   "id": "8fc3f22a",
   "metadata": {
    "ExecuteTime": {
     "end_time": "2021-08-02T01:08:23.831326Z",
     "start_time": "2021-08-02T01:08:23.706715Z"
    }
   },
   "outputs": [],
   "source": [
    "tier1 = stats.anderson(df.loc[df['tier'] == 1, 'player_dist_walk'], dist='norm')\n",
    "tier2 = stats.anderson(df.loc[df['tier'] == 2, 'player_dist_walk'], dist='norm')\n",
    "tier3 = stats.anderson(df.loc[df['tier'] == 3, 'player_dist_walk'], dist='norm')\n",
    "tier4 = stats.anderson(df.loc[df['tier'] == 4, 'player_dist_walk'], dist='norm')\n",
    "tier5 = stats.anderson(df.loc[df['tier'] == 5, 'player_dist_walk'], dist='norm')\n",
    "tier6 = stats.anderson(df.loc[df['tier'] == 6, 'player_dist_walk'], dist='norm')\n",
    "\n",
    "print('tier1:', tier1[0] < tier1[1][2], '\\n' \n",
    "      'tier2:', tier2[0] < tier2[1][2], '\\n'\n",
    "      'tier3:', tier3[0] < tier3[1][2], '\\n'\n",
    "      'tier4:', tier4[0] < tier3[1][2], '\\n'\n",
    "      'tier5:', tier5[0] < tier3[1][2], '\\n'\n",
    "      'tier6:', tier6[0] < tier3[1][2], '\\n')"
   ]
  },
  {
   "cell_type": "code",
   "execution_count": null,
   "id": "08095428",
   "metadata": {
    "ExecuteTime": {
     "end_time": "2021-08-02T01:08:23.980985Z",
     "start_time": "2021-08-02T01:08:23.833253Z"
    }
   },
   "outputs": [],
   "source": [
    "stats.kruskal(df.loc[df['tier'] == 1, 'player_dist_walk'],\n",
    "              df.loc[df['tier'] == 2, 'player_dist_walk'],\n",
    "              df.loc[df['tier'] == 3, 'player_dist_walk'],\n",
    "              df.loc[df['tier'] == 4, 'player_dist_walk'],\n",
    "              df.loc[df['tier'] == 5, 'player_dist_walk'],\n",
    "              df.loc[df['tier'] == 6, 'player_dist_walk'])"
   ]
  },
  {
   "cell_type": "code",
   "execution_count": null,
   "id": "e26255ba",
   "metadata": {
    "ExecuteTime": {
     "end_time": "2021-08-02T01:08:24.288952Z",
     "start_time": "2021-08-02T01:08:23.982516Z"
    }
   },
   "outputs": [],
   "source": [
    "sp.posthoc_conover(df, val_col ='player_kills', \n",
    "                     group_col ='tier', p_adjust = 'holm').style.background_gradient(cmap='Blues')"
   ]
  },
  {
   "cell_type": "markdown",
   "id": "9f3d6299",
   "metadata": {},
   "source": [
    "### player_dist_ride\n",
    "* Tier 1에서는 확실히 탈것을 활용한 이동 거리가 짧음\n",
    "* Tier 2부터는 그룹간의 차이가 있긴하는하지만, tier와 탈것을 활용한 이동 거리가 정비례 하지는 않음"
   ]
  },
  {
   "cell_type": "code",
   "execution_count": null,
   "id": "913e8e7a",
   "metadata": {
    "ExecuteTime": {
     "end_time": "2021-08-02T01:08:24.307566Z",
     "start_time": "2021-08-02T01:08:24.290459Z"
    }
   },
   "outputs": [],
   "source": [
    "df.groupby('tier')['player_dist_ride'].mean().to_frame()"
   ]
  },
  {
   "cell_type": "code",
   "execution_count": null,
   "id": "00cff84d",
   "metadata": {
    "ExecuteTime": {
     "end_time": "2021-08-02T01:08:25.153301Z",
     "start_time": "2021-08-02T01:08:24.310776Z"
    }
   },
   "outputs": [],
   "source": [
    "plt.figure(figsize=(15,5))\n",
    "sns.violinplot(data=df, x='tier', y='player_dist_ride')"
   ]
  },
  {
   "cell_type": "code",
   "execution_count": null,
   "id": "5e81dfa2",
   "metadata": {
    "ExecuteTime": {
     "end_time": "2021-08-02T01:08:26.439996Z",
     "start_time": "2021-08-02T01:08:25.155037Z"
    }
   },
   "outputs": [],
   "source": [
    "plt.figure(figsize=(15, 5))\n",
    "sns.kdeplot(data=df, x='player_dist_ride', hue='tier', multiple='stack')"
   ]
  },
  {
   "cell_type": "code",
   "execution_count": null,
   "id": "3c9f90cb",
   "metadata": {
    "ExecuteTime": {
     "end_time": "2021-08-02T01:08:26.561133Z",
     "start_time": "2021-08-02T01:08:26.441397Z"
    }
   },
   "outputs": [],
   "source": [
    "tier1 = stats.anderson(df.loc[df['tier'] == 1, 'player_dist_ride'], dist='norm')\n",
    "tier2 = stats.anderson(df.loc[df['tier'] == 2, 'player_dist_ride'], dist='norm')\n",
    "tier3 = stats.anderson(df.loc[df['tier'] == 3, 'player_dist_ride'], dist='norm')\n",
    "tier4 = stats.anderson(df.loc[df['tier'] == 4, 'player_dist_ride'], dist='norm')\n",
    "tier5 = stats.anderson(df.loc[df['tier'] == 5, 'player_dist_ride'], dist='norm')\n",
    "tier6 = stats.anderson(df.loc[df['tier'] == 6, 'player_dist_ride'], dist='norm')\n",
    "\n",
    "print('tier1:', tier1[0] < tier1[1][2], '\\n' \n",
    "      'tier2:', tier2[0] < tier2[1][2], '\\n'\n",
    "      'tier3:', tier3[0] < tier3[1][2], '\\n'\n",
    "      'tier4:', tier4[0] < tier3[1][2], '\\n'\n",
    "      'tier5:', tier5[0] < tier3[1][2], '\\n'\n",
    "      'tier6:', tier6[0] < tier3[1][2], '\\n')"
   ]
  },
  {
   "cell_type": "code",
   "execution_count": null,
   "id": "0733b840",
   "metadata": {
    "ExecuteTime": {
     "end_time": "2021-08-02T01:08:26.713802Z",
     "start_time": "2021-08-02T01:08:26.562765Z"
    }
   },
   "outputs": [],
   "source": [
    "stats.kruskal(df.loc[df['tier'] == 1, 'player_dist_ride'],\n",
    "              df.loc[df['tier'] == 2, 'player_dist_ride'],\n",
    "              df.loc[df['tier'] == 3, 'player_dist_ride'],\n",
    "              df.loc[df['tier'] == 4, 'player_dist_ride'],\n",
    "              df.loc[df['tier'] == 5, 'player_dist_ride'],\n",
    "              df.loc[df['tier'] == 6, 'player_dist_ride'])"
   ]
  },
  {
   "cell_type": "code",
   "execution_count": null,
   "id": "ab9a0697",
   "metadata": {
    "ExecuteTime": {
     "end_time": "2021-08-02T01:08:27.435322Z",
     "start_time": "2021-08-02T01:08:26.715340Z"
    }
   },
   "outputs": [],
   "source": [
    "sp.posthoc_conover(df, val_col ='player_dist_ride', \n",
    "                     group_col ='tier', p_adjust = 'holm').style.background_gradient(cmap='Blues')"
   ]
  },
  {
   "cell_type": "markdown",
   "id": "cdad7813",
   "metadata": {},
   "source": [
    "### kill_dist\n",
    "* Tier가 높다고 kill_dist가 비례하여 커지는건 아니지만, 1~2/3~6은 구분되는 것처럼 보임"
   ]
  },
  {
   "cell_type": "code",
   "execution_count": null,
   "id": "35989df1",
   "metadata": {
    "ExecuteTime": {
     "end_time": "2021-08-02T02:55:37.591997Z",
     "start_time": "2021-08-02T02:55:37.567650Z"
    }
   },
   "outputs": [],
   "source": [
    "df.groupby('tier')['kill_dist'].median().to_frame()"
   ]
  },
  {
   "cell_type": "code",
   "execution_count": null,
   "id": "82adb9ce",
   "metadata": {
    "ExecuteTime": {
     "end_time": "2021-08-02T01:17:31.853311Z",
     "start_time": "2021-08-02T01:17:31.121253Z"
    }
   },
   "outputs": [],
   "source": [
    "plt.figure(figsize=(15,5))\n",
    "sns.violinplot(data=df, x='tier', y='kill_dist')\n",
    "plt.xticks(np.arange(6), ['Bronze', 'Silver', 'Gold', 'Platinum', 'Diamond', 'Master'])"
   ]
  },
  {
   "cell_type": "code",
   "execution_count": null,
   "id": "96cefb5d",
   "metadata": {
    "ExecuteTime": {
     "end_time": "2021-08-02T01:18:25.490565Z",
     "start_time": "2021-08-02T01:18:24.297835Z"
    }
   },
   "outputs": [],
   "source": [
    "plt.figure(figsize=(15, 5))\n",
    "sns.kdeplot(data=df, x='kill_dist', hue='tier', multiple='stack')"
   ]
  },
  {
   "cell_type": "code",
   "execution_count": null,
   "id": "abd79618",
   "metadata": {
    "ExecuteTime": {
     "end_time": "2021-08-02T01:18:16.486178Z",
     "start_time": "2021-08-02T01:18:16.368461Z"
    }
   },
   "outputs": [],
   "source": [
    "tier1 = stats.anderson(df.loc[df['tier'] == 1, 'kill_dist'], dist='norm')\n",
    "tier2 = stats.anderson(df.loc[df['tier'] == 2, 'kill_dist'], dist='norm')\n",
    "tier3 = stats.anderson(df.loc[df['tier'] == 3, 'kill_dist'], dist='norm')\n",
    "tier4 = stats.anderson(df.loc[df['tier'] == 4, 'kill_dist'], dist='norm')\n",
    "tier5 = stats.anderson(df.loc[df['tier'] == 5, 'kill_dist'], dist='norm')\n",
    "tier6 = stats.anderson(df.loc[df['tier'] == 6, 'kill_dist'], dist='norm')\n",
    "\n",
    "print('tier1:', tier1[0] < tier1[1][2], '\\n' \n",
    "      'tier2:', tier2[0] < tier2[1][2], '\\n'\n",
    "      'tier3:', tier3[0] < tier3[1][2], '\\n'\n",
    "      'tier4:', tier4[0] < tier3[1][2], '\\n'\n",
    "      'tier5:', tier5[0] < tier3[1][2], '\\n'\n",
    "      'tier6:', tier6[0] < tier3[1][2], '\\n')"
   ]
  },
  {
   "cell_type": "code",
   "execution_count": null,
   "id": "d1eb5385",
   "metadata": {
    "ExecuteTime": {
     "end_time": "2021-08-02T01:18:17.984992Z",
     "start_time": "2021-08-02T01:18:17.842631Z"
    }
   },
   "outputs": [],
   "source": [
    "stats.kruskal(df.loc[df['tier'] == 1, 'kill_dist'].fillna(0),\n",
    "               df.loc[df['tier'] == 2, 'kill_dist'].fillna(0),\n",
    "               df.loc[df['tier'] == 3, 'kill_dist'].fillna(0),\n",
    "               df.loc[df['tier'] == 4, 'kill_dist'].fillna(0),\n",
    "               df.loc[df['tier'] == 5, 'kill_dist'].fillna(0),\n",
    "               df.loc[df['tier'] == 6, 'kill_dist'].fillna(0))"
   ]
  },
  {
   "cell_type": "code",
   "execution_count": null,
   "id": "c50697ef",
   "metadata": {
    "ExecuteTime": {
     "end_time": "2021-08-02T01:18:24.296132Z",
     "start_time": "2021-08-02T01:18:18.787465Z"
    }
   },
   "outputs": [],
   "source": [
    "sp.posthoc_conover(df, val_col ='kill_dist', \n",
    "                     group_col ='tier', p_adjust = 'holm').style.background_gradient(cmap='Blues')\n"
   ]
  },
  {
   "cell_type": "markdown",
   "id": "8e51e398",
   "metadata": {},
   "source": [
    "### player_survive_time\n",
    "* 확실히 높은 티어일수록 1500초 이상 살아있는 경우가 많음"
   ]
  },
  {
   "cell_type": "code",
   "execution_count": null,
   "id": "ac9feea4",
   "metadata": {
    "ExecuteTime": {
     "end_time": "2021-07-31T08:36:20.101620Z",
     "start_time": "2021-07-31T08:36:19.973915Z"
    }
   },
   "outputs": [],
   "source": [
    "df.groupby('tier')['player_survive_time'].mean().to_frame()"
   ]
  },
  {
   "cell_type": "code",
   "execution_count": null,
   "id": "e5c169a6",
   "metadata": {
    "ExecuteTime": {
     "end_time": "2021-07-31T08:37:04.392548Z",
     "start_time": "2021-07-31T08:36:48.889650Z"
    }
   },
   "outputs": [],
   "source": [
    "plt.figure(figsize=(15,5))\n",
    "sns.violinplot(data=df, x='tier', y='player_survive_time')"
   ]
  },
  {
   "cell_type": "code",
   "execution_count": null,
   "id": "114e680b",
   "metadata": {
    "ExecuteTime": {
     "end_time": "2021-07-31T08:38:08.779168Z",
     "start_time": "2021-07-31T08:37:24.922557Z"
    }
   },
   "outputs": [],
   "source": [
    "plt.figure(figsize=(15, 5))\n",
    "sns.kdeplot(data=df, x='player_survive_time', hue='tier', multiple='stack')"
   ]
  },
  {
   "cell_type": "code",
   "execution_count": null,
   "id": "40a35d47",
   "metadata": {},
   "outputs": [],
   "source": [
    "tier1 = stats.anderson(df.loc[df['tier'] == 1, 'player_survive_time'], dist='norm')\n",
    "tier2 = stats.anderson(df.loc[df['tier'] == 2, 'player_survive_time'], dist='norm')\n",
    "tier3 = stats.anderson(df.loc[df['tier'] == 3, 'player_survive_time'], dist='norm')\n",
    "tier4 = stats.anderson(df.loc[df['tier'] == 4, 'player_survive_time'], dist='norm')\n",
    "tier5 = stats.anderson(df.loc[df['tier'] == 5, 'player_survive_time'], dist='norm')\n",
    "tier6 = stats.anderson(df.loc[df['tier'] == 6, 'player_survive_time'], dist='norm')\n",
    "\n",
    "print('tier1:', tier1[0] < tier1[1][2], '\\n' \n",
    "      'tier2:', tier2[0] < tier2[1][2], '\\n'\n",
    "      'tier3:', tier3[0] < tier3[1][2], '\\n'\n",
    "      'tier4:', tier4[0] < tier3[1][2], '\\n'\n",
    "      'tier5:', tier5[0] < tier3[1][2], '\\n'\n",
    "      'tier6:', tier6[0] < tier3[1][2], '\\n')"
   ]
  },
  {
   "cell_type": "code",
   "execution_count": null,
   "id": "b07d40c2",
   "metadata": {},
   "outputs": [],
   "source": [
    "stats.kruskal(df.loc[df['tier'] == 1, 'player_survive_time'],\n",
    "              df.loc[df['tier'] == 2, 'player_survive_time'],\n",
    "              df.loc[df['tier'] == 3, 'player_survive_time'],\n",
    "              df.loc[df['tier'] == 4, 'player_survive_time'],\n",
    "              df.loc[df['tier'] == 5, 'player_survive_time'],\n",
    "              df.loc[df['tier'] == 6, 'player_survive_time'])"
   ]
  },
  {
   "cell_type": "code",
   "execution_count": null,
   "id": "4d1c7934",
   "metadata": {
    "ExecuteTime": {
     "end_time": "2021-07-31T08:38:40.706786Z",
     "start_time": "2021-07-31T08:38:08.780873Z"
    }
   },
   "outputs": [],
   "source": [
    "sp.posthoc_conover(df, val_col ='player_kills', \n",
    "                     group_col ='tier', p_adjust = 'holm').style.background_gradient(cmap='Blues')"
   ]
  },
  {
   "cell_type": "markdown",
   "id": "e7c15801",
   "metadata": {},
   "source": [
    "### team_placement\n",
    "* Tier 1은 확실히 낮은 등수를 기록하는 경우가 많음"
   ]
  },
  {
   "cell_type": "code",
   "execution_count": null,
   "id": "ad820876",
   "metadata": {
    "ExecuteTime": {
     "end_time": "2021-07-31T08:38:45.820740Z",
     "start_time": "2021-07-31T08:38:45.658187Z"
    }
   },
   "outputs": [],
   "source": [
    "df.groupby('tier')['team_placement'].mean().to_frame()"
   ]
  },
  {
   "cell_type": "code",
   "execution_count": null,
   "id": "2d5552be",
   "metadata": {
    "ExecuteTime": {
     "end_time": "2021-07-31T08:39:02.990998Z",
     "start_time": "2021-07-31T08:38:48.695652Z"
    }
   },
   "outputs": [],
   "source": [
    "plt.figure(figsize=(15,5))\n",
    "sns.violinplot(data=df, x='tier', y='team_placement')"
   ]
  },
  {
   "cell_type": "code",
   "execution_count": null,
   "id": "360b4189",
   "metadata": {},
   "outputs": [],
   "source": [
    "tier1 = stats.anderson(df.loc[df['tier'] == 1, 'team_placement'], dist='norm')\n",
    "tier2 = stats.anderson(df.loc[df['tier'] == 2, 'team_placement'], dist='norm')\n",
    "tier3 = stats.anderson(df.loc[df['tier'] == 3, 'team_placement'], dist='norm')\n",
    "tier4 = stats.anderson(df.loc[df['tier'] == 4, 'team_placement'], dist='norm')\n",
    "tier5 = stats.anderson(df.loc[df['tier'] == 5, 'team_placement'], dist='norm')\n",
    "tier6 = stats.anderson(df.loc[df['tier'] == 6, 'team_placement'], dist='norm')\n",
    "\n",
    "print('tier1:', tier1[0] < tier1[1][2], '\\n' \n",
    "      'tier2:', tier2[0] < tier2[1][2], '\\n'\n",
    "      'tier3:', tier3[0] < tier3[1][2], '\\n'\n",
    "      'tier4:', tier4[0] < tier3[1][2], '\\n'\n",
    "      'tier5:', tier5[0] < tier3[1][2], '\\n'\n",
    "      'tier6:', tier6[0] < tier3[1][2], '\\n')"
   ]
  },
  {
   "cell_type": "code",
   "execution_count": null,
   "id": "8c061cd0",
   "metadata": {},
   "outputs": [],
   "source": [
    "stats.kruskal(df.loc[df['tier'] == 1, 'team_placement'],\n",
    "              df.loc[df['tier'] == 2, 'team_placement'],\n",
    "              df.loc[df['tier'] == 3, 'team_placement'],\n",
    "              df.loc[df['tier'] == 4, 'team_placement'],\n",
    "              df.loc[df['tier'] == 5, 'team_placement'],\n",
    "              df.loc[df['tier'] == 6, 'team_placement'])"
   ]
  },
  {
   "cell_type": "code",
   "execution_count": null,
   "id": "d1ce329f",
   "metadata": {},
   "outputs": [],
   "source": [
    "sp.posthoc_conover(df, val_col ='team_placement', \n",
    "                     group_col ='tier', p_adjust = 'holm').style.background_gradient(cmap='Blues')"
   ]
  },
  {
   "cell_type": "code",
   "execution_count": null,
   "id": "08498e20",
   "metadata": {
    "ExecuteTime": {
     "end_time": "2021-08-02T02:07:06.069228Z",
     "start_time": "2021-08-02T02:06:18.648524Z"
    }
   },
   "outputs": [],
   "source": [
    "df_tier = pd.read_csv('../dataset/duo/duo_tier.csv')"
   ]
  },
  {
   "cell_type": "code",
   "execution_count": null,
   "id": "0cf15ef5",
   "metadata": {
    "ExecuteTime": {
     "end_time": "2021-08-02T02:07:06.072904Z",
     "start_time": "2021-08-02T02:07:06.071037Z"
    }
   },
   "outputs": [],
   "source": [
    "del df_count"
   ]
  },
  {
   "cell_type": "code",
   "execution_count": null,
   "id": "42fac76f",
   "metadata": {
    "ExecuteTime": {
     "end_time": "2021-08-02T02:07:12.370932Z",
     "start_time": "2021-08-02T02:07:12.367648Z"
    }
   },
   "outputs": [],
   "source": [
    "df_tier.columns"
   ]
  },
  {
   "cell_type": "markdown",
   "id": "1cd83d2c",
   "metadata": {},
   "source": [
    "### num_of_match"
   ]
  },
  {
   "cell_type": "code",
   "execution_count": null,
   "id": "016a5438",
   "metadata": {
    "ExecuteTime": {
     "end_time": "2021-08-02T02:37:06.793113Z",
     "start_time": "2021-08-02T02:37:06.760913Z"
    }
   },
   "outputs": [],
   "source": [
    "df.groupby('tier')['num_of_match'].mean().to_frame()"
   ]
  },
  {
   "cell_type": "code",
   "execution_count": null,
   "id": "121bd74c",
   "metadata": {
    "ExecuteTime": {
     "end_time": "2021-08-02T02:37:45.234983Z",
     "start_time": "2021-08-02T02:37:44.413343Z"
    }
   },
   "outputs": [],
   "source": [
    "plt.figure(figsize=(15,5))\n",
    "sns.violinplot(data=df, x='tier', y='num_of_match')"
   ]
  },
  {
   "cell_type": "code",
   "execution_count": null,
   "id": "ad67d11e",
   "metadata": {
    "ExecuteTime": {
     "end_time": "2021-08-02T02:39:00.620557Z",
     "start_time": "2021-08-02T02:39:00.507037Z"
    }
   },
   "outputs": [],
   "source": [
    "tier1 = stats.anderson(df.loc[df['tier'] == 1, 'num_of_match'], dist='norm')\n",
    "tier2 = stats.anderson(df.loc[df['tier'] == 2, 'num_of_match'], dist='norm')\n",
    "tier3 = stats.anderson(df.loc[df['tier'] == 3, 'num_of_match'], dist='norm')\n",
    "tier4 = stats.anderson(df.loc[df['tier'] == 4, 'num_of_match'], dist='norm')\n",
    "tier5 = stats.anderson(df.loc[df['tier'] == 5, 'num_of_match'], dist='norm')\n",
    "tier6 = stats.anderson(df.loc[df['tier'] == 6, 'num_of_match'], dist='norm')\n",
    "\n",
    "print('tier1:', tier1[0] < tier1[1][2], '\\n' \n",
    "      'tier2:', tier2[0] < tier2[1][2], '\\n'\n",
    "      'tier3:', tier3[0] < tier3[1][2], '\\n'\n",
    "      'tier4:', tier4[0] < tier3[1][2], '\\n'\n",
    "      'tier5:', tier5[0] < tier3[1][2], '\\n'\n",
    "      'tier6:', tier6[0] < tier3[1][2], '\\n')"
   ]
  },
  {
   "cell_type": "code",
   "execution_count": null,
   "id": "ea7c5237",
   "metadata": {
    "ExecuteTime": {
     "end_time": "2021-08-02T02:39:22.204125Z",
     "start_time": "2021-08-02T02:39:22.117330Z"
    }
   },
   "outputs": [],
   "source": [
    "stats.kruskal(df.loc[df['tier'] == 1, 'num_of_match'],\n",
    "              df.loc[df['tier'] == 2, 'num_of_match'],\n",
    "              df.loc[df['tier'] == 3, 'num_of_match'],\n",
    "              df.loc[df['tier'] == 4, 'num_of_match'],\n",
    "              df.loc[df['tier'] == 5, 'num_of_match'],\n",
    "              df.loc[df['tier'] == 6, 'num_of_match'])"
   ]
  },
  {
   "cell_type": "code",
   "execution_count": null,
   "id": "a3ace30d",
   "metadata": {
    "ExecuteTime": {
     "end_time": "2021-08-02T02:39:41.265198Z",
     "start_time": "2021-08-02T02:39:40.802712Z"
    }
   },
   "outputs": [],
   "source": [
    "sp.posthoc_conover(df, val_col ='num_of_match', \n",
    "                     group_col ='tier', p_adjust = 'holm').style.background_gradient(cmap='Blues')"
   ]
  },
  {
   "cell_type": "markdown",
   "id": "bd4d4f83",
   "metadata": {},
   "source": [
    "### killed_by"
   ]
  },
  {
   "cell_type": "code",
   "execution_count": null,
   "id": "465cb025",
   "metadata": {
    "ExecuteTime": {
     "end_time": "2021-08-02T02:25:09.507624Z",
     "start_time": "2021-08-02T02:25:08.646263Z"
    }
   },
   "outputs": [],
   "source": [
    "plt.figure(figsize=(5, 15))\n",
    "sns.countplot(data=df_tier[df_tier['tier']==1], y='killed_by', \n",
    "              order=df_tier.loc[df_tier['tier']==1, 'killed_by'].value_counts().index)"
   ]
  },
  {
   "cell_type": "code",
   "execution_count": null,
   "id": "1d599fb8",
   "metadata": {
    "ExecuteTime": {
     "end_time": "2021-08-02T02:25:27.178545Z",
     "start_time": "2021-08-02T02:25:24.338772Z"
    }
   },
   "outputs": [],
   "source": [
    "plt.figure(figsize=(5, 15))\n",
    "sns.countplot(data=df_tier[df_tier['tier']==2], y='killed_by',\n",
    "              order=df_tier.loc[df_tier['tier']==2, 'killed_by'].value_counts().index)"
   ]
  },
  {
   "cell_type": "code",
   "execution_count": null,
   "id": "25c65e87",
   "metadata": {
    "ExecuteTime": {
     "end_time": "2021-08-02T02:25:40.864237Z",
     "start_time": "2021-08-02T02:25:37.084480Z"
    }
   },
   "outputs": [],
   "source": [
    "plt.figure(figsize=(5, 15))\n",
    "sns.countplot(data=df_tier[df_tier['tier']==3], y='killed_by',\n",
    "              order=df_tier.loc[df_tier['tier']==3, 'killed_by'].value_counts().index)"
   ]
  },
  {
   "cell_type": "code",
   "execution_count": null,
   "id": "44483bb2",
   "metadata": {
    "ExecuteTime": {
     "end_time": "2021-08-02T02:26:26.548731Z",
     "start_time": "2021-08-02T02:26:23.861075Z"
    }
   },
   "outputs": [],
   "source": [
    "plt.figure(figsize=(5, 15))\n",
    "sns.countplot(data=df_tier[df_tier['tier']==4], y='killed_by',\n",
    "              order=df_tier.loc[df_tier['tier']==4, 'killed_by'].value_counts().index)"
   ]
  },
  {
   "cell_type": "code",
   "execution_count": null,
   "id": "6bb4e486",
   "metadata": {
    "ExecuteTime": {
     "end_time": "2021-08-02T02:26:35.140014Z",
     "start_time": "2021-08-02T02:26:33.895104Z"
    }
   },
   "outputs": [],
   "source": [
    "plt.figure(figsize=(5, 15))\n",
    "sns.countplot(data=df_tier[df_tier['tier']==5], y='killed_by',\n",
    "              order=df_tier.loc[df_tier['tier']==5, 'killed_by'].value_counts().index)"
   ]
  },
  {
   "cell_type": "code",
   "execution_count": null,
   "id": "597d1f7d",
   "metadata": {
    "ExecuteTime": {
     "end_time": "2021-08-02T02:26:45.936032Z",
     "start_time": "2021-08-02T02:26:45.268999Z"
    }
   },
   "outputs": [],
   "source": [
    "plt.figure(figsize=(5, 15))\n",
    "sns.countplot(data=df_tier[df_tier['tier']==6], y='killed_by',\n",
    "              order=df_tier.loc[df_tier['tier']==6, 'killed_by'].value_counts().index)"
   ]
  }
 ],
 "metadata": {
  "kernelspec": {
   "display_name": "Python 3",
   "language": "python",
   "name": "python3"
  },
  "language_info": {
   "codemirror_mode": {
    "name": "ipython",
    "version": 3
   },
   "file_extension": ".py",
   "mimetype": "text/x-python",
   "name": "python",
   "nbconvert_exporter": "python",
   "pygments_lexer": "ipython3",
   "version": "3.8.8"
  },
  "toc": {
   "base_numbering": 1,
   "nav_menu": {},
   "number_sections": true,
   "sideBar": true,
   "skip_h1_title": false,
   "title_cell": "Table of Contents",
   "title_sidebar": "Contents",
   "toc_cell": false,
   "toc_position": {},
   "toc_section_display": true,
   "toc_window_display": true
  }
 },
 "nbformat": 4,
 "nbformat_minor": 5
}
