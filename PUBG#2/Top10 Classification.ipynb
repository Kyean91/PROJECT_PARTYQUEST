{
 "cells": [
  {
   "cell_type": "markdown",
   "id": "6b128103",
   "metadata": {},
   "source": [
    "# Data Description"
   ]
  },
  {
   "cell_type": "markdown",
   "id": "1c94a049",
   "metadata": {},
   "source": [
    "## Data Source\n",
    "\n",
    "* PUBG Match Deaths and Statistics, Kaggle \n",
    "    \\- https://www.kaggle.com/skihikingkevin/pubg-match-deaths"
   ]
  },
  {
   "cell_type": "markdown",
   "id": "4d83d42b",
   "metadata": {},
   "source": [
    "## Data Introduction\n",
    "\n",
    "In this Kaggle Dataset, over 720,000 competitive matches from the popular game PlayerUnknown's Battlegrounds. The data was extracted from pubg.op.gg, a game tracker website.\n",
    "\n",
    "\n",
    "### PlayerUnknown's Battlegrounds\n",
    "\n",
    "PUBG is a first/third-person shooter battle royale style game that matches over 90 players on a large island where teams and players fight to the death until one remains. Players are airdropped from an airplane onto the island where they are to scavenge towns and buildings for weapons, ammo, armor and first-aid. Players will then decide to either fight or hide with the ultimate goal of being the last one standing. A bluezone (see below) will appear a few minutes into the game to corral players closer and closer together by dealing damage to anyone that stands within the bluezone and sparing whoever is within the safe zone.\n",
    "\n",
    "\n",
    "### The Dataset\n",
    "\n",
    "This dataset provides two zips: aggregate and deaths.\n",
    "\n",
    "In **deaths**, the files record every death that occurred within the 720k matches. That is, each row documents an event where a player has died in the match.\n",
    "\n",
    "In **aggregate**, each match's meta information and player statistics are summarized (as provided by pubg). It includes various aggregate statistics such as player kills, damage, distance walked, etc as well as metadata on the match itself such as queue size, fpp/tpp, date, etc.\n",
    "The uncompressed data is divided into 5 chunks of approximately 2gb each.\n",
    "\n",
    "### Columns in deaths\n",
    "\n",
    "1. killed_by: Which weapon is killed\n",
    "1. killer_name: Killer game id\n",
    "1. killer_placement: The final ranking of the team where the killer is located\n",
    "1. killer_position_x: X coordinate of the killer when the killing behavior occurs\n",
    "1. killer_position_y: Y coordinate of the killer when the killing behavior occurs\n",
    "1. map: Game Map(Erangel island/ Miramar desert)\n",
    "1. match_id : Event Unique ID\n",
    "1. time: When the kill occurs(How many seconds after the game starts)\n",
    "1. victim_name: The killed game id\n",
    "1. victim_position_x: X coordinate of the person being killed when the killing occurs\n",
    "1. victim_position_y: Y coordinate of the killer at the time of the killing behavior\n",
    "\n",
    "### Columns in aggregate\n",
    "\n",
    "1. date: Start time of the game\n",
    "1. game_size: Site size\n",
    "1. match_id: Event Unique ID\n",
    "1. match_mode: Game Mode(First/ Third Person View)\n",
    "1. party_size: Squad size(1person/ 2people/ 4people)\n",
    "1. player_assists: Rescue teammates\n",
    "1. player_dbno: Number of times the player was knocked down\n",
    "1. player_dist_ride: Driving Distance\n",
    "1. player_dist_walk: Walking distance\n",
    "1. player_dmg: Injury points\n",
    "1. player_kills: kills\n",
    "1. player_name: Player Game id\n",
    "1. player_survive_time: Player survival time\n",
    "1. team_id: The player's team number\n",
    "1. team_placement: The final ranking of the player's team"
   ]
  },
  {
   "cell_type": "markdown",
   "id": "42085fe9",
   "metadata": {},
   "source": [
    "# 라이브러리 및 데이터 로드"
   ]
  },
  {
   "cell_type": "markdown",
   "id": "0b32791b",
   "metadata": {},
   "source": [
    "## 라이브러리"
   ]
  },
  {
   "cell_type": "code",
   "execution_count": 1,
   "id": "9235dc1f",
   "metadata": {
    "ExecuteTime": {
     "end_time": "2021-09-12T12:01:30.137572Z",
     "start_time": "2021-09-12T12:01:28.960090Z"
    }
   },
   "outputs": [],
   "source": [
    "import pandas as pd\n",
    "import numpy as np\n",
    "import matplotlib.pyplot as plt\n",
    "import seaborn as sns\n",
    "import math\n",
    "from tqdm.auto import tqdm\n",
    "tqdm.pandas()\n",
    "import os"
   ]
  },
  {
   "cell_type": "code",
   "execution_count": 2,
   "id": "9f788efa",
   "metadata": {
    "ExecuteTime": {
     "end_time": "2021-09-12T12:01:30.141379Z",
     "start_time": "2021-09-12T12:01:30.139313Z"
    }
   },
   "outputs": [],
   "source": [
    "# MAC 기준\n",
    "# Window font: 'Malgun Gothic'\n",
    "\n",
    "plt.rc('font', family='AppleGothic')\n",
    "plt.rc('axes', unicode_minus=False)"
   ]
  },
  {
   "cell_type": "code",
   "execution_count": 3,
   "id": "ce86b550",
   "metadata": {
    "ExecuteTime": {
     "end_time": "2021-09-12T12:01:30.145304Z",
     "start_time": "2021-09-12T12:01:30.143203Z"
    }
   },
   "outputs": [],
   "source": [
    "pd.set_option('display.float_format', lambda x: '%.3f' % x)"
   ]
  },
  {
   "cell_type": "markdown",
   "id": "26877902",
   "metadata": {},
   "source": [
    "## 데이터"
   ]
  },
  {
   "cell_type": "code",
   "execution_count": null,
   "id": "3bf2aff3",
   "metadata": {
    "ExecuteTime": {
     "end_time": "2021-08-15T15:25:28.476946Z",
     "start_time": "2021-08-15T15:25:28.475022Z"
    }
   },
   "outputs": [],
   "source": [
    "data_dir = '../dataset/raw/'"
   ]
  },
  {
   "cell_type": "code",
   "execution_count": null,
   "id": "42e9e512",
   "metadata": {
    "ExecuteTime": {
     "end_time": "2021-08-26T09:18:32.699720Z",
     "start_time": "2021-08-26T09:18:32.696789Z"
    }
   },
   "outputs": [],
   "source": [
    "def data_load(data_dir, name_list, df_list):\n",
    "    df_list = []\n",
    "    for i in tqdm(name_list):\n",
    "        df_list.append(pd.read_csv(data_dir + i))\n",
    "    return df_list"
   ]
  },
  {
   "cell_type": "code",
   "execution_count": null,
   "id": "9f22dbe9",
   "metadata": {
    "ExecuteTime": {
     "end_time": "2021-08-15T15:27:28.355759Z",
     "start_time": "2021-08-15T15:25:28.483311Z"
    }
   },
   "outputs": [],
   "source": [
    "agg_data_dir = '../dataset/raw/aggregate/'\n",
    "agg_name_list = sorted(os.listdir(agg_data_dir))\n",
    "agg_list = []\n",
    "agg_list = data_load(agg_data_dir, agg_name_list, agg_list)"
   ]
  },
  {
   "cell_type": "code",
   "execution_count": null,
   "id": "7fe5f620",
   "metadata": {
    "ExecuteTime": {
     "end_time": "2021-08-15T15:29:24.067706Z",
     "start_time": "2021-08-15T15:27:28.358045Z"
    }
   },
   "outputs": [],
   "source": [
    "deaths_data_dir = '../dataset/raw/deaths/'\n",
    "deaths_name_list = sorted(os.listdir(deaths_data_dir))\n",
    "deaths_list = []\n",
    "deaths_list = data_load(deaths_data_dir, deaths_name_list, deaths_list)"
   ]
  },
  {
   "cell_type": "code",
   "execution_count": null,
   "id": "f884de68",
   "metadata": {
    "ExecuteTime": {
     "end_time": "2021-08-26T09:18:35.232437Z",
     "start_time": "2021-08-26T09:18:35.229881Z"
    }
   },
   "outputs": [],
   "source": [
    "def get_shape(df_list):\n",
    "    for i in df_list:\n",
    "        print(i.shape)"
   ]
  },
  {
   "cell_type": "code",
   "execution_count": null,
   "id": "e431d934",
   "metadata": {
    "ExecuteTime": {
     "end_time": "2021-08-15T15:29:24.075596Z",
     "start_time": "2021-08-15T15:29:24.072936Z"
    }
   },
   "outputs": [],
   "source": [
    "get_shape(agg_list)"
   ]
  },
  {
   "cell_type": "code",
   "execution_count": null,
   "id": "b0cf1ec6",
   "metadata": {
    "ExecuteTime": {
     "end_time": "2021-08-15T15:29:24.079118Z",
     "start_time": "2021-08-15T15:29:24.077011Z"
    }
   },
   "outputs": [],
   "source": [
    "get_shape(deaths_list)"
   ]
  },
  {
   "cell_type": "markdown",
   "id": "8045f049",
   "metadata": {},
   "source": [
    "# Data preprocessing"
   ]
  },
  {
   "cell_type": "markdown",
   "id": "53d43fc7",
   "metadata": {},
   "source": [
    "## Aggregate의 na 제거"
   ]
  },
  {
   "cell_type": "code",
   "execution_count": null,
   "id": "55ed79ce",
   "metadata": {
    "ExecuteTime": {
     "end_time": "2021-08-15T15:29:24.083364Z",
     "start_time": "2021-08-15T15:29:24.080714Z"
    }
   },
   "outputs": [],
   "source": [
    "def df_drop_na(df_list):\n",
    "    for i in tqdm(range(len(df_list))):\n",
    "        df_list[i] = df_list[i].dropna()"
   ]
  },
  {
   "cell_type": "code",
   "execution_count": null,
   "id": "2a0ebafa",
   "metadata": {
    "ExecuteTime": {
     "end_time": "2021-08-15T15:29:49.119697Z",
     "start_time": "2021-08-15T15:29:24.085050Z"
    }
   },
   "outputs": [],
   "source": [
    "df_drop_na(agg_list)"
   ]
  },
  {
   "cell_type": "markdown",
   "id": "96a491de",
   "metadata": {},
   "source": [
    "## match_mode 제거\n",
    "* 모두 'tpp'만 가짐"
   ]
  },
  {
   "cell_type": "code",
   "execution_count": null,
   "id": "949b0679",
   "metadata": {
    "ExecuteTime": {
     "end_time": "2021-08-15T15:29:49.123481Z",
     "start_time": "2021-08-15T15:29:49.121222Z"
    }
   },
   "outputs": [],
   "source": [
    "def del_col(df_list, col_name):\n",
    "    for i in tqdm(df_list):\n",
    "        del i[col_name]"
   ]
  },
  {
   "cell_type": "code",
   "execution_count": null,
   "id": "527c7be3",
   "metadata": {
    "ExecuteTime": {
     "end_time": "2021-08-15T15:29:50.899947Z",
     "start_time": "2021-08-15T15:29:49.124980Z"
    }
   },
   "outputs": [],
   "source": [
    "del_col(agg_list, 'match_mode')"
   ]
  },
  {
   "cell_type": "markdown",
   "id": "df58c239",
   "metadata": {},
   "source": [
    "## 두 데이터에서 매칭되지 않는 match_id 제거"
   ]
  },
  {
   "cell_type": "code",
   "execution_count": null,
   "id": "e7721b4d",
   "metadata": {
    "ExecuteTime": {
     "end_time": "2021-08-15T15:29:50.903732Z",
     "start_time": "2021-08-15T15:29:50.901423Z"
    }
   },
   "outputs": [],
   "source": [
    "def get_unique_match_id(df_list):\n",
    "    match_id = []\n",
    "    for i in df_list:\n",
    "        match_id += [x for x in i['match_id'].unique()]\n",
    "    return match_id"
   ]
  },
  {
   "cell_type": "code",
   "execution_count": null,
   "id": "640408ab",
   "metadata": {
    "ExecuteTime": {
     "end_time": "2021-08-15T15:29:56.563743Z",
     "start_time": "2021-08-15T15:29:50.905000Z"
    }
   },
   "outputs": [],
   "source": [
    "agg_match_id = get_unique_match_id(agg_list)"
   ]
  },
  {
   "cell_type": "code",
   "execution_count": null,
   "id": "3964f797",
   "metadata": {
    "ExecuteTime": {
     "end_time": "2021-08-15T15:29:56.569107Z",
     "start_time": "2021-08-15T15:29:56.565388Z"
    }
   },
   "outputs": [],
   "source": [
    "len(agg_match_id)"
   ]
  },
  {
   "cell_type": "code",
   "execution_count": null,
   "id": "5a58cf79",
   "metadata": {
    "ExecuteTime": {
     "end_time": "2021-08-15T15:30:02.107386Z",
     "start_time": "2021-08-15T15:29:56.573498Z"
    }
   },
   "outputs": [],
   "source": [
    "deaths_match_id = get_unique_match_id(deaths_list)"
   ]
  },
  {
   "cell_type": "code",
   "execution_count": null,
   "id": "41a64664",
   "metadata": {
    "ExecuteTime": {
     "end_time": "2021-08-15T15:30:02.377715Z",
     "start_time": "2021-08-15T15:30:02.110540Z"
    }
   },
   "outputs": [],
   "source": [
    "agg_mat = set(agg_match_id)\n",
    "deaths_mat = set(deaths_match_id)"
   ]
  },
  {
   "cell_type": "code",
   "execution_count": null,
   "id": "55fed40f",
   "metadata": {
    "ExecuteTime": {
     "end_time": "2021-08-15T15:30:02.528436Z",
     "start_time": "2021-08-15T15:30:02.379498Z"
    }
   },
   "outputs": [],
   "source": [
    "len(agg_mat), len(deaths_mat), len(agg_mat & deaths_mat)"
   ]
  },
  {
   "cell_type": "code",
   "execution_count": null,
   "id": "d5df4e17",
   "metadata": {
    "ExecuteTime": {
     "end_time": "2021-08-15T15:30:02.532584Z",
     "start_time": "2021-08-15T15:30:02.530033Z"
    }
   },
   "outputs": [],
   "source": [
    "get_shape(deaths_list)"
   ]
  },
  {
   "cell_type": "code",
   "execution_count": null,
   "id": "7d3e8690",
   "metadata": {
    "ExecuteTime": {
     "end_time": "2021-08-15T15:30:22.272234Z",
     "start_time": "2021-08-15T15:30:02.534220Z"
    }
   },
   "outputs": [],
   "source": [
    "for i in range(len(deaths_list)):\n",
    "    deaths_list[i] = deaths_list[i][deaths_list[i]['match_id'].isin(agg_match_id)]"
   ]
  },
  {
   "cell_type": "code",
   "execution_count": null,
   "id": "218fcfb5",
   "metadata": {
    "ExecuteTime": {
     "end_time": "2021-08-15T15:30:22.275958Z",
     "start_time": "2021-08-15T15:30:22.273663Z"
    }
   },
   "outputs": [],
   "source": [
    "get_shape(deaths_list)"
   ]
  },
  {
   "cell_type": "markdown",
   "id": "336eef7f",
   "metadata": {},
   "source": [
    "## deaths data na 처리"
   ]
  },
  {
   "cell_type": "markdown",
   "id": "36961487",
   "metadata": {},
   "source": [
    "### map na 처리"
   ]
  },
  {
   "cell_type": "code",
   "execution_count": null,
   "id": "eb9dcc43",
   "metadata": {
    "ExecuteTime": {
     "end_time": "2021-08-15T15:30:22.756358Z",
     "start_time": "2021-08-15T15:30:22.277600Z"
    }
   },
   "outputs": [],
   "source": [
    "deaths_list[0]['map'].unique()"
   ]
  },
  {
   "cell_type": "markdown",
   "id": "729f8b43",
   "metadata": {},
   "source": [
    "* map 결측값 대체 가능 여부 확인"
   ]
  },
  {
   "cell_type": "code",
   "execution_count": null,
   "id": "c389862f",
   "metadata": {
    "ExecuteTime": {
     "end_time": "2021-08-15T15:30:24.636255Z",
     "start_time": "2021-08-15T15:30:22.757982Z"
    }
   },
   "outputs": [],
   "source": [
    "map_na_match_id = []\n",
    "for i in deaths_list:\n",
    "    map_na_match_id += [x for x in i.loc[i['map'].isnull(), 'match_id'].unique()]"
   ]
  },
  {
   "cell_type": "code",
   "execution_count": null,
   "id": "d1f93fac",
   "metadata": {
    "ExecuteTime": {
     "end_time": "2021-08-15T15:30:33.277952Z",
     "start_time": "2021-08-15T15:30:24.637897Z"
    }
   },
   "outputs": [],
   "source": [
    "E_match_id = []\n",
    "for i in deaths_list:\n",
    "    E_match_id += [x for x in i.loc[i['map'] == 'ERANGEL', 'match_id'].unique()]"
   ]
  },
  {
   "cell_type": "code",
   "execution_count": null,
   "id": "3254fb24",
   "metadata": {
    "ExecuteTime": {
     "end_time": "2021-08-15T15:30:37.534586Z",
     "start_time": "2021-08-15T15:30:33.279754Z"
    }
   },
   "outputs": [],
   "source": [
    "M_match_id = []\n",
    "for i in deaths_list:\n",
    "    M_match_id += [x for x in i.loc[i['map'] == 'MIRAMAR', 'match_id'].unique()]"
   ]
  },
  {
   "cell_type": "markdown",
   "id": "49d22d69",
   "metadata": {},
   "source": [
    "* 겹치는 match_id 확인"
   ]
  },
  {
   "cell_type": "code",
   "execution_count": null,
   "id": "b7b4d425",
   "metadata": {
    "ExecuteTime": {
     "end_time": "2021-08-15T15:30:37.603354Z",
     "start_time": "2021-08-15T15:30:37.536002Z"
    }
   },
   "outputs": [],
   "source": [
    "map_na_match_id = set(map_na_match_id)\n",
    "E_match_id = set(E_match_id)\n",
    "M_match_id = set(M_match_id)"
   ]
  },
  {
   "cell_type": "code",
   "execution_count": null,
   "id": "32169321",
   "metadata": {
    "ExecuteTime": {
     "end_time": "2021-08-15T15:30:37.743043Z",
     "start_time": "2021-08-15T15:30:37.604917Z"
    }
   },
   "outputs": [],
   "source": [
    "len(map_na_match_id & E_match_id), len(map_na_match_id & M_match_id), len(E_match_id & M_match_id) "
   ]
  },
  {
   "cell_type": "markdown",
   "id": "6c14c1d3",
   "metadata": {},
   "source": [
    "* 대체 불가능 판단 -> Drop"
   ]
  },
  {
   "cell_type": "code",
   "execution_count": null,
   "id": "e94eb144",
   "metadata": {
    "ExecuteTime": {
     "end_time": "2021-08-15T15:30:37.747137Z",
     "start_time": "2021-08-15T15:30:37.744877Z"
    }
   },
   "outputs": [],
   "source": [
    "get_shape(deaths_list)"
   ]
  },
  {
   "cell_type": "markdown",
   "id": "9a6453f3",
   "metadata": {},
   "source": [
    "### deaths 데이터 na drop"
   ]
  },
  {
   "cell_type": "code",
   "execution_count": null,
   "id": "fdd884c7",
   "metadata": {
    "ExecuteTime": {
     "end_time": "2021-08-15T15:30:55.960785Z",
     "start_time": "2021-08-15T15:30:37.748763Z"
    }
   },
   "outputs": [],
   "source": [
    "df_drop_na(deaths_list)"
   ]
  },
  {
   "cell_type": "code",
   "execution_count": null,
   "id": "a4ded4ed",
   "metadata": {
    "ExecuteTime": {
     "end_time": "2021-08-15T15:30:55.964593Z",
     "start_time": "2021-08-15T15:30:55.962393Z"
    }
   },
   "outputs": [],
   "source": [
    "get_shape(deaths_list)"
   ]
  },
  {
   "cell_type": "markdown",
   "id": "03424ecd",
   "metadata": {},
   "source": [
    "## Data 병합"
   ]
  },
  {
   "cell_type": "markdown",
   "id": "31ce3765",
   "metadata": {},
   "source": [
    "* key columns\n",
    "    * agg.match_id = deaths.match_id\n",
    "    * agg.player_name = deaths.killer_name"
   ]
  },
  {
   "cell_type": "code",
   "execution_count": null,
   "id": "c55eff5a",
   "metadata": {
    "ExecuteTime": {
     "end_time": "2021-08-15T15:30:55.968410Z",
     "start_time": "2021-08-15T15:30:55.966116Z"
    }
   },
   "outputs": [],
   "source": [
    "# key column의 이름을 맞춰야 함\n",
    "# deaths의 killer_name을 player_name으로 변경\n",
    "\n",
    "def chg_col_names(df_list, col_names):\n",
    "    for i in tqdm(df_list):\n",
    "        i.columns = col_names"
   ]
  },
  {
   "cell_type": "code",
   "execution_count": null,
   "id": "1996d1cf",
   "metadata": {
    "ExecuteTime": {
     "end_time": "2021-08-15T15:30:55.974017Z",
     "start_time": "2021-08-15T15:30:55.969709Z"
    }
   },
   "outputs": [],
   "source": [
    "deaths_list[0].columns"
   ]
  },
  {
   "cell_type": "code",
   "execution_count": null,
   "id": "8845f9f1",
   "metadata": {
    "ExecuteTime": {
     "end_time": "2021-08-15T15:30:55.977634Z",
     "start_time": "2021-08-15T15:30:55.975344Z"
    }
   },
   "outputs": [],
   "source": [
    "deaths_cols = ['killed_by', 'player_name', 'killer_placement', 'killer_position_x',\n",
    "               'killer_position_y', 'map', 'match_id', 'time', 'victim_name',\n",
    "               'victim_placement', 'victim_position_x', 'victim_position_y']"
   ]
  },
  {
   "cell_type": "code",
   "execution_count": null,
   "id": "76cb2ef8",
   "metadata": {
    "ExecuteTime": {
     "end_time": "2021-08-15T15:30:55.999615Z",
     "start_time": "2021-08-15T15:30:55.978853Z"
    }
   },
   "outputs": [],
   "source": [
    "# key column 이름 맞추기\n",
    "\n",
    "chg_col_names(deaths_list, deaths_cols)"
   ]
  },
  {
   "cell_type": "markdown",
   "id": "c5031e68",
   "metadata": {},
   "source": [
    "## Aggregate 데이터와 Deaths 데이터 Merge"
   ]
  },
  {
   "cell_type": "markdown",
   "id": "a4d7b4af",
   "metadata": {},
   "source": [
    "* 같은 번호의 데이터와 짝을 이루는 것을 match_id로 확인함\n",
    "    * e.g. agg_0는 deaths_0과 Merge"
   ]
  },
  {
   "cell_type": "code",
   "execution_count": null,
   "id": "2ede9256",
   "metadata": {
    "ExecuteTime": {
     "end_time": "2021-08-15T15:30:56.003602Z",
     "start_time": "2021-08-15T15:30:56.001123Z"
    }
   },
   "outputs": [],
   "source": [
    "get_shape(agg_list)"
   ]
  },
  {
   "cell_type": "code",
   "execution_count": null,
   "id": "2a80bd51",
   "metadata": {
    "ExecuteTime": {
     "end_time": "2021-08-15T15:30:56.007198Z",
     "start_time": "2021-08-15T15:30:56.004925Z"
    }
   },
   "outputs": [],
   "source": [
    "get_shape(deaths_list)"
   ]
  },
  {
   "cell_type": "code",
   "execution_count": null,
   "id": "1ad8099b",
   "metadata": {
    "ExecuteTime": {
     "end_time": "2021-08-15T15:30:56.451117Z",
     "start_time": "2021-08-15T15:30:56.008615Z"
    }
   },
   "outputs": [],
   "source": [
    "deaths_list[0]['map'].unique()"
   ]
  },
  {
   "cell_type": "code",
   "execution_count": null,
   "id": "4069bb37",
   "metadata": {
    "ExecuteTime": {
     "end_time": "2021-08-15T15:30:56.455112Z",
     "start_time": "2021-08-15T15:30:56.452496Z"
    }
   },
   "outputs": [],
   "source": [
    "def get_merged_df(left, right, join, keys):\n",
    "    df_list = []\n",
    "    for i in tqdm(range(len(left))):\n",
    "        df_list.append(pd.merge(left[i], right[i], how=join, on=keys))\n",
    "    return df_list"
   ]
  },
  {
   "cell_type": "code",
   "execution_count": null,
   "id": "6e534bdb",
   "metadata": {
    "ExecuteTime": {
     "end_time": "2021-08-15T15:34:07.925436Z",
     "start_time": "2021-08-15T15:30:56.456607Z"
    }
   },
   "outputs": [],
   "source": [
    "df_merge = get_merged_df(agg_list, deaths_list, 'left', ['match_id', 'player_name'])"
   ]
  },
  {
   "cell_type": "code",
   "execution_count": null,
   "id": "14e987e3",
   "metadata": {
    "ExecuteTime": {
     "end_time": "2021-08-15T15:34:07.939124Z",
     "start_time": "2021-08-15T15:34:07.929526Z"
    }
   },
   "outputs": [],
   "source": [
    "get_shape(df_merge)"
   ]
  },
  {
   "cell_type": "markdown",
   "id": "3960fd1f",
   "metadata": {},
   "source": [
    "## map 채우기"
   ]
  },
  {
   "cell_type": "code",
   "execution_count": null,
   "id": "dd8cb1ff",
   "metadata": {
    "ExecuteTime": {
     "end_time": "2021-08-15T15:34:07.948871Z",
     "start_time": "2021-08-15T15:34:07.941136Z"
    }
   },
   "outputs": [],
   "source": [
    "def fill_map_na(df_list, match_id_list, map_name):\n",
    "    for i in df_list:\n",
    "        i.loc[(i['match_id'].isin(match_id_list))&(i['map'].isnull()), 'map'] = map_name\n",
    "    return df_list"
   ]
  },
  {
   "cell_type": "code",
   "execution_count": null,
   "id": "637b2a1e",
   "metadata": {
    "ExecuteTime": {
     "end_time": "2021-08-15T15:34:27.503087Z",
     "start_time": "2021-08-15T15:34:07.953166Z"
    }
   },
   "outputs": [],
   "source": [
    "match_id = [E_match_id, M_match_id]\n",
    "map_names = ['ERANGEL', 'MIRAMAR']\n",
    "\n",
    "for i in tqdm(range(len(match_id))):\n",
    "    df_merge = fill_map_na(df_merge, match_id[i], map_names[i])"
   ]
  },
  {
   "cell_type": "markdown",
   "id": "252a3513",
   "metadata": {},
   "source": [
    "## map별로 데이터 나누기"
   ]
  },
  {
   "cell_type": "markdown",
   "id": "a4cae857",
   "metadata": {},
   "source": [
    "* ERANGEL과 MIRAMAR로 데이터 셋을 나눔"
   ]
  },
  {
   "cell_type": "code",
   "execution_count": null,
   "id": "0142cba3",
   "metadata": {
    "ExecuteTime": {
     "end_time": "2021-08-15T15:34:27.507751Z",
     "start_time": "2021-08-15T15:34:27.504565Z"
    }
   },
   "outputs": [],
   "source": [
    "def get_df_map(df_list, map_name):\n",
    "    df_map = []\n",
    "    for i in df_list:\n",
    "        df_map.append(i[i['map'] == map_name])\n",
    "    return df_map"
   ]
  },
  {
   "cell_type": "code",
   "execution_count": null,
   "id": "305b8cfe",
   "metadata": {
    "ExecuteTime": {
     "end_time": "2021-08-15T15:36:49.625500Z",
     "start_time": "2021-08-15T15:34:27.509294Z"
    }
   },
   "outputs": [],
   "source": [
    "df_map  = []\n",
    "for i in tqdm(range(len(map_names))):\n",
    "    df_map.append(get_df_map(df_merge, map_names[i]))"
   ]
  },
  {
   "cell_type": "markdown",
   "id": "fc9265ef",
   "metadata": {},
   "source": [
    "## party_size 별로 데이터 나누기"
   ]
  },
  {
   "cell_type": "markdown",
   "id": "99bc92f0",
   "metadata": {},
   "source": [
    "* party_size에 따라 Tier가 다르기 때문에 데이터를 분리함"
   ]
  },
  {
   "cell_type": "code",
   "execution_count": null,
   "id": "0f890082",
   "metadata": {
    "ExecuteTime": {
     "end_time": "2021-08-15T15:36:49.646247Z",
     "start_time": "2021-08-15T15:36:49.633684Z"
    }
   },
   "outputs": [],
   "source": [
    "def get_df_party_size(df_list, party_size):\n",
    "    df_party_size = []\n",
    "    for i in df_list:\n",
    "        df_party_size.append(i[i['party_size'] == party_size])\n",
    "    return df_party_size"
   ]
  },
  {
   "cell_type": "code",
   "execution_count": null,
   "id": "56e2276d",
   "metadata": {
    "ExecuteTime": {
     "end_time": "2021-08-15T15:38:45.832707Z",
     "start_time": "2021-08-15T15:36:49.650668Z"
    }
   },
   "outputs": [],
   "source": [
    "df = []\n",
    "party_size = [1, 2, 4]\n",
    "\n",
    "for i in tqdm(range(len(party_size))):\n",
    "    for j in range(len(df_map)):\n",
    "        df.append(get_df_party_size(df_map[j], party_size[i]))"
   ]
  },
  {
   "cell_type": "code",
   "execution_count": null,
   "id": "f29c5f58",
   "metadata": {
    "ExecuteTime": {
     "end_time": "2021-08-15T15:38:45.855202Z",
     "start_time": "2021-08-15T15:38:45.840579Z"
    }
   },
   "outputs": [],
   "source": [
    "# df[0]: solo, ERANGEL / df[1]: solo, MIRAMAR\n",
    "# df[2]: duo, ERANGEL / df[3]: duo, MIRAMAR\n",
    "# df[4]: squad, ERANGEL / df[5]: squad, MIRAMAR\n",
    "\n",
    "len(df)"
   ]
  },
  {
   "cell_type": "markdown",
   "id": "1a34054b",
   "metadata": {},
   "source": [
    "## party_size별 map별 dataset 합치기"
   ]
  },
  {
   "cell_type": "code",
   "execution_count": null,
   "id": "4d28edb1",
   "metadata": {
    "ExecuteTime": {
     "end_time": "2021-08-15T15:38:45.868995Z",
     "start_time": "2021-08-15T15:38:45.857652Z"
    }
   },
   "outputs": [],
   "source": [
    "def get_concat(df_list):\n",
    "    df_concat = []\n",
    "    for i in tqdm(range(len(df_list))):\n",
    "        df_concat.append(pd.concat(df_list[i], ignore_index=True))\n",
    "    return df_concat"
   ]
  },
  {
   "cell_type": "code",
   "execution_count": null,
   "id": "72e05cb2",
   "metadata": {
    "ExecuteTime": {
     "end_time": "2021-08-15T15:40:15.480446Z",
     "start_time": "2021-08-15T15:38:45.870948Z"
    }
   },
   "outputs": [],
   "source": [
    "# df_concat[0]: solo, ERANGEL / df_concat[1]: solo, MIRAMAR\n",
    "# df_concat[2]: duo, ERANGEL / df_concat[3]: duo, MIRAMAR\n",
    "# df_concat[4]: squad, ERANGEL / df_concat[5]: squad, MIRAMAR\n",
    "\n",
    "df_concat = get_concat(df)"
   ]
  },
  {
   "cell_type": "markdown",
   "id": "12624780",
   "metadata": {},
   "source": [
    "## killed_by 그룹핑"
   ]
  },
  {
   "cell_type": "code",
   "execution_count": null,
   "id": "68764cd1",
   "metadata": {
    "ExecuteTime": {
     "end_time": "2021-08-15T15:40:15.524653Z",
     "start_time": "2021-08-15T15:40:15.491755Z"
    }
   },
   "outputs": [],
   "source": [
    "def killed_by_refine(df):\n",
    "    df['killed_by'] = df['killed_by'].replace({'death.WeapSawnoff_C': 'sawed_off', \n",
    "                                               'death.PlayerMale_A_C': 'Punch',\n",
    "                                               'death.PG117_A_01_C': 'Boat' , 'death.RedZoneBomb_C': 'RedZone'})\n",
    "    df['killed_by'] = df['killed_by'].replace(['Pickup Truck','Hit by Car','Buggy','Dacia','Motorbike',\n",
    "                                               'Motorbike (SideCar)','Uaz','Van'], 'land_vehicle')\n",
    "    df['killed_by'] = df['killed_by'].replace(['death.ProjMolotov_C', 'death.ProjMolotov_DamageField_C', \n",
    "                                               'death.Buff_FireDOT_C'], 'Molotov')\n",
    "    df['killed_by'] = df['killed_by'].replace(['Aquarail','Boat'], 'water_vehicle')"
   ]
  },
  {
   "cell_type": "code",
   "execution_count": null,
   "id": "86844290",
   "metadata": {
    "ExecuteTime": {
     "end_time": "2021-08-15T15:41:09.752280Z",
     "start_time": "2021-08-15T15:40:15.531486Z"
    }
   },
   "outputs": [],
   "source": [
    "for i in tqdm(df_concat):\n",
    "    killed_by_refine(i)"
   ]
  },
  {
   "cell_type": "markdown",
   "id": "f4438ef3",
   "metadata": {},
   "source": [
    "## csv로 내보내기"
   ]
  },
  {
   "cell_type": "code",
   "execution_count": null,
   "id": "16d4cb94",
   "metadata": {
    "ExecuteTime": {
     "end_time": "2021-08-15T15:41:09.820331Z",
     "start_time": "2021-08-15T15:41:09.814362Z"
    }
   },
   "outputs": [],
   "source": [
    "def df_read_csv(df_list, data_dir, file_name):\n",
    "    for i in tqdm(range(len(df_list))):\n",
    "        df_list[i].to_csv(data_dir + f'{file_name[i]}.csv', index=False)"
   ]
  },
  {
   "cell_type": "markdown",
   "id": "25b3fec5",
   "metadata": {},
   "source": [
    "# Bug player 처리"
   ]
  },
  {
   "cell_type": "code",
   "execution_count": null,
   "id": "a3dcb2f6",
   "metadata": {
    "ExecuteTime": {
     "end_time": "2021-08-28T10:01:38.942714Z",
     "start_time": "2021-08-28T09:59:55.949973Z"
    }
   },
   "outputs": [],
   "source": [
    "data_dir = '../dataset/preprocessing/'\n",
    "\n",
    "df = pd.read_csv(data_dir + 'squad_E.csv')"
   ]
  },
  {
   "cell_type": "code",
   "execution_count": null,
   "id": "815e2edf",
   "metadata": {
    "ExecuteTime": {
     "end_time": "2021-08-28T10:01:51.299434Z",
     "start_time": "2021-08-28T10:01:38.944562Z"
    }
   },
   "outputs": [],
   "source": [
    "df_raw = df.copy()"
   ]
  },
  {
   "cell_type": "code",
   "execution_count": null,
   "id": "5c5e181d",
   "metadata": {
    "ExecuteTime": {
     "end_time": "2021-08-28T10:01:51.307304Z",
     "start_time": "2021-08-28T10:01:51.301517Z"
    }
   },
   "outputs": [],
   "source": [
    "class CheckingBugPlayer:\n",
    "    \n",
    "    '''\n",
    "    Bug Player 처리를 위한 Class 입니다.\n",
    "    아래의 기준 중 하나라도 만족하는 player는 Bug player로 지정합니다.\n",
    "    \n",
    "    dist_ride : 30000(30km) 초과\n",
    "    dist_walk : 10000(10km) 초과\n",
    "    kills :     30 kill 초과\n",
    "    dmg :       3000 damage 초과\n",
    "    kill_dist : 40000(400m) 초과\n",
    "    dbno :      11 초과\n",
    "    survive_time : 1900 초과\n",
    "    \n",
    "    '''\n",
    "    \n",
    "        \n",
    "    def player_dist_ride(self, df):\n",
    "        df.loc[df['player_dist_ride'] > 30000, 'outlier'] = 1\n",
    "        return df\n",
    "    \n",
    "    def player_dist_walk(self, df):\n",
    "        df.loc[df['player_dist_walk'] > 10000, 'outlier'] = 1\n",
    "        return df\n",
    "        \n",
    "    def player_kills(self, df):\n",
    "        df.loc[df['player_kills'] > 30, 'outlier'] = 1\n",
    "        return df\n",
    "    \n",
    "    def player_dmg(self, df):\n",
    "        df.loc[df['player_dmg'] > 3000, 'outlier'] = 1 \n",
    "        return df\n",
    "        \n",
    "    def kill_dist(self, df):\n",
    "        df['kill_dist'] = np.sqrt(((df['killer_position_x'] - df['victim_position_x']) ** 2) \n",
    "                                      + ((df['killer_position_y'] - df['victim_position_y']) ** 2))\n",
    "        df['kill_dist'] = df['kill_dist'].fillna(0)\n",
    "        df.loc[df['kill_dist'] > 40000, 'outlier'] = 1\n",
    "        return df    \n",
    "    \n",
    "    def player_dbno(self, df):\n",
    "        df.loc[df['player_dbno'] > 11, 'outlier'] = 1\n",
    "        return df\n",
    "    \n",
    "    def player_survive_time(self, df):\n",
    "        df.loc[df['player_survive_time'] > 1900, 'outlier'] = 1\n",
    "        return df\n"
   ]
  },
  {
   "cell_type": "markdown",
   "id": "3c8795b9",
   "metadata": {},
   "source": [
    "## Bug player 처리"
   ]
  },
  {
   "cell_type": "code",
   "execution_count": null,
   "id": "e3788da5",
   "metadata": {
    "ExecuteTime": {
     "end_time": "2021-08-28T10:01:54.380381Z",
     "start_time": "2021-08-28T10:01:51.309107Z"
    }
   },
   "outputs": [],
   "source": [
    "checker = CheckingBugPlayer()\n",
    "\n",
    "df = checker.player_dist_ride(df)\n",
    "df = checker.player_dist_walk(df)\n",
    "df = checker.player_kills(df)\n",
    "df = checker.player_dmg(df)\n",
    "df = checker.kill_dist(df)\n",
    "df = checker.player_dbno(df)\n",
    "df = checker.player_survive_time(df)\n",
    "\n",
    "df['outlier'] = df['outlier'].fillna(0)"
   ]
  },
  {
   "cell_type": "code",
   "execution_count": null,
   "id": "93257508",
   "metadata": {
    "ExecuteTime": {
     "end_time": "2021-08-28T10:01:54.640571Z",
     "start_time": "2021-08-28T10:01:54.381832Z"
    }
   },
   "outputs": [],
   "source": [
    "df['outlier'].value_counts()"
   ]
  },
  {
   "cell_type": "markdown",
   "id": "7e38703f",
   "metadata": {},
   "source": [
    "## 분석 Dataset 확인"
   ]
  },
  {
   "cell_type": "code",
   "execution_count": null,
   "id": "58694015",
   "metadata": {
    "ExecuteTime": {
     "end_time": "2021-08-28T10:02:20.099110Z",
     "start_time": "2021-08-28T10:01:54.642085Z"
    }
   },
   "outputs": [],
   "source": [
    "df.describe()"
   ]
  },
  {
   "cell_type": "code",
   "execution_count": null,
   "id": "d956cb80",
   "metadata": {
    "ExecuteTime": {
     "end_time": "2021-08-28T10:02:24.750973Z",
     "start_time": "2021-08-28T10:02:20.100618Z"
    }
   },
   "outputs": [],
   "source": [
    "df_outlier = df.copy()"
   ]
  },
  {
   "cell_type": "markdown",
   "id": "0165f594",
   "metadata": {},
   "source": [
    "# 파생변수 생성 1"
   ]
  },
  {
   "cell_type": "code",
   "execution_count": null,
   "id": "24139908",
   "metadata": {
    "ExecuteTime": {
     "end_time": "2021-08-28T10:02:24.763146Z",
     "start_time": "2021-08-28T10:02:24.753650Z"
    }
   },
   "outputs": [],
   "source": [
    "class DerivingVariables:\n",
    "    \n",
    "    '''\n",
    "    파생변수를 만드는 Class 입니다.\n",
    "    아래의 방법으로 파생변수를 생성하였습니다.\n",
    "    \n",
    "    date         : dtype을 datetime 으로 변환\n",
    "    score        : (rank_point * 1) + (kill * 2) + (assist * 2)\n",
    "    tier         : score column을 바탕으로 구함. squad의 +0.6은 위치를 맞추기 위한 수평이동\n",
    "    KDA          : kill, assist, death를 이용해 파생변수 생성 \n",
    "                   death는 match 합계에서 team_placement가 1등인 횟수를 제외하여 계산\n",
    "    num_of_match : player별 총 게임 횟수를 계산\n",
    "    \n",
    "    '''\n",
    "    \n",
    "    def date(self, df):\n",
    "        df.loc[:, 'date'] = pd.to_datetime(df['date'])\n",
    "        return df\n",
    "    \n",
    "    def score(self, df):\n",
    "        max_team_placement = df.groupby(['date', 'match_id'])['team_placement'].max().reset_index()\n",
    "        max_team_placement.columns = ['date', 'match_id', 'max_placement']\n",
    "        df = pd.merge(df, max_team_placement, how='left', on=['date', 'match_id'])\n",
    "        \n",
    "        df['each_game_score'] = (df['max_placement'] - df['team_placement'])*0.1 + np.log(df['player_dmg'] + 1) + df['player_dbno']*(-0.1)\n",
    "        \n",
    "        # score의 sum \n",
    "        each_score = df.groupby(['player_name', 'date', 'match_id'])['each_game_score'].mean().to_frame()\n",
    "        total_score = each_score.groupby('player_name')['each_game_score'].sum().to_frame()\n",
    "        total_score.columns = ['total_score']\n",
    "        df['total_score'] = total_score.loc[df['player_name'], 'total_score'].values\n",
    "        \n",
    "        return df\n",
    "    \n",
    "    def kda_num_of_match(self, df):\n",
    "        # 필요한 column 만 추출\n",
    "        anal_col = df[['player_name', 'match_id','team_placement', 'player_kills', 'player_assists']]\n",
    "\n",
    "        # num_of_match\n",
    "        num_of_match = anal_col.groupby('player_name')['match_id'].nunique().reset_index()\n",
    "        num_of_match.columns = ['player_name', 'num_of_match']\n",
    "\n",
    "        # num_of_1st\n",
    "        num_of_1st = anal_col[anal_col['team_placement'] == 1].groupby('player_name')['match_id'].nunique().reset_index()\n",
    "        num_of_1st.columns = ['player_name', 'num_of_1st']\n",
    "\n",
    "        # death \n",
    "        temp = num_of_match.merge(num_of_1st, how = 'left', on = 'player_name')\n",
    "        temp = temp.fillna(0)\n",
    "        temp.loc[:, 'deaths_sum'] = temp['num_of_match'] - temp['num_of_1st']\n",
    "        death = temp[['player_name', 'deaths_sum']]\n",
    "\n",
    "        # kill & assist\n",
    "        KA_count = anal_col.groupby(['player_name', 'match_id'])[['player_kills', 'player_assists']].mean().reset_index()\n",
    "        KA_sum = KA_count.groupby('player_name')[['player_kills', 'player_assists']].sum().reset_index()\n",
    "        KA_sum.columns = ['player_name', 'kills_sum', 'assists_sum']\n",
    "\n",
    "        # KDA\n",
    "        KDA = KA_sum.merge(death, how = 'left', on = 'player_name')\n",
    "        KDA.loc[:, 'kda'] = (KDA['kills_sum'] + KDA['assists_sum']) / KDA['deaths_sum']\n",
    "        KDA_1 = KDA[['player_name', 'kda']]\n",
    "\n",
    "\n",
    "        ## 여기 한번에 표현 할 수 있는가\n",
    "        df = df.merge(KDA_1, how='left', on='player_name')\n",
    "        df = df.merge(num_of_match, how='left', on='player_name' )\n",
    "\n",
    "        return df"
   ]
  },
  {
   "cell_type": "markdown",
   "id": "d1f2e3a6",
   "metadata": {},
   "source": [
    "## 파생변수1 생성"
   ]
  },
  {
   "cell_type": "code",
   "execution_count": null,
   "id": "5ce02fb4",
   "metadata": {
    "ExecuteTime": {
     "end_time": "2021-08-28T10:04:26.080589Z",
     "start_time": "2021-08-28T10:04:25.361525Z"
    }
   },
   "outputs": [],
   "source": [
    "variables = DerivingVariables()\n",
    "\n",
    "df = variables.date(df)"
   ]
  },
  {
   "cell_type": "code",
   "execution_count": null,
   "id": "595a404f",
   "metadata": {
    "ExecuteTime": {
     "end_time": "2021-08-28T10:06:24.918294Z",
     "start_time": "2021-08-28T10:04:26.845016Z"
    }
   },
   "outputs": [],
   "source": [
    "df = variables.score(df)"
   ]
  },
  {
   "cell_type": "code",
   "execution_count": null,
   "id": "6e580629",
   "metadata": {
    "ExecuteTime": {
     "end_time": "2021-08-28T10:10:39.778153Z",
     "start_time": "2021-08-28T10:06:31.225359Z"
    }
   },
   "outputs": [],
   "source": [
    "df = variables.kda_num_of_match(df)"
   ]
  },
  {
   "cell_type": "code",
   "execution_count": null,
   "id": "b1a256dc",
   "metadata": {
    "ExecuteTime": {
     "end_time": "2021-08-28T10:11:15.384876Z",
     "start_time": "2021-08-28T10:11:09.129486Z"
    }
   },
   "outputs": [],
   "source": [
    "df_var1 = df.copy()"
   ]
  },
  {
   "cell_type": "markdown",
   "id": "4b07ef51",
   "metadata": {},
   "source": [
    "# 파생변수 생성 2"
   ]
  },
  {
   "cell_type": "code",
   "execution_count": null,
   "id": "bfb61cff",
   "metadata": {
    "ExecuteTime": {
     "end_time": "2021-08-28T12:33:43.678443Z",
     "start_time": "2021-08-28T12:33:43.638664Z"
    }
   },
   "outputs": [],
   "source": [
    "class DerivingVariables2:\n",
    "    \"\"\"\n",
    "    \n",
    "    \n",
    "    \"\"\"\n",
    "    \n",
    "    def date_vars(self, df):\n",
    "        df['kor_date'] = df['date'] + datetime.timedelta(hours=9)\n",
    "        df['day_of_week'] = df['kor_date'].dt.weekday\n",
    "        df['weekend'] = [1 if x >= 6 else 0 for x in df['day_of_week'] ]\n",
    "        df['date_time'] = df['kor_date'].dt.hour\n",
    "\n",
    "        def get_time_zone(time):\n",
    "            if time <= 4 :\n",
    "                return 'peak time'\n",
    "            elif time <= 10 :\n",
    "                return 'morning'\n",
    "            elif time <= 16 :\n",
    "                return 'afternoon'\n",
    "            elif time <= 22 :\n",
    "                return 'evening'\n",
    "            else:\n",
    "                return 'peak time'\n",
    "\n",
    "        df['time_zone'] = df['date_time'].apply(lambda x: get_time_zone(x))\n",
    "\n",
    "        return df\n",
    "\n",
    "    def weapon_category(self, df):\n",
    "\n",
    "        accident = ['water_vehicle', 'land_vehicle', 'Falling', 'Drown', 'RedZone', 'Bluezone']\n",
    "        short = ['P18C', 'R1895', 'P92', 'P1911', 'S686', 'S1897', 'S12K', 'Sickle', 'Machete', 'Pan', 'Punch', \n",
    "                 'Crowbar', 'Crossbow']\n",
    "        middle = ['UMP9', 'Micro UZI', 'Tommy Gun', 'Vector', 'AUG', 'Groza', 'M249', 'DP-28']\n",
    "        long = ['SKS', 'Mini 14', 'VSS', 'Mk14', 'Kar98k', 'M24', 'AWM']\n",
    "        throwables = ['Molotov', 'Grenade']\n",
    "\n",
    "\n",
    "        def get_weapon(weapon):\n",
    "            if weapon in accident :\n",
    "                return 'accident'\n",
    "            elif weapon in short:\n",
    "                return 'short_range'\n",
    "            elif weapon in middle:\n",
    "                return 'middle_range'\n",
    "            elif weapon in long:\n",
    "                return 'long_range'\n",
    "            elif weapon in throwables:\n",
    "                return 'throwables'\n",
    "            else:\n",
    "                return weapon\n",
    "        \n",
    "        df['weapon'] = df['killed_by'].apply(lambda x: get_weapon(x))\n",
    "        \n",
    "        return df\n",
    "\n",
    "    def dmg_per_kills(self, df):\n",
    "        df['dmg_per_kills'] = df['player_dmg'] / df['player_kills']\n",
    "        df.loc[(df['player_dmg'] == 0) & (df['player_kills'] != 0), 'dmg_per_kills'] = 0\n",
    "        idx = df[df['dmg_per_kills'] == np.inf].index\n",
    "        df.loc[idx, 'dmg_per_kills'] = df.loc[idx, 'player_dmg'] / 100000\n",
    "        return df\n",
    "    \n",
    "    def ride_ratio(self, df):\n",
    "        df['ride_ratio'] = df['player_dist_ride'] / df['player_dist_walk']\n",
    "        df.loc[(df['player_dist_ride'] > 0) & (df['player_dist_walk'] == 0), 'ride_ratio'] = 10000\n",
    "        return df\n",
    "\n",
    "    def cumulative_sum(self, df):\n",
    "        df_cum_grp = df.groupby(['date', 'match_id', 'player_name'])[['each_game_score', 'player_kills', \n",
    "                                                                          'player_dmg', 'player_assists',\n",
    "                                                                          'dmg_per_kills', \n",
    "                                                                          'ride_ratio']].mean().reset_index()\n",
    "        df_cum_grp['num'] = 1\n",
    "\n",
    "        df_cum_sum = df_cum_grp.groupby('player_name').cumsum()\n",
    "\n",
    "        df_cum_last = df_cum_sum.copy()\n",
    "        for col in range(df_cum_sum.shape[1]):\n",
    "            df_cum_last.iloc[:, col] = df_cum_sum.iloc[:, col] - df_cum_grp.iloc[:, col + 3]\n",
    "        df_cum_last.columns = ['cum_each_game_score', 'cum_player_kills', 'cum_player_dmg', 'cum_player_assists', \n",
    "                               'dmg_kills', 'ride_walk', 'cum_num']\n",
    "\n",
    "        df_cum = pd.concat([df_cum_grp, df_cum_last], axis=1)\n",
    "        df_cum_m = df_cum[['date', 'match_id', 'player_name', 'cum_each_game_score', 'cum_player_kills', \n",
    "                           'cum_player_dmg', 'cum_player_assists', 'cum_num']]\n",
    "\n",
    "        df = pd.merge(df, df_cum_m, how='left', on=['date', 'match_id', 'player_name'])\n",
    "\n",
    "        return df\n",
    "\n",
    "    def match_level(self, df):\n",
    "        match_player_level = df.groupby(['date', 'match_id', 'player_name'])['cum_each_game_score'].mean().reset_index()\n",
    "\n",
    "        match_level = match_player_level.groupby(['date', 'match_id'])['cum_each_game_score'].mean().reset_index()\n",
    "        match_level.columns = ['date', 'match_id', 'match_level']\n",
    "\n",
    "        df = pd.merge(df, match_level, how='left', on=['date', 'match_id'])\n",
    "\n",
    "        return df\n",
    "\n",
    "    def team_level(self, df):\n",
    "        team_player_level = df.groupby(['date', 'match_id', 'team_id', 'player_name'])['cum_each_game_score'].mean().reset_index()\n",
    "\n",
    "        match_level = df.groupby(['date', 'match_id'])['cum_each_game_score'].sum().reset_index()\n",
    "        match_level.columns = ['date', 'match_id', 'match_level_sum']\n",
    "\n",
    "        team_level_sum = df.groupby(['date', 'match_id', 'team_id'])[['cum_each_game_score', 'cum_num']].sum().reset_index()\n",
    "        team_level_sum.columns = ['date', 'match_id', 'team_id', 'team_level_sum', 'team_cum_num']\n",
    "\n",
    "        team_level = pd.merge(team_level_sum, match_level, how='left', on=['date', 'match_id'])\n",
    "        team_level['team_level'] = team_level['team_level_sum'] / team_level['match_level_sum']\n",
    "\n",
    "        df = pd.merge(df, team_level, how='left', on=['date', 'match_id', 'team_id'])\n",
    "\n",
    "        return df\n",
    "\n",
    "    def first_kill_time(self, df):\n",
    "        first_kill_time = df.groupby(['date', 'match_id', 'team_id'])[['time']].min().reset_index()\n",
    "        first_kill_time.columns = ['date', 'match_id', 'team_id', 'first_kill_time']\n",
    "        df = pd.merge(df, first_kill_time, how='left', on=['date', 'match_id', 'team_id'])\n",
    "\n",
    "\n",
    "        def get_team_tendency(first_kill_time):\n",
    "            if first_kill_time <= 125:\n",
    "                return 6\n",
    "            elif first_kill_time <= 250:\n",
    "                return 5\n",
    "            elif first_kill_time <= 375:\n",
    "                return 4\n",
    "            elif first_kill_time <= 500:\n",
    "                return 3\n",
    "            elif first_kill_time <= 625:\n",
    "                return 2\n",
    "            elif first_kill_time <= 750:\n",
    "                return 1\n",
    "            else:\n",
    "                return 0\n",
    "\n",
    "        df['tendency'] = df['first_kill_time'].apply(lambda x: get_team_tendency(x))\n",
    "\n",
    "        return df\n",
    "\n",
    "    def kill_position(self, df):\n",
    "\n",
    "        # 강북\n",
    "        df.loc[((df['killer_position_x'] > 120000) & (df['killer_position_x'] < 240000)) \n",
    "           & ((df['killer_position_y'] > 550000) & (df['killer_position_y'] < 600000)), '강북'] = 1\n",
    "        df['강북'] = df['강북'].fillna(0)\n",
    "\n",
    "        # 강남\n",
    "        df.loc[(df['killer_position_x'] > 100000) & (df['killer_position_x'] < 220000)\n",
    "               & (df['killer_position_y'] > 480000) & (df['killer_position_y'] < 540000), '강남'] = 1\n",
    "        df['강남'] = df['강남'].fillna(0)\n",
    "\n",
    "        # 포친키\n",
    "        df.loc[((df['killer_position_x'] > 330000) & (df['killer_position_x'] < 380000))\n",
    "               & ((df['killer_position_y'] > 380000) & (df['killer_position_y'] < 420000)), '포친키'] = 1\n",
    "        df['포친키'] = df['포친키'].fillna(0)\n",
    "\n",
    "        # 야스나야\n",
    "        df.loc[((df['killer_position_x'] > 500000) & (df['killer_position_x'] < 570000))\n",
    "               & ((df['killer_position_y'] > 540000) & (df['killer_position_y'] < 600000)), '야스나야'] = 1\n",
    "        df['야스나야'] = df['야스나야'].fillna(0)\n",
    "\n",
    "        # 프리모스크\n",
    "        df.loc[((df['killer_position_x'] > 140000) & (df['killer_position_x'] < 180000))\n",
    "               & ((df['killer_position_y'] > 170000) & (df['killer_position_y'] < 220000)), '프리모스크'] = 1\n",
    "        df['프리모스크'] = df['프리모스크'].fillna(0)\n",
    "\n",
    "        # 밀리터리베이스\n",
    "        df.loc[((df['killer_position_x'] > 520000) & (df['killer_position_x'] < 580000))\n",
    "               &((df['killer_position_y'] > 160000) & (df['killer_position_y'] < 195000)), '밀리터리베이스'] = 1\n",
    "        df['밀리터리베이스'] = df['밀리터리베이스'].fillna(0)\n",
    "\n",
    "        # 밀타\n",
    "        df.loc[((df['killer_position_x'] > 560000) & (df['killer_position_x'] < 610000))\n",
    "               & ((df['killer_position_y'] > 310000) & (df['killer_position_y'] < 350000)), '밀타'] = 1\n",
    "        df['밀타'] = df['밀타'].fillna(0)\n",
    "\n",
    "        # 밀타파워\n",
    "        df.loc[((df['killer_position_x'] > 700000) & (df['killer_position_x'] < 730000))\n",
    "               & ((df['killer_position_y'] > 350000) & (df['killer_position_y'] < 400000)), '밀타파워'] = 1\n",
    "        df['밀타파워'] = df['밀타파워'].fillna(0)\n",
    "\n",
    "        # 노보(무역항)\n",
    "        df.loc[((df['killer_position_x'] > 580000) & (df['killer_position_x'] < 630000))\n",
    "               & ((df['killer_position_y'] > 180000) & (df['killer_position_y'] < 230000)), '노보'] = 1\n",
    "        df['노보'] = df['노보'].fillna(0)\n",
    "\n",
    "        # 리포브카\n",
    "        df.loc[((df['killer_position_x'] > 680000) & (df['killer_position_x'] < 710000))\n",
    "               & ((df['killer_position_y'] > 450000) & (df['killer_position_y'] < 490000)), '리포브카'] = 1\n",
    "        df['리포브카'] = df['리포브카'].fillna(0)\n",
    "\n",
    "        # 로족\n",
    "        df.loc[((df['killer_position_x'] > 380000) & (df['killer_position_x'] < 420000))\n",
    "               & ((df['killer_position_y'] > 500000) & (df['killer_position_y'] < 530000)), '로족'] = 1\n",
    "        df['로족'] = df['로족'].fillna(0)\n",
    "\n",
    "        # 자키\n",
    "        df.loc[((df['killer_position_x'] > 100000) & (df['killer_position_x'] < 140000))\n",
    "               & ((df['killer_position_y'] > 650000) & (df['killer_position_y'] < 690000)), '자키'] = 1\n",
    "        df['자키'] = df['자키'].fillna(0)\n",
    "\n",
    "        # 서버니\n",
    "        df.loc[((df['killer_position_x'] > 360000) & (df['killer_position_x'] < 390000))\n",
    "               & ((df['killer_position_y'] > 660000) & (df['killer_position_y'] < 690000)), '서버니'] = 1\n",
    "        df['서버니'] = df['서버니'].fillna(0)\n",
    "\n",
    "        # 스타버\n",
    "        df.loc[((df['killer_position_x'] > 550000) & (df['killer_position_x'] < 580000))\n",
    "               & ((df['killer_position_y'] > 660000) & (df['killer_position_y'] < 680000)), '스타버'] = 1\n",
    "        df['스타버'] = df['스타버'].fillna(0)\n",
    "\n",
    "        # 스쿨\n",
    "        df.loc[((df['killer_position_x'] > 410000) & (df['killer_position_x'] < 440000))\n",
    "               & ((df['killer_position_y'] > 460000) & (df['killer_position_y'] < 490000)), '스쿨'] = 1\n",
    "        df['스쿨'] = df['스쿨'].fillna(0)\n",
    "\n",
    "        # 통곡의다리1\n",
    "        df.loc[((df['killer_position_x'] > 320000) & (df['killer_position_x'] < 370000))\n",
    "               & ((df['killer_position_y'] > 210000) & (df['killer_position_y'] < 290000)), '통곡의다리1'] = 1\n",
    "        df['통곡의다리1'] = df['통곡의다리1'].fillna(0)\n",
    "\n",
    "        # 통곡의다리2\n",
    "        df.loc[((df['killer_position_x'] > 530000) & (df['killer_position_x'] < 560000))\n",
    "               & ((df['killer_position_y'] > 200000) & (df['killer_position_y'] < 310000)), '통곡의다리2'] = 1\n",
    "        df['통곡의다리2'] = df['통곡의다리2'].fillna(0)\n",
    "\n",
    "        return df"
   ]
  },
  {
   "cell_type": "markdown",
   "id": "eab30383",
   "metadata": {},
   "source": [
    "## 파생변수2 생성"
   ]
  },
  {
   "cell_type": "code",
   "execution_count": null,
   "id": "f8ba16e0",
   "metadata": {
    "ExecuteTime": {
     "end_time": "2021-08-28T12:33:46.886213Z",
     "start_time": "2021-08-28T12:33:46.880834Z"
    }
   },
   "outputs": [],
   "source": [
    "import datetime"
   ]
  },
  {
   "cell_type": "code",
   "execution_count": null,
   "id": "5647dfe0",
   "metadata": {
    "ExecuteTime": {
     "end_time": "2021-08-28T12:34:44.544342Z",
     "start_time": "2021-08-28T12:33:47.569374Z"
    }
   },
   "outputs": [],
   "source": [
    "df = df.sort_values(['date', 'match_id'])"
   ]
  },
  {
   "cell_type": "code",
   "execution_count": null,
   "id": "8184df32",
   "metadata": {
    "ExecuteTime": {
     "end_time": "2021-08-28T12:35:27.338031Z",
     "start_time": "2021-08-28T12:34:44.546197Z"
    }
   },
   "outputs": [],
   "source": [
    "var = DerivingVariables2()\n",
    "\n",
    "df = var.date_vars(df)\n",
    "df = var.weapon_category(df)"
   ]
  },
  {
   "cell_type": "code",
   "execution_count": null,
   "id": "bf57d2ae",
   "metadata": {
    "ExecuteTime": {
     "end_time": "2021-08-28T12:36:13.525477Z",
     "start_time": "2021-08-28T12:35:27.340891Z"
    }
   },
   "outputs": [],
   "source": [
    "df = var.dmg_per_kills(df)\n",
    "df = var.ride_ratio(df)"
   ]
  },
  {
   "cell_type": "code",
   "execution_count": null,
   "id": "e437e161",
   "metadata": {
    "ExecuteTime": {
     "end_time": "2021-08-28T12:41:13.794319Z",
     "start_time": "2021-08-28T12:36:13.529303Z"
    }
   },
   "outputs": [],
   "source": [
    "df = var.cumulative_sum(df)\n",
    "df = var.match_level(df)"
   ]
  },
  {
   "cell_type": "code",
   "execution_count": null,
   "id": "4a2772e2",
   "metadata": {
    "ExecuteTime": {
     "end_time": "2021-08-28T12:47:57.876469Z",
     "start_time": "2021-08-28T12:41:13.801312Z"
    }
   },
   "outputs": [],
   "source": [
    "df = var.team_level(df)\n",
    "df = var.first_kill_time(df)\n",
    "df = var.kill_position(df)"
   ]
  },
  {
   "cell_type": "code",
   "execution_count": null,
   "id": "0dc5fdbb",
   "metadata": {
    "ExecuteTime": {
     "end_time": "2021-08-28T12:48:13.842115Z",
     "start_time": "2021-08-28T12:47:57.882878Z"
    }
   },
   "outputs": [],
   "source": [
    "df.loc[df['weapon'] == 'Down and Out', 'Down_and_Out'] = 1\n",
    "df.loc[df['weapon'] == 'M416', 'M416'] = 1\n",
    "df.loc[df['weapon'] == 'M16A4', 'M16A4'] = 1\n",
    "df.loc[df['weapon'] == 'SCAR-L', 'SCAR-L'] = 1\n",
    "df.loc[df['weapon'] == 'AKM', 'AKM'] = 1\n",
    "df.loc[df['weapon'] == 'short_range', 'short_range'] = 1\n",
    "df.loc[df['weapon'] == 'middle_range', 'middle_range'] = 1\n",
    "df.loc[df['weapon'] == 'long_range', 'long_range'] = 1\n",
    "df.loc[df['weapon'] == 'accident', 'accident'] = 1\n",
    "df.loc[df['weapon'] == 'throwables', 'throwables'] = 1"
   ]
  },
  {
   "cell_type": "code",
   "execution_count": null,
   "id": "75a6bee7",
   "metadata": {
    "ExecuteTime": {
     "end_time": "2021-08-28T12:49:34.277169Z",
     "start_time": "2021-08-28T12:48:13.844544Z"
    }
   },
   "outputs": [],
   "source": [
    "df[['Down_and_Out', 'M416', 'M16A4', 'SCAR-L', 'AKM', 'short_range', 'middle_range', 'long_range', 'accident', \n",
    "    'throwables']] = df[['Down_and_Out', 'M416', 'M16A4', 'SCAR-L', 'AKM', 'short_range', 'middle_range', \n",
    "                         'long_range', 'accident', 'throwables']].fillna(0)"
   ]
  },
  {
   "cell_type": "code",
   "execution_count": null,
   "id": "c3023177",
   "metadata": {
    "ExecuteTime": {
     "end_time": "2021-08-29T04:44:20.287013Z",
     "start_time": "2021-08-29T04:44:20.283608Z"
    }
   },
   "outputs": [],
   "source": [
    "pd.set_option('display.max_columns', None)"
   ]
  },
  {
   "cell_type": "code",
   "execution_count": null,
   "id": "f571d8a8",
   "metadata": {
    "ExecuteTime": {
     "end_time": "2021-08-28T12:49:34.358343Z",
     "start_time": "2021-08-28T12:49:34.297217Z"
    }
   },
   "outputs": [],
   "source": [
    "df.head()"
   ]
  },
  {
   "cell_type": "code",
   "execution_count": null,
   "id": "4d149cec",
   "metadata": {
    "ExecuteTime": {
     "end_time": "2021-08-28T12:50:21.856595Z",
     "start_time": "2021-08-28T12:49:34.361503Z"
    }
   },
   "outputs": [],
   "source": [
    "df_var2 = df.copy()"
   ]
  },
  {
   "cell_type": "markdown",
   "id": "5af1b7d1",
   "metadata": {},
   "source": [
    "# Column 정리"
   ]
  },
  {
   "cell_type": "code",
   "execution_count": null,
   "id": "f07460aa",
   "metadata": {
    "ExecuteTime": {
     "end_time": "2021-08-28T12:50:52.771355Z",
     "start_time": "2021-08-28T12:50:52.752045Z"
    }
   },
   "outputs": [],
   "source": [
    "df.columns"
   ]
  },
  {
   "cell_type": "code",
   "execution_count": null,
   "id": "af583527",
   "metadata": {
    "ExecuteTime": {
     "end_time": "2021-08-28T12:50:54.709750Z",
     "start_time": "2021-08-28T12:50:54.702588Z"
    }
   },
   "outputs": [],
   "source": [
    "del_cols = ['date', 'game_size', 'max_placement', 'party_size', 'killed_by', 'killer_placement', \n",
    "            'killer_position_x', 'killer_position_y', 'map', 'time', 'victim_name', 'victim_placement', \n",
    "            'victim_position_x', 'victim_position_y', 'weapon']"
   ]
  },
  {
   "cell_type": "code",
   "execution_count": null,
   "id": "e8e59511",
   "metadata": {
    "ExecuteTime": {
     "end_time": "2021-08-28T12:53:15.546494Z",
     "start_time": "2021-08-28T12:50:54.777797Z"
    }
   },
   "outputs": [],
   "source": [
    "for col in del_cols:\n",
    "    del df[col]"
   ]
  },
  {
   "cell_type": "code",
   "execution_count": null,
   "id": "7c795c62",
   "metadata": {
    "ExecuteTime": {
     "end_time": "2021-08-28T12:53:59.013457Z",
     "start_time": "2021-08-28T12:53:58.961707Z"
    }
   },
   "outputs": [],
   "source": [
    "df.head()"
   ]
  },
  {
   "cell_type": "code",
   "execution_count": null,
   "id": "6249649f",
   "metadata": {
    "ExecuteTime": {
     "end_time": "2021-08-28T12:54:37.686373Z",
     "start_time": "2021-08-28T12:54:14.670818Z"
    }
   },
   "outputs": [],
   "source": [
    "df_top10 = df.copy()"
   ]
  },
  {
   "cell_type": "markdown",
   "id": "303487c5",
   "metadata": {},
   "source": [
    "## csv로 내보내기"
   ]
  },
  {
   "cell_type": "code",
   "execution_count": null,
   "id": "2d78517b",
   "metadata": {
    "ExecuteTime": {
     "end_time": "2021-08-28T13:12:55.434071Z",
     "start_time": "2021-08-28T12:54:47.284533Z"
    }
   },
   "outputs": [],
   "source": [
    "df.to_csv('../dataset/top_10_2.csv', index=False)"
   ]
  },
  {
   "cell_type": "code",
   "execution_count": null,
   "id": "53208d15",
   "metadata": {},
   "outputs": [],
   "source": [
    "# df.info()"
   ]
  },
  {
   "cell_type": "markdown",
   "id": "9ce88c52",
   "metadata": {},
   "source": [
    "# Feature 결정"
   ]
  },
  {
   "cell_type": "code",
   "execution_count": null,
   "id": "1682836d",
   "metadata": {
    "ExecuteTime": {
     "end_time": "2021-08-29T13:20:59.085956Z",
     "start_time": "2021-08-29T13:16:30.541523Z"
    }
   },
   "outputs": [],
   "source": [
    "df = pd.read_csv('../dataset/top_10_2.csv')"
   ]
  },
  {
   "cell_type": "code",
   "execution_count": null,
   "id": "4d8653fe",
   "metadata": {
    "ExecuteTime": {
     "end_time": "2021-08-29T13:20:59.119885Z",
     "start_time": "2021-08-29T13:20:59.101573Z"
    }
   },
   "outputs": [],
   "source": [
    "def top10(placement):\n",
    "    if placement < 4:\n",
    "        return 1\n",
    "    else:\n",
    "        return 0"
   ]
  },
  {
   "cell_type": "code",
   "execution_count": null,
   "id": "f5f37462",
   "metadata": {
    "ExecuteTime": {
     "end_time": "2021-08-29T13:21:10.932313Z",
     "start_time": "2021-08-29T13:20:59.123761Z"
    }
   },
   "outputs": [],
   "source": [
    "df['top10'] = df['team_placement'].apply(lambda x: top10(x))"
   ]
  },
  {
   "cell_type": "code",
   "execution_count": null,
   "id": "006b5e06",
   "metadata": {
    "ExecuteTime": {
     "end_time": "2021-08-29T13:21:21.618796Z",
     "start_time": "2021-08-29T13:21:10.934304Z"
    }
   },
   "outputs": [],
   "source": [
    "df.groupby(['kor_date', 'match_id', 'team_id'])['top10'].mean().value_counts().plot.bar()"
   ]
  },
  {
   "cell_type": "code",
   "execution_count": null,
   "id": "15f34114",
   "metadata": {
    "ExecuteTime": {
     "end_time": "2021-08-29T13:21:31.563084Z",
     "start_time": "2021-08-29T13:21:21.620483Z"
    }
   },
   "outputs": [],
   "source": [
    "df.groupby(['kor_date', 'match_id', 'team_id'])['top10'].mean().value_counts()"
   ]
  },
  {
   "cell_type": "code",
   "execution_count": null,
   "id": "cade3a55",
   "metadata": {
    "ExecuteTime": {
     "end_time": "2021-08-29T13:21:31.568045Z",
     "start_time": "2021-08-29T13:21:31.564667Z"
    }
   },
   "outputs": [],
   "source": [
    "801154/6365210"
   ]
  },
  {
   "cell_type": "markdown",
   "id": "1e10f851",
   "metadata": {},
   "source": [
    "## Column 분류하기\n",
    "\n",
    "**1. placement**\n",
    "* team_placement\n",
    "* top10\n",
    "\n",
    "**2. kill/damage/assist**\n",
    "* player_assists\n",
    "* player_dbno\n",
    "* player_dmg\n",
    "* player_kills\n",
    "* kda\n",
    "* dmg_per_kills\n",
    "* each_game_score\n",
    "* total_score\n",
    "* cum_each_game_score\n",
    "* cum_player_kills\n",
    "* cum_player_dmg\n",
    "* cum_player_assists\n",
    "* match_level\n",
    "* match_level_sum\n",
    "* team_level\n",
    "* team_level_sum\n",
    "\n",
    "**3. bug player**\n",
    "* outlier\n",
    "\n",
    "**4. play_count**\n",
    "* num_of_match\n",
    "* cum_num\n",
    "* team_cum_num\n",
    "\n",
    "**5. distance**\n",
    "* player_dist_ride\n",
    "* player_dist_walk\n",
    "* ride_ratio\n",
    "\n",
    "**6. position**\n",
    "* kill_dist\n",
    "* 강북\n",
    "* 강남\n",
    "* 포친키\n",
    "* 야스나야\n",
    "* 프리모스크\n",
    "* 밀리터리베이스\n",
    "* 밀타\n",
    "* 밀타파워\n",
    "* 노보\n",
    "* 리포브카\n",
    "* 로족\n",
    "* 자키\n",
    "* 서버니\n",
    "* 스타버\n",
    "* 스쿨\n",
    "* 통곡의다리1\n",
    "* 통곡의다리2\n",
    "\n",
    "**7. time**\n",
    "* player_survive_time\n",
    "* first_kill_time\n",
    "* tendency\n",
    "\n",
    "**8. weapon**\n",
    "* Down_and_Out\n",
    "* M416\n",
    "* M16A4\n",
    "* SCAR-L\n",
    "* AKM\n",
    "* short_range\n",
    "* middle_range\n",
    "* long_range\n",
    "* accident\n",
    "* throwables\n",
    "\n",
    "**9. date**\n",
    "* kor_date\n",
    "* day_of_week\n",
    "* weekend\n",
    "* date_time\n",
    "* time_zone\n",
    "\n",
    "**10. game info**\n",
    "* match_id\n",
    "* team_id\n",
    "* player_name"
   ]
  },
  {
   "cell_type": "markdown",
   "id": "3e1f1045",
   "metadata": {},
   "source": [
    "## 추가 변수 생성"
   ]
  },
  {
   "cell_type": "markdown",
   "id": "0c3fccef",
   "metadata": {},
   "source": [
    "* 누적 합\n",
    "    - outlier였던 횟수\n",
    "    - position_cols 횟수\n",
    "    - weapon_cols 횟수\n",
    "    - first_kill_time\n",
    "    - each_game_score\n",
    "    - player_dist_ride\n",
    "    - player_dist_walk"
   ]
  },
  {
   "cell_type": "code",
   "execution_count": null,
   "id": "ac5dd3a7",
   "metadata": {
    "ExecuteTime": {
     "end_time": "2021-08-29T13:21:31.572360Z",
     "start_time": "2021-08-29T13:21:31.569598Z"
    }
   },
   "outputs": [],
   "source": [
    "cum_sum = ['outlier', '강북', '강남', '포친키', '야스나야', '프리모스크', '밀리터리베이스', '밀타', '밀타파워', '노보', '리포브카',\n",
    "           '로족', '자키', '서버니', '스타버', '스쿨', '통곡의다리1', '통곡의다리2', 'Down_and_Out', 'M416', 'M16A4', \n",
    "           'SCAR-L', 'AKM', 'short_range', 'middle_range', 'long_range', 'accident', 'throwables']\n",
    "cum_mean = ['first_kill_time', 'tendency','player_dist_ride', 'player_dist_walk', 'kill_dist', \n",
    "            'ride_ratio', 'dmg_per_kills']"
   ]
  },
  {
   "cell_type": "markdown",
   "id": "c31fb48b",
   "metadata": {},
   "source": [
    "### 누적 합"
   ]
  },
  {
   "cell_type": "code",
   "execution_count": null,
   "id": "b88e5e4d",
   "metadata": {
    "ExecuteTime": {
     "end_time": "2021-08-29T11:17:42.283648Z",
     "start_time": "2021-08-29T11:15:49.521Z"
    }
   },
   "outputs": [],
   "source": [
    "df = df.sort_values(['kor_date', 'match_id'])\n",
    "\n",
    "df_cum_grp = df.groupby(['kor_date', 'match_id', 'player_name'])[cum_sum].mean().reset_index()\n",
    "\n",
    "df_cum_sum = df_cum_grp.groupby('player_name')[cum_sum].cumsum()\n",
    "\n",
    "df_cum_last = df_cum_sum.copy()\n",
    "for col in range(df_cum_sum.shape[1]):\n",
    "    df_cum_last.iloc[:, col] = df_cum_sum.iloc[:, col] - df_cum_grp.iloc[:, col + 3]\n",
    "df_cum_last.columns = list(map(lambda x: 'cum_' + x, cum_sum))\n",
    "\n",
    "df_cum = pd.concat([df_cum_grp, df_cum_last], axis=1)"
   ]
  },
  {
   "cell_type": "code",
   "execution_count": null,
   "id": "32c8b320",
   "metadata": {
    "ExecuteTime": {
     "end_time": "2021-08-29T11:17:42.284492Z",
     "start_time": "2021-08-29T11:15:49.983Z"
    }
   },
   "outputs": [],
   "source": [
    "df_cum_m = df_cum[['kor_date', 'match_id', 'player_name'] + list(map(lambda x: 'cum_' + x, cum_sum))]"
   ]
  },
  {
   "cell_type": "code",
   "execution_count": null,
   "id": "4d7c2358",
   "metadata": {
    "ExecuteTime": {
     "end_time": "2021-08-29T11:17:42.285428Z",
     "start_time": "2021-08-29T11:15:50.523Z"
    }
   },
   "outputs": [],
   "source": [
    "df = pd.merge(df, df_cum_m, how='left', on=['kor_date', 'match_id', 'player_name'])"
   ]
  },
  {
   "cell_type": "markdown",
   "id": "f9d7295d",
   "metadata": {},
   "source": [
    "### 누적 평균"
   ]
  },
  {
   "cell_type": "code",
   "execution_count": null,
   "id": "80b3470a",
   "metadata": {
    "ExecuteTime": {
     "end_time": "2021-08-29T11:17:42.286313Z",
     "start_time": "2021-08-29T11:15:53.447Z"
    }
   },
   "outputs": [],
   "source": [
    "df = df.sort_values(['kor_date', 'match_id'])\n",
    "\n",
    "df_cum_grp = df.groupby(['kor_date', 'match_id', 'player_name'])[cum_mean].mean().reset_index()\n",
    "\n",
    "df_cum_sum = df_cum_grp.groupby('player_name')[cum_mean].cumsum()\n",
    "\n",
    "df_cum_last = df_cum_sum.copy()\n",
    "for col in range(df_cum_sum.shape[1]):\n",
    "    df_cum_last.iloc[:, col] = df_cum_sum.iloc[:, col] - df_cum_grp.iloc[:, col + 3]\n",
    "df_cum_last.columns = list(map(lambda x: 'mean_' + x, cum_mean))\n",
    "\n",
    "df_cum = pd.concat([df_cum_grp, df_cum_last], axis=1)"
   ]
  },
  {
   "cell_type": "code",
   "execution_count": null,
   "id": "b8746507",
   "metadata": {
    "ExecuteTime": {
     "end_time": "2021-08-29T11:17:42.287263Z",
     "start_time": "2021-08-29T11:15:54.021Z"
    }
   },
   "outputs": [],
   "source": [
    "df_cum_m = df_cum[['kor_date', 'match_id', 'player_name'] + list(map(lambda x: 'mean_' + x, cum_mean))]"
   ]
  },
  {
   "cell_type": "code",
   "execution_count": null,
   "id": "d5ad5c14",
   "metadata": {
    "ExecuteTime": {
     "end_time": "2021-08-29T11:17:42.288177Z",
     "start_time": "2021-08-29T11:15:54.505Z"
    }
   },
   "outputs": [],
   "source": [
    "df = pd.merge(df, df_cum_m, how='left', on=['kor_date', 'match_id', 'player_name'])"
   ]
  },
  {
   "cell_type": "code",
   "execution_count": null,
   "id": "86361578",
   "metadata": {
    "ExecuteTime": {
     "end_time": "2021-08-29T11:17:42.288988Z",
     "start_time": "2021-08-29T11:15:54.999Z"
    }
   },
   "outputs": [],
   "source": [
    "df['mean_first_kill_time'] = df['mean_first_kill_time']/df['cum_num']\n",
    "df['mean_tendency'] = df['mean_tendency']/df['cum_num']\n",
    "df['mean_player_dist_ride'] = df['mean_player_dist_ride']/df['cum_num']\n",
    "df['mean_player_dist_walk'] = df['mean_player_dist_walk']/df['cum_num']\n",
    "df['mean_dmg_per_kills'] = df['mean_dmg_per_kills']/df['cum_num']\n",
    "df['mean_ride_ratio'] =  df['mean_ride_ratio']/df['cum_num']\n",
    "df['mean_kill_dist'] = df['mean_kill_dist']/df['cum_num']"
   ]
  },
  {
   "cell_type": "markdown",
   "id": "b412af67",
   "metadata": {},
   "source": [
    "## (Cumulative ver) Feature 결정"
   ]
  },
  {
   "cell_type": "code",
   "execution_count": null,
   "id": "bd966813",
   "metadata": {
    "ExecuteTime": {
     "end_time": "2021-08-29T11:17:42.289899Z",
     "start_time": "2021-08-29T11:16:07.780Z"
    }
   },
   "outputs": [],
   "source": [
    "df.columns"
   ]
  },
  {
   "cell_type": "code",
   "execution_count": null,
   "id": "bdbacac2",
   "metadata": {
    "ExecuteTime": {
     "end_time": "2021-08-29T11:17:42.290782Z",
     "start_time": "2021-08-29T11:16:08.253Z"
    }
   },
   "outputs": [],
   "source": [
    "cum_position = ['cum_강북', 'cum_강남', 'cum_포친키', 'cum_야스나야', 'cum_프리모스크', 'cum_밀리터리베이스',\n",
    "                'cum_밀타', 'cum_밀타파워', 'cum_노보', 'cum_리포브카', 'cum_로족', 'cum_자키',\n",
    "                'cum_서버니', 'cum_스타버', 'cum_스쿨', 'cum_통곡의다리1', 'cum_통곡의다리2']\n",
    "cum_weapon = ['cum_Down_and_Out', 'cum_M416', 'cum_M16A4', 'cum_SCAR-L', 'cum_AKM', 'cum_short_range', \n",
    "              'cum_middle_range', 'cum_long_range', 'cum_accident','cum_throwables']\n",
    "level = ['match_level', 'match_level_sum', 'team_level', 'team_level_sum', 'cum_num', 'team_cum_num',\n",
    "         'cum_each_game_score', 'cum_outlier', 'mean_dmg_per_kills']\n",
    "mean = ['mean_kill_dist', 'mean_first_kill_time', 'mean_tendency', 'mean_player_dist_walk', \n",
    "        'mean_player_dist_ride', 'mean_ride_ratio']"
   ]
  },
  {
   "cell_type": "code",
   "execution_count": null,
   "id": "c06c8e25",
   "metadata": {
    "ExecuteTime": {
     "end_time": "2021-08-29T05:48:25.122115Z",
     "start_time": "2021-08-29T05:47:02.752233Z"
    }
   },
   "outputs": [],
   "source": [
    "X_raw = df[['kor_date', 'match_id', 'team_id', 'player_name', 'top10'] + level + mean + cum_weapon + cum_position]"
   ]
  },
  {
   "cell_type": "code",
   "execution_count": null,
   "id": "978f5b84",
   "metadata": {},
   "outputs": [],
   "source": [
    "X = X_raw[['kor_date', 'match_id', 'team_id', 'player_name', 'top10'] \n",
    "          + ['match_level', 'tema_level', 'team_cum_num', 'cum_outlier']\n",
    "          + ['mean_tendency', 'mean_ride_ratio']]"
   ]
  },
  {
   "cell_type": "code",
   "execution_count": null,
   "id": "08e05f7c",
   "metadata": {
    "ExecuteTime": {
     "end_time": "2021-08-29T06:34:08.310915Z",
     "start_time": "2021-08-29T06:34:08.308704Z"
    }
   },
   "outputs": [],
   "source": [
    "pd.set_option('display.max_columns', None)"
   ]
  },
  {
   "cell_type": "code",
   "execution_count": null,
   "id": "f51a5fcc",
   "metadata": {
    "ExecuteTime": {
     "end_time": "2021-08-29T06:35:52.662766Z",
     "start_time": "2021-08-29T06:35:01.151096Z"
    }
   },
   "outputs": [],
   "source": [
    "df_F = df.copy()"
   ]
  },
  {
   "cell_type": "markdown",
   "id": "b2ce280a",
   "metadata": {},
   "source": [
    "## Groupby"
   ]
  },
  {
   "cell_type": "code",
   "execution_count": null,
   "id": "be2309d0",
   "metadata": {
    "ExecuteTime": {
     "end_time": "2021-08-29T13:21:31.578554Z",
     "start_time": "2021-08-29T13:21:31.574875Z"
    }
   },
   "outputs": [],
   "source": [
    "df.columns"
   ]
  },
  {
   "cell_type": "code",
   "execution_count": null,
   "id": "9d77b270",
   "metadata": {
    "ExecuteTime": {
     "end_time": "2021-08-29T13:21:35.100205Z",
     "start_time": "2021-08-29T13:21:31.580073Z"
    }
   },
   "outputs": [],
   "source": [
    "df['hot_place'] = df['강북'] + df['강남'] + df['포친키'] + df['야스나야'] + df['프리모스크'] + df['밀리터리베이스'] + df['밀타'] + df['밀타파워'] + df['노보'] + df['리포브카'] + df['로족'] + df['자키']+ df['서버니'] + df['스타버'] + df['스쿨'] + df['통곡의다리1'] + df['통곡의다리2']"
   ]
  },
  {
   "cell_type": "code",
   "execution_count": null,
   "id": "56f971be",
   "metadata": {
    "ExecuteTime": {
     "end_time": "2021-08-29T14:00:21.827537Z",
     "start_time": "2021-08-29T14:00:21.824167Z"
    }
   },
   "outputs": [],
   "source": [
    "mean_cols = ['top10', 'player_assists', 'player_dbno', 'player_dist_ride', 'player_dist_walk', \n",
    "             'player_dmg', 'player_kills', 'player_survive_time', 'total_score','day_of_week', 'first_kill_time',\n",
    "             'tendency', 'kill_dist', 'weekend', 'date_time', 'dmg_per_kills', 'ride_ratio','cum_each_game_score', \n",
    "             'cum_player_kills', 'cum_player_dmg', 'cum_player_assists', 'cum_num', 'match_level', \n",
    "             'team_level_sum', 'team_cum_num', 'match_level_sum', 'team_level']\n",
    "\n",
    "sum_cols = ['hot_place', 'M416', 'M16A4', 'SCAR-L', 'AKM', 'short_range', 'middle_range', 'long_range', \n",
    "            'accident', 'throwables']\n",
    "\n",
    "mean_sum_cols = ['num_of_match']\n",
    "\n",
    "max_sum_cols = ['outlier']"
   ]
  },
  {
   "cell_type": "code",
   "execution_count": null,
   "id": "f9153107",
   "metadata": {
    "ExecuteTime": {
     "end_time": "2021-08-29T13:22:42.976131Z",
     "start_time": "2021-08-29T13:21:39.671681Z"
    },
    "scrolled": true
   },
   "outputs": [],
   "source": [
    "df[mean_cols + sum_cols].isnull().sum()"
   ]
  },
  {
   "cell_type": "code",
   "execution_count": null,
   "id": "394e1936",
   "metadata": {
    "ExecuteTime": {
     "end_time": "2021-08-29T13:22:44.469707Z",
     "start_time": "2021-08-29T13:22:42.981058Z"
    }
   },
   "outputs": [],
   "source": [
    "df['team_level'] = df['team_level'].fillna(0)\n",
    "df['dmg_per_kills'] = df['dmg_per_kills'].fillna(0)\n",
    "df['ride_ratio'] = df['ride_ratio'].fillna(0)\n",
    "df['first_kill_time'] = df['first_kill_time'].fillna(-1) "
   ]
  },
  {
   "cell_type": "code",
   "execution_count": null,
   "id": "135e1421",
   "metadata": {
    "ExecuteTime": {
     "end_time": "2021-08-29T13:57:45.898563Z",
     "start_time": "2021-08-29T13:57:45.698463Z"
    }
   },
   "outputs": [],
   "source": [
    "df_m_s['outlier'].value_counts()"
   ]
  },
  {
   "cell_type": "code",
   "execution_count": null,
   "id": "704dcf13",
   "metadata": {
    "ExecuteTime": {
     "end_time": "2021-08-29T13:57:28.884577Z",
     "start_time": "2021-08-29T13:57:28.794424Z"
    }
   },
   "outputs": [],
   "source": [
    "df_m_s_t['outlier'].value_counts()"
   ]
  },
  {
   "cell_type": "code",
   "execution_count": null,
   "id": "c8e4bc76",
   "metadata": {
    "ExecuteTime": {
     "end_time": "2021-08-29T14:12:20.008562Z",
     "start_time": "2021-08-29T14:10:09.249769Z"
    }
   },
   "outputs": [],
   "source": [
    "df_mean = df.groupby(['kor_date', 'match_id', 'team_id', 'player_name'])[mean_cols].mean().reset_index()"
   ]
  },
  {
   "cell_type": "code",
   "execution_count": null,
   "id": "36a2618b",
   "metadata": {
    "ExecuteTime": {
     "end_time": "2021-08-29T14:12:53.082859Z",
     "start_time": "2021-08-29T14:12:20.012895Z"
    }
   },
   "outputs": [],
   "source": [
    "df_mean_t = df_mean.groupby(['kor_date', 'match_id', 'team_id'])[mean_cols].mean().reset_index()"
   ]
  },
  {
   "cell_type": "code",
   "execution_count": null,
   "id": "6053c392",
   "metadata": {
    "ExecuteTime": {
     "end_time": "2021-08-29T14:13:54.366548Z",
     "start_time": "2021-08-29T14:12:53.088009Z"
    }
   },
   "outputs": [],
   "source": [
    "df_sum = df.groupby(['kor_date', 'match_id', 'team_id', 'player_name'])[sum_cols].sum().reset_index()"
   ]
  },
  {
   "cell_type": "code",
   "execution_count": null,
   "id": "de1f772c",
   "metadata": {
    "ExecuteTime": {
     "end_time": "2021-08-29T14:14:08.486143Z",
     "start_time": "2021-08-29T14:13:54.369232Z"
    }
   },
   "outputs": [],
   "source": [
    "df_sum_t = df_sum.groupby(['kor_date', 'match_id', 'team_id'])[sum_cols].sum().reset_index()"
   ]
  },
  {
   "cell_type": "code",
   "execution_count": null,
   "id": "eca63615",
   "metadata": {
    "ExecuteTime": {
     "end_time": "2021-08-29T14:14:55.957560Z",
     "start_time": "2021-08-29T14:14:08.488146Z"
    }
   },
   "outputs": [],
   "source": [
    "num_match = df.groupby(['kor_date', 'match_id', 'team_id', 'player_name'])[mean_sum_cols].mean().reset_index()"
   ]
  },
  {
   "cell_type": "code",
   "execution_count": null,
   "id": "0cd9be98",
   "metadata": {
    "ExecuteTime": {
     "end_time": "2021-08-29T14:15:07.069869Z",
     "start_time": "2021-08-29T14:14:55.959241Z"
    }
   },
   "outputs": [],
   "source": [
    "num_match_t = num_match.groupby(['kor_date', 'match_id', 'team_id'])[mean_sum_cols].sum().reset_index()"
   ]
  },
  {
   "cell_type": "code",
   "execution_count": null,
   "id": "5ae11a0d",
   "metadata": {
    "ExecuteTime": {
     "end_time": "2021-08-29T14:15:54.316671Z",
     "start_time": "2021-08-29T14:15:07.071587Z"
    }
   },
   "outputs": [],
   "source": [
    "outlier = df.groupby(['kor_date', 'match_id', 'team_id', 'player_name'])[max_sum_cols].max().reset_index()"
   ]
  },
  {
   "cell_type": "code",
   "execution_count": null,
   "id": "f104e974",
   "metadata": {
    "ExecuteTime": {
     "end_time": "2021-08-29T14:16:05.169845Z",
     "start_time": "2021-08-29T14:15:54.319703Z"
    }
   },
   "outputs": [],
   "source": [
    "outlier_t = outlier.groupby(['kor_date', 'match_id', 'team_id'])[max_sum_cols].sum().reset_index()"
   ]
  },
  {
   "cell_type": "code",
   "execution_count": null,
   "id": "cd7c5a38",
   "metadata": {
    "ExecuteTime": {
     "end_time": "2021-08-29T14:16:19.955898Z",
     "start_time": "2021-08-29T14:16:05.171612Z"
    }
   },
   "outputs": [],
   "source": [
    "df_t = pd.merge(df_mean_t, df_sum_t, how='left', on=['kor_date', 'match_id', 'team_id'])"
   ]
  },
  {
   "cell_type": "code",
   "execution_count": null,
   "id": "5bc4dc38",
   "metadata": {
    "ExecuteTime": {
     "end_time": "2021-08-29T14:16:26.597964Z",
     "start_time": "2021-08-29T14:16:19.957488Z"
    }
   },
   "outputs": [],
   "source": [
    "df_t = pd.merge(df_t, num_match_t, how='left', on=['kor_date', 'match_id', 'team_id'])"
   ]
  },
  {
   "cell_type": "code",
   "execution_count": null,
   "id": "c66ade57",
   "metadata": {
    "ExecuteTime": {
     "end_time": "2021-08-29T14:16:32.014559Z",
     "start_time": "2021-08-29T14:16:26.599519Z"
    }
   },
   "outputs": [],
   "source": [
    "df_t = pd.merge(df_t, outlier_t, how='left', on=['kor_date', 'match_id', 'team_id'])"
   ]
  },
  {
   "cell_type": "code",
   "execution_count": null,
   "id": "568331bc",
   "metadata": {
    "ExecuteTime": {
     "end_time": "2021-08-29T14:16:32.037398Z",
     "start_time": "2021-08-29T14:16:32.016865Z"
    },
    "scrolled": true
   },
   "outputs": [],
   "source": [
    "df_t.info()"
   ]
  },
  {
   "cell_type": "code",
   "execution_count": null,
   "id": "c0f7eebd",
   "metadata": {
    "ExecuteTime": {
     "end_time": "2021-08-29T14:16:40.225270Z",
     "start_time": "2021-08-29T14:16:40.016711Z"
    }
   },
   "outputs": [],
   "source": [
    "outlier['outlier'].value_counts()"
   ]
  },
  {
   "cell_type": "code",
   "execution_count": null,
   "id": "6d3b3fc4",
   "metadata": {
    "ExecuteTime": {
     "end_time": "2021-08-29T14:16:41.552858Z",
     "start_time": "2021-08-29T14:16:41.488683Z"
    }
   },
   "outputs": [],
   "source": [
    "df_t['outlier'].value_counts()"
   ]
  },
  {
   "cell_type": "code",
   "execution_count": null,
   "id": "b3b5cb43",
   "metadata": {
    "ExecuteTime": {
     "end_time": "2021-08-29T14:20:12.366985Z",
     "start_time": "2021-08-29T14:16:48.441831Z"
    }
   },
   "outputs": [],
   "source": [
    "df_t.to_csv('../dataset/team.csv', index=False)"
   ]
  },
  {
   "cell_type": "markdown",
   "id": "a39b6580",
   "metadata": {},
   "source": [
    "## Feature 확인"
   ]
  },
  {
   "cell_type": "code",
   "execution_count": 20,
   "id": "05376163",
   "metadata": {
    "ExecuteTime": {
     "end_time": "2021-09-12T00:19:28.626991Z",
     "start_time": "2021-09-12T00:19:26.741359Z"
    }
   },
   "outputs": [],
   "source": [
    "df_t.loc[df_t['top10'] == 1, 'top10'] = 'Top10'\n",
    "df_t.loc[df_t['top10'] == 0, 'top10'] = 'Not Top10'"
   ]
  },
  {
   "cell_type": "markdown",
   "id": "935f16ef",
   "metadata": {},
   "source": [
    "### 무기"
   ]
  },
  {
   "cell_type": "code",
   "execution_count": 21,
   "id": "5aad452e",
   "metadata": {
    "ExecuteTime": {
     "end_time": "2021-09-12T00:19:37.798035Z",
     "start_time": "2021-09-12T00:19:37.041638Z"
    }
   },
   "outputs": [],
   "source": [
    "w = df_t.groupby(['top10'])[['M416', 'M16A4', 'SCAR-L', 'AKM', 'short_range', 'middle_range', 'long_range', \n",
    "                             'accident', 'throwables']].sum().reset_index()"
   ]
  },
  {
   "cell_type": "code",
   "execution_count": 22,
   "id": "5c997322",
   "metadata": {
    "ExecuteTime": {
     "end_time": "2021-09-12T00:19:38.550855Z",
     "start_time": "2021-09-12T00:19:38.545572Z"
    }
   },
   "outputs": [],
   "source": [
    "w2 = pd.melt(w, id_vars='top10')"
   ]
  },
  {
   "cell_type": "code",
   "execution_count": 23,
   "id": "f4182f09",
   "metadata": {
    "ExecuteTime": {
     "end_time": "2021-09-12T00:19:39.311367Z",
     "start_time": "2021-09-12T00:19:39.308824Z"
    }
   },
   "outputs": [],
   "source": [
    "w2.columns = ['top10', 'weapons', 'counts']"
   ]
  },
  {
   "cell_type": "code",
   "execution_count": 24,
   "id": "69bc86ed",
   "metadata": {
    "ExecuteTime": {
     "end_time": "2021-09-12T00:19:40.359746Z",
     "start_time": "2021-09-12T00:19:40.352124Z"
    }
   },
   "outputs": [
    {
     "data": {
      "text/html": [
       "<div>\n",
       "<style scoped>\n",
       "    .dataframe tbody tr th:only-of-type {\n",
       "        vertical-align: middle;\n",
       "    }\n",
       "\n",
       "    .dataframe tbody tr th {\n",
       "        vertical-align: top;\n",
       "    }\n",
       "\n",
       "    .dataframe thead th {\n",
       "        text-align: right;\n",
       "    }\n",
       "</style>\n",
       "<table border=\"1\" class=\"dataframe\">\n",
       "  <thead>\n",
       "    <tr style=\"text-align: right;\">\n",
       "      <th></th>\n",
       "      <th>top10</th>\n",
       "      <th>weapons</th>\n",
       "      <th>counts</th>\n",
       "    </tr>\n",
       "  </thead>\n",
       "  <tbody>\n",
       "    <tr>\n",
       "      <th>0</th>\n",
       "      <td>Not Top10</td>\n",
       "      <td>M416</td>\n",
       "      <td>1533358.000</td>\n",
       "    </tr>\n",
       "    <tr>\n",
       "      <th>1</th>\n",
       "      <td>Top10</td>\n",
       "      <td>M416</td>\n",
       "      <td>842361.000</td>\n",
       "    </tr>\n",
       "    <tr>\n",
       "      <th>2</th>\n",
       "      <td>Not Top10</td>\n",
       "      <td>M16A4</td>\n",
       "      <td>1530080.000</td>\n",
       "    </tr>\n",
       "    <tr>\n",
       "      <th>3</th>\n",
       "      <td>Top10</td>\n",
       "      <td>M16A4</td>\n",
       "      <td>542935.000</td>\n",
       "    </tr>\n",
       "    <tr>\n",
       "      <th>4</th>\n",
       "      <td>Not Top10</td>\n",
       "      <td>SCAR-L</td>\n",
       "      <td>1318171.000</td>\n",
       "    </tr>\n",
       "    <tr>\n",
       "      <th>5</th>\n",
       "      <td>Top10</td>\n",
       "      <td>SCAR-L</td>\n",
       "      <td>661551.000</td>\n",
       "    </tr>\n",
       "    <tr>\n",
       "      <th>6</th>\n",
       "      <td>Not Top10</td>\n",
       "      <td>AKM</td>\n",
       "      <td>1437947.000</td>\n",
       "    </tr>\n",
       "    <tr>\n",
       "      <th>7</th>\n",
       "      <td>Top10</td>\n",
       "      <td>AKM</td>\n",
       "      <td>463282.000</td>\n",
       "    </tr>\n",
       "    <tr>\n",
       "      <th>8</th>\n",
       "      <td>Not Top10</td>\n",
       "      <td>short_range</td>\n",
       "      <td>3069261.000</td>\n",
       "    </tr>\n",
       "    <tr>\n",
       "      <th>9</th>\n",
       "      <td>Top10</td>\n",
       "      <td>short_range</td>\n",
       "      <td>344558.000</td>\n",
       "    </tr>\n",
       "    <tr>\n",
       "      <th>10</th>\n",
       "      <td>Not Top10</td>\n",
       "      <td>middle_range</td>\n",
       "      <td>1885699.000</td>\n",
       "    </tr>\n",
       "    <tr>\n",
       "      <th>11</th>\n",
       "      <td>Top10</td>\n",
       "      <td>middle_range</td>\n",
       "      <td>413236.000</td>\n",
       "    </tr>\n",
       "    <tr>\n",
       "      <th>12</th>\n",
       "      <td>Not Top10</td>\n",
       "      <td>long_range</td>\n",
       "      <td>1133379.000</td>\n",
       "    </tr>\n",
       "    <tr>\n",
       "      <th>13</th>\n",
       "      <td>Top10</td>\n",
       "      <td>long_range</td>\n",
       "      <td>800136.000</td>\n",
       "    </tr>\n",
       "    <tr>\n",
       "      <th>14</th>\n",
       "      <td>Not Top10</td>\n",
       "      <td>accident</td>\n",
       "      <td>506548.000</td>\n",
       "    </tr>\n",
       "    <tr>\n",
       "      <th>15</th>\n",
       "      <td>Top10</td>\n",
       "      <td>accident</td>\n",
       "      <td>221210.000</td>\n",
       "    </tr>\n",
       "    <tr>\n",
       "      <th>16</th>\n",
       "      <td>Not Top10</td>\n",
       "      <td>throwables</td>\n",
       "      <td>341246.000</td>\n",
       "    </tr>\n",
       "    <tr>\n",
       "      <th>17</th>\n",
       "      <td>Top10</td>\n",
       "      <td>throwables</td>\n",
       "      <td>109323.000</td>\n",
       "    </tr>\n",
       "  </tbody>\n",
       "</table>\n",
       "</div>"
      ],
      "text/plain": [
       "        top10       weapons      counts\n",
       "0   Not Top10          M416 1533358.000\n",
       "1       Top10          M416  842361.000\n",
       "2   Not Top10         M16A4 1530080.000\n",
       "3       Top10         M16A4  542935.000\n",
       "4   Not Top10        SCAR-L 1318171.000\n",
       "5       Top10        SCAR-L  661551.000\n",
       "6   Not Top10           AKM 1437947.000\n",
       "7       Top10           AKM  463282.000\n",
       "8   Not Top10   short_range 3069261.000\n",
       "9       Top10   short_range  344558.000\n",
       "10  Not Top10  middle_range 1885699.000\n",
       "11      Top10  middle_range  413236.000\n",
       "12  Not Top10    long_range 1133379.000\n",
       "13      Top10    long_range  800136.000\n",
       "14  Not Top10      accident  506548.000\n",
       "15      Top10      accident  221210.000\n",
       "16  Not Top10    throwables  341246.000\n",
       "17      Top10    throwables  109323.000"
      ]
     },
     "execution_count": 24,
     "metadata": {},
     "output_type": "execute_result"
    }
   ],
   "source": [
    "w2"
   ]
  },
  {
   "cell_type": "code",
   "execution_count": 17,
   "id": "b9712281",
   "metadata": {
    "ExecuteTime": {
     "end_time": "2021-09-12T00:01:30.951038Z",
     "start_time": "2021-09-12T00:01:30.801388Z"
    }
   },
   "outputs": [
    {
     "data": {
      "text/plain": [
       "<AxesSubplot:xlabel='counts', ylabel='weapons'>"
      ]
     },
     "execution_count": 17,
     "metadata": {},
     "output_type": "execute_result"
    },
    {
     "data": {
      "image/png": "[encoded data removed]",
      "text/plain": [
       "<Figure size 720x504 with 1 Axes>"
      ]
     },
     "metadata": {
      "needs_background": "light"
     },
     "output_type": "display_data"
    }
   ],
   "source": [
    "plt.figure(figsize=(10, 7))\n",
    "plt.ticklabel_format(style='plain')\n",
    "sns.barplot(data=w2, x='counts', y='weapons', hue='top10', ci=None)"
   ]
  },
  {
   "cell_type": "markdown",
   "id": "a9899f2c",
   "metadata": {},
   "source": [
    "### Outlier"
   ]
  },
  {
   "cell_type": "code",
   "execution_count": 30,
   "id": "cd07e519",
   "metadata": {
    "ExecuteTime": {
     "end_time": "2021-09-12T00:27:33.076133Z",
     "start_time": "2021-09-12T00:27:28.255773Z"
    }
   },
   "outputs": [],
   "source": [
    "o = df_t.groupby(['kor_date', 'match_id', 'team_id', 'top10'])[['outlier']].mean().reset_index()"
   ]
  },
  {
   "cell_type": "code",
   "execution_count": 27,
   "id": "363956ca",
   "metadata": {
    "ExecuteTime": {
     "end_time": "2021-09-12T00:20:47.304967Z",
     "start_time": "2021-09-12T00:20:46.552865Z"
    }
   },
   "outputs": [
    {
     "data": {
      "text/plain": [
       "top10      outlier\n",
       "Not Top10  0.000     0.917\n",
       "           1.000     0.077\n",
       "           2.000     0.005\n",
       "           3.000     0.000\n",
       "           4.000     0.000\n",
       "Top10      0.000     0.666\n",
       "           1.000     0.164\n",
       "           2.000     0.060\n",
       "           3.000     0.056\n",
       "           4.000     0.055\n",
       "Name: outlier, dtype: float64"
      ]
     },
     "execution_count": 27,
     "metadata": {},
     "output_type": "execute_result"
    }
   ],
   "source": [
    "o.groupby(['top10'])['outlier'].value_counts(normalize=True)"
   ]
  },
  {
   "cell_type": "markdown",
   "id": "06f7fdeb",
   "metadata": {},
   "source": [
    "### 요일/시간대"
   ]
  },
  {
   "cell_type": "code",
   "execution_count": 31,
   "id": "cd472904",
   "metadata": {
    "ExecuteTime": {
     "end_time": "2021-09-12T00:27:58.572542Z",
     "start_time": "2021-09-12T00:27:56.849263Z"
    }
   },
   "outputs": [],
   "source": [
    "d = df_t.groupby(['kor_date', 'match_id'])[['day_of_week', 'date_time', 'match_level']].mean().reset_index()"
   ]
  },
  {
   "cell_type": "code",
   "execution_count": 33,
   "id": "0ab2111e",
   "metadata": {
    "ExecuteTime": {
     "end_time": "2021-09-12T00:29:33.881973Z",
     "start_time": "2021-09-12T00:29:33.878972Z"
    }
   },
   "outputs": [],
   "source": [
    "def day_of_week(num):\n",
    "    week = [x for x in '월화수목금토일']\n",
    "    return week[num]"
   ]
  },
  {
   "cell_type": "code",
   "execution_count": 38,
   "id": "b9959d1b",
   "metadata": {
    "ExecuteTime": {
     "end_time": "2021-09-12T00:31:05.482799Z",
     "start_time": "2021-09-12T00:31:05.477444Z"
    }
   },
   "outputs": [],
   "source": [
    "d['day_of_week'] = d['day_of_week'].astype('int')\n",
    "d['date_time'] = d['date_time'].astype('int')"
   ]
  },
  {
   "cell_type": "code",
   "execution_count": 36,
   "id": "da5f0a80",
   "metadata": {
    "ExecuteTime": {
     "end_time": "2021-09-12T00:30:33.775240Z",
     "start_time": "2021-09-12T00:30:33.602318Z"
    }
   },
   "outputs": [],
   "source": [
    "d['day_of_week'] = d['day_of_week'].apply(lambda x: day_of_week(x))"
   ]
  },
  {
   "cell_type": "code",
   "execution_count": 42,
   "id": "599ed1ce",
   "metadata": {
    "ExecuteTime": {
     "end_time": "2021-09-12T00:33:13.426378Z",
     "start_time": "2021-09-12T00:33:13.415417Z"
    }
   },
   "outputs": [
    {
     "data": {
      "text/html": [
       "<div>\n",
       "<style scoped>\n",
       "    .dataframe tbody tr th:only-of-type {\n",
       "        vertical-align: middle;\n",
       "    }\n",
       "\n",
       "    .dataframe tbody tr th {\n",
       "        vertical-align: top;\n",
       "    }\n",
       "\n",
       "    .dataframe thead th {\n",
       "        text-align: right;\n",
       "    }\n",
       "</style>\n",
       "<table border=\"1\" class=\"dataframe\">\n",
       "  <thead>\n",
       "    <tr style=\"text-align: right;\">\n",
       "      <th></th>\n",
       "      <th>kor_date</th>\n",
       "      <th>match_id</th>\n",
       "      <th>day_of_week</th>\n",
       "      <th>date_time</th>\n",
       "      <th>match_level</th>\n",
       "    </tr>\n",
       "  </thead>\n",
       "  <tbody>\n",
       "    <tr>\n",
       "      <th>0</th>\n",
       "      <td>2017-10-20 17:01:07+00:00</td>\n",
       "      <td>2U4GBNA0Yml6KV2X5zKbFWJzGxFNOvOB8zq4gwaVkAyf_p...</td>\n",
       "      <td>금</td>\n",
       "      <td>17</td>\n",
       "      <td>0.000</td>\n",
       "    </tr>\n",
       "    <tr>\n",
       "      <th>1</th>\n",
       "      <td>2017-10-20 17:01:47+00:00</td>\n",
       "      <td>2U4GBNA0Ymk-ID_zUziPaMOji_UXwlTUSeMUHmEmfUQLiZ...</td>\n",
       "      <td>금</td>\n",
       "      <td>17</td>\n",
       "      <td>0.000</td>\n",
       "    </tr>\n",
       "    <tr>\n",
       "      <th>2</th>\n",
       "      <td>2017-10-20 17:03:30+00:00</td>\n",
       "      <td>2U4GBNA0YmmBg8gn2Uj-2kGqxinW4XmsxwWa7mMZ_4B4yv...</td>\n",
       "      <td>금</td>\n",
       "      <td>17</td>\n",
       "      <td>0.000</td>\n",
       "    </tr>\n",
       "    <tr>\n",
       "      <th>3</th>\n",
       "      <td>2017-10-20 17:03:59+00:00</td>\n",
       "      <td>2U4GBNA0YmlEBszzfxUBBnoPcnidsfH-okTvRedswuK0Vv...</td>\n",
       "      <td>금</td>\n",
       "      <td>17</td>\n",
       "      <td>0.000</td>\n",
       "    </tr>\n",
       "    <tr>\n",
       "      <th>4</th>\n",
       "      <td>2017-10-20 17:04:07+00:00</td>\n",
       "      <td>2U4GBNA0YmnhUTz5Am57zhOPYGf8pBKvWlCLDlEHcykY-n...</td>\n",
       "      <td>금</td>\n",
       "      <td>17</td>\n",
       "      <td>0.000</td>\n",
       "    </tr>\n",
       "    <tr>\n",
       "      <th>...</th>\n",
       "      <td>...</td>\n",
       "      <td>...</td>\n",
       "      <td>...</td>\n",
       "      <td>...</td>\n",
       "      <td>...</td>\n",
       "    </tr>\n",
       "    <tr>\n",
       "      <th>267325</th>\n",
       "      <td>2018-01-10 20:45:46+00:00</td>\n",
       "      <td>2U4GBNA0YmkHj1ElQlasEXp2o4lkaK1TS7YNGgQXcGfB8m...</td>\n",
       "      <td>수</td>\n",
       "      <td>20</td>\n",
       "      <td>46.556</td>\n",
       "    </tr>\n",
       "    <tr>\n",
       "      <th>267326</th>\n",
       "      <td>2018-01-10 20:50:08+00:00</td>\n",
       "      <td>2U4GBNA0YmkhGAMNLcoVK4tdSyGtbhlzSBpZZ3Mvk4hhFU...</td>\n",
       "      <td>수</td>\n",
       "      <td>20</td>\n",
       "      <td>45.915</td>\n",
       "    </tr>\n",
       "    <tr>\n",
       "      <th>267327</th>\n",
       "      <td>2018-01-10 20:51:13+00:00</td>\n",
       "      <td>2U4GBNA0YmmzDCa5OQUnuhNrl101XV6sbZWQTH9qFIBEL8...</td>\n",
       "      <td>수</td>\n",
       "      <td>20</td>\n",
       "      <td>18.440</td>\n",
       "    </tr>\n",
       "    <tr>\n",
       "      <th>267328</th>\n",
       "      <td>2018-01-10 20:53:30+00:00</td>\n",
       "      <td>2U4GBNA0YmncIoDjHBmmazW-zU8FH34QHeda1RDAX6gsG1...</td>\n",
       "      <td>수</td>\n",
       "      <td>20</td>\n",
       "      <td>13.401</td>\n",
       "    </tr>\n",
       "    <tr>\n",
       "      <th>267329</th>\n",
       "      <td>2018-01-10 20:54:18+00:00</td>\n",
       "      <td>2U4GBNA0YmmON-6HaqCFBfMmkJHkTe0blndvQBWmYL4mW3...</td>\n",
       "      <td>수</td>\n",
       "      <td>20</td>\n",
       "      <td>18.548</td>\n",
       "    </tr>\n",
       "  </tbody>\n",
       "</table>\n",
       "<p>267330 rows × 5 columns</p>\n",
       "</div>"
      ],
      "text/plain": [
       "                         kor_date  \\\n",
       "0       2017-10-20 17:01:07+00:00   \n",
       "1       2017-10-20 17:01:47+00:00   \n",
       "2       2017-10-20 17:03:30+00:00   \n",
       "3       2017-10-20 17:03:59+00:00   \n",
       "4       2017-10-20 17:04:07+00:00   \n",
       "...                           ...   \n",
       "267325  2018-01-10 20:45:46+00:00   \n",
       "267326  2018-01-10 20:50:08+00:00   \n",
       "267327  2018-01-10 20:51:13+00:00   \n",
       "267328  2018-01-10 20:53:30+00:00   \n",
       "267329  2018-01-10 20:54:18+00:00   \n",
       "\n",
       "                                                 match_id day_of_week  \\\n",
       "0       2U4GBNA0Yml6KV2X5zKbFWJzGxFNOvOB8zq4gwaVkAyf_p...           금   \n",
       "1       2U4GBNA0Ymk-ID_zUziPaMOji_UXwlTUSeMUHmEmfUQLiZ...           금   \n",
       "2       2U4GBNA0YmmBg8gn2Uj-2kGqxinW4XmsxwWa7mMZ_4B4yv...           금   \n",
       "3       2U4GBNA0YmlEBszzfxUBBnoPcnidsfH-okTvRedswuK0Vv...           금   \n",
       "4       2U4GBNA0YmnhUTz5Am57zhOPYGf8pBKvWlCLDlEHcykY-n...           금   \n",
       "...                                                   ...         ...   \n",
       "267325  2U4GBNA0YmkHj1ElQlasEXp2o4lkaK1TS7YNGgQXcGfB8m...           수   \n",
       "267326  2U4GBNA0YmkhGAMNLcoVK4tdSyGtbhlzSBpZZ3Mvk4hhFU...           수   \n",
       "267327  2U4GBNA0YmmzDCa5OQUnuhNrl101XV6sbZWQTH9qFIBEL8...           수   \n",
       "267328  2U4GBNA0YmncIoDjHBmmazW-zU8FH34QHeda1RDAX6gsG1...           수   \n",
       "267329  2U4GBNA0YmmON-6HaqCFBfMmkJHkTe0blndvQBWmYL4mW3...           수   \n",
       "\n",
       "        date_time  match_level  \n",
       "0              17        0.000  \n",
       "1              17        0.000  \n",
       "2              17        0.000  \n",
       "3              17        0.000  \n",
       "4              17        0.000  \n",
       "...           ...          ...  \n",
       "267325         20       46.556  \n",
       "267326         20       45.915  \n",
       "267327         20       18.440  \n",
       "267328         20       13.401  \n",
       "267329         20       18.548  \n",
       "\n",
       "[267330 rows x 5 columns]"
      ]
     },
     "execution_count": 42,
     "metadata": {},
     "output_type": "execute_result"
    }
   ],
   "source": [
    "d"
   ]
  },
  {
   "cell_type": "code",
   "execution_count": 46,
   "id": "9e9d4172",
   "metadata": {
    "ExecuteTime": {
     "end_time": "2021-09-12T00:34:14.839463Z",
     "start_time": "2021-09-12T00:34:14.836933Z"
    }
   },
   "outputs": [],
   "source": [
    "d.columns = ['날짜', 'match_id', '요일', '시간대', 'match 수준']"
   ]
  },
  {
   "cell_type": "code",
   "execution_count": 49,
   "id": "c1eece0c",
   "metadata": {
    "ExecuteTime": {
     "end_time": "2021-09-12T00:34:35.157610Z",
     "start_time": "2021-09-12T00:34:35.016660Z"
    }
   },
   "outputs": [
    {
     "data": {
      "text/plain": [
       "<AxesSubplot:xlabel='요일', ylabel='match 수준'>"
      ]
     },
     "execution_count": 49,
     "metadata": {},
     "output_type": "execute_result"
    },
    {
     "data": {
      "image/png": "[encoded data removed]",
      "text/plain": [
       "<Figure size 720x504 with 1 Axes>"
      ]
     },
     "metadata": {
      "needs_background": "light"
     },
     "output_type": "display_data"
    }
   ],
   "source": [
    "plt.figure(figsize=(10, 7))\n",
    "sns.barplot(data=d, x='요일', y='match 수준', ci=None, order=[x for x in '월화수목금토일'])"
   ]
  },
  {
   "cell_type": "code",
   "execution_count": 51,
   "id": "3cb4ddb5",
   "metadata": {
    "ExecuteTime": {
     "end_time": "2021-09-12T00:36:10.352525Z",
     "start_time": "2021-09-12T00:36:10.163592Z"
    }
   },
   "outputs": [
    {
     "data": {
      "text/plain": [
       "<AxesSubplot:xlabel='시간대', ylabel='match 수준'>"
      ]
     },
     "execution_count": 51,
     "metadata": {},
     "output_type": "execute_result"
    },
    {
     "data": {
      "image/png": "[encoded data removed]",
      "text/plain": [
       "<Figure size 720x504 with 1 Axes>"
      ]
     },
     "metadata": {
      "needs_background": "light"
     },
     "output_type": "display_data"
    }
   ],
   "source": [
    "plt.figure(figsize=(10, 7))\n",
    "sns.barplot(data=d, x='시간대', y='match 수준', ci=None)"
   ]
  },
  {
   "cell_type": "markdown",
   "id": "9901cb94",
   "metadata": {},
   "source": [
    "### Match/Team level"
   ]
  },
  {
   "cell_type": "code",
   "execution_count": 52,
   "id": "f1440165",
   "metadata": {
    "ExecuteTime": {
     "end_time": "2021-09-12T00:40:19.487914Z",
     "start_time": "2021-09-12T00:40:14.615718Z"
    }
   },
   "outputs": [],
   "source": [
    "l = df_t.groupby(['kor_date', 'match_id', 'team_id', 'top10'])[['match_level', 'team_level']].mean().reset_index()"
   ]
  },
  {
   "cell_type": "code",
   "execution_count": 53,
   "id": "9a55d10c",
   "metadata": {
    "ExecuteTime": {
     "end_time": "2021-09-12T00:40:26.159102Z",
     "start_time": "2021-09-12T00:40:25.902479Z"
    }
   },
   "outputs": [
    {
     "data": {
      "text/plain": [
       "<AxesSubplot:>"
      ]
     },
     "execution_count": 53,
     "metadata": {},
     "output_type": "execute_result"
    },
    {
     "data": {
      "image/png": "[encoded data removed]",
      "text/plain": [
       "<Figure size 432x288 with 1 Axes>"
      ]
     },
     "metadata": {
      "needs_background": "light"
     },
     "output_type": "display_data"
    }
   ],
   "source": [
    "l['match_level'].hist()"
   ]
  },
  {
   "cell_type": "code",
   "execution_count": 54,
   "id": "7ffc2dc2",
   "metadata": {
    "ExecuteTime": {
     "end_time": "2021-09-12T00:40:30.194267Z",
     "start_time": "2021-09-12T00:40:30.191320Z"
    }
   },
   "outputs": [],
   "source": [
    "def match_level_cat(score):\n",
    "    if score <= 50:\n",
    "        return 'Easy'\n",
    "    elif score <= 100:\n",
    "        return 'Medium'\n",
    "    elif score <= 150:\n",
    "        return 'Hard'\n",
    "    else:\n",
    "        return 'X-Hard'"
   ]
  },
  {
   "cell_type": "code",
   "execution_count": 55,
   "id": "9d744b2c",
   "metadata": {
    "ExecuteTime": {
     "end_time": "2021-09-12T00:40:44.942672Z",
     "start_time": "2021-09-12T00:40:43.511921Z"
    }
   },
   "outputs": [],
   "source": [
    "l['match'] = l['match_level'].apply(lambda x: match_level_cat(x))"
   ]
  },
  {
   "cell_type": "code",
   "execution_count": 59,
   "id": "b9aa0049",
   "metadata": {
    "ExecuteTime": {
     "end_time": "2021-09-12T00:43:27.673007Z",
     "start_time": "2021-09-12T00:43:27.660039Z"
    }
   },
   "outputs": [
    {
     "data": {
      "text/html": [
       "<div>\n",
       "<style scoped>\n",
       "    .dataframe tbody tr th:only-of-type {\n",
       "        vertical-align: middle;\n",
       "    }\n",
       "\n",
       "    .dataframe tbody tr th {\n",
       "        vertical-align: top;\n",
       "    }\n",
       "\n",
       "    .dataframe thead th {\n",
       "        text-align: right;\n",
       "    }\n",
       "</style>\n",
       "<table border=\"1\" class=\"dataframe\">\n",
       "  <thead>\n",
       "    <tr style=\"text-align: right;\">\n",
       "      <th></th>\n",
       "      <th>kor_date</th>\n",
       "      <th>match_id</th>\n",
       "      <th>team_id</th>\n",
       "      <th>top10</th>\n",
       "      <th>match_level</th>\n",
       "      <th>team_level</th>\n",
       "      <th>match</th>\n",
       "    </tr>\n",
       "  </thead>\n",
       "  <tbody>\n",
       "    <tr>\n",
       "      <th>0</th>\n",
       "      <td>2017-10-20 17:01:07+00:00</td>\n",
       "      <td>2U4GBNA0Yml6KV2X5zKbFWJzGxFNOvOB8zq4gwaVkAyf_p...</td>\n",
       "      <td>2</td>\n",
       "      <td>Not Top10</td>\n",
       "      <td>0.000</td>\n",
       "      <td>0.000</td>\n",
       "      <td>Easy</td>\n",
       "    </tr>\n",
       "    <tr>\n",
       "      <th>1</th>\n",
       "      <td>2017-10-20 17:01:07+00:00</td>\n",
       "      <td>2U4GBNA0Yml6KV2X5zKbFWJzGxFNOvOB8zq4gwaVkAyf_p...</td>\n",
       "      <td>3</td>\n",
       "      <td>Not Top10</td>\n",
       "      <td>0.000</td>\n",
       "      <td>0.000</td>\n",
       "      <td>Easy</td>\n",
       "    </tr>\n",
       "    <tr>\n",
       "      <th>2</th>\n",
       "      <td>2017-10-20 17:01:07+00:00</td>\n",
       "      <td>2U4GBNA0Yml6KV2X5zKbFWJzGxFNOvOB8zq4gwaVkAyf_p...</td>\n",
       "      <td>4</td>\n",
       "      <td>Not Top10</td>\n",
       "      <td>0.000</td>\n",
       "      <td>0.000</td>\n",
       "      <td>Easy</td>\n",
       "    </tr>\n",
       "    <tr>\n",
       "      <th>3</th>\n",
       "      <td>2017-10-20 17:01:07+00:00</td>\n",
       "      <td>2U4GBNA0Yml6KV2X5zKbFWJzGxFNOvOB8zq4gwaVkAyf_p...</td>\n",
       "      <td>5</td>\n",
       "      <td>Not Top10</td>\n",
       "      <td>0.000</td>\n",
       "      <td>0.000</td>\n",
       "      <td>Easy</td>\n",
       "    </tr>\n",
       "    <tr>\n",
       "      <th>4</th>\n",
       "      <td>2017-10-20 17:01:07+00:00</td>\n",
       "      <td>2U4GBNA0Yml6KV2X5zKbFWJzGxFNOvOB8zq4gwaVkAyf_p...</td>\n",
       "      <td>7</td>\n",
       "      <td>Not Top10</td>\n",
       "      <td>0.000</td>\n",
       "      <td>0.000</td>\n",
       "      <td>Easy</td>\n",
       "    </tr>\n",
       "    <tr>\n",
       "      <th>...</th>\n",
       "      <td>...</td>\n",
       "      <td>...</td>\n",
       "      <td>...</td>\n",
       "      <td>...</td>\n",
       "      <td>...</td>\n",
       "      <td>...</td>\n",
       "      <td>...</td>\n",
       "    </tr>\n",
       "    <tr>\n",
       "      <th>7166359</th>\n",
       "      <td>2018-01-10 20:54:18+00:00</td>\n",
       "      <td>2U4GBNA0YmmON-6HaqCFBfMmkJHkTe0blndvQBWmYL4mW3...</td>\n",
       "      <td>26</td>\n",
       "      <td>Not Top10</td>\n",
       "      <td>18.548</td>\n",
       "      <td>0.002</td>\n",
       "      <td>Easy</td>\n",
       "    </tr>\n",
       "    <tr>\n",
       "      <th>7166360</th>\n",
       "      <td>2018-01-10 20:54:18+00:00</td>\n",
       "      <td>2U4GBNA0YmmON-6HaqCFBfMmkJHkTe0blndvQBWmYL4mW3...</td>\n",
       "      <td>27</td>\n",
       "      <td>Not Top10</td>\n",
       "      <td>18.548</td>\n",
       "      <td>0.000</td>\n",
       "      <td>Easy</td>\n",
       "    </tr>\n",
       "    <tr>\n",
       "      <th>7166361</th>\n",
       "      <td>2018-01-10 20:54:18+00:00</td>\n",
       "      <td>2U4GBNA0YmmON-6HaqCFBfMmkJHkTe0blndvQBWmYL4mW3...</td>\n",
       "      <td>28</td>\n",
       "      <td>Not Top10</td>\n",
       "      <td>18.548</td>\n",
       "      <td>0.000</td>\n",
       "      <td>Easy</td>\n",
       "    </tr>\n",
       "    <tr>\n",
       "      <th>7166362</th>\n",
       "      <td>2018-01-10 20:54:18+00:00</td>\n",
       "      <td>2U4GBNA0YmmON-6HaqCFBfMmkJHkTe0blndvQBWmYL4mW3...</td>\n",
       "      <td>29</td>\n",
       "      <td>Not Top10</td>\n",
       "      <td>18.548</td>\n",
       "      <td>0.012</td>\n",
       "      <td>Easy</td>\n",
       "    </tr>\n",
       "    <tr>\n",
       "      <th>7166363</th>\n",
       "      <td>2018-01-10 20:54:18+00:00</td>\n",
       "      <td>2U4GBNA0YmmON-6HaqCFBfMmkJHkTe0blndvQBWmYL4mW3...</td>\n",
       "      <td>30</td>\n",
       "      <td>Not Top10</td>\n",
       "      <td>18.548</td>\n",
       "      <td>0.460</td>\n",
       "      <td>Easy</td>\n",
       "    </tr>\n",
       "  </tbody>\n",
       "</table>\n",
       "<p>7166364 rows × 7 columns</p>\n",
       "</div>"
      ],
      "text/plain": [
       "                          kor_date  \\\n",
       "0        2017-10-20 17:01:07+00:00   \n",
       "1        2017-10-20 17:01:07+00:00   \n",
       "2        2017-10-20 17:01:07+00:00   \n",
       "3        2017-10-20 17:01:07+00:00   \n",
       "4        2017-10-20 17:01:07+00:00   \n",
       "...                            ...   \n",
       "7166359  2018-01-10 20:54:18+00:00   \n",
       "7166360  2018-01-10 20:54:18+00:00   \n",
       "7166361  2018-01-10 20:54:18+00:00   \n",
       "7166362  2018-01-10 20:54:18+00:00   \n",
       "7166363  2018-01-10 20:54:18+00:00   \n",
       "\n",
       "                                                  match_id  team_id  \\\n",
       "0        2U4GBNA0Yml6KV2X5zKbFWJzGxFNOvOB8zq4gwaVkAyf_p...        2   \n",
       "1        2U4GBNA0Yml6KV2X5zKbFWJzGxFNOvOB8zq4gwaVkAyf_p...        3   \n",
       "2        2U4GBNA0Yml6KV2X5zKbFWJzGxFNOvOB8zq4gwaVkAyf_p...        4   \n",
       "3        2U4GBNA0Yml6KV2X5zKbFWJzGxFNOvOB8zq4gwaVkAyf_p...        5   \n",
       "4        2U4GBNA0Yml6KV2X5zKbFWJzGxFNOvOB8zq4gwaVkAyf_p...        7   \n",
       "...                                                    ...      ...   \n",
       "7166359  2U4GBNA0YmmON-6HaqCFBfMmkJHkTe0blndvQBWmYL4mW3...       26   \n",
       "7166360  2U4GBNA0YmmON-6HaqCFBfMmkJHkTe0blndvQBWmYL4mW3...       27   \n",
       "7166361  2U4GBNA0YmmON-6HaqCFBfMmkJHkTe0blndvQBWmYL4mW3...       28   \n",
       "7166362  2U4GBNA0YmmON-6HaqCFBfMmkJHkTe0blndvQBWmYL4mW3...       29   \n",
       "7166363  2U4GBNA0YmmON-6HaqCFBfMmkJHkTe0blndvQBWmYL4mW3...       30   \n",
       "\n",
       "             top10  match_level  team_level match  \n",
       "0        Not Top10        0.000       0.000  Easy  \n",
       "1        Not Top10        0.000       0.000  Easy  \n",
       "2        Not Top10        0.000       0.000  Easy  \n",
       "3        Not Top10        0.000       0.000  Easy  \n",
       "4        Not Top10        0.000       0.000  Easy  \n",
       "...            ...          ...         ...   ...  \n",
       "7166359  Not Top10       18.548       0.002  Easy  \n",
       "7166360  Not Top10       18.548       0.000  Easy  \n",
       "7166361  Not Top10       18.548       0.000  Easy  \n",
       "7166362  Not Top10       18.548       0.012  Easy  \n",
       "7166363  Not Top10       18.548       0.460  Easy  \n",
       "\n",
       "[7166364 rows x 7 columns]"
      ]
     },
     "execution_count": 59,
     "metadata": {},
     "output_type": "execute_result"
    }
   ],
   "source": [
    "l"
   ]
  },
  {
   "cell_type": "code",
   "execution_count": 60,
   "id": "c45ba4ff",
   "metadata": {
    "ExecuteTime": {
     "end_time": "2021-09-12T00:44:06.753671Z",
     "start_time": "2021-09-12T00:44:06.750846Z"
    }
   },
   "outputs": [],
   "source": [
    "l.columns = ['날짜', 'match_id', 'team_id', 'top10', '매치 수준', '팀 수준', 'match']"
   ]
  },
  {
   "cell_type": "code",
   "execution_count": 61,
   "id": "d33e38fb",
   "metadata": {
    "ExecuteTime": {
     "end_time": "2021-09-12T00:44:28.677844Z",
     "start_time": "2021-09-12T00:44:24.825922Z"
    }
   },
   "outputs": [
    {
     "data": {
      "text/plain": [
       "<AxesSubplot:xlabel='match', ylabel='팀 수준'>"
      ]
     },
     "execution_count": 61,
     "metadata": {},
     "output_type": "execute_result"
    },
    {
     "data": {
      "image/png": "[encoded data removed]",
      "text/plain": [
       "<Figure size 720x504 with 1 Axes>"
      ]
     },
     "metadata": {
      "needs_background": "light"
     },
     "output_type": "display_data"
    }
   ],
   "source": [
    "plt.figure(figsize=(10, 7))\n",
    "sns.barplot(data=l, x='match', y='팀 수준', hue='top10', ci=None)"
   ]
  },
  {
   "cell_type": "markdown",
   "id": "a42b92a6",
   "metadata": {},
   "source": [
    "### dmg_per_kills"
   ]
  },
  {
   "cell_type": "code",
   "execution_count": 62,
   "id": "c8d3d0d4",
   "metadata": {
    "ExecuteTime": {
     "end_time": "2021-09-12T00:51:34.292592Z",
     "start_time": "2021-09-12T00:51:29.825873Z"
    }
   },
   "outputs": [],
   "source": [
    "l = df_t.groupby(['kor_date', 'match_id', 'team_id', 'top10'])[['dmg_per_kills']].mean().reset_index()"
   ]
  },
  {
   "cell_type": "code",
   "execution_count": 63,
   "id": "2c353e7b",
   "metadata": {
    "ExecuteTime": {
     "end_time": "2021-09-12T00:52:19.235142Z",
     "start_time": "2021-09-12T00:52:18.920844Z"
    }
   },
   "outputs": [],
   "source": [
    "l2 = l.groupby('top10')['dmg_per_kills'].mean().reset_index()"
   ]
  },
  {
   "cell_type": "code",
   "execution_count": 66,
   "id": "050ad8ab",
   "metadata": {
    "ExecuteTime": {
     "end_time": "2021-09-12T00:52:53.176227Z",
     "start_time": "2021-09-12T00:52:53.173397Z"
    }
   },
   "outputs": [],
   "source": [
    "l2.columns = ['top10', '1 kill 당 평균 damage']"
   ]
  },
  {
   "cell_type": "code",
   "execution_count": 71,
   "id": "87a87f5b",
   "metadata": {
    "ExecuteTime": {
     "end_time": "2021-09-12T00:55:27.568493Z",
     "start_time": "2021-09-12T00:55:27.562388Z"
    }
   },
   "outputs": [
    {
     "data": {
      "text/html": [
       "<div>\n",
       "<style scoped>\n",
       "    .dataframe tbody tr th:only-of-type {\n",
       "        vertical-align: middle;\n",
       "    }\n",
       "\n",
       "    .dataframe tbody tr th {\n",
       "        vertical-align: top;\n",
       "    }\n",
       "\n",
       "    .dataframe thead th {\n",
       "        text-align: right;\n",
       "    }\n",
       "</style>\n",
       "<table border=\"1\" class=\"dataframe\">\n",
       "  <thead>\n",
       "    <tr style=\"text-align: right;\">\n",
       "      <th></th>\n",
       "      <th>top10</th>\n",
       "      <th>1 kill 당 평균 damage</th>\n",
       "    </tr>\n",
       "  </thead>\n",
       "  <tbody>\n",
       "    <tr>\n",
       "      <th>0</th>\n",
       "      <td>Not Top10</td>\n",
       "      <td>46.897</td>\n",
       "    </tr>\n",
       "    <tr>\n",
       "      <th>1</th>\n",
       "      <td>Top10</td>\n",
       "      <td>89.462</td>\n",
       "    </tr>\n",
       "  </tbody>\n",
       "</table>\n",
       "</div>"
      ],
      "text/plain": [
       "       top10  1 kill 당 평균 damage\n",
       "0  Not Top10              46.897\n",
       "1      Top10              89.462"
      ]
     },
     "execution_count": 71,
     "metadata": {},
     "output_type": "execute_result"
    }
   ],
   "source": [
    "l2"
   ]
  },
  {
   "cell_type": "code",
   "execution_count": 70,
   "id": "ee848d3b",
   "metadata": {
    "ExecuteTime": {
     "end_time": "2021-09-12T00:54:15.504717Z",
     "start_time": "2021-09-12T00:54:15.433458Z"
    }
   },
   "outputs": [
    {
     "data": {
      "text/plain": [
       "<AxesSubplot:xlabel='top10', ylabel='1 kill 당 평균 damage'>"
      ]
     },
     "execution_count": 70,
     "metadata": {},
     "output_type": "execute_result"
    },
    {
     "data": {
      "image/png": "[encoded data removed]",
      "text/plain": [
       "<Figure size 720x504 with 1 Axes>"
      ]
     },
     "metadata": {
      "needs_background": "light"
     },
     "output_type": "display_data"
    }
   ],
   "source": [
    "plt.figure(figsize=(10, 7))\n",
    "sns.barplot(data=l2, x = 'top10', y='1 kill 당 평균 damage', ci=None)"
   ]
  },
  {
   "cell_type": "markdown",
   "id": "c296e0c5",
   "metadata": {},
   "source": [
    "### 탈 것 활용 비율"
   ]
  },
  {
   "cell_type": "code",
   "execution_count": 72,
   "id": "4c88b838",
   "metadata": {
    "ExecuteTime": {
     "end_time": "2021-09-12T01:01:56.149402Z",
     "start_time": "2021-09-12T01:01:51.206007Z"
    }
   },
   "outputs": [],
   "source": [
    "m = df_t.groupby(['kor_date', 'match_id', 'team_id', 'top10'])[['player_dist_walk', 'player_dist_ride', \n",
    "                                                                'ride_ratio']].mean().reset_index()"
   ]
  },
  {
   "cell_type": "code",
   "execution_count": 73,
   "id": "eef5b2da",
   "metadata": {
    "ExecuteTime": {
     "end_time": "2021-09-12T01:02:30.148932Z",
     "start_time": "2021-09-12T01:02:30.146242Z"
    }
   },
   "outputs": [],
   "source": [
    "m.columns = ['날짜', 'match_id', 'team_id', 'top10', '도보 이동 거리', '탈 것 이동 거리', '탈 것 활용 비율']"
   ]
  },
  {
   "cell_type": "code",
   "execution_count": 85,
   "id": "495cc884",
   "metadata": {
    "ExecuteTime": {
     "end_time": "2021-09-12T01:11:30.605410Z",
     "start_time": "2021-09-12T01:11:28.651383Z"
    }
   },
   "outputs": [
    {
     "data": {
      "text/plain": [
       "<AxesSubplot:xlabel='top10', ylabel='도보 이동 거리'>"
      ]
     },
     "execution_count": 85,
     "metadata": {},
     "output_type": "execute_result"
    },
    {
     "data": {
      "image/png": "[encoded data removed]",
      "text/plain": [
       "<Figure size 432x288 with 1 Axes>"
      ]
     },
     "metadata": {
      "needs_background": "light"
     },
     "output_type": "display_data"
    }
   ],
   "source": [
    "sns.barplot(data=m, x='top10', y='도보 이동 거리', ci=None)"
   ]
  },
  {
   "cell_type": "code",
   "execution_count": 75,
   "id": "ef2a9650",
   "metadata": {
    "ExecuteTime": {
     "end_time": "2021-09-12T01:03:10.435599Z",
     "start_time": "2021-09-12T01:03:08.468320Z"
    }
   },
   "outputs": [
    {
     "data": {
      "text/plain": [
       "<AxesSubplot:xlabel='top10', ylabel='탈 것 이동 거리'>"
      ]
     },
     "execution_count": 75,
     "metadata": {},
     "output_type": "execute_result"
    },
    {
     "data": {
      "image/png": "[encoded data removed]",
      "text/plain": [
       "<Figure size 432x288 with 1 Axes>"
      ]
     },
     "metadata": {
      "needs_background": "light"
     },
     "output_type": "display_data"
    }
   ],
   "source": [
    "sns.barplot(data=m, x='top10', y='탈 것 이동 거리', ci=None)"
   ]
  },
  {
   "cell_type": "code",
   "execution_count": 76,
   "id": "ca0841e4",
   "metadata": {
    "ExecuteTime": {
     "end_time": "2021-09-12T01:03:23.999065Z",
     "start_time": "2021-09-12T01:03:22.060356Z"
    }
   },
   "outputs": [
    {
     "data": {
      "text/plain": [
       "<AxesSubplot:xlabel='top10', ylabel='탈 것 활용 비율'>"
      ]
     },
     "execution_count": 76,
     "metadata": {},
     "output_type": "execute_result"
    },
    {
     "data": {
      "image/png": "[encoded data removed]",
      "text/plain": [
       "<Figure size 432x288 with 1 Axes>"
      ]
     },
     "metadata": {
      "needs_background": "light"
     },
     "output_type": "display_data"
    }
   ],
   "source": [
    "sns.barplot(data=m, x='top10', y='탈 것 활용 비율', ci=None)"
   ]
  },
  {
   "cell_type": "code",
   "execution_count": 88,
   "id": "214588a0",
   "metadata": {
    "ExecuteTime": {
     "end_time": "2021-09-12T01:12:05.143057Z",
     "start_time": "2021-09-12T01:12:04.726940Z"
    }
   },
   "outputs": [],
   "source": [
    "m_w = m.groupby('top10')['도보 이동 거리'].median().reset_index()"
   ]
  },
  {
   "cell_type": "code",
   "execution_count": 89,
   "id": "d1ad4553",
   "metadata": {
    "ExecuteTime": {
     "end_time": "2021-09-12T01:12:05.893662Z",
     "start_time": "2021-09-12T01:12:05.822697Z"
    }
   },
   "outputs": [
    {
     "data": {
      "text/plain": [
       "<AxesSubplot:xlabel='top10', ylabel='도보 이동 거리'>"
      ]
     },
     "execution_count": 89,
     "metadata": {},
     "output_type": "execute_result"
    },
    {
     "data": {
      "image/png": "[encoded data removed]",
      "text/plain": [
       "<Figure size 432x288 with 1 Axes>"
      ]
     },
     "metadata": {
      "needs_background": "light"
     },
     "output_type": "display_data"
    }
   ],
   "source": [
    "sns.barplot(data=m_w, x='top10', y='도보 이동 거리', ci=None)"
   ]
  },
  {
   "cell_type": "code",
   "execution_count": 90,
   "id": "2a11d683",
   "metadata": {
    "ExecuteTime": {
     "end_time": "2021-09-12T01:12:50.709235Z",
     "start_time": "2021-09-12T01:12:50.297411Z"
    }
   },
   "outputs": [],
   "source": [
    "m_v = m.groupby('top10')['탈 것 이동 거리'].median().reset_index()"
   ]
  },
  {
   "cell_type": "code",
   "execution_count": 91,
   "id": "91e3abfa",
   "metadata": {
    "ExecuteTime": {
     "end_time": "2021-09-12T01:12:54.778693Z",
     "start_time": "2021-09-12T01:12:54.708504Z"
    }
   },
   "outputs": [
    {
     "data": {
      "text/plain": [
       "<AxesSubplot:xlabel='top10', ylabel='탈 것 이동 거리'>"
      ]
     },
     "execution_count": 91,
     "metadata": {},
     "output_type": "execute_result"
    },
    {
     "data": {
      "image/png": "[encoded data removed]",
      "text/plain": [
       "<Figure size 432x288 with 1 Axes>"
      ]
     },
     "metadata": {
      "needs_background": "light"
     },
     "output_type": "display_data"
    }
   ],
   "source": [
    "sns.barplot(data=m_v, x='top10', y='탈 것 이동 거리', ci=None)"
   ]
  },
  {
   "cell_type": "code",
   "execution_count": 92,
   "id": "b07cdb57",
   "metadata": {
    "ExecuteTime": {
     "end_time": "2021-09-12T01:13:18.353110Z",
     "start_time": "2021-09-12T01:13:17.943125Z"
    }
   },
   "outputs": [],
   "source": [
    "m_r = m.groupby('top10')['탈 것 활용 비율'].median().reset_index()"
   ]
  },
  {
   "cell_type": "code",
   "execution_count": 94,
   "id": "c3468e38",
   "metadata": {
    "ExecuteTime": {
     "end_time": "2021-09-12T01:13:41.650155Z",
     "start_time": "2021-09-12T01:13:41.577701Z"
    }
   },
   "outputs": [
    {
     "data": {
      "text/plain": [
       "<AxesSubplot:xlabel='top10', ylabel='탈 것 활용 비율'>"
      ]
     },
     "execution_count": 94,
     "metadata": {},
     "output_type": "execute_result"
    },
    {
     "data": {
      "image/png": "[encoded data removed]",
      "text/plain": [
       "<Figure size 432x288 with 1 Axes>"
      ]
     },
     "metadata": {
      "needs_background": "light"
     },
     "output_type": "display_data"
    }
   ],
   "source": [
    "sns.barplot(data=m_r, x='top10', y='탈 것 활용 비율', ci=None)"
   ]
  },
  {
   "cell_type": "markdown",
   "id": "470b65e6",
   "metadata": {},
   "source": [
    "### 교전 거리"
   ]
  },
  {
   "cell_type": "code",
   "execution_count": 95,
   "id": "e1fde7a5",
   "metadata": {
    "ExecuteTime": {
     "end_time": "2021-09-12T01:19:28.684505Z",
     "start_time": "2021-09-12T01:19:28.352756Z"
    }
   },
   "outputs": [],
   "source": [
    "k = df_t.groupby(['top10'])[['kill_dist']].mean().reset_index()"
   ]
  },
  {
   "cell_type": "code",
   "execution_count": 96,
   "id": "113dd441",
   "metadata": {
    "ExecuteTime": {
     "end_time": "2021-09-12T01:19:36.520295Z",
     "start_time": "2021-09-12T01:19:36.515042Z"
    }
   },
   "outputs": [
    {
     "data": {
      "text/html": [
       "<div>\n",
       "<style scoped>\n",
       "    .dataframe tbody tr th:only-of-type {\n",
       "        vertical-align: middle;\n",
       "    }\n",
       "\n",
       "    .dataframe tbody tr th {\n",
       "        vertical-align: top;\n",
       "    }\n",
       "\n",
       "    .dataframe thead th {\n",
       "        text-align: right;\n",
       "    }\n",
       "</style>\n",
       "<table border=\"1\" class=\"dataframe\">\n",
       "  <thead>\n",
       "    <tr style=\"text-align: right;\">\n",
       "      <th></th>\n",
       "      <th>top10</th>\n",
       "      <th>kill_dist</th>\n",
       "    </tr>\n",
       "  </thead>\n",
       "  <tbody>\n",
       "    <tr>\n",
       "      <th>0</th>\n",
       "      <td>Not Top10</td>\n",
       "      <td>10456.241</td>\n",
       "    </tr>\n",
       "    <tr>\n",
       "      <th>1</th>\n",
       "      <td>Top10</td>\n",
       "      <td>12414.920</td>\n",
       "    </tr>\n",
       "  </tbody>\n",
       "</table>\n",
       "</div>"
      ],
      "text/plain": [
       "       top10  kill_dist\n",
       "0  Not Top10  10456.241\n",
       "1      Top10  12414.920"
      ]
     },
     "execution_count": 96,
     "metadata": {},
     "output_type": "execute_result"
    }
   ],
   "source": [
    "k"
   ]
  },
  {
   "cell_type": "code",
   "execution_count": 99,
   "id": "a0e43aec",
   "metadata": {
    "ExecuteTime": {
     "end_time": "2021-09-12T01:20:58.611168Z",
     "start_time": "2021-09-12T01:20:58.608523Z"
    }
   },
   "outputs": [],
   "source": [
    "k.columns = ['top10', '교전거리']"
   ]
  },
  {
   "cell_type": "code",
   "execution_count": 100,
   "id": "594a64be",
   "metadata": {
    "ExecuteTime": {
     "end_time": "2021-09-12T01:21:08.116256Z",
     "start_time": "2021-09-12T01:21:08.041876Z"
    }
   },
   "outputs": [
    {
     "data": {
      "text/plain": [
       "<AxesSubplot:xlabel='top10', ylabel='교전거리'>"
      ]
     },
     "execution_count": 100,
     "metadata": {},
     "output_type": "execute_result"
    },
    {
     "data": {
      "image/png": "[encoded data removed]",
      "text/plain": [
       "<Figure size 432x288 with 1 Axes>"
      ]
     },
     "metadata": {
      "needs_background": "light"
     },
     "output_type": "display_data"
    }
   ],
   "source": [
    "sns.barplot(data=k, x='top10', y='교전거리', ci=None)"
   ]
  },
  {
   "cell_type": "code",
   "execution_count": 97,
   "id": "21cbc6a7",
   "metadata": {
    "ExecuteTime": {
     "end_time": "2021-09-12T01:19:47.923941Z",
     "start_time": "2021-09-12T01:19:47.492159Z"
    }
   },
   "outputs": [],
   "source": [
    "k2 = df_t.groupby(['top10'])[['kill_dist']].median().reset_index()"
   ]
  },
  {
   "cell_type": "code",
   "execution_count": 98,
   "id": "b7331509",
   "metadata": {
    "ExecuteTime": {
     "end_time": "2021-09-12T01:19:50.602044Z",
     "start_time": "2021-09-12T01:19:50.595757Z"
    }
   },
   "outputs": [
    {
     "data": {
      "text/html": [
       "<div>\n",
       "<style scoped>\n",
       "    .dataframe tbody tr th:only-of-type {\n",
       "        vertical-align: middle;\n",
       "    }\n",
       "\n",
       "    .dataframe tbody tr th {\n",
       "        vertical-align: top;\n",
       "    }\n",
       "\n",
       "    .dataframe thead th {\n",
       "        text-align: right;\n",
       "    }\n",
       "</style>\n",
       "<table border=\"1\" class=\"dataframe\">\n",
       "  <thead>\n",
       "    <tr style=\"text-align: right;\">\n",
       "      <th></th>\n",
       "      <th>top10</th>\n",
       "      <th>kill_dist</th>\n",
       "    </tr>\n",
       "  </thead>\n",
       "  <tbody>\n",
       "    <tr>\n",
       "      <th>0</th>\n",
       "      <td>Not Top10</td>\n",
       "      <td>328.558</td>\n",
       "    </tr>\n",
       "    <tr>\n",
       "      <th>1</th>\n",
       "      <td>Top10</td>\n",
       "      <td>4033.609</td>\n",
       "    </tr>\n",
       "  </tbody>\n",
       "</table>\n",
       "</div>"
      ],
      "text/plain": [
       "       top10  kill_dist\n",
       "0  Not Top10    328.558\n",
       "1      Top10   4033.609"
      ]
     },
     "execution_count": 98,
     "metadata": {},
     "output_type": "execute_result"
    }
   ],
   "source": [
    "k2"
   ]
  },
  {
   "cell_type": "code",
   "execution_count": 101,
   "id": "abe071e3",
   "metadata": {
    "ExecuteTime": {
     "end_time": "2021-09-12T01:21:28.772653Z",
     "start_time": "2021-09-12T01:21:28.770226Z"
    }
   },
   "outputs": [],
   "source": [
    "k2.columns = ['top10', '교전거리']"
   ]
  },
  {
   "cell_type": "code",
   "execution_count": 102,
   "id": "d25be03f",
   "metadata": {
    "ExecuteTime": {
     "end_time": "2021-09-12T01:21:38.525683Z",
     "start_time": "2021-09-12T01:21:38.447640Z"
    }
   },
   "outputs": [
    {
     "data": {
      "text/plain": [
       "<AxesSubplot:xlabel='top10', ylabel='교전거리'>"
      ]
     },
     "execution_count": 102,
     "metadata": {},
     "output_type": "execute_result"
    },
    {
     "data": {
      "image/png": "[encoded data removed]",
      "text/plain": [
       "<Figure size 432x288 with 1 Axes>"
      ]
     },
     "metadata": {
      "needs_background": "light"
     },
     "output_type": "display_data"
    }
   ],
   "source": [
    "sns.barplot(data=k2, x='top10', y='교전거리', ci=None)"
   ]
  },
  {
   "cell_type": "markdown",
   "id": "9721c608",
   "metadata": {},
   "source": [
    "### 호전성"
   ]
  },
  {
   "cell_type": "code",
   "execution_count": 103,
   "id": "628db5ab",
   "metadata": {
    "ExecuteTime": {
     "end_time": "2021-09-12T01:24:57.077257Z",
     "start_time": "2021-09-12T01:24:52.396161Z"
    }
   },
   "outputs": [],
   "source": [
    "t = df_t.groupby(['kor_date', 'match_id', 'team_id', 'top10'])[['tendency']].mean().reset_index()"
   ]
  },
  {
   "cell_type": "code",
   "execution_count": 118,
   "id": "42fd569b",
   "metadata": {
    "ExecuteTime": {
     "end_time": "2021-09-12T01:29:05.000081Z",
     "start_time": "2021-09-12T01:29:03.944415Z"
    }
   },
   "outputs": [],
   "source": [
    "t2 = t.groupby('top10')['tendency'].value_counts().sort_index().to_frame()"
   ]
  },
  {
   "cell_type": "code",
   "execution_count": 119,
   "id": "6e07dbec",
   "metadata": {
    "ExecuteTime": {
     "end_time": "2021-09-12T01:29:05.948059Z",
     "start_time": "2021-09-12T01:29:05.941242Z"
    }
   },
   "outputs": [
    {
     "data": {
      "text/html": [
       "<div>\n",
       "<style scoped>\n",
       "    .dataframe tbody tr th:only-of-type {\n",
       "        vertical-align: middle;\n",
       "    }\n",
       "\n",
       "    .dataframe tbody tr th {\n",
       "        vertical-align: top;\n",
       "    }\n",
       "\n",
       "    .dataframe thead th {\n",
       "        text-align: right;\n",
       "    }\n",
       "</style>\n",
       "<table border=\"1\" class=\"dataframe\">\n",
       "  <thead>\n",
       "    <tr style=\"text-align: right;\">\n",
       "      <th></th>\n",
       "      <th></th>\n",
       "      <th>tendency</th>\n",
       "    </tr>\n",
       "    <tr>\n",
       "      <th>top10</th>\n",
       "      <th>tendency</th>\n",
       "      <th></th>\n",
       "    </tr>\n",
       "  </thead>\n",
       "  <tbody>\n",
       "    <tr>\n",
       "      <th rowspan=\"7\" valign=\"top\">Not Top10</th>\n",
       "      <th>0.000</th>\n",
       "      <td>2580157</td>\n",
       "    </tr>\n",
       "    <tr>\n",
       "      <th>1.000</th>\n",
       "      <td>190309</td>\n",
       "    </tr>\n",
       "    <tr>\n",
       "      <th>2.000</th>\n",
       "      <td>222565</td>\n",
       "    </tr>\n",
       "    <tr>\n",
       "      <th>3.000</th>\n",
       "      <td>351706</td>\n",
       "    </tr>\n",
       "    <tr>\n",
       "      <th>4.000</th>\n",
       "      <td>636542</td>\n",
       "    </tr>\n",
       "    <tr>\n",
       "      <th>5.000</th>\n",
       "      <td>1638452</td>\n",
       "    </tr>\n",
       "    <tr>\n",
       "      <th>6.000</th>\n",
       "      <td>745479</td>\n",
       "    </tr>\n",
       "    <tr>\n",
       "      <th rowspan=\"7\" valign=\"top\">Top10</th>\n",
       "      <th>0.000</th>\n",
       "      <td>380860</td>\n",
       "    </tr>\n",
       "    <tr>\n",
       "      <th>1.000</th>\n",
       "      <td>36878</td>\n",
       "    </tr>\n",
       "    <tr>\n",
       "      <th>2.000</th>\n",
       "      <td>36758</td>\n",
       "    </tr>\n",
       "    <tr>\n",
       "      <th>3.000</th>\n",
       "      <td>50548</td>\n",
       "    </tr>\n",
       "    <tr>\n",
       "      <th>4.000</th>\n",
       "      <td>76999</td>\n",
       "    </tr>\n",
       "    <tr>\n",
       "      <th>5.000</th>\n",
       "      <td>159805</td>\n",
       "    </tr>\n",
       "    <tr>\n",
       "      <th>6.000</th>\n",
       "      <td>59306</td>\n",
       "    </tr>\n",
       "  </tbody>\n",
       "</table>\n",
       "</div>"
      ],
      "text/plain": [
       "                    tendency\n",
       "top10     tendency          \n",
       "Not Top10 0.000      2580157\n",
       "          1.000       190309\n",
       "          2.000       222565\n",
       "          3.000       351706\n",
       "          4.000       636542\n",
       "          5.000      1638452\n",
       "          6.000       745479\n",
       "Top10     0.000       380860\n",
       "          1.000        36878\n",
       "          2.000        36758\n",
       "          3.000        50548\n",
       "          4.000        76999\n",
       "          5.000       159805\n",
       "          6.000        59306"
      ]
     },
     "execution_count": 119,
     "metadata": {},
     "output_type": "execute_result"
    }
   ],
   "source": [
    "t2"
   ]
  },
  {
   "cell_type": "code",
   "execution_count": 120,
   "id": "b976edfa",
   "metadata": {
    "ExecuteTime": {
     "end_time": "2021-09-12T01:29:07.338439Z",
     "start_time": "2021-09-12T01:29:07.335788Z"
    }
   },
   "outputs": [],
   "source": [
    "t2.columns = ['counts']"
   ]
  },
  {
   "cell_type": "code",
   "execution_count": 122,
   "id": "ff718937",
   "metadata": {
    "ExecuteTime": {
     "end_time": "2021-09-12T01:29:23.659870Z",
     "start_time": "2021-09-12T01:29:23.655960Z"
    }
   },
   "outputs": [],
   "source": [
    "t2 = t2.reset_index()"
   ]
  },
  {
   "cell_type": "code",
   "execution_count": 126,
   "id": "27857a18",
   "metadata": {
    "ExecuteTime": {
     "end_time": "2021-09-12T01:30:05.377775Z",
     "start_time": "2021-09-12T01:30:05.370773Z"
    }
   },
   "outputs": [
    {
     "data": {
      "text/html": [
       "<div>\n",
       "<style scoped>\n",
       "    .dataframe tbody tr th:only-of-type {\n",
       "        vertical-align: middle;\n",
       "    }\n",
       "\n",
       "    .dataframe tbody tr th {\n",
       "        vertical-align: top;\n",
       "    }\n",
       "\n",
       "    .dataframe thead th {\n",
       "        text-align: right;\n",
       "    }\n",
       "</style>\n",
       "<table border=\"1\" class=\"dataframe\">\n",
       "  <thead>\n",
       "    <tr style=\"text-align: right;\">\n",
       "      <th></th>\n",
       "      <th>top10</th>\n",
       "      <th>tendency</th>\n",
       "      <th>counts</th>\n",
       "    </tr>\n",
       "  </thead>\n",
       "  <tbody>\n",
       "    <tr>\n",
       "      <th>0</th>\n",
       "      <td>Not Top10</td>\n",
       "      <td>0.000</td>\n",
       "      <td>2580157</td>\n",
       "    </tr>\n",
       "    <tr>\n",
       "      <th>1</th>\n",
       "      <td>Not Top10</td>\n",
       "      <td>1.000</td>\n",
       "      <td>190309</td>\n",
       "    </tr>\n",
       "    <tr>\n",
       "      <th>2</th>\n",
       "      <td>Not Top10</td>\n",
       "      <td>2.000</td>\n",
       "      <td>222565</td>\n",
       "    </tr>\n",
       "    <tr>\n",
       "      <th>3</th>\n",
       "      <td>Not Top10</td>\n",
       "      <td>3.000</td>\n",
       "      <td>351706</td>\n",
       "    </tr>\n",
       "    <tr>\n",
       "      <th>4</th>\n",
       "      <td>Not Top10</td>\n",
       "      <td>4.000</td>\n",
       "      <td>636542</td>\n",
       "    </tr>\n",
       "    <tr>\n",
       "      <th>5</th>\n",
       "      <td>Not Top10</td>\n",
       "      <td>5.000</td>\n",
       "      <td>1638452</td>\n",
       "    </tr>\n",
       "    <tr>\n",
       "      <th>6</th>\n",
       "      <td>Not Top10</td>\n",
       "      <td>6.000</td>\n",
       "      <td>745479</td>\n",
       "    </tr>\n",
       "    <tr>\n",
       "      <th>7</th>\n",
       "      <td>Top10</td>\n",
       "      <td>0.000</td>\n",
       "      <td>380860</td>\n",
       "    </tr>\n",
       "    <tr>\n",
       "      <th>8</th>\n",
       "      <td>Top10</td>\n",
       "      <td>1.000</td>\n",
       "      <td>36878</td>\n",
       "    </tr>\n",
       "    <tr>\n",
       "      <th>9</th>\n",
       "      <td>Top10</td>\n",
       "      <td>2.000</td>\n",
       "      <td>36758</td>\n",
       "    </tr>\n",
       "    <tr>\n",
       "      <th>10</th>\n",
       "      <td>Top10</td>\n",
       "      <td>3.000</td>\n",
       "      <td>50548</td>\n",
       "    </tr>\n",
       "    <tr>\n",
       "      <th>11</th>\n",
       "      <td>Top10</td>\n",
       "      <td>4.000</td>\n",
       "      <td>76999</td>\n",
       "    </tr>\n",
       "    <tr>\n",
       "      <th>12</th>\n",
       "      <td>Top10</td>\n",
       "      <td>5.000</td>\n",
       "      <td>159805</td>\n",
       "    </tr>\n",
       "    <tr>\n",
       "      <th>13</th>\n",
       "      <td>Top10</td>\n",
       "      <td>6.000</td>\n",
       "      <td>59306</td>\n",
       "    </tr>\n",
       "  </tbody>\n",
       "</table>\n",
       "</div>"
      ],
      "text/plain": [
       "        top10  tendency   counts\n",
       "0   Not Top10     0.000  2580157\n",
       "1   Not Top10     1.000   190309\n",
       "2   Not Top10     2.000   222565\n",
       "3   Not Top10     3.000   351706\n",
       "4   Not Top10     4.000   636542\n",
       "5   Not Top10     5.000  1638452\n",
       "6   Not Top10     6.000   745479\n",
       "7       Top10     0.000   380860\n",
       "8       Top10     1.000    36878\n",
       "9       Top10     2.000    36758\n",
       "10      Top10     3.000    50548\n",
       "11      Top10     4.000    76999\n",
       "12      Top10     5.000   159805\n",
       "13      Top10     6.000    59306"
      ]
     },
     "execution_count": 126,
     "metadata": {},
     "output_type": "execute_result"
    }
   ],
   "source": [
    "t2"
   ]
  },
  {
   "cell_type": "code",
   "execution_count": 127,
   "id": "f7d488ab",
   "metadata": {
    "ExecuteTime": {
     "end_time": "2021-09-12T01:30:14.654959Z",
     "start_time": "2021-09-12T01:30:14.652412Z"
    }
   },
   "outputs": [],
   "source": [
    "t2.columns = ['top10', '호전성', 'counts']"
   ]
  },
  {
   "cell_type": "code",
   "execution_count": 130,
   "id": "e222faa4",
   "metadata": {
    "ExecuteTime": {
     "end_time": "2021-09-12T01:31:04.427892Z",
     "start_time": "2021-09-12T01:31:04.424976Z"
    }
   },
   "outputs": [],
   "source": [
    "t2['호전성'] = t2['호전성'].astype('int')"
   ]
  },
  {
   "cell_type": "code",
   "execution_count": 145,
   "id": "4f2f8e84",
   "metadata": {
    "ExecuteTime": {
     "end_time": "2021-09-12T01:40:39.932670Z",
     "start_time": "2021-09-12T01:40:39.929288Z"
    }
   },
   "outputs": [],
   "source": [
    "t2_1 = t2[t2['호전성'] > 0]"
   ]
  },
  {
   "cell_type": "code",
   "execution_count": 144,
   "id": "88f80181",
   "metadata": {
    "ExecuteTime": {
     "end_time": "2021-09-12T01:39:30.380894Z",
     "start_time": "2021-09-12T01:39:30.255164Z"
    }
   },
   "outputs": [
    {
     "data": {
      "text/plain": [
       "<AxesSubplot:xlabel='top10', ylabel='counts'>"
      ]
     },
     "execution_count": 144,
     "metadata": {},
     "output_type": "execute_result"
    },
    {
     "data": {
      "image/png": "[encoded data removed]",
      "text/plain": [
       "<Figure size 432x288 with 1 Axes>"
      ]
     },
     "metadata": {
      "needs_background": "light"
     },
     "output_type": "display_data"
    }
   ],
   "source": [
    "plt.ticklabel_format(style='plain')\n",
    "sns.barplot(data=t2, x='top10', y='counts', hue='호전성', ci=None, hue_order=[6, 5, 4, 3, 2, 1, 0])"
   ]
  },
  {
   "cell_type": "code",
   "execution_count": 147,
   "id": "53c23793",
   "metadata": {
    "ExecuteTime": {
     "end_time": "2021-09-12T01:41:03.508332Z",
     "start_time": "2021-09-12T01:41:03.375275Z"
    }
   },
   "outputs": [
    {
     "data": {
      "text/plain": [
       "<AxesSubplot:xlabel='top10', ylabel='counts'>"
      ]
     },
     "execution_count": 147,
     "metadata": {},
     "output_type": "execute_result"
    },
    {
     "data": {
      "image/png": "[encoded data removed]",
      "text/plain": [
       "<Figure size 432x288 with 1 Axes>"
      ]
     },
     "metadata": {
      "needs_background": "light"
     },
     "output_type": "display_data"
    }
   ],
   "source": [
    "plt.ticklabel_format(style='plain')\n",
    "sns.barplot(data=t2_1, x='top10', y='counts', hue='호전성', ci=None, hue_order=[6, 5, 4, 3, 2, 1])"
   ]
  },
  {
   "cell_type": "markdown",
   "id": "f4e4e838",
   "metadata": {},
   "source": [
    "# Modeling1 - Undersampling"
   ]
  },
  {
   "cell_type": "code",
   "execution_count": 4,
   "id": "4d83a35d",
   "metadata": {
    "ExecuteTime": {
     "end_time": "2021-09-12T12:01:42.686135Z",
     "start_time": "2021-09-12T12:01:42.410973Z"
    }
   },
   "outputs": [],
   "source": [
    "from sklearn.model_selection import train_test_split\n",
    "from sklearn.ensemble import RandomForestClassifier\n",
    "from sklearn.metrics import confusion_matrix\n",
    "from sklearn.model_selection import cross_val_predict\n",
    "from sklearn.model_selection import cross_val_score\n",
    "from sklearn.metrics import accuracy_score\n",
    "from sklearn.metrics import precision_score\n",
    "from sklearn.metrics import recall_score\n",
    "from sklearn.metrics import f1_score\n",
    "from sklearn.metrics import precision_recall_curve\n",
    "from sklearn.metrics import roc_curve\n",
    "from sklearn.metrics import roc_auc_score\n",
    "from sklearn.model_selection import GridSearchCV"
   ]
  },
  {
   "cell_type": "code",
   "execution_count": 5,
   "id": "75e5c17b",
   "metadata": {
    "ExecuteTime": {
     "end_time": "2021-09-12T12:02:15.767056Z",
     "start_time": "2021-09-12T12:01:42.969761Z"
    }
   },
   "outputs": [],
   "source": [
    "df_t = pd.read_csv('../dataset/team.csv')"
   ]
  },
  {
   "cell_type": "code",
   "execution_count": 6,
   "id": "9e2c3235",
   "metadata": {
    "ExecuteTime": {
     "end_time": "2021-09-12T12:02:15.777476Z",
     "start_time": "2021-09-12T12:02:15.768698Z"
    }
   },
   "outputs": [
    {
     "name": "stdout",
     "output_type": "stream",
     "text": [
      "<class 'pandas.core.frame.DataFrame'>\n",
      "RangeIndex: 7166364 entries, 0 to 7166363\n",
      "Data columns (total 42 columns):\n",
      " #   Column               Dtype  \n",
      "---  ------               -----  \n",
      " 0   kor_date             object \n",
      " 1   match_id             object \n",
      " 2   team_id              int64  \n",
      " 3   top10                float64\n",
      " 4   player_assists       float64\n",
      " 5   player_dbno          float64\n",
      " 6   player_dist_ride     float64\n",
      " 7   player_dist_walk     float64\n",
      " 8   player_dmg           float64\n",
      " 9   player_kills         float64\n",
      " 10  player_survive_time  float64\n",
      " 11  total_score          float64\n",
      " 12  day_of_week          float64\n",
      " 13  first_kill_time      float64\n",
      " 14  tendency             float64\n",
      " 15  kill_dist            float64\n",
      " 16  weekend              float64\n",
      " 17  date_time            float64\n",
      " 18  dmg_per_kills        float64\n",
      " 19  ride_ratio           float64\n",
      " 20  cum_each_game_score  float64\n",
      " 21  cum_player_kills     float64\n",
      " 22  cum_player_dmg       float64\n",
      " 23  cum_player_assists   float64\n",
      " 24  cum_num              float64\n",
      " 25  match_level          float64\n",
      " 26  team_level_sum       float64\n",
      " 27  team_cum_num         float64\n",
      " 28  match_level_sum      float64\n",
      " 29  team_level           float64\n",
      " 30  hot_place            float64\n",
      " 31  M416                 float64\n",
      " 32  M16A4                float64\n",
      " 33  SCAR-L               float64\n",
      " 34  AKM                  float64\n",
      " 35  short_range          float64\n",
      " 36  middle_range         float64\n",
      " 37  long_range           float64\n",
      " 38  accident             float64\n",
      " 39  throwables           float64\n",
      " 40  num_of_match         int64  \n",
      " 41  outlier              float64\n",
      "dtypes: float64(38), int64(2), object(2)\n",
      "memory usage: 2.2+ GB\n"
     ]
    }
   ],
   "source": [
    "df_t.info()"
   ]
  },
  {
   "cell_type": "code",
   "execution_count": 159,
   "id": "91a9d549",
   "metadata": {
    "ExecuteTime": {
     "end_time": "2021-09-12T01:46:04.892553Z",
     "start_time": "2021-09-12T01:46:04.888439Z"
    }
   },
   "outputs": [
    {
     "data": {
      "text/plain": [
       "Index(['kor_date', 'match_id', 'team_id', 'top10', 'player_assists',\n",
       "       'player_dbno', 'player_dist_ride', 'player_dist_walk', 'player_dmg',\n",
       "       'player_kills', 'player_survive_time', 'total_score', 'day_of_week',\n",
       "       'first_kill_time', 'tendency', 'kill_dist', 'weekend', 'date_time',\n",
       "       'dmg_per_kills', 'ride_ratio', 'cum_each_game_score',\n",
       "       'cum_player_kills', 'cum_player_dmg', 'cum_player_assists', 'cum_num',\n",
       "       'match_level', 'team_level_sum', 'team_cum_num', 'match_level_sum',\n",
       "       'team_level', 'hot_place', 'M416', 'M16A4', 'SCAR-L', 'AKM',\n",
       "       'short_range', 'middle_range', 'long_range', 'accident', 'throwables',\n",
       "       'num_of_match', 'outlier'],\n",
       "      dtype='object')"
      ]
     },
     "execution_count": 159,
     "metadata": {},
     "output_type": "execute_result"
    }
   ],
   "source": [
    "df_t.columns"
   ]
  },
  {
   "cell_type": "markdown",
   "id": "319f6f59",
   "metadata": {},
   "source": [
    "## Data for Modeling"
   ]
  },
  {
   "cell_type": "code",
   "execution_count": 160,
   "id": "a66aafc8",
   "metadata": {
    "ExecuteTime": {
     "end_time": "2021-09-12T01:46:08.653181Z",
     "start_time": "2021-09-12T01:46:08.650470Z"
    }
   },
   "outputs": [],
   "source": [
    "weapon = ['M416', 'M16A4', 'SCAR-L', 'AKM', 'short_range', 'middle_range', 'long_range', \n",
    "          'accident','throwables']\n",
    "level = ['match_level', 'match_level_sum', 'team_level', 'team_level_sum', 'cum_num', 'team_cum_num',\n",
    "         'each_game_score', 'outlier', 'dmg_per_kills']"
   ]
  },
  {
   "cell_type": "code",
   "execution_count": 161,
   "id": "50af6b4f",
   "metadata": {
    "ExecuteTime": {
     "end_time": "2021-09-12T01:46:10.230636Z",
     "start_time": "2021-09-12T01:46:09.295746Z"
    }
   },
   "outputs": [],
   "source": [
    "X = df_t[['day_of_week', 'date_time'] \n",
    "         + ['match_level', 'team_level', 'team_cum_num', 'outlier', 'dmg_per_kills', 'hot_place']\n",
    "         + ['kill_dist', 'tendency', 'ride_ratio'] \n",
    "         + weapon]"
   ]
  },
  {
   "cell_type": "code",
   "execution_count": 162,
   "id": "171479f9",
   "metadata": {
    "ExecuteTime": {
     "end_time": "2021-09-12T01:46:10.234372Z",
     "start_time": "2021-09-12T01:46:10.232457Z"
    }
   },
   "outputs": [],
   "source": [
    "Y = df_t['top10']"
   ]
  },
  {
   "cell_type": "code",
   "execution_count": 163,
   "id": "9dcc1e03",
   "metadata": {
    "ExecuteTime": {
     "end_time": "2021-09-12T01:46:10.727128Z",
     "start_time": "2021-09-12T01:46:10.665598Z"
    }
   },
   "outputs": [
    {
     "data": {
      "text/plain": [
       "0.000    6365210\n",
       "1.000     801154\n",
       "Name: top10, dtype: int64"
      ]
     },
     "execution_count": 163,
     "metadata": {},
     "output_type": "execute_result"
    }
   ],
   "source": [
    "Y.value_counts()"
   ]
  },
  {
   "cell_type": "code",
   "execution_count": null,
   "id": "b00e85db",
   "metadata": {},
   "outputs": [],
   "source": []
  },
  {
   "cell_type": "markdown",
   "id": "8d40b901",
   "metadata": {},
   "source": [
    "### Undersampling\n",
    "\n",
    "* Data: imbalance(0: 88%, 1: 12%)\n",
    "* 데이터의 크기가 너무 크기 때문에 Undersampling 방법 선택"
   ]
  },
  {
   "cell_type": "markdown",
   "id": "21775238",
   "metadata": {},
   "source": [
    "### train/test dataset"
   ]
  },
  {
   "cell_type": "code",
   "execution_count": 164,
   "id": "6b33361a",
   "metadata": {
    "ExecuteTime": {
     "end_time": "2021-09-12T01:46:21.011555Z",
     "start_time": "2021-09-12T01:46:19.705550Z"
    }
   },
   "outputs": [],
   "source": [
    "test_idx = X.sample(frac=0.3, random_state=42).index\n",
    "train_idx = (X.index.isin(test_idx) == False)"
   ]
  },
  {
   "cell_type": "code",
   "execution_count": 165,
   "id": "90d57c30",
   "metadata": {
    "ExecuteTime": {
     "end_time": "2021-09-12T01:46:22.401757Z",
     "start_time": "2021-09-12T01:46:21.013333Z"
    }
   },
   "outputs": [],
   "source": [
    "train_x = X.loc[train_idx]\n",
    "test_x = X.loc[test_idx]\n",
    "train_y = Y[train_idx]\n",
    "test_y = Y[test_idx]"
   ]
  },
  {
   "cell_type": "code",
   "execution_count": 166,
   "id": "4cc45d72",
   "metadata": {
    "ExecuteTime": {
     "end_time": "2021-09-12T01:46:22.447804Z",
     "start_time": "2021-09-12T01:46:22.403631Z"
    }
   },
   "outputs": [
    {
     "data": {
      "text/plain": [
       "0.000    4455536\n",
       "1.000     560919\n",
       "Name: top10, dtype: int64"
      ]
     },
     "execution_count": 166,
     "metadata": {},
     "output_type": "execute_result"
    }
   ],
   "source": [
    "train_y.value_counts()"
   ]
  },
  {
   "cell_type": "code",
   "execution_count": 167,
   "id": "cce7e92b",
   "metadata": {
    "ExecuteTime": {
     "end_time": "2021-09-12T01:46:22.682448Z",
     "start_time": "2021-09-12T01:46:22.449304Z"
    }
   },
   "outputs": [],
   "source": [
    "idx_0 = train_y[train_y == 0].sample(n=560919, random_state=42).index"
   ]
  },
  {
   "cell_type": "code",
   "execution_count": 168,
   "id": "4fd2c6c8",
   "metadata": {
    "ExecuteTime": {
     "end_time": "2021-09-12T01:46:23.885513Z",
     "start_time": "2021-09-12T01:46:22.814436Z"
    }
   },
   "outputs": [],
   "source": [
    "train_x = pd.concat([train_x.loc[idx_0], train_x.loc[train_y==1]])\n",
    "train_y = pd.concat([train_y.loc[idx_0], train_y.loc[train_y==1]])"
   ]
  },
  {
   "cell_type": "code",
   "execution_count": 169,
   "id": "1efbf854",
   "metadata": {
    "ExecuteTime": {
     "end_time": "2021-09-12T01:46:24.109900Z",
     "start_time": "2021-09-12T01:46:24.106460Z"
    }
   },
   "outputs": [
    {
     "data": {
      "text/plain": [
       "((1121838, 20), (1121838,))"
      ]
     },
     "execution_count": 169,
     "metadata": {},
     "output_type": "execute_result"
    }
   ],
   "source": [
    "train_x.shape, train_y.shape"
   ]
  },
  {
   "cell_type": "code",
   "execution_count": 16,
   "id": "fb36abd6",
   "metadata": {
    "ExecuteTime": {
     "end_time": "2021-09-01T14:32:56.528029Z",
     "start_time": "2021-09-01T14:32:56.526270Z"
    }
   },
   "outputs": [],
   "source": [
    "# train_x, test_x, train_y, test_y = train_test_split(X_new, Y_new, test_size=0.3, random_state=42, stratify=Y_new)"
   ]
  },
  {
   "cell_type": "code",
   "execution_count": 170,
   "id": "adf7a671",
   "metadata": {
    "ExecuteTime": {
     "end_time": "2021-09-12T01:46:30.190256Z",
     "start_time": "2021-09-12T01:46:30.175523Z"
    }
   },
   "outputs": [
    {
     "data": {
      "text/plain": [
       "0.000   0.500\n",
       "1.000   0.500\n",
       "Name: top10, dtype: float64"
      ]
     },
     "execution_count": 170,
     "metadata": {},
     "output_type": "execute_result"
    }
   ],
   "source": [
    "train_y.value_counts(normalize=True)"
   ]
  },
  {
   "cell_type": "markdown",
   "id": "05299fcc",
   "metadata": {},
   "source": [
    "## Model fitting"
   ]
  },
  {
   "cell_type": "code",
   "execution_count": 173,
   "id": "d6512668",
   "metadata": {
    "ExecuteTime": {
     "end_time": "2021-09-12T01:49:07.200189Z",
     "start_time": "2021-09-12T01:49:07.197527Z"
    }
   },
   "outputs": [],
   "source": [
    "params ={'n_estimators':[3, 4, 5, 10],\n",
    "         'max_depth':[7, 8, 9, 10, 12, 14],\n",
    "         'min_samples_leaf':[12, 15, 18]\n",
    "}"
   ]
  },
  {
   "cell_type": "code",
   "execution_count": 174,
   "id": "847a233c",
   "metadata": {
    "ExecuteTime": {
     "end_time": "2021-09-12T01:56:35.016585Z",
     "start_time": "2021-09-12T01:54:33.189909Z"
    }
   },
   "outputs": [
    {
     "name": "stderr",
     "output_type": "stream",
     "text": [
      "/opt/anaconda3/lib/python3.8/site-packages/joblib/externals/loky/process_executor.py:688: UserWarning: A worker stopped while some jobs were given to the executor. This can be caused by a too short worker timeout or by a memory leak.\n",
      "  warnings.warn(\n"
     ]
    },
    {
     "data": {
      "text/plain": [
       "GridSearchCV(cv=2, estimator=RandomForestClassifier(n_jobs=-1, random_state=42),\n",
       "             n_jobs=-1,\n",
       "             param_grid={'max_depth': [7, 8, 9, 10, 12, 14],\n",
       "                         'min_samples_leaf': [12, 15, 18],\n",
       "                         'n_estimators': [3, 4, 5, 10]},\n",
       "             scoring='recall')"
      ]
     },
     "execution_count": 174,
     "metadata": {},
     "output_type": "execute_result"
    }
   ],
   "source": [
    "rf = RandomForestClassifier(random_state=42, n_jobs=-1)\n",
    "grid_cv = GridSearchCV(rf, param_grid=params, cv=2, n_jobs=-1, scoring='recall')\n",
    "grid_cv.fit(train_x, train_y)"
   ]
  },
  {
   "cell_type": "code",
   "execution_count": 175,
   "id": "9b8088eb",
   "metadata": {
    "ExecuteTime": {
     "end_time": "2021-09-12T01:56:35.022194Z",
     "start_time": "2021-09-12T01:56:35.018801Z"
    }
   },
   "outputs": [
    {
     "data": {
      "text/plain": [
       "{'max_depth': 7, 'min_samples_leaf': 12, 'n_estimators': 10}"
      ]
     },
     "execution_count": 175,
     "metadata": {},
     "output_type": "execute_result"
    }
   ],
   "source": [
    "grid_cv.best_params_"
   ]
  },
  {
   "cell_type": "code",
   "execution_count": 188,
   "id": "14bdf430",
   "metadata": {
    "ExecuteTime": {
     "end_time": "2021-09-12T02:01:13.940495Z",
     "start_time": "2021-09-12T02:01:13.937763Z"
    }
   },
   "outputs": [],
   "source": [
    "score = grid_cv.cv_results_['mean_test_score'].tolist()"
   ]
  },
  {
   "cell_type": "code",
   "execution_count": 189,
   "id": "e2aed574",
   "metadata": {
    "ExecuteTime": {
     "end_time": "2021-09-12T02:01:26.779685Z",
     "start_time": "2021-09-12T02:01:26.777186Z"
    }
   },
   "outputs": [],
   "source": [
    "score = pd.DataFrame(score)"
   ]
  },
  {
   "cell_type": "code",
   "execution_count": 199,
   "id": "b29bf2a2",
   "metadata": {
    "ExecuteTime": {
     "end_time": "2021-09-12T02:05:42.500823Z",
     "start_time": "2021-09-12T02:05:42.497935Z"
    }
   },
   "outputs": [],
   "source": [
    "score.columns = ['test recalls']"
   ]
  },
  {
   "cell_type": "code",
   "execution_count": 200,
   "id": "18244f85",
   "metadata": {
    "ExecuteTime": {
     "end_time": "2021-09-12T02:05:43.303289Z",
     "start_time": "2021-09-12T02:05:43.186296Z"
    }
   },
   "outputs": [
    {
     "data": {
      "text/plain": [
       "<AxesSubplot:>"
      ]
     },
     "execution_count": 200,
     "metadata": {},
     "output_type": "execute_result"
    },
    {
     "data": {
      "image/png": "[encoded data removed]",
      "text/plain": [
       "<Figure size 720x504 with 1 Axes>"
      ]
     },
     "metadata": {
      "needs_background": "light"
     },
     "output_type": "display_data"
    }
   ],
   "source": [
    "plt.figure(figsize=(10, 7))\n",
    "sns.lineplot(data = score)"
   ]
  },
  {
   "cell_type": "code",
   "execution_count": 201,
   "id": "4ae57886",
   "metadata": {
    "ExecuteTime": {
     "end_time": "2021-09-12T02:06:13.138174Z",
     "start_time": "2021-09-12T02:06:13.127503Z"
    },
    "scrolled": true
   },
   "outputs": [
    {
     "data": {
      "text/plain": [
       "[{'max_depth': 7, 'min_samples_leaf': 12, 'n_estimators': 3},\n",
       " {'max_depth': 7, 'min_samples_leaf': 12, 'n_estimators': 4},\n",
       " {'max_depth': 7, 'min_samples_leaf': 12, 'n_estimators': 5},\n",
       " {'max_depth': 7, 'min_samples_leaf': 12, 'n_estimators': 10},\n",
       " {'max_depth': 7, 'min_samples_leaf': 15, 'n_estimators': 3},\n",
       " {'max_depth': 7, 'min_samples_leaf': 15, 'n_estimators': 4},\n",
       " {'max_depth': 7, 'min_samples_leaf': 15, 'n_estimators': 5},\n",
       " {'max_depth': 7, 'min_samples_leaf': 15, 'n_estimators': 10},\n",
       " {'max_depth': 7, 'min_samples_leaf': 18, 'n_estimators': 3},\n",
       " {'max_depth': 7, 'min_samples_leaf': 18, 'n_estimators': 4},\n",
       " {'max_depth': 7, 'min_samples_leaf': 18, 'n_estimators': 5},\n",
       " {'max_depth': 7, 'min_samples_leaf': 18, 'n_estimators': 10},\n",
       " {'max_depth': 8, 'min_samples_leaf': 12, 'n_estimators': 3},\n",
       " {'max_depth': 8, 'min_samples_leaf': 12, 'n_estimators': 4},\n",
       " {'max_depth': 8, 'min_samples_leaf': 12, 'n_estimators': 5},\n",
       " {'max_depth': 8, 'min_samples_leaf': 12, 'n_estimators': 10},\n",
       " {'max_depth': 8, 'min_samples_leaf': 15, 'n_estimators': 3},\n",
       " {'max_depth': 8, 'min_samples_leaf': 15, 'n_estimators': 4},\n",
       " {'max_depth': 8, 'min_samples_leaf': 15, 'n_estimators': 5},\n",
       " {'max_depth': 8, 'min_samples_leaf': 15, 'n_estimators': 10},\n",
       " {'max_depth': 8, 'min_samples_leaf': 18, 'n_estimators': 3},\n",
       " {'max_depth': 8, 'min_samples_leaf': 18, 'n_estimators': 4},\n",
       " {'max_depth': 8, 'min_samples_leaf': 18, 'n_estimators': 5},\n",
       " {'max_depth': 8, 'min_samples_leaf': 18, 'n_estimators': 10},\n",
       " {'max_depth': 9, 'min_samples_leaf': 12, 'n_estimators': 3},\n",
       " {'max_depth': 9, 'min_samples_leaf': 12, 'n_estimators': 4},\n",
       " {'max_depth': 9, 'min_samples_leaf': 12, 'n_estimators': 5},\n",
       " {'max_depth': 9, 'min_samples_leaf': 12, 'n_estimators': 10},\n",
       " {'max_depth': 9, 'min_samples_leaf': 15, 'n_estimators': 3},\n",
       " {'max_depth': 9, 'min_samples_leaf': 15, 'n_estimators': 4},\n",
       " {'max_depth': 9, 'min_samples_leaf': 15, 'n_estimators': 5},\n",
       " {'max_depth': 9, 'min_samples_leaf': 15, 'n_estimators': 10},\n",
       " {'max_depth': 9, 'min_samples_leaf': 18, 'n_estimators': 3},\n",
       " {'max_depth': 9, 'min_samples_leaf': 18, 'n_estimators': 4},\n",
       " {'max_depth': 9, 'min_samples_leaf': 18, 'n_estimators': 5},\n",
       " {'max_depth': 9, 'min_samples_leaf': 18, 'n_estimators': 10},\n",
       " {'max_depth': 10, 'min_samples_leaf': 12, 'n_estimators': 3},\n",
       " {'max_depth': 10, 'min_samples_leaf': 12, 'n_estimators': 4},\n",
       " {'max_depth': 10, 'min_samples_leaf': 12, 'n_estimators': 5},\n",
       " {'max_depth': 10, 'min_samples_leaf': 12, 'n_estimators': 10},\n",
       " {'max_depth': 10, 'min_samples_leaf': 15, 'n_estimators': 3},\n",
       " {'max_depth': 10, 'min_samples_leaf': 15, 'n_estimators': 4},\n",
       " {'max_depth': 10, 'min_samples_leaf': 15, 'n_estimators': 5},\n",
       " {'max_depth': 10, 'min_samples_leaf': 15, 'n_estimators': 10},\n",
       " {'max_depth': 10, 'min_samples_leaf': 18, 'n_estimators': 3},\n",
       " {'max_depth': 10, 'min_samples_leaf': 18, 'n_estimators': 4},\n",
       " {'max_depth': 10, 'min_samples_leaf': 18, 'n_estimators': 5},\n",
       " {'max_depth': 10, 'min_samples_leaf': 18, 'n_estimators': 10},\n",
       " {'max_depth': 12, 'min_samples_leaf': 12, 'n_estimators': 3},\n",
       " {'max_depth': 12, 'min_samples_leaf': 12, 'n_estimators': 4},\n",
       " {'max_depth': 12, 'min_samples_leaf': 12, 'n_estimators': 5},\n",
       " {'max_depth': 12, 'min_samples_leaf': 12, 'n_estimators': 10},\n",
       " {'max_depth': 12, 'min_samples_leaf': 15, 'n_estimators': 3},\n",
       " {'max_depth': 12, 'min_samples_leaf': 15, 'n_estimators': 4},\n",
       " {'max_depth': 12, 'min_samples_leaf': 15, 'n_estimators': 5},\n",
       " {'max_depth': 12, 'min_samples_leaf': 15, 'n_estimators': 10},\n",
       " {'max_depth': 12, 'min_samples_leaf': 18, 'n_estimators': 3},\n",
       " {'max_depth': 12, 'min_samples_leaf': 18, 'n_estimators': 4},\n",
       " {'max_depth': 12, 'min_samples_leaf': 18, 'n_estimators': 5},\n",
       " {'max_depth': 12, 'min_samples_leaf': 18, 'n_estimators': 10},\n",
       " {'max_depth': 14, 'min_samples_leaf': 12, 'n_estimators': 3},\n",
       " {'max_depth': 14, 'min_samples_leaf': 12, 'n_estimators': 4},\n",
       " {'max_depth': 14, 'min_samples_leaf': 12, 'n_estimators': 5},\n",
       " {'max_depth': 14, 'min_samples_leaf': 12, 'n_estimators': 10},\n",
       " {'max_depth': 14, 'min_samples_leaf': 15, 'n_estimators': 3},\n",
       " {'max_depth': 14, 'min_samples_leaf': 15, 'n_estimators': 4},\n",
       " {'max_depth': 14, 'min_samples_leaf': 15, 'n_estimators': 5},\n",
       " {'max_depth': 14, 'min_samples_leaf': 15, 'n_estimators': 10},\n",
       " {'max_depth': 14, 'min_samples_leaf': 18, 'n_estimators': 3},\n",
       " {'max_depth': 14, 'min_samples_leaf': 18, 'n_estimators': 4},\n",
       " {'max_depth': 14, 'min_samples_leaf': 18, 'n_estimators': 5},\n",
       " {'max_depth': 14, 'min_samples_leaf': 18, 'n_estimators': 10}]"
      ]
     },
     "execution_count": 201,
     "metadata": {},
     "output_type": "execute_result"
    }
   ],
   "source": [
    "grid_cv.cv_results_['params']"
   ]
  },
  {
   "cell_type": "code",
   "execution_count": 209,
   "id": "e4307003",
   "metadata": {
    "ExecuteTime": {
     "end_time": "2021-09-12T02:29:19.337565Z",
     "start_time": "2021-09-12T02:29:19.335055Z"
    }
   },
   "outputs": [],
   "source": [
    "forest_clf = RandomForestClassifier(random_state=42, max_depth=7, min_samples_leaf=12, n_estimators=10)"
   ]
  },
  {
   "cell_type": "code",
   "execution_count": 21,
   "id": "8434906a",
   "metadata": {
    "ExecuteTime": {
     "end_time": "2021-09-08T07:07:41.052709Z",
     "start_time": "2021-09-08T07:07:24.796678Z"
    },
    "scrolled": true
   },
   "outputs": [
    {
     "data": {
      "text/plain": [
       "RandomForestClassifier(max_depth=7, min_samples_leaf=12, n_estimators=10,\n",
       "                       random_state=42)"
      ]
     },
     "execution_count": 21,
     "metadata": {},
     "output_type": "execute_result"
    }
   ],
   "source": [
    "forest_clf.fit(train_x, train_y)"
   ]
  },
  {
   "cell_type": "code",
   "execution_count": 82,
   "id": "196e1215",
   "metadata": {
    "ExecuteTime": {
     "end_time": "2021-09-01T15:51:48.503696Z",
     "start_time": "2021-09-01T15:51:48.495892Z"
    }
   },
   "outputs": [
    {
     "data": {
      "text/plain": [
       "[DecisionTreeClassifier(max_depth=7, max_features='auto', min_samples_leaf=12,\n",
       "                        random_state=1608637542),\n",
       " DecisionTreeClassifier(max_depth=7, max_features='auto', min_samples_leaf=12,\n",
       "                        random_state=1273642419),\n",
       " DecisionTreeClassifier(max_depth=7, max_features='auto', min_samples_leaf=12,\n",
       "                        random_state=1935803228),\n",
       " DecisionTreeClassifier(max_depth=7, max_features='auto', min_samples_leaf=12,\n",
       "                        random_state=787846414),\n",
       " DecisionTreeClassifier(max_depth=7, max_features='auto', min_samples_leaf=12,\n",
       "                        random_state=996406378),\n",
       " DecisionTreeClassifier(max_depth=7, max_features='auto', min_samples_leaf=12,\n",
       "                        random_state=1201263687),\n",
       " DecisionTreeClassifier(max_depth=7, max_features='auto', min_samples_leaf=12,\n",
       "                        random_state=423734972),\n",
       " DecisionTreeClassifier(max_depth=7, max_features='auto', min_samples_leaf=12,\n",
       "                        random_state=415968276),\n",
       " DecisionTreeClassifier(max_depth=7, max_features='auto', min_samples_leaf=12,\n",
       "                        random_state=670094950),\n",
       " DecisionTreeClassifier(max_depth=7, max_features='auto', min_samples_leaf=12,\n",
       "                        random_state=1914837113)]"
      ]
     },
     "execution_count": 82,
     "metadata": {},
     "output_type": "execute_result"
    }
   ],
   "source": [
    "forest_clf.estimators_"
   ]
  },
  {
   "cell_type": "code",
   "execution_count": 83,
   "id": "397b9db6",
   "metadata": {
    "ExecuteTime": {
     "end_time": "2021-09-01T15:51:48.515884Z",
     "start_time": "2021-09-01T15:51:48.505752Z"
    }
   },
   "outputs": [],
   "source": [
    "from sklearn.tree import export_graphviz\n",
    "\n",
    "import pydotplus\n",
    "\n",
    "estimator = forest_clf.estimators_[3]\n",
    "\n",
    "graph = export_graphviz(estimator, out_file=None, \n",
    "                feature_names = X.columns.to_list(),\n",
    "                class_names = ['0', '1'],\n",
    "                max_depth = 2, # 표현하고 싶은 최대 depth\n",
    "                precision = 2, # 소수점 표기 자릿수\n",
    "                filled = True, # class별 color 채우기\n",
    "                rounded=True, # 박스의 모양을 둥글게\n",
    "               )"
   ]
  },
  {
   "cell_type": "code",
   "execution_count": 84,
   "id": "c02f562e",
   "metadata": {
    "ExecuteTime": {
     "end_time": "2021-09-01T15:51:48.598897Z",
     "start_time": "2021-09-01T15:51:48.517732Z"
    }
   },
   "outputs": [],
   "source": [
    "graph_2 = pydotplus.graph_from_dot_data(graph)"
   ]
  },
  {
   "cell_type": "code",
   "execution_count": 85,
   "id": "65fdd78e",
   "metadata": {
    "ExecuteTime": {
     "end_time": "2021-09-01T15:51:48.602499Z",
     "start_time": "2021-09-01T15:51:48.600466Z"
    }
   },
   "outputs": [],
   "source": [
    "from IPython.display import Image"
   ]
  },
  {
   "cell_type": "code",
   "execution_count": 86,
   "id": "b988fb92",
   "metadata": {
    "ExecuteTime": {
     "end_time": "2021-09-01T15:51:49.045285Z",
     "start_time": "2021-09-01T15:51:48.604014Z"
    }
   },
   "outputs": [
    {
     "data": {
      "image/png": "[encoded data removed]",
      "text/plain": [
       "<IPython.core.display.Image object>"
      ]
     },
     "execution_count": 86,
     "metadata": {
      "image/png": {
       "height": 267,
       "width": 483
      }
     },
     "output_type": "execute_result"
    }
   ],
   "source": [
    "Image(graph_2.create_png(), retina=True)"
   ]
  },
  {
   "cell_type": "markdown",
   "id": "162e8951",
   "metadata": {},
   "source": [
    "## Train"
   ]
  },
  {
   "cell_type": "code",
   "execution_count": 87,
   "id": "139492f1",
   "metadata": {
    "ExecuteTime": {
     "end_time": "2021-09-01T15:51:49.896014Z",
     "start_time": "2021-09-01T15:51:49.048541Z"
    }
   },
   "outputs": [],
   "source": [
    "pred_train_y = forest_clf.predict(train_x) "
   ]
  },
  {
   "cell_type": "markdown",
   "id": "8cde88f5",
   "metadata": {},
   "source": [
    "### Confusion matrix"
   ]
  },
  {
   "cell_type": "code",
   "execution_count": 88,
   "id": "c96644a2",
   "metadata": {
    "ExecuteTime": {
     "end_time": "2021-09-01T15:51:50.667013Z",
     "start_time": "2021-09-01T15:51:49.900509Z"
    }
   },
   "outputs": [
    {
     "data": {
      "text/plain": [
       "array([[433869, 127050],\n",
       "       [ 73391, 487528]])"
      ]
     },
     "execution_count": 88,
     "metadata": {},
     "output_type": "execute_result"
    }
   ],
   "source": [
    "confusion_matrix(train_y, pred_train_y)"
   ]
  },
  {
   "cell_type": "code",
   "execution_count": 89,
   "id": "4d8a4f95",
   "metadata": {
    "ExecuteTime": {
     "end_time": "2021-09-01T15:51:50.818178Z",
     "start_time": "2021-09-01T15:51:50.669196Z"
    }
   },
   "outputs": [
    {
     "data": {
      "text/plain": [
       "0.8213280348856073"
      ]
     },
     "execution_count": 89,
     "metadata": {},
     "output_type": "execute_result"
    }
   ],
   "source": [
    "# Accuracy\n",
    "\n",
    "accuracy_score(train_y, pred_train_y)"
   ]
  },
  {
   "cell_type": "code",
   "execution_count": 90,
   "id": "a3aad97d",
   "metadata": {
    "ExecuteTime": {
     "end_time": "2021-09-01T15:51:51.480153Z",
     "start_time": "2021-09-01T15:51:50.819677Z"
    }
   },
   "outputs": [
    {
     "data": {
      "text/plain": [
       "0.7932727822993989"
      ]
     },
     "execution_count": 90,
     "metadata": {},
     "output_type": "execute_result"
    }
   ],
   "source": [
    "# Precision\n",
    "\n",
    "precision_score(train_y, pred_train_y)"
   ]
  },
  {
   "cell_type": "code",
   "execution_count": 91,
   "id": "fb167bdd",
   "metadata": {
    "ExecuteTime": {
     "end_time": "2021-09-01T15:51:52.142370Z",
     "start_time": "2021-09-01T15:51:51.481661Z"
    }
   },
   "outputs": [
    {
     "data": {
      "text/plain": [
       "0.8691593616903689"
      ]
     },
     "execution_count": 91,
     "metadata": {},
     "output_type": "execute_result"
    }
   ],
   "source": [
    "# Recall\n",
    "\n",
    "recall_score(train_y, pred_train_y)"
   ]
  },
  {
   "cell_type": "code",
   "execution_count": 92,
   "id": "9af1fab9",
   "metadata": {
    "ExecuteTime": {
     "end_time": "2021-09-01T15:51:52.804075Z",
     "start_time": "2021-09-01T15:51:52.143937Z"
    }
   },
   "outputs": [
    {
     "data": {
      "text/plain": [
       "0.8294840395169022"
      ]
     },
     "execution_count": 92,
     "metadata": {},
     "output_type": "execute_result"
    }
   ],
   "source": [
    "# F1 Score\n",
    "\n",
    "f1_score(train_y, pred_train_y)"
   ]
  },
  {
   "cell_type": "markdown",
   "id": "49686271",
   "metadata": {},
   "source": [
    "### Precision recall curve"
   ]
  },
  {
   "cell_type": "code",
   "execution_count": 93,
   "id": "eecb3789",
   "metadata": {
    "ExecuteTime": {
     "end_time": "2021-09-01T15:51:53.837649Z",
     "start_time": "2021-09-01T15:51:52.805623Z"
    }
   },
   "outputs": [
    {
     "data": {
      "text/plain": [
       "(229721, 229721, 229720)"
      ]
     },
     "execution_count": 93,
     "metadata": {},
     "output_type": "execute_result"
    }
   ],
   "source": [
    "train_y_scores = forest_clf.predict_proba(train_x)[:, 1]\n",
    "precisions, recalls, thresholds = precision_recall_curve(train_y, train_y_scores)\n",
    "len(precisions), len(recalls), len(thresholds)"
   ]
  },
  {
   "cell_type": "code",
   "execution_count": 94,
   "id": "7b10e681",
   "metadata": {
    "ExecuteTime": {
     "end_time": "2021-09-01T15:51:54.373209Z",
     "start_time": "2021-09-01T15:51:53.839072Z"
    }
   },
   "outputs": [
    {
     "data": {
      "text/plain": [
       "<matplotlib.legend.Legend at 0x7ff3590d05e0>"
      ]
     },
     "execution_count": 94,
     "metadata": {},
     "output_type": "execute_result"
    },
    {
     "data": {
      "image/png": "[encoded data removed]",
      "text/plain": [
       "<Figure size 720x360 with 1 Axes>"
      ]
     },
     "metadata": {
      "needs_background": "light"
     },
     "output_type": "display_data"
    }
   ],
   "source": [
    "plt.figure(figsize=(10,5))\n",
    "plot1, = plt.plot(thresholds, precisions[:-1], 'b--', label='Precision')\n",
    "plot2, = plt.plot(thresholds, recalls[:-1], 'g-', label='Recall')\n",
    "plt.xlabel(\"thresholds\")\n",
    "plt.legend()"
   ]
  },
  {
   "cell_type": "code",
   "execution_count": 95,
   "id": "b72f47c4",
   "metadata": {
    "ExecuteTime": {
     "end_time": "2021-09-01T15:51:54.482487Z",
     "start_time": "2021-09-01T15:51:54.374759Z"
    }
   },
   "outputs": [
    {
     "data": {
      "text/plain": [
       "Text(0, 0.5, 'Precision')"
      ]
     },
     "execution_count": 95,
     "metadata": {},
     "output_type": "execute_result"
    },
    {
     "data": {
      "image/png": "[encoded data removed]",
      "text/plain": [
       "<Figure size 576x360 with 1 Axes>"
      ]
     },
     "metadata": {
      "needs_background": "light"
     },
     "output_type": "display_data"
    }
   ],
   "source": [
    "plt.figure(figsize=(8, 5))\n",
    "plot1, = plt.plot(recalls, precisions, 'b-')\n",
    "plt.xlabel('Recall')\n",
    "plt.ylabel('Precision')\n",
    "# plt.xlim((0, 1))\n",
    "# plt.ylim((0, 1))"
   ]
  },
  {
   "cell_type": "markdown",
   "id": "c3d7b03d",
   "metadata": {},
   "source": [
    "### ROC curve"
   ]
  },
  {
   "cell_type": "code",
   "execution_count": 96,
   "id": "592d8c25",
   "metadata": {
    "ExecuteTime": {
     "end_time": "2021-09-01T15:51:54.742755Z",
     "start_time": "2021-09-01T15:51:54.483944Z"
    }
   },
   "outputs": [],
   "source": [
    "fpr, tpr, thresholds = roc_curve(train_y, train_y_scores)"
   ]
  },
  {
   "cell_type": "code",
   "execution_count": 97,
   "id": "81dd9a11",
   "metadata": {
    "ExecuteTime": {
     "end_time": "2021-09-01T15:51:54.746515Z",
     "start_time": "2021-09-01T15:51:54.744347Z"
    }
   },
   "outputs": [],
   "source": [
    "# MAC 기준\n",
    "# Window font: 'Malgun Gothic'\n",
    "\n",
    "plt.rc('font', family='AppleGothic')\n",
    "plt.rc('axes', unicode_minus=False)"
   ]
  },
  {
   "cell_type": "code",
   "execution_count": 98,
   "id": "25e8d996",
   "metadata": {
    "ExecuteTime": {
     "end_time": "2021-09-01T15:51:54.864474Z",
     "start_time": "2021-09-01T15:51:54.748139Z"
    }
   },
   "outputs": [
    {
     "data": {
      "text/plain": [
       "Text(0, 0.5, '진짜 양성 비율(TPR, 재현율)')"
      ]
     },
     "execution_count": 98,
     "metadata": {},
     "output_type": "execute_result"
    },
    {
     "data": {
      "image/png": "[encoded data removed]",
      "text/plain": [
       "<Figure size 576x360 with 1 Axes>"
      ]
     },
     "metadata": {
      "needs_background": "light"
     },
     "output_type": "display_data"
    }
   ],
   "source": [
    "plt.figure(figsize=(8, 5))\n",
    "plt.plot(fpr, tpr, 'b-')\n",
    "plt.plot([0, 1], [0, 1], 'k--')\n",
    "plt.xlabel('거짓 양성 비율(FPR)')\n",
    "plt.ylabel('진짜 양성 비율(TPR, 재현율)')\n",
    "# plt.xlim((0, 1))\n",
    "# plt.ylim((0, 1))"
   ]
  },
  {
   "cell_type": "code",
   "execution_count": 99,
   "id": "526e3b40",
   "metadata": {
    "ExecuteTime": {
     "end_time": "2021-09-01T15:51:55.258920Z",
     "start_time": "2021-09-01T15:51:54.865923Z"
    }
   },
   "outputs": [
    {
     "data": {
      "text/plain": [
       "0.9023108259757848"
      ]
     },
     "execution_count": 99,
     "metadata": {},
     "output_type": "execute_result"
    }
   ],
   "source": [
    "# AUC 계산\n",
    "\n",
    "roc_auc_score(train_y, train_y_scores)"
   ]
  },
  {
   "cell_type": "markdown",
   "id": "15f30c04",
   "metadata": {},
   "source": [
    "## Test"
   ]
  },
  {
   "cell_type": "code",
   "execution_count": 100,
   "id": "bdfc0674",
   "metadata": {
    "ExecuteTime": {
     "end_time": "2021-09-01T15:51:57.194220Z",
     "start_time": "2021-09-01T15:51:55.260523Z"
    }
   },
   "outputs": [],
   "source": [
    "pred_y = forest_clf.predict(test_x) "
   ]
  },
  {
   "cell_type": "markdown",
   "id": "76857ea7",
   "metadata": {},
   "source": [
    "### Confusion matrix"
   ]
  },
  {
   "cell_type": "code",
   "execution_count": 103,
   "id": "de955feb",
   "metadata": {
    "ExecuteTime": {
     "end_time": "2021-09-01T15:51:59.427182Z",
     "start_time": "2021-09-01T15:51:57.953190Z"
    }
   },
   "outputs": [
    {
     "data": {
      "text/plain": [
       "array([[1477177,  432497],\n",
       "       [  31710,  208525]])"
      ]
     },
     "execution_count": 103,
     "metadata": {},
     "output_type": "execute_result"
    }
   ],
   "source": [
    "confusion_matrix(test_y, pred_y)"
   ]
  },
  {
   "cell_type": "code",
   "execution_count": 102,
   "id": "298ff94e",
   "metadata": {
    "ExecuteTime": {
     "end_time": "2021-09-01T15:51:57.948555Z",
     "start_time": "2021-09-01T15:51:57.198825Z"
    }
   },
   "outputs": [
    {
     "data": {
      "text/plain": [
       "array([[433869, 127050],\n",
       "       [ 73391, 487528]])"
      ]
     },
     "execution_count": 102,
     "metadata": {},
     "output_type": "execute_result"
    }
   ],
   "source": [
    "confusion_matrix(train_y, pred_train_y)"
   ]
  },
  {
   "cell_type": "code",
   "execution_count": 105,
   "id": "4e9e081f",
   "metadata": {
    "ExecuteTime": {
     "end_time": "2021-09-01T15:51:59.891433Z",
     "start_time": "2021-09-01T15:51:59.581777Z"
    }
   },
   "outputs": [
    {
     "data": {
      "text/plain": [
       "0.7840806285289285"
      ]
     },
     "execution_count": 105,
     "metadata": {},
     "output_type": "execute_result"
    }
   ],
   "source": [
    "# Test Accuracy\n",
    "\n",
    "accuracy_score(test_y, pred_y)"
   ]
  },
  {
   "cell_type": "code",
   "execution_count": 107,
   "id": "47489762",
   "metadata": {
    "ExecuteTime": {
     "end_time": "2021-09-01T15:52:01.889154Z",
     "start_time": "2021-09-01T15:52:00.546371Z"
    }
   },
   "outputs": [
    {
     "data": {
      "text/plain": [
       "0.325300847708815"
      ]
     },
     "execution_count": 107,
     "metadata": {},
     "output_type": "execute_result"
    }
   ],
   "source": [
    "# Test Precision\n",
    "\n",
    "precision_score(test_y, pred_y)"
   ]
  },
  {
   "cell_type": "code",
   "execution_count": 109,
   "id": "c1ec67ed",
   "metadata": {
    "ExecuteTime": {
     "end_time": "2021-09-01T15:52:03.878520Z",
     "start_time": "2021-09-01T15:52:02.552125Z"
    }
   },
   "outputs": [
    {
     "data": {
      "text/plain": [
       "0.8680042458426125"
      ]
     },
     "execution_count": 109,
     "metadata": {},
     "output_type": "execute_result"
    }
   ],
   "source": [
    "# Test Recall\n",
    "\n",
    "recall_score(test_y, pred_y)"
   ]
  },
  {
   "cell_type": "code",
   "execution_count": 111,
   "id": "66431c41",
   "metadata": {
    "ExecuteTime": {
     "end_time": "2021-09-01T15:52:05.869379Z",
     "start_time": "2021-09-01T15:52:04.536047Z"
    }
   },
   "outputs": [
    {
     "data": {
      "text/plain": [
       "0.47324446784536184"
      ]
     },
     "execution_count": 111,
     "metadata": {},
     "output_type": "execute_result"
    }
   ],
   "source": [
    "# Test F1 Score\n",
    "\n",
    "f1_score(test_y, pred_y)"
   ]
  },
  {
   "cell_type": "markdown",
   "id": "2e7fc60c",
   "metadata": {},
   "source": [
    "### Precision  recall curve "
   ]
  },
  {
   "cell_type": "code",
   "execution_count": 112,
   "id": "d7c7da25",
   "metadata": {
    "ExecuteTime": {
     "end_time": "2021-09-01T15:52:07.833448Z",
     "start_time": "2021-09-01T15:52:05.871019Z"
    }
   },
   "outputs": [
    {
     "data": {
      "text/plain": [
       "(264074, 264074, 264073)"
      ]
     },
     "execution_count": 112,
     "metadata": {},
     "output_type": "execute_result"
    }
   ],
   "source": [
    "y_scores = forest_clf.predict_proba(test_x)[:, 1]\n",
    "precisions, recalls, thresholds = precision_recall_curve(test_y, y_scores)\n",
    "len(precisions), len(recalls), len(thresholds)"
   ]
  },
  {
   "cell_type": "code",
   "execution_count": 113,
   "id": "429b0f02",
   "metadata": {
    "ExecuteTime": {
     "end_time": "2021-09-01T15:52:08.723663Z",
     "start_time": "2021-09-01T15:52:07.835054Z"
    }
   },
   "outputs": [
    {
     "data": {
      "text/plain": [
       "<matplotlib.legend.Legend at 0x7ff3c5c336d0>"
      ]
     },
     "execution_count": 113,
     "metadata": {},
     "output_type": "execute_result"
    },
    {
     "data": {
      "image/png": "[encoded data removed]",
      "text/plain": [
       "<Figure size 720x360 with 1 Axes>"
      ]
     },
     "metadata": {
      "needs_background": "light"
     },
     "output_type": "display_data"
    }
   ],
   "source": [
    "plt.figure(figsize=(10,5))\n",
    "plot1, = plt.plot(thresholds, precisions[:-1], 'b--', label='Precision')\n",
    "plot2, = plt.plot(thresholds, recalls[:-1], 'g-', label='Recall')\n",
    "plt.xlabel(\"thresholds\")\n",
    "plt.legend()"
   ]
  },
  {
   "cell_type": "code",
   "execution_count": 114,
   "id": "f2a99775",
   "metadata": {
    "ExecuteTime": {
     "end_time": "2021-09-01T15:52:08.834854Z",
     "start_time": "2021-09-01T15:52:08.725122Z"
    }
   },
   "outputs": [
    {
     "data": {
      "text/plain": [
       "Text(0, 0.5, 'Precision')"
      ]
     },
     "execution_count": 114,
     "metadata": {},
     "output_type": "execute_result"
    },
    {
     "data": {
      "image/png": "[encoded data removed]",
      "text/plain": [
       "<Figure size 576x360 with 1 Axes>"
      ]
     },
     "metadata": {
      "needs_background": "light"
     },
     "output_type": "display_data"
    }
   ],
   "source": [
    "plt.figure(figsize=(8, 5))\n",
    "plot1, = plt.plot(recalls, precisions, 'b-')\n",
    "plt.xlabel('Recall')\n",
    "plt.ylabel('Precision')\n",
    "# plt.xlim((0, 1))\n",
    "# plt.ylim((0, 1))"
   ]
  },
  {
   "cell_type": "markdown",
   "id": "228fa503",
   "metadata": {
    "ExecuteTime": {
     "end_time": "2021-08-29T12:19:30.742495Z",
     "start_time": "2021-08-29T12:19:30.740268Z"
    }
   },
   "source": [
    "### ROC curve"
   ]
  },
  {
   "cell_type": "code",
   "execution_count": 115,
   "id": "18c5ae21",
   "metadata": {
    "ExecuteTime": {
     "end_time": "2021-09-01T15:52:09.365354Z",
     "start_time": "2021-09-01T15:52:08.836325Z"
    }
   },
   "outputs": [],
   "source": [
    "fpr, tpr, thresholds = roc_curve(test_y, y_scores)"
   ]
  },
  {
   "cell_type": "code",
   "execution_count": 116,
   "id": "9c967b6d",
   "metadata": {
    "ExecuteTime": {
     "end_time": "2021-09-01T15:52:09.476578Z",
     "start_time": "2021-09-01T15:52:09.366978Z"
    },
    "scrolled": false
   },
   "outputs": [
    {
     "data": {
      "text/plain": [
       "(0.0, 1.0)"
      ]
     },
     "execution_count": 116,
     "metadata": {},
     "output_type": "execute_result"
    },
    {
     "data": {
      "image/png": "[encoded data removed]",
      "text/plain": [
       "<Figure size 576x360 with 1 Axes>"
      ]
     },
     "metadata": {
      "needs_background": "light"
     },
     "output_type": "display_data"
    }
   ],
   "source": [
    "plt.figure(figsize=(8, 5))\n",
    "plt.plot(fpr, tpr, 'b-')\n",
    "plt.plot([0, 1], [0, 1], 'k--')\n",
    "plt.xlabel('거짓 양성 비율(FPR)')\n",
    "plt.ylabel('진짜 양성 비율(TPR, 재현율)')\n",
    "plt.xlim((0, 1))\n",
    "plt.ylim((0, 1))"
   ]
  },
  {
   "cell_type": "code",
   "execution_count": 117,
   "id": "1aa672c8",
   "metadata": {
    "ExecuteTime": {
     "end_time": "2021-09-01T15:52:10.275770Z",
     "start_time": "2021-09-01T15:52:09.477973Z"
    }
   },
   "outputs": [
    {
     "data": {
      "text/plain": [
       "0.901864746318118"
      ]
     },
     "execution_count": 117,
     "metadata": {},
     "output_type": "execute_result"
    }
   ],
   "source": [
    "# AUC 계산\n",
    "\n",
    "roc_auc_score(test_y, y_scores)"
   ]
  },
  {
   "cell_type": "markdown",
   "id": "6c8600f7",
   "metadata": {},
   "source": [
    "## Feature Importance"
   ]
  },
  {
   "cell_type": "code",
   "execution_count": 118,
   "id": "7b29f235",
   "metadata": {
    "ExecuteTime": {
     "end_time": "2021-09-01T15:52:10.565228Z",
     "start_time": "2021-09-01T15:52:10.277390Z"
    },
    "scrolled": false
   },
   "outputs": [
    {
     "data": {
      "image/png": "[encoded data removed]",
      "text/plain": [
       "<Figure size 2160x1080 with 1 Axes>"
      ]
     },
     "metadata": {},
     "output_type": "display_data"
    },
    {
     "data": {
      "text/plain": [
       "None"
      ]
     },
     "metadata": {},
     "output_type": "display_data"
    },
    {
     "data": {
      "text/html": [
       "<div>\n",
       "<style scoped>\n",
       "    .dataframe tbody tr th:only-of-type {\n",
       "        vertical-align: middle;\n",
       "    }\n",
       "\n",
       "    .dataframe tbody tr th {\n",
       "        vertical-align: top;\n",
       "    }\n",
       "\n",
       "    .dataframe thead th {\n",
       "        text-align: right;\n",
       "    }\n",
       "</style>\n",
       "<table border=\"1\" class=\"dataframe\">\n",
       "  <thead>\n",
       "    <tr style=\"text-align: right;\">\n",
       "      <th></th>\n",
       "      <th>Features</th>\n",
       "      <th>Gini-Importance</th>\n",
       "    </tr>\n",
       "  </thead>\n",
       "  <tbody>\n",
       "    <tr>\n",
       "      <th>0</th>\n",
       "      <td>kill_dist</td>\n",
       "      <td>0.322</td>\n",
       "    </tr>\n",
       "    <tr>\n",
       "      <th>1</th>\n",
       "      <td>dmg_per_kills</td>\n",
       "      <td>0.204</td>\n",
       "    </tr>\n",
       "    <tr>\n",
       "      <th>2</th>\n",
       "      <td>ride_ratio</td>\n",
       "      <td>0.162</td>\n",
       "    </tr>\n",
       "    <tr>\n",
       "      <th>3</th>\n",
       "      <td>outlier</td>\n",
       "      <td>0.089</td>\n",
       "    </tr>\n",
       "    <tr>\n",
       "      <th>4</th>\n",
       "      <td>long_range</td>\n",
       "      <td>0.086</td>\n",
       "    </tr>\n",
       "    <tr>\n",
       "      <th>5</th>\n",
       "      <td>tendency</td>\n",
       "      <td>0.053</td>\n",
       "    </tr>\n",
       "    <tr>\n",
       "      <th>6</th>\n",
       "      <td>team_level</td>\n",
       "      <td>0.023</td>\n",
       "    </tr>\n",
       "    <tr>\n",
       "      <th>7</th>\n",
       "      <td>M416</td>\n",
       "      <td>0.021</td>\n",
       "    </tr>\n",
       "    <tr>\n",
       "      <th>8</th>\n",
       "      <td>SCAR-L</td>\n",
       "      <td>0.016</td>\n",
       "    </tr>\n",
       "    <tr>\n",
       "      <th>9</th>\n",
       "      <td>M16A4</td>\n",
       "      <td>0.014</td>\n",
       "    </tr>\n",
       "    <tr>\n",
       "      <th>10</th>\n",
       "      <td>accident</td>\n",
       "      <td>0.003</td>\n",
       "    </tr>\n",
       "    <tr>\n",
       "      <th>11</th>\n",
       "      <td>hot_place</td>\n",
       "      <td>0.002</td>\n",
       "    </tr>\n",
       "    <tr>\n",
       "      <th>12</th>\n",
       "      <td>short_range</td>\n",
       "      <td>0.002</td>\n",
       "    </tr>\n",
       "    <tr>\n",
       "      <th>13</th>\n",
       "      <td>AKM</td>\n",
       "      <td>0.001</td>\n",
       "    </tr>\n",
       "    <tr>\n",
       "      <th>14</th>\n",
       "      <td>throwables</td>\n",
       "      <td>0.000</td>\n",
       "    </tr>\n",
       "    <tr>\n",
       "      <th>15</th>\n",
       "      <td>middle_range</td>\n",
       "      <td>0.000</td>\n",
       "    </tr>\n",
       "    <tr>\n",
       "      <th>16</th>\n",
       "      <td>team_cum_num</td>\n",
       "      <td>0.000</td>\n",
       "    </tr>\n",
       "    <tr>\n",
       "      <th>17</th>\n",
       "      <td>match_level</td>\n",
       "      <td>0.000</td>\n",
       "    </tr>\n",
       "    <tr>\n",
       "      <th>18</th>\n",
       "      <td>date_time</td>\n",
       "      <td>0.000</td>\n",
       "    </tr>\n",
       "    <tr>\n",
       "      <th>19</th>\n",
       "      <td>day_of_week</td>\n",
       "      <td>0.000</td>\n",
       "    </tr>\n",
       "  </tbody>\n",
       "</table>\n",
       "</div>"
      ],
      "text/plain": [
       "         Features  Gini-Importance\n",
       "0       kill_dist            0.322\n",
       "1   dmg_per_kills            0.204\n",
       "2      ride_ratio            0.162\n",
       "3         outlier            0.089\n",
       "4      long_range            0.086\n",
       "5        tendency            0.053\n",
       "6      team_level            0.023\n",
       "7            M416            0.021\n",
       "8          SCAR-L            0.016\n",
       "9           M16A4            0.014\n",
       "10       accident            0.003\n",
       "11      hot_place            0.002\n",
       "12    short_range            0.002\n",
       "13            AKM            0.001\n",
       "14     throwables            0.000\n",
       "15   middle_range            0.000\n",
       "16   team_cum_num            0.000\n",
       "17    match_level            0.000\n",
       "18      date_time            0.000\n",
       "19    day_of_week            0.000"
      ]
     },
     "metadata": {},
     "output_type": "display_data"
    }
   ],
   "source": [
    "feats = {}\n",
    "for feature, importance in zip(X.columns.tolist(), forest_clf.feature_importances_):\n",
    "    feats[feature] = importance\n",
    "importances = pd.DataFrame.from_dict(feats, orient='index').rename(columns={0:'Gini-Importance'})\n",
    "importances = importances.sort_values(by='Gini-Importance', ascending=False)\n",
    "importances = importances.reset_index()\n",
    "importances = importances.rename(columns={'index' : 'Features'})\n",
    "sns.set(font_scale=5)\n",
    "sns.set(style='whitegrid', color_codes=True, font_scale=1.7)\n",
    "fig, ax = plt.subplots()\n",
    "fig.set_size_inches(30, 15)\n",
    "sns.barplot(x=importances['Gini-Importance'], y=importances['Features'], data=importances, color='skyblue')\n",
    "plt.xlabel('Importance', fontsize=25, weight='bold')\n",
    "plt.ylabel('Features', fontsize=25, weight='bold')\n",
    "plt.title('Feature Importance', fontsize=25, weight='bold')\n",
    "display(plt.show())\n",
    "display(importances)"
   ]
  },
  {
   "cell_type": "markdown",
   "id": "3c28288f",
   "metadata": {
    "ExecuteTime": {
     "end_time": "2021-08-30T13:20:00.531888Z",
     "start_time": "2021-08-30T13:18:13.909Z"
    }
   },
   "source": [
    "## 비교"
   ]
  },
  {
   "cell_type": "markdown",
   "id": "77139bd7",
   "metadata": {},
   "source": [
    "### Train"
   ]
  },
  {
   "cell_type": "code",
   "execution_count": null,
   "id": "fa1053c3",
   "metadata": {
    "ExecuteTime": {
     "end_time": "2021-08-30T12:52:58.622417Z",
     "start_time": "2021-08-30T12:52:57.861215Z"
    }
   },
   "outputs": [],
   "source": [
    "confusion_matrix(train_y, pred_train_y)"
   ]
  },
  {
   "cell_type": "code",
   "execution_count": null,
   "id": "e9102977",
   "metadata": {
    "ExecuteTime": {
     "end_time": "2021-08-30T12:52:58.750028Z",
     "start_time": "2021-08-30T12:52:58.623870Z"
    }
   },
   "outputs": [],
   "source": [
    "accuracy_score(train_y, train_y_scores)\n",
    "roc_auc_score(train_y, train_y_scores)"
   ]
  },
  {
   "cell_type": "markdown",
   "id": "cb045023",
   "metadata": {},
   "source": [
    "### Test"
   ]
  },
  {
   "cell_type": "code",
   "execution_count": null,
   "id": "9e2b2494",
   "metadata": {
    "ExecuteTime": {
     "end_time": "2021-08-30T12:52:58.751997Z",
     "start_time": "2021-08-30T12:49:38.974Z"
    }
   },
   "outputs": [],
   "source": [
    "confusion_matrix(test_y, pred_y)"
   ]
  },
  {
   "cell_type": "code",
   "execution_count": null,
   "id": "15a846a5",
   "metadata": {
    "ExecuteTime": {
     "end_time": "2021-08-30T12:52:58.753067Z",
     "start_time": "2021-08-30T12:49:40.246Z"
    }
   },
   "outputs": [],
   "source": [
    "accuracy_score(test_y, y_scores)\n",
    "roc_auc_score(test_y, y_scores)"
   ]
  },
  {
   "cell_type": "markdown",
   "id": "02e02c23",
   "metadata": {},
   "source": [
    "# Dimensionality Reduction"
   ]
  },
  {
   "cell_type": "code",
   "execution_count": 202,
   "id": "54049b7b",
   "metadata": {
    "ExecuteTime": {
     "end_time": "2021-09-12T02:25:26.809369Z",
     "start_time": "2021-09-12T02:25:26.805269Z"
    }
   },
   "outputs": [
    {
     "data": {
      "text/plain": [
       "Index(['day_of_week', 'date_time', 'match_level', 'team_level', 'team_cum_num',\n",
       "       'outlier', 'dmg_per_kills', 'hot_place', 'kill_dist', 'tendency',\n",
       "       'ride_ratio', 'M416', 'M16A4', 'SCAR-L', 'AKM', 'short_range',\n",
       "       'middle_range', 'long_range', 'accident', 'throwables'],\n",
       "      dtype='object')"
      ]
     },
     "execution_count": 202,
     "metadata": {},
     "output_type": "execute_result"
    }
   ],
   "source": [
    "X.columns"
   ]
  },
  {
   "cell_type": "code",
   "execution_count": 205,
   "id": "806fc59f",
   "metadata": {
    "ExecuteTime": {
     "end_time": "2021-09-12T02:26:48.467342Z",
     "start_time": "2021-09-12T02:26:47.520983Z"
    }
   },
   "outputs": [],
   "source": [
    "new_X = X[['kill_dist', 'dmg_per_kills', 'ride_ratio', 'long_range', 'outlier', 'tendency', \n",
    "          'M416', 'SCAR-L', 'team_level', 'M16A4']]"
   ]
  },
  {
   "cell_type": "code",
   "execution_count": 206,
   "id": "b42025ff",
   "metadata": {
    "ExecuteTime": {
     "end_time": "2021-09-12T02:27:44.341419Z",
     "start_time": "2021-09-12T02:27:44.339121Z"
    }
   },
   "outputs": [],
   "source": [
    "reduced_cols = ['kill_dist', 'dmg_per_kills', 'ride_ratio', 'long_range', 'outlier', 'tendency', \n",
    "          'M416', 'SCAR-L', 'team_level', 'M16A4']"
   ]
  },
  {
   "cell_type": "code",
   "execution_count": 207,
   "id": "1e7e2cf8",
   "metadata": {
    "ExecuteTime": {
     "end_time": "2021-09-12T02:28:16.442167Z",
     "start_time": "2021-09-12T02:28:16.171309Z"
    }
   },
   "outputs": [],
   "source": [
    "new_train_x = train_x[reduced_cols]\n",
    "new_test_x = test_x[reduced_cols]"
   ]
  },
  {
   "cell_type": "code",
   "execution_count": 210,
   "id": "f9fdfba1",
   "metadata": {
    "ExecuteTime": {
     "end_time": "2021-09-12T02:29:42.061108Z",
     "start_time": "2021-09-12T02:29:26.053932Z"
    }
   },
   "outputs": [
    {
     "data": {
      "text/plain": [
       "RandomForestClassifier(max_depth=7, min_samples_leaf=12, n_estimators=10,\n",
       "                       random_state=42)"
      ]
     },
     "execution_count": 210,
     "metadata": {},
     "output_type": "execute_result"
    }
   ],
   "source": [
    "forest_clf.fit(new_train_x, train_y)"
   ]
  },
  {
   "cell_type": "markdown",
   "id": "8b7a4cb8",
   "metadata": {},
   "source": [
    "## Train"
   ]
  },
  {
   "cell_type": "code",
   "execution_count": 215,
   "id": "4038925a",
   "metadata": {
    "ExecuteTime": {
     "end_time": "2021-09-12T02:30:52.059640Z",
     "start_time": "2021-09-12T02:30:51.346378Z"
    }
   },
   "outputs": [],
   "source": [
    "new_pred_train_y = forest_clf.predict(new_train_x)"
   ]
  },
  {
   "cell_type": "code",
   "execution_count": 217,
   "id": "ba931304",
   "metadata": {
    "ExecuteTime": {
     "end_time": "2021-09-12T02:30:59.079303Z",
     "start_time": "2021-09-12T02:30:58.365128Z"
    }
   },
   "outputs": [
    {
     "data": {
      "text/plain": [
       "array([[432516, 128403],\n",
       "       [ 72171, 488748]])"
      ]
     },
     "execution_count": 217,
     "metadata": {},
     "output_type": "execute_result"
    }
   ],
   "source": [
    "confusion_matrix(train_y, new_pred_train_y)"
   ]
  },
  {
   "cell_type": "code",
   "execution_count": 218,
   "id": "5e46ef39",
   "metadata": {
    "ExecuteTime": {
     "end_time": "2021-09-12T02:31:24.355972Z",
     "start_time": "2021-09-12T02:31:24.208993Z"
    }
   },
   "outputs": [
    {
     "data": {
      "text/plain": [
       "0.821209479443556"
      ]
     },
     "execution_count": 218,
     "metadata": {},
     "output_type": "execute_result"
    }
   ],
   "source": [
    "# Accuracy\n",
    "\n",
    "accuracy_score(train_y, new_pred_train_y)"
   ]
  },
  {
   "cell_type": "code",
   "execution_count": 219,
   "id": "33705a13",
   "metadata": {
    "ExecuteTime": {
     "end_time": "2021-09-12T02:31:29.474121Z",
     "start_time": "2021-09-12T02:31:28.859131Z"
    }
   },
   "outputs": [
    {
     "data": {
      "text/plain": [
       "0.7919423285387207"
      ]
     },
     "execution_count": 219,
     "metadata": {},
     "output_type": "execute_result"
    }
   ],
   "source": [
    "# Precision\n",
    "\n",
    "precision_score(train_y, new_pred_train_y)"
   ]
  },
  {
   "cell_type": "code",
   "execution_count": 220,
   "id": "283ebe49",
   "metadata": {
    "ExecuteTime": {
     "end_time": "2021-09-12T02:31:33.590692Z",
     "start_time": "2021-09-12T02:31:32.963609Z"
    }
   },
   "outputs": [
    {
     "data": {
      "text/plain": [
       "0.8713343637851454"
      ]
     },
     "execution_count": 220,
     "metadata": {},
     "output_type": "execute_result"
    }
   ],
   "source": [
    "# Recall\n",
    "\n",
    "recall_score(train_y, new_pred_train_y)"
   ]
  },
  {
   "cell_type": "code",
   "execution_count": 221,
   "id": "47f97115",
   "metadata": {
    "ExecuteTime": {
     "end_time": "2021-09-12T02:31:36.998188Z",
     "start_time": "2021-09-12T02:31:36.374372Z"
    }
   },
   "outputs": [
    {
     "data": {
      "text/plain": [
       "0.8297435636252516"
      ]
     },
     "execution_count": 221,
     "metadata": {},
     "output_type": "execute_result"
    }
   ],
   "source": [
    "# F1 Score\n",
    "\n",
    "f1_score(train_y, new_pred_train_y)"
   ]
  },
  {
   "cell_type": "markdown",
   "id": "f1bd530b",
   "metadata": {},
   "source": [
    "## Test"
   ]
  },
  {
   "cell_type": "code",
   "execution_count": 223,
   "id": "1b787f2e",
   "metadata": {
    "ExecuteTime": {
     "end_time": "2021-09-12T02:32:24.921957Z",
     "start_time": "2021-09-12T02:32:23.535407Z"
    }
   },
   "outputs": [],
   "source": [
    "new_pred_y = forest_clf.predict(new_test_x) "
   ]
  },
  {
   "cell_type": "code",
   "execution_count": 224,
   "id": "1c98268b",
   "metadata": {
    "ExecuteTime": {
     "end_time": "2021-09-12T02:32:39.423668Z",
     "start_time": "2021-09-12T02:32:38.011048Z"
    }
   },
   "outputs": [
    {
     "data": {
      "text/plain": [
       "array([[1472361,  437313],\n",
       "       [  31161,  209074]])"
      ]
     },
     "execution_count": 224,
     "metadata": {},
     "output_type": "execute_result"
    }
   ],
   "source": [
    "confusion_matrix(test_y, new_pred_y)"
   ]
  },
  {
   "cell_type": "code",
   "execution_count": 225,
   "id": "8befa127",
   "metadata": {
    "ExecuteTime": {
     "end_time": "2021-09-12T02:32:57.111359Z",
     "start_time": "2021-09-12T02:32:56.804467Z"
    }
   },
   "outputs": [
    {
     "data": {
      "text/plain": [
       "0.7820958933610679"
      ]
     },
     "execution_count": 225,
     "metadata": {},
     "output_type": "execute_result"
    }
   ],
   "source": [
    "# Accuracy\n",
    "\n",
    "accuracy_score(test_y, new_pred_y)"
   ]
  },
  {
   "cell_type": "code",
   "execution_count": 227,
   "id": "952609fd",
   "metadata": {
    "ExecuteTime": {
     "end_time": "2021-09-12T02:33:24.626286Z",
     "start_time": "2021-09-12T02:33:23.324652Z"
    }
   },
   "outputs": [
    {
     "data": {
      "text/plain": [
       "0.32345019315054296"
      ]
     },
     "execution_count": 227,
     "metadata": {},
     "output_type": "execute_result"
    }
   ],
   "source": [
    "# Precision\n",
    "\n",
    "precision_score(test_y, new_pred_y)"
   ]
  },
  {
   "cell_type": "code",
   "execution_count": 228,
   "id": "249d7fc1",
   "metadata": {
    "ExecuteTime": {
     "end_time": "2021-09-12T02:33:39.758364Z",
     "start_time": "2021-09-12T02:33:38.460651Z"
    }
   },
   "outputs": [
    {
     "data": {
      "text/plain": [
       "0.8702895081898974"
      ]
     },
     "execution_count": 228,
     "metadata": {},
     "output_type": "execute_result"
    }
   ],
   "source": [
    "# Recall\n",
    "\n",
    "recall_score(test_y, new_pred_y)"
   ]
  },
  {
   "cell_type": "code",
   "execution_count": 229,
   "id": "4d532dd1",
   "metadata": {
    "ExecuteTime": {
     "end_time": "2021-09-12T02:33:59.343497Z",
     "start_time": "2021-09-12T02:33:58.065829Z"
    }
   },
   "outputs": [
    {
     "data": {
      "text/plain": [
       "0.47161924698462254"
      ]
     },
     "execution_count": 229,
     "metadata": {},
     "output_type": "execute_result"
    }
   ],
   "source": [
    "# F1 Score\n",
    "\n",
    "f1_score(test_y, new_pred_y)"
   ]
  }
 ],
 "metadata": {
  "kernelspec": {
   "display_name": "Python 3",
   "language": "python",
   "name": "python3"
  },
  "language_info": {
   "codemirror_mode": {
    "name": "ipython",
    "version": 3
   },
   "file_extension": ".py",
   "mimetype": "text/x-python",
   "name": "python",
   "nbconvert_exporter": "python",
   "pygments_lexer": "ipython3",
   "version": "3.8.8"
  },
  "toc": {
   "base_numbering": 1,
   "nav_menu": {},
   "number_sections": true,
   "sideBar": true,
   "skip_h1_title": false,
   "title_cell": "Table of Contents",
   "title_sidebar": "Contents",
   "toc_cell": false,
   "toc_position": {
    "height": "calc(100% - 180px)",
    "left": "10px",
    "top": "150px",
    "width": "380px"
   },
   "toc_section_display": true,
   "toc_window_display": true
  }
 },
 "nbformat": 4,
 "nbformat_minor": 5
}
