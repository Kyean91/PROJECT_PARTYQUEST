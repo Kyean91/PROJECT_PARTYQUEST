{
 "cells": [
  {
   "cell_type": "markdown",
   "id": "6b128103",
   "metadata": {},
   "source": [
    "# Data Description"
   ]
  },
  {
   "cell_type": "markdown",
   "id": "1c94a049",
   "metadata": {},
   "source": [
    "## Data Source\n",
    "\n",
    "* PUBG Match Deaths and Statistics, Kaggle \n",
    "    \\- https://www.kaggle.com/skihikingkevin/pubg-match-deaths"
   ]
  },
  {
   "cell_type": "markdown",
   "id": "4d83d42b",
   "metadata": {},
   "source": [
    "## Data Introduction\n",
    "\n",
    "In this Kaggle Dataset, over 720,000 competitive matches from the popular game PlayerUnknown's Battlegrounds. The data was extracted from pubg.op.gg, a game tracker website.\n",
    "\n",
    "\n",
    "### PlayerUnknown's Battlegrounds\n",
    "\n",
    "PUBG is a first/third-person shooter battle royale style game that matches over 90 players on a large island where teams and players fight to the death until one remains. Players are airdropped from an airplane onto the island where they are to scavenge towns and buildings for weapons, ammo, armor and first-aid. Players will then decide to either fight or hide with the ultimate goal of being the last one standing. A bluezone (see below) will appear a few minutes into the game to corral players closer and closer together by dealing damage to anyone that stands within the bluezone and sparing whoever is within the safe zone.\n",
    "\n",
    "\n",
    "### The Dataset\n",
    "\n",
    "This dataset provides two zips: aggregate and deaths.\n",
    "\n",
    "In **deaths**, the files record every death that occurred within the 720k matches. That is, each row documents an event where a player has died in the match.\n",
    "\n",
    "In **aggregate**, each match's meta information and player statistics are summarized (as provided by pubg). It includes various aggregate statistics such as player kills, damage, distance walked, etc as well as metadata on the match itself such as queue size, fpp/tpp, date, etc.\n",
    "The uncompressed data is divided into 5 chunks of approximately 2gb each.\n",
    "\n",
    "### Columns in deaths\n",
    "\n",
    "1. killed_by: Which weapon is killed\n",
    "1. killer_name: Killer game id\n",
    "1. killer_placement: The final ranking of the team where the killer is located\n",
    "1. killer_position_x: X coordinate of the killer when the killing behavior occurs\n",
    "1. killer_position_y: Y coordinate of the killer when the killing behavior occurs\n",
    "1. map: Game Map(Erangel island/ Miramar desert)\n",
    "1. match_id : Event Unique ID\n",
    "1. time: When the kill occurs(How many seconds after the game starts)\n",
    "1. victim_name: The killed game id\n",
    "1. victim_position_x: X coordinate of the person being killed when the killing occurs\n",
    "1. victim_position_y: Y coordinate of the killer at the time of the killing behavior\n",
    "\n",
    "### Columns in aggregate\n",
    "\n",
    "1. date: Start time of the game\n",
    "1. game_size: Site size\n",
    "1. match_id: Event Unique ID\n",
    "1. match_mode: Game Mode(First/ Third Person View)\n",
    "1. party_size: Squad size(1person/ 2people/ 4people)\n",
    "1. player_assists: Rescue teammates\n",
    "1. player_dbno: Number of times the player was knocked down\n",
    "1. player_dist_ride: Driving Distance\n",
    "1. player_dist_walk: Walking distance\n",
    "1. player_dmg: Injury points\n",
    "1. player_kills: kills\n",
    "1. player_name: Player Game id\n",
    "1. player_survive_time: Player survival time\n",
    "1. team_id: The player's team number\n",
    "1. team_placement: The final ranking of the player's team"
   ]
  },
  {
   "cell_type": "markdown",
   "id": "42085fe9",
   "metadata": {},
   "source": [
    "# 라이브러리 및 데이터 로드"
   ]
  },
  {
   "cell_type": "markdown",
   "id": "0b32791b",
   "metadata": {},
   "source": [
    "## 라이브러리"
   ]
  },
  {
   "cell_type": "code",
   "execution_count": 1,
   "id": "9235dc1f",
   "metadata": {
    "ExecuteTime": {
     "end_time": "2021-08-26T13:38:16.952531Z",
     "start_time": "2021-08-26T13:38:15.618911Z"
    }
   },
   "outputs": [],
   "source": [
    "import pandas as pd\n",
    "import numpy as np\n",
    "import matplotlib.pyplot as plt\n",
    "import seaborn as sns\n",
    "import math\n",
    "from tqdm.auto import tqdm\n",
    "tqdm.pandas()\n",
    "import os"
   ]
  },
  {
   "cell_type": "code",
   "execution_count": 2,
   "id": "9f788efa",
   "metadata": {
    "ExecuteTime": {
     "end_time": "2021-08-26T13:38:16.956331Z",
     "start_time": "2021-08-26T13:38:16.954228Z"
    }
   },
   "outputs": [],
   "source": [
    "# MAC 기준\n",
    "# Window font: 'Malgun Gothic'\n",
    "\n",
    "plt.rc('font', family='AppleGothic')\n",
    "plt.rc('axes', unicode_minus=False)"
   ]
  },
  {
   "cell_type": "code",
   "execution_count": 3,
   "id": "ce86b550",
   "metadata": {
    "ExecuteTime": {
     "end_time": "2021-08-26T13:38:16.960711Z",
     "start_time": "2021-08-26T13:38:16.958274Z"
    }
   },
   "outputs": [],
   "source": [
    "pd.set_option('display.float_format', lambda x: '%.3f' % x)"
   ]
  },
  {
   "cell_type": "markdown",
   "id": "26877902",
   "metadata": {},
   "source": [
    "## 데이터"
   ]
  },
  {
   "cell_type": "code",
   "execution_count": null,
   "id": "3bf2aff3",
   "metadata": {
    "ExecuteTime": {
     "end_time": "2021-08-15T15:25:28.476946Z",
     "start_time": "2021-08-15T15:25:28.475022Z"
    }
   },
   "outputs": [],
   "source": [
    "data_dir = '../dataset/raw/'"
   ]
  },
  {
   "cell_type": "code",
   "execution_count": null,
   "id": "42e9e512",
   "metadata": {
    "ExecuteTime": {
     "end_time": "2021-08-26T09:18:32.699720Z",
     "start_time": "2021-08-26T09:18:32.696789Z"
    }
   },
   "outputs": [],
   "source": [
    "def data_load(data_dir, name_list, df_list):\n",
    "    df_list = []\n",
    "    for i in tqdm(name_list):\n",
    "        df_list.append(pd.read_csv(data_dir + i))\n",
    "    return df_list"
   ]
  },
  {
   "cell_type": "code",
   "execution_count": null,
   "id": "9f22dbe9",
   "metadata": {
    "ExecuteTime": {
     "end_time": "2021-08-15T15:27:28.355759Z",
     "start_time": "2021-08-15T15:25:28.483311Z"
    }
   },
   "outputs": [],
   "source": [
    "agg_data_dir = '../dataset/raw/aggregate/'\n",
    "agg_name_list = sorted(os.listdir(agg_data_dir))\n",
    "agg_list = []\n",
    "agg_list = data_load(agg_data_dir, agg_name_list, agg_list)"
   ]
  },
  {
   "cell_type": "code",
   "execution_count": null,
   "id": "7fe5f620",
   "metadata": {
    "ExecuteTime": {
     "end_time": "2021-08-15T15:29:24.067706Z",
     "start_time": "2021-08-15T15:27:28.358045Z"
    }
   },
   "outputs": [],
   "source": [
    "deaths_data_dir = '../dataset/raw/deaths/'\n",
    "deaths_name_list = sorted(os.listdir(deaths_data_dir))\n",
    "deaths_list = []\n",
    "deaths_list = data_load(deaths_data_dir, deaths_name_list, deaths_list)"
   ]
  },
  {
   "cell_type": "code",
   "execution_count": null,
   "id": "f884de68",
   "metadata": {
    "ExecuteTime": {
     "end_time": "2021-08-26T09:18:35.232437Z",
     "start_time": "2021-08-26T09:18:35.229881Z"
    }
   },
   "outputs": [],
   "source": [
    "def get_shape(df_list):\n",
    "    for i in df_list:\n",
    "        print(i.shape)"
   ]
  },
  {
   "cell_type": "code",
   "execution_count": null,
   "id": "e431d934",
   "metadata": {
    "ExecuteTime": {
     "end_time": "2021-08-15T15:29:24.075596Z",
     "start_time": "2021-08-15T15:29:24.072936Z"
    }
   },
   "outputs": [],
   "source": [
    "get_shape(agg_list)"
   ]
  },
  {
   "cell_type": "code",
   "execution_count": null,
   "id": "b0cf1ec6",
   "metadata": {
    "ExecuteTime": {
     "end_time": "2021-08-15T15:29:24.079118Z",
     "start_time": "2021-08-15T15:29:24.077011Z"
    }
   },
   "outputs": [],
   "source": [
    "get_shape(deaths_list)"
   ]
  },
  {
   "cell_type": "markdown",
   "id": "8045f049",
   "metadata": {},
   "source": [
    "# Data preprocessing"
   ]
  },
  {
   "cell_type": "markdown",
   "id": "53d43fc7",
   "metadata": {},
   "source": [
    "## Aggregate의 na 제거"
   ]
  },
  {
   "cell_type": "code",
   "execution_count": null,
   "id": "55ed79ce",
   "metadata": {
    "ExecuteTime": {
     "end_time": "2021-08-15T15:29:24.083364Z",
     "start_time": "2021-08-15T15:29:24.080714Z"
    }
   },
   "outputs": [],
   "source": [
    "def df_drop_na(df_list):\n",
    "    for i in tqdm(range(len(df_list))):\n",
    "        df_list[i] = df_list[i].dropna()"
   ]
  },
  {
   "cell_type": "code",
   "execution_count": null,
   "id": "2a0ebafa",
   "metadata": {
    "ExecuteTime": {
     "end_time": "2021-08-15T15:29:49.119697Z",
     "start_time": "2021-08-15T15:29:24.085050Z"
    }
   },
   "outputs": [],
   "source": [
    "df_drop_na(agg_list)"
   ]
  },
  {
   "cell_type": "markdown",
   "id": "96a491de",
   "metadata": {},
   "source": [
    "## match_mode 제거\n",
    "* 모두 'tpp'만 가짐"
   ]
  },
  {
   "cell_type": "code",
   "execution_count": null,
   "id": "949b0679",
   "metadata": {
    "ExecuteTime": {
     "end_time": "2021-08-15T15:29:49.123481Z",
     "start_time": "2021-08-15T15:29:49.121222Z"
    }
   },
   "outputs": [],
   "source": [
    "def del_col(df_list, col_name):\n",
    "    for i in tqdm(df_list):\n",
    "        del i[col_name]"
   ]
  },
  {
   "cell_type": "code",
   "execution_count": null,
   "id": "527c7be3",
   "metadata": {
    "ExecuteTime": {
     "end_time": "2021-08-15T15:29:50.899947Z",
     "start_time": "2021-08-15T15:29:49.124980Z"
    }
   },
   "outputs": [],
   "source": [
    "del_col(agg_list, 'match_mode')"
   ]
  },
  {
   "cell_type": "markdown",
   "id": "df58c239",
   "metadata": {},
   "source": [
    "## 두 데이터에서 매칭되지 않는 match_id 제거"
   ]
  },
  {
   "cell_type": "code",
   "execution_count": null,
   "id": "e7721b4d",
   "metadata": {
    "ExecuteTime": {
     "end_time": "2021-08-15T15:29:50.903732Z",
     "start_time": "2021-08-15T15:29:50.901423Z"
    }
   },
   "outputs": [],
   "source": [
    "def get_unique_match_id(df_list):\n",
    "    match_id = []\n",
    "    for i in df_list:\n",
    "        match_id += [x for x in i['match_id'].unique()]\n",
    "    return match_id"
   ]
  },
  {
   "cell_type": "code",
   "execution_count": null,
   "id": "640408ab",
   "metadata": {
    "ExecuteTime": {
     "end_time": "2021-08-15T15:29:56.563743Z",
     "start_time": "2021-08-15T15:29:50.905000Z"
    }
   },
   "outputs": [],
   "source": [
    "agg_match_id = get_unique_match_id(agg_list)"
   ]
  },
  {
   "cell_type": "code",
   "execution_count": null,
   "id": "3964f797",
   "metadata": {
    "ExecuteTime": {
     "end_time": "2021-08-15T15:29:56.569107Z",
     "start_time": "2021-08-15T15:29:56.565388Z"
    }
   },
   "outputs": [],
   "source": [
    "len(agg_match_id)"
   ]
  },
  {
   "cell_type": "code",
   "execution_count": null,
   "id": "5a58cf79",
   "metadata": {
    "ExecuteTime": {
     "end_time": "2021-08-15T15:30:02.107386Z",
     "start_time": "2021-08-15T15:29:56.573498Z"
    }
   },
   "outputs": [],
   "source": [
    "deaths_match_id = get_unique_match_id(deaths_list)"
   ]
  },
  {
   "cell_type": "code",
   "execution_count": null,
   "id": "41a64664",
   "metadata": {
    "ExecuteTime": {
     "end_time": "2021-08-15T15:30:02.377715Z",
     "start_time": "2021-08-15T15:30:02.110540Z"
    }
   },
   "outputs": [],
   "source": [
    "agg_mat = set(agg_match_id)\n",
    "deaths_mat = set(deaths_match_id)"
   ]
  },
  {
   "cell_type": "code",
   "execution_count": null,
   "id": "55fed40f",
   "metadata": {
    "ExecuteTime": {
     "end_time": "2021-08-15T15:30:02.528436Z",
     "start_time": "2021-08-15T15:30:02.379498Z"
    }
   },
   "outputs": [],
   "source": [
    "len(agg_mat), len(deaths_mat), len(agg_mat & deaths_mat)"
   ]
  },
  {
   "cell_type": "code",
   "execution_count": null,
   "id": "d5df4e17",
   "metadata": {
    "ExecuteTime": {
     "end_time": "2021-08-15T15:30:02.532584Z",
     "start_time": "2021-08-15T15:30:02.530033Z"
    }
   },
   "outputs": [],
   "source": [
    "get_shape(deaths_list)"
   ]
  },
  {
   "cell_type": "code",
   "execution_count": null,
   "id": "7d3e8690",
   "metadata": {
    "ExecuteTime": {
     "end_time": "2021-08-15T15:30:22.272234Z",
     "start_time": "2021-08-15T15:30:02.534220Z"
    }
   },
   "outputs": [],
   "source": [
    "for i in range(len(deaths_list)):\n",
    "    deaths_list[i] = deaths_list[i][deaths_list[i]['match_id'].isin(agg_match_id)]"
   ]
  },
  {
   "cell_type": "code",
   "execution_count": null,
   "id": "218fcfb5",
   "metadata": {
    "ExecuteTime": {
     "end_time": "2021-08-15T15:30:22.275958Z",
     "start_time": "2021-08-15T15:30:22.273663Z"
    }
   },
   "outputs": [],
   "source": [
    "get_shape(deaths_list)"
   ]
  },
  {
   "cell_type": "markdown",
   "id": "336eef7f",
   "metadata": {},
   "source": [
    "## deaths data na 처리"
   ]
  },
  {
   "cell_type": "markdown",
   "id": "36961487",
   "metadata": {},
   "source": [
    "### map na 처리"
   ]
  },
  {
   "cell_type": "code",
   "execution_count": null,
   "id": "eb9dcc43",
   "metadata": {
    "ExecuteTime": {
     "end_time": "2021-08-15T15:30:22.756358Z",
     "start_time": "2021-08-15T15:30:22.277600Z"
    }
   },
   "outputs": [],
   "source": [
    "deaths_list[0]['map'].unique()"
   ]
  },
  {
   "cell_type": "markdown",
   "id": "729f8b43",
   "metadata": {},
   "source": [
    "* map 결측값 대체 가능 여부 확인"
   ]
  },
  {
   "cell_type": "code",
   "execution_count": null,
   "id": "c389862f",
   "metadata": {
    "ExecuteTime": {
     "end_time": "2021-08-15T15:30:24.636255Z",
     "start_time": "2021-08-15T15:30:22.757982Z"
    }
   },
   "outputs": [],
   "source": [
    "map_na_match_id = []\n",
    "for i in deaths_list:\n",
    "    map_na_match_id += [x for x in i.loc[i['map'].isnull(), 'match_id'].unique()]"
   ]
  },
  {
   "cell_type": "code",
   "execution_count": null,
   "id": "d1f93fac",
   "metadata": {
    "ExecuteTime": {
     "end_time": "2021-08-15T15:30:33.277952Z",
     "start_time": "2021-08-15T15:30:24.637897Z"
    }
   },
   "outputs": [],
   "source": [
    "E_match_id = []\n",
    "for i in deaths_list:\n",
    "    E_match_id += [x for x in i.loc[i['map'] == 'ERANGEL', 'match_id'].unique()]"
   ]
  },
  {
   "cell_type": "code",
   "execution_count": null,
   "id": "3254fb24",
   "metadata": {
    "ExecuteTime": {
     "end_time": "2021-08-15T15:30:37.534586Z",
     "start_time": "2021-08-15T15:30:33.279754Z"
    }
   },
   "outputs": [],
   "source": [
    "M_match_id = []\n",
    "for i in deaths_list:\n",
    "    M_match_id += [x for x in i.loc[i['map'] == 'MIRAMAR', 'match_id'].unique()]"
   ]
  },
  {
   "cell_type": "markdown",
   "id": "49d22d69",
   "metadata": {},
   "source": [
    "* 겹치는 match_id 확인"
   ]
  },
  {
   "cell_type": "code",
   "execution_count": null,
   "id": "b7b4d425",
   "metadata": {
    "ExecuteTime": {
     "end_time": "2021-08-15T15:30:37.603354Z",
     "start_time": "2021-08-15T15:30:37.536002Z"
    }
   },
   "outputs": [],
   "source": [
    "map_na_match_id = set(map_na_match_id)\n",
    "E_match_id = set(E_match_id)\n",
    "M_match_id = set(M_match_id)"
   ]
  },
  {
   "cell_type": "code",
   "execution_count": null,
   "id": "32169321",
   "metadata": {
    "ExecuteTime": {
     "end_time": "2021-08-15T15:30:37.743043Z",
     "start_time": "2021-08-15T15:30:37.604917Z"
    }
   },
   "outputs": [],
   "source": [
    "len(map_na_match_id & E_match_id), len(map_na_match_id & M_match_id), len(E_match_id & M_match_id) "
   ]
  },
  {
   "cell_type": "markdown",
   "id": "6c14c1d3",
   "metadata": {},
   "source": [
    "* 대체 불가능 판단 -> Drop"
   ]
  },
  {
   "cell_type": "code",
   "execution_count": null,
   "id": "e94eb144",
   "metadata": {
    "ExecuteTime": {
     "end_time": "2021-08-15T15:30:37.747137Z",
     "start_time": "2021-08-15T15:30:37.744877Z"
    }
   },
   "outputs": [],
   "source": [
    "get_shape(deaths_list)"
   ]
  },
  {
   "cell_type": "markdown",
   "id": "9a6453f3",
   "metadata": {},
   "source": [
    "### deaths 데이터 na drop"
   ]
  },
  {
   "cell_type": "code",
   "execution_count": null,
   "id": "fdd884c7",
   "metadata": {
    "ExecuteTime": {
     "end_time": "2021-08-15T15:30:55.960785Z",
     "start_time": "2021-08-15T15:30:37.748763Z"
    }
   },
   "outputs": [],
   "source": [
    "df_drop_na(deaths_list)"
   ]
  },
  {
   "cell_type": "code",
   "execution_count": null,
   "id": "a4ded4ed",
   "metadata": {
    "ExecuteTime": {
     "end_time": "2021-08-15T15:30:55.964593Z",
     "start_time": "2021-08-15T15:30:55.962393Z"
    }
   },
   "outputs": [],
   "source": [
    "get_shape(deaths_list)"
   ]
  },
  {
   "cell_type": "markdown",
   "id": "03424ecd",
   "metadata": {},
   "source": [
    "## Data 병합"
   ]
  },
  {
   "cell_type": "markdown",
   "id": "31ce3765",
   "metadata": {},
   "source": [
    "* key columns\n",
    "    * agg.match_id = deaths.match_id\n",
    "    * agg.player_name = deaths.killer_name"
   ]
  },
  {
   "cell_type": "code",
   "execution_count": null,
   "id": "c55eff5a",
   "metadata": {
    "ExecuteTime": {
     "end_time": "2021-08-15T15:30:55.968410Z",
     "start_time": "2021-08-15T15:30:55.966116Z"
    }
   },
   "outputs": [],
   "source": [
    "# key column의 이름을 맞춰야 함\n",
    "# deaths의 killer_name을 player_name으로 변경\n",
    "\n",
    "def chg_col_names(df_list, col_names):\n",
    "    for i in tqdm(df_list):\n",
    "        i.columns = col_names"
   ]
  },
  {
   "cell_type": "code",
   "execution_count": null,
   "id": "1996d1cf",
   "metadata": {
    "ExecuteTime": {
     "end_time": "2021-08-15T15:30:55.974017Z",
     "start_time": "2021-08-15T15:30:55.969709Z"
    }
   },
   "outputs": [],
   "source": [
    "deaths_list[0].columns"
   ]
  },
  {
   "cell_type": "code",
   "execution_count": null,
   "id": "8845f9f1",
   "metadata": {
    "ExecuteTime": {
     "end_time": "2021-08-15T15:30:55.977634Z",
     "start_time": "2021-08-15T15:30:55.975344Z"
    }
   },
   "outputs": [],
   "source": [
    "deaths_cols = ['killed_by', 'player_name', 'killer_placement', 'killer_position_x',\n",
    "               'killer_position_y', 'map', 'match_id', 'time', 'victim_name',\n",
    "               'victim_placement', 'victim_position_x', 'victim_position_y']"
   ]
  },
  {
   "cell_type": "code",
   "execution_count": null,
   "id": "76cb2ef8",
   "metadata": {
    "ExecuteTime": {
     "end_time": "2021-08-15T15:30:55.999615Z",
     "start_time": "2021-08-15T15:30:55.978853Z"
    }
   },
   "outputs": [],
   "source": [
    "# key column 이름 맞추기\n",
    "\n",
    "chg_col_names(deaths_list, deaths_cols)"
   ]
  },
  {
   "cell_type": "markdown",
   "id": "c5031e68",
   "metadata": {},
   "source": [
    "## Aggregate 데이터와 Deaths 데이터 Merge"
   ]
  },
  {
   "cell_type": "markdown",
   "id": "a4d7b4af",
   "metadata": {},
   "source": [
    "* 같은 번호의 데이터와 짝을 이루는 것을 match_id로 확인함\n",
    "    * e.g. agg_0는 deaths_0과 Merge"
   ]
  },
  {
   "cell_type": "code",
   "execution_count": null,
   "id": "2ede9256",
   "metadata": {
    "ExecuteTime": {
     "end_time": "2021-08-15T15:30:56.003602Z",
     "start_time": "2021-08-15T15:30:56.001123Z"
    }
   },
   "outputs": [],
   "source": [
    "get_shape(agg_list)"
   ]
  },
  {
   "cell_type": "code",
   "execution_count": null,
   "id": "2a80bd51",
   "metadata": {
    "ExecuteTime": {
     "end_time": "2021-08-15T15:30:56.007198Z",
     "start_time": "2021-08-15T15:30:56.004925Z"
    }
   },
   "outputs": [],
   "source": [
    "get_shape(deaths_list)"
   ]
  },
  {
   "cell_type": "code",
   "execution_count": null,
   "id": "1ad8099b",
   "metadata": {
    "ExecuteTime": {
     "end_time": "2021-08-15T15:30:56.451117Z",
     "start_time": "2021-08-15T15:30:56.008615Z"
    }
   },
   "outputs": [],
   "source": [
    "deaths_list[0]['map'].unique()"
   ]
  },
  {
   "cell_type": "code",
   "execution_count": null,
   "id": "4069bb37",
   "metadata": {
    "ExecuteTime": {
     "end_time": "2021-08-15T15:30:56.455112Z",
     "start_time": "2021-08-15T15:30:56.452496Z"
    }
   },
   "outputs": [],
   "source": [
    "def get_merged_df(left, right, join, keys):\n",
    "    df_list = []\n",
    "    for i in tqdm(range(len(left))):\n",
    "        df_list.append(pd.merge(left[i], right[i], how=join, on=keys))\n",
    "    return df_list"
   ]
  },
  {
   "cell_type": "code",
   "execution_count": null,
   "id": "6e534bdb",
   "metadata": {
    "ExecuteTime": {
     "end_time": "2021-08-15T15:34:07.925436Z",
     "start_time": "2021-08-15T15:30:56.456607Z"
    }
   },
   "outputs": [],
   "source": [
    "df_merge = get_merged_df(agg_list, deaths_list, 'left', ['match_id', 'player_name'])"
   ]
  },
  {
   "cell_type": "code",
   "execution_count": null,
   "id": "14e987e3",
   "metadata": {
    "ExecuteTime": {
     "end_time": "2021-08-15T15:34:07.939124Z",
     "start_time": "2021-08-15T15:34:07.929526Z"
    }
   },
   "outputs": [],
   "source": [
    "get_shape(df_merge)"
   ]
  },
  {
   "cell_type": "markdown",
   "id": "3960fd1f",
   "metadata": {},
   "source": [
    "## map 채우기"
   ]
  },
  {
   "cell_type": "code",
   "execution_count": null,
   "id": "dd8cb1ff",
   "metadata": {
    "ExecuteTime": {
     "end_time": "2021-08-15T15:34:07.948871Z",
     "start_time": "2021-08-15T15:34:07.941136Z"
    }
   },
   "outputs": [],
   "source": [
    "def fill_map_na(df_list, match_id_list, map_name):\n",
    "    for i in df_list:\n",
    "        i.loc[(i['match_id'].isin(match_id_list))&(i['map'].isnull()), 'map'] = map_name\n",
    "    return df_list"
   ]
  },
  {
   "cell_type": "code",
   "execution_count": null,
   "id": "637b2a1e",
   "metadata": {
    "ExecuteTime": {
     "end_time": "2021-08-15T15:34:27.503087Z",
     "start_time": "2021-08-15T15:34:07.953166Z"
    }
   },
   "outputs": [],
   "source": [
    "match_id = [E_match_id, M_match_id]\n",
    "map_names = ['ERANGEL', 'MIRAMAR']\n",
    "\n",
    "for i in tqdm(range(len(match_id))):\n",
    "    df_merge = fill_map_na(df_merge, match_id[i], map_names[i])"
   ]
  },
  {
   "cell_type": "markdown",
   "id": "252a3513",
   "metadata": {},
   "source": [
    "## map별로 데이터 나누기"
   ]
  },
  {
   "cell_type": "markdown",
   "id": "a4cae857",
   "metadata": {},
   "source": [
    "* ERANGEL과 MIRAMAR로 데이터 셋을 나눔"
   ]
  },
  {
   "cell_type": "code",
   "execution_count": null,
   "id": "0142cba3",
   "metadata": {
    "ExecuteTime": {
     "end_time": "2021-08-15T15:34:27.507751Z",
     "start_time": "2021-08-15T15:34:27.504565Z"
    }
   },
   "outputs": [],
   "source": [
    "def get_df_map(df_list, map_name):\n",
    "    df_map = []\n",
    "    for i in df_list:\n",
    "        df_map.append(i[i['map'] == map_name])\n",
    "    return df_map"
   ]
  },
  {
   "cell_type": "code",
   "execution_count": null,
   "id": "305b8cfe",
   "metadata": {
    "ExecuteTime": {
     "end_time": "2021-08-15T15:36:49.625500Z",
     "start_time": "2021-08-15T15:34:27.509294Z"
    }
   },
   "outputs": [],
   "source": [
    "df_map  = []\n",
    "for i in tqdm(range(len(map_names))):\n",
    "    df_map.append(get_df_map(df_merge, map_names[i]))"
   ]
  },
  {
   "cell_type": "markdown",
   "id": "fc9265ef",
   "metadata": {},
   "source": [
    "## party_size 별로 데이터 나누기"
   ]
  },
  {
   "cell_type": "markdown",
   "id": "99bc92f0",
   "metadata": {},
   "source": [
    "* party_size에 따라 Tier가 다르기 때문에 데이터를 분리함"
   ]
  },
  {
   "cell_type": "code",
   "execution_count": null,
   "id": "0f890082",
   "metadata": {
    "ExecuteTime": {
     "end_time": "2021-08-15T15:36:49.646247Z",
     "start_time": "2021-08-15T15:36:49.633684Z"
    }
   },
   "outputs": [],
   "source": [
    "def get_df_party_size(df_list, party_size):\n",
    "    df_party_size = []\n",
    "    for i in df_list:\n",
    "        df_party_size.append(i[i['party_size'] == party_size])\n",
    "    return df_party_size"
   ]
  },
  {
   "cell_type": "code",
   "execution_count": null,
   "id": "56e2276d",
   "metadata": {
    "ExecuteTime": {
     "end_time": "2021-08-15T15:38:45.832707Z",
     "start_time": "2021-08-15T15:36:49.650668Z"
    }
   },
   "outputs": [],
   "source": [
    "df = []\n",
    "party_size = [1, 2, 4]\n",
    "\n",
    "for i in tqdm(range(len(party_size))):\n",
    "    for j in range(len(df_map)):\n",
    "        df.append(get_df_party_size(df_map[j], party_size[i]))"
   ]
  },
  {
   "cell_type": "code",
   "execution_count": null,
   "id": "f29c5f58",
   "metadata": {
    "ExecuteTime": {
     "end_time": "2021-08-15T15:38:45.855202Z",
     "start_time": "2021-08-15T15:38:45.840579Z"
    }
   },
   "outputs": [],
   "source": [
    "# df[0]: solo, ERANGEL / df[1]: solo, MIRAMAR\n",
    "# df[2]: duo, ERANGEL / df[3]: duo, MIRAMAR\n",
    "# df[4]: squad, ERANGEL / df[5]: squad, MIRAMAR\n",
    "\n",
    "len(df)"
   ]
  },
  {
   "cell_type": "markdown",
   "id": "1a34054b",
   "metadata": {},
   "source": [
    "## party_size별 map별 dataset 합치기"
   ]
  },
  {
   "cell_type": "code",
   "execution_count": null,
   "id": "4d28edb1",
   "metadata": {
    "ExecuteTime": {
     "end_time": "2021-08-15T15:38:45.868995Z",
     "start_time": "2021-08-15T15:38:45.857652Z"
    }
   },
   "outputs": [],
   "source": [
    "def get_concat(df_list):\n",
    "    df_concat = []\n",
    "    for i in tqdm(range(len(df_list))):\n",
    "        df_concat.append(pd.concat(df_list[i], ignore_index=True))\n",
    "    return df_concat"
   ]
  },
  {
   "cell_type": "code",
   "execution_count": null,
   "id": "72e05cb2",
   "metadata": {
    "ExecuteTime": {
     "end_time": "2021-08-15T15:40:15.480446Z",
     "start_time": "2021-08-15T15:38:45.870948Z"
    }
   },
   "outputs": [],
   "source": [
    "# df_concat[0]: solo, ERANGEL / df_concat[1]: solo, MIRAMAR\n",
    "# df_concat[2]: duo, ERANGEL / df_concat[3]: duo, MIRAMAR\n",
    "# df_concat[4]: squad, ERANGEL / df_concat[5]: squad, MIRAMAR\n",
    "\n",
    "df_concat = get_concat(df)"
   ]
  },
  {
   "cell_type": "markdown",
   "id": "12624780",
   "metadata": {},
   "source": [
    "## killed_by 그룹핑"
   ]
  },
  {
   "cell_type": "code",
   "execution_count": null,
   "id": "68764cd1",
   "metadata": {
    "ExecuteTime": {
     "end_time": "2021-08-15T15:40:15.524653Z",
     "start_time": "2021-08-15T15:40:15.491755Z"
    }
   },
   "outputs": [],
   "source": [
    "def killed_by_refine(df):\n",
    "    df['killed_by'] = df['killed_by'].replace({'death.WeapSawnoff_C': 'sawed_off', \n",
    "                                               'death.PlayerMale_A_C': 'Punch',\n",
    "                                               'death.PG117_A_01_C': 'Boat' , 'death.RedZoneBomb_C': 'RedZone'})\n",
    "    df['killed_by'] = df['killed_by'].replace(['Pickup Truck','Hit by Car','Buggy','Dacia','Motorbike',\n",
    "                                               'Motorbike (SideCar)','Uaz','Van'], 'land_vehicle')\n",
    "    df['killed_by'] = df['killed_by'].replace(['death.ProjMolotov_C', 'death.ProjMolotov_DamageField_C', \n",
    "                                               'death.Buff_FireDOT_C'], 'Molotov')\n",
    "    df['killed_by'] = df['killed_by'].replace(['Aquarail','Boat'], 'water_vehicle')"
   ]
  },
  {
   "cell_type": "code",
   "execution_count": null,
   "id": "86844290",
   "metadata": {
    "ExecuteTime": {
     "end_time": "2021-08-15T15:41:09.752280Z",
     "start_time": "2021-08-15T15:40:15.531486Z"
    }
   },
   "outputs": [],
   "source": [
    "for i in tqdm(df_concat):\n",
    "    killed_by_refine(i)"
   ]
  },
  {
   "cell_type": "markdown",
   "id": "f4438ef3",
   "metadata": {},
   "source": [
    "## csv로 내보내기"
   ]
  },
  {
   "cell_type": "code",
   "execution_count": null,
   "id": "16d4cb94",
   "metadata": {
    "ExecuteTime": {
     "end_time": "2021-08-15T15:41:09.820331Z",
     "start_time": "2021-08-15T15:41:09.814362Z"
    }
   },
   "outputs": [],
   "source": [
    "def df_read_csv(df_list, data_dir, file_name):\n",
    "    for i in tqdm(range(len(df_list))):\n",
    "        df_list[i].to_csv(data_dir + f'{file_name[i]}.csv', index=False)"
   ]
  },
  {
   "cell_type": "markdown",
   "id": "25b3fec5",
   "metadata": {},
   "source": [
    "# Bug player 처리"
   ]
  },
  {
   "cell_type": "code",
   "execution_count": 4,
   "id": "a3dcb2f6",
   "metadata": {
    "ExecuteTime": {
     "end_time": "2021-08-26T13:40:20.162578Z",
     "start_time": "2021-08-26T13:38:36.436035Z"
    }
   },
   "outputs": [],
   "source": [
    "data_dir = '../dataset/preprocessing/'\n",
    "\n",
    "df = pd.read_csv(data_dir + 'squad_E.csv')"
   ]
  },
  {
   "cell_type": "code",
   "execution_count": 5,
   "id": "815e2edf",
   "metadata": {
    "ExecuteTime": {
     "end_time": "2021-08-26T13:40:33.945696Z",
     "start_time": "2021-08-26T13:40:20.164253Z"
    }
   },
   "outputs": [],
   "source": [
    "df_raw = df.copy()"
   ]
  },
  {
   "cell_type": "code",
   "execution_count": 6,
   "id": "5c5e181d",
   "metadata": {
    "ExecuteTime": {
     "end_time": "2021-08-26T13:40:33.953640Z",
     "start_time": "2021-08-26T13:40:33.947769Z"
    }
   },
   "outputs": [],
   "source": [
    "class CheckingBugPlayer:\n",
    "    \n",
    "    '''\n",
    "    Bug Player 처리를 위한 Class 입니다.\n",
    "    아래의 기준 중 하나라도 만족하는 player는 Bug player로 지정합니다.\n",
    "    \n",
    "    dist_ride : 30000(30km) 초과\n",
    "    dist_walk : 10000(10km) 초과\n",
    "    kills :     30 kill 초과\n",
    "    dmg :       3000 damage 초과\n",
    "    kill_dist : 40000(400m) 초과\n",
    "    dbno :      11 초과\n",
    "    survive_time : 1900 초과\n",
    "    \n",
    "    '''\n",
    "    \n",
    "        \n",
    "    def player_dist_ride(self, df):\n",
    "        df.loc[df['player_dist_ride'] > 30000, 'outlier'] = 1\n",
    "        return df\n",
    "    \n",
    "    def player_dist_walk(self, df):\n",
    "        df.loc[df['player_dist_walk'] > 10000, 'outlier'] = 1\n",
    "        return df\n",
    "        \n",
    "    def player_kills(self, df):\n",
    "        df.loc[df['player_kills'] > 30, 'outlier'] = 1\n",
    "        return df\n",
    "    \n",
    "    def player_dmg(self, df):\n",
    "        df.loc[df['player_dmg'] > 3000, 'outlier'] = 1 \n",
    "        return df\n",
    "        \n",
    "    def kill_dist(self, df):\n",
    "        df['kill_dist'] = np.sqrt(((df['killer_position_x'] - df['victim_position_x']) ** 2) \n",
    "                                      + ((df['killer_position_y'] - df['victim_position_y']) ** 2))\n",
    "        df['kill_dist'] = df['kill_dist'].fillna(0)\n",
    "        df.loc[df['kill_dist'] > 40000, 'outlier'] = 1\n",
    "        return df    \n",
    "    \n",
    "    def player_dbno(self, df):\n",
    "        df.loc[df['player_dbno'] > 11, 'outlier'] = 1\n",
    "        return df\n",
    "    \n",
    "    def player_survive_time(self, df):\n",
    "        df.loc[df['player_survive_time'] > 1900, 'outlier'] = 1\n",
    "        return df\n"
   ]
  },
  {
   "cell_type": "markdown",
   "id": "3c8795b9",
   "metadata": {},
   "source": [
    "## Bug player 처리"
   ]
  },
  {
   "cell_type": "code",
   "execution_count": 7,
   "id": "e3788da5",
   "metadata": {
    "ExecuteTime": {
     "end_time": "2021-08-26T13:40:39.776193Z",
     "start_time": "2021-08-26T13:40:36.892966Z"
    }
   },
   "outputs": [],
   "source": [
    "checker = CheckingBugPlayer()\n",
    "\n",
    "df = checker.player_dist_ride(df)\n",
    "df = checker.player_dist_walk(df)\n",
    "df = checker.player_kills(df)\n",
    "df = checker.player_dmg(df)\n",
    "df = checker.kill_dist(df)\n",
    "df = checker.player_dbno(df)\n",
    "df = checker.player_survive_time(df)\n",
    "\n",
    "df['outlier'] = df['outlier'].fillna(0)"
   ]
  },
  {
   "cell_type": "code",
   "execution_count": 8,
   "id": "93257508",
   "metadata": {
    "ExecuteTime": {
     "end_time": "2021-08-26T13:40:40.045039Z",
     "start_time": "2021-08-26T13:40:39.778024Z"
    }
   },
   "outputs": [
    {
     "data": {
      "text/plain": [
       "0.000    33914758\n",
       "1.000     2316359\n",
       "Name: outlier, dtype: int64"
      ]
     },
     "execution_count": 8,
     "metadata": {},
     "output_type": "execute_result"
    }
   ],
   "source": [
    "df['outlier'].value_counts()"
   ]
  },
  {
   "cell_type": "markdown",
   "id": "7e38703f",
   "metadata": {},
   "source": [
    "## 분석 Dataset 확인"
   ]
  },
  {
   "cell_type": "code",
   "execution_count": 9,
   "id": "58694015",
   "metadata": {
    "ExecuteTime": {
     "end_time": "2021-08-26T13:41:20.006455Z",
     "start_time": "2021-08-26T13:40:53.970115Z"
    }
   },
   "outputs": [
    {
     "data": {
      "text/html": [
       "<div>\n",
       "<style scoped>\n",
       "    .dataframe tbody tr th:only-of-type {\n",
       "        vertical-align: middle;\n",
       "    }\n",
       "\n",
       "    .dataframe tbody tr th {\n",
       "        vertical-align: top;\n",
       "    }\n",
       "\n",
       "    .dataframe thead th {\n",
       "        text-align: right;\n",
       "    }\n",
       "</style>\n",
       "<table border=\"1\" class=\"dataframe\">\n",
       "  <thead>\n",
       "    <tr style=\"text-align: right;\">\n",
       "      <th></th>\n",
       "      <th>game_size</th>\n",
       "      <th>party_size</th>\n",
       "      <th>player_assists</th>\n",
       "      <th>player_dbno</th>\n",
       "      <th>player_dist_ride</th>\n",
       "      <th>player_dist_walk</th>\n",
       "      <th>player_dmg</th>\n",
       "      <th>player_kills</th>\n",
       "      <th>player_survive_time</th>\n",
       "      <th>team_id</th>\n",
       "      <th>team_placement</th>\n",
       "      <th>killer_placement</th>\n",
       "      <th>killer_position_x</th>\n",
       "      <th>killer_position_y</th>\n",
       "      <th>time</th>\n",
       "      <th>victim_placement</th>\n",
       "      <th>victim_position_x</th>\n",
       "      <th>victim_position_y</th>\n",
       "      <th>outlier</th>\n",
       "      <th>kill_dist</th>\n",
       "    </tr>\n",
       "  </thead>\n",
       "  <tbody>\n",
       "    <tr>\n",
       "      <th>count</th>\n",
       "      <td>36231117.000</td>\n",
       "      <td>36231117.000</td>\n",
       "      <td>36231117.000</td>\n",
       "      <td>36231117.000</td>\n",
       "      <td>36231117.000</td>\n",
       "      <td>36231117.000</td>\n",
       "      <td>36231117.000</td>\n",
       "      <td>36231117.000</td>\n",
       "      <td>36231117.000</td>\n",
       "      <td>36231117.000</td>\n",
       "      <td>36231117.000</td>\n",
       "      <td>21775512.000</td>\n",
       "      <td>21775512.000</td>\n",
       "      <td>21775512.000</td>\n",
       "      <td>21775512.000</td>\n",
       "      <td>21775512.000</td>\n",
       "      <td>21775512.000</td>\n",
       "      <td>21775512.000</td>\n",
       "      <td>36231117.000</td>\n",
       "      <td>36231117.000</td>\n",
       "    </tr>\n",
       "    <tr>\n",
       "      <th>mean</th>\n",
       "      <td>26.975</td>\n",
       "      <td>4.000</td>\n",
       "      <td>0.455</td>\n",
       "      <td>1.806</td>\n",
       "      <td>1619.600</td>\n",
       "      <td>1676.894</td>\n",
       "      <td>255.247</td>\n",
       "      <td>2.151</td>\n",
       "      <td>18562.315</td>\n",
       "      <td>14.285</td>\n",
       "      <td>12.133</td>\n",
       "      <td>10.001</td>\n",
       "      <td>412058.181</td>\n",
       "      <td>395744.069</td>\n",
       "      <td>766.263</td>\n",
       "      <td>15.028</td>\n",
       "      <td>404669.838</td>\n",
       "      <td>388835.484</td>\n",
       "      <td>0.064</td>\n",
       "      <td>14278.071</td>\n",
       "    </tr>\n",
       "    <tr>\n",
       "      <th>std</th>\n",
       "      <td>1.807</td>\n",
       "      <td>0.000</td>\n",
       "      <td>0.843</td>\n",
       "      <td>2.557</td>\n",
       "      <td>2225.462</td>\n",
       "      <td>4419.428</td>\n",
       "      <td>334.019</td>\n",
       "      <td>3.108</td>\n",
       "      <td>33437725.829</td>\n",
       "      <td>8.070</td>\n",
       "      <td>8.135</td>\n",
       "      <td>7.791</td>\n",
       "      <td>149545.821</td>\n",
       "      <td>145386.571</td>\n",
       "      <td>557.284</td>\n",
       "      <td>7.754</td>\n",
       "      <td>157438.292</td>\n",
       "      <td>152740.310</td>\n",
       "      <td>0.245</td>\n",
       "      <td>84962.944</td>\n",
       "    </tr>\n",
       "    <tr>\n",
       "      <th>min</th>\n",
       "      <td>3.000</td>\n",
       "      <td>4.000</td>\n",
       "      <td>0.000</td>\n",
       "      <td>0.000</td>\n",
       "      <td>0.000</td>\n",
       "      <td>0.000</td>\n",
       "      <td>0.000</td>\n",
       "      <td>0.000</td>\n",
       "      <td>0.000</td>\n",
       "      <td>1.000</td>\n",
       "      <td>0.000</td>\n",
       "      <td>1.000</td>\n",
       "      <td>-688028.000</td>\n",
       "      <td>-70411.010</td>\n",
       "      <td>23.000</td>\n",
       "      <td>1.000</td>\n",
       "      <td>-688028.000</td>\n",
       "      <td>-70481.330</td>\n",
       "      <td>0.000</td>\n",
       "      <td>0.000</td>\n",
       "    </tr>\n",
       "    <tr>\n",
       "      <th>25%</th>\n",
       "      <td>26.000</td>\n",
       "      <td>4.000</td>\n",
       "      <td>0.000</td>\n",
       "      <td>0.000</td>\n",
       "      <td>0.000</td>\n",
       "      <td>402.434</td>\n",
       "      <td>36.000</td>\n",
       "      <td>0.000</td>\n",
       "      <td>374.868</td>\n",
       "      <td>7.000</td>\n",
       "      <td>5.000</td>\n",
       "      <td>3.000</td>\n",
       "      <td>330982.575</td>\n",
       "      <td>291782.200</td>\n",
       "      <td>257.000</td>\n",
       "      <td>8.000</td>\n",
       "      <td>320256.425</td>\n",
       "      <td>289269.100</td>\n",
       "      <td>0.000</td>\n",
       "      <td>0.000</td>\n",
       "    </tr>\n",
       "    <tr>\n",
       "      <th>50%</th>\n",
       "      <td>27.000</td>\n",
       "      <td>4.000</td>\n",
       "      <td>0.000</td>\n",
       "      <td>1.000</td>\n",
       "      <td>453.057</td>\n",
       "      <td>1463.172</td>\n",
       "      <td>153.000</td>\n",
       "      <td>1.000</td>\n",
       "      <td>987.009</td>\n",
       "      <td>14.000</td>\n",
       "      <td>11.000</td>\n",
       "      <td>8.000</td>\n",
       "      <td>418874.300</td>\n",
       "      <td>385798.800</td>\n",
       "      <td>603.000</td>\n",
       "      <td>15.000</td>\n",
       "      <td>415837.400</td>\n",
       "      <td>380995.050</td>\n",
       "      <td>0.000</td>\n",
       "      <td>306.203</td>\n",
       "    </tr>\n",
       "    <tr>\n",
       "      <th>75%</th>\n",
       "      <td>28.000</td>\n",
       "      <td>4.000</td>\n",
       "      <td>1.000</td>\n",
       "      <td>3.000</td>\n",
       "      <td>2903.303</td>\n",
       "      <td>2617.174</td>\n",
       "      <td>349.000</td>\n",
       "      <td>3.000</td>\n",
       "      <td>1594.539</td>\n",
       "      <td>21.000</td>\n",
       "      <td>19.000</td>\n",
       "      <td>16.000</td>\n",
       "      <td>531930.100</td>\n",
       "      <td>490881.700</td>\n",
       "      <td>1256.000</td>\n",
       "      <td>22.000</td>\n",
       "      <td>526625.825</td>\n",
       "      <td>487756.650</td>\n",
       "      <td>0.000</td>\n",
       "      <td>2822.890</td>\n",
       "    </tr>\n",
       "    <tr>\n",
       "      <th>max</th>\n",
       "      <td>35.000</td>\n",
       "      <td>4.000</td>\n",
       "      <td>13.000</td>\n",
       "      <td>50.000</td>\n",
       "      <td>506175.400</td>\n",
       "      <td>1263531.380</td>\n",
       "      <td>6323.000</td>\n",
       "      <td>71.000</td>\n",
       "      <td>63648215000.000</td>\n",
       "      <td>58.000</td>\n",
       "      <td>35.000</td>\n",
       "      <td>35.000</td>\n",
       "      <td>810724.700</td>\n",
       "      <td>817629.800</td>\n",
       "      <td>2304.000</td>\n",
       "      <td>35.000</td>\n",
       "      <td>810775.600</td>\n",
       "      <td>817708.700</td>\n",
       "      <td>1.000</td>\n",
       "      <td>1080040.344</td>\n",
       "    </tr>\n",
       "  </tbody>\n",
       "</table>\n",
       "</div>"
      ],
      "text/plain": [
       "         game_size   party_size  player_assists  player_dbno  \\\n",
       "count 36231117.000 36231117.000    36231117.000 36231117.000   \n",
       "mean        26.975        4.000           0.455        1.806   \n",
       "std          1.807        0.000           0.843        2.557   \n",
       "min          3.000        4.000           0.000        0.000   \n",
       "25%         26.000        4.000           0.000        0.000   \n",
       "50%         27.000        4.000           0.000        1.000   \n",
       "75%         28.000        4.000           1.000        3.000   \n",
       "max         35.000        4.000          13.000       50.000   \n",
       "\n",
       "       player_dist_ride  player_dist_walk   player_dmg  player_kills  \\\n",
       "count      36231117.000      36231117.000 36231117.000  36231117.000   \n",
       "mean           1619.600          1676.894      255.247         2.151   \n",
       "std            2225.462          4419.428      334.019         3.108   \n",
       "min               0.000             0.000        0.000         0.000   \n",
       "25%               0.000           402.434       36.000         0.000   \n",
       "50%             453.057          1463.172      153.000         1.000   \n",
       "75%            2903.303          2617.174      349.000         3.000   \n",
       "max          506175.400       1263531.380     6323.000        71.000   \n",
       "\n",
       "       player_survive_time      team_id  team_placement  killer_placement  \\\n",
       "count         36231117.000 36231117.000    36231117.000      21775512.000   \n",
       "mean             18562.315       14.285          12.133            10.001   \n",
       "std           33437725.829        8.070           8.135             7.791   \n",
       "min                  0.000        1.000           0.000             1.000   \n",
       "25%                374.868        7.000           5.000             3.000   \n",
       "50%                987.009       14.000          11.000             8.000   \n",
       "75%               1594.539       21.000          19.000            16.000   \n",
       "max        63648215000.000       58.000          35.000            35.000   \n",
       "\n",
       "       killer_position_x  killer_position_y         time  victim_placement  \\\n",
       "count       21775512.000       21775512.000 21775512.000      21775512.000   \n",
       "mean          412058.181         395744.069      766.263            15.028   \n",
       "std           149545.821         145386.571      557.284             7.754   \n",
       "min          -688028.000         -70411.010       23.000             1.000   \n",
       "25%           330982.575         291782.200      257.000             8.000   \n",
       "50%           418874.300         385798.800      603.000            15.000   \n",
       "75%           531930.100         490881.700     1256.000            22.000   \n",
       "max           810724.700         817629.800     2304.000            35.000   \n",
       "\n",
       "       victim_position_x  victim_position_y      outlier    kill_dist  \n",
       "count       21775512.000       21775512.000 36231117.000 36231117.000  \n",
       "mean          404669.838         388835.484        0.064    14278.071  \n",
       "std           157438.292         152740.310        0.245    84962.944  \n",
       "min          -688028.000         -70481.330        0.000        0.000  \n",
       "25%           320256.425         289269.100        0.000        0.000  \n",
       "50%           415837.400         380995.050        0.000      306.203  \n",
       "75%           526625.825         487756.650        0.000     2822.890  \n",
       "max           810775.600         817708.700        1.000  1080040.344  "
      ]
     },
     "execution_count": 9,
     "metadata": {},
     "output_type": "execute_result"
    }
   ],
   "source": [
    "df.describe()"
   ]
  },
  {
   "cell_type": "code",
   "execution_count": 10,
   "id": "d956cb80",
   "metadata": {
    "ExecuteTime": {
     "end_time": "2021-08-26T13:41:24.628536Z",
     "start_time": "2021-08-26T13:41:20.008261Z"
    }
   },
   "outputs": [],
   "source": [
    "df_outlier = df.copy()"
   ]
  },
  {
   "cell_type": "markdown",
   "id": "0165f594",
   "metadata": {},
   "source": [
    "# 파생변수 생성 1"
   ]
  },
  {
   "cell_type": "code",
   "execution_count": 11,
   "id": "24139908",
   "metadata": {
    "ExecuteTime": {
     "end_time": "2021-08-26T13:41:24.640510Z",
     "start_time": "2021-08-26T13:41:24.630451Z"
    }
   },
   "outputs": [],
   "source": [
    "class DerivingVariables:\n",
    "    \n",
    "    '''\n",
    "    파생변수를 만드는 Class 입니다.\n",
    "    아래의 방법으로 파생변수를 생성하였습니다.\n",
    "    \n",
    "    date         : dtype을 datetime 으로 변환\n",
    "    score        : (rank_point * 1) + (kill * 2) + (assist * 2)\n",
    "    tier         : score column을 바탕으로 구함. squad의 +0.6은 위치를 맞추기 위한 수평이동\n",
    "    KDA          : kill, assist, death를 이용해 파생변수 생성 \n",
    "                   death는 match 합계에서 team_placement가 1등인 횟수를 제외하여 계산\n",
    "    num_of_match : player별 총 게임 횟수를 계산\n",
    "    \n",
    "    '''\n",
    "    \n",
    "    def date(self, df):\n",
    "        df.loc[:, 'date'] = pd.to_datetime(df['date'])\n",
    "        return df\n",
    "    \n",
    "    def score(self, df):\n",
    "        max_team_placement = df.groupby(['date', 'match_id'])['team_placement'].max().reset_index()\n",
    "        max_team_placement.columns = ['date', 'match_id', 'max_placement']\n",
    "        df = pd.merge(df, max_team_placement, how='left', on=['date', 'match_id'])\n",
    "        \n",
    "        df['each_game_score'] = (df['max_placement'] - df['team_placement'])*0.1 + np.log(df['player_dmg'] + 1) + df['player_dbno']*(-0.1)\n",
    "        \n",
    "        # score의 sum \n",
    "        each_score = df.groupby(['player_name', 'date', 'match_id'])['each_game_score'].mean().to_frame()\n",
    "        total_score = each_score.groupby('player_name')['each_game_score'].sum().to_frame()\n",
    "        total_score.columns = ['total_score']\n",
    "        df['total_score'] = total_score.loc[df['player_name'], 'total_score'].values\n",
    "        \n",
    "        return df\n",
    "    \n",
    "    def kda_num_of_match(self, df):\n",
    "        # 필요한 column 만 추출\n",
    "        anal_col = df[['player_name', 'match_id','team_placement', 'player_kills', 'player_assists']]\n",
    "\n",
    "        # num_of_match\n",
    "        num_of_match = anal_col.groupby('player_name')['match_id'].nunique().reset_index()\n",
    "        num_of_match.columns = ['player_name', 'num_of_match']\n",
    "\n",
    "        # num_of_1st\n",
    "        num_of_1st = anal_col[anal_col['team_placement'] == 1].groupby('player_name')['match_id'].nunique().reset_index()\n",
    "        num_of_1st.columns = ['player_name', 'num_of_1st']\n",
    "\n",
    "        # death \n",
    "        temp = num_of_match.merge(num_of_1st, how = 'left', on = 'player_name')\n",
    "        temp = temp.fillna(0)\n",
    "        temp.loc[:, 'deaths_sum'] = temp['num_of_match'] - temp['num_of_1st']\n",
    "        death = temp[['player_name', 'deaths_sum']]\n",
    "\n",
    "        # kill & assist\n",
    "        KA_count = anal_col.groupby(['player_name', 'match_id'])[['player_kills', 'player_assists']].mean().reset_index()\n",
    "        KA_sum = KA_count.groupby('player_name')[['player_kills', 'player_assists']].sum().reset_index()\n",
    "        KA_sum.columns = ['player_name', 'kills_sum', 'assists_sum']\n",
    "\n",
    "        # KDA\n",
    "        KDA = KA_sum.merge(death, how = 'left', on = 'player_name')\n",
    "        KDA.loc[:, 'kda'] = (KDA['kills_sum'] + KDA['assists_sum']) / KDA['deaths_sum']\n",
    "        KDA_1 = KDA[['player_name', 'kda']]\n",
    "\n",
    "\n",
    "        ## 여기 한번에 표현 할 수 있는가\n",
    "        df = df.merge(KDA_1, how='left', on='player_name')\n",
    "        df = df.merge(num_of_match, how='left', on='player_name' )\n",
    "\n",
    "        return df"
   ]
  },
  {
   "cell_type": "markdown",
   "id": "d1f2e3a6",
   "metadata": {},
   "source": [
    "## 파생변수1 생성"
   ]
  },
  {
   "cell_type": "code",
   "execution_count": 12,
   "id": "5ce02fb4",
   "metadata": {
    "ExecuteTime": {
     "end_time": "2021-08-26T13:47:37.252966Z",
     "start_time": "2021-08-26T13:41:29.270699Z"
    }
   },
   "outputs": [],
   "source": [
    "variables = DerivingVariables()\n",
    "\n",
    "df = variables.date(df)\n",
    "df = variables.score(df)\n",
    "df = variables.kda_num_of_match(df)"
   ]
  },
  {
   "cell_type": "code",
   "execution_count": 13,
   "id": "b1a256dc",
   "metadata": {
    "ExecuteTime": {
     "end_time": "2021-08-26T13:47:51.075662Z",
     "start_time": "2021-08-26T13:47:44.393645Z"
    }
   },
   "outputs": [],
   "source": [
    "df_var1 = df.copy()"
   ]
  },
  {
   "cell_type": "markdown",
   "id": "4b07ef51",
   "metadata": {},
   "source": [
    "# 파생변수 생성 2"
   ]
  },
  {
   "cell_type": "code",
   "execution_count": 21,
   "id": "bfb61cff",
   "metadata": {
    "ExecuteTime": {
     "end_time": "2021-08-26T13:58:42.950671Z",
     "start_time": "2021-08-26T13:58:42.919447Z"
    }
   },
   "outputs": [],
   "source": [
    "class DerivingVariables2:\n",
    "    \"\"\"\n",
    "    \n",
    "    \n",
    "    \"\"\"\n",
    "    \n",
    "    def date_vars(self, df):\n",
    "        df['kor_date'] = df['date'] + datetime.timedelta(hours=9)\n",
    "        df['day_of_week'] = df['kor_date'].dt.weekday\n",
    "        df['weekend'] = [1 if x >= 6 else 0 for x in df['day_of_week'] ]\n",
    "        df['date_time'] = df['kor_date'].dt.hour\n",
    "\n",
    "        def get_time_zone(time):\n",
    "            if time <= 4 :\n",
    "                return 'peak time'\n",
    "            elif time <= 10 :\n",
    "                return 'morning'\n",
    "            elif time <= 16 :\n",
    "                return 'afternoon'\n",
    "            elif time <= 22 :\n",
    "                return 'evening'\n",
    "            else:\n",
    "                return 'peak time'\n",
    "\n",
    "        df['time_zone'] = df['date_time'].apply(lambda x: get_time_zone(x))\n",
    "\n",
    "        return df\n",
    "\n",
    "    def weapon_category(self, df):\n",
    "\n",
    "        def get_weapon(weapon):\n",
    "            if weapon == 'water_vehicle|land_vehicle|Falling|Drown|RedZone|Bluezone':\n",
    "                return 'accident'\n",
    "            elif weapon == 'P18C|R1895|P92|P1911|S686|S1897|S12K|Sickle|Machete|Pan|Punch|Crowbar|Crossbow':\n",
    "                return 'short_range'\n",
    "            elif weapon == 'UMP9|Micro UZI|Tommy Gun|Vector|AUG|Groza|M249|DP-28':\n",
    "                return 'middle_range'\n",
    "            elif weapon == 'SKS|Mini 14|VSS|Mk14|Kar98k|M24|AWM':\n",
    "                return 'long_range'\n",
    "            elif weapon == 'Molotov|Grenade':\n",
    "                return 'throwables'\n",
    "            else:\n",
    "                return weapon\n",
    "\n",
    "        df['weapon'] = df['killed_by'].apply(lambda x: get_weapon(x))\n",
    "        return df\n",
    "\n",
    "    def dmg_per_kills(self, df):\n",
    "        df['dmg_per_kills'] = df['player_dmg'] / df['player_kills']\n",
    "        df.loc[(df['player_dmg'] == 0) & (df['player_kills'] != 0), 'dmg_per_kills'] = 0\n",
    "        idx = df[df['dmg_per_kills'] == np.inf].index\n",
    "        df.loc[idx, 'dmg_per_kills'] = df.loc[idx, 'player_dmg'] / 100000\n",
    "        return df\n",
    "    \n",
    "    def ride_ratio(self, df):\n",
    "        df['ride_ratio'] = df['player_dist_ride'] / df['player_dist_walk']\n",
    "        df.loc[(df['player_dist_ride'] > 0) & (df['player_dist_walk'] == 0), 'ride_ratio'] = 10000\n",
    "        return df\n",
    "\n",
    "    def cumulative_sum(self, df):\n",
    "        df_cum_grp = df.groupby(['date', 'match_id', 'player_name'])[['each_game_score', 'player_kills', \n",
    "                                                                          'player_dmg', 'player_assists',\n",
    "                                                                          'dmg_per_kills', \n",
    "                                                                          'ride_ratio']].mean().reset_index()\n",
    "        df_cum_grp['num'] = 1\n",
    "\n",
    "        df_cum_sum = df_cum_grp.groupby('player_name').cumsum()\n",
    "\n",
    "        df_cum_last = df_cum_sum.copy()\n",
    "        for col in range(df_cum_sum.shape[1]):\n",
    "            df_cum_last.iloc[:, col] = df_cum_sum.iloc[:, col] - df_cum_grp.iloc[:, col + 3]\n",
    "        df_cum_last.columns = ['cum_each_game_score', 'cum_player_kills', 'cum_player_dmg', 'cum_player_assists', \n",
    "                               'dmg_kills', 'ride_walk', 'cum_num']\n",
    "\n",
    "        df_cum = pd.concat([df_cum_grp, df_cum_last], axis=1)\n",
    "        df_cum_m = df_cum[['date', 'match_id', 'player_name', 'cum_each_game_score', 'cum_player_kills', \n",
    "                           'cum_player_dmg', 'cum_player_assists', 'cum_num']]\n",
    "\n",
    "        df = pd.merge(df, df_cum_m, how='left', on=['date', 'match_id', 'player_name'])\n",
    "\n",
    "        return df\n",
    "\n",
    "    def match_level(self, df):\n",
    "        match_player_level = df.groupby(['date', 'match_id', 'player_name'])['cum_each_game_score'].mean().reset_index()\n",
    "\n",
    "        match_level = match_player_level.groupby(['date', 'match_id'])['cum_each_game_score'].mean().reset_index()\n",
    "        match_level.columns = ['date', 'match_id', 'match_level']\n",
    "\n",
    "        df = pd.merge(df, match_level, how='left', on=['date', 'match_id'])\n",
    "\n",
    "        return df\n",
    "\n",
    "    def team_level(self, df):\n",
    "        team_player_level = df.groupby(['date', 'match_id', 'team_id', 'player_name'])['cum_each_game_score'].mean().reset_index()\n",
    "\n",
    "        match_level = df.groupby(['date', 'match_id'])['cum_each_game_score'].sum().reset_index()\n",
    "        match_level.columns = ['date', 'match_id', 'match_level_sum']\n",
    "\n",
    "        team_level_sum = df.groupby(['date', 'match_id', 'team_id'])[['cum_each_game_score', 'cum_num']].sum().reset_index()\n",
    "        team_level_sum.columns = ['date', 'match_id', 'team_id', 'team_level_sum', 'team_cum_num']\n",
    "\n",
    "        team_level = pd.merge(team_level_sum, match_level, how='left', on=['date', 'match_id'])\n",
    "        team_level['team_level'] = team_level['team_level_sum'] / team_level['match_level_sum']\n",
    "\n",
    "        df = pd.merge(df, team_level, how='left', on=['date', 'match_id', 'team_id'])\n",
    "\n",
    "        return df\n",
    "\n",
    "    def first_kill_time(self, df):\n",
    "        first_kill_time = df.groupby(['date', 'match_id', 'team_id'])[['time']].min().reset_index()\n",
    "        first_kill_time.columns = ['date', 'match_id', 'team_id', 'first_kill_time']\n",
    "        df = pd.merge(df, first_kill_time, how='left', on=['date', 'match_id', 'team_id'])\n",
    "\n",
    "\n",
    "        def get_team_tendency(first_kill_time):\n",
    "            if first_kill_time <= 125:\n",
    "                return 6\n",
    "            elif first_kill_time <= 250:\n",
    "                return 5\n",
    "            elif first_kill_time <= 375:\n",
    "                return 4\n",
    "            elif first_kill_time <= 500:\n",
    "                return 3\n",
    "            elif first_kill_time <= 625:\n",
    "                return 2\n",
    "            elif first_kill_time <= 750:\n",
    "                return 1\n",
    "            else:\n",
    "                return 0\n",
    "\n",
    "        df['tendency'] = df['first_kill_time'].apply(lambda x: get_team_tendency(x))\n",
    "\n",
    "        return df\n",
    "\n",
    "    def kill_position(self, df):\n",
    "\n",
    "        # 강북\n",
    "        df.loc[((df['killer_position_x'] > 120000) & (df['killer_position_x'] < 240000)) \n",
    "           & ((df['killer_position_y'] > 550000) & (df['killer_position_y'] < 600000)), '강북'] = 1\n",
    "        df['강북'] = df['강북'].fillna(0)\n",
    "\n",
    "        # 강남\n",
    "        df.loc[(df['killer_position_x'] > 100000) & (df['killer_position_x'] < 220000)\n",
    "               & (df['killer_position_y'] > 480000) & (df['killer_position_y'] < 540000), '강남'] = 1\n",
    "        df['강남'] = df['강남'].fillna(0)\n",
    "\n",
    "        # 포친키\n",
    "        df.loc[((df['killer_position_x'] > 330000) & (df['killer_position_x'] < 380000))\n",
    "               & ((df['killer_position_y'] > 380000) & (df['killer_position_y'] < 420000)), '포친키'] = 1\n",
    "        df['포친키'] = df['포친키'].fillna(0)\n",
    "\n",
    "        # 야스나야\n",
    "        df.loc[((df['killer_position_x'] > 500000) & (df['killer_position_x'] < 570000))\n",
    "               & ((df['killer_position_y'] > 540000) & (df['killer_position_y'] < 600000)), '야스나야'] = 1\n",
    "        df['야스나야'] = df['야스나야'].fillna(0)\n",
    "\n",
    "        # 프리모스크\n",
    "        df.loc[((df['killer_position_x'] > 140000) & (df['killer_position_x'] < 180000))\n",
    "               & ((df['killer_position_y'] > 170000) & (df['killer_position_y'] < 220000)), '프리모스크'] = 1\n",
    "        df['프리모스크'] = df['프리모스크'].fillna(0)\n",
    "\n",
    "        # 밀리터리베이스\n",
    "        df.loc[((df['killer_position_x'] > 520000) & (df['killer_position_x'] < 580000))\n",
    "               &((df['killer_position_y'] > 160000) & (df['killer_position_y'] < 195000)), '밀리터리베이스'] = 1\n",
    "        df['밀리터리베이스'] = df['밀리터리베이스'].fillna(0)\n",
    "\n",
    "        # 밀타\n",
    "        df.loc[((df['killer_position_x'] > 560000) & (df['killer_position_x'] < 610000))\n",
    "               & ((df['killer_position_y'] > 310000) & (df['killer_position_y'] < 350000)), '밀타'] = 1\n",
    "        df['밀타'] = df['밀타'].fillna(0)\n",
    "\n",
    "        # 밀타파워\n",
    "        df.loc[((df['killer_position_x'] > 700000) & (df['killer_position_x'] < 730000))\n",
    "               & ((df['killer_position_y'] > 350000) & (df['killer_position_y'] < 400000)), '밀타파워'] = 1\n",
    "        df['밀타파워'] = df['밀타파워'].fillna(0)\n",
    "\n",
    "        # 노보(무역항)\n",
    "        df.loc[((df['killer_position_x'] > 580000) & (df['killer_position_x'] < 630000))\n",
    "               & ((df['killer_position_y'] > 180000) & (df['killer_position_y'] < 230000)), '노보'] = 1\n",
    "        df['노보'] = df['노보'].fillna(0)\n",
    "\n",
    "        # 리포브카\n",
    "        df.loc[((df['killer_position_x'] > 680000) & (df['killer_position_x'] < 710000))\n",
    "               & ((df['killer_position_y'] > 450000) & (df['killer_position_y'] < 490000)), '리포브카'] = 1\n",
    "        df['리포브카'] = df['리포브카'].fillna(0)\n",
    "\n",
    "        # 로족\n",
    "        df.loc[((df['killer_position_x'] > 380000) & (df['killer_position_x'] < 420000))\n",
    "               & ((df['killer_position_y'] > 500000) & (df['killer_position_y'] < 530000)), '로족'] = 1\n",
    "        df['로족'] = df['로족'].fillna(0)\n",
    "\n",
    "        # 자키\n",
    "        df.loc[((df['killer_position_x'] > 100000) & (df['killer_position_x'] < 140000))\n",
    "               & ((df['killer_position_y'] > 650000) & (df['killer_position_y'] < 690000)), '자키'] = 1\n",
    "        df['자키'] = df['자키'].fillna(0)\n",
    "\n",
    "        # 서버니\n",
    "        df.loc[((df['killer_position_x'] > 360000) & (df['killer_position_x'] < 390000))\n",
    "               & ((df['killer_position_y'] > 660000) & (df['killer_position_y'] < 690000)), '서버니'] = 1\n",
    "        df['서버니'] = df['서버니'].fillna(0)\n",
    "\n",
    "        # 스타버\n",
    "        df.loc[((df['killer_position_x'] > 550000) & (df['killer_position_x'] < 580000))\n",
    "               & ((df['killer_position_y'] > 660000) & (df['killer_position_y'] < 680000)), '스타버'] = 1\n",
    "        df['스타버'] = df['스타버'].fillna(0)\n",
    "\n",
    "        # 스쿨\n",
    "        df.loc[((df['killer_position_x'] > 410000) & (df['killer_position_x'] < 440000))\n",
    "               & ((df['killer_position_y'] > 460000) & (df['killer_position_y'] < 490000)), '스쿨'] = 1\n",
    "        df['스쿨'] = df['스쿨'].fillna(0)\n",
    "\n",
    "        # 통곡의다리1\n",
    "        df.loc[((df['killer_position_x'] > 320000) & (df['killer_position_x'] < 370000))\n",
    "               & ((df['killer_position_y'] > 210000) & (df['killer_position_y'] < 290000)), '통곡의다리1'] = 1\n",
    "        df['통곡의다리1'] = df['통곡의다리1'].fillna(0)\n",
    "\n",
    "        # 통곡의다리2\n",
    "        df.loc[((df['killer_position_x'] > 530000) & (df['killer_position_x'] < 560000))\n",
    "               & ((df['killer_position_y'] > 200000) & (df['killer_position_y'] < 310000)), '통곡의다리2'] = 1\n",
    "        df['통곡의다리2'] = df['통곡의다리2'].fillna(0)\n",
    "\n",
    "        return df"
   ]
  },
  {
   "cell_type": "markdown",
   "id": "eab30383",
   "metadata": {},
   "source": [
    "## 파생변수2 생성"
   ]
  },
  {
   "cell_type": "code",
   "execution_count": 15,
   "id": "f8ba16e0",
   "metadata": {
    "ExecuteTime": {
     "end_time": "2021-08-26T13:48:25.368920Z",
     "start_time": "2021-08-26T13:48:25.362549Z"
    }
   },
   "outputs": [],
   "source": [
    "import datetime"
   ]
  },
  {
   "cell_type": "code",
   "execution_count": 22,
   "id": "5647dfe0",
   "metadata": {
    "ExecuteTime": {
     "end_time": "2021-08-26T13:59:12.475276Z",
     "start_time": "2021-08-26T13:58:45.301387Z"
    }
   },
   "outputs": [],
   "source": [
    "df = df.sort_values(['date', 'match_id'])"
   ]
  },
  {
   "cell_type": "code",
   "execution_count": 23,
   "id": "8184df32",
   "metadata": {
    "ExecuteTime": {
     "end_time": "2021-08-26T14:12:35.761849Z",
     "start_time": "2021-08-26T13:59:12.479395Z"
    }
   },
   "outputs": [],
   "source": [
    "var = DerivingVariables2()\n",
    "\n",
    "df = var.date_vars(df)\n",
    "df = var.weapon_category(df)\n",
    "df = var.dmg_per_kills(df)\n",
    "df = var.ride_ratio(df)\n",
    "df = var.cumulative_sum(df)\n",
    "df = var.match_level(df)\n",
    "df = var.team_level(df)\n",
    "df = var.first_kill_time(df)\n",
    "df = var.kill_position(df)"
   ]
  },
  {
   "cell_type": "code",
   "execution_count": 24,
   "id": "89411d06",
   "metadata": {
    "ExecuteTime": {
     "end_time": "2021-08-26T14:12:39.592913Z",
     "start_time": "2021-08-26T14:12:39.545139Z"
    },
    "scrolled": true
   },
   "outputs": [
    {
     "name": "stdout",
     "output_type": "stream",
     "text": [
      "<class 'pandas.core.frame.DataFrame'>\n",
      "Int64Index: 36231117 entries, 0 to 36231116\n",
      "Data columns (total 68 columns):\n",
      " #   Column               Dtype              \n",
      "---  ------               -----              \n",
      " 0   date                 datetime64[ns, UTC]\n",
      " 1   game_size            int64              \n",
      " 2   match_id             object             \n",
      " 3   party_size           int64              \n",
      " 4   player_assists       int64              \n",
      " 5   player_dbno          int64              \n",
      " 6   player_dist_ride     float64            \n",
      " 7   player_dist_walk     float64            \n",
      " 8   player_dmg           int64              \n",
      " 9   player_kills         int64              \n",
      " 10  player_name          object             \n",
      " 11  player_survive_time  float64            \n",
      " 12  team_id              int64              \n",
      " 13  team_placement       int64              \n",
      " 14  killed_by            object             \n",
      " 15  killer_placement     float64            \n",
      " 16  killer_position_x    float64            \n",
      " 17  killer_position_y    float64            \n",
      " 18  map                  object             \n",
      " 19  time                 float64            \n",
      " 20  victim_name          object             \n",
      " 21  victim_placement     float64            \n",
      " 22  victim_position_x    float64            \n",
      " 23  victim_position_y    float64            \n",
      " 24  outlier              float64            \n",
      " 25  kill_dist            float64            \n",
      " 26  max_placement        int64              \n",
      " 27  each_game_score      float64            \n",
      " 28  total_score          float64            \n",
      " 29  kda                  float64            \n",
      " 30  num_of_match         int64              \n",
      " 31  day_of_week          int64              \n",
      " 32  weekend              int64              \n",
      " 33  date_time            int64              \n",
      " 34  time_zone            object             \n",
      " 35  weapon               object             \n",
      " 36  dmg_per_kills        float64            \n",
      " 37  ride_ratio           float64            \n",
      " 38  kor_date             datetime64[ns, UTC]\n",
      " 39  cum_each_game_score  float64            \n",
      " 40  cum_player_kills     int64              \n",
      " 41  cum_player_dmg       int64              \n",
      " 42  cum_player_assists   int64              \n",
      " 43  cum_num              int64              \n",
      " 44  match_level          float64            \n",
      " 45  team_level_sum       float64            \n",
      " 46  team_cum_num         int64              \n",
      " 47  match_level_sum      float64            \n",
      " 48  team_level           float64            \n",
      " 49  first_kill_time      float64            \n",
      " 50  tendency             int64              \n",
      " 51  강북                   float64            \n",
      " 52  강남                   float64            \n",
      " 53  포친키                  float64            \n",
      " 54  야스나야                 float64            \n",
      " 55  프리모스크                float64            \n",
      " 56  밀리터리베이스              float64            \n",
      " 57  밀타                   float64            \n",
      " 58  밀타파워                 float64            \n",
      " 59  노보                   float64            \n",
      " 60  리포브카                 float64            \n",
      " 61  로족                   float64            \n",
      " 62  자키                   float64            \n",
      " 63  서버니                  float64            \n",
      " 64  스타버                  float64            \n",
      " 65  스쿨                   float64            \n",
      " 66  통곡의다리1               float64            \n",
      " 67  통곡의다리2               float64            \n",
      "dtypes: datetime64[ns, UTC](2), float64(40), int64(19), object(7)\n",
      "memory usage: 18.6+ GB\n"
     ]
    }
   ],
   "source": [
    "df.info()"
   ]
  },
  {
   "cell_type": "code",
   "execution_count": 25,
   "id": "fcb400a1",
   "metadata": {
    "ExecuteTime": {
     "end_time": "2021-08-26T14:12:55.893753Z",
     "start_time": "2021-08-26T14:12:55.853925Z"
    },
    "scrolled": true
   },
   "outputs": [
    {
     "data": {
      "text/html": [
       "<div>\n",
       "<style scoped>\n",
       "    .dataframe tbody tr th:only-of-type {\n",
       "        vertical-align: middle;\n",
       "    }\n",
       "\n",
       "    .dataframe tbody tr th {\n",
       "        vertical-align: top;\n",
       "    }\n",
       "\n",
       "    .dataframe thead th {\n",
       "        text-align: right;\n",
       "    }\n",
       "</style>\n",
       "<table border=\"1\" class=\"dataframe\">\n",
       "  <thead>\n",
       "    <tr style=\"text-align: right;\">\n",
       "      <th></th>\n",
       "      <th>date</th>\n",
       "      <th>game_size</th>\n",
       "      <th>match_id</th>\n",
       "      <th>party_size</th>\n",
       "      <th>player_assists</th>\n",
       "      <th>player_dbno</th>\n",
       "      <th>player_dist_ride</th>\n",
       "      <th>player_dist_walk</th>\n",
       "      <th>player_dmg</th>\n",
       "      <th>player_kills</th>\n",
       "      <th>...</th>\n",
       "      <th>밀타파워</th>\n",
       "      <th>노보</th>\n",
       "      <th>리포브카</th>\n",
       "      <th>로족</th>\n",
       "      <th>자키</th>\n",
       "      <th>서버니</th>\n",
       "      <th>스타버</th>\n",
       "      <th>스쿨</th>\n",
       "      <th>통곡의다리1</th>\n",
       "      <th>통곡의다리2</th>\n",
       "    </tr>\n",
       "  </thead>\n",
       "  <tbody>\n",
       "    <tr>\n",
       "      <th>0</th>\n",
       "      <td>2017-10-20 08:01:07+00:00</td>\n",
       "      <td>24</td>\n",
       "      <td>2U4GBNA0Yml6KV2X5zKbFWJzGxFNOvOB8zq4gwaVkAyf_p...</td>\n",
       "      <td>4</td>\n",
       "      <td>0</td>\n",
       "      <td>0</td>\n",
       "      <td>0.000</td>\n",
       "      <td>213.061</td>\n",
       "      <td>0</td>\n",
       "      <td>0</td>\n",
       "      <td>...</td>\n",
       "      <td>0.000</td>\n",
       "      <td>0.000</td>\n",
       "      <td>0.000</td>\n",
       "      <td>0.000</td>\n",
       "      <td>0.000</td>\n",
       "      <td>0.000</td>\n",
       "      <td>0.000</td>\n",
       "      <td>0.000</td>\n",
       "      <td>0.000</td>\n",
       "      <td>0.000</td>\n",
       "    </tr>\n",
       "    <tr>\n",
       "      <th>1</th>\n",
       "      <td>2017-10-20 08:01:07+00:00</td>\n",
       "      <td>24</td>\n",
       "      <td>2U4GBNA0Yml6KV2X5zKbFWJzGxFNOvOB8zq4gwaVkAyf_p...</td>\n",
       "      <td>4</td>\n",
       "      <td>1</td>\n",
       "      <td>0</td>\n",
       "      <td>3255.289</td>\n",
       "      <td>2690.863</td>\n",
       "      <td>75</td>\n",
       "      <td>0</td>\n",
       "      <td>...</td>\n",
       "      <td>0.000</td>\n",
       "      <td>0.000</td>\n",
       "      <td>0.000</td>\n",
       "      <td>0.000</td>\n",
       "      <td>0.000</td>\n",
       "      <td>0.000</td>\n",
       "      <td>0.000</td>\n",
       "      <td>0.000</td>\n",
       "      <td>0.000</td>\n",
       "      <td>0.000</td>\n",
       "    </tr>\n",
       "    <tr>\n",
       "      <th>2</th>\n",
       "      <td>2017-10-20 08:01:07+00:00</td>\n",
       "      <td>24</td>\n",
       "      <td>2U4GBNA0Yml6KV2X5zKbFWJzGxFNOvOB8zq4gwaVkAyf_p...</td>\n",
       "      <td>4</td>\n",
       "      <td>0</td>\n",
       "      <td>2</td>\n",
       "      <td>5162.305</td>\n",
       "      <td>1682.161</td>\n",
       "      <td>236</td>\n",
       "      <td>3</td>\n",
       "      <td>...</td>\n",
       "      <td>0.000</td>\n",
       "      <td>0.000</td>\n",
       "      <td>0.000</td>\n",
       "      <td>0.000</td>\n",
       "      <td>0.000</td>\n",
       "      <td>0.000</td>\n",
       "      <td>0.000</td>\n",
       "      <td>0.000</td>\n",
       "      <td>0.000</td>\n",
       "      <td>0.000</td>\n",
       "    </tr>\n",
       "    <tr>\n",
       "      <th>3</th>\n",
       "      <td>2017-10-20 08:01:07+00:00</td>\n",
       "      <td>24</td>\n",
       "      <td>2U4GBNA0Yml6KV2X5zKbFWJzGxFNOvOB8zq4gwaVkAyf_p...</td>\n",
       "      <td>4</td>\n",
       "      <td>0</td>\n",
       "      <td>2</td>\n",
       "      <td>5162.305</td>\n",
       "      <td>1682.161</td>\n",
       "      <td>236</td>\n",
       "      <td>3</td>\n",
       "      <td>...</td>\n",
       "      <td>0.000</td>\n",
       "      <td>0.000</td>\n",
       "      <td>0.000</td>\n",
       "      <td>0.000</td>\n",
       "      <td>0.000</td>\n",
       "      <td>0.000</td>\n",
       "      <td>0.000</td>\n",
       "      <td>0.000</td>\n",
       "      <td>0.000</td>\n",
       "      <td>0.000</td>\n",
       "    </tr>\n",
       "    <tr>\n",
       "      <th>4</th>\n",
       "      <td>2017-10-20 08:01:07+00:00</td>\n",
       "      <td>24</td>\n",
       "      <td>2U4GBNA0Yml6KV2X5zKbFWJzGxFNOvOB8zq4gwaVkAyf_p...</td>\n",
       "      <td>4</td>\n",
       "      <td>0</td>\n",
       "      <td>2</td>\n",
       "      <td>5162.305</td>\n",
       "      <td>1682.161</td>\n",
       "      <td>236</td>\n",
       "      <td>3</td>\n",
       "      <td>...</td>\n",
       "      <td>0.000</td>\n",
       "      <td>0.000</td>\n",
       "      <td>0.000</td>\n",
       "      <td>0.000</td>\n",
       "      <td>0.000</td>\n",
       "      <td>0.000</td>\n",
       "      <td>0.000</td>\n",
       "      <td>0.000</td>\n",
       "      <td>0.000</td>\n",
       "      <td>0.000</td>\n",
       "    </tr>\n",
       "  </tbody>\n",
       "</table>\n",
       "<p>5 rows × 68 columns</p>\n",
       "</div>"
      ],
      "text/plain": [
       "                       date  game_size  \\\n",
       "0 2017-10-20 08:01:07+00:00         24   \n",
       "1 2017-10-20 08:01:07+00:00         24   \n",
       "2 2017-10-20 08:01:07+00:00         24   \n",
       "3 2017-10-20 08:01:07+00:00         24   \n",
       "4 2017-10-20 08:01:07+00:00         24   \n",
       "\n",
       "                                            match_id  party_size  \\\n",
       "0  2U4GBNA0Yml6KV2X5zKbFWJzGxFNOvOB8zq4gwaVkAyf_p...           4   \n",
       "1  2U4GBNA0Yml6KV2X5zKbFWJzGxFNOvOB8zq4gwaVkAyf_p...           4   \n",
       "2  2U4GBNA0Yml6KV2X5zKbFWJzGxFNOvOB8zq4gwaVkAyf_p...           4   \n",
       "3  2U4GBNA0Yml6KV2X5zKbFWJzGxFNOvOB8zq4gwaVkAyf_p...           4   \n",
       "4  2U4GBNA0Yml6KV2X5zKbFWJzGxFNOvOB8zq4gwaVkAyf_p...           4   \n",
       "\n",
       "   player_assists  player_dbno  player_dist_ride  player_dist_walk  \\\n",
       "0               0            0             0.000           213.061   \n",
       "1               1            0          3255.289          2690.863   \n",
       "2               0            2          5162.305          1682.161   \n",
       "3               0            2          5162.305          1682.161   \n",
       "4               0            2          5162.305          1682.161   \n",
       "\n",
       "   player_dmg  player_kills  ...  밀타파워    노보  리포브카    로족    자키   서버니   스타버  \\\n",
       "0           0             0  ... 0.000 0.000 0.000 0.000 0.000 0.000 0.000   \n",
       "1          75             0  ... 0.000 0.000 0.000 0.000 0.000 0.000 0.000   \n",
       "2         236             3  ... 0.000 0.000 0.000 0.000 0.000 0.000 0.000   \n",
       "3         236             3  ... 0.000 0.000 0.000 0.000 0.000 0.000 0.000   \n",
       "4         236             3  ... 0.000 0.000 0.000 0.000 0.000 0.000 0.000   \n",
       "\n",
       "     스쿨 통곡의다리1  통곡의다리2  \n",
       "0 0.000  0.000   0.000  \n",
       "1 0.000  0.000   0.000  \n",
       "2 0.000  0.000   0.000  \n",
       "3 0.000  0.000   0.000  \n",
       "4 0.000  0.000   0.000  \n",
       "\n",
       "[5 rows x 68 columns]"
      ]
     },
     "execution_count": 25,
     "metadata": {},
     "output_type": "execute_result"
    }
   ],
   "source": [
    "df.head()"
   ]
  },
  {
   "cell_type": "code",
   "execution_count": 26,
   "id": "c3023177",
   "metadata": {
    "ExecuteTime": {
     "end_time": "2021-08-26T14:14:04.842819Z",
     "start_time": "2021-08-26T14:14:04.839480Z"
    }
   },
   "outputs": [],
   "source": [
    "pd.set_option('display.max_columns', None)"
   ]
  },
  {
   "cell_type": "code",
   "execution_count": 27,
   "id": "f571d8a8",
   "metadata": {
    "ExecuteTime": {
     "end_time": "2021-08-26T14:14:08.493863Z",
     "start_time": "2021-08-26T14:14:08.461489Z"
    }
   },
   "outputs": [
    {
     "data": {
      "text/html": [
       "<div>\n",
       "<style scoped>\n",
       "    .dataframe tbody tr th:only-of-type {\n",
       "        vertical-align: middle;\n",
       "    }\n",
       "\n",
       "    .dataframe tbody tr th {\n",
       "        vertical-align: top;\n",
       "    }\n",
       "\n",
       "    .dataframe thead th {\n",
       "        text-align: right;\n",
       "    }\n",
       "</style>\n",
       "<table border=\"1\" class=\"dataframe\">\n",
       "  <thead>\n",
       "    <tr style=\"text-align: right;\">\n",
       "      <th></th>\n",
       "      <th>date</th>\n",
       "      <th>game_size</th>\n",
       "      <th>match_id</th>\n",
       "      <th>party_size</th>\n",
       "      <th>player_assists</th>\n",
       "      <th>player_dbno</th>\n",
       "      <th>player_dist_ride</th>\n",
       "      <th>player_dist_walk</th>\n",
       "      <th>player_dmg</th>\n",
       "      <th>player_kills</th>\n",
       "      <th>player_name</th>\n",
       "      <th>player_survive_time</th>\n",
       "      <th>team_id</th>\n",
       "      <th>team_placement</th>\n",
       "      <th>killed_by</th>\n",
       "      <th>killer_placement</th>\n",
       "      <th>killer_position_x</th>\n",
       "      <th>killer_position_y</th>\n",
       "      <th>map</th>\n",
       "      <th>time</th>\n",
       "      <th>victim_name</th>\n",
       "      <th>victim_placement</th>\n",
       "      <th>victim_position_x</th>\n",
       "      <th>victim_position_y</th>\n",
       "      <th>outlier</th>\n",
       "      <th>kill_dist</th>\n",
       "      <th>max_placement</th>\n",
       "      <th>each_game_score</th>\n",
       "      <th>total_score</th>\n",
       "      <th>kda</th>\n",
       "      <th>num_of_match</th>\n",
       "      <th>day_of_week</th>\n",
       "      <th>weekend</th>\n",
       "      <th>date_time</th>\n",
       "      <th>time_zone</th>\n",
       "      <th>weapon</th>\n",
       "      <th>dmg_per_kills</th>\n",
       "      <th>ride_ratio</th>\n",
       "      <th>kor_date</th>\n",
       "      <th>cum_each_game_score</th>\n",
       "      <th>cum_player_kills</th>\n",
       "      <th>cum_player_dmg</th>\n",
       "      <th>cum_player_assists</th>\n",
       "      <th>cum_num</th>\n",
       "      <th>match_level</th>\n",
       "      <th>team_level_sum</th>\n",
       "      <th>team_cum_num</th>\n",
       "      <th>match_level_sum</th>\n",
       "      <th>team_level</th>\n",
       "      <th>first_kill_time</th>\n",
       "      <th>tendency</th>\n",
       "      <th>강북</th>\n",
       "      <th>강남</th>\n",
       "      <th>포친키</th>\n",
       "      <th>야스나야</th>\n",
       "      <th>프리모스크</th>\n",
       "      <th>밀리터리베이스</th>\n",
       "      <th>밀타</th>\n",
       "      <th>밀타파워</th>\n",
       "      <th>노보</th>\n",
       "      <th>리포브카</th>\n",
       "      <th>로족</th>\n",
       "      <th>자키</th>\n",
       "      <th>서버니</th>\n",
       "      <th>스타버</th>\n",
       "      <th>스쿨</th>\n",
       "      <th>통곡의다리1</th>\n",
       "      <th>통곡의다리2</th>\n",
       "    </tr>\n",
       "  </thead>\n",
       "  <tbody>\n",
       "    <tr>\n",
       "      <th>0</th>\n",
       "      <td>2017-10-20 08:01:07+00:00</td>\n",
       "      <td>24</td>\n",
       "      <td>2U4GBNA0Yml6KV2X5zKbFWJzGxFNOvOB8zq4gwaVkAyf_p...</td>\n",
       "      <td>4</td>\n",
       "      <td>0</td>\n",
       "      <td>0</td>\n",
       "      <td>0.000</td>\n",
       "      <td>213.061</td>\n",
       "      <td>0</td>\n",
       "      <td>0</td>\n",
       "      <td>ZzyuanH</td>\n",
       "      <td>246.816</td>\n",
       "      <td>3</td>\n",
       "      <td>12</td>\n",
       "      <td>NaN</td>\n",
       "      <td>NaN</td>\n",
       "      <td>NaN</td>\n",
       "      <td>NaN</td>\n",
       "      <td>ERANGEL</td>\n",
       "      <td>NaN</td>\n",
       "      <td>NaN</td>\n",
       "      <td>NaN</td>\n",
       "      <td>NaN</td>\n",
       "      <td>NaN</td>\n",
       "      <td>0.000</td>\n",
       "      <td>0.000</td>\n",
       "      <td>24</td>\n",
       "      <td>1.200</td>\n",
       "      <td>6.524</td>\n",
       "      <td>0.000</td>\n",
       "      <td>2</td>\n",
       "      <td>4</td>\n",
       "      <td>0</td>\n",
       "      <td>17</td>\n",
       "      <td>evening</td>\n",
       "      <td>NaN</td>\n",
       "      <td>NaN</td>\n",
       "      <td>0.000</td>\n",
       "      <td>2017-10-20 17:01:07+00:00</td>\n",
       "      <td>0.000</td>\n",
       "      <td>0</td>\n",
       "      <td>0</td>\n",
       "      <td>0</td>\n",
       "      <td>0</td>\n",
       "      <td>0.000</td>\n",
       "      <td>0.000</td>\n",
       "      <td>0</td>\n",
       "      <td>0.000</td>\n",
       "      <td>NaN</td>\n",
       "      <td>584.000</td>\n",
       "      <td>2</td>\n",
       "      <td>0.000</td>\n",
       "      <td>0.000</td>\n",
       "      <td>0.000</td>\n",
       "      <td>0.000</td>\n",
       "      <td>0.000</td>\n",
       "      <td>0.000</td>\n",
       "      <td>0.000</td>\n",
       "      <td>0.000</td>\n",
       "      <td>0.000</td>\n",
       "      <td>0.000</td>\n",
       "      <td>0.000</td>\n",
       "      <td>0.000</td>\n",
       "      <td>0.000</td>\n",
       "      <td>0.000</td>\n",
       "      <td>0.000</td>\n",
       "      <td>0.000</td>\n",
       "      <td>0.000</td>\n",
       "    </tr>\n",
       "    <tr>\n",
       "      <th>1</th>\n",
       "      <td>2017-10-20 08:01:07+00:00</td>\n",
       "      <td>24</td>\n",
       "      <td>2U4GBNA0Yml6KV2X5zKbFWJzGxFNOvOB8zq4gwaVkAyf_p...</td>\n",
       "      <td>4</td>\n",
       "      <td>1</td>\n",
       "      <td>0</td>\n",
       "      <td>3255.289</td>\n",
       "      <td>2690.863</td>\n",
       "      <td>75</td>\n",
       "      <td>0</td>\n",
       "      <td>UnuSual13</td>\n",
       "      <td>1282.921</td>\n",
       "      <td>3</td>\n",
       "      <td>12</td>\n",
       "      <td>NaN</td>\n",
       "      <td>NaN</td>\n",
       "      <td>NaN</td>\n",
       "      <td>NaN</td>\n",
       "      <td>ERANGEL</td>\n",
       "      <td>NaN</td>\n",
       "      <td>NaN</td>\n",
       "      <td>NaN</td>\n",
       "      <td>NaN</td>\n",
       "      <td>NaN</td>\n",
       "      <td>0.000</td>\n",
       "      <td>0.000</td>\n",
       "      <td>24</td>\n",
       "      <td>5.531</td>\n",
       "      <td>5.531</td>\n",
       "      <td>1.000</td>\n",
       "      <td>1</td>\n",
       "      <td>4</td>\n",
       "      <td>0</td>\n",
       "      <td>17</td>\n",
       "      <td>evening</td>\n",
       "      <td>NaN</td>\n",
       "      <td>0.001</td>\n",
       "      <td>1.210</td>\n",
       "      <td>2017-10-20 17:01:07+00:00</td>\n",
       "      <td>0.000</td>\n",
       "      <td>0</td>\n",
       "      <td>0</td>\n",
       "      <td>0</td>\n",
       "      <td>0</td>\n",
       "      <td>0.000</td>\n",
       "      <td>0.000</td>\n",
       "      <td>0</td>\n",
       "      <td>0.000</td>\n",
       "      <td>NaN</td>\n",
       "      <td>584.000</td>\n",
       "      <td>2</td>\n",
       "      <td>0.000</td>\n",
       "      <td>0.000</td>\n",
       "      <td>0.000</td>\n",
       "      <td>0.000</td>\n",
       "      <td>0.000</td>\n",
       "      <td>0.000</td>\n",
       "      <td>0.000</td>\n",
       "      <td>0.000</td>\n",
       "      <td>0.000</td>\n",
       "      <td>0.000</td>\n",
       "      <td>0.000</td>\n",
       "      <td>0.000</td>\n",
       "      <td>0.000</td>\n",
       "      <td>0.000</td>\n",
       "      <td>0.000</td>\n",
       "      <td>0.000</td>\n",
       "      <td>0.000</td>\n",
       "    </tr>\n",
       "    <tr>\n",
       "      <th>2</th>\n",
       "      <td>2017-10-20 08:01:07+00:00</td>\n",
       "      <td>24</td>\n",
       "      <td>2U4GBNA0Yml6KV2X5zKbFWJzGxFNOvOB8zq4gwaVkAyf_p...</td>\n",
       "      <td>4</td>\n",
       "      <td>0</td>\n",
       "      <td>2</td>\n",
       "      <td>5162.305</td>\n",
       "      <td>1682.161</td>\n",
       "      <td>236</td>\n",
       "      <td>3</td>\n",
       "      <td>tsrvenom</td>\n",
       "      <td>1255.673</td>\n",
       "      <td>3</td>\n",
       "      <td>12</td>\n",
       "      <td>AKM</td>\n",
       "      <td>12.000</td>\n",
       "      <td>245371.600</td>\n",
       "      <td>468524.600</td>\n",
       "      <td>ERANGEL</td>\n",
       "      <td>1093.000</td>\n",
       "      <td>TxxCxx</td>\n",
       "      <td>14.000</td>\n",
       "      <td>245214.200</td>\n",
       "      <td>467492.000</td>\n",
       "      <td>0.000</td>\n",
       "      <td>1044.527</td>\n",
       "      <td>24</td>\n",
       "      <td>6.468</td>\n",
       "      <td>292.700</td>\n",
       "      <td>0.671</td>\n",
       "      <td>78</td>\n",
       "      <td>4</td>\n",
       "      <td>0</td>\n",
       "      <td>17</td>\n",
       "      <td>evening</td>\n",
       "      <td>AKM</td>\n",
       "      <td>78.667</td>\n",
       "      <td>3.069</td>\n",
       "      <td>2017-10-20 17:01:07+00:00</td>\n",
       "      <td>0.000</td>\n",
       "      <td>0</td>\n",
       "      <td>0</td>\n",
       "      <td>0</td>\n",
       "      <td>0</td>\n",
       "      <td>0.000</td>\n",
       "      <td>0.000</td>\n",
       "      <td>0</td>\n",
       "      <td>0.000</td>\n",
       "      <td>NaN</td>\n",
       "      <td>584.000</td>\n",
       "      <td>2</td>\n",
       "      <td>0.000</td>\n",
       "      <td>0.000</td>\n",
       "      <td>0.000</td>\n",
       "      <td>0.000</td>\n",
       "      <td>0.000</td>\n",
       "      <td>0.000</td>\n",
       "      <td>0.000</td>\n",
       "      <td>0.000</td>\n",
       "      <td>0.000</td>\n",
       "      <td>0.000</td>\n",
       "      <td>0.000</td>\n",
       "      <td>0.000</td>\n",
       "      <td>0.000</td>\n",
       "      <td>0.000</td>\n",
       "      <td>0.000</td>\n",
       "      <td>0.000</td>\n",
       "      <td>0.000</td>\n",
       "    </tr>\n",
       "    <tr>\n",
       "      <th>3</th>\n",
       "      <td>2017-10-20 08:01:07+00:00</td>\n",
       "      <td>24</td>\n",
       "      <td>2U4GBNA0Yml6KV2X5zKbFWJzGxFNOvOB8zq4gwaVkAyf_p...</td>\n",
       "      <td>4</td>\n",
       "      <td>0</td>\n",
       "      <td>2</td>\n",
       "      <td>5162.305</td>\n",
       "      <td>1682.161</td>\n",
       "      <td>236</td>\n",
       "      <td>3</td>\n",
       "      <td>tsrvenom</td>\n",
       "      <td>1255.673</td>\n",
       "      <td>3</td>\n",
       "      <td>12</td>\n",
       "      <td>AKM</td>\n",
       "      <td>12.000</td>\n",
       "      <td>246427.200</td>\n",
       "      <td>466539.400</td>\n",
       "      <td>ERANGEL</td>\n",
       "      <td>1046.000</td>\n",
       "      <td>dkswjs333</td>\n",
       "      <td>14.000</td>\n",
       "      <td>246326.700</td>\n",
       "      <td>465711.800</td>\n",
       "      <td>0.000</td>\n",
       "      <td>833.680</td>\n",
       "      <td>24</td>\n",
       "      <td>6.468</td>\n",
       "      <td>292.700</td>\n",
       "      <td>0.671</td>\n",
       "      <td>78</td>\n",
       "      <td>4</td>\n",
       "      <td>0</td>\n",
       "      <td>17</td>\n",
       "      <td>evening</td>\n",
       "      <td>AKM</td>\n",
       "      <td>78.667</td>\n",
       "      <td>3.069</td>\n",
       "      <td>2017-10-20 17:01:07+00:00</td>\n",
       "      <td>0.000</td>\n",
       "      <td>0</td>\n",
       "      <td>0</td>\n",
       "      <td>0</td>\n",
       "      <td>0</td>\n",
       "      <td>0.000</td>\n",
       "      <td>0.000</td>\n",
       "      <td>0</td>\n",
       "      <td>0.000</td>\n",
       "      <td>NaN</td>\n",
       "      <td>584.000</td>\n",
       "      <td>2</td>\n",
       "      <td>0.000</td>\n",
       "      <td>0.000</td>\n",
       "      <td>0.000</td>\n",
       "      <td>0.000</td>\n",
       "      <td>0.000</td>\n",
       "      <td>0.000</td>\n",
       "      <td>0.000</td>\n",
       "      <td>0.000</td>\n",
       "      <td>0.000</td>\n",
       "      <td>0.000</td>\n",
       "      <td>0.000</td>\n",
       "      <td>0.000</td>\n",
       "      <td>0.000</td>\n",
       "      <td>0.000</td>\n",
       "      <td>0.000</td>\n",
       "      <td>0.000</td>\n",
       "      <td>0.000</td>\n",
       "    </tr>\n",
       "    <tr>\n",
       "      <th>4</th>\n",
       "      <td>2017-10-20 08:01:07+00:00</td>\n",
       "      <td>24</td>\n",
       "      <td>2U4GBNA0Yml6KV2X5zKbFWJzGxFNOvOB8zq4gwaVkAyf_p...</td>\n",
       "      <td>4</td>\n",
       "      <td>0</td>\n",
       "      <td>2</td>\n",
       "      <td>5162.305</td>\n",
       "      <td>1682.161</td>\n",
       "      <td>236</td>\n",
       "      <td>3</td>\n",
       "      <td>tsrvenom</td>\n",
       "      <td>1255.673</td>\n",
       "      <td>3</td>\n",
       "      <td>12</td>\n",
       "      <td>S686</td>\n",
       "      <td>12.000</td>\n",
       "      <td>549529.400</td>\n",
       "      <td>595979.300</td>\n",
       "      <td>ERANGEL</td>\n",
       "      <td>584.000</td>\n",
       "      <td>CALLTOBO-MATING</td>\n",
       "      <td>19.000</td>\n",
       "      <td>549063.600</td>\n",
       "      <td>595732.600</td>\n",
       "      <td>0.000</td>\n",
       "      <td>527.096</td>\n",
       "      <td>24</td>\n",
       "      <td>6.468</td>\n",
       "      <td>292.700</td>\n",
       "      <td>0.671</td>\n",
       "      <td>78</td>\n",
       "      <td>4</td>\n",
       "      <td>0</td>\n",
       "      <td>17</td>\n",
       "      <td>evening</td>\n",
       "      <td>S686</td>\n",
       "      <td>78.667</td>\n",
       "      <td>3.069</td>\n",
       "      <td>2017-10-20 17:01:07+00:00</td>\n",
       "      <td>0.000</td>\n",
       "      <td>0</td>\n",
       "      <td>0</td>\n",
       "      <td>0</td>\n",
       "      <td>0</td>\n",
       "      <td>0.000</td>\n",
       "      <td>0.000</td>\n",
       "      <td>0</td>\n",
       "      <td>0.000</td>\n",
       "      <td>NaN</td>\n",
       "      <td>584.000</td>\n",
       "      <td>2</td>\n",
       "      <td>0.000</td>\n",
       "      <td>0.000</td>\n",
       "      <td>0.000</td>\n",
       "      <td>1.000</td>\n",
       "      <td>0.000</td>\n",
       "      <td>0.000</td>\n",
       "      <td>0.000</td>\n",
       "      <td>0.000</td>\n",
       "      <td>0.000</td>\n",
       "      <td>0.000</td>\n",
       "      <td>0.000</td>\n",
       "      <td>0.000</td>\n",
       "      <td>0.000</td>\n",
       "      <td>0.000</td>\n",
       "      <td>0.000</td>\n",
       "      <td>0.000</td>\n",
       "      <td>0.000</td>\n",
       "    </tr>\n",
       "  </tbody>\n",
       "</table>\n",
       "</div>"
      ],
      "text/plain": [
       "                       date  game_size  \\\n",
       "0 2017-10-20 08:01:07+00:00         24   \n",
       "1 2017-10-20 08:01:07+00:00         24   \n",
       "2 2017-10-20 08:01:07+00:00         24   \n",
       "3 2017-10-20 08:01:07+00:00         24   \n",
       "4 2017-10-20 08:01:07+00:00         24   \n",
       "\n",
       "                                            match_id  party_size  \\\n",
       "0  2U4GBNA0Yml6KV2X5zKbFWJzGxFNOvOB8zq4gwaVkAyf_p...           4   \n",
       "1  2U4GBNA0Yml6KV2X5zKbFWJzGxFNOvOB8zq4gwaVkAyf_p...           4   \n",
       "2  2U4GBNA0Yml6KV2X5zKbFWJzGxFNOvOB8zq4gwaVkAyf_p...           4   \n",
       "3  2U4GBNA0Yml6KV2X5zKbFWJzGxFNOvOB8zq4gwaVkAyf_p...           4   \n",
       "4  2U4GBNA0Yml6KV2X5zKbFWJzGxFNOvOB8zq4gwaVkAyf_p...           4   \n",
       "\n",
       "   player_assists  player_dbno  player_dist_ride  player_dist_walk  \\\n",
       "0               0            0             0.000           213.061   \n",
       "1               1            0          3255.289          2690.863   \n",
       "2               0            2          5162.305          1682.161   \n",
       "3               0            2          5162.305          1682.161   \n",
       "4               0            2          5162.305          1682.161   \n",
       "\n",
       "   player_dmg  player_kills player_name  player_survive_time  team_id  \\\n",
       "0           0             0     ZzyuanH              246.816        3   \n",
       "1          75             0   UnuSual13             1282.921        3   \n",
       "2         236             3    tsrvenom             1255.673        3   \n",
       "3         236             3    tsrvenom             1255.673        3   \n",
       "4         236             3    tsrvenom             1255.673        3   \n",
       "\n",
       "   team_placement killed_by  killer_placement  killer_position_x  \\\n",
       "0              12       NaN               NaN                NaN   \n",
       "1              12       NaN               NaN                NaN   \n",
       "2              12       AKM            12.000         245371.600   \n",
       "3              12       AKM            12.000         246427.200   \n",
       "4              12      S686            12.000         549529.400   \n",
       "\n",
       "   killer_position_y      map     time      victim_name  victim_placement  \\\n",
       "0                NaN  ERANGEL      NaN              NaN               NaN   \n",
       "1                NaN  ERANGEL      NaN              NaN               NaN   \n",
       "2         468524.600  ERANGEL 1093.000           TxxCxx            14.000   \n",
       "3         466539.400  ERANGEL 1046.000        dkswjs333            14.000   \n",
       "4         595979.300  ERANGEL  584.000  CALLTOBO-MATING            19.000   \n",
       "\n",
       "   victim_position_x  victim_position_y  outlier  kill_dist  max_placement  \\\n",
       "0                NaN                NaN    0.000      0.000             24   \n",
       "1                NaN                NaN    0.000      0.000             24   \n",
       "2         245214.200         467492.000    0.000   1044.527             24   \n",
       "3         246326.700         465711.800    0.000    833.680             24   \n",
       "4         549063.600         595732.600    0.000    527.096             24   \n",
       "\n",
       "   each_game_score  total_score   kda  num_of_match  day_of_week  weekend  \\\n",
       "0            1.200        6.524 0.000             2            4        0   \n",
       "1            5.531        5.531 1.000             1            4        0   \n",
       "2            6.468      292.700 0.671            78            4        0   \n",
       "3            6.468      292.700 0.671            78            4        0   \n",
       "4            6.468      292.700 0.671            78            4        0   \n",
       "\n",
       "   date_time time_zone weapon  dmg_per_kills  ride_ratio  \\\n",
       "0         17   evening    NaN            NaN       0.000   \n",
       "1         17   evening    NaN          0.001       1.210   \n",
       "2         17   evening    AKM         78.667       3.069   \n",
       "3         17   evening    AKM         78.667       3.069   \n",
       "4         17   evening   S686         78.667       3.069   \n",
       "\n",
       "                   kor_date  cum_each_game_score  cum_player_kills  \\\n",
       "0 2017-10-20 17:01:07+00:00                0.000                 0   \n",
       "1 2017-10-20 17:01:07+00:00                0.000                 0   \n",
       "2 2017-10-20 17:01:07+00:00                0.000                 0   \n",
       "3 2017-10-20 17:01:07+00:00                0.000                 0   \n",
       "4 2017-10-20 17:01:07+00:00                0.000                 0   \n",
       "\n",
       "   cum_player_dmg  cum_player_assists  cum_num  match_level  team_level_sum  \\\n",
       "0               0                   0        0        0.000           0.000   \n",
       "1               0                   0        0        0.000           0.000   \n",
       "2               0                   0        0        0.000           0.000   \n",
       "3               0                   0        0        0.000           0.000   \n",
       "4               0                   0        0        0.000           0.000   \n",
       "\n",
       "   team_cum_num  match_level_sum  team_level  first_kill_time  tendency    강북  \\\n",
       "0             0            0.000         NaN          584.000         2 0.000   \n",
       "1             0            0.000         NaN          584.000         2 0.000   \n",
       "2             0            0.000         NaN          584.000         2 0.000   \n",
       "3             0            0.000         NaN          584.000         2 0.000   \n",
       "4             0            0.000         NaN          584.000         2 0.000   \n",
       "\n",
       "     강남   포친키  야스나야  프리모스크  밀리터리베이스    밀타  밀타파워    노보  리포브카    로족    자키   서버니  \\\n",
       "0 0.000 0.000 0.000  0.000    0.000 0.000 0.000 0.000 0.000 0.000 0.000 0.000   \n",
       "1 0.000 0.000 0.000  0.000    0.000 0.000 0.000 0.000 0.000 0.000 0.000 0.000   \n",
       "2 0.000 0.000 0.000  0.000    0.000 0.000 0.000 0.000 0.000 0.000 0.000 0.000   \n",
       "3 0.000 0.000 0.000  0.000    0.000 0.000 0.000 0.000 0.000 0.000 0.000 0.000   \n",
       "4 0.000 0.000 1.000  0.000    0.000 0.000 0.000 0.000 0.000 0.000 0.000 0.000   \n",
       "\n",
       "    스타버    스쿨  통곡의다리1  통곡의다리2  \n",
       "0 0.000 0.000   0.000   0.000  \n",
       "1 0.000 0.000   0.000   0.000  \n",
       "2 0.000 0.000   0.000   0.000  \n",
       "3 0.000 0.000   0.000   0.000  \n",
       "4 0.000 0.000   0.000   0.000  "
      ]
     },
     "execution_count": 27,
     "metadata": {},
     "output_type": "execute_result"
    }
   ],
   "source": [
    "df.head()"
   ]
  },
  {
   "cell_type": "code",
   "execution_count": 28,
   "id": "4d149cec",
   "metadata": {
    "ExecuteTime": {
     "end_time": "2021-08-26T14:17:42.615082Z",
     "start_time": "2021-08-26T14:17:07.866423Z"
    }
   },
   "outputs": [],
   "source": [
    "df_var2 = df.copy()"
   ]
  },
  {
   "cell_type": "markdown",
   "id": "5af1b7d1",
   "metadata": {},
   "source": [
    "# Column 정리"
   ]
  },
  {
   "cell_type": "code",
   "execution_count": 31,
   "id": "f07460aa",
   "metadata": {
    "ExecuteTime": {
     "end_time": "2021-08-26T14:24:21.723260Z",
     "start_time": "2021-08-26T14:24:21.714461Z"
    }
   },
   "outputs": [
    {
     "data": {
      "text/plain": [
       "Index(['date', 'game_size', 'match_id', 'party_size', 'player_assists',\n",
       "       'player_dbno', 'player_dist_ride', 'player_dist_walk', 'player_dmg',\n",
       "       'player_kills', 'player_name', 'player_survive_time', 'team_id',\n",
       "       'team_placement', 'killed_by', 'killer_placement', 'killer_position_x',\n",
       "       'killer_position_y', 'map', 'time', 'victim_name', 'victim_placement',\n",
       "       'victim_position_x', 'victim_position_y', 'outlier', 'kill_dist',\n",
       "       'max_placement', 'each_game_score', 'total_score', 'kda',\n",
       "       'num_of_match', 'day_of_week', 'weekend', 'date_time', 'time_zone',\n",
       "       'weapon', 'dmg_per_kills', 'ride_ratio', 'kor_date',\n",
       "       'cum_each_game_score', 'cum_player_kills', 'cum_player_dmg',\n",
       "       'cum_player_assists', 'cum_num', 'match_level', 'team_level_sum',\n",
       "       'team_cum_num', 'match_level_sum', 'team_level', 'first_kill_time',\n",
       "       'tendency', '강북', '강남', '포친키', '야스나야', '프리모스크', '밀리터리베이스', '밀타', '밀타파워',\n",
       "       '노보', '리포브카', '로족', '자키', '서버니', '스타버', '스쿨', '통곡의다리1', '통곡의다리2'],\n",
       "      dtype='object')"
      ]
     },
     "execution_count": 31,
     "metadata": {},
     "output_type": "execute_result"
    }
   ],
   "source": [
    "df.columns"
   ]
  },
  {
   "cell_type": "code",
   "execution_count": 38,
   "id": "af583527",
   "metadata": {
    "ExecuteTime": {
     "end_time": "2021-08-26T14:28:43.664704Z",
     "start_time": "2021-08-26T14:28:43.661289Z"
    }
   },
   "outputs": [],
   "source": [
    "del_cols = ['party_size', 'player_name', 'killed_by', 'killer_position_x', 'killer_position_y', 'map', 'time', 'victim_name', 'victim_placement', 'victim_position_x', 'victim_position_y']"
   ]
  },
  {
   "cell_type": "code",
   "execution_count": 39,
   "id": "e8e59511",
   "metadata": {
    "ExecuteTime": {
     "end_time": "2021-08-26T14:28:46.926026Z",
     "start_time": "2021-08-26T14:28:44.448776Z"
    }
   },
   "outputs": [],
   "source": [
    "for col in del_cols:\n",
    "    del df[col]"
   ]
  },
  {
   "cell_type": "code",
   "execution_count": 40,
   "id": "7c795c62",
   "metadata": {
    "ExecuteTime": {
     "end_time": "2021-08-26T14:29:04.206472Z",
     "start_time": "2021-08-26T14:29:03.148061Z"
    }
   },
   "outputs": [
    {
     "data": {
      "text/html": [
       "<div>\n",
       "<style scoped>\n",
       "    .dataframe tbody tr th:only-of-type {\n",
       "        vertical-align: middle;\n",
       "    }\n",
       "\n",
       "    .dataframe tbody tr th {\n",
       "        vertical-align: top;\n",
       "    }\n",
       "\n",
       "    .dataframe thead th {\n",
       "        text-align: right;\n",
       "    }\n",
       "</style>\n",
       "<table border=\"1\" class=\"dataframe\">\n",
       "  <thead>\n",
       "    <tr style=\"text-align: right;\">\n",
       "      <th></th>\n",
       "      <th>date</th>\n",
       "      <th>game_size</th>\n",
       "      <th>match_id</th>\n",
       "      <th>player_assists</th>\n",
       "      <th>player_dbno</th>\n",
       "      <th>player_dist_ride</th>\n",
       "      <th>player_dist_walk</th>\n",
       "      <th>player_dmg</th>\n",
       "      <th>player_kills</th>\n",
       "      <th>player_survive_time</th>\n",
       "      <th>team_id</th>\n",
       "      <th>team_placement</th>\n",
       "      <th>killer_placement</th>\n",
       "      <th>outlier</th>\n",
       "      <th>kill_dist</th>\n",
       "      <th>max_placement</th>\n",
       "      <th>each_game_score</th>\n",
       "      <th>total_score</th>\n",
       "      <th>kda</th>\n",
       "      <th>num_of_match</th>\n",
       "      <th>day_of_week</th>\n",
       "      <th>weekend</th>\n",
       "      <th>date_time</th>\n",
       "      <th>time_zone</th>\n",
       "      <th>weapon</th>\n",
       "      <th>dmg_per_kills</th>\n",
       "      <th>ride_ratio</th>\n",
       "      <th>kor_date</th>\n",
       "      <th>cum_each_game_score</th>\n",
       "      <th>cum_player_kills</th>\n",
       "      <th>cum_player_dmg</th>\n",
       "      <th>cum_player_assists</th>\n",
       "      <th>cum_num</th>\n",
       "      <th>match_level</th>\n",
       "      <th>team_level_sum</th>\n",
       "      <th>team_cum_num</th>\n",
       "      <th>match_level_sum</th>\n",
       "      <th>team_level</th>\n",
       "      <th>first_kill_time</th>\n",
       "      <th>tendency</th>\n",
       "      <th>강북</th>\n",
       "      <th>강남</th>\n",
       "      <th>포친키</th>\n",
       "      <th>야스나야</th>\n",
       "      <th>프리모스크</th>\n",
       "      <th>밀리터리베이스</th>\n",
       "      <th>밀타</th>\n",
       "      <th>밀타파워</th>\n",
       "      <th>노보</th>\n",
       "      <th>리포브카</th>\n",
       "      <th>로족</th>\n",
       "      <th>자키</th>\n",
       "      <th>서버니</th>\n",
       "      <th>스타버</th>\n",
       "      <th>스쿨</th>\n",
       "      <th>통곡의다리1</th>\n",
       "      <th>통곡의다리2</th>\n",
       "    </tr>\n",
       "  </thead>\n",
       "  <tbody>\n",
       "    <tr>\n",
       "      <th>0</th>\n",
       "      <td>2017-10-20 08:01:07+00:00</td>\n",
       "      <td>24</td>\n",
       "      <td>2U4GBNA0Yml6KV2X5zKbFWJzGxFNOvOB8zq4gwaVkAyf_p...</td>\n",
       "      <td>0</td>\n",
       "      <td>0</td>\n",
       "      <td>0.000</td>\n",
       "      <td>213.061</td>\n",
       "      <td>0</td>\n",
       "      <td>0</td>\n",
       "      <td>246.816</td>\n",
       "      <td>3</td>\n",
       "      <td>12</td>\n",
       "      <td>NaN</td>\n",
       "      <td>0.000</td>\n",
       "      <td>0.000</td>\n",
       "      <td>24</td>\n",
       "      <td>1.200</td>\n",
       "      <td>6.524</td>\n",
       "      <td>0.000</td>\n",
       "      <td>2</td>\n",
       "      <td>4</td>\n",
       "      <td>0</td>\n",
       "      <td>17</td>\n",
       "      <td>evening</td>\n",
       "      <td>NaN</td>\n",
       "      <td>NaN</td>\n",
       "      <td>0.000</td>\n",
       "      <td>2017-10-20 17:01:07+00:00</td>\n",
       "      <td>0.000</td>\n",
       "      <td>0</td>\n",
       "      <td>0</td>\n",
       "      <td>0</td>\n",
       "      <td>0</td>\n",
       "      <td>0.000</td>\n",
       "      <td>0.000</td>\n",
       "      <td>0</td>\n",
       "      <td>0.000</td>\n",
       "      <td>NaN</td>\n",
       "      <td>584.000</td>\n",
       "      <td>2</td>\n",
       "      <td>0.000</td>\n",
       "      <td>0.000</td>\n",
       "      <td>0.000</td>\n",
       "      <td>0.000</td>\n",
       "      <td>0.000</td>\n",
       "      <td>0.000</td>\n",
       "      <td>0.000</td>\n",
       "      <td>0.000</td>\n",
       "      <td>0.000</td>\n",
       "      <td>0.000</td>\n",
       "      <td>0.000</td>\n",
       "      <td>0.000</td>\n",
       "      <td>0.000</td>\n",
       "      <td>0.000</td>\n",
       "      <td>0.000</td>\n",
       "      <td>0.000</td>\n",
       "      <td>0.000</td>\n",
       "    </tr>\n",
       "    <tr>\n",
       "      <th>1</th>\n",
       "      <td>2017-10-20 08:01:07+00:00</td>\n",
       "      <td>24</td>\n",
       "      <td>2U4GBNA0Yml6KV2X5zKbFWJzGxFNOvOB8zq4gwaVkAyf_p...</td>\n",
       "      <td>1</td>\n",
       "      <td>0</td>\n",
       "      <td>3255.289</td>\n",
       "      <td>2690.863</td>\n",
       "      <td>75</td>\n",
       "      <td>0</td>\n",
       "      <td>1282.921</td>\n",
       "      <td>3</td>\n",
       "      <td>12</td>\n",
       "      <td>NaN</td>\n",
       "      <td>0.000</td>\n",
       "      <td>0.000</td>\n",
       "      <td>24</td>\n",
       "      <td>5.531</td>\n",
       "      <td>5.531</td>\n",
       "      <td>1.000</td>\n",
       "      <td>1</td>\n",
       "      <td>4</td>\n",
       "      <td>0</td>\n",
       "      <td>17</td>\n",
       "      <td>evening</td>\n",
       "      <td>NaN</td>\n",
       "      <td>0.001</td>\n",
       "      <td>1.210</td>\n",
       "      <td>2017-10-20 17:01:07+00:00</td>\n",
       "      <td>0.000</td>\n",
       "      <td>0</td>\n",
       "      <td>0</td>\n",
       "      <td>0</td>\n",
       "      <td>0</td>\n",
       "      <td>0.000</td>\n",
       "      <td>0.000</td>\n",
       "      <td>0</td>\n",
       "      <td>0.000</td>\n",
       "      <td>NaN</td>\n",
       "      <td>584.000</td>\n",
       "      <td>2</td>\n",
       "      <td>0.000</td>\n",
       "      <td>0.000</td>\n",
       "      <td>0.000</td>\n",
       "      <td>0.000</td>\n",
       "      <td>0.000</td>\n",
       "      <td>0.000</td>\n",
       "      <td>0.000</td>\n",
       "      <td>0.000</td>\n",
       "      <td>0.000</td>\n",
       "      <td>0.000</td>\n",
       "      <td>0.000</td>\n",
       "      <td>0.000</td>\n",
       "      <td>0.000</td>\n",
       "      <td>0.000</td>\n",
       "      <td>0.000</td>\n",
       "      <td>0.000</td>\n",
       "      <td>0.000</td>\n",
       "    </tr>\n",
       "    <tr>\n",
       "      <th>2</th>\n",
       "      <td>2017-10-20 08:01:07+00:00</td>\n",
       "      <td>24</td>\n",
       "      <td>2U4GBNA0Yml6KV2X5zKbFWJzGxFNOvOB8zq4gwaVkAyf_p...</td>\n",
       "      <td>0</td>\n",
       "      <td>2</td>\n",
       "      <td>5162.305</td>\n",
       "      <td>1682.161</td>\n",
       "      <td>236</td>\n",
       "      <td>3</td>\n",
       "      <td>1255.673</td>\n",
       "      <td>3</td>\n",
       "      <td>12</td>\n",
       "      <td>12.000</td>\n",
       "      <td>0.000</td>\n",
       "      <td>1044.527</td>\n",
       "      <td>24</td>\n",
       "      <td>6.468</td>\n",
       "      <td>292.700</td>\n",
       "      <td>0.671</td>\n",
       "      <td>78</td>\n",
       "      <td>4</td>\n",
       "      <td>0</td>\n",
       "      <td>17</td>\n",
       "      <td>evening</td>\n",
       "      <td>AKM</td>\n",
       "      <td>78.667</td>\n",
       "      <td>3.069</td>\n",
       "      <td>2017-10-20 17:01:07+00:00</td>\n",
       "      <td>0.000</td>\n",
       "      <td>0</td>\n",
       "      <td>0</td>\n",
       "      <td>0</td>\n",
       "      <td>0</td>\n",
       "      <td>0.000</td>\n",
       "      <td>0.000</td>\n",
       "      <td>0</td>\n",
       "      <td>0.000</td>\n",
       "      <td>NaN</td>\n",
       "      <td>584.000</td>\n",
       "      <td>2</td>\n",
       "      <td>0.000</td>\n",
       "      <td>0.000</td>\n",
       "      <td>0.000</td>\n",
       "      <td>0.000</td>\n",
       "      <td>0.000</td>\n",
       "      <td>0.000</td>\n",
       "      <td>0.000</td>\n",
       "      <td>0.000</td>\n",
       "      <td>0.000</td>\n",
       "      <td>0.000</td>\n",
       "      <td>0.000</td>\n",
       "      <td>0.000</td>\n",
       "      <td>0.000</td>\n",
       "      <td>0.000</td>\n",
       "      <td>0.000</td>\n",
       "      <td>0.000</td>\n",
       "      <td>0.000</td>\n",
       "    </tr>\n",
       "    <tr>\n",
       "      <th>3</th>\n",
       "      <td>2017-10-20 08:01:07+00:00</td>\n",
       "      <td>24</td>\n",
       "      <td>2U4GBNA0Yml6KV2X5zKbFWJzGxFNOvOB8zq4gwaVkAyf_p...</td>\n",
       "      <td>0</td>\n",
       "      <td>2</td>\n",
       "      <td>5162.305</td>\n",
       "      <td>1682.161</td>\n",
       "      <td>236</td>\n",
       "      <td>3</td>\n",
       "      <td>1255.673</td>\n",
       "      <td>3</td>\n",
       "      <td>12</td>\n",
       "      <td>12.000</td>\n",
       "      <td>0.000</td>\n",
       "      <td>833.680</td>\n",
       "      <td>24</td>\n",
       "      <td>6.468</td>\n",
       "      <td>292.700</td>\n",
       "      <td>0.671</td>\n",
       "      <td>78</td>\n",
       "      <td>4</td>\n",
       "      <td>0</td>\n",
       "      <td>17</td>\n",
       "      <td>evening</td>\n",
       "      <td>AKM</td>\n",
       "      <td>78.667</td>\n",
       "      <td>3.069</td>\n",
       "      <td>2017-10-20 17:01:07+00:00</td>\n",
       "      <td>0.000</td>\n",
       "      <td>0</td>\n",
       "      <td>0</td>\n",
       "      <td>0</td>\n",
       "      <td>0</td>\n",
       "      <td>0.000</td>\n",
       "      <td>0.000</td>\n",
       "      <td>0</td>\n",
       "      <td>0.000</td>\n",
       "      <td>NaN</td>\n",
       "      <td>584.000</td>\n",
       "      <td>2</td>\n",
       "      <td>0.000</td>\n",
       "      <td>0.000</td>\n",
       "      <td>0.000</td>\n",
       "      <td>0.000</td>\n",
       "      <td>0.000</td>\n",
       "      <td>0.000</td>\n",
       "      <td>0.000</td>\n",
       "      <td>0.000</td>\n",
       "      <td>0.000</td>\n",
       "      <td>0.000</td>\n",
       "      <td>0.000</td>\n",
       "      <td>0.000</td>\n",
       "      <td>0.000</td>\n",
       "      <td>0.000</td>\n",
       "      <td>0.000</td>\n",
       "      <td>0.000</td>\n",
       "      <td>0.000</td>\n",
       "    </tr>\n",
       "    <tr>\n",
       "      <th>4</th>\n",
       "      <td>2017-10-20 08:01:07+00:00</td>\n",
       "      <td>24</td>\n",
       "      <td>2U4GBNA0Yml6KV2X5zKbFWJzGxFNOvOB8zq4gwaVkAyf_p...</td>\n",
       "      <td>0</td>\n",
       "      <td>2</td>\n",
       "      <td>5162.305</td>\n",
       "      <td>1682.161</td>\n",
       "      <td>236</td>\n",
       "      <td>3</td>\n",
       "      <td>1255.673</td>\n",
       "      <td>3</td>\n",
       "      <td>12</td>\n",
       "      <td>12.000</td>\n",
       "      <td>0.000</td>\n",
       "      <td>527.096</td>\n",
       "      <td>24</td>\n",
       "      <td>6.468</td>\n",
       "      <td>292.700</td>\n",
       "      <td>0.671</td>\n",
       "      <td>78</td>\n",
       "      <td>4</td>\n",
       "      <td>0</td>\n",
       "      <td>17</td>\n",
       "      <td>evening</td>\n",
       "      <td>S686</td>\n",
       "      <td>78.667</td>\n",
       "      <td>3.069</td>\n",
       "      <td>2017-10-20 17:01:07+00:00</td>\n",
       "      <td>0.000</td>\n",
       "      <td>0</td>\n",
       "      <td>0</td>\n",
       "      <td>0</td>\n",
       "      <td>0</td>\n",
       "      <td>0.000</td>\n",
       "      <td>0.000</td>\n",
       "      <td>0</td>\n",
       "      <td>0.000</td>\n",
       "      <td>NaN</td>\n",
       "      <td>584.000</td>\n",
       "      <td>2</td>\n",
       "      <td>0.000</td>\n",
       "      <td>0.000</td>\n",
       "      <td>0.000</td>\n",
       "      <td>1.000</td>\n",
       "      <td>0.000</td>\n",
       "      <td>0.000</td>\n",
       "      <td>0.000</td>\n",
       "      <td>0.000</td>\n",
       "      <td>0.000</td>\n",
       "      <td>0.000</td>\n",
       "      <td>0.000</td>\n",
       "      <td>0.000</td>\n",
       "      <td>0.000</td>\n",
       "      <td>0.000</td>\n",
       "      <td>0.000</td>\n",
       "      <td>0.000</td>\n",
       "      <td>0.000</td>\n",
       "    </tr>\n",
       "  </tbody>\n",
       "</table>\n",
       "</div>"
      ],
      "text/plain": [
       "                       date  game_size  \\\n",
       "0 2017-10-20 08:01:07+00:00         24   \n",
       "1 2017-10-20 08:01:07+00:00         24   \n",
       "2 2017-10-20 08:01:07+00:00         24   \n",
       "3 2017-10-20 08:01:07+00:00         24   \n",
       "4 2017-10-20 08:01:07+00:00         24   \n",
       "\n",
       "                                            match_id  player_assists  \\\n",
       "0  2U4GBNA0Yml6KV2X5zKbFWJzGxFNOvOB8zq4gwaVkAyf_p...               0   \n",
       "1  2U4GBNA0Yml6KV2X5zKbFWJzGxFNOvOB8zq4gwaVkAyf_p...               1   \n",
       "2  2U4GBNA0Yml6KV2X5zKbFWJzGxFNOvOB8zq4gwaVkAyf_p...               0   \n",
       "3  2U4GBNA0Yml6KV2X5zKbFWJzGxFNOvOB8zq4gwaVkAyf_p...               0   \n",
       "4  2U4GBNA0Yml6KV2X5zKbFWJzGxFNOvOB8zq4gwaVkAyf_p...               0   \n",
       "\n",
       "   player_dbno  player_dist_ride  player_dist_walk  player_dmg  player_kills  \\\n",
       "0            0             0.000           213.061           0             0   \n",
       "1            0          3255.289          2690.863          75             0   \n",
       "2            2          5162.305          1682.161         236             3   \n",
       "3            2          5162.305          1682.161         236             3   \n",
       "4            2          5162.305          1682.161         236             3   \n",
       "\n",
       "   player_survive_time  team_id  team_placement  killer_placement  outlier  \\\n",
       "0              246.816        3              12               NaN    0.000   \n",
       "1             1282.921        3              12               NaN    0.000   \n",
       "2             1255.673        3              12            12.000    0.000   \n",
       "3             1255.673        3              12            12.000    0.000   \n",
       "4             1255.673        3              12            12.000    0.000   \n",
       "\n",
       "   kill_dist  max_placement  each_game_score  total_score   kda  num_of_match  \\\n",
       "0      0.000             24            1.200        6.524 0.000             2   \n",
       "1      0.000             24            5.531        5.531 1.000             1   \n",
       "2   1044.527             24            6.468      292.700 0.671            78   \n",
       "3    833.680             24            6.468      292.700 0.671            78   \n",
       "4    527.096             24            6.468      292.700 0.671            78   \n",
       "\n",
       "   day_of_week  weekend  date_time time_zone weapon  dmg_per_kills  \\\n",
       "0            4        0         17   evening    NaN            NaN   \n",
       "1            4        0         17   evening    NaN          0.001   \n",
       "2            4        0         17   evening    AKM         78.667   \n",
       "3            4        0         17   evening    AKM         78.667   \n",
       "4            4        0         17   evening   S686         78.667   \n",
       "\n",
       "   ride_ratio                  kor_date  cum_each_game_score  \\\n",
       "0       0.000 2017-10-20 17:01:07+00:00                0.000   \n",
       "1       1.210 2017-10-20 17:01:07+00:00                0.000   \n",
       "2       3.069 2017-10-20 17:01:07+00:00                0.000   \n",
       "3       3.069 2017-10-20 17:01:07+00:00                0.000   \n",
       "4       3.069 2017-10-20 17:01:07+00:00                0.000   \n",
       "\n",
       "   cum_player_kills  cum_player_dmg  cum_player_assists  cum_num  match_level  \\\n",
       "0                 0               0                   0        0        0.000   \n",
       "1                 0               0                   0        0        0.000   \n",
       "2                 0               0                   0        0        0.000   \n",
       "3                 0               0                   0        0        0.000   \n",
       "4                 0               0                   0        0        0.000   \n",
       "\n",
       "   team_level_sum  team_cum_num  match_level_sum  team_level  first_kill_time  \\\n",
       "0           0.000             0            0.000         NaN          584.000   \n",
       "1           0.000             0            0.000         NaN          584.000   \n",
       "2           0.000             0            0.000         NaN          584.000   \n",
       "3           0.000             0            0.000         NaN          584.000   \n",
       "4           0.000             0            0.000         NaN          584.000   \n",
       "\n",
       "   tendency    강북    강남   포친키  야스나야  프리모스크  밀리터리베이스    밀타  밀타파워    노보  리포브카  \\\n",
       "0         2 0.000 0.000 0.000 0.000  0.000    0.000 0.000 0.000 0.000 0.000   \n",
       "1         2 0.000 0.000 0.000 0.000  0.000    0.000 0.000 0.000 0.000 0.000   \n",
       "2         2 0.000 0.000 0.000 0.000  0.000    0.000 0.000 0.000 0.000 0.000   \n",
       "3         2 0.000 0.000 0.000 0.000  0.000    0.000 0.000 0.000 0.000 0.000   \n",
       "4         2 0.000 0.000 0.000 1.000  0.000    0.000 0.000 0.000 0.000 0.000   \n",
       "\n",
       "     로족    자키   서버니   스타버    스쿨  통곡의다리1  통곡의다리2  \n",
       "0 0.000 0.000 0.000 0.000 0.000   0.000   0.000  \n",
       "1 0.000 0.000 0.000 0.000 0.000   0.000   0.000  \n",
       "2 0.000 0.000 0.000 0.000 0.000   0.000   0.000  \n",
       "3 0.000 0.000 0.000 0.000 0.000   0.000   0.000  \n",
       "4 0.000 0.000 0.000 0.000 0.000   0.000   0.000  "
      ]
     },
     "execution_count": 40,
     "metadata": {},
     "output_type": "execute_result"
    }
   ],
   "source": [
    "df.head()"
   ]
  },
  {
   "cell_type": "markdown",
   "id": "303487c5",
   "metadata": {},
   "source": [
    "## csv로 내보내기"
   ]
  },
  {
   "cell_type": "code",
   "execution_count": 41,
   "id": "2d78517b",
   "metadata": {
    "ExecuteTime": {
     "end_time": "2021-08-26T14:49:54.138479Z",
     "start_time": "2021-08-26T14:30:36.410121Z"
    }
   },
   "outputs": [],
   "source": [
    "df.to_csv('top_10.csv', index=False)"
   ]
  },
  {
   "cell_type": "code",
   "execution_count": null,
   "id": "53208d15",
   "metadata": {},
   "outputs": [],
   "source": [
    "df.info()"
   ]
  }
 ],
 "metadata": {
  "kernelspec": {
   "display_name": "Python 3",
   "language": "python",
   "name": "python3"
  },
  "language_info": {
   "codemirror_mode": {
    "name": "ipython",
    "version": 3
   },
   "file_extension": ".py",
   "mimetype": "text/x-python",
   "name": "python",
   "nbconvert_exporter": "python",
   "pygments_lexer": "ipython3",
   "version": "3.8.8"
  },
  "toc": {
   "base_numbering": 1,
   "nav_menu": {},
   "number_sections": true,
   "sideBar": true,
   "skip_h1_title": false,
   "title_cell": "Table of Contents",
   "title_sidebar": "Contents",
   "toc_cell": false,
   "toc_position": {
    "height": "calc(100% - 180px)",
    "left": "10px",
    "top": "150px",
    "width": "300.594px"
   },
   "toc_section_display": true,
   "toc_window_display": true
  }
 },
 "nbformat": 4,
 "nbformat_minor": 5
}
