{
 "cells": [
  {
   "cell_type": "markdown",
   "id": "6b128103",
   "metadata": {},
   "source": [
    "# Data Description"
   ]
  },
  {
   "cell_type": "markdown",
   "id": "1c94a049",
   "metadata": {},
   "source": [
    "## Data Source\n",
    "\n",
    "* PUBG Match Deaths and Statistics, Kaggle \n",
    "    \\- https://www.kaggle.com/skihikingkevin/pubg-match-deaths"
   ]
  },
  {
   "cell_type": "markdown",
   "id": "4d83d42b",
   "metadata": {},
   "source": [
    "## Data Introduction\n",
    "\n",
    "In this Kaggle Dataset, over 720,000 competitive matches from the popular game PlayerUnknown's Battlegrounds. The data was extracted from pubg.op.gg, a game tracker website.\n",
    "\n",
    "\n",
    "### PlayerUnknown's Battlegrounds\n",
    "\n",
    "PUBG is a first/third-person shooter battle royale style game that matches over 90 players on a large island where teams and players fight to the death until one remains. Players are airdropped from an airplane onto the island where they are to scavenge towns and buildings for weapons, ammo, armor and first-aid. Players will then decide to either fight or hide with the ultimate goal of being the last one standing. A bluezone (see below) will appear a few minutes into the game to corral players closer and closer together by dealing damage to anyone that stands within the bluezone and sparing whoever is within the safe zone.\n",
    "\n",
    "\n",
    "### The Dataset\n",
    "\n",
    "This dataset provides two zips: aggregate and deaths.\n",
    "\n",
    "In **deaths**, the files record every death that occurred within the 720k matches. That is, each row documents an event where a player has died in the match.\n",
    "\n",
    "In **aggregate**, each match's meta information and player statistics are summarized (as provided by pubg). It includes various aggregate statistics such as player kills, damage, distance walked, etc as well as metadata on the match itself such as queue size, fpp/tpp, date, etc.\n",
    "The uncompressed data is divided into 5 chunks of approximately 2gb each.\n",
    "\n",
    "### Columns in deaths\n",
    "\n",
    "1. killed_by: Which weapon is killed\n",
    "1. killer_name: Killer game id\n",
    "1. killer_placement: The final ranking of the team where the killer is located\n",
    "1. killer_position_x: X coordinate of the killer when the killing behavior occurs\n",
    "1. killer_position_y: Y coordinate of the killer when the killing behavior occurs\n",
    "1. map: Game Map(Erangel island/ Miramar desert)\n",
    "1. match_id : Event Unique ID\n",
    "1. time: When the kill occurs(How many seconds after the game starts)\n",
    "1. victim_name: The killed game id\n",
    "1. victim_position_x: X coordinate of the person being killed when the killing occurs\n",
    "1. victim_position_y: Y coordinate of the killer at the time of the killing behavior\n",
    "\n",
    "### Columns in aggregate\n",
    "\n",
    "1. date: Start time of the game\n",
    "1. game_size: Site size\n",
    "1. match_id: Event Unique ID\n",
    "1. match_mode: Game Mode(First/ Third Person View)\n",
    "1. party_size: Squad size(1person/ 2people/ 4people)\n",
    "1. player_assists: Rescue teammates\n",
    "1. player_dbno: Number of times the player was knocked down\n",
    "1. player_dist_ride: Driving Distance\n",
    "1. player_dist_walk: Walking distance\n",
    "1. player_dmg: Injury points\n",
    "1. player_kills: kills\n",
    "1. player_name: Player Game id\n",
    "1. player_survive_time: Player survival time\n",
    "1. team_id: The player's team number\n",
    "1. team_placement: The final ranking of the player's team"
   ]
  },
  {
   "cell_type": "markdown",
   "id": "42085fe9",
   "metadata": {},
   "source": [
    "# 라이브러리 및 데이터 로드"
   ]
  },
  {
   "cell_type": "markdown",
   "id": "0b32791b",
   "metadata": {},
   "source": [
    "## 라이브러리"
   ]
  },
  {
   "cell_type": "code",
   "execution_count": 1,
   "id": "9235dc1f",
   "metadata": {
    "ExecuteTime": {
     "end_time": "2021-08-30T06:04:27.669408Z",
     "start_time": "2021-08-30T06:04:26.428982Z"
    }
   },
   "outputs": [],
   "source": [
    "import pandas as pd\n",
    "import numpy as np\n",
    "import matplotlib.pyplot as plt\n",
    "import seaborn as sns\n",
    "import math\n",
    "from tqdm.auto import tqdm\n",
    "tqdm.pandas()\n",
    "import os"
   ]
  },
  {
   "cell_type": "code",
   "execution_count": 2,
   "id": "9f788efa",
   "metadata": {
    "ExecuteTime": {
     "end_time": "2021-08-30T06:04:27.673082Z",
     "start_time": "2021-08-30T06:04:27.671006Z"
    }
   },
   "outputs": [],
   "source": [
    "# MAC 기준\n",
    "# Window font: 'Malgun Gothic'\n",
    "\n",
    "plt.rc('font', family='AppleGothic')\n",
    "plt.rc('axes', unicode_minus=False)"
   ]
  },
  {
   "cell_type": "code",
   "execution_count": 3,
   "id": "ce86b550",
   "metadata": {
    "ExecuteTime": {
     "end_time": "2021-08-30T06:04:27.676948Z",
     "start_time": "2021-08-30T06:04:27.674831Z"
    }
   },
   "outputs": [],
   "source": [
    "pd.set_option('display.float_format', lambda x: '%.3f' % x)"
   ]
  },
  {
   "cell_type": "markdown",
   "id": "26877902",
   "metadata": {},
   "source": [
    "## 데이터"
   ]
  },
  {
   "cell_type": "code",
   "execution_count": null,
   "id": "3bf2aff3",
   "metadata": {
    "ExecuteTime": {
     "end_time": "2021-08-15T15:25:28.476946Z",
     "start_time": "2021-08-15T15:25:28.475022Z"
    }
   },
   "outputs": [],
   "source": [
    "data_dir = '../dataset/raw/'"
   ]
  },
  {
   "cell_type": "code",
   "execution_count": null,
   "id": "42e9e512",
   "metadata": {
    "ExecuteTime": {
     "end_time": "2021-08-26T09:18:32.699720Z",
     "start_time": "2021-08-26T09:18:32.696789Z"
    }
   },
   "outputs": [],
   "source": [
    "def data_load(data_dir, name_list, df_list):\n",
    "    df_list = []\n",
    "    for i in tqdm(name_list):\n",
    "        df_list.append(pd.read_csv(data_dir + i))\n",
    "    return df_list"
   ]
  },
  {
   "cell_type": "code",
   "execution_count": null,
   "id": "9f22dbe9",
   "metadata": {
    "ExecuteTime": {
     "end_time": "2021-08-15T15:27:28.355759Z",
     "start_time": "2021-08-15T15:25:28.483311Z"
    }
   },
   "outputs": [],
   "source": [
    "agg_data_dir = '../dataset/raw/aggregate/'\n",
    "agg_name_list = sorted(os.listdir(agg_data_dir))\n",
    "agg_list = []\n",
    "agg_list = data_load(agg_data_dir, agg_name_list, agg_list)"
   ]
  },
  {
   "cell_type": "code",
   "execution_count": null,
   "id": "7fe5f620",
   "metadata": {
    "ExecuteTime": {
     "end_time": "2021-08-15T15:29:24.067706Z",
     "start_time": "2021-08-15T15:27:28.358045Z"
    }
   },
   "outputs": [],
   "source": [
    "deaths_data_dir = '../dataset/raw/deaths/'\n",
    "deaths_name_list = sorted(os.listdir(deaths_data_dir))\n",
    "deaths_list = []\n",
    "deaths_list = data_load(deaths_data_dir, deaths_name_list, deaths_list)"
   ]
  },
  {
   "cell_type": "code",
   "execution_count": null,
   "id": "f884de68",
   "metadata": {
    "ExecuteTime": {
     "end_time": "2021-08-26T09:18:35.232437Z",
     "start_time": "2021-08-26T09:18:35.229881Z"
    }
   },
   "outputs": [],
   "source": [
    "def get_shape(df_list):\n",
    "    for i in df_list:\n",
    "        print(i.shape)"
   ]
  },
  {
   "cell_type": "code",
   "execution_count": null,
   "id": "e431d934",
   "metadata": {
    "ExecuteTime": {
     "end_time": "2021-08-15T15:29:24.075596Z",
     "start_time": "2021-08-15T15:29:24.072936Z"
    }
   },
   "outputs": [],
   "source": [
    "get_shape(agg_list)"
   ]
  },
  {
   "cell_type": "code",
   "execution_count": null,
   "id": "b0cf1ec6",
   "metadata": {
    "ExecuteTime": {
     "end_time": "2021-08-15T15:29:24.079118Z",
     "start_time": "2021-08-15T15:29:24.077011Z"
    }
   },
   "outputs": [],
   "source": [
    "get_shape(deaths_list)"
   ]
  },
  {
   "cell_type": "markdown",
   "id": "8045f049",
   "metadata": {},
   "source": [
    "# Data preprocessing"
   ]
  },
  {
   "cell_type": "markdown",
   "id": "53d43fc7",
   "metadata": {},
   "source": [
    "## Aggregate의 na 제거"
   ]
  },
  {
   "cell_type": "code",
   "execution_count": null,
   "id": "55ed79ce",
   "metadata": {
    "ExecuteTime": {
     "end_time": "2021-08-15T15:29:24.083364Z",
     "start_time": "2021-08-15T15:29:24.080714Z"
    }
   },
   "outputs": [],
   "source": [
    "def df_drop_na(df_list):\n",
    "    for i in tqdm(range(len(df_list))):\n",
    "        df_list[i] = df_list[i].dropna()"
   ]
  },
  {
   "cell_type": "code",
   "execution_count": null,
   "id": "2a0ebafa",
   "metadata": {
    "ExecuteTime": {
     "end_time": "2021-08-15T15:29:49.119697Z",
     "start_time": "2021-08-15T15:29:24.085050Z"
    }
   },
   "outputs": [],
   "source": [
    "df_drop_na(agg_list)"
   ]
  },
  {
   "cell_type": "markdown",
   "id": "96a491de",
   "metadata": {},
   "source": [
    "## match_mode 제거\n",
    "* 모두 'tpp'만 가짐"
   ]
  },
  {
   "cell_type": "code",
   "execution_count": null,
   "id": "949b0679",
   "metadata": {
    "ExecuteTime": {
     "end_time": "2021-08-15T15:29:49.123481Z",
     "start_time": "2021-08-15T15:29:49.121222Z"
    }
   },
   "outputs": [],
   "source": [
    "def del_col(df_list, col_name):\n",
    "    for i in tqdm(df_list):\n",
    "        del i[col_name]"
   ]
  },
  {
   "cell_type": "code",
   "execution_count": null,
   "id": "527c7be3",
   "metadata": {
    "ExecuteTime": {
     "end_time": "2021-08-15T15:29:50.899947Z",
     "start_time": "2021-08-15T15:29:49.124980Z"
    }
   },
   "outputs": [],
   "source": [
    "del_col(agg_list, 'match_mode')"
   ]
  },
  {
   "cell_type": "markdown",
   "id": "df58c239",
   "metadata": {},
   "source": [
    "## 두 데이터에서 매칭되지 않는 match_id 제거"
   ]
  },
  {
   "cell_type": "code",
   "execution_count": null,
   "id": "e7721b4d",
   "metadata": {
    "ExecuteTime": {
     "end_time": "2021-08-15T15:29:50.903732Z",
     "start_time": "2021-08-15T15:29:50.901423Z"
    }
   },
   "outputs": [],
   "source": [
    "def get_unique_match_id(df_list):\n",
    "    match_id = []\n",
    "    for i in df_list:\n",
    "        match_id += [x for x in i['match_id'].unique()]\n",
    "    return match_id"
   ]
  },
  {
   "cell_type": "code",
   "execution_count": null,
   "id": "640408ab",
   "metadata": {
    "ExecuteTime": {
     "end_time": "2021-08-15T15:29:56.563743Z",
     "start_time": "2021-08-15T15:29:50.905000Z"
    }
   },
   "outputs": [],
   "source": [
    "agg_match_id = get_unique_match_id(agg_list)"
   ]
  },
  {
   "cell_type": "code",
   "execution_count": null,
   "id": "3964f797",
   "metadata": {
    "ExecuteTime": {
     "end_time": "2021-08-15T15:29:56.569107Z",
     "start_time": "2021-08-15T15:29:56.565388Z"
    }
   },
   "outputs": [],
   "source": [
    "len(agg_match_id)"
   ]
  },
  {
   "cell_type": "code",
   "execution_count": null,
   "id": "5a58cf79",
   "metadata": {
    "ExecuteTime": {
     "end_time": "2021-08-15T15:30:02.107386Z",
     "start_time": "2021-08-15T15:29:56.573498Z"
    }
   },
   "outputs": [],
   "source": [
    "deaths_match_id = get_unique_match_id(deaths_list)"
   ]
  },
  {
   "cell_type": "code",
   "execution_count": null,
   "id": "41a64664",
   "metadata": {
    "ExecuteTime": {
     "end_time": "2021-08-15T15:30:02.377715Z",
     "start_time": "2021-08-15T15:30:02.110540Z"
    }
   },
   "outputs": [],
   "source": [
    "agg_mat = set(agg_match_id)\n",
    "deaths_mat = set(deaths_match_id)"
   ]
  },
  {
   "cell_type": "code",
   "execution_count": null,
   "id": "55fed40f",
   "metadata": {
    "ExecuteTime": {
     "end_time": "2021-08-15T15:30:02.528436Z",
     "start_time": "2021-08-15T15:30:02.379498Z"
    }
   },
   "outputs": [],
   "source": [
    "len(agg_mat), len(deaths_mat), len(agg_mat & deaths_mat)"
   ]
  },
  {
   "cell_type": "code",
   "execution_count": null,
   "id": "d5df4e17",
   "metadata": {
    "ExecuteTime": {
     "end_time": "2021-08-15T15:30:02.532584Z",
     "start_time": "2021-08-15T15:30:02.530033Z"
    }
   },
   "outputs": [],
   "source": [
    "get_shape(deaths_list)"
   ]
  },
  {
   "cell_type": "code",
   "execution_count": null,
   "id": "7d3e8690",
   "metadata": {
    "ExecuteTime": {
     "end_time": "2021-08-15T15:30:22.272234Z",
     "start_time": "2021-08-15T15:30:02.534220Z"
    }
   },
   "outputs": [],
   "source": [
    "for i in range(len(deaths_list)):\n",
    "    deaths_list[i] = deaths_list[i][deaths_list[i]['match_id'].isin(agg_match_id)]"
   ]
  },
  {
   "cell_type": "code",
   "execution_count": null,
   "id": "218fcfb5",
   "metadata": {
    "ExecuteTime": {
     "end_time": "2021-08-15T15:30:22.275958Z",
     "start_time": "2021-08-15T15:30:22.273663Z"
    }
   },
   "outputs": [],
   "source": [
    "get_shape(deaths_list)"
   ]
  },
  {
   "cell_type": "markdown",
   "id": "336eef7f",
   "metadata": {},
   "source": [
    "## deaths data na 처리"
   ]
  },
  {
   "cell_type": "markdown",
   "id": "36961487",
   "metadata": {},
   "source": [
    "### map na 처리"
   ]
  },
  {
   "cell_type": "code",
   "execution_count": null,
   "id": "eb9dcc43",
   "metadata": {
    "ExecuteTime": {
     "end_time": "2021-08-15T15:30:22.756358Z",
     "start_time": "2021-08-15T15:30:22.277600Z"
    }
   },
   "outputs": [],
   "source": [
    "deaths_list[0]['map'].unique()"
   ]
  },
  {
   "cell_type": "markdown",
   "id": "729f8b43",
   "metadata": {},
   "source": [
    "* map 결측값 대체 가능 여부 확인"
   ]
  },
  {
   "cell_type": "code",
   "execution_count": null,
   "id": "c389862f",
   "metadata": {
    "ExecuteTime": {
     "end_time": "2021-08-15T15:30:24.636255Z",
     "start_time": "2021-08-15T15:30:22.757982Z"
    }
   },
   "outputs": [],
   "source": [
    "map_na_match_id = []\n",
    "for i in deaths_list:\n",
    "    map_na_match_id += [x for x in i.loc[i['map'].isnull(), 'match_id'].unique()]"
   ]
  },
  {
   "cell_type": "code",
   "execution_count": null,
   "id": "d1f93fac",
   "metadata": {
    "ExecuteTime": {
     "end_time": "2021-08-15T15:30:33.277952Z",
     "start_time": "2021-08-15T15:30:24.637897Z"
    }
   },
   "outputs": [],
   "source": [
    "E_match_id = []\n",
    "for i in deaths_list:\n",
    "    E_match_id += [x for x in i.loc[i['map'] == 'ERANGEL', 'match_id'].unique()]"
   ]
  },
  {
   "cell_type": "code",
   "execution_count": null,
   "id": "3254fb24",
   "metadata": {
    "ExecuteTime": {
     "end_time": "2021-08-15T15:30:37.534586Z",
     "start_time": "2021-08-15T15:30:33.279754Z"
    }
   },
   "outputs": [],
   "source": [
    "M_match_id = []\n",
    "for i in deaths_list:\n",
    "    M_match_id += [x for x in i.loc[i['map'] == 'MIRAMAR', 'match_id'].unique()]"
   ]
  },
  {
   "cell_type": "markdown",
   "id": "49d22d69",
   "metadata": {},
   "source": [
    "* 겹치는 match_id 확인"
   ]
  },
  {
   "cell_type": "code",
   "execution_count": null,
   "id": "b7b4d425",
   "metadata": {
    "ExecuteTime": {
     "end_time": "2021-08-15T15:30:37.603354Z",
     "start_time": "2021-08-15T15:30:37.536002Z"
    }
   },
   "outputs": [],
   "source": [
    "map_na_match_id = set(map_na_match_id)\n",
    "E_match_id = set(E_match_id)\n",
    "M_match_id = set(M_match_id)"
   ]
  },
  {
   "cell_type": "code",
   "execution_count": null,
   "id": "32169321",
   "metadata": {
    "ExecuteTime": {
     "end_time": "2021-08-15T15:30:37.743043Z",
     "start_time": "2021-08-15T15:30:37.604917Z"
    }
   },
   "outputs": [],
   "source": [
    "len(map_na_match_id & E_match_id), len(map_na_match_id & M_match_id), len(E_match_id & M_match_id) "
   ]
  },
  {
   "cell_type": "markdown",
   "id": "6c14c1d3",
   "metadata": {},
   "source": [
    "* 대체 불가능 판단 -> Drop"
   ]
  },
  {
   "cell_type": "code",
   "execution_count": null,
   "id": "e94eb144",
   "metadata": {
    "ExecuteTime": {
     "end_time": "2021-08-15T15:30:37.747137Z",
     "start_time": "2021-08-15T15:30:37.744877Z"
    }
   },
   "outputs": [],
   "source": [
    "get_shape(deaths_list)"
   ]
  },
  {
   "cell_type": "markdown",
   "id": "9a6453f3",
   "metadata": {},
   "source": [
    "### deaths 데이터 na drop"
   ]
  },
  {
   "cell_type": "code",
   "execution_count": null,
   "id": "fdd884c7",
   "metadata": {
    "ExecuteTime": {
     "end_time": "2021-08-15T15:30:55.960785Z",
     "start_time": "2021-08-15T15:30:37.748763Z"
    }
   },
   "outputs": [],
   "source": [
    "df_drop_na(deaths_list)"
   ]
  },
  {
   "cell_type": "code",
   "execution_count": null,
   "id": "a4ded4ed",
   "metadata": {
    "ExecuteTime": {
     "end_time": "2021-08-15T15:30:55.964593Z",
     "start_time": "2021-08-15T15:30:55.962393Z"
    }
   },
   "outputs": [],
   "source": [
    "get_shape(deaths_list)"
   ]
  },
  {
   "cell_type": "markdown",
   "id": "03424ecd",
   "metadata": {},
   "source": [
    "## Data 병합"
   ]
  },
  {
   "cell_type": "markdown",
   "id": "31ce3765",
   "metadata": {},
   "source": [
    "* key columns\n",
    "    * agg.match_id = deaths.match_id\n",
    "    * agg.player_name = deaths.killer_name"
   ]
  },
  {
   "cell_type": "code",
   "execution_count": null,
   "id": "c55eff5a",
   "metadata": {
    "ExecuteTime": {
     "end_time": "2021-08-15T15:30:55.968410Z",
     "start_time": "2021-08-15T15:30:55.966116Z"
    }
   },
   "outputs": [],
   "source": [
    "# key column의 이름을 맞춰야 함\n",
    "# deaths의 killer_name을 player_name으로 변경\n",
    "\n",
    "def chg_col_names(df_list, col_names):\n",
    "    for i in tqdm(df_list):\n",
    "        i.columns = col_names"
   ]
  },
  {
   "cell_type": "code",
   "execution_count": null,
   "id": "1996d1cf",
   "metadata": {
    "ExecuteTime": {
     "end_time": "2021-08-15T15:30:55.974017Z",
     "start_time": "2021-08-15T15:30:55.969709Z"
    }
   },
   "outputs": [],
   "source": [
    "deaths_list[0].columns"
   ]
  },
  {
   "cell_type": "code",
   "execution_count": null,
   "id": "8845f9f1",
   "metadata": {
    "ExecuteTime": {
     "end_time": "2021-08-15T15:30:55.977634Z",
     "start_time": "2021-08-15T15:30:55.975344Z"
    }
   },
   "outputs": [],
   "source": [
    "deaths_cols = ['killed_by', 'player_name', 'killer_placement', 'killer_position_x',\n",
    "               'killer_position_y', 'map', 'match_id', 'time', 'victim_name',\n",
    "               'victim_placement', 'victim_position_x', 'victim_position_y']"
   ]
  },
  {
   "cell_type": "code",
   "execution_count": null,
   "id": "76cb2ef8",
   "metadata": {
    "ExecuteTime": {
     "end_time": "2021-08-15T15:30:55.999615Z",
     "start_time": "2021-08-15T15:30:55.978853Z"
    }
   },
   "outputs": [],
   "source": [
    "# key column 이름 맞추기\n",
    "\n",
    "chg_col_names(deaths_list, deaths_cols)"
   ]
  },
  {
   "cell_type": "markdown",
   "id": "c5031e68",
   "metadata": {},
   "source": [
    "## Aggregate 데이터와 Deaths 데이터 Merge"
   ]
  },
  {
   "cell_type": "markdown",
   "id": "a4d7b4af",
   "metadata": {},
   "source": [
    "* 같은 번호의 데이터와 짝을 이루는 것을 match_id로 확인함\n",
    "    * e.g. agg_0는 deaths_0과 Merge"
   ]
  },
  {
   "cell_type": "code",
   "execution_count": null,
   "id": "2ede9256",
   "metadata": {
    "ExecuteTime": {
     "end_time": "2021-08-15T15:30:56.003602Z",
     "start_time": "2021-08-15T15:30:56.001123Z"
    }
   },
   "outputs": [],
   "source": [
    "get_shape(agg_list)"
   ]
  },
  {
   "cell_type": "code",
   "execution_count": null,
   "id": "2a80bd51",
   "metadata": {
    "ExecuteTime": {
     "end_time": "2021-08-15T15:30:56.007198Z",
     "start_time": "2021-08-15T15:30:56.004925Z"
    }
   },
   "outputs": [],
   "source": [
    "get_shape(deaths_list)"
   ]
  },
  {
   "cell_type": "code",
   "execution_count": null,
   "id": "1ad8099b",
   "metadata": {
    "ExecuteTime": {
     "end_time": "2021-08-15T15:30:56.451117Z",
     "start_time": "2021-08-15T15:30:56.008615Z"
    }
   },
   "outputs": [],
   "source": [
    "deaths_list[0]['map'].unique()"
   ]
  },
  {
   "cell_type": "code",
   "execution_count": null,
   "id": "4069bb37",
   "metadata": {
    "ExecuteTime": {
     "end_time": "2021-08-15T15:30:56.455112Z",
     "start_time": "2021-08-15T15:30:56.452496Z"
    }
   },
   "outputs": [],
   "source": [
    "def get_merged_df(left, right, join, keys):\n",
    "    df_list = []\n",
    "    for i in tqdm(range(len(left))):\n",
    "        df_list.append(pd.merge(left[i], right[i], how=join, on=keys))\n",
    "    return df_list"
   ]
  },
  {
   "cell_type": "code",
   "execution_count": null,
   "id": "6e534bdb",
   "metadata": {
    "ExecuteTime": {
     "end_time": "2021-08-15T15:34:07.925436Z",
     "start_time": "2021-08-15T15:30:56.456607Z"
    }
   },
   "outputs": [],
   "source": [
    "df_merge = get_merged_df(agg_list, deaths_list, 'left', ['match_id', 'player_name'])"
   ]
  },
  {
   "cell_type": "code",
   "execution_count": null,
   "id": "14e987e3",
   "metadata": {
    "ExecuteTime": {
     "end_time": "2021-08-15T15:34:07.939124Z",
     "start_time": "2021-08-15T15:34:07.929526Z"
    }
   },
   "outputs": [],
   "source": [
    "get_shape(df_merge)"
   ]
  },
  {
   "cell_type": "markdown",
   "id": "3960fd1f",
   "metadata": {},
   "source": [
    "## map 채우기"
   ]
  },
  {
   "cell_type": "code",
   "execution_count": null,
   "id": "dd8cb1ff",
   "metadata": {
    "ExecuteTime": {
     "end_time": "2021-08-15T15:34:07.948871Z",
     "start_time": "2021-08-15T15:34:07.941136Z"
    }
   },
   "outputs": [],
   "source": [
    "def fill_map_na(df_list, match_id_list, map_name):\n",
    "    for i in df_list:\n",
    "        i.loc[(i['match_id'].isin(match_id_list))&(i['map'].isnull()), 'map'] = map_name\n",
    "    return df_list"
   ]
  },
  {
   "cell_type": "code",
   "execution_count": null,
   "id": "637b2a1e",
   "metadata": {
    "ExecuteTime": {
     "end_time": "2021-08-15T15:34:27.503087Z",
     "start_time": "2021-08-15T15:34:07.953166Z"
    }
   },
   "outputs": [],
   "source": [
    "match_id = [E_match_id, M_match_id]\n",
    "map_names = ['ERANGEL', 'MIRAMAR']\n",
    "\n",
    "for i in tqdm(range(len(match_id))):\n",
    "    df_merge = fill_map_na(df_merge, match_id[i], map_names[i])"
   ]
  },
  {
   "cell_type": "markdown",
   "id": "252a3513",
   "metadata": {},
   "source": [
    "## map별로 데이터 나누기"
   ]
  },
  {
   "cell_type": "markdown",
   "id": "a4cae857",
   "metadata": {},
   "source": [
    "* ERANGEL과 MIRAMAR로 데이터 셋을 나눔"
   ]
  },
  {
   "cell_type": "code",
   "execution_count": null,
   "id": "0142cba3",
   "metadata": {
    "ExecuteTime": {
     "end_time": "2021-08-15T15:34:27.507751Z",
     "start_time": "2021-08-15T15:34:27.504565Z"
    }
   },
   "outputs": [],
   "source": [
    "def get_df_map(df_list, map_name):\n",
    "    df_map = []\n",
    "    for i in df_list:\n",
    "        df_map.append(i[i['map'] == map_name])\n",
    "    return df_map"
   ]
  },
  {
   "cell_type": "code",
   "execution_count": null,
   "id": "305b8cfe",
   "metadata": {
    "ExecuteTime": {
     "end_time": "2021-08-15T15:36:49.625500Z",
     "start_time": "2021-08-15T15:34:27.509294Z"
    }
   },
   "outputs": [],
   "source": [
    "df_map  = []\n",
    "for i in tqdm(range(len(map_names))):\n",
    "    df_map.append(get_df_map(df_merge, map_names[i]))"
   ]
  },
  {
   "cell_type": "markdown",
   "id": "fc9265ef",
   "metadata": {},
   "source": [
    "## party_size 별로 데이터 나누기"
   ]
  },
  {
   "cell_type": "markdown",
   "id": "99bc92f0",
   "metadata": {},
   "source": [
    "* party_size에 따라 Tier가 다르기 때문에 데이터를 분리함"
   ]
  },
  {
   "cell_type": "code",
   "execution_count": null,
   "id": "0f890082",
   "metadata": {
    "ExecuteTime": {
     "end_time": "2021-08-15T15:36:49.646247Z",
     "start_time": "2021-08-15T15:36:49.633684Z"
    }
   },
   "outputs": [],
   "source": [
    "def get_df_party_size(df_list, party_size):\n",
    "    df_party_size = []\n",
    "    for i in df_list:\n",
    "        df_party_size.append(i[i['party_size'] == party_size])\n",
    "    return df_party_size"
   ]
  },
  {
   "cell_type": "code",
   "execution_count": null,
   "id": "56e2276d",
   "metadata": {
    "ExecuteTime": {
     "end_time": "2021-08-15T15:38:45.832707Z",
     "start_time": "2021-08-15T15:36:49.650668Z"
    }
   },
   "outputs": [],
   "source": [
    "df = []\n",
    "party_size = [1, 2, 4]\n",
    "\n",
    "for i in tqdm(range(len(party_size))):\n",
    "    for j in range(len(df_map)):\n",
    "        df.append(get_df_party_size(df_map[j], party_size[i]))"
   ]
  },
  {
   "cell_type": "code",
   "execution_count": null,
   "id": "f29c5f58",
   "metadata": {
    "ExecuteTime": {
     "end_time": "2021-08-15T15:38:45.855202Z",
     "start_time": "2021-08-15T15:38:45.840579Z"
    }
   },
   "outputs": [],
   "source": [
    "# df[0]: solo, ERANGEL / df[1]: solo, MIRAMAR\n",
    "# df[2]: duo, ERANGEL / df[3]: duo, MIRAMAR\n",
    "# df[4]: squad, ERANGEL / df[5]: squad, MIRAMAR\n",
    "\n",
    "len(df)"
   ]
  },
  {
   "cell_type": "markdown",
   "id": "1a34054b",
   "metadata": {},
   "source": [
    "## party_size별 map별 dataset 합치기"
   ]
  },
  {
   "cell_type": "code",
   "execution_count": null,
   "id": "4d28edb1",
   "metadata": {
    "ExecuteTime": {
     "end_time": "2021-08-15T15:38:45.868995Z",
     "start_time": "2021-08-15T15:38:45.857652Z"
    }
   },
   "outputs": [],
   "source": [
    "def get_concat(df_list):\n",
    "    df_concat = []\n",
    "    for i in tqdm(range(len(df_list))):\n",
    "        df_concat.append(pd.concat(df_list[i], ignore_index=True))\n",
    "    return df_concat"
   ]
  },
  {
   "cell_type": "code",
   "execution_count": null,
   "id": "72e05cb2",
   "metadata": {
    "ExecuteTime": {
     "end_time": "2021-08-15T15:40:15.480446Z",
     "start_time": "2021-08-15T15:38:45.870948Z"
    }
   },
   "outputs": [],
   "source": [
    "# df_concat[0]: solo, ERANGEL / df_concat[1]: solo, MIRAMAR\n",
    "# df_concat[2]: duo, ERANGEL / df_concat[3]: duo, MIRAMAR\n",
    "# df_concat[4]: squad, ERANGEL / df_concat[5]: squad, MIRAMAR\n",
    "\n",
    "df_concat = get_concat(df)"
   ]
  },
  {
   "cell_type": "markdown",
   "id": "12624780",
   "metadata": {},
   "source": [
    "## killed_by 그룹핑"
   ]
  },
  {
   "cell_type": "code",
   "execution_count": null,
   "id": "68764cd1",
   "metadata": {
    "ExecuteTime": {
     "end_time": "2021-08-15T15:40:15.524653Z",
     "start_time": "2021-08-15T15:40:15.491755Z"
    }
   },
   "outputs": [],
   "source": [
    "def killed_by_refine(df):\n",
    "    df['killed_by'] = df['killed_by'].replace({'death.WeapSawnoff_C': 'sawed_off', \n",
    "                                               'death.PlayerMale_A_C': 'Punch',\n",
    "                                               'death.PG117_A_01_C': 'Boat' , 'death.RedZoneBomb_C': 'RedZone'})\n",
    "    df['killed_by'] = df['killed_by'].replace(['Pickup Truck','Hit by Car','Buggy','Dacia','Motorbike',\n",
    "                                               'Motorbike (SideCar)','Uaz','Van'], 'land_vehicle')\n",
    "    df['killed_by'] = df['killed_by'].replace(['death.ProjMolotov_C', 'death.ProjMolotov_DamageField_C', \n",
    "                                               'death.Buff_FireDOT_C'], 'Molotov')\n",
    "    df['killed_by'] = df['killed_by'].replace(['Aquarail','Boat'], 'water_vehicle')"
   ]
  },
  {
   "cell_type": "code",
   "execution_count": null,
   "id": "86844290",
   "metadata": {
    "ExecuteTime": {
     "end_time": "2021-08-15T15:41:09.752280Z",
     "start_time": "2021-08-15T15:40:15.531486Z"
    }
   },
   "outputs": [],
   "source": [
    "for i in tqdm(df_concat):\n",
    "    killed_by_refine(i)"
   ]
  },
  {
   "cell_type": "markdown",
   "id": "f4438ef3",
   "metadata": {},
   "source": [
    "## csv로 내보내기"
   ]
  },
  {
   "cell_type": "code",
   "execution_count": null,
   "id": "16d4cb94",
   "metadata": {
    "ExecuteTime": {
     "end_time": "2021-08-15T15:41:09.820331Z",
     "start_time": "2021-08-15T15:41:09.814362Z"
    }
   },
   "outputs": [],
   "source": [
    "def df_read_csv(df_list, data_dir, file_name):\n",
    "    for i in tqdm(range(len(df_list))):\n",
    "        df_list[i].to_csv(data_dir + f'{file_name[i]}.csv', index=False)"
   ]
  },
  {
   "cell_type": "markdown",
   "id": "25b3fec5",
   "metadata": {},
   "source": [
    "# Bug player 처리"
   ]
  },
  {
   "cell_type": "code",
   "execution_count": null,
   "id": "a3dcb2f6",
   "metadata": {
    "ExecuteTime": {
     "end_time": "2021-08-28T10:01:38.942714Z",
     "start_time": "2021-08-28T09:59:55.949973Z"
    }
   },
   "outputs": [],
   "source": [
    "data_dir = '../dataset/preprocessing/'\n",
    "\n",
    "df = pd.read_csv(data_dir + 'squad_E.csv')"
   ]
  },
  {
   "cell_type": "code",
   "execution_count": null,
   "id": "815e2edf",
   "metadata": {
    "ExecuteTime": {
     "end_time": "2021-08-28T10:01:51.299434Z",
     "start_time": "2021-08-28T10:01:38.944562Z"
    }
   },
   "outputs": [],
   "source": [
    "df_raw = df.copy()"
   ]
  },
  {
   "cell_type": "code",
   "execution_count": null,
   "id": "5c5e181d",
   "metadata": {
    "ExecuteTime": {
     "end_time": "2021-08-28T10:01:51.307304Z",
     "start_time": "2021-08-28T10:01:51.301517Z"
    }
   },
   "outputs": [],
   "source": [
    "class CheckingBugPlayer:\n",
    "    \n",
    "    '''\n",
    "    Bug Player 처리를 위한 Class 입니다.\n",
    "    아래의 기준 중 하나라도 만족하는 player는 Bug player로 지정합니다.\n",
    "    \n",
    "    dist_ride : 30000(30km) 초과\n",
    "    dist_walk : 10000(10km) 초과\n",
    "    kills :     30 kill 초과\n",
    "    dmg :       3000 damage 초과\n",
    "    kill_dist : 40000(400m) 초과\n",
    "    dbno :      11 초과\n",
    "    survive_time : 1900 초과\n",
    "    \n",
    "    '''\n",
    "    \n",
    "        \n",
    "    def player_dist_ride(self, df):\n",
    "        df.loc[df['player_dist_ride'] > 30000, 'outlier'] = 1\n",
    "        return df\n",
    "    \n",
    "    def player_dist_walk(self, df):\n",
    "        df.loc[df['player_dist_walk'] > 10000, 'outlier'] = 1\n",
    "        return df\n",
    "        \n",
    "    def player_kills(self, df):\n",
    "        df.loc[df['player_kills'] > 30, 'outlier'] = 1\n",
    "        return df\n",
    "    \n",
    "    def player_dmg(self, df):\n",
    "        df.loc[df['player_dmg'] > 3000, 'outlier'] = 1 \n",
    "        return df\n",
    "        \n",
    "    def kill_dist(self, df):\n",
    "        df['kill_dist'] = np.sqrt(((df['killer_position_x'] - df['victim_position_x']) ** 2) \n",
    "                                      + ((df['killer_position_y'] - df['victim_position_y']) ** 2))\n",
    "        df['kill_dist'] = df['kill_dist'].fillna(0)\n",
    "        df.loc[df['kill_dist'] > 40000, 'outlier'] = 1\n",
    "        return df    \n",
    "    \n",
    "    def player_dbno(self, df):\n",
    "        df.loc[df['player_dbno'] > 11, 'outlier'] = 1\n",
    "        return df\n",
    "    \n",
    "    def player_survive_time(self, df):\n",
    "        df.loc[df['player_survive_time'] > 1900, 'outlier'] = 1\n",
    "        return df\n"
   ]
  },
  {
   "cell_type": "markdown",
   "id": "3c8795b9",
   "metadata": {},
   "source": [
    "## Bug player 처리"
   ]
  },
  {
   "cell_type": "code",
   "execution_count": null,
   "id": "e3788da5",
   "metadata": {
    "ExecuteTime": {
     "end_time": "2021-08-28T10:01:54.380381Z",
     "start_time": "2021-08-28T10:01:51.309107Z"
    }
   },
   "outputs": [],
   "source": [
    "checker = CheckingBugPlayer()\n",
    "\n",
    "df = checker.player_dist_ride(df)\n",
    "df = checker.player_dist_walk(df)\n",
    "df = checker.player_kills(df)\n",
    "df = checker.player_dmg(df)\n",
    "df = checker.kill_dist(df)\n",
    "df = checker.player_dbno(df)\n",
    "df = checker.player_survive_time(df)\n",
    "\n",
    "df['outlier'] = df['outlier'].fillna(0)"
   ]
  },
  {
   "cell_type": "code",
   "execution_count": null,
   "id": "93257508",
   "metadata": {
    "ExecuteTime": {
     "end_time": "2021-08-28T10:01:54.640571Z",
     "start_time": "2021-08-28T10:01:54.381832Z"
    }
   },
   "outputs": [],
   "source": [
    "df['outlier'].value_counts()"
   ]
  },
  {
   "cell_type": "markdown",
   "id": "7e38703f",
   "metadata": {},
   "source": [
    "## 분석 Dataset 확인"
   ]
  },
  {
   "cell_type": "code",
   "execution_count": null,
   "id": "58694015",
   "metadata": {
    "ExecuteTime": {
     "end_time": "2021-08-28T10:02:20.099110Z",
     "start_time": "2021-08-28T10:01:54.642085Z"
    }
   },
   "outputs": [],
   "source": [
    "df.describe()"
   ]
  },
  {
   "cell_type": "code",
   "execution_count": null,
   "id": "d956cb80",
   "metadata": {
    "ExecuteTime": {
     "end_time": "2021-08-28T10:02:24.750973Z",
     "start_time": "2021-08-28T10:02:20.100618Z"
    }
   },
   "outputs": [],
   "source": [
    "df_outlier = df.copy()"
   ]
  },
  {
   "cell_type": "markdown",
   "id": "0165f594",
   "metadata": {},
   "source": [
    "# 파생변수 생성 1"
   ]
  },
  {
   "cell_type": "code",
   "execution_count": null,
   "id": "24139908",
   "metadata": {
    "ExecuteTime": {
     "end_time": "2021-08-28T10:02:24.763146Z",
     "start_time": "2021-08-28T10:02:24.753650Z"
    }
   },
   "outputs": [],
   "source": [
    "class DerivingVariables:\n",
    "    \n",
    "    '''\n",
    "    파생변수를 만드는 Class 입니다.\n",
    "    아래의 방법으로 파생변수를 생성하였습니다.\n",
    "    \n",
    "    date         : dtype을 datetime 으로 변환\n",
    "    score        : (rank_point * 1) + (kill * 2) + (assist * 2)\n",
    "    tier         : score column을 바탕으로 구함. squad의 +0.6은 위치를 맞추기 위한 수평이동\n",
    "    KDA          : kill, assist, death를 이용해 파생변수 생성 \n",
    "                   death는 match 합계에서 team_placement가 1등인 횟수를 제외하여 계산\n",
    "    num_of_match : player별 총 게임 횟수를 계산\n",
    "    \n",
    "    '''\n",
    "    \n",
    "    def date(self, df):\n",
    "        df.loc[:, 'date'] = pd.to_datetime(df['date'])\n",
    "        return df\n",
    "    \n",
    "    def score(self, df):\n",
    "        max_team_placement = df.groupby(['date', 'match_id'])['team_placement'].max().reset_index()\n",
    "        max_team_placement.columns = ['date', 'match_id', 'max_placement']\n",
    "        df = pd.merge(df, max_team_placement, how='left', on=['date', 'match_id'])\n",
    "        \n",
    "        df['each_game_score'] = (df['max_placement'] - df['team_placement'])*0.1 + np.log(df['player_dmg'] + 1) + df['player_dbno']*(-0.1)\n",
    "        \n",
    "        # score의 sum \n",
    "        each_score = df.groupby(['player_name', 'date', 'match_id'])['each_game_score'].mean().to_frame()\n",
    "        total_score = each_score.groupby('player_name')['each_game_score'].sum().to_frame()\n",
    "        total_score.columns = ['total_score']\n",
    "        df['total_score'] = total_score.loc[df['player_name'], 'total_score'].values\n",
    "        \n",
    "        return df\n",
    "    \n",
    "    def kda_num_of_match(self, df):\n",
    "        # 필요한 column 만 추출\n",
    "        anal_col = df[['player_name', 'match_id','team_placement', 'player_kills', 'player_assists']]\n",
    "\n",
    "        # num_of_match\n",
    "        num_of_match = anal_col.groupby('player_name')['match_id'].nunique().reset_index()\n",
    "        num_of_match.columns = ['player_name', 'num_of_match']\n",
    "\n",
    "        # num_of_1st\n",
    "        num_of_1st = anal_col[anal_col['team_placement'] == 1].groupby('player_name')['match_id'].nunique().reset_index()\n",
    "        num_of_1st.columns = ['player_name', 'num_of_1st']\n",
    "\n",
    "        # death \n",
    "        temp = num_of_match.merge(num_of_1st, how = 'left', on = 'player_name')\n",
    "        temp = temp.fillna(0)\n",
    "        temp.loc[:, 'deaths_sum'] = temp['num_of_match'] - temp['num_of_1st']\n",
    "        death = temp[['player_name', 'deaths_sum']]\n",
    "\n",
    "        # kill & assist\n",
    "        KA_count = anal_col.groupby(['player_name', 'match_id'])[['player_kills', 'player_assists']].mean().reset_index()\n",
    "        KA_sum = KA_count.groupby('player_name')[['player_kills', 'player_assists']].sum().reset_index()\n",
    "        KA_sum.columns = ['player_name', 'kills_sum', 'assists_sum']\n",
    "\n",
    "        # KDA\n",
    "        KDA = KA_sum.merge(death, how = 'left', on = 'player_name')\n",
    "        KDA.loc[:, 'kda'] = (KDA['kills_sum'] + KDA['assists_sum']) / KDA['deaths_sum']\n",
    "        KDA_1 = KDA[['player_name', 'kda']]\n",
    "\n",
    "\n",
    "        ## 여기 한번에 표현 할 수 있는가\n",
    "        df = df.merge(KDA_1, how='left', on='player_name')\n",
    "        df = df.merge(num_of_match, how='left', on='player_name' )\n",
    "\n",
    "        return df"
   ]
  },
  {
   "cell_type": "markdown",
   "id": "d1f2e3a6",
   "metadata": {},
   "source": [
    "## 파생변수1 생성"
   ]
  },
  {
   "cell_type": "code",
   "execution_count": null,
   "id": "5ce02fb4",
   "metadata": {
    "ExecuteTime": {
     "end_time": "2021-08-28T10:04:26.080589Z",
     "start_time": "2021-08-28T10:04:25.361525Z"
    }
   },
   "outputs": [],
   "source": [
    "variables = DerivingVariables()\n",
    "\n",
    "df = variables.date(df)"
   ]
  },
  {
   "cell_type": "code",
   "execution_count": null,
   "id": "595a404f",
   "metadata": {
    "ExecuteTime": {
     "end_time": "2021-08-28T10:06:24.918294Z",
     "start_time": "2021-08-28T10:04:26.845016Z"
    }
   },
   "outputs": [],
   "source": [
    "df = variables.score(df)"
   ]
  },
  {
   "cell_type": "code",
   "execution_count": null,
   "id": "6e580629",
   "metadata": {
    "ExecuteTime": {
     "end_time": "2021-08-28T10:10:39.778153Z",
     "start_time": "2021-08-28T10:06:31.225359Z"
    }
   },
   "outputs": [],
   "source": [
    "df = variables.kda_num_of_match(df)"
   ]
  },
  {
   "cell_type": "code",
   "execution_count": null,
   "id": "b1a256dc",
   "metadata": {
    "ExecuteTime": {
     "end_time": "2021-08-28T10:11:15.384876Z",
     "start_time": "2021-08-28T10:11:09.129486Z"
    }
   },
   "outputs": [],
   "source": [
    "df_var1 = df.copy()"
   ]
  },
  {
   "cell_type": "markdown",
   "id": "4b07ef51",
   "metadata": {},
   "source": [
    "# 파생변수 생성 2"
   ]
  },
  {
   "cell_type": "code",
   "execution_count": null,
   "id": "bfb61cff",
   "metadata": {
    "ExecuteTime": {
     "end_time": "2021-08-28T12:33:43.678443Z",
     "start_time": "2021-08-28T12:33:43.638664Z"
    }
   },
   "outputs": [],
   "source": [
    "class DerivingVariables2:\n",
    "    \"\"\"\n",
    "    \n",
    "    \n",
    "    \"\"\"\n",
    "    \n",
    "    def date_vars(self, df):\n",
    "        df['kor_date'] = df['date'] + datetime.timedelta(hours=9)\n",
    "        df['day_of_week'] = df['kor_date'].dt.weekday\n",
    "        df['weekend'] = [1 if x >= 6 else 0 for x in df['day_of_week'] ]\n",
    "        df['date_time'] = df['kor_date'].dt.hour\n",
    "\n",
    "        def get_time_zone(time):\n",
    "            if time <= 4 :\n",
    "                return 'peak time'\n",
    "            elif time <= 10 :\n",
    "                return 'morning'\n",
    "            elif time <= 16 :\n",
    "                return 'afternoon'\n",
    "            elif time <= 22 :\n",
    "                return 'evening'\n",
    "            else:\n",
    "                return 'peak time'\n",
    "\n",
    "        df['time_zone'] = df['date_time'].apply(lambda x: get_time_zone(x))\n",
    "\n",
    "        return df\n",
    "\n",
    "    def weapon_category(self, df):\n",
    "\n",
    "        accident = ['water_vehicle', 'land_vehicle', 'Falling', 'Drown', 'RedZone', 'Bluezone']\n",
    "        short = ['P18C', 'R1895', 'P92', 'P1911', 'S686', 'S1897', 'S12K', 'Sickle', 'Machete', 'Pan', 'Punch', \n",
    "                 'Crowbar', 'Crossbow']\n",
    "        middle = ['UMP9', 'Micro UZI', 'Tommy Gun', 'Vector', 'AUG', 'Groza', 'M249', 'DP-28']\n",
    "        long = ['SKS', 'Mini 14', 'VSS', 'Mk14', 'Kar98k', 'M24', 'AWM']\n",
    "        throwables = ['Molotov', 'Grenade']\n",
    "\n",
    "\n",
    "        def get_weapon(weapon):\n",
    "            if weapon in accident :\n",
    "                return 'accident'\n",
    "            elif weapon in short:\n",
    "                return 'short_range'\n",
    "            elif weapon in middle:\n",
    "                return 'middle_range'\n",
    "            elif weapon in long:\n",
    "                return 'long_range'\n",
    "            elif weapon in throwables:\n",
    "                return 'throwables'\n",
    "            else:\n",
    "                return weapon\n",
    "        \n",
    "        df['weapon'] = df['killed_by'].apply(lambda x: get_weapon(x))\n",
    "        \n",
    "        return df\n",
    "\n",
    "    def dmg_per_kills(self, df):\n",
    "        df['dmg_per_kills'] = df['player_dmg'] / df['player_kills']\n",
    "        df.loc[(df['player_dmg'] == 0) & (df['player_kills'] != 0), 'dmg_per_kills'] = 0\n",
    "        idx = df[df['dmg_per_kills'] == np.inf].index\n",
    "        df.loc[idx, 'dmg_per_kills'] = df.loc[idx, 'player_dmg'] / 100000\n",
    "        return df\n",
    "    \n",
    "    def ride_ratio(self, df):\n",
    "        df['ride_ratio'] = df['player_dist_ride'] / df['player_dist_walk']\n",
    "        df.loc[(df['player_dist_ride'] > 0) & (df['player_dist_walk'] == 0), 'ride_ratio'] = 10000\n",
    "        return df\n",
    "\n",
    "    def cumulative_sum(self, df):\n",
    "        df_cum_grp = df.groupby(['date', 'match_id', 'player_name'])[['each_game_score', 'player_kills', \n",
    "                                                                          'player_dmg', 'player_assists',\n",
    "                                                                          'dmg_per_kills', \n",
    "                                                                          'ride_ratio']].mean().reset_index()\n",
    "        df_cum_grp['num'] = 1\n",
    "\n",
    "        df_cum_sum = df_cum_grp.groupby('player_name').cumsum()\n",
    "\n",
    "        df_cum_last = df_cum_sum.copy()\n",
    "        for col in range(df_cum_sum.shape[1]):\n",
    "            df_cum_last.iloc[:, col] = df_cum_sum.iloc[:, col] - df_cum_grp.iloc[:, col + 3]\n",
    "        df_cum_last.columns = ['cum_each_game_score', 'cum_player_kills', 'cum_player_dmg', 'cum_player_assists', \n",
    "                               'dmg_kills', 'ride_walk', 'cum_num']\n",
    "\n",
    "        df_cum = pd.concat([df_cum_grp, df_cum_last], axis=1)\n",
    "        df_cum_m = df_cum[['date', 'match_id', 'player_name', 'cum_each_game_score', 'cum_player_kills', \n",
    "                           'cum_player_dmg', 'cum_player_assists', 'cum_num']]\n",
    "\n",
    "        df = pd.merge(df, df_cum_m, how='left', on=['date', 'match_id', 'player_name'])\n",
    "\n",
    "        return df\n",
    "\n",
    "    def match_level(self, df):\n",
    "        match_player_level = df.groupby(['date', 'match_id', 'player_name'])['cum_each_game_score'].mean().reset_index()\n",
    "\n",
    "        match_level = match_player_level.groupby(['date', 'match_id'])['cum_each_game_score'].mean().reset_index()\n",
    "        match_level.columns = ['date', 'match_id', 'match_level']\n",
    "\n",
    "        df = pd.merge(df, match_level, how='left', on=['date', 'match_id'])\n",
    "\n",
    "        return df\n",
    "\n",
    "    def team_level(self, df):\n",
    "        team_player_level = df.groupby(['date', 'match_id', 'team_id', 'player_name'])['cum_each_game_score'].mean().reset_index()\n",
    "\n",
    "        match_level = df.groupby(['date', 'match_id'])['cum_each_game_score'].sum().reset_index()\n",
    "        match_level.columns = ['date', 'match_id', 'match_level_sum']\n",
    "\n",
    "        team_level_sum = df.groupby(['date', 'match_id', 'team_id'])[['cum_each_game_score', 'cum_num']].sum().reset_index()\n",
    "        team_level_sum.columns = ['date', 'match_id', 'team_id', 'team_level_sum', 'team_cum_num']\n",
    "\n",
    "        team_level = pd.merge(team_level_sum, match_level, how='left', on=['date', 'match_id'])\n",
    "        team_level['team_level'] = team_level['team_level_sum'] / team_level['match_level_sum']\n",
    "\n",
    "        df = pd.merge(df, team_level, how='left', on=['date', 'match_id', 'team_id'])\n",
    "\n",
    "        return df\n",
    "\n",
    "    def first_kill_time(self, df):\n",
    "        first_kill_time = df.groupby(['date', 'match_id', 'team_id'])[['time']].min().reset_index()\n",
    "        first_kill_time.columns = ['date', 'match_id', 'team_id', 'first_kill_time']\n",
    "        df = pd.merge(df, first_kill_time, how='left', on=['date', 'match_id', 'team_id'])\n",
    "\n",
    "\n",
    "        def get_team_tendency(first_kill_time):\n",
    "            if first_kill_time <= 125:\n",
    "                return 6\n",
    "            elif first_kill_time <= 250:\n",
    "                return 5\n",
    "            elif first_kill_time <= 375:\n",
    "                return 4\n",
    "            elif first_kill_time <= 500:\n",
    "                return 3\n",
    "            elif first_kill_time <= 625:\n",
    "                return 2\n",
    "            elif first_kill_time <= 750:\n",
    "                return 1\n",
    "            else:\n",
    "                return 0\n",
    "\n",
    "        df['tendency'] = df['first_kill_time'].apply(lambda x: get_team_tendency(x))\n",
    "\n",
    "        return df\n",
    "\n",
    "    def kill_position(self, df):\n",
    "\n",
    "        # 강북\n",
    "        df.loc[((df['killer_position_x'] > 120000) & (df['killer_position_x'] < 240000)) \n",
    "           & ((df['killer_position_y'] > 550000) & (df['killer_position_y'] < 600000)), '강북'] = 1\n",
    "        df['강북'] = df['강북'].fillna(0)\n",
    "\n",
    "        # 강남\n",
    "        df.loc[(df['killer_position_x'] > 100000) & (df['killer_position_x'] < 220000)\n",
    "               & (df['killer_position_y'] > 480000) & (df['killer_position_y'] < 540000), '강남'] = 1\n",
    "        df['강남'] = df['강남'].fillna(0)\n",
    "\n",
    "        # 포친키\n",
    "        df.loc[((df['killer_position_x'] > 330000) & (df['killer_position_x'] < 380000))\n",
    "               & ((df['killer_position_y'] > 380000) & (df['killer_position_y'] < 420000)), '포친키'] = 1\n",
    "        df['포친키'] = df['포친키'].fillna(0)\n",
    "\n",
    "        # 야스나야\n",
    "        df.loc[((df['killer_position_x'] > 500000) & (df['killer_position_x'] < 570000))\n",
    "               & ((df['killer_position_y'] > 540000) & (df['killer_position_y'] < 600000)), '야스나야'] = 1\n",
    "        df['야스나야'] = df['야스나야'].fillna(0)\n",
    "\n",
    "        # 프리모스크\n",
    "        df.loc[((df['killer_position_x'] > 140000) & (df['killer_position_x'] < 180000))\n",
    "               & ((df['killer_position_y'] > 170000) & (df['killer_position_y'] < 220000)), '프리모스크'] = 1\n",
    "        df['프리모스크'] = df['프리모스크'].fillna(0)\n",
    "\n",
    "        # 밀리터리베이스\n",
    "        df.loc[((df['killer_position_x'] > 520000) & (df['killer_position_x'] < 580000))\n",
    "               &((df['killer_position_y'] > 160000) & (df['killer_position_y'] < 195000)), '밀리터리베이스'] = 1\n",
    "        df['밀리터리베이스'] = df['밀리터리베이스'].fillna(0)\n",
    "\n",
    "        # 밀타\n",
    "        df.loc[((df['killer_position_x'] > 560000) & (df['killer_position_x'] < 610000))\n",
    "               & ((df['killer_position_y'] > 310000) & (df['killer_position_y'] < 350000)), '밀타'] = 1\n",
    "        df['밀타'] = df['밀타'].fillna(0)\n",
    "\n",
    "        # 밀타파워\n",
    "        df.loc[((df['killer_position_x'] > 700000) & (df['killer_position_x'] < 730000))\n",
    "               & ((df['killer_position_y'] > 350000) & (df['killer_position_y'] < 400000)), '밀타파워'] = 1\n",
    "        df['밀타파워'] = df['밀타파워'].fillna(0)\n",
    "\n",
    "        # 노보(무역항)\n",
    "        df.loc[((df['killer_position_x'] > 580000) & (df['killer_position_x'] < 630000))\n",
    "               & ((df['killer_position_y'] > 180000) & (df['killer_position_y'] < 230000)), '노보'] = 1\n",
    "        df['노보'] = df['노보'].fillna(0)\n",
    "\n",
    "        # 리포브카\n",
    "        df.loc[((df['killer_position_x'] > 680000) & (df['killer_position_x'] < 710000))\n",
    "               & ((df['killer_position_y'] > 450000) & (df['killer_position_y'] < 490000)), '리포브카'] = 1\n",
    "        df['리포브카'] = df['리포브카'].fillna(0)\n",
    "\n",
    "        # 로족\n",
    "        df.loc[((df['killer_position_x'] > 380000) & (df['killer_position_x'] < 420000))\n",
    "               & ((df['killer_position_y'] > 500000) & (df['killer_position_y'] < 530000)), '로족'] = 1\n",
    "        df['로족'] = df['로족'].fillna(0)\n",
    "\n",
    "        # 자키\n",
    "        df.loc[((df['killer_position_x'] > 100000) & (df['killer_position_x'] < 140000))\n",
    "               & ((df['killer_position_y'] > 650000) & (df['killer_position_y'] < 690000)), '자키'] = 1\n",
    "        df['자키'] = df['자키'].fillna(0)\n",
    "\n",
    "        # 서버니\n",
    "        df.loc[((df['killer_position_x'] > 360000) & (df['killer_position_x'] < 390000))\n",
    "               & ((df['killer_position_y'] > 660000) & (df['killer_position_y'] < 690000)), '서버니'] = 1\n",
    "        df['서버니'] = df['서버니'].fillna(0)\n",
    "\n",
    "        # 스타버\n",
    "        df.loc[((df['killer_position_x'] > 550000) & (df['killer_position_x'] < 580000))\n",
    "               & ((df['killer_position_y'] > 660000) & (df['killer_position_y'] < 680000)), '스타버'] = 1\n",
    "        df['스타버'] = df['스타버'].fillna(0)\n",
    "\n",
    "        # 스쿨\n",
    "        df.loc[((df['killer_position_x'] > 410000) & (df['killer_position_x'] < 440000))\n",
    "               & ((df['killer_position_y'] > 460000) & (df['killer_position_y'] < 490000)), '스쿨'] = 1\n",
    "        df['스쿨'] = df['스쿨'].fillna(0)\n",
    "\n",
    "        # 통곡의다리1\n",
    "        df.loc[((df['killer_position_x'] > 320000) & (df['killer_position_x'] < 370000))\n",
    "               & ((df['killer_position_y'] > 210000) & (df['killer_position_y'] < 290000)), '통곡의다리1'] = 1\n",
    "        df['통곡의다리1'] = df['통곡의다리1'].fillna(0)\n",
    "\n",
    "        # 통곡의다리2\n",
    "        df.loc[((df['killer_position_x'] > 530000) & (df['killer_position_x'] < 560000))\n",
    "               & ((df['killer_position_y'] > 200000) & (df['killer_position_y'] < 310000)), '통곡의다리2'] = 1\n",
    "        df['통곡의다리2'] = df['통곡의다리2'].fillna(0)\n",
    "\n",
    "        return df"
   ]
  },
  {
   "cell_type": "markdown",
   "id": "eab30383",
   "metadata": {},
   "source": [
    "## 파생변수2 생성"
   ]
  },
  {
   "cell_type": "code",
   "execution_count": null,
   "id": "f8ba16e0",
   "metadata": {
    "ExecuteTime": {
     "end_time": "2021-08-28T12:33:46.886213Z",
     "start_time": "2021-08-28T12:33:46.880834Z"
    }
   },
   "outputs": [],
   "source": [
    "import datetime"
   ]
  },
  {
   "cell_type": "code",
   "execution_count": null,
   "id": "5647dfe0",
   "metadata": {
    "ExecuteTime": {
     "end_time": "2021-08-28T12:34:44.544342Z",
     "start_time": "2021-08-28T12:33:47.569374Z"
    }
   },
   "outputs": [],
   "source": [
    "df = df.sort_values(['date', 'match_id'])"
   ]
  },
  {
   "cell_type": "code",
   "execution_count": null,
   "id": "8184df32",
   "metadata": {
    "ExecuteTime": {
     "end_time": "2021-08-28T12:35:27.338031Z",
     "start_time": "2021-08-28T12:34:44.546197Z"
    }
   },
   "outputs": [],
   "source": [
    "var = DerivingVariables2()\n",
    "\n",
    "df = var.date_vars(df)\n",
    "df = var.weapon_category(df)"
   ]
  },
  {
   "cell_type": "code",
   "execution_count": null,
   "id": "bf57d2ae",
   "metadata": {
    "ExecuteTime": {
     "end_time": "2021-08-28T12:36:13.525477Z",
     "start_time": "2021-08-28T12:35:27.340891Z"
    }
   },
   "outputs": [],
   "source": [
    "df = var.dmg_per_kills(df)\n",
    "df = var.ride_ratio(df)"
   ]
  },
  {
   "cell_type": "code",
   "execution_count": null,
   "id": "e437e161",
   "metadata": {
    "ExecuteTime": {
     "end_time": "2021-08-28T12:41:13.794319Z",
     "start_time": "2021-08-28T12:36:13.529303Z"
    }
   },
   "outputs": [],
   "source": [
    "df = var.cumulative_sum(df)\n",
    "df = var.match_level(df)"
   ]
  },
  {
   "cell_type": "code",
   "execution_count": null,
   "id": "4a2772e2",
   "metadata": {
    "ExecuteTime": {
     "end_time": "2021-08-28T12:47:57.876469Z",
     "start_time": "2021-08-28T12:41:13.801312Z"
    }
   },
   "outputs": [],
   "source": [
    "df = var.team_level(df)\n",
    "df = var.first_kill_time(df)\n",
    "df = var.kill_position(df)"
   ]
  },
  {
   "cell_type": "code",
   "execution_count": null,
   "id": "0dc5fdbb",
   "metadata": {
    "ExecuteTime": {
     "end_time": "2021-08-28T12:48:13.842115Z",
     "start_time": "2021-08-28T12:47:57.882878Z"
    }
   },
   "outputs": [],
   "source": [
    "df.loc[df['weapon'] == 'Down and Out', 'Down_and_Out'] = 1\n",
    "df.loc[df['weapon'] == 'M416', 'M416'] = 1\n",
    "df.loc[df['weapon'] == 'M16A4', 'M16A4'] = 1\n",
    "df.loc[df['weapon'] == 'SCAR-L', 'SCAR-L'] = 1\n",
    "df.loc[df['weapon'] == 'AKM', 'AKM'] = 1\n",
    "df.loc[df['weapon'] == 'short_range', 'short_range'] = 1\n",
    "df.loc[df['weapon'] == 'middle_range', 'middle_range'] = 1\n",
    "df.loc[df['weapon'] == 'long_range', 'long_range'] = 1\n",
    "df.loc[df['weapon'] == 'accident', 'accident'] = 1\n",
    "df.loc[df['weapon'] == 'throwables', 'throwables'] = 1"
   ]
  },
  {
   "cell_type": "code",
   "execution_count": null,
   "id": "75a6bee7",
   "metadata": {
    "ExecuteTime": {
     "end_time": "2021-08-28T12:49:34.277169Z",
     "start_time": "2021-08-28T12:48:13.844544Z"
    }
   },
   "outputs": [],
   "source": [
    "df[['Down_and_Out', 'M416', 'M16A4', 'SCAR-L', 'AKM', 'short_range', 'middle_range', 'long_range', 'accident', \n",
    "    'throwables']] = df[['Down_and_Out', 'M416', 'M16A4', 'SCAR-L', 'AKM', 'short_range', 'middle_range', \n",
    "                         'long_range', 'accident', 'throwables']].fillna(0)"
   ]
  },
  {
   "cell_type": "code",
   "execution_count": null,
   "id": "c3023177",
   "metadata": {
    "ExecuteTime": {
     "end_time": "2021-08-29T04:44:20.287013Z",
     "start_time": "2021-08-29T04:44:20.283608Z"
    }
   },
   "outputs": [],
   "source": [
    "pd.set_option('display.max_columns', None)"
   ]
  },
  {
   "cell_type": "code",
   "execution_count": null,
   "id": "f571d8a8",
   "metadata": {
    "ExecuteTime": {
     "end_time": "2021-08-28T12:49:34.358343Z",
     "start_time": "2021-08-28T12:49:34.297217Z"
    }
   },
   "outputs": [],
   "source": [
    "df.head()"
   ]
  },
  {
   "cell_type": "code",
   "execution_count": null,
   "id": "4d149cec",
   "metadata": {
    "ExecuteTime": {
     "end_time": "2021-08-28T12:50:21.856595Z",
     "start_time": "2021-08-28T12:49:34.361503Z"
    }
   },
   "outputs": [],
   "source": [
    "df_var2 = df.copy()"
   ]
  },
  {
   "cell_type": "markdown",
   "id": "5af1b7d1",
   "metadata": {},
   "source": [
    "# Column 정리"
   ]
  },
  {
   "cell_type": "code",
   "execution_count": null,
   "id": "f07460aa",
   "metadata": {
    "ExecuteTime": {
     "end_time": "2021-08-28T12:50:52.771355Z",
     "start_time": "2021-08-28T12:50:52.752045Z"
    }
   },
   "outputs": [],
   "source": [
    "df.columns"
   ]
  },
  {
   "cell_type": "code",
   "execution_count": null,
   "id": "af583527",
   "metadata": {
    "ExecuteTime": {
     "end_time": "2021-08-28T12:50:54.709750Z",
     "start_time": "2021-08-28T12:50:54.702588Z"
    }
   },
   "outputs": [],
   "source": [
    "del_cols = ['date', 'game_size', 'max_placement', 'party_size', 'killed_by', 'killer_placement', \n",
    "            'killer_position_x', 'killer_position_y', 'map', 'time', 'victim_name', 'victim_placement', \n",
    "            'victim_position_x', 'victim_position_y', 'weapon']"
   ]
  },
  {
   "cell_type": "code",
   "execution_count": null,
   "id": "e8e59511",
   "metadata": {
    "ExecuteTime": {
     "end_time": "2021-08-28T12:53:15.546494Z",
     "start_time": "2021-08-28T12:50:54.777797Z"
    }
   },
   "outputs": [],
   "source": [
    "for col in del_cols:\n",
    "    del df[col]"
   ]
  },
  {
   "cell_type": "code",
   "execution_count": null,
   "id": "7c795c62",
   "metadata": {
    "ExecuteTime": {
     "end_time": "2021-08-28T12:53:59.013457Z",
     "start_time": "2021-08-28T12:53:58.961707Z"
    }
   },
   "outputs": [],
   "source": [
    "df.head()"
   ]
  },
  {
   "cell_type": "code",
   "execution_count": null,
   "id": "6249649f",
   "metadata": {
    "ExecuteTime": {
     "end_time": "2021-08-28T12:54:37.686373Z",
     "start_time": "2021-08-28T12:54:14.670818Z"
    }
   },
   "outputs": [],
   "source": [
    "df_top10 = df.copy()"
   ]
  },
  {
   "cell_type": "markdown",
   "id": "303487c5",
   "metadata": {},
   "source": [
    "## csv로 내보내기"
   ]
  },
  {
   "cell_type": "code",
   "execution_count": null,
   "id": "2d78517b",
   "metadata": {
    "ExecuteTime": {
     "end_time": "2021-08-28T13:12:55.434071Z",
     "start_time": "2021-08-28T12:54:47.284533Z"
    }
   },
   "outputs": [],
   "source": [
    "df.to_csv('../dataset/top_10_2.csv', index=False)"
   ]
  },
  {
   "cell_type": "code",
   "execution_count": null,
   "id": "53208d15",
   "metadata": {},
   "outputs": [],
   "source": [
    "# df.info()"
   ]
  },
  {
   "cell_type": "markdown",
   "id": "9ce88c52",
   "metadata": {},
   "source": [
    "# Feature 결정"
   ]
  },
  {
   "cell_type": "code",
   "execution_count": null,
   "id": "1682836d",
   "metadata": {
    "ExecuteTime": {
     "end_time": "2021-08-29T13:20:59.085956Z",
     "start_time": "2021-08-29T13:16:30.541523Z"
    }
   },
   "outputs": [],
   "source": [
    "df = pd.read_csv('../dataset/top_10_2.csv')"
   ]
  },
  {
   "cell_type": "code",
   "execution_count": null,
   "id": "4d8653fe",
   "metadata": {
    "ExecuteTime": {
     "end_time": "2021-08-29T13:20:59.119885Z",
     "start_time": "2021-08-29T13:20:59.101573Z"
    }
   },
   "outputs": [],
   "source": [
    "def top10(placement):\n",
    "    if placement < 4:\n",
    "        return 1\n",
    "    else:\n",
    "        return 0"
   ]
  },
  {
   "cell_type": "code",
   "execution_count": null,
   "id": "f5f37462",
   "metadata": {
    "ExecuteTime": {
     "end_time": "2021-08-29T13:21:10.932313Z",
     "start_time": "2021-08-29T13:20:59.123761Z"
    }
   },
   "outputs": [],
   "source": [
    "df['top10'] = df['team_placement'].apply(lambda x: top10(x))"
   ]
  },
  {
   "cell_type": "code",
   "execution_count": null,
   "id": "006b5e06",
   "metadata": {
    "ExecuteTime": {
     "end_time": "2021-08-29T13:21:21.618796Z",
     "start_time": "2021-08-29T13:21:10.934304Z"
    }
   },
   "outputs": [],
   "source": [
    "df.groupby(['kor_date', 'match_id', 'team_id'])['top10'].mean().value_counts().plot.bar()"
   ]
  },
  {
   "cell_type": "code",
   "execution_count": null,
   "id": "15f34114",
   "metadata": {
    "ExecuteTime": {
     "end_time": "2021-08-29T13:21:31.563084Z",
     "start_time": "2021-08-29T13:21:21.620483Z"
    }
   },
   "outputs": [],
   "source": [
    "df.groupby(['kor_date', 'match_id', 'team_id'])['top10'].mean().value_counts()"
   ]
  },
  {
   "cell_type": "code",
   "execution_count": null,
   "id": "cade3a55",
   "metadata": {
    "ExecuteTime": {
     "end_time": "2021-08-29T13:21:31.568045Z",
     "start_time": "2021-08-29T13:21:31.564667Z"
    }
   },
   "outputs": [],
   "source": [
    "801154/6365210"
   ]
  },
  {
   "cell_type": "markdown",
   "id": "1e10f851",
   "metadata": {},
   "source": [
    "## Column 분류하기\n",
    "\n",
    "**1. placement**\n",
    "* team_placement\n",
    "* top10\n",
    "\n",
    "**2. kill/damage/assist**\n",
    "* player_assists\n",
    "* player_dbno\n",
    "* player_dmg\n",
    "* player_kills\n",
    "* kda\n",
    "* dmg_per_kills\n",
    "* each_game_score\n",
    "* total_score\n",
    "* cum_each_game_score\n",
    "* cum_player_kills\n",
    "* cum_player_dmg\n",
    "* cum_player_assists\n",
    "* match_level\n",
    "* match_level_sum\n",
    "* team_level\n",
    "* team_level_sum\n",
    "\n",
    "**3. bug player**\n",
    "* outlier\n",
    "\n",
    "**4. play_count**\n",
    "* num_of_match\n",
    "* cum_num\n",
    "* team_cum_num\n",
    "\n",
    "**5. distance**\n",
    "* player_dist_ride\n",
    "* player_dist_walk\n",
    "* ride_ratio\n",
    "\n",
    "**6. position**\n",
    "* kill_dist\n",
    "* 강북\n",
    "* 강남\n",
    "* 포친키\n",
    "* 야스나야\n",
    "* 프리모스크\n",
    "* 밀리터리베이스\n",
    "* 밀타\n",
    "* 밀타파워\n",
    "* 노보\n",
    "* 리포브카\n",
    "* 로족\n",
    "* 자키\n",
    "* 서버니\n",
    "* 스타버\n",
    "* 스쿨\n",
    "* 통곡의다리1\n",
    "* 통곡의다리2\n",
    "\n",
    "**7. time**\n",
    "* player_survive_time\n",
    "* first_kill_time\n",
    "* tendency\n",
    "\n",
    "**8. weapon**\n",
    "* Down_and_Out\n",
    "* M416\n",
    "* M16A4\n",
    "* SCAR-L\n",
    "* AKM\n",
    "* short_range\n",
    "* middle_range\n",
    "* long_range\n",
    "* accident\n",
    "* throwables\n",
    "\n",
    "**9. date**\n",
    "* kor_date\n",
    "* day_of_week\n",
    "* weekend\n",
    "* date_time\n",
    "* time_zone\n",
    "\n",
    "**10. game info**\n",
    "* match_id\n",
    "* team_id\n",
    "* player_name"
   ]
  },
  {
   "cell_type": "markdown",
   "id": "3e1f1045",
   "metadata": {},
   "source": [
    "## 추가 변수 생성"
   ]
  },
  {
   "cell_type": "markdown",
   "id": "0c3fccef",
   "metadata": {},
   "source": [
    "* 누적 합\n",
    "    - outlier였던 횟수\n",
    "    - position_cols 횟수\n",
    "    - weapon_cols 횟수\n",
    "    - first_kill_time\n",
    "    - each_game_score\n",
    "    - player_dist_ride\n",
    "    - player_dist_walk"
   ]
  },
  {
   "cell_type": "code",
   "execution_count": null,
   "id": "ac5dd3a7",
   "metadata": {
    "ExecuteTime": {
     "end_time": "2021-08-29T13:21:31.572360Z",
     "start_time": "2021-08-29T13:21:31.569598Z"
    }
   },
   "outputs": [],
   "source": [
    "cum_sum = ['outlier', '강북', '강남', '포친키', '야스나야', '프리모스크', '밀리터리베이스', '밀타', '밀타파워', '노보', '리포브카',\n",
    "           '로족', '자키', '서버니', '스타버', '스쿨', '통곡의다리1', '통곡의다리2', 'Down_and_Out', 'M416', 'M16A4', \n",
    "           'SCAR-L', 'AKM', 'short_range', 'middle_range', 'long_range', 'accident', 'throwables']\n",
    "cum_mean = ['first_kill_time', 'tendency','player_dist_ride', 'player_dist_walk', 'kill_dist', \n",
    "            'ride_ratio', 'dmg_per_kills']"
   ]
  },
  {
   "cell_type": "markdown",
   "id": "c31fb48b",
   "metadata": {},
   "source": [
    "### 누적 합"
   ]
  },
  {
   "cell_type": "code",
   "execution_count": null,
   "id": "b88e5e4d",
   "metadata": {
    "ExecuteTime": {
     "end_time": "2021-08-29T11:17:42.283648Z",
     "start_time": "2021-08-29T11:15:49.521Z"
    }
   },
   "outputs": [],
   "source": [
    "df = df.sort_values(['kor_date', 'match_id'])\n",
    "\n",
    "df_cum_grp = df.groupby(['kor_date', 'match_id', 'player_name'])[cum_sum].mean().reset_index()\n",
    "\n",
    "df_cum_sum = df_cum_grp.groupby('player_name')[cum_sum].cumsum()\n",
    "\n",
    "df_cum_last = df_cum_sum.copy()\n",
    "for col in range(df_cum_sum.shape[1]):\n",
    "    df_cum_last.iloc[:, col] = df_cum_sum.iloc[:, col] - df_cum_grp.iloc[:, col + 3]\n",
    "df_cum_last.columns = list(map(lambda x: 'cum_' + x, cum_sum))\n",
    "\n",
    "df_cum = pd.concat([df_cum_grp, df_cum_last], axis=1)"
   ]
  },
  {
   "cell_type": "code",
   "execution_count": null,
   "id": "32c8b320",
   "metadata": {
    "ExecuteTime": {
     "end_time": "2021-08-29T11:17:42.284492Z",
     "start_time": "2021-08-29T11:15:49.983Z"
    }
   },
   "outputs": [],
   "source": [
    "df_cum_m = df_cum[['kor_date', 'match_id', 'player_name'] + list(map(lambda x: 'cum_' + x, cum_sum))]"
   ]
  },
  {
   "cell_type": "code",
   "execution_count": null,
   "id": "4d7c2358",
   "metadata": {
    "ExecuteTime": {
     "end_time": "2021-08-29T11:17:42.285428Z",
     "start_time": "2021-08-29T11:15:50.523Z"
    }
   },
   "outputs": [],
   "source": [
    "df = pd.merge(df, df_cum_m, how='left', on=['kor_date', 'match_id', 'player_name'])"
   ]
  },
  {
   "cell_type": "markdown",
   "id": "f9d7295d",
   "metadata": {},
   "source": [
    "### 누적 평균"
   ]
  },
  {
   "cell_type": "code",
   "execution_count": null,
   "id": "80b3470a",
   "metadata": {
    "ExecuteTime": {
     "end_time": "2021-08-29T11:17:42.286313Z",
     "start_time": "2021-08-29T11:15:53.447Z"
    }
   },
   "outputs": [],
   "source": [
    "df = df.sort_values(['kor_date', 'match_id'])\n",
    "\n",
    "df_cum_grp = df.groupby(['kor_date', 'match_id', 'player_name'])[cum_mean].mean().reset_index()\n",
    "\n",
    "df_cum_sum = df_cum_grp.groupby('player_name')[cum_mean].cumsum()\n",
    "\n",
    "df_cum_last = df_cum_sum.copy()\n",
    "for col in range(df_cum_sum.shape[1]):\n",
    "    df_cum_last.iloc[:, col] = df_cum_sum.iloc[:, col] - df_cum_grp.iloc[:, col + 3]\n",
    "df_cum_last.columns = list(map(lambda x: 'mean_' + x, cum_mean))\n",
    "\n",
    "df_cum = pd.concat([df_cum_grp, df_cum_last], axis=1)"
   ]
  },
  {
   "cell_type": "code",
   "execution_count": null,
   "id": "b8746507",
   "metadata": {
    "ExecuteTime": {
     "end_time": "2021-08-29T11:17:42.287263Z",
     "start_time": "2021-08-29T11:15:54.021Z"
    }
   },
   "outputs": [],
   "source": [
    "df_cum_m = df_cum[['kor_date', 'match_id', 'player_name'] + list(map(lambda x: 'mean_' + x, cum_mean))]"
   ]
  },
  {
   "cell_type": "code",
   "execution_count": null,
   "id": "d5ad5c14",
   "metadata": {
    "ExecuteTime": {
     "end_time": "2021-08-29T11:17:42.288177Z",
     "start_time": "2021-08-29T11:15:54.505Z"
    }
   },
   "outputs": [],
   "source": [
    "df = pd.merge(df, df_cum_m, how='left', on=['kor_date', 'match_id', 'player_name'])"
   ]
  },
  {
   "cell_type": "code",
   "execution_count": null,
   "id": "86361578",
   "metadata": {
    "ExecuteTime": {
     "end_time": "2021-08-29T11:17:42.288988Z",
     "start_time": "2021-08-29T11:15:54.999Z"
    }
   },
   "outputs": [],
   "source": [
    "df['mean_first_kill_time'] = df['mean_first_kill_time']/df['cum_num']\n",
    "df['mean_tendency'] = df['mean_tendency']/df['cum_num']\n",
    "df['mean_player_dist_ride'] = df['mean_player_dist_ride']/df['cum_num']\n",
    "df['mean_player_dist_walk'] = df['mean_player_dist_walk']/df['cum_num']\n",
    "df['mean_dmg_per_kills'] = df['mean_dmg_per_kills']/df['cum_num']\n",
    "df['mean_ride_ratio'] =  df['mean_ride_ratio']/df['cum_num']\n",
    "df['mean_kill_dist'] = df['mean_kill_dist']/df['cum_num']"
   ]
  },
  {
   "cell_type": "markdown",
   "id": "b412af67",
   "metadata": {},
   "source": [
    "## (Cumulative ver) Feature 결정"
   ]
  },
  {
   "cell_type": "code",
   "execution_count": null,
   "id": "bd966813",
   "metadata": {
    "ExecuteTime": {
     "end_time": "2021-08-29T11:17:42.289899Z",
     "start_time": "2021-08-29T11:16:07.780Z"
    }
   },
   "outputs": [],
   "source": [
    "df.columns"
   ]
  },
  {
   "cell_type": "code",
   "execution_count": null,
   "id": "bdbacac2",
   "metadata": {
    "ExecuteTime": {
     "end_time": "2021-08-29T11:17:42.290782Z",
     "start_time": "2021-08-29T11:16:08.253Z"
    }
   },
   "outputs": [],
   "source": [
    "cum_position = ['cum_강북', 'cum_강남', 'cum_포친키', 'cum_야스나야', 'cum_프리모스크', 'cum_밀리터리베이스',\n",
    "                'cum_밀타', 'cum_밀타파워', 'cum_노보', 'cum_리포브카', 'cum_로족', 'cum_자키',\n",
    "                'cum_서버니', 'cum_스타버', 'cum_스쿨', 'cum_통곡의다리1', 'cum_통곡의다리2']\n",
    "cum_weapon = ['cum_Down_and_Out', 'cum_M416', 'cum_M16A4', 'cum_SCAR-L', 'cum_AKM', 'cum_short_range', \n",
    "              'cum_middle_range', 'cum_long_range', 'cum_accident','cum_throwables']\n",
    "level = ['match_level', 'match_level_sum', 'team_level', 'team_level_sum', 'cum_num', 'team_cum_num',\n",
    "         'cum_each_game_score', 'cum_outlier', 'mean_dmg_per_kills']\n",
    "mean = ['mean_kill_dist', 'mean_first_kill_time', 'mean_tendency', 'mean_player_dist_walk', \n",
    "        'mean_player_dist_ride', 'mean_ride_ratio']"
   ]
  },
  {
   "cell_type": "code",
   "execution_count": null,
   "id": "c06c8e25",
   "metadata": {
    "ExecuteTime": {
     "end_time": "2021-08-29T05:48:25.122115Z",
     "start_time": "2021-08-29T05:47:02.752233Z"
    }
   },
   "outputs": [],
   "source": [
    "X_raw = df[['kor_date', 'match_id', 'team_id', 'player_name', 'top10'] + level + mean + cum_weapon + cum_position]"
   ]
  },
  {
   "cell_type": "code",
   "execution_count": null,
   "id": "978f5b84",
   "metadata": {},
   "outputs": [],
   "source": [
    "X = X_raw[['kor_date', 'match_id', 'team_id', 'player_name', 'top10'] \n",
    "          + ['match_level', 'tema_level', 'team_cum_num', 'cum_outlier']\n",
    "          + ['mean_tendency', 'mean_ride_ratio']]"
   ]
  },
  {
   "cell_type": "code",
   "execution_count": null,
   "id": "08e05f7c",
   "metadata": {
    "ExecuteTime": {
     "end_time": "2021-08-29T06:34:08.310915Z",
     "start_time": "2021-08-29T06:34:08.308704Z"
    }
   },
   "outputs": [],
   "source": [
    "pd.set_option('display.max_columns', None)"
   ]
  },
  {
   "cell_type": "code",
   "execution_count": null,
   "id": "f51a5fcc",
   "metadata": {
    "ExecuteTime": {
     "end_time": "2021-08-29T06:35:52.662766Z",
     "start_time": "2021-08-29T06:35:01.151096Z"
    }
   },
   "outputs": [],
   "source": [
    "df_F = df.copy()"
   ]
  },
  {
   "cell_type": "markdown",
   "id": "b2ce280a",
   "metadata": {},
   "source": [
    "## Groupby"
   ]
  },
  {
   "cell_type": "code",
   "execution_count": null,
   "id": "be2309d0",
   "metadata": {
    "ExecuteTime": {
     "end_time": "2021-08-29T13:21:31.578554Z",
     "start_time": "2021-08-29T13:21:31.574875Z"
    }
   },
   "outputs": [],
   "source": [
    "df.columns"
   ]
  },
  {
   "cell_type": "code",
   "execution_count": null,
   "id": "9d77b270",
   "metadata": {
    "ExecuteTime": {
     "end_time": "2021-08-29T13:21:35.100205Z",
     "start_time": "2021-08-29T13:21:31.580073Z"
    }
   },
   "outputs": [],
   "source": [
    "df['hot_place'] = df['강북'] + df['강남'] + df['포친키'] + df['야스나야'] + df['프리모스크'] + df['밀리터리베이스'] + df['밀타'] + df['밀타파워'] + df['노보'] + df['리포브카'] + df['로족'] + df['자키']+ df['서버니'] + df['스타버'] + df['스쿨'] + df['통곡의다리1'] + df['통곡의다리2']"
   ]
  },
  {
   "cell_type": "code",
   "execution_count": null,
   "id": "56f971be",
   "metadata": {
    "ExecuteTime": {
     "end_time": "2021-08-29T14:00:21.827537Z",
     "start_time": "2021-08-29T14:00:21.824167Z"
    }
   },
   "outputs": [],
   "source": [
    "mean_cols = ['top10', 'player_assists', 'player_dbno', 'player_dist_ride', 'player_dist_walk', \n",
    "             'player_dmg', 'player_kills', 'player_survive_time', 'total_score','day_of_week', 'first_kill_time',\n",
    "             'tendency', 'kill_dist', 'weekend', 'date_time', 'dmg_per_kills', 'ride_ratio','cum_each_game_score', \n",
    "             'cum_player_kills', 'cum_player_dmg', 'cum_player_assists', 'cum_num', 'match_level', \n",
    "             'team_level_sum', 'team_cum_num', 'match_level_sum', 'team_level']\n",
    "\n",
    "sum_cols = ['hot_place', 'M416', 'M16A4', 'SCAR-L', 'AKM', 'short_range', 'middle_range', 'long_range', \n",
    "            'accident', 'throwables']\n",
    "\n",
    "mean_sum_cols = ['num_of_match']\n",
    "\n",
    "max_sum_cols = ['outlier']"
   ]
  },
  {
   "cell_type": "code",
   "execution_count": null,
   "id": "f9153107",
   "metadata": {
    "ExecuteTime": {
     "end_time": "2021-08-29T13:22:42.976131Z",
     "start_time": "2021-08-29T13:21:39.671681Z"
    },
    "scrolled": true
   },
   "outputs": [],
   "source": [
    "df[mean_cols + sum_cols].isnull().sum()"
   ]
  },
  {
   "cell_type": "code",
   "execution_count": null,
   "id": "394e1936",
   "metadata": {
    "ExecuteTime": {
     "end_time": "2021-08-29T13:22:44.469707Z",
     "start_time": "2021-08-29T13:22:42.981058Z"
    }
   },
   "outputs": [],
   "source": [
    "df['team_level'] = df['team_level'].fillna(0)\n",
    "df['dmg_per_kills'] = df['dmg_per_kills'].fillna(0)\n",
    "df['ride_ratio'] = df['ride_ratio'].fillna(0)\n",
    "df['first_kill_time'] = df['first_kill_time'].fillna(-1) "
   ]
  },
  {
   "cell_type": "code",
   "execution_count": null,
   "id": "135e1421",
   "metadata": {
    "ExecuteTime": {
     "end_time": "2021-08-29T13:57:45.898563Z",
     "start_time": "2021-08-29T13:57:45.698463Z"
    }
   },
   "outputs": [],
   "source": [
    "df_m_s['outlier'].value_counts()"
   ]
  },
  {
   "cell_type": "code",
   "execution_count": null,
   "id": "704dcf13",
   "metadata": {
    "ExecuteTime": {
     "end_time": "2021-08-29T13:57:28.884577Z",
     "start_time": "2021-08-29T13:57:28.794424Z"
    }
   },
   "outputs": [],
   "source": [
    "df_m_s_t['outlier'].value_counts()"
   ]
  },
  {
   "cell_type": "code",
   "execution_count": null,
   "id": "c8e4bc76",
   "metadata": {
    "ExecuteTime": {
     "end_time": "2021-08-29T14:12:20.008562Z",
     "start_time": "2021-08-29T14:10:09.249769Z"
    }
   },
   "outputs": [],
   "source": [
    "df_mean = df.groupby(['kor_date', 'match_id', 'team_id', 'player_name'])[mean_cols].mean().reset_index()"
   ]
  },
  {
   "cell_type": "code",
   "execution_count": null,
   "id": "36a2618b",
   "metadata": {
    "ExecuteTime": {
     "end_time": "2021-08-29T14:12:53.082859Z",
     "start_time": "2021-08-29T14:12:20.012895Z"
    }
   },
   "outputs": [],
   "source": [
    "df_mean_t = df_mean.groupby(['kor_date', 'match_id', 'team_id'])[mean_cols].mean().reset_index()"
   ]
  },
  {
   "cell_type": "code",
   "execution_count": null,
   "id": "6053c392",
   "metadata": {
    "ExecuteTime": {
     "end_time": "2021-08-29T14:13:54.366548Z",
     "start_time": "2021-08-29T14:12:53.088009Z"
    }
   },
   "outputs": [],
   "source": [
    "df_sum = df.groupby(['kor_date', 'match_id', 'team_id', 'player_name'])[sum_cols].sum().reset_index()"
   ]
  },
  {
   "cell_type": "code",
   "execution_count": null,
   "id": "de1f772c",
   "metadata": {
    "ExecuteTime": {
     "end_time": "2021-08-29T14:14:08.486143Z",
     "start_time": "2021-08-29T14:13:54.369232Z"
    }
   },
   "outputs": [],
   "source": [
    "df_sum_t = df_sum.groupby(['kor_date', 'match_id', 'team_id'])[sum_cols].sum().reset_index()"
   ]
  },
  {
   "cell_type": "code",
   "execution_count": null,
   "id": "eca63615",
   "metadata": {
    "ExecuteTime": {
     "end_time": "2021-08-29T14:14:55.957560Z",
     "start_time": "2021-08-29T14:14:08.488146Z"
    }
   },
   "outputs": [],
   "source": [
    "num_match = df.groupby(['kor_date', 'match_id', 'team_id', 'player_name'])[mean_sum_cols].mean().reset_index()"
   ]
  },
  {
   "cell_type": "code",
   "execution_count": null,
   "id": "0cd9be98",
   "metadata": {
    "ExecuteTime": {
     "end_time": "2021-08-29T14:15:07.069869Z",
     "start_time": "2021-08-29T14:14:55.959241Z"
    }
   },
   "outputs": [],
   "source": [
    "num_match_t = num_match.groupby(['kor_date', 'match_id', 'team_id'])[mean_sum_cols].sum().reset_index()"
   ]
  },
  {
   "cell_type": "code",
   "execution_count": null,
   "id": "5ae11a0d",
   "metadata": {
    "ExecuteTime": {
     "end_time": "2021-08-29T14:15:54.316671Z",
     "start_time": "2021-08-29T14:15:07.071587Z"
    }
   },
   "outputs": [],
   "source": [
    "outlier = df.groupby(['kor_date', 'match_id', 'team_id', 'player_name'])[max_sum_cols].max().reset_index()"
   ]
  },
  {
   "cell_type": "code",
   "execution_count": null,
   "id": "f104e974",
   "metadata": {
    "ExecuteTime": {
     "end_time": "2021-08-29T14:16:05.169845Z",
     "start_time": "2021-08-29T14:15:54.319703Z"
    }
   },
   "outputs": [],
   "source": [
    "outlier_t = outlier.groupby(['kor_date', 'match_id', 'team_id'])[max_sum_cols].sum().reset_index()"
   ]
  },
  {
   "cell_type": "code",
   "execution_count": null,
   "id": "cd7c5a38",
   "metadata": {
    "ExecuteTime": {
     "end_time": "2021-08-29T14:16:19.955898Z",
     "start_time": "2021-08-29T14:16:05.171612Z"
    }
   },
   "outputs": [],
   "source": [
    "df_t = pd.merge(df_mean_t, df_sum_t, how='left', on=['kor_date', 'match_id', 'team_id'])"
   ]
  },
  {
   "cell_type": "code",
   "execution_count": null,
   "id": "5bc4dc38",
   "metadata": {
    "ExecuteTime": {
     "end_time": "2021-08-29T14:16:26.597964Z",
     "start_time": "2021-08-29T14:16:19.957488Z"
    }
   },
   "outputs": [],
   "source": [
    "df_t = pd.merge(df_t, num_match_t, how='left', on=['kor_date', 'match_id', 'team_id'])"
   ]
  },
  {
   "cell_type": "code",
   "execution_count": null,
   "id": "c66ade57",
   "metadata": {
    "ExecuteTime": {
     "end_time": "2021-08-29T14:16:32.014559Z",
     "start_time": "2021-08-29T14:16:26.599519Z"
    }
   },
   "outputs": [],
   "source": [
    "df_t = pd.merge(df_t, outlier_t, how='left', on=['kor_date', 'match_id', 'team_id'])"
   ]
  },
  {
   "cell_type": "code",
   "execution_count": null,
   "id": "568331bc",
   "metadata": {
    "ExecuteTime": {
     "end_time": "2021-08-29T14:16:32.037398Z",
     "start_time": "2021-08-29T14:16:32.016865Z"
    },
    "scrolled": true
   },
   "outputs": [],
   "source": [
    "df_t.info()"
   ]
  },
  {
   "cell_type": "code",
   "execution_count": null,
   "id": "c0f7eebd",
   "metadata": {
    "ExecuteTime": {
     "end_time": "2021-08-29T14:16:40.225270Z",
     "start_time": "2021-08-29T14:16:40.016711Z"
    }
   },
   "outputs": [],
   "source": [
    "outlier['outlier'].value_counts()"
   ]
  },
  {
   "cell_type": "code",
   "execution_count": null,
   "id": "6d3b3fc4",
   "metadata": {
    "ExecuteTime": {
     "end_time": "2021-08-29T14:16:41.552858Z",
     "start_time": "2021-08-29T14:16:41.488683Z"
    }
   },
   "outputs": [],
   "source": [
    "df_t['outlier'].value_counts()"
   ]
  },
  {
   "cell_type": "code",
   "execution_count": null,
   "id": "b3b5cb43",
   "metadata": {
    "ExecuteTime": {
     "end_time": "2021-08-29T14:20:12.366985Z",
     "start_time": "2021-08-29T14:16:48.441831Z"
    }
   },
   "outputs": [],
   "source": [
    "df_t.to_csv('../dataset/team.csv', index=False)"
   ]
  },
  {
   "cell_type": "markdown",
   "id": "f4e4e838",
   "metadata": {},
   "source": [
    "# Modeling(Undersampling)"
   ]
  },
  {
   "cell_type": "code",
   "execution_count": 4,
   "id": "4d83a35d",
   "metadata": {
    "ExecuteTime": {
     "end_time": "2021-08-30T06:04:40.089610Z",
     "start_time": "2021-08-30T06:04:39.807489Z"
    }
   },
   "outputs": [],
   "source": [
    "from sklearn.model_selection import train_test_split\n",
    "from sklearn.ensemble import RandomForestClassifier\n",
    "from sklearn.metrics import confusion_matrix\n",
    "from sklearn.model_selection import cross_val_predict\n",
    "from sklearn.model_selection import cross_val_score\n",
    "from sklearn.metrics import accuracy_score\n",
    "from sklearn.metrics import precision_score\n",
    "from sklearn.metrics import recall_score\n",
    "from sklearn.metrics import f1_score\n",
    "from sklearn.metrics import precision_recall_curve\n",
    "from sklearn.metrics import roc_curve\n",
    "from sklearn.metrics import roc_auc_score"
   ]
  },
  {
   "cell_type": "code",
   "execution_count": 5,
   "id": "75e5c17b",
   "metadata": {
    "ExecuteTime": {
     "end_time": "2021-08-30T06:05:11.601232Z",
     "start_time": "2021-08-30T06:04:40.726305Z"
    }
   },
   "outputs": [],
   "source": [
    "df_t = pd.read_csv('../dataset/team.csv')"
   ]
  },
  {
   "cell_type": "markdown",
   "id": "319f6f59",
   "metadata": {},
   "source": [
    "## Data for Modeling"
   ]
  },
  {
   "cell_type": "code",
   "execution_count": 6,
   "id": "a66aafc8",
   "metadata": {
    "ExecuteTime": {
     "end_time": "2021-08-30T06:08:43.191059Z",
     "start_time": "2021-08-30T06:08:43.188551Z"
    }
   },
   "outputs": [],
   "source": [
    "weapon = ['M416', 'M16A4', 'SCAR-L', 'AKM', 'short_range', 'middle_range', 'long_range', \n",
    "          'accident','throwables']\n",
    "level = ['match_level', 'match_level_sum', 'team_level', 'team_level_sum', 'cum_num', 'team_cum_num',\n",
    "         'each_game_score', 'outlier', 'dmg_per_kills']"
   ]
  },
  {
   "cell_type": "code",
   "execution_count": 7,
   "id": "50af6b4f",
   "metadata": {
    "ExecuteTime": {
     "end_time": "2021-08-30T06:08:44.487487Z",
     "start_time": "2021-08-30T06:08:43.961750Z"
    }
   },
   "outputs": [],
   "source": [
    "X = df_t[['day_of_week', 'date_time'] \n",
    "         + ['match_level', 'team_level', 'team_cum_num', 'outlier', 'dmg_per_kills', 'hot_place']\n",
    "         + ['kill_dist', 'tendency', 'ride_ratio'] \n",
    "         + weapon]"
   ]
  },
  {
   "cell_type": "code",
   "execution_count": 8,
   "id": "171479f9",
   "metadata": {
    "ExecuteTime": {
     "end_time": "2021-08-30T06:08:45.258950Z",
     "start_time": "2021-08-30T06:08:45.256391Z"
    }
   },
   "outputs": [],
   "source": [
    "Y = df_t['top10']"
   ]
  },
  {
   "cell_type": "code",
   "execution_count": 9,
   "id": "9dcc1e03",
   "metadata": {
    "ExecuteTime": {
     "end_time": "2021-08-30T06:08:45.960708Z",
     "start_time": "2021-08-30T06:08:45.907228Z"
    }
   },
   "outputs": [
    {
     "data": {
      "text/plain": [
       "0.000    6365210\n",
       "1.000     801154\n",
       "Name: top10, dtype: int64"
      ]
     },
     "execution_count": 9,
     "metadata": {},
     "output_type": "execute_result"
    }
   ],
   "source": [
    "Y.value_counts()"
   ]
  },
  {
   "cell_type": "markdown",
   "id": "8d40b901",
   "metadata": {},
   "source": [
    "### Undersampling\n",
    "\n",
    "* Data: imbalance(0: 88%, 1: 12%)\n",
    "* 데이터의 크기가 너무 크기 때문에 Undersampling 방법 선택"
   ]
  },
  {
   "cell_type": "code",
   "execution_count": 11,
   "id": "cce7e92b",
   "metadata": {
    "ExecuteTime": {
     "end_time": "2021-08-30T06:09:26.431228Z",
     "start_time": "2021-08-30T06:09:26.091204Z"
    }
   },
   "outputs": [],
   "source": [
    "idx_0 = Y[Y==0].sample(n=801154).index"
   ]
  },
  {
   "cell_type": "code",
   "execution_count": 17,
   "id": "4fd2c6c8",
   "metadata": {
    "ExecuteTime": {
     "end_time": "2021-08-30T06:10:33.799509Z",
     "start_time": "2021-08-30T06:10:33.214623Z"
    }
   },
   "outputs": [],
   "source": [
    "X_new = pd.concat([X.loc[idx_0], X[Y==1]])"
   ]
  },
  {
   "cell_type": "code",
   "execution_count": 19,
   "id": "c5a17350",
   "metadata": {
    "ExecuteTime": {
     "end_time": "2021-08-30T06:10:55.553949Z",
     "start_time": "2021-08-30T06:10:55.444523Z"
    }
   },
   "outputs": [],
   "source": [
    "Y_new = pd.concat([Y.loc[idx_0], Y[Y==1]])"
   ]
  },
  {
   "cell_type": "markdown",
   "id": "21775238",
   "metadata": {},
   "source": [
    "### train/test dataset"
   ]
  },
  {
   "cell_type": "code",
   "execution_count": 20,
   "id": "fb36abd6",
   "metadata": {
    "ExecuteTime": {
     "end_time": "2021-08-30T06:11:01.175978Z",
     "start_time": "2021-08-30T06:11:00.652302Z"
    }
   },
   "outputs": [],
   "source": [
    "train_x, test_x, train_y, test_y = train_test_split(X_new, Y_new, test_size=0.3, random_state=42, stratify=Y_new)"
   ]
  },
  {
   "cell_type": "code",
   "execution_count": null,
   "id": "0119fca7",
   "metadata": {},
   "outputs": [],
   "source": []
  },
  {
   "cell_type": "code",
   "execution_count": 21,
   "id": "adf7a671",
   "metadata": {
    "ExecuteTime": {
     "end_time": "2021-08-30T06:11:02.674264Z",
     "start_time": "2021-08-30T06:11:02.655377Z"
    }
   },
   "outputs": [
    {
     "data": {
      "text/plain": [
       "0.000   0.501\n",
       "1.000   0.499\n",
       "Name: top10, dtype: float64"
      ]
     },
     "execution_count": 21,
     "metadata": {},
     "output_type": "execute_result"
    }
   ],
   "source": [
    "train_y.value_counts(normalize=True)"
   ]
  },
  {
   "cell_type": "markdown",
   "id": "05299fcc",
   "metadata": {},
   "source": [
    "## Model fitting"
   ]
  },
  {
   "cell_type": "code",
   "execution_count": 62,
   "id": "e4307003",
   "metadata": {
    "ExecuteTime": {
     "end_time": "2021-08-30T07:51:28.854341Z",
     "start_time": "2021-08-30T07:51:28.851999Z"
    }
   },
   "outputs": [],
   "source": [
    "forest_clf = RandomForestClassifier(random_state=42, n_estimators=10)"
   ]
  },
  {
   "cell_type": "code",
   "execution_count": 63,
   "id": "8434906a",
   "metadata": {
    "ExecuteTime": {
     "end_time": "2021-08-30T07:52:25.034435Z",
     "start_time": "2021-08-30T07:51:44.100478Z"
    },
    "scrolled": true
   },
   "outputs": [
    {
     "data": {
      "text/plain": [
       "RandomForestClassifier(n_estimators=10, random_state=42)"
      ]
     },
     "execution_count": 63,
     "metadata": {},
     "output_type": "execute_result"
    }
   ],
   "source": [
    "forest_clf.fit(train_x, train_y)"
   ]
  },
  {
   "cell_type": "markdown",
   "id": "162e8951",
   "metadata": {},
   "source": [
    "## Train"
   ]
  },
  {
   "cell_type": "code",
   "execution_count": 64,
   "id": "139492f1",
   "metadata": {
    "ExecuteTime": {
     "end_time": "2021-08-30T07:52:34.051463Z",
     "start_time": "2021-08-30T07:52:29.669093Z"
    }
   },
   "outputs": [],
   "source": [
    "pred_train_y = forest_clf.predict(train_x) "
   ]
  },
  {
   "cell_type": "markdown",
   "id": "8cde88f5",
   "metadata": {},
   "source": [
    "### Confusion matrix"
   ]
  },
  {
   "cell_type": "code",
   "execution_count": 65,
   "id": "c96644a2",
   "metadata": {
    "ExecuteTime": {
     "end_time": "2021-08-30T07:52:34.834652Z",
     "start_time": "2021-08-30T07:52:34.053286Z"
    }
   },
   "outputs": [
    {
     "data": {
      "text/plain": [
       "array([[558685,   2792],\n",
       "       [  8767, 551371]])"
      ]
     },
     "execution_count": 65,
     "metadata": {},
     "output_type": "execute_result"
    }
   ],
   "source": [
    "confusion_matrix(train_y, pred_train_y)"
   ]
  },
  {
   "cell_type": "code",
   "execution_count": 66,
   "id": "4d8a4f95",
   "metadata": {
    "ExecuteTime": {
     "end_time": "2021-08-30T07:52:34.997728Z",
     "start_time": "2021-08-30T07:52:34.836509Z"
    }
   },
   "outputs": [
    {
     "data": {
      "text/plain": [
       "0.989694324701435"
      ]
     },
     "execution_count": 66,
     "metadata": {},
     "output_type": "execute_result"
    }
   ],
   "source": [
    "# Accuracy\n",
    "\n",
    "accuracy_score(train_y, pred_train_y)"
   ]
  },
  {
   "cell_type": "code",
   "execution_count": 67,
   "id": "a3aad97d",
   "metadata": {
    "ExecuteTime": {
     "end_time": "2021-08-30T07:52:43.057888Z",
     "start_time": "2021-08-30T07:52:42.346263Z"
    }
   },
   "outputs": [
    {
     "data": {
      "text/plain": [
       "0.9949617711756288"
      ]
     },
     "execution_count": 67,
     "metadata": {},
     "output_type": "execute_result"
    }
   ],
   "source": [
    "# Precision\n",
    "\n",
    "precision_score(train_y, pred_train_y)"
   ]
  },
  {
   "cell_type": "code",
   "execution_count": 68,
   "id": "fb167bdd",
   "metadata": {
    "ExecuteTime": {
     "end_time": "2021-08-30T07:52:43.779648Z",
     "start_time": "2021-08-30T07:52:43.059689Z"
    }
   },
   "outputs": [
    {
     "data": {
      "text/plain": [
       "0.9843484998339694"
      ]
     },
     "execution_count": 68,
     "metadata": {},
     "output_type": "execute_result"
    }
   ],
   "source": [
    "# Recall\n",
    "\n",
    "recall_score(train_y, pred_train_y)"
   ]
  },
  {
   "cell_type": "code",
   "execution_count": 29,
   "id": "3ef1d330",
   "metadata": {
    "ExecuteTime": {
     "end_time": "2021-08-30T06:26:16.202321Z",
     "start_time": "2021-08-30T06:25:59.317276Z"
    }
   },
   "outputs": [],
   "source": [
    "pred_y = forest_clf.predict(test_x)"
   ]
  },
  {
   "cell_type": "code",
   "execution_count": 30,
   "id": "9af1fab9",
   "metadata": {
    "ExecuteTime": {
     "end_time": "2021-08-30T06:26:16.879270Z",
     "start_time": "2021-08-30T06:26:16.203759Z"
    }
   },
   "outputs": [
    {
     "data": {
      "text/plain": [
       "0.9999857176522676"
      ]
     },
     "execution_count": 30,
     "metadata": {},
     "output_type": "execute_result"
    }
   ],
   "source": [
    "# F1 Score\n",
    "\n",
    "f1_score(train_y, pred_train_y)"
   ]
  },
  {
   "cell_type": "markdown",
   "id": "49686271",
   "metadata": {},
   "source": [
    "### Precision recall curve"
   ]
  },
  {
   "cell_type": "code",
   "execution_count": 31,
   "id": "eecb3789",
   "metadata": {
    "ExecuteTime": {
     "end_time": "2021-08-30T06:26:55.495038Z",
     "start_time": "2021-08-30T06:26:16.882109Z"
    }
   },
   "outputs": [
    {
     "data": {
      "text/plain": [
       "(54, 54, 53)"
      ]
     },
     "execution_count": 31,
     "metadata": {},
     "output_type": "execute_result"
    }
   ],
   "source": [
    "train_y_scores = forest_clf.predict_proba(train_x)[:, 1]\n",
    "precisions, recalls, thresholds = precision_recall_curve(train_y, train_y_scores)\n",
    "len(precisions), len(recalls), len(thresholds)"
   ]
  },
  {
   "cell_type": "code",
   "execution_count": 32,
   "id": "7b10e681",
   "metadata": {
    "ExecuteTime": {
     "end_time": "2021-08-30T06:26:55.619983Z",
     "start_time": "2021-08-30T06:26:55.497414Z"
    }
   },
   "outputs": [
    {
     "data": {
      "text/plain": [
       "<matplotlib.legend.Legend at 0x7f7fbe3f57f0>"
      ]
     },
     "execution_count": 32,
     "metadata": {},
     "output_type": "execute_result"
    },
    {
     "data": {
      "image/png": "[encoded data removed]",
      "text/plain": [
       "<Figure size 720x360 with 1 Axes>"
      ]
     },
     "metadata": {
      "needs_background": "light"
     },
     "output_type": "display_data"
    }
   ],
   "source": [
    "plt.figure(figsize=(10,5))\n",
    "plot1, = plt.plot(thresholds, precisions[:-1], 'b--', label='Precision')\n",
    "plot2, = plt.plot(thresholds, recalls[:-1], 'g-', label='Recall')\n",
    "plt.xlabel(\"thresholds\")\n",
    "plt.legend()"
   ]
  },
  {
   "cell_type": "code",
   "execution_count": 33,
   "id": "b72f47c4",
   "metadata": {
    "ExecuteTime": {
     "end_time": "2021-08-30T06:26:55.704797Z",
     "start_time": "2021-08-30T06:26:55.621342Z"
    }
   },
   "outputs": [
    {
     "data": {
      "text/plain": [
       "Text(0, 0.5, 'Precision')"
      ]
     },
     "execution_count": 33,
     "metadata": {},
     "output_type": "execute_result"
    },
    {
     "data": {
      "image/png": "[encoded data removed]",
      "text/plain": [
       "<Figure size 576x360 with 1 Axes>"
      ]
     },
     "metadata": {
      "needs_background": "light"
     },
     "output_type": "display_data"
    }
   ],
   "source": [
    "plt.figure(figsize=(8, 5))\n",
    "plot1, = plt.plot(recalls, precisions, 'b-')\n",
    "plt.xlabel('Recall')\n",
    "plt.ylabel('Precision')\n",
    "# plt.xlim((0, 1))\n",
    "# plt.ylim((0, 1))"
   ]
  },
  {
   "cell_type": "markdown",
   "id": "c3d7b03d",
   "metadata": {},
   "source": [
    "### ROC curve"
   ]
  },
  {
   "cell_type": "code",
   "execution_count": 34,
   "id": "592d8c25",
   "metadata": {
    "ExecuteTime": {
     "end_time": "2021-08-30T06:26:55.893708Z",
     "start_time": "2021-08-30T06:26:55.706276Z"
    }
   },
   "outputs": [],
   "source": [
    "fpr, tpr, thresholds = roc_curve(train_y, train_y_scores)"
   ]
  },
  {
   "cell_type": "code",
   "execution_count": 37,
   "id": "25e8d996",
   "metadata": {
    "ExecuteTime": {
     "end_time": "2021-08-30T06:27:27.302924Z",
     "start_time": "2021-08-30T06:27:27.208575Z"
    }
   },
   "outputs": [
    {
     "data": {
      "text/plain": [
       "Text(0, 0.5, '진짜 양성 비율(TPR, 재현율)')"
      ]
     },
     "execution_count": 37,
     "metadata": {},
     "output_type": "execute_result"
    },
    {
     "data": {
      "image/png": "[encoded data removed]",
      "text/plain": [
       "<Figure size 576x360 with 1 Axes>"
      ]
     },
     "metadata": {
      "needs_background": "light"
     },
     "output_type": "display_data"
    }
   ],
   "source": [
    "plt.figure(figsize=(8, 5))\n",
    "plt.plot(fpr, tpr, 'b-')\n",
    "plt.plot([0, 1], [0, 1], 'k--')\n",
    "plt.xlabel('거짓 양성 비율(FPR)')\n",
    "plt.ylabel('진짜 양성 비율(TPR, 재현율)')\n",
    "# plt.xlim((0, 1))\n",
    "# plt.ylim((0, 1))"
   ]
  },
  {
   "cell_type": "code",
   "execution_count": 38,
   "id": "526e3b40",
   "metadata": {
    "ExecuteTime": {
     "end_time": "2021-08-30T06:27:36.056245Z",
     "start_time": "2021-08-30T06:27:35.723167Z"
    }
   },
   "outputs": [
    {
     "data": {
      "text/plain": [
       "0.9999999994642368"
      ]
     },
     "execution_count": 38,
     "metadata": {},
     "output_type": "execute_result"
    }
   ],
   "source": [
    "# AUC 계산\n",
    "\n",
    "roc_auc_score(train_y, train_y_scores)"
   ]
  },
  {
   "cell_type": "markdown",
   "id": "15f30c04",
   "metadata": {},
   "source": [
    "## Test"
   ]
  },
  {
   "cell_type": "code",
   "execution_count": 41,
   "id": "bdfc0674",
   "metadata": {
    "ExecuteTime": {
     "end_time": "2021-08-30T06:28:48.650061Z",
     "start_time": "2021-08-30T06:28:31.374659Z"
    }
   },
   "outputs": [],
   "source": [
    "pred_y = forest_clf.predict(test_x) "
   ]
  },
  {
   "cell_type": "markdown",
   "id": "76857ea7",
   "metadata": {},
   "source": [
    "### Confusion matrix"
   ]
  },
  {
   "cell_type": "code",
   "execution_count": 42,
   "id": "de955feb",
   "metadata": {
    "ExecuteTime": {
     "end_time": "2021-08-30T06:28:48.967467Z",
     "start_time": "2021-08-30T06:28:48.651761Z"
    }
   },
   "outputs": [
    {
     "data": {
      "text/plain": [
       "array([[195822,  43855],\n",
       "       [ 36699, 204317]])"
      ]
     },
     "execution_count": 42,
     "metadata": {},
     "output_type": "execute_result"
    }
   ],
   "source": [
    "confusion_matrix(test_y, pred_y)"
   ]
  },
  {
   "cell_type": "code",
   "execution_count": 43,
   "id": "4e9e081f",
   "metadata": {
    "ExecuteTime": {
     "end_time": "2021-08-30T06:28:49.030024Z",
     "start_time": "2021-08-30T06:28:48.969452Z"
    }
   },
   "outputs": [
    {
     "data": {
      "text/plain": [
       "0.8324211086909941"
      ]
     },
     "execution_count": 43,
     "metadata": {},
     "output_type": "execute_result"
    }
   ],
   "source": [
    "# Accuracy\n",
    "\n",
    "accuracy_score(test_y, pred_y)"
   ]
  },
  {
   "cell_type": "code",
   "execution_count": 44,
   "id": "47489762",
   "metadata": {
    "ExecuteTime": {
     "end_time": "2021-08-30T06:28:49.312385Z",
     "start_time": "2021-08-30T06:28:49.031746Z"
    }
   },
   "outputs": [
    {
     "data": {
      "text/plain": [
       "0.8232878809857679"
      ]
     },
     "execution_count": 44,
     "metadata": {},
     "output_type": "execute_result"
    }
   ],
   "source": [
    "# Precision\n",
    "\n",
    "precision_score(test_y, pred_y)"
   ]
  },
  {
   "cell_type": "code",
   "execution_count": 45,
   "id": "c1ec67ed",
   "metadata": {
    "ExecuteTime": {
     "end_time": "2021-08-30T06:28:49.588263Z",
     "start_time": "2021-08-30T06:28:49.313765Z"
    }
   },
   "outputs": [
    {
     "data": {
      "text/plain": [
       "0.8477321007733927"
      ]
     },
     "execution_count": 45,
     "metadata": {},
     "output_type": "execute_result"
    }
   ],
   "source": [
    "# Recall\n",
    "\n",
    "recall_score(test_y, pred_y)"
   ]
  },
  {
   "cell_type": "code",
   "execution_count": 46,
   "id": "66431c41",
   "metadata": {
    "ExecuteTime": {
     "end_time": "2021-08-30T06:28:49.865679Z",
     "start_time": "2021-08-30T06:28:49.589623Z"
    }
   },
   "outputs": [
    {
     "data": {
      "text/plain": [
       "0.8353312019101042"
      ]
     },
     "execution_count": 46,
     "metadata": {},
     "output_type": "execute_result"
    }
   ],
   "source": [
    "# F1 Score\n",
    "\n",
    "f1_score(test_y, pred_y)"
   ]
  },
  {
   "cell_type": "markdown",
   "id": "2e7fc60c",
   "metadata": {},
   "source": [
    "### Precision  recall curve "
   ]
  },
  {
   "cell_type": "code",
   "execution_count": 47,
   "id": "d7c7da25",
   "metadata": {
    "ExecuteTime": {
     "end_time": "2021-08-30T06:29:07.095463Z",
     "start_time": "2021-08-30T06:28:49.867063Z"
    }
   },
   "outputs": [
    {
     "data": {
      "text/plain": [
       "(102, 102, 101)"
      ]
     },
     "execution_count": 47,
     "metadata": {},
     "output_type": "execute_result"
    }
   ],
   "source": [
    "y_scores = forest_clf.predict_proba(test_x)[:, 1]\n",
    "precisions, recalls, thresholds = precision_recall_curve(test_y, y_scores)\n",
    "len(precisions), len(recalls), len(thresholds)"
   ]
  },
  {
   "cell_type": "code",
   "execution_count": 48,
   "id": "429b0f02",
   "metadata": {
    "ExecuteTime": {
     "end_time": "2021-08-30T06:29:07.201109Z",
     "start_time": "2021-08-30T06:29:07.098121Z"
    }
   },
   "outputs": [
    {
     "data": {
      "text/plain": [
       "<matplotlib.legend.Legend at 0x7f7f9a772130>"
      ]
     },
     "execution_count": 48,
     "metadata": {},
     "output_type": "execute_result"
    },
    {
     "data": {
      "image/png": "[encoded data removed]",
      "text/plain": [
       "<Figure size 720x360 with 1 Axes>"
      ]
     },
     "metadata": {
      "needs_background": "light"
     },
     "output_type": "display_data"
    }
   ],
   "source": [
    "plt.figure(figsize=(10,5))\n",
    "plot1, = plt.plot(thresholds, precisions[:-1], 'b--', label='Precision')\n",
    "plot2, = plt.plot(thresholds, recalls[:-1], 'g-', label='Recall')\n",
    "plt.xlabel(\"thresholds\")\n",
    "plt.legend()"
   ]
  },
  {
   "cell_type": "code",
   "execution_count": 49,
   "id": "f2a99775",
   "metadata": {
    "ExecuteTime": {
     "end_time": "2021-08-30T06:29:07.288589Z",
     "start_time": "2021-08-30T06:29:07.202753Z"
    }
   },
   "outputs": [
    {
     "data": {
      "text/plain": [
       "Text(0, 0.5, 'Precision')"
      ]
     },
     "execution_count": 49,
     "metadata": {},
     "output_type": "execute_result"
    },
    {
     "data": {
      "image/png": "[encoded data removed]",
      "text/plain": [
       "<Figure size 576x360 with 1 Axes>"
      ]
     },
     "metadata": {
      "needs_background": "light"
     },
     "output_type": "display_data"
    }
   ],
   "source": [
    "plt.figure(figsize=(8, 5))\n",
    "plot1, = plt.plot(recalls, precisions, 'b-')\n",
    "plt.xlabel('Recall')\n",
    "plt.ylabel('Precision')\n",
    "# plt.xlim((0, 1))\n",
    "# plt.ylim((0, 1))"
   ]
  },
  {
   "cell_type": "markdown",
   "id": "228fa503",
   "metadata": {
    "ExecuteTime": {
     "end_time": "2021-08-29T12:19:30.742495Z",
     "start_time": "2021-08-29T12:19:30.740268Z"
    }
   },
   "source": [
    "### ROC curve"
   ]
  },
  {
   "cell_type": "code",
   "execution_count": 50,
   "id": "18c5ae21",
   "metadata": {
    "ExecuteTime": {
     "end_time": "2021-08-30T06:29:07.363256Z",
     "start_time": "2021-08-30T06:29:07.289968Z"
    }
   },
   "outputs": [],
   "source": [
    "fpr, tpr, thresholds = roc_curve(test_y, y_scores)"
   ]
  },
  {
   "cell_type": "code",
   "execution_count": 51,
   "id": "9c967b6d",
   "metadata": {
    "ExecuteTime": {
     "end_time": "2021-08-30T06:29:07.452038Z",
     "start_time": "2021-08-30T06:29:07.364744Z"
    }
   },
   "outputs": [
    {
     "data": {
      "text/plain": [
       "(0.0, 1.0)"
      ]
     },
     "execution_count": 51,
     "metadata": {},
     "output_type": "execute_result"
    },
    {
     "data": {
      "image/png": "[encoded data removed]",
      "text/plain": [
       "<Figure size 576x360 with 1 Axes>"
      ]
     },
     "metadata": {
      "needs_background": "light"
     },
     "output_type": "display_data"
    }
   ],
   "source": [
    "plt.figure(figsize=(8, 5))\n",
    "plt.plot(fpr, tpr, 'b-')\n",
    "plt.plot([0, 1], [0, 1], 'k--')\n",
    "plt.xlabel('거짓 양성 비율(FPR)')\n",
    "plt.ylabel('진짜 양성 비율(TPR, 재현율)')\n",
    "plt.xlim((0, 1))\n",
    "plt.ylim((0, 1))"
   ]
  },
  {
   "cell_type": "code",
   "execution_count": 52,
   "id": "1aa672c8",
   "metadata": {
    "ExecuteTime": {
     "end_time": "2021-08-30T06:29:07.586269Z",
     "start_time": "2021-08-30T06:29:07.453692Z"
    }
   },
   "outputs": [
    {
     "data": {
      "text/plain": [
       "0.915587168291313"
      ]
     },
     "execution_count": 52,
     "metadata": {},
     "output_type": "execute_result"
    }
   ],
   "source": [
    "# AUC 계산\n",
    "\n",
    "roc_auc_score(test_y, y_scores)"
   ]
  },
  {
   "cell_type": "markdown",
   "id": "6c8600f7",
   "metadata": {},
   "source": [
    "## Feature Importance"
   ]
  },
  {
   "cell_type": "code",
   "execution_count": 58,
   "id": "2bcd019f",
   "metadata": {
    "ExecuteTime": {
     "end_time": "2021-08-30T07:09:21.735026Z",
     "start_time": "2021-08-30T07:09:21.731503Z"
    }
   },
   "outputs": [
    {
     "data": {
      "text/plain": [
       "array([0.02613461, 0.04044347, 0.05837824, 0.05942914, 0.04801594,\n",
       "       0.06102083, 0.11269707, 0.01312569, 0.19445495, 0.04269642,\n",
       "       0.14707102, 0.04026521, 0.01863901, 0.02771675, 0.01412899,\n",
       "       0.01113954, 0.01143666, 0.06035706, 0.00881958, 0.00402983])"
      ]
     },
     "execution_count": 58,
     "metadata": {},
     "output_type": "execute_result"
    }
   ],
   "source": [
    "weight"
   ]
  },
  {
   "cell_type": "code",
   "execution_count": 53,
   "id": "d9f87dd0",
   "metadata": {
    "ExecuteTime": {
     "end_time": "2021-08-30T06:29:19.496684Z",
     "start_time": "2021-08-30T06:29:19.052135Z"
    }
   },
   "outputs": [
    {
     "name": "stdout",
     "output_type": "stream",
     "text": [
      "\n"
     ]
    },
    {
     "data": {
      "image/png": "[encoded data removed]",
      "text/plain": [
       "<Figure size 720x1080 with 1 Axes>"
      ]
     },
     "metadata": {
      "needs_background": "light"
     },
     "output_type": "display_data"
    }
   ],
   "source": [
    "# 이 랜덤 포레스트 모델 생성시 가장 중요하게 영향을 끼친 속성\n",
    "weight = forest_clf.feature_importances_\n",
    "\n",
    "plt.figure(figsize=[10,15])\n",
    "plt.barh(range(X_new.shape[1]), weight)\n",
    "plt.yticks(range(X_new.shape[1]), ['%s(%d)' %(s,i) for i,s in enumerate(X_new.columns)], va='bottom')\n",
    "print('')"
   ]
  },
  {
   "cell_type": "markdown",
   "id": "c1909f2e",
   "metadata": {},
   "source": [
    "## Cross validate"
   ]
  },
  {
   "cell_type": "code",
   "execution_count": 69,
   "id": "8086e812",
   "metadata": {
    "ExecuteTime": {
     "end_time": "2021-08-30T07:54:15.171357Z",
     "start_time": "2021-08-30T07:52:58.716155Z"
    }
   },
   "outputs": [],
   "source": [
    "cv_pred_y = cross_val_predict(forest_clf, train_x, train_y, cv=3)"
   ]
  },
  {
   "cell_type": "code",
   "execution_count": 70,
   "id": "5679d5b4",
   "metadata": {
    "ExecuteTime": {
     "end_time": "2021-08-30T07:55:34.664828Z",
     "start_time": "2021-08-30T07:54:21.004706Z"
    }
   },
   "outputs": [],
   "source": [
    "y_probas_forest = cross_val_predict(forest_clf, train_x, train_y, cv=3, method='predict_proba')"
   ]
  },
  {
   "cell_type": "code",
   "execution_count": 71,
   "id": "ecfa288a",
   "metadata": {
    "ExecuteTime": {
     "end_time": "2021-08-30T07:56:50.460253Z",
     "start_time": "2021-08-30T07:55:34.666550Z"
    }
   },
   "outputs": [
    {
     "data": {
      "text/plain": [
       "array([0.81661638, 0.81638903, 0.81694221])"
      ]
     },
     "execution_count": 71,
     "metadata": {},
     "output_type": "execute_result"
    }
   ],
   "source": [
    "cross_val_score(forest_clf, train_x, train_y, cv=3, scoring='accuracy')"
   ]
  },
  {
   "cell_type": "code",
   "execution_count": 57,
   "id": "8c9a3ba3",
   "metadata": {
    "ExecuteTime": {
     "end_time": "2021-08-30T07:05:02.892893Z",
     "start_time": "2021-08-30T07:05:02.673020Z"
    }
   },
   "outputs": [],
   "source": [
    "y_scores_forest = y_probas_forest[:, 1]\n",
    "fpr_forest, tpr_forest, thresholds_forest = roc_curve(cv_pred_y, y_scores_forest)"
   ]
  },
  {
   "cell_type": "code",
   "execution_count": 59,
   "id": "4be45171",
   "metadata": {
    "ExecuteTime": {
     "end_time": "2021-08-30T07:27:07.135145Z",
     "start_time": "2021-08-30T07:27:07.022498Z"
    }
   },
   "outputs": [
    {
     "data": {
      "text/plain": [
       "Text(0.5, 1.0, 'ROC Curve 비교')"
      ]
     },
     "execution_count": 59,
     "metadata": {},
     "output_type": "execute_result"
    },
    {
     "data": {
      "image/png": "[encoded data removed]",
      "text/plain": [
       "<Figure size 576x360 with 1 Axes>"
      ]
     },
     "metadata": {
      "needs_background": "light"
     },
     "output_type": "display_data"
    }
   ],
   "source": [
    "plt.figure(figsize=(8, 5))\n",
    "plt.plot(fpr_forest, tpr_forest, 'r-', label='CV')\n",
    "plt.plot(fpr, tpr, 'b-', label='Basic')\n",
    "plt.plot([0, 1], [0, 1], 'k--')\n",
    "# plt.xlim(0, 1)\n",
    "# plt.ylim(0, 1)\n",
    "plt.legend()\n",
    "plt.title('ROC Curve 비교')"
   ]
  },
  {
   "cell_type": "code",
   "execution_count": 60,
   "id": "fa1053c3",
   "metadata": {
    "ExecuteTime": {
     "end_time": "2021-08-30T07:27:09.204692Z",
     "start_time": "2021-08-30T07:27:08.437848Z"
    }
   },
   "outputs": [
    {
     "data": {
      "text/plain": [
       "array([[561475,      2],\n",
       "       [    14, 560124]])"
      ]
     },
     "execution_count": 60,
     "metadata": {},
     "output_type": "execute_result"
    }
   ],
   "source": [
    "confusion_matrix(train_y, pred_train_y)"
   ]
  },
  {
   "cell_type": "code",
   "execution_count": 61,
   "id": "e9102977",
   "metadata": {
    "ExecuteTime": {
     "end_time": "2021-08-30T07:27:12.870100Z",
     "start_time": "2021-08-30T07:27:12.860082Z"
    }
   },
   "outputs": [
    {
     "ename": "NameError",
     "evalue": "name 'y_train_scores' is not defined",
     "output_type": "error",
     "traceback": [
      "\u001b[0;31m---------------------------------------------------------------------------\u001b[0m",
      "\u001b[0;31mNameError\u001b[0m                                 Traceback (most recent call last)",
      "\u001b[0;32m<ipython-input-61-2812d58aedad>\u001b[0m in \u001b[0;36m<module>\u001b[0;34m\u001b[0m\n\u001b[0;32m----> 1\u001b[0;31m \u001b[0maccuracy_score\u001b[0m\u001b[0;34m(\u001b[0m\u001b[0mtrain_y\u001b[0m\u001b[0;34m,\u001b[0m \u001b[0my_train_scores\u001b[0m\u001b[0;34m)\u001b[0m\u001b[0;34m\u001b[0m\u001b[0;34m\u001b[0m\u001b[0m\n\u001b[0m\u001b[1;32m      2\u001b[0m \u001b[0mroc_auc_score\u001b[0m\u001b[0;34m(\u001b[0m\u001b[0mtrain_y\u001b[0m\u001b[0;34m,\u001b[0m \u001b[0my_train_scores\u001b[0m\u001b[0;34m)\u001b[0m\u001b[0;34m\u001b[0m\u001b[0;34m\u001b[0m\u001b[0m\n",
      "\u001b[0;31mNameError\u001b[0m: name 'y_train_scores' is not defined"
     ]
    }
   ],
   "source": [
    "accuracy_score(train_y, y_train_scores)\n",
    "roc_auc_score(train_y, y_train_scores)"
   ]
  },
  {
   "cell_type": "code",
   "execution_count": null,
   "id": "9e2b2494",
   "metadata": {},
   "outputs": [],
   "source": [
    "confusion_matrix(test_y, pred_y)"
   ]
  },
  {
   "cell_type": "code",
   "execution_count": null,
   "id": "15a846a5",
   "metadata": {},
   "outputs": [],
   "source": [
    "accuracy_score(test_y, y_scores)\n",
    "roc_auc_score(test_y, y_scores)"
   ]
  },
  {
   "cell_type": "code",
   "execution_count": null,
   "id": "5c4de2bf",
   "metadata": {
    "ExecuteTime": {
     "end_time": "2021-08-30T05:51:01.531454Z",
     "start_time": "2021-08-30T05:51:00.788416Z"
    }
   },
   "outputs": [],
   "source": [
    "confusion_matrix(train_y, cv_pred_y)"
   ]
  },
  {
   "cell_type": "code",
   "execution_count": null,
   "id": "83380ae7",
   "metadata": {
    "ExecuteTime": {
     "end_time": "2021-08-30T05:52:03.597712Z",
     "start_time": "2021-08-30T05:52:03.271292Z"
    }
   },
   "outputs": [],
   "source": [
    "accuracy_score(train_y, y_scores_forest)\n",
    "roc_auc_score(train_y, y_scores_forest)"
   ]
  },
  {
   "cell_type": "markdown",
   "id": "b13fa895",
   "metadata": {},
   "source": [
    "**질문**\n",
    "* Feature를 더 걸러야 하나...?\n",
    "* 그래프 막대 큰 순서로 나열하는 법\n",
    "* 모델링 언더샘플링 진행 -> overfitting 체크하는 법\n",
    "   -> overfitting 있다면 해결 방법\n",
    "* cross validation (데이터 크기 문제)\n",
    "* 지금 가장 기본적인 모델을 만들었는데도 어느정도 성능이 괜찮아 보임\n",
    "  -> 하이퍼 파라미터를 손을 대는게 좋은가..?\n",
    "* 지금 top10 분류에서 outlier가 너무 영향력이 커 보임\n",
    "  -> 지금 top10 예측 주제를 끌고가도 될지 or outlier쪽으로 주제를 돌려야할지?\n",
    "\n",
    "\n",
    "**추가작업**\n",
    "* 트리모형 그리면 좋을것같다\n",
    "* 피드백 후\n",
    "* ppt"
   ]
  }
 ],
 "metadata": {
  "kernelspec": {
   "display_name": "Python 3",
   "language": "python",
   "name": "python3"
  },
  "language_info": {
   "codemirror_mode": {
    "name": "ipython",
    "version": 3
   },
   "file_extension": ".py",
   "mimetype": "text/x-python",
   "name": "python",
   "nbconvert_exporter": "python",
   "pygments_lexer": "ipython3",
   "version": "3.8.8"
  },
  "toc": {
   "base_numbering": 1,
   "nav_menu": {},
   "number_sections": true,
   "sideBar": true,
   "skip_h1_title": false,
   "title_cell": "Table of Contents",
   "title_sidebar": "Contents",
   "toc_cell": false,
   "toc_position": {
    "height": "calc(100% - 180px)",
    "left": "10px",
    "top": "150px",
    "width": "380px"
   },
   "toc_section_display": true,
   "toc_window_display": true
  }
 },
 "nbformat": 4,
 "nbformat_minor": 5
}
