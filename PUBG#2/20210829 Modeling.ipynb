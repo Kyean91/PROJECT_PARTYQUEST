{
 "cells": [
  {
   "cell_type": "markdown",
   "id": "b6509be7",
   "metadata": {},
   "source": [
    "# Modeling"
   ]
  },
  {
   "cell_type": "code",
   "execution_count": 4,
   "id": "c56545c6",
   "metadata": {
    "ExecuteTime": {
     "end_time": "2021-08-29T11:52:34.779408Z",
     "start_time": "2021-08-29T11:51:50.415601Z"
    }
   },
   "outputs": [],
   "source": [
    "df_t = pd.read_csv('../dataset/team.csv')"
   ]
  },
  {
   "cell_type": "code",
   "execution_count": 5,
   "id": "ea17495f",
   "metadata": {
    "ExecuteTime": {
     "end_time": "2021-08-29T11:52:59.036853Z",
     "start_time": "2021-08-29T11:52:59.032114Z"
    }
   },
   "outputs": [
    {
     "data": {
      "text/plain": [
       "Index(['kor_date', 'match_id', 'team_id', 'top10', 'outlier', 'player_assists',\n",
       "       'player_dbno', 'player_dist_ride', 'player_dist_walk', 'player_dmg',\n",
       "       'player_kills', 'player_survive_time', 'total_score', 'kda',\n",
       "       'num_of_match', 'day_of_week', 'weekend', 'date_time', 'dmg_per_kills',\n",
       "       'ride_ratio', 'cum_each_game_score', 'cum_player_kills',\n",
       "       'cum_player_dmg', 'cum_player_assists', 'cum_num', 'match_level',\n",
       "       'team_level_sum', 'team_cum_num', 'match_level_sum', 'team_level',\n",
       "       'first_kill_time', 'tendency', 'kill_dist', '강북', '강남', '포친키', '야스나야',\n",
       "       '프리모스크', '밀리터리베이스', '밀타', '밀타파워', '노보', '리포브카', '로족', '자키', '서버니',\n",
       "       '스타버', '스쿨', '통곡의다리1', '통곡의다리2', 'Down_and_Out', 'M416', 'M16A4',\n",
       "       'SCAR-L', 'AKM', 'short_range', 'middle_range', 'long_range',\n",
       "       'accident', 'throwables'],\n",
       "      dtype='object')"
      ]
     },
     "execution_count": 5,
     "metadata": {},
     "output_type": "execute_result"
    }
   ],
   "source": [
    "df_t.columns"
   ]
  },
  {
   "cell_type": "code",
   "execution_count": 6,
   "id": "e1dfc47c",
   "metadata": {
    "ExecuteTime": {
     "end_time": "2021-08-29T11:53:00.677328Z",
     "start_time": "2021-08-29T11:53:00.674299Z"
    }
   },
   "outputs": [],
   "source": [
    "position = ['강북', '강남', '포친키', '야스나야', '프리모스크', '밀리터리베이스', '밀타', '밀타파워', '노보', '리포브카', '로족', \n",
    "            '자키', '서버니', '스타버', '스쿨', '통곡의다리1', '통곡의다리2']\n",
    "weapon = ['Down_and_Out', 'M416', 'M16A4', 'SCAR-L', 'AKM', 'short_range', 'middle_range', 'long_range', \n",
    "          'accident','throwables']\n",
    "level = ['match_level', 'match_level_sum', 'team_level', 'team_level_sum', 'cum_num', 'team_cum_num',\n",
    "         'each_game_score', 'outlier', 'dmg_per_kills']\n",
    "mean = ['mean_kill_dist', 'mean_first_kill_time', 'mean_tendency', 'mean_player_dist_walk', \n",
    "        'mean_player_dist_ride', 'mean_ride_ratio']"
   ]
  },
  {
   "cell_type": "code",
   "execution_count": 7,
   "id": "33093af3",
   "metadata": {
    "ExecuteTime": {
     "end_time": "2021-08-29T11:53:03.495758Z",
     "start_time": "2021-08-29T11:53:02.406459Z"
    }
   },
   "outputs": [],
   "source": [
    "X = df_t[['day_of_week', 'date_time'] \n",
    "         + ['match_level', 'team_level', 'team_cum_num', 'outlier', 'dmg_per_kills', 'kda']\n",
    "         + ['kill_dist', 'tendency', 'ride_ratio']\n",
    "         + position \n",
    "         + weapon]"
   ]
  },
  {
   "cell_type": "code",
   "execution_count": 8,
   "id": "3e32e927",
   "metadata": {
    "ExecuteTime": {
     "end_time": "2021-08-29T11:53:03.568378Z",
     "start_time": "2021-08-29T11:53:03.545879Z"
    }
   },
   "outputs": [
    {
     "name": "stderr",
     "output_type": "stream",
     "text": [
      "/opt/anaconda3/lib/python3.8/site-packages/pandas/core/indexing.py:1637: SettingWithCopyWarning: \n",
      "A value is trying to be set on a copy of a slice from a DataFrame\n",
      "\n",
      "See the caveats in the documentation: https://pandas.pydata.org/pandas-docs/stable/user_guide/indexing.html#returning-a-view-versus-a-copy\n",
      "  self._setitem_single_block(indexer, value, name)\n",
      "/opt/anaconda3/lib/python3.8/site-packages/pandas/core/indexing.py:692: SettingWithCopyWarning: \n",
      "A value is trying to be set on a copy of a slice from a DataFrame\n",
      "\n",
      "See the caveats in the documentation: https://pandas.pydata.org/pandas-docs/stable/user_guide/indexing.html#returning-a-view-versus-a-copy\n",
      "  iloc._setitem_with_indexer(indexer, value, self.name)\n"
     ]
    }
   ],
   "source": [
    "X.loc[X['kda'] == np.inf, 'kda'] = 999"
   ]
  },
  {
   "cell_type": "code",
   "execution_count": 9,
   "id": "ad27bca0",
   "metadata": {
    "ExecuteTime": {
     "end_time": "2021-08-29T11:53:07.315026Z",
     "start_time": "2021-08-29T11:53:06.187145Z"
    }
   },
   "outputs": [
    {
     "data": {
      "text/plain": [
       "0.000      95427\n",
       "0.005          1\n",
       "0.007          1\n",
       "0.007          2\n",
       "0.008          2\n",
       "           ...  \n",
       "154.689        1\n",
       "158.987        1\n",
       "163.574        1\n",
       "169.500        1\n",
       "999.000    43548\n",
       "Name: kda, Length: 2733931, dtype: int64"
      ]
     },
     "execution_count": 9,
     "metadata": {},
     "output_type": "execute_result"
    }
   ],
   "source": [
    "X['kda'].value_counts().sort_index()"
   ]
  },
  {
   "cell_type": "code",
   "execution_count": 10,
   "id": "e73a65b6",
   "metadata": {
    "ExecuteTime": {
     "end_time": "2021-08-29T11:53:08.089761Z",
     "start_time": "2021-08-29T11:53:08.087652Z"
    }
   },
   "outputs": [],
   "source": [
    "Y = df_t['top10']"
   ]
  },
  {
   "cell_type": "code",
   "execution_count": 11,
   "id": "a9a313a6",
   "metadata": {
    "ExecuteTime": {
     "end_time": "2021-08-29T11:53:09.636609Z",
     "start_time": "2021-08-29T11:53:09.348002Z"
    }
   },
   "outputs": [],
   "source": [
    "from sklearn.model_selection import train_test_split"
   ]
  },
  {
   "cell_type": "code",
   "execution_count": 14,
   "id": "efec15a0",
   "metadata": {
    "ExecuteTime": {
     "end_time": "2021-08-29T11:53:58.169328Z",
     "start_time": "2021-08-29T11:53:58.107696Z"
    }
   },
   "outputs": [
    {
     "data": {
      "text/plain": [
       "0.000    6365210\n",
       "1.000     801154\n",
       "Name: top10, dtype: int64"
      ]
     },
     "execution_count": 14,
     "metadata": {},
     "output_type": "execute_result"
    }
   ],
   "source": [
    "Y.value_counts()"
   ]
  },
  {
   "cell_type": "code",
   "execution_count": 16,
   "id": "1d59a41d",
   "metadata": {
    "ExecuteTime": {
     "end_time": "2021-08-29T11:54:47.577489Z",
     "start_time": "2021-08-29T11:54:47.564137Z"
    }
   },
   "outputs": [],
   "source": [
    "Y = Y.to_frame()"
   ]
  },
  {
   "cell_type": "code",
   "execution_count": 17,
   "id": "07e38f49",
   "metadata": {
    "ExecuteTime": {
     "end_time": "2021-08-29T11:55:23.345565Z",
     "start_time": "2021-08-29T11:55:22.946218Z"
    }
   },
   "outputs": [],
   "source": [
    "idx_0 = Y[Y['top10']==0].sample(n=801154).index"
   ]
  },
  {
   "cell_type": "code",
   "execution_count": 22,
   "id": "7801252e",
   "metadata": {
    "ExecuteTime": {
     "end_time": "2021-08-29T11:58:37.124329Z",
     "start_time": "2021-08-29T11:58:36.036452Z"
    }
   },
   "outputs": [],
   "source": [
    "X_new = pd.concat([X.loc[idx_0], X[Y['top10']==1]])"
   ]
  },
  {
   "cell_type": "code",
   "execution_count": null,
   "id": "42df5dd5",
   "metadata": {
    "ExecuteTime": {
     "start_time": "2021-08-29T11:59:34.211Z"
    }
   },
   "outputs": [],
   "source": [
    "Y_new = pd.concat([Y.loc[idx_0], Y[Y['top10']==1]])\n",
    "Y_new = Y_new['top10']"
   ]
  },
  {
   "cell_type": "code",
   "execution_count": 23,
   "id": "208b799c",
   "metadata": {
    "ExecuteTime": {
     "end_time": "2021-08-29T11:58:40.831799Z",
     "start_time": "2021-08-29T11:58:39.962523Z"
    }
   },
   "outputs": [],
   "source": [
    "train_x, test_x, train_y, test_y = train_test_split(X_new, Y_new, test_size=0.3 , random_state=42)"
   ]
  },
  {
   "cell_type": "code",
   "execution_count": 24,
   "id": "6a5a8332",
   "metadata": {
    "ExecuteTime": {
     "end_time": "2021-08-29T11:58:47.942483Z",
     "start_time": "2021-08-29T11:58:47.905251Z"
    }
   },
   "outputs": [
    {
     "data": {
      "text/plain": [
       "top10\n",
       "0.000   0.501\n",
       "1.000   0.499\n",
       "dtype: float64"
      ]
     },
     "execution_count": 24,
     "metadata": {},
     "output_type": "execute_result"
    }
   ],
   "source": [
    "train_y.value_counts(normalize=True)"
   ]
  },
  {
   "cell_type": "code",
   "execution_count": 25,
   "id": "1534abc3",
   "metadata": {
    "ExecuteTime": {
     "end_time": "2021-08-29T11:58:54.838210Z",
     "start_time": "2021-08-29T11:58:54.757018Z"
    }
   },
   "outputs": [],
   "source": [
    "from sklearn.ensemble import RandomForestClassifier\n",
    "from sklearn.model_selection import cross_val_predict"
   ]
  },
  {
   "cell_type": "code",
   "execution_count": 26,
   "id": "8e4f8d66",
   "metadata": {
    "ExecuteTime": {
     "end_time": "2021-08-29T11:58:55.681888Z",
     "start_time": "2021-08-29T11:58:55.679714Z"
    }
   },
   "outputs": [],
   "source": [
    "forest_clf = RandomForestClassifier(random_state=42)"
   ]
  },
  {
   "cell_type": "code",
   "execution_count": null,
   "id": "8304b08a",
   "metadata": {
    "ExecuteTime": {
     "end_time": "2021-08-29T11:14:29.181235Z",
     "start_time": "2021-08-29T08:11:16.285016Z"
    }
   },
   "outputs": [],
   "source": [
    "# y_probas_forest = cross_val_predict(forest_clf, train_x, train_y, cv=3, method='predict_proba')"
   ]
  },
  {
   "cell_type": "code",
   "execution_count": null,
   "id": "6faeeedf",
   "metadata": {
    "ExecuteTime": {
     "start_time": "2021-08-29T11:58:58.196Z"
    },
    "scrolled": true
   },
   "outputs": [
    {
     "name": "stderr",
     "output_type": "stream",
     "text": [
      "<ipython-input-27-01c9eea0a685>:1: DataConversionWarning: A column-vector y was passed when a 1d array was expected. Please change the shape of y to (n_samples,), for example using ravel().\n",
      "  forest_clf.fit(train_x, train_y)\n"
     ]
    }
   ],
   "source": [
    "forest_clf.fit(train_x, train_y)"
   ]
  },
  {
   "cell_type": "code",
   "execution_count": null,
   "id": "649e8504",
   "metadata": {},
   "outputs": [],
   "source": []
  }
 ],
 "metadata": {
  "kernelspec": {
   "display_name": "Python 3",
   "language": "python",
   "name": "python3"
  },
  "language_info": {
   "codemirror_mode": {
    "name": "ipython",
    "version": 3
   },
   "file_extension": ".py",
   "mimetype": "text/x-python",
   "name": "python",
   "nbconvert_exporter": "python",
   "pygments_lexer": "ipython3",
   "version": "3.8.8"
  },
  "toc": {
   "base_numbering": 1,
   "nav_menu": {},
   "number_sections": true,
   "sideBar": true,
   "skip_h1_title": false,
   "title_cell": "Table of Contents",
   "title_sidebar": "Contents",
   "toc_cell": false,
   "toc_position": {},
   "toc_section_display": true,
   "toc_window_display": false
  }
 },
 "nbformat": 4,
 "nbformat_minor": 5
}
