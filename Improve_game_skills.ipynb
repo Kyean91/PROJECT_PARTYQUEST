{
 "cells": [
  {
   "cell_type": "code",
   "execution_count": 1,
   "id": "08b22ce8-7032-40a0-b688-a361e50e4ac5",
   "metadata": {},
   "outputs": [],
   "source": [
    "import pandas as pd\n",
    "import seaborn as sns\n",
    "import matplotlib.pyplot as plt\n",
    "import numpy as np"
   ]
  },
  {
   "cell_type": "code",
   "execution_count": 2,
   "id": "665d7ce9-f881-4fb1-8488-d82087d3da13",
   "metadata": {},
   "outputs": [],
   "source": [
    "# E_squad = pd.read_csv('./dataset/squad_E.csv')"
   ]
  },
  {
   "cell_type": "code",
   "execution_count": 3,
   "id": "0da4018a-9acf-4edb-94f4-7727be94f5ba",
   "metadata": {},
   "outputs": [],
   "source": [
    "# M_squad = pd.read_csv('./dataset/squad_M.csv')"
   ]
  },
  {
   "cell_type": "code",
   "execution_count": 4,
   "id": "b2cfded9-4d8b-40dc-8c3b-376037f411f7",
   "metadata": {},
   "outputs": [],
   "source": [
    "# E_squad.head()"
   ]
  },
  {
   "cell_type": "code",
   "execution_count": 5,
   "id": "355f8869-80ce-4a61-9092-66ed11afa55a",
   "metadata": {},
   "outputs": [],
   "source": [
    "# M_squad.head()"
   ]
  },
  {
   "cell_type": "code",
   "execution_count": 6,
   "id": "3ae51b5c-9bba-4103-970a-8e42a1fbb13f",
   "metadata": {},
   "outputs": [],
   "source": [
    "# E_duo = pd.read_csv('./dataset/duo_E.csv')"
   ]
  },
  {
   "cell_type": "code",
   "execution_count": 7,
   "id": "6620ff86-9ea3-4cbd-a8a8-6b756cac29b4",
   "metadata": {},
   "outputs": [],
   "source": [
    "# E_duo.head()"
   ]
  },
  {
   "cell_type": "code",
   "execution_count": 8,
   "id": "85bf3acb-e082-46ae-9f2a-ab7f99d83c33",
   "metadata": {},
   "outputs": [],
   "source": [
    "# M_duo = pd.read_csv('./dataset/duo_M.csv')"
   ]
  },
  {
   "cell_type": "code",
   "execution_count": 9,
   "id": "e5c4e982-dc61-4c23-95de-151e66caf6dd",
   "metadata": {},
   "outputs": [],
   "source": [
    "# M_duo.head()"
   ]
  },
  {
   "cell_type": "code",
   "execution_count": 71,
   "id": "65eb2b02-27ac-4d14-90c4-aab401c97370",
   "metadata": {},
   "outputs": [],
   "source": [
    "E_solo = pd.read_csv('./dataset/solo_E.csv')"
   ]
  },
  {
   "cell_type": "code",
   "execution_count": 72,
   "id": "22c67a12-bc8b-403f-9ab1-90cb42abf0b4",
   "metadata": {},
   "outputs": [],
   "source": [
    "M_solo = pd.read_csv('./dataset/solo_M.csv')"
   ]
  },
  {
   "cell_type": "code",
   "execution_count": 12,
   "id": "ed1058ff-1025-40a4-9abc-d68083ae9270",
   "metadata": {},
   "outputs": [
    {
     "data": {
      "text/html": [
       "<div>\n",
       "<style scoped>\n",
       "    .dataframe tbody tr th:only-of-type {\n",
       "        vertical-align: middle;\n",
       "    }\n",
       "\n",
       "    .dataframe tbody tr th {\n",
       "        vertical-align: top;\n",
       "    }\n",
       "\n",
       "    .dataframe thead th {\n",
       "        text-align: right;\n",
       "    }\n",
       "</style>\n",
       "<table border=\"1\" class=\"dataframe\">\n",
       "  <thead>\n",
       "    <tr style=\"text-align: right;\">\n",
       "      <th></th>\n",
       "      <th>date</th>\n",
       "      <th>game_size</th>\n",
       "      <th>match_id</th>\n",
       "      <th>match_mode</th>\n",
       "      <th>party_size</th>\n",
       "      <th>player_assists</th>\n",
       "      <th>player_dbno</th>\n",
       "      <th>player_dist_ride</th>\n",
       "      <th>player_dist_walk</th>\n",
       "      <th>player_dmg</th>\n",
       "      <th>...</th>\n",
       "      <th>killed_by</th>\n",
       "      <th>killer_placement</th>\n",
       "      <th>killer_position_x</th>\n",
       "      <th>killer_position_y</th>\n",
       "      <th>map</th>\n",
       "      <th>time</th>\n",
       "      <th>victim_name</th>\n",
       "      <th>victim_placement</th>\n",
       "      <th>victim_position_x</th>\n",
       "      <th>victim_position_y</th>\n",
       "    </tr>\n",
       "  </thead>\n",
       "  <tbody>\n",
       "    <tr>\n",
       "      <th>0</th>\n",
       "      <td>2017-11-19T08:28:59+0000</td>\n",
       "      <td>91</td>\n",
       "      <td>2U4GBNA0YmlixJ6lhgS6xB2tqdo7SEhoYyHlVu18akkAzL...</td>\n",
       "      <td>tpp</td>\n",
       "      <td>1</td>\n",
       "      <td>0</td>\n",
       "      <td>0</td>\n",
       "      <td>0.000000</td>\n",
       "      <td>170.954788</td>\n",
       "      <td>0</td>\n",
       "      <td>...</td>\n",
       "      <td>NaN</td>\n",
       "      <td>NaN</td>\n",
       "      <td>NaN</td>\n",
       "      <td>NaN</td>\n",
       "      <td>ERANGEL</td>\n",
       "      <td>NaN</td>\n",
       "      <td>NaN</td>\n",
       "      <td>NaN</td>\n",
       "      <td>NaN</td>\n",
       "      <td>NaN</td>\n",
       "    </tr>\n",
       "    <tr>\n",
       "      <th>1</th>\n",
       "      <td>2017-11-19T08:28:59+0000</td>\n",
       "      <td>91</td>\n",
       "      <td>2U4GBNA0YmlixJ6lhgS6xB2tqdo7SEhoYyHlVu18akkAzL...</td>\n",
       "      <td>tpp</td>\n",
       "      <td>1</td>\n",
       "      <td>0</td>\n",
       "      <td>0</td>\n",
       "      <td>0.000000</td>\n",
       "      <td>66.545590</td>\n",
       "      <td>0</td>\n",
       "      <td>...</td>\n",
       "      <td>NaN</td>\n",
       "      <td>NaN</td>\n",
       "      <td>NaN</td>\n",
       "      <td>NaN</td>\n",
       "      <td>ERANGEL</td>\n",
       "      <td>NaN</td>\n",
       "      <td>NaN</td>\n",
       "      <td>NaN</td>\n",
       "      <td>NaN</td>\n",
       "      <td>NaN</td>\n",
       "    </tr>\n",
       "    <tr>\n",
       "      <th>2</th>\n",
       "      <td>2017-11-19T08:28:59+0000</td>\n",
       "      <td>91</td>\n",
       "      <td>2U4GBNA0YmlixJ6lhgS6xB2tqdo7SEhoYyHlVu18akkAzL...</td>\n",
       "      <td>tpp</td>\n",
       "      <td>1</td>\n",
       "      <td>0</td>\n",
       "      <td>0</td>\n",
       "      <td>728.722656</td>\n",
       "      <td>610.168945</td>\n",
       "      <td>124</td>\n",
       "      <td>...</td>\n",
       "      <td>NaN</td>\n",
       "      <td>NaN</td>\n",
       "      <td>NaN</td>\n",
       "      <td>NaN</td>\n",
       "      <td>ERANGEL</td>\n",
       "      <td>NaN</td>\n",
       "      <td>NaN</td>\n",
       "      <td>NaN</td>\n",
       "      <td>NaN</td>\n",
       "      <td>NaN</td>\n",
       "    </tr>\n",
       "    <tr>\n",
       "      <th>3</th>\n",
       "      <td>2017-11-19T08:28:59+0000</td>\n",
       "      <td>91</td>\n",
       "      <td>2U4GBNA0YmlixJ6lhgS6xB2tqdo7SEhoYyHlVu18akkAzL...</td>\n",
       "      <td>tpp</td>\n",
       "      <td>1</td>\n",
       "      <td>0</td>\n",
       "      <td>0</td>\n",
       "      <td>2646.184000</td>\n",
       "      <td>1431.292000</td>\n",
       "      <td>24</td>\n",
       "      <td>...</td>\n",
       "      <td>NaN</td>\n",
       "      <td>NaN</td>\n",
       "      <td>NaN</td>\n",
       "      <td>NaN</td>\n",
       "      <td>ERANGEL</td>\n",
       "      <td>NaN</td>\n",
       "      <td>NaN</td>\n",
       "      <td>NaN</td>\n",
       "      <td>NaN</td>\n",
       "      <td>NaN</td>\n",
       "    </tr>\n",
       "    <tr>\n",
       "      <th>4</th>\n",
       "      <td>2017-11-19T08:28:59+0000</td>\n",
       "      <td>91</td>\n",
       "      <td>2U4GBNA0YmlixJ6lhgS6xB2tqdo7SEhoYyHlVu18akkAzL...</td>\n",
       "      <td>tpp</td>\n",
       "      <td>1</td>\n",
       "      <td>0</td>\n",
       "      <td>0</td>\n",
       "      <td>0.000000</td>\n",
       "      <td>723.102300</td>\n",
       "      <td>100</td>\n",
       "      <td>...</td>\n",
       "      <td>M16A4</td>\n",
       "      <td>47.0</td>\n",
       "      <td>296314.6</td>\n",
       "      <td>302359.5</td>\n",
       "      <td>ERANGEL</td>\n",
       "      <td>297.0</td>\n",
       "      <td>DzzzZZZZP</td>\n",
       "      <td>66.0</td>\n",
       "      <td>295531.2</td>\n",
       "      <td>304050.2</td>\n",
       "    </tr>\n",
       "  </tbody>\n",
       "</table>\n",
       "<p>5 rows × 25 columns</p>\n",
       "</div>"
      ],
      "text/plain": [
       "                       date  game_size  \\\n",
       "0  2017-11-19T08:28:59+0000         91   \n",
       "1  2017-11-19T08:28:59+0000         91   \n",
       "2  2017-11-19T08:28:59+0000         91   \n",
       "3  2017-11-19T08:28:59+0000         91   \n",
       "4  2017-11-19T08:28:59+0000         91   \n",
       "\n",
       "                                            match_id match_mode  party_size  \\\n",
       "0  2U4GBNA0YmlixJ6lhgS6xB2tqdo7SEhoYyHlVu18akkAzL...        tpp           1   \n",
       "1  2U4GBNA0YmlixJ6lhgS6xB2tqdo7SEhoYyHlVu18akkAzL...        tpp           1   \n",
       "2  2U4GBNA0YmlixJ6lhgS6xB2tqdo7SEhoYyHlVu18akkAzL...        tpp           1   \n",
       "3  2U4GBNA0YmlixJ6lhgS6xB2tqdo7SEhoYyHlVu18akkAzL...        tpp           1   \n",
       "4  2U4GBNA0YmlixJ6lhgS6xB2tqdo7SEhoYyHlVu18akkAzL...        tpp           1   \n",
       "\n",
       "   player_assists  player_dbno  player_dist_ride  player_dist_walk  \\\n",
       "0               0            0          0.000000        170.954788   \n",
       "1               0            0          0.000000         66.545590   \n",
       "2               0            0        728.722656        610.168945   \n",
       "3               0            0       2646.184000       1431.292000   \n",
       "4               0            0          0.000000        723.102300   \n",
       "\n",
       "   player_dmg  ...  killed_by killer_placement  killer_position_x  \\\n",
       "0           0  ...        NaN              NaN                NaN   \n",
       "1           0  ...        NaN              NaN                NaN   \n",
       "2         124  ...        NaN              NaN                NaN   \n",
       "3          24  ...        NaN              NaN                NaN   \n",
       "4         100  ...      M16A4             47.0           296314.6   \n",
       "\n",
       "   killer_position_y      map   time  victim_name  victim_placement  \\\n",
       "0                NaN  ERANGEL    NaN          NaN               NaN   \n",
       "1                NaN  ERANGEL    NaN          NaN               NaN   \n",
       "2                NaN  ERANGEL    NaN          NaN               NaN   \n",
       "3                NaN  ERANGEL    NaN          NaN               NaN   \n",
       "4           302359.5  ERANGEL  297.0    DzzzZZZZP              66.0   \n",
       "\n",
       "   victim_position_x victim_position_y  \n",
       "0                NaN               NaN  \n",
       "1                NaN               NaN  \n",
       "2                NaN               NaN  \n",
       "3                NaN               NaN  \n",
       "4           295531.2          304050.2  \n",
       "\n",
       "[5 rows x 25 columns]"
      ]
     },
     "execution_count": 12,
     "metadata": {},
     "output_type": "execute_result"
    }
   ],
   "source": [
    "E_solo.head()"
   ]
  },
  {
   "cell_type": "code",
   "execution_count": 13,
   "id": "a62eabbe-363d-476b-b570-7ac93e4a2d82",
   "metadata": {},
   "outputs": [
    {
     "data": {
      "text/html": [
       "<div>\n",
       "<style scoped>\n",
       "    .dataframe tbody tr th:only-of-type {\n",
       "        vertical-align: middle;\n",
       "    }\n",
       "\n",
       "    .dataframe tbody tr th {\n",
       "        vertical-align: top;\n",
       "    }\n",
       "\n",
       "    .dataframe thead th {\n",
       "        text-align: right;\n",
       "    }\n",
       "</style>\n",
       "<table border=\"1\" class=\"dataframe\">\n",
       "  <thead>\n",
       "    <tr style=\"text-align: right;\">\n",
       "      <th></th>\n",
       "      <th>date</th>\n",
       "      <th>game_size</th>\n",
       "      <th>match_id</th>\n",
       "      <th>match_mode</th>\n",
       "      <th>party_size</th>\n",
       "      <th>player_assists</th>\n",
       "      <th>player_dbno</th>\n",
       "      <th>player_dist_ride</th>\n",
       "      <th>player_dist_walk</th>\n",
       "      <th>player_dmg</th>\n",
       "      <th>...</th>\n",
       "      <th>killed_by</th>\n",
       "      <th>killer_placement</th>\n",
       "      <th>killer_position_x</th>\n",
       "      <th>killer_position_y</th>\n",
       "      <th>map</th>\n",
       "      <th>time</th>\n",
       "      <th>victim_name</th>\n",
       "      <th>victim_placement</th>\n",
       "      <th>victim_position_x</th>\n",
       "      <th>victim_position_y</th>\n",
       "    </tr>\n",
       "  </thead>\n",
       "  <tbody>\n",
       "    <tr>\n",
       "      <th>0</th>\n",
       "      <td>2017-12-30T10:44:20+0000</td>\n",
       "      <td>85</td>\n",
       "      <td>2U4GBNA0YmkvCmIao1jSik4oZSUnd8bzeMgA1H7GSnDkUa...</td>\n",
       "      <td>tpp</td>\n",
       "      <td>1</td>\n",
       "      <td>2</td>\n",
       "      <td>0</td>\n",
       "      <td>0.0000</td>\n",
       "      <td>2093.24900</td>\n",
       "      <td>110</td>\n",
       "      <td>...</td>\n",
       "      <td>NaN</td>\n",
       "      <td>NaN</td>\n",
       "      <td>NaN</td>\n",
       "      <td>NaN</td>\n",
       "      <td>MIRAMAR</td>\n",
       "      <td>NaN</td>\n",
       "      <td>NaN</td>\n",
       "      <td>NaN</td>\n",
       "      <td>NaN</td>\n",
       "      <td>NaN</td>\n",
       "    </tr>\n",
       "    <tr>\n",
       "      <th>1</th>\n",
       "      <td>2017-12-30T10:44:20+0000</td>\n",
       "      <td>85</td>\n",
       "      <td>2U4GBNA0YmkvCmIao1jSik4oZSUnd8bzeMgA1H7GSnDkUa...</td>\n",
       "      <td>tpp</td>\n",
       "      <td>1</td>\n",
       "      <td>0</td>\n",
       "      <td>0</td>\n",
       "      <td>0.0000</td>\n",
       "      <td>166.62450</td>\n",
       "      <td>0</td>\n",
       "      <td>...</td>\n",
       "      <td>NaN</td>\n",
       "      <td>NaN</td>\n",
       "      <td>NaN</td>\n",
       "      <td>NaN</td>\n",
       "      <td>MIRAMAR</td>\n",
       "      <td>NaN</td>\n",
       "      <td>NaN</td>\n",
       "      <td>NaN</td>\n",
       "      <td>NaN</td>\n",
       "      <td>NaN</td>\n",
       "    </tr>\n",
       "    <tr>\n",
       "      <th>2</th>\n",
       "      <td>2017-12-30T10:44:20+0000</td>\n",
       "      <td>85</td>\n",
       "      <td>2U4GBNA0YmkvCmIao1jSik4oZSUnd8bzeMgA1H7GSnDkUa...</td>\n",
       "      <td>tpp</td>\n",
       "      <td>1</td>\n",
       "      <td>0</td>\n",
       "      <td>0</td>\n",
       "      <td>513.7829</td>\n",
       "      <td>2472.66870</td>\n",
       "      <td>100</td>\n",
       "      <td>...</td>\n",
       "      <td>AKM</td>\n",
       "      <td>22.0</td>\n",
       "      <td>319200.7</td>\n",
       "      <td>340021.9</td>\n",
       "      <td>MIRAMAR</td>\n",
       "      <td>265.0</td>\n",
       "      <td>tjboby11</td>\n",
       "      <td>59.0</td>\n",
       "      <td>320995.9</td>\n",
       "      <td>339918.6</td>\n",
       "    </tr>\n",
       "    <tr>\n",
       "      <th>3</th>\n",
       "      <td>2017-12-30T10:44:20+0000</td>\n",
       "      <td>85</td>\n",
       "      <td>2U4GBNA0YmkvCmIao1jSik4oZSUnd8bzeMgA1H7GSnDkUa...</td>\n",
       "      <td>tpp</td>\n",
       "      <td>1</td>\n",
       "      <td>0</td>\n",
       "      <td>0</td>\n",
       "      <td>0.0000</td>\n",
       "      <td>50.22462</td>\n",
       "      <td>22</td>\n",
       "      <td>...</td>\n",
       "      <td>NaN</td>\n",
       "      <td>NaN</td>\n",
       "      <td>NaN</td>\n",
       "      <td>NaN</td>\n",
       "      <td>MIRAMAR</td>\n",
       "      <td>NaN</td>\n",
       "      <td>NaN</td>\n",
       "      <td>NaN</td>\n",
       "      <td>NaN</td>\n",
       "      <td>NaN</td>\n",
       "    </tr>\n",
       "    <tr>\n",
       "      <th>4</th>\n",
       "      <td>2017-12-30T10:44:20+0000</td>\n",
       "      <td>85</td>\n",
       "      <td>2U4GBNA0YmkvCmIao1jSik4oZSUnd8bzeMgA1H7GSnDkUa...</td>\n",
       "      <td>tpp</td>\n",
       "      <td>1</td>\n",
       "      <td>0</td>\n",
       "      <td>0</td>\n",
       "      <td>0.0000</td>\n",
       "      <td>87.91814</td>\n",
       "      <td>61</td>\n",
       "      <td>...</td>\n",
       "      <td>Win94</td>\n",
       "      <td>63.0</td>\n",
       "      <td>371892.2</td>\n",
       "      <td>424208.3</td>\n",
       "      <td>MIRAMAR</td>\n",
       "      <td>134.0</td>\n",
       "      <td>hjlkghxfhgfd</td>\n",
       "      <td>72.0</td>\n",
       "      <td>371039.0</td>\n",
       "      <td>424247.1</td>\n",
       "    </tr>\n",
       "  </tbody>\n",
       "</table>\n",
       "<p>5 rows × 25 columns</p>\n",
       "</div>"
      ],
      "text/plain": [
       "                       date  game_size  \\\n",
       "0  2017-12-30T10:44:20+0000         85   \n",
       "1  2017-12-30T10:44:20+0000         85   \n",
       "2  2017-12-30T10:44:20+0000         85   \n",
       "3  2017-12-30T10:44:20+0000         85   \n",
       "4  2017-12-30T10:44:20+0000         85   \n",
       "\n",
       "                                            match_id match_mode  party_size  \\\n",
       "0  2U4GBNA0YmkvCmIao1jSik4oZSUnd8bzeMgA1H7GSnDkUa...        tpp           1   \n",
       "1  2U4GBNA0YmkvCmIao1jSik4oZSUnd8bzeMgA1H7GSnDkUa...        tpp           1   \n",
       "2  2U4GBNA0YmkvCmIao1jSik4oZSUnd8bzeMgA1H7GSnDkUa...        tpp           1   \n",
       "3  2U4GBNA0YmkvCmIao1jSik4oZSUnd8bzeMgA1H7GSnDkUa...        tpp           1   \n",
       "4  2U4GBNA0YmkvCmIao1jSik4oZSUnd8bzeMgA1H7GSnDkUa...        tpp           1   \n",
       "\n",
       "   player_assists  player_dbno  player_dist_ride  player_dist_walk  \\\n",
       "0               2            0            0.0000        2093.24900   \n",
       "1               0            0            0.0000         166.62450   \n",
       "2               0            0          513.7829        2472.66870   \n",
       "3               0            0            0.0000          50.22462   \n",
       "4               0            0            0.0000          87.91814   \n",
       "\n",
       "   player_dmg  ...  killed_by killer_placement  killer_position_x  \\\n",
       "0         110  ...        NaN              NaN                NaN   \n",
       "1           0  ...        NaN              NaN                NaN   \n",
       "2         100  ...        AKM             22.0           319200.7   \n",
       "3          22  ...        NaN              NaN                NaN   \n",
       "4          61  ...      Win94             63.0           371892.2   \n",
       "\n",
       "   killer_position_y      map   time   victim_name  victim_placement  \\\n",
       "0                NaN  MIRAMAR    NaN           NaN               NaN   \n",
       "1                NaN  MIRAMAR    NaN           NaN               NaN   \n",
       "2           340021.9  MIRAMAR  265.0      tjboby11              59.0   \n",
       "3                NaN  MIRAMAR    NaN           NaN               NaN   \n",
       "4           424208.3  MIRAMAR  134.0  hjlkghxfhgfd              72.0   \n",
       "\n",
       "   victim_position_x victim_position_y  \n",
       "0                NaN               NaN  \n",
       "1                NaN               NaN  \n",
       "2           320995.9          339918.6  \n",
       "3                NaN               NaN  \n",
       "4           371039.0          424247.1  \n",
       "\n",
       "[5 rows x 25 columns]"
      ]
     },
     "execution_count": 13,
     "metadata": {},
     "output_type": "execute_result"
    }
   ],
   "source": [
    "M_solo.head()"
   ]
  },
  {
   "cell_type": "markdown",
   "id": "a2e8105f-1499-45b2-b92b-5bc3b9830961",
   "metadata": {},
   "source": [
    "## 데이터 셋 내에서 같은 값들로만 이루어진 컬럼 확인"
   ]
  },
  {
   "cell_type": "code",
   "execution_count": 14,
   "id": "632bd65b-30e6-4a11-8328-2f6d611ee7c1",
   "metadata": {},
   "outputs": [
    {
     "data": {
      "text/plain": [
       "Index(['date', 'game_size', 'match_id', 'match_mode', 'party_size',\n",
       "       'player_assists', 'player_dbno', 'player_dist_ride', 'player_dist_walk',\n",
       "       'player_dmg', 'player_kills', 'player_name', 'player_survive_time',\n",
       "       'team_id', 'team_placement', 'killed_by', 'killer_placement',\n",
       "       'killer_position_x', 'killer_position_y', 'map', 'time', 'victim_name',\n",
       "       'victim_placement', 'victim_position_x', 'victim_position_y'],\n",
       "      dtype='object')"
      ]
     },
     "execution_count": 14,
     "metadata": {},
     "output_type": "execute_result"
    }
   ],
   "source": [
    "E_solo.columns"
   ]
  },
  {
   "cell_type": "code",
   "execution_count": 15,
   "id": "514054db-6866-4b7d-85b9-5c9f93b7033b",
   "metadata": {},
   "outputs": [
    {
     "data": {
      "text/plain": [
       "array(['tpp'], dtype=object)"
      ]
     },
     "execution_count": 15,
     "metadata": {},
     "output_type": "execute_result"
    }
   ],
   "source": [
    "E_solo['match_mode'].unique()"
   ]
  },
  {
   "cell_type": "code",
   "execution_count": 16,
   "id": "69923158-f504-45bc-b73e-b6dc67ea3aaf",
   "metadata": {},
   "outputs": [
    {
     "data": {
      "text/plain": [
       "array([1], dtype=int64)"
      ]
     },
     "execution_count": 16,
     "metadata": {},
     "output_type": "execute_result"
    }
   ],
   "source": [
    "E_solo['party_size'].unique()"
   ]
  },
  {
   "cell_type": "code",
   "execution_count": 17,
   "id": "dbf80f0d-2e44-4c86-acb2-a651995e735b",
   "metadata": {},
   "outputs": [
    {
     "data": {
      "text/plain": [
       "array([0], dtype=int64)"
      ]
     },
     "execution_count": 17,
     "metadata": {},
     "output_type": "execute_result"
    }
   ],
   "source": [
    "E_solo['player_dbno'].unique()"
   ]
  },
  {
   "cell_type": "code",
   "execution_count": 19,
   "id": "32337dc6-37c3-4495-bef0-90ef6a4c4019",
   "metadata": {},
   "outputs": [
    {
     "data": {
      "text/plain": [
       "Index(['date', 'game_size', 'match_id', 'match_mode', 'party_size',\n",
       "       'player_assists', 'player_dbno', 'player_dist_ride', 'player_dist_walk',\n",
       "       'player_dmg', 'player_kills', 'player_name', 'player_survive_time',\n",
       "       'team_id', 'team_placement', 'killed_by', 'killer_placement',\n",
       "       'killer_position_x', 'killer_position_y', 'map', 'time', 'victim_name',\n",
       "       'victim_placement', 'victim_position_x', 'victim_position_y'],\n",
       "      dtype='object')"
      ]
     },
     "execution_count": 19,
     "metadata": {},
     "output_type": "execute_result"
    }
   ],
   "source": [
    "M_solo.columns"
   ]
  },
  {
   "cell_type": "code",
   "execution_count": 20,
   "id": "74cf1ae8-0010-4809-a1f6-e6668468a92c",
   "metadata": {},
   "outputs": [
    {
     "data": {
      "text/plain": [
       "array(['tpp'], dtype=object)"
      ]
     },
     "execution_count": 20,
     "metadata": {},
     "output_type": "execute_result"
    }
   ],
   "source": [
    "M_solo['match_mode'].unique()"
   ]
  },
  {
   "cell_type": "code",
   "execution_count": 21,
   "id": "c5457da3-317e-4a84-b8d7-848de75fe782",
   "metadata": {},
   "outputs": [
    {
     "data": {
      "text/plain": [
       "array([1], dtype=int64)"
      ]
     },
     "execution_count": 21,
     "metadata": {},
     "output_type": "execute_result"
    }
   ],
   "source": [
    "M_solo['party_size'].unique()"
   ]
  },
  {
   "cell_type": "code",
   "execution_count": 22,
   "id": "09db08ee-fc09-44b9-abca-033b09c9387e",
   "metadata": {},
   "outputs": [
    {
     "data": {
      "text/plain": [
       "array([0], dtype=int64)"
      ]
     },
     "execution_count": 22,
     "metadata": {},
     "output_type": "execute_result"
    }
   ],
   "source": [
    "M_solo['player_dbno'].unique()"
   ]
  },
  {
   "cell_type": "markdown",
   "id": "d2c55a30-25de-4961-8f6c-9b1adeeaa10e",
   "metadata": {},
   "source": [
    "### 동일한 값들만 가지는 컬럼을 제외한 새로운 데이터셋 생성"
   ]
  },
  {
   "cell_type": "code",
   "execution_count": 73,
   "id": "a78daac4-0757-4ba3-b83a-a996b7971bee",
   "metadata": {},
   "outputs": [],
   "source": [
    "E_solo_T = E_solo[['date', 'game_size', 'match_id', \n",
    "                   'player_assists', 'player_dist_ride', 'player_dist_walk',\n",
    "                   'player_dmg', 'player_kills', 'player_name', 'player_survive_time',\n",
    "                   'team_id', 'team_placement', 'killed_by', 'killer_placement',\n",
    "                   'killer_position_x', 'killer_position_y', 'map', 'time', 'victim_name',\n",
    "                   'victim_placement', 'victim_position_x', 'victim_position_y']]"
   ]
  },
  {
   "cell_type": "code",
   "execution_count": 74,
   "id": "d2a38986-e546-4f1b-bea9-b3b891e23771",
   "metadata": {},
   "outputs": [],
   "source": [
    "M_solo_T = M_solo[['date', 'game_size', 'match_id', \n",
    "                   'player_assists', 'player_dist_ride', 'player_dist_walk',\n",
    "                   'player_dmg', 'player_kills', 'player_name', 'player_survive_time',\n",
    "                   'team_id', 'team_placement', 'killed_by', 'killer_placement',\n",
    "                   'killer_position_x', 'killer_position_y', 'map', 'time', 'victim_name',\n",
    "                   'victim_placement', 'victim_position_x', 'victim_position_y']]"
   ]
  },
  {
   "cell_type": "code",
   "execution_count": 26,
   "id": "a8f97a25-ecf9-4b25-b7d2-8e70b4132d93",
   "metadata": {},
   "outputs": [
    {
     "data": {
      "text/html": [
       "<div>\n",
       "<style scoped>\n",
       "    .dataframe tbody tr th:only-of-type {\n",
       "        vertical-align: middle;\n",
       "    }\n",
       "\n",
       "    .dataframe tbody tr th {\n",
       "        vertical-align: top;\n",
       "    }\n",
       "\n",
       "    .dataframe thead th {\n",
       "        text-align: right;\n",
       "    }\n",
       "</style>\n",
       "<table border=\"1\" class=\"dataframe\">\n",
       "  <thead>\n",
       "    <tr style=\"text-align: right;\">\n",
       "      <th></th>\n",
       "      <th>date</th>\n",
       "      <th>game_size</th>\n",
       "      <th>match_id</th>\n",
       "      <th>player_assists</th>\n",
       "      <th>player_dist_ride</th>\n",
       "      <th>player_dist_walk</th>\n",
       "      <th>player_dmg</th>\n",
       "      <th>player_kills</th>\n",
       "      <th>player_name</th>\n",
       "      <th>player_survive_time</th>\n",
       "      <th>team_id</th>\n",
       "      <th>team_placement</th>\n",
       "      <th>killed_by</th>\n",
       "      <th>killer_placement</th>\n",
       "      <th>killer_position_x</th>\n",
       "      <th>killer_position_y</th>\n",
       "      <th>time</th>\n",
       "      <th>victim_name</th>\n",
       "      <th>victim_placement</th>\n",
       "      <th>victim_position_x</th>\n",
       "      <th>victim_position_y</th>\n",
       "    </tr>\n",
       "  </thead>\n",
       "  <tbody>\n",
       "    <tr>\n",
       "      <th>0</th>\n",
       "      <td>2017-11-19T08:28:59+0000</td>\n",
       "      <td>91</td>\n",
       "      <td>2U4GBNA0YmlixJ6lhgS6xB2tqdo7SEhoYyHlVu18akkAzL...</td>\n",
       "      <td>0</td>\n",
       "      <td>0.000000</td>\n",
       "      <td>170.954788</td>\n",
       "      <td>0</td>\n",
       "      <td>0</td>\n",
       "      <td>Satch</td>\n",
       "      <td>186.999</td>\n",
       "      <td>100004</td>\n",
       "      <td>79</td>\n",
       "      <td>NaN</td>\n",
       "      <td>NaN</td>\n",
       "      <td>NaN</td>\n",
       "      <td>NaN</td>\n",
       "      <td>NaN</td>\n",
       "      <td>NaN</td>\n",
       "      <td>NaN</td>\n",
       "      <td>NaN</td>\n",
       "      <td>NaN</td>\n",
       "    </tr>\n",
       "    <tr>\n",
       "      <th>1</th>\n",
       "      <td>2017-11-19T08:28:59+0000</td>\n",
       "      <td>91</td>\n",
       "      <td>2U4GBNA0YmlixJ6lhgS6xB2tqdo7SEhoYyHlVu18akkAzL...</td>\n",
       "      <td>0</td>\n",
       "      <td>0.000000</td>\n",
       "      <td>66.545590</td>\n",
       "      <td>0</td>\n",
       "      <td>0</td>\n",
       "      <td>osamabinlaggon</td>\n",
       "      <td>124.782</td>\n",
       "      <td>100005</td>\n",
       "      <td>87</td>\n",
       "      <td>NaN</td>\n",
       "      <td>NaN</td>\n",
       "      <td>NaN</td>\n",
       "      <td>NaN</td>\n",
       "      <td>NaN</td>\n",
       "      <td>NaN</td>\n",
       "      <td>NaN</td>\n",
       "      <td>NaN</td>\n",
       "      <td>NaN</td>\n",
       "    </tr>\n",
       "    <tr>\n",
       "      <th>2</th>\n",
       "      <td>2017-11-19T08:28:59+0000</td>\n",
       "      <td>91</td>\n",
       "      <td>2U4GBNA0YmlixJ6lhgS6xB2tqdo7SEhoYyHlVu18akkAzL...</td>\n",
       "      <td>0</td>\n",
       "      <td>728.722656</td>\n",
       "      <td>610.168945</td>\n",
       "      <td>124</td>\n",
       "      <td>0</td>\n",
       "      <td>dengboyu76</td>\n",
       "      <td>839.161</td>\n",
       "      <td>100006</td>\n",
       "      <td>35</td>\n",
       "      <td>NaN</td>\n",
       "      <td>NaN</td>\n",
       "      <td>NaN</td>\n",
       "      <td>NaN</td>\n",
       "      <td>NaN</td>\n",
       "      <td>NaN</td>\n",
       "      <td>NaN</td>\n",
       "      <td>NaN</td>\n",
       "      <td>NaN</td>\n",
       "    </tr>\n",
       "    <tr>\n",
       "      <th>3</th>\n",
       "      <td>2017-11-19T08:28:59+0000</td>\n",
       "      <td>91</td>\n",
       "      <td>2U4GBNA0YmlixJ6lhgS6xB2tqdo7SEhoYyHlVu18akkAzL...</td>\n",
       "      <td>0</td>\n",
       "      <td>2646.184000</td>\n",
       "      <td>1431.292000</td>\n",
       "      <td>24</td>\n",
       "      <td>0</td>\n",
       "      <td>GOGingmimi</td>\n",
       "      <td>751.716</td>\n",
       "      <td>100007</td>\n",
       "      <td>46</td>\n",
       "      <td>NaN</td>\n",
       "      <td>NaN</td>\n",
       "      <td>NaN</td>\n",
       "      <td>NaN</td>\n",
       "      <td>NaN</td>\n",
       "      <td>NaN</td>\n",
       "      <td>NaN</td>\n",
       "      <td>NaN</td>\n",
       "      <td>NaN</td>\n",
       "    </tr>\n",
       "    <tr>\n",
       "      <th>4</th>\n",
       "      <td>2017-11-19T08:28:59+0000</td>\n",
       "      <td>91</td>\n",
       "      <td>2U4GBNA0YmlixJ6lhgS6xB2tqdo7SEhoYyHlVu18akkAzL...</td>\n",
       "      <td>0</td>\n",
       "      <td>0.000000</td>\n",
       "      <td>723.102300</td>\n",
       "      <td>100</td>\n",
       "      <td>1</td>\n",
       "      <td>AtomicBrunette</td>\n",
       "      <td>744.088</td>\n",
       "      <td>100011</td>\n",
       "      <td>47</td>\n",
       "      <td>M16A4</td>\n",
       "      <td>47.0</td>\n",
       "      <td>296314.6</td>\n",
       "      <td>302359.5</td>\n",
       "      <td>297.0</td>\n",
       "      <td>DzzzZZZZP</td>\n",
       "      <td>66.0</td>\n",
       "      <td>295531.2</td>\n",
       "      <td>304050.2</td>\n",
       "    </tr>\n",
       "  </tbody>\n",
       "</table>\n",
       "</div>"
      ],
      "text/plain": [
       "                       date  game_size  \\\n",
       "0  2017-11-19T08:28:59+0000         91   \n",
       "1  2017-11-19T08:28:59+0000         91   \n",
       "2  2017-11-19T08:28:59+0000         91   \n",
       "3  2017-11-19T08:28:59+0000         91   \n",
       "4  2017-11-19T08:28:59+0000         91   \n",
       "\n",
       "                                            match_id  player_assists  \\\n",
       "0  2U4GBNA0YmlixJ6lhgS6xB2tqdo7SEhoYyHlVu18akkAzL...               0   \n",
       "1  2U4GBNA0YmlixJ6lhgS6xB2tqdo7SEhoYyHlVu18akkAzL...               0   \n",
       "2  2U4GBNA0YmlixJ6lhgS6xB2tqdo7SEhoYyHlVu18akkAzL...               0   \n",
       "3  2U4GBNA0YmlixJ6lhgS6xB2tqdo7SEhoYyHlVu18akkAzL...               0   \n",
       "4  2U4GBNA0YmlixJ6lhgS6xB2tqdo7SEhoYyHlVu18akkAzL...               0   \n",
       "\n",
       "   player_dist_ride  player_dist_walk  player_dmg  player_kills  \\\n",
       "0          0.000000        170.954788           0             0   \n",
       "1          0.000000         66.545590           0             0   \n",
       "2        728.722656        610.168945         124             0   \n",
       "3       2646.184000       1431.292000          24             0   \n",
       "4          0.000000        723.102300         100             1   \n",
       "\n",
       "      player_name  player_survive_time  team_id  team_placement killed_by  \\\n",
       "0           Satch              186.999   100004              79       NaN   \n",
       "1  osamabinlaggon              124.782   100005              87       NaN   \n",
       "2      dengboyu76              839.161   100006              35       NaN   \n",
       "3      GOGingmimi              751.716   100007              46       NaN   \n",
       "4  AtomicBrunette              744.088   100011              47     M16A4   \n",
       "\n",
       "   killer_placement  killer_position_x  killer_position_y   time victim_name  \\\n",
       "0               NaN                NaN                NaN    NaN         NaN   \n",
       "1               NaN                NaN                NaN    NaN         NaN   \n",
       "2               NaN                NaN                NaN    NaN         NaN   \n",
       "3               NaN                NaN                NaN    NaN         NaN   \n",
       "4              47.0           296314.6           302359.5  297.0   DzzzZZZZP   \n",
       "\n",
       "   victim_placement  victim_position_x  victim_position_y  \n",
       "0               NaN                NaN                NaN  \n",
       "1               NaN                NaN                NaN  \n",
       "2               NaN                NaN                NaN  \n",
       "3               NaN                NaN                NaN  \n",
       "4              66.0           295531.2           304050.2  "
      ]
     },
     "execution_count": 26,
     "metadata": {},
     "output_type": "execute_result"
    }
   ],
   "source": [
    "pd.set_option('display.max_columns', None)\n",
    "E_solo_T.head(5)"
   ]
  },
  {
   "cell_type": "markdown",
   "id": "484360be-5108-44e0-85f2-94696b231ebf",
   "metadata": {},
   "source": [
    "### NA 확인"
   ]
  },
  {
   "cell_type": "markdown",
   "id": "4cbb8389-ca67-4abf-94d7-4cf781f8446e",
   "metadata": {},
   "source": [
    "#### E_solo Na 확인"
   ]
  },
  {
   "cell_type": "code",
   "execution_count": 75,
   "id": "db0eb64f-a89d-42ab-8c32-4212750c6d8d",
   "metadata": {},
   "outputs": [],
   "source": [
    "E_solo_T = E_solo_T.loc[E_solo_T['player_name'].isna() == False]"
   ]
  },
  {
   "cell_type": "markdown",
   "id": "0157bfa7-4738-4de9-bf1a-85d3a1a006d2",
   "metadata": {},
   "source": [
    "#### M_solo Na 확인"
   ]
  },
  {
   "cell_type": "code",
   "execution_count": 76,
   "id": "d713a014-0d71-4415-a7ee-4632dcf0749d",
   "metadata": {},
   "outputs": [],
   "source": [
    "M_solo_T = M_solo_T.loc[M_solo_T['player_name'].isna() == False]"
   ]
  },
  {
   "cell_type": "markdown",
   "id": "58764fd4-3f6f-4553-8cd1-687aae96118b",
   "metadata": {},
   "source": [
    "### Outlier 확인"
   ]
  },
  {
   "cell_type": "markdown",
   "id": "02b0592d-c3d0-4a43-bed1-2078b05c68a9",
   "metadata": {},
   "source": [
    "#### 1. E_solo Outlier 확인"
   ]
  },
  {
   "cell_type": "markdown",
   "id": "f48145c9-167a-405a-b9e8-a7b949daf519",
   "metadata": {},
   "source": [
    "##### 1. game_size 확인"
   ]
  },
  {
   "cell_type": "code",
   "execution_count": 30,
   "id": "72c3585d-d5ad-477c-97d9-3138dce960db",
   "metadata": {
    "collapsed": true,
    "jupyter": {
     "outputs_hidden": true
    },
    "tags": []
   },
   "outputs": [
    {
     "data": {
      "image/png": "[encoded data removed]",
      "text/plain": [
       "<Figure size 720x432 with 1 Axes>"
      ]
     },
     "metadata": {
      "needs_background": "light"
     },
     "output_type": "display_data"
    }
   ],
   "source": [
    "plt.figure(figsize = (10, 6))\n",
    "_ = plt.hist(E_solo_T['game_size'])"
   ]
  },
  {
   "cell_type": "code",
   "execution_count": 31,
   "id": "d4aa1de5-2e87-41e3-9e8a-56be7f8dc4ba",
   "metadata": {
    "collapsed": true,
    "jupyter": {
     "outputs_hidden": true
    },
    "tags": []
   },
   "outputs": [
    {
     "data": {
      "image/png": "[encoded data removed]",
      "text/plain": [
       "<Figure size 432x288 with 1 Axes>"
      ]
     },
     "metadata": {
      "needs_background": "light"
     },
     "output_type": "display_data"
    }
   ],
   "source": [
    "_ = sns.boxplot(x = 'game_size', data = E_solo_T)"
   ]
  },
  {
   "cell_type": "code",
   "execution_count": 32,
   "id": "81d3946e-1044-426b-9a22-157f89857b7c",
   "metadata": {},
   "outputs": [],
   "source": [
    "# game_size가 50 미만인 경우는 outlier로 판단?"
   ]
  },
  {
   "cell_type": "markdown",
   "id": "3ad2bd90-b983-47b3-8dfd-0edba93052bc",
   "metadata": {},
   "source": [
    "##### 2. player_assists 확인"
   ]
  },
  {
   "cell_type": "code",
   "execution_count": 33,
   "id": "20f3e7d9-b778-4e11-8dc8-24b7ac46b377",
   "metadata": {
    "collapsed": true,
    "jupyter": {
     "outputs_hidden": true
    },
    "tags": []
   },
   "outputs": [
    {
     "data": {
      "image/png": "[encoded data removed]",
      "text/plain": [
       "<Figure size 720x432 with 1 Axes>"
      ]
     },
     "metadata": {
      "needs_background": "light"
     },
     "output_type": "display_data"
    }
   ],
   "source": [
    "plt.figure(figsize = (10, 6))\n",
    "_ = plt.hist(E_solo_T['player_assists'])"
   ]
  },
  {
   "cell_type": "code",
   "execution_count": 34,
   "id": "6e66a46f-8a2d-4dd5-aa69-d878aa67241f",
   "metadata": {
    "collapsed": true,
    "jupyter": {
     "outputs_hidden": true
    },
    "tags": []
   },
   "outputs": [
    {
     "data": {
      "image/png": "[encoded data removed]",
      "text/plain": [
       "<Figure size 432x288 with 1 Axes>"
      ]
     },
     "metadata": {
      "needs_background": "light"
     },
     "output_type": "display_data"
    }
   ],
   "source": [
    "_ = sns.boxplot(x = 'player_assists', data = E_solo_T)"
   ]
  },
  {
   "cell_type": "code",
   "execution_count": 35,
   "id": "2a229ee6-228b-4173-95b6-14bc7667664a",
   "metadata": {},
   "outputs": [],
   "source": [
    "# solo 게임에서는 assist가 발생할 수 없으므로 0이 아닌 값은 outlier -> assist가 1값만 가지게 되므로 컬럼 drop"
   ]
  },
  {
   "cell_type": "markdown",
   "id": "2829c5ee-8073-4b7a-8807-301504e9ca19",
   "metadata": {},
   "source": [
    "##### 3. player_dist_ride 확인"
   ]
  },
  {
   "cell_type": "code",
   "execution_count": 36,
   "id": "550072b4-b7b2-482c-afdc-7f2ff9a12791",
   "metadata": {
    "collapsed": true,
    "jupyter": {
     "outputs_hidden": true
    },
    "tags": []
   },
   "outputs": [
    {
     "data": {
      "image/png": "[encoded data removed]",
      "text/plain": [
       "<Figure size 720x432 with 1 Axes>"
      ]
     },
     "metadata": {
      "needs_background": "light"
     },
     "output_type": "display_data"
    }
   ],
   "source": [
    "plt.figure(figsize = (10, 6))\n",
    "_ = plt.hist(E_solo_T['player_dist_ride'])"
   ]
  },
  {
   "cell_type": "code",
   "execution_count": 37,
   "id": "69609963-000c-41b1-a141-9a7c521af4dc",
   "metadata": {},
   "outputs": [
    {
     "data": {
      "text/plain": [
       "63647875100.0"
      ]
     },
     "execution_count": 37,
     "metadata": {},
     "output_type": "execute_result"
    }
   ],
   "source": [
    "E_solo_T['player_survive_time'].max()"
   ]
  },
  {
   "cell_type": "code",
   "execution_count": 38,
   "id": "028d9adb-202f-492f-a37e-45468e0e59a2",
   "metadata": {},
   "outputs": [
    {
     "data": {
      "text/plain": [
       "2218.204"
      ]
     },
     "execution_count": 38,
     "metadata": {},
     "output_type": "execute_result"
    }
   ],
   "source": [
    "M_solo_T['player_survive_time'].max()"
   ]
  },
  {
   "cell_type": "code",
   "execution_count": 39,
   "id": "43a1e7c5-ab95-46ba-9335-92d98a9e4bf6",
   "metadata": {
    "collapsed": true,
    "jupyter": {
     "outputs_hidden": true
    },
    "tags": []
   },
   "outputs": [
    {
     "data": {
      "image/png": "[encoded data removed]",
      "text/plain": [
       "<Figure size 432x288 with 1 Axes>"
      ]
     },
     "metadata": {
      "needs_background": "light"
     },
     "output_type": "display_data"
    }
   ],
   "source": [
    "_ = sns.boxplot(x = 'player_dist_ride', data = E_solo_T)"
   ]
  },
  {
   "cell_type": "code",
   "execution_count": 40,
   "id": "20d7ef2b-8783-479b-a5ed-0ede04cba96d",
   "metadata": {},
   "outputs": [],
   "source": [
    "# dist 컬럼들은 더욱 자세한 회의가 필요하다고 생각"
   ]
  },
  {
   "cell_type": "markdown",
   "id": "9376c719-e120-48a2-a12d-536f98972bed",
   "metadata": {},
   "source": [
    "##### 4. player_dist_walk 확인"
   ]
  },
  {
   "cell_type": "code",
   "execution_count": 41,
   "id": "4f270ee3-c7ce-41ae-ab5c-bb7b349b0b71",
   "metadata": {
    "collapsed": true,
    "jupyter": {
     "outputs_hidden": true
    },
    "tags": []
   },
   "outputs": [
    {
     "data": {
      "image/png": "[encoded data removed]",
      "text/plain": [
       "<Figure size 720x432 with 1 Axes>"
      ]
     },
     "metadata": {
      "needs_background": "light"
     },
     "output_type": "display_data"
    }
   ],
   "source": [
    "plt.figure(figsize = (10, 6))\n",
    "_ = plt.hist(E_solo_T['player_dist_walk'])"
   ]
  },
  {
   "cell_type": "code",
   "execution_count": 42,
   "id": "f337eea3-0839-4694-9edd-b7daa2d4cded",
   "metadata": {
    "collapsed": true,
    "jupyter": {
     "outputs_hidden": true
    },
    "tags": []
   },
   "outputs": [
    {
     "data": {
      "image/png": "[encoded data removed]",
      "text/plain": [
       "<Figure size 432x288 with 1 Axes>"
      ]
     },
     "metadata": {
      "needs_background": "light"
     },
     "output_type": "display_data"
    }
   ],
   "source": [
    "_ = sns.boxplot(x = 'player_dist_walk', data = E_solo_T)"
   ]
  },
  {
   "cell_type": "code",
   "execution_count": 43,
   "id": "8ee4361a-86fd-4eb9-b7d2-470dd05abe54",
   "metadata": {},
   "outputs": [],
   "source": [
    "# dist 컬럼들은 더욱 자세한 회의가 필요하다고 생각"
   ]
  },
  {
   "cell_type": "markdown",
   "id": "d3038467-8b13-41de-a45b-a8f16f15b0fa",
   "metadata": {},
   "source": [
    "##### 5. player_dmg 확인"
   ]
  },
  {
   "cell_type": "code",
   "execution_count": 44,
   "id": "3b065e7c-8a65-4297-a4f4-76771c2e2330",
   "metadata": {
    "collapsed": true,
    "jupyter": {
     "outputs_hidden": true
    },
    "tags": []
   },
   "outputs": [
    {
     "data": {
      "image/png": "[encoded data removed]",
      "text/plain": [
       "<Figure size 720x432 with 1 Axes>"
      ]
     },
     "metadata": {
      "needs_background": "light"
     },
     "output_type": "display_data"
    }
   ],
   "source": [
    "plt.figure(figsize = (10, 6))\n",
    "_ = plt.hist(E_solo_T['player_dmg'])"
   ]
  },
  {
   "cell_type": "code",
   "execution_count": 45,
   "id": "3e72de2a-0ff5-4b16-8e30-8c289f82f5c4",
   "metadata": {
    "collapsed": true,
    "jupyter": {
     "outputs_hidden": true
    },
    "tags": []
   },
   "outputs": [
    {
     "data": {
      "image/png": "[encoded data removed]",
      "text/plain": [
       "<Figure size 432x288 with 1 Axes>"
      ]
     },
     "metadata": {
      "needs_background": "light"
     },
     "output_type": "display_data"
    }
   ],
   "source": [
    "_ = sns.boxplot(x = 'player_dmg', data = E_solo_T)"
   ]
  },
  {
   "cell_type": "code",
   "execution_count": 46,
   "id": "4226a175-5f0e-408b-bc54-96dc92a5305a",
   "metadata": {},
   "outputs": [],
   "source": [
    "# player_kills에서 아웃라이어라고 판단하지 않은 유저들의 player_dmg값만 선택하여 outlier처리?"
   ]
  },
  {
   "cell_type": "markdown",
   "id": "c01e685b-456b-43bc-9511-420ea6579569",
   "metadata": {},
   "source": [
    "##### 6. player_kills 확인"
   ]
  },
  {
   "cell_type": "code",
   "execution_count": 47,
   "id": "7b411620-3e59-4d23-a63b-d75b7690b3bf",
   "metadata": {
    "collapsed": true,
    "jupyter": {
     "outputs_hidden": true
    },
    "tags": []
   },
   "outputs": [
    {
     "data": {
      "image/png": "[encoded data removed]",
      "text/plain": [
       "<Figure size 720x432 with 1 Axes>"
      ]
     },
     "metadata": {
      "needs_background": "light"
     },
     "output_type": "display_data"
    }
   ],
   "source": [
    "plt.figure(figsize = (10, 6))\n",
    "_ = plt.hist(E_solo_T['player_kills'])"
   ]
  },
  {
   "cell_type": "code",
   "execution_count": 48,
   "id": "b45bd51d-f6be-460b-a45d-e95d8f52b512",
   "metadata": {
    "collapsed": true,
    "jupyter": {
     "outputs_hidden": true
    },
    "tags": []
   },
   "outputs": [
    {
     "data": {
      "image/png": "[encoded data removed]",
      "text/plain": [
       "<Figure size 432x288 with 1 Axes>"
      ]
     },
     "metadata": {
      "needs_background": "light"
     },
     "output_type": "display_data"
    }
   ],
   "source": [
    "_ = sns.boxplot(x = 'player_kills', data = E_solo_T)"
   ]
  },
  {
   "cell_type": "code",
   "execution_count": 49,
   "id": "1bca6c4b-c9a7-42c5-824d-607c9c2d70f8",
   "metadata": {},
   "outputs": [],
   "source": [
    "# solo 게임에서 30킬 이상은 프로게이머들도 매우 드문 기록 - 30킬 이상은 outlier?"
   ]
  },
  {
   "cell_type": "markdown",
   "id": "6a69c083-7b32-4557-8620-dd264c5469b6",
   "metadata": {},
   "source": [
    "##### 7. player_survive_time 확인"
   ]
  },
  {
   "cell_type": "code",
   "execution_count": 50,
   "id": "7f02f797-1e30-417d-b977-30b7e0701bc5",
   "metadata": {
    "collapsed": true,
    "jupyter": {
     "outputs_hidden": true
    },
    "tags": []
   },
   "outputs": [
    {
     "data": {
      "image/png": "[encoded data removed]",
      "text/plain": [
       "<Figure size 720x432 with 1 Axes>"
      ]
     },
     "metadata": {
      "needs_background": "light"
     },
     "output_type": "display_data"
    }
   ],
   "source": [
    "plt.figure(figsize = (10, 6))\n",
    "_ = plt.hist(E_solo_T['player_survive_time'])"
   ]
  },
  {
   "cell_type": "code",
   "execution_count": 51,
   "id": "c7f8f05b-c175-40ff-8cfd-1dd7d144df53",
   "metadata": {
    "collapsed": true,
    "jupyter": {
     "outputs_hidden": true
    },
    "tags": []
   },
   "outputs": [
    {
     "data": {
      "image/png": "[encoded data removed]",
      "text/plain": [
       "<Figure size 432x288 with 1 Axes>"
      ]
     },
     "metadata": {
      "needs_background": "light"
     },
     "output_type": "display_data"
    }
   ],
   "source": [
    "_ = sns.boxplot(x = 'player_survive_time', data = E_solo_T)"
   ]
  },
  {
   "cell_type": "code",
   "execution_count": 52,
   "id": "be1fc5cf-c0cf-496f-b2df-5fd3f27386ba",
   "metadata": {},
   "outputs": [],
   "source": [
    "# 값 하나가 너무 동떨어진 값이라 outlier로 판단"
   ]
  },
  {
   "cell_type": "markdown",
   "id": "f815ee42-c54f-404e-88e5-bca8edaa8c6f",
   "metadata": {},
   "source": [
    "#### 2. M_solo Outlier 확인"
   ]
  },
  {
   "cell_type": "markdown",
   "id": "3ab0f4b8-5b52-414a-8423-0eb807a8e773",
   "metadata": {},
   "source": [
    "##### 1. game_size 확인"
   ]
  },
  {
   "cell_type": "code",
   "execution_count": 53,
   "id": "e46fcfe6-2319-4a69-9030-c8bbb6f098e1",
   "metadata": {
    "collapsed": true,
    "jupyter": {
     "outputs_hidden": true
    },
    "tags": []
   },
   "outputs": [
    {
     "data": {
      "image/png": "[encoded data removed]",
      "text/plain": [
       "<Figure size 720x432 with 1 Axes>"
      ]
     },
     "metadata": {
      "needs_background": "light"
     },
     "output_type": "display_data"
    }
   ],
   "source": [
    "plt.figure(figsize = (10, 6))\n",
    "_ = plt.hist(M_solo_T['game_size'])"
   ]
  },
  {
   "cell_type": "code",
   "execution_count": 54,
   "id": "9f37a5ed-e904-4c8c-92ee-76be8858ae99",
   "metadata": {
    "collapsed": true,
    "jupyter": {
     "outputs_hidden": true
    },
    "tags": []
   },
   "outputs": [
    {
     "data": {
      "image/png": "[encoded data removed]",
      "text/plain": [
       "<Figure size 432x288 with 1 Axes>"
      ]
     },
     "metadata": {
      "needs_background": "light"
     },
     "output_type": "display_data"
    }
   ],
   "source": [
    "_ = sns.boxplot(x = 'game_size', data = M_solo_T)"
   ]
  },
  {
   "cell_type": "code",
   "execution_count": 55,
   "id": "8e91f316-13ef-4f56-9dd7-e2b305177408",
   "metadata": {},
   "outputs": [],
   "source": [
    "# game_size가 50 미만인 경우는 outlier로 판단?"
   ]
  },
  {
   "cell_type": "markdown",
   "id": "3eac093a-9ec1-4122-9f52-315f3a8af750",
   "metadata": {},
   "source": [
    "##### 2. player_assists 확인"
   ]
  },
  {
   "cell_type": "code",
   "execution_count": 56,
   "id": "e9f38b83-b914-4daa-ba8f-52184203192e",
   "metadata": {
    "collapsed": true,
    "jupyter": {
     "outputs_hidden": true
    },
    "tags": []
   },
   "outputs": [
    {
     "data": {
      "image/png": "[encoded data removed]",
      "text/plain": [
       "<Figure size 720x432 with 1 Axes>"
      ]
     },
     "metadata": {
      "needs_background": "light"
     },
     "output_type": "display_data"
    }
   ],
   "source": [
    "plt.figure(figsize = (10, 6))\n",
    "_ = plt.hist(M_solo_T['player_assists'])"
   ]
  },
  {
   "cell_type": "code",
   "execution_count": 57,
   "id": "7ec620b1-81aa-4c9b-b85b-5fa5652183ea",
   "metadata": {
    "collapsed": true,
    "jupyter": {
     "outputs_hidden": true
    },
    "tags": []
   },
   "outputs": [
    {
     "data": {
      "image/png": "[encoded data removed]",
      "text/plain": [
       "<Figure size 432x288 with 1 Axes>"
      ]
     },
     "metadata": {
      "needs_background": "light"
     },
     "output_type": "display_data"
    }
   ],
   "source": [
    "_ = sns.boxplot(x = 'player_assists', data = M_solo_T)"
   ]
  },
  {
   "cell_type": "code",
   "execution_count": 58,
   "id": "7f463973-ed4a-4cff-af46-a3a96f1d591c",
   "metadata": {},
   "outputs": [],
   "source": [
    "# solo 게임에서는 assist가 발생할 수 없으므로 0이 아닌 값은 outlier -> assist가 1값만 가지게 되므로 컬럼 drop"
   ]
  },
  {
   "cell_type": "markdown",
   "id": "b03eab0d-95cb-4265-9da8-cf1b8ea46ebb",
   "metadata": {},
   "source": [
    "##### 3. player_dist_ride 확인"
   ]
  },
  {
   "cell_type": "code",
   "execution_count": 59,
   "id": "a988cba1-fe4e-4d06-82e7-aacdf7541ba6",
   "metadata": {
    "collapsed": true,
    "jupyter": {
     "outputs_hidden": true
    },
    "tags": []
   },
   "outputs": [
    {
     "data": {
      "image/png": "[encoded data removed]",
      "text/plain": [
       "<Figure size 720x432 with 1 Axes>"
      ]
     },
     "metadata": {
      "needs_background": "light"
     },
     "output_type": "display_data"
    }
   ],
   "source": [
    "plt.figure(figsize = (10, 6))\n",
    "_ = plt.hist(M_solo_T['player_dist_ride'])"
   ]
  },
  {
   "cell_type": "code",
   "execution_count": 60,
   "id": "8726adbf-14d2-49e4-9ee3-7e855e8d7d4d",
   "metadata": {
    "collapsed": true,
    "jupyter": {
     "outputs_hidden": true
    },
    "tags": []
   },
   "outputs": [
    {
     "data": {
      "image/png": "[encoded data removed]",
      "text/plain": [
       "<Figure size 432x288 with 1 Axes>"
      ]
     },
     "metadata": {
      "needs_background": "light"
     },
     "output_type": "display_data"
    }
   ],
   "source": [
    "_ = sns.boxplot(x = 'player_dist_ride', data = M_solo_T)"
   ]
  },
  {
   "cell_type": "code",
   "execution_count": 61,
   "id": "4fc837fd-46bc-4d44-a5d4-5da52751c6a2",
   "metadata": {},
   "outputs": [],
   "source": [
    "# dist 컬럼들은 더욱 자세한 회의가 필요하다고 생각"
   ]
  },
  {
   "cell_type": "markdown",
   "id": "fe8bf4c7-b5a6-4704-91e3-dd5b42e86267",
   "metadata": {},
   "source": [
    "##### 4. player_dist_walk 확인"
   ]
  },
  {
   "cell_type": "code",
   "execution_count": 62,
   "id": "05ccb936-453b-4cfe-bb33-01f9a53e0547",
   "metadata": {
    "collapsed": true,
    "jupyter": {
     "outputs_hidden": true
    },
    "tags": []
   },
   "outputs": [
    {
     "data": {
      "image/png": "[encoded data removed]",
      "text/plain": [
       "<Figure size 720x432 with 1 Axes>"
      ]
     },
     "metadata": {
      "needs_background": "light"
     },
     "output_type": "display_data"
    }
   ],
   "source": [
    "plt.figure(figsize = (10, 6))\n",
    "_ = plt.hist(M_solo_T['player_dist_walk'])"
   ]
  },
  {
   "cell_type": "code",
   "execution_count": 63,
   "id": "223fa2bd-4aaf-4536-b601-c778968f7148",
   "metadata": {
    "collapsed": true,
    "jupyter": {
     "outputs_hidden": true
    },
    "tags": []
   },
   "outputs": [
    {
     "data": {
      "image/png": "[encoded data removed]",
      "text/plain": [
       "<Figure size 432x288 with 1 Axes>"
      ]
     },
     "metadata": {
      "needs_background": "light"
     },
     "output_type": "display_data"
    }
   ],
   "source": [
    "_ = sns.boxplot(x = 'player_dist_walk', data = M_solo_T)"
   ]
  },
  {
   "cell_type": "code",
   "execution_count": 64,
   "id": "05230e15-d702-4f3c-b021-58aaeea8b43a",
   "metadata": {},
   "outputs": [],
   "source": [
    "# dist 컬럼들은 더욱 자세한 회의가 필요하다고 생각"
   ]
  },
  {
   "cell_type": "markdown",
   "id": "957bc6f3-79d0-4d2c-8768-db266005229d",
   "metadata": {},
   "source": [
    "##### 5. player_dmg 확인"
   ]
  },
  {
   "cell_type": "code",
   "execution_count": 65,
   "id": "1325a62c-7563-42d4-baee-58d68ed5fd05",
   "metadata": {
    "collapsed": true,
    "jupyter": {
     "outputs_hidden": true
    },
    "tags": []
   },
   "outputs": [
    {
     "data": {
      "image/png": "[encoded data removed]",
      "text/plain": [
       "<Figure size 720x432 with 1 Axes>"
      ]
     },
     "metadata": {
      "needs_background": "light"
     },
     "output_type": "display_data"
    }
   ],
   "source": [
    "plt.figure(figsize = (10, 6))\n",
    "_ = plt.hist(M_solo_T['player_dmg'])"
   ]
  },
  {
   "cell_type": "code",
   "execution_count": 66,
   "id": "f3fa40ad-2ff1-4696-a767-1a40c211c5cd",
   "metadata": {
    "collapsed": true,
    "jupyter": {
     "outputs_hidden": true
    },
    "tags": []
   },
   "outputs": [
    {
     "data": {
      "image/png": "[encoded data removed]",
      "text/plain": [
       "<Figure size 432x288 with 1 Axes>"
      ]
     },
     "metadata": {
      "needs_background": "light"
     },
     "output_type": "display_data"
    }
   ],
   "source": [
    "_ = sns.boxplot(x = 'player_dmg', data = M_solo_T)"
   ]
  },
  {
   "cell_type": "code",
   "execution_count": 67,
   "id": "392d6ffa-4a9e-4433-995d-cc16bcdea212",
   "metadata": {},
   "outputs": [],
   "source": [
    "# player_kills에서 아웃라이어라고 판단하지 않은 유저들의 player_dmg값만 선택하여 outlier처리?"
   ]
  },
  {
   "cell_type": "markdown",
   "id": "629dbb55-f9a2-479b-860a-d663bdb3c6cc",
   "metadata": {},
   "source": [
    "##### 6. player_kills 확인"
   ]
  },
  {
   "cell_type": "code",
   "execution_count": 68,
   "id": "184f454a-309c-47a3-8950-5052713afdf0",
   "metadata": {
    "collapsed": true,
    "jupyter": {
     "outputs_hidden": true
    },
    "tags": []
   },
   "outputs": [
    {
     "data": {
      "image/png": "[encoded data removed]",
      "text/plain": [
       "<Figure size 720x432 with 1 Axes>"
      ]
     },
     "metadata": {
      "needs_background": "light"
     },
     "output_type": "display_data"
    }
   ],
   "source": [
    "plt.figure(figsize = (10, 6))\n",
    "_ = plt.hist(M_solo_T['player_kills'])"
   ]
  },
  {
   "cell_type": "code",
   "execution_count": 69,
   "id": "8df76efd-c3d5-4e21-b080-567264f34668",
   "metadata": {
    "collapsed": true,
    "jupyter": {
     "outputs_hidden": true
    },
    "tags": []
   },
   "outputs": [
    {
     "data": {
      "image/png": "[encoded data removed]",
      "text/plain": [
       "<Figure size 432x288 with 1 Axes>"
      ]
     },
     "metadata": {
      "needs_background": "light"
     },
     "output_type": "display_data"
    }
   ],
   "source": [
    "_ = sns.boxplot(x = 'player_kills', data = M_solo_T)"
   ]
  },
  {
   "cell_type": "code",
   "execution_count": 70,
   "id": "6c714c50-bde6-404b-bbb5-7c08544370b0",
   "metadata": {},
   "outputs": [],
   "source": [
    "# solo 게임에서 30킬 이상은 프로게이머들도 매우 드문 기록 - 30킬 이상은 outlier?"
   ]
  },
  {
   "cell_type": "markdown",
   "id": "f88c0378-1097-473e-8f5e-670b917ed00a",
   "metadata": {},
   "source": [
    "##### 7. player_survive_time 확인"
   ]
  },
  {
   "cell_type": "code",
   "execution_count": 71,
   "id": "13441b02-245a-4626-a9fe-693e0e024d02",
   "metadata": {
    "collapsed": true,
    "jupyter": {
     "outputs_hidden": true
    },
    "tags": []
   },
   "outputs": [
    {
     "data": {
      "image/png": "[encoded data removed]",
      "text/plain": [
       "<Figure size 720x432 with 1 Axes>"
      ]
     },
     "metadata": {
      "needs_background": "light"
     },
     "output_type": "display_data"
    }
   ],
   "source": [
    "plt.figure(figsize = (10, 6))\n",
    "_ = plt.hist(M_solo_T['player_survive_time'])"
   ]
  },
  {
   "cell_type": "code",
   "execution_count": 72,
   "id": "ad931233-ec8d-4a5a-a609-fca48714477b",
   "metadata": {
    "collapsed": true,
    "jupyter": {
     "outputs_hidden": true
    },
    "tags": []
   },
   "outputs": [
    {
     "data": {
      "image/png": "[encoded data removed]",
      "text/plain": [
       "<Figure size 432x288 with 1 Axes>"
      ]
     },
     "metadata": {
      "needs_background": "light"
     },
     "output_type": "display_data"
    }
   ],
   "source": [
    "_ = sns.boxplot(x = 'player_survive_time', data = M_solo_T)"
   ]
  },
  {
   "cell_type": "code",
   "execution_count": 73,
   "id": "c509f7c3-3137-4c84-8a03-5dfd96ba6564",
   "metadata": {},
   "outputs": [],
   "source": [
    "# 이상치가 없다고 판단 - 신기한 데이터? "
   ]
  },
  {
   "cell_type": "markdown",
   "id": "c62b52e1-3e5b-484f-a170-99f22b529a14",
   "metadata": {},
   "source": [
    "### Outlier 분리"
   ]
  },
  {
   "cell_type": "markdown",
   "id": "cd883dc3-9a0d-460b-a91a-535c491a1fa6",
   "metadata": {},
   "source": [
    "#### 1. Game_size"
   ]
  },
  {
   "cell_type": "code",
   "execution_count": 77,
   "id": "01bfa69c-7d1b-42cc-9898-d593ddf64e39",
   "metadata": {},
   "outputs": [
    {
     "data": {
      "text/plain": [
       "((653868, 22), 3.822685365905134)"
      ]
     },
     "execution_count": 77,
     "metadata": {},
     "output_type": "execute_result"
    }
   ],
   "source": [
    "E_solo_T.loc[E_solo_T['game_size'] < 80]\n",
    "E_solo_T.loc[E_solo_T['game_size'] < 80].shape, E_solo_T.loc[E_solo_T['game_size'] < 80].shape[0] / E_solo_T.shape[0] * 100\n",
    "# ERANGEL의 game_size 변수의 아웃라이어는 653868개 / 비율은 3.822685365905134%"
   ]
  },
  {
   "cell_type": "code",
   "execution_count": 78,
   "id": "ad722907-fe73-4b1a-86f7-ee47cfb34747",
   "metadata": {},
   "outputs": [
    {
     "data": {
      "text/plain": [
       "((188778, 22), 6.096173172162043)"
      ]
     },
     "execution_count": 78,
     "metadata": {},
     "output_type": "execute_result"
    }
   ],
   "source": [
    "M_solo_T.loc[M_solo_T['game_size'] < 80]\n",
    "M_solo_T.loc[M_solo_T['game_size'] < 80].shape, M_solo_T.loc[M_solo_T['game_size'] < 80].shape[0] / M_solo_T.shape[0] * 100\n",
    "# MIRAMAR의 game_size 변수의 아웃라이어는 188778 / 비율은 6.096173172162043%"
   ]
  },
  {
   "cell_type": "markdown",
   "id": "dc4d1801-dd17-4cd0-8f19-641dc7bd062b",
   "metadata": {},
   "source": [
    "#### 2. player_dist_walk"
   ]
  },
  {
   "cell_type": "code",
   "execution_count": 79,
   "id": "b4af416d-90db-41dd-b4dd-d3a5cbc184e6",
   "metadata": {},
   "outputs": [
    {
     "data": {
      "text/plain": [
       "((11009, 22), 0.06436152739276066)"
      ]
     },
     "execution_count": 79,
     "metadata": {},
     "output_type": "execute_result"
    }
   ],
   "source": [
    "E_solo_T.loc[E_solo_T['player_dist_walk'] > 10000]\n",
    "E_solo_T.loc[E_solo_T['player_dist_walk'] > 10000].shape, E_solo_T.loc[E_solo_T['player_dist_walk'] > 10000].shape[0] / E_solo_T.shape[0] * 100\n",
    "# player_dist_walk 변수의 아웃라이어는 11009 / 비율은 0.06436152739276066%"
   ]
  },
  {
   "cell_type": "code",
   "execution_count": 80,
   "id": "0280c87a-3c6e-4aa1-8f17-46bade4228ca",
   "metadata": {},
   "outputs": [
    {
     "data": {
      "text/plain": [
       "((117, 22), 0.003778259443065182)"
      ]
     },
     "execution_count": 80,
     "metadata": {},
     "output_type": "execute_result"
    }
   ],
   "source": [
    "M_solo_T.loc[M_solo_T['player_dist_walk'] > 10000]\n",
    "M_solo_T.loc[M_solo_T['player_dist_walk'] > 10000].shape, M_solo_T.loc[M_solo_T['player_dist_walk'] > 10000].shape[0] / M_solo_T.shape[0] * 100\n",
    "# player_dist_walk 변수의 아웃라이어는 117 / 비율은 0.003778259443065182%"
   ]
  },
  {
   "cell_type": "markdown",
   "id": "55adb3bf-04d3-4a11-8efd-2fbb9cdd8cc8",
   "metadata": {},
   "source": [
    "#### player_dist_ride "
   ]
  },
  {
   "cell_type": "code",
   "execution_count": 81,
   "id": "24817c29-5242-4e30-912e-5a3eba64bac2",
   "metadata": {},
   "outputs": [
    {
     "data": {
      "text/plain": [
       "((818, 22), 0.004782244473365266)"
      ]
     },
     "execution_count": 81,
     "metadata": {},
     "output_type": "execute_result"
    }
   ],
   "source": [
    "E_solo_T.loc[E_solo_T['player_dist_ride'] > 30000]\n",
    "E_solo_T.loc[E_solo_T['player_dist_ride'] > 30000].shape, E_solo_T.loc[E_solo_T['player_dist_ride'] > 30000].shape[0] / E_solo_T.shape[0] * 100\n",
    "# player_dist_ride 변수의 아웃라이어는 818 / 비율은 0.004782244473365266%"
   ]
  },
  {
   "cell_type": "code",
   "execution_count": 82,
   "id": "b9935af5-bbb9-44fa-b2d8-f34eb44ae7e2",
   "metadata": {},
   "outputs": [
    {
     "data": {
      "text/plain": [
       "((1, 22), 3.2292815752693865e-05)"
      ]
     },
     "execution_count": 82,
     "metadata": {},
     "output_type": "execute_result"
    }
   ],
   "source": [
    "M_solo_T.loc[M_solo_T['player_dist_ride'] > 30000]\n",
    "M_solo_T.loc[M_solo_T['player_dist_ride'] > 30000].shape, M_solo_T.loc[M_solo_T['player_dist_ride'] > 30000].shape[0] / M_solo_T.shape[0] * 100\n",
    "# player_dist_ride 변수의 아웃라이어는 1 / 비율은 3.2292815752693865e-05%"
   ]
  },
  {
   "cell_type": "markdown",
   "id": "67d0f749-c12f-4a94-850a-eee3192497a3",
   "metadata": {},
   "source": [
    "#### player_dmg "
   ]
  },
  {
   "cell_type": "code",
   "execution_count": 83,
   "id": "65f0331a-6a50-4f86-9c80-1fe8d3dd104d",
   "metadata": {},
   "outputs": [
    {
     "data": {
      "text/plain": [
       "((27611, 22), 0.16142121290230851)"
      ]
     },
     "execution_count": 83,
     "metadata": {},
     "output_type": "execute_result"
    }
   ],
   "source": [
    "E_solo_T.loc[E_solo_T['player_dmg'] > 3000]\n",
    "E_solo_T.loc[E_solo_T['player_dmg'] > 3000].shape, E_solo_T.loc[E_solo_T['player_dmg'] > 3000].shape[0] / E_solo_T.shape[0] * 100\n",
    "# player_dmg 변수의 아웃라이어는 27611 / 비율은 0.16142121290230851%"
   ]
  },
  {
   "cell_type": "code",
   "execution_count": 84,
   "id": "532ecbe0-c1e3-46c2-9f1e-f11a939fb396",
   "metadata": {},
   "outputs": [
    {
     "data": {
      "text/plain": [
       "((759, 22), 0.024510247156294643)"
      ]
     },
     "execution_count": 84,
     "metadata": {},
     "output_type": "execute_result"
    }
   ],
   "source": [
    "M_solo_T.loc[M_solo_T['player_dmg'] > 3000]\n",
    "M_solo_T.loc[M_solo_T['player_dmg'] > 3000].shape, M_solo_T.loc[M_solo_T['player_dmg'] > 3000].shape[0] / M_solo_T.shape[0] * 100\n",
    "# player_dmg 변수의 아웃라이어는 759 / 비율은 0.024510247156294643%"
   ]
  },
  {
   "cell_type": "markdown",
   "id": "92014017-310f-4661-b8ad-d11a01c7de16",
   "metadata": {},
   "source": [
    "#### player_kills "
   ]
  },
  {
   "cell_type": "code",
   "execution_count": 85,
   "id": "6e1ac429-762e-4333-94c8-3db09fda45b6",
   "metadata": {},
   "outputs": [
    {
     "data": {
      "text/plain": [
       "((28645, 22), 0.1674662505373448)"
      ]
     },
     "execution_count": 85,
     "metadata": {},
     "output_type": "execute_result"
    }
   ],
   "source": [
    "E_solo_T.loc[E_solo_T['player_kills'] > 30]\n",
    "E_solo_T.loc[E_solo_T['player_kills'] > 30].shape, E_solo_T.loc[E_solo_T['player_kills'] > 30].shape[0] / E_solo_T.shape[0] * 100\n",
    "# player_kills 변수의 아웃라이어는 28645 / 비율은 0.1674662505373448%"
   ]
  },
  {
   "cell_type": "code",
   "execution_count": 86,
   "id": "51620399-5baf-4c98-8c14-5607bd41bd6d",
   "metadata": {},
   "outputs": [
    {
     "data": {
      "text/plain": [
       "((852, 22), 0.027513479021295174)"
      ]
     },
     "execution_count": 86,
     "metadata": {},
     "output_type": "execute_result"
    }
   ],
   "source": [
    "M_solo_T.loc[M_solo_T['player_kills'] > 30]\n",
    "M_solo_T.loc[M_solo_T['player_kills'] > 30].shape, M_solo_T.loc[M_solo_T['player_kills'] > 30].shape[0] / M_solo_T.shape[0] * 100\n",
    "# player_kills 변수의 아웃라이어는 852 / 비율은 0.027513479021295174%"
   ]
  },
  {
   "cell_type": "markdown",
   "id": "8837361b-0cf4-4d0f-9a2e-8c84bc9a56e8",
   "metadata": {},
   "source": [
    "#### player_survive_time  "
   ]
  },
  {
   "cell_type": "code",
   "execution_count": 87,
   "id": "b96e2d7b-1233-47d6-bcbe-3366e6eb8743",
   "metadata": {},
   "outputs": [
    {
     "data": {
      "text/plain": [
       "((658269, 22), 3.8484147765741814)"
      ]
     },
     "execution_count": 87,
     "metadata": {},
     "output_type": "execute_result"
    }
   ],
   "source": [
    "E_solo_T.loc[E_solo_T['player_survive_time'] > 1900]\n",
    "E_solo_T.loc[E_solo_T['player_survive_time'] > 1900].shape, E_solo_T.loc[E_solo_T['player_survive_time'] > 1900].shape[0] / E_solo_T.shape[0] * 100\n",
    "# player_survive_time 변수의 아웃라이어는 658269 / 비율은 3.8484147765741814%"
   ]
  },
  {
   "cell_type": "code",
   "execution_count": 88,
   "id": "7d478af7-d432-4c9a-ab3d-9468dee7f397",
   "metadata": {},
   "outputs": [
    {
     "data": {
      "text/plain": [
       "((91891, 22), 2.967419132330792)"
      ]
     },
     "execution_count": 88,
     "metadata": {},
     "output_type": "execute_result"
    }
   ],
   "source": [
    "M_solo_T.loc[M_solo_T['player_survive_time'] > 1900]\n",
    "M_solo_T.loc[M_solo_T['player_survive_time'] > 1900].shape, M_solo_T.loc[M_solo_T['player_survive_time'] > 1900].shape[0] / M_solo_T.shape[0] * 100\n",
    "# player_survive_time 변수의 아웃라이어는 91891 / 비율은 2.967419132330792%"
   ]
  },
  {
   "cell_type": "markdown",
   "id": "03ad834f-f3c3-4469-b40a-ca207826470b",
   "metadata": {},
   "source": [
    "#### player_dbno - solo 게임에서는 존재 할 수 없어서 처리하지 않음"
   ]
  },
  {
   "cell_type": "code",
   "execution_count": 89,
   "id": "ec7f261e-d769-4397-9e10-e679691128b1",
   "metadata": {},
   "outputs": [],
   "source": [
    "# E_solo_T.loc[E_solo_T['player_dbno'] > 11].shape[0]\n",
    "# E_solo_T.loc[E_solo_T['player_dbno'] > 11].shape, E_solo_T.loc[E_solo_T['player_dbno'] > 11].shape[0] / E_solo_T.shape[0] * 100"
   ]
  },
  {
   "cell_type": "code",
   "execution_count": 90,
   "id": "230bbec9-495d-4b7c-a71e-cdbc4fd6cc75",
   "metadata": {},
   "outputs": [],
   "source": [
    "# E_solo_T.loc[E_solo_T['player_dbno'] > 11].shape[0]\n",
    "# E_solo_T.loc[E_solo_T['player_dbno'] > 11].shape, E_solo_T.loc[E_solo_T['player_dbno'] > 11].shape[0] / E_solo_T.shape[0] * 100"
   ]
  },
  {
   "cell_type": "markdown",
   "id": "6eb91e79-edec-4959-ad7e-14f36a54a624",
   "metadata": {},
   "source": [
    "#### killer와 victim의 거리 "
   ]
  },
  {
   "cell_type": "code",
   "execution_count": 91,
   "id": "2b211cc1-6e45-42c0-8717-7d46b12b0c26",
   "metadata": {},
   "outputs": [],
   "source": [
    "E_kill_dist = np.sqrt(((E_solo_T['killer_position_x'] - E_solo_T['victim_position_x']) ** 2) + ((E_solo_T['killer_position_y'] - E_solo_T['victim_position_y']) ** 2)) > 40000"
   ]
  },
  {
   "cell_type": "code",
   "execution_count": 92,
   "id": "af46ce77-d1bb-4c02-8cf4-1a2a16e5a079",
   "metadata": {},
   "outputs": [],
   "source": [
    "M_kill_dist = np.sqrt(((M_solo_T['killer_position_x'] - M_solo_T['victim_position_x']) ** 2) + ((M_solo_T['killer_position_y'] - M_solo_T['victim_position_y']) ** 2)) > 40000"
   ]
  },
  {
   "cell_type": "code",
   "execution_count": 93,
   "id": "f9a4bf50-718d-4765-9f56-d7c747ecde58",
   "metadata": {},
   "outputs": [
    {
     "data": {
      "text/plain": [
       "((324923, 22), 1.8995858447668243)"
      ]
     },
     "execution_count": 93,
     "metadata": {},
     "output_type": "execute_result"
    }
   ],
   "source": [
    "E_solo_T.loc[E_kill_dist]\n",
    "E_solo_T.loc[E_kill_dist].shape, E_solo_T.loc[E_kill_dist].shape[0] / E_solo_T.shape[0] * 100\n",
    "# killer와 victim의 거리 아웃라이어는 324923 / 비율은 1.8995858447668243%"
   ]
  },
  {
   "cell_type": "code",
   "execution_count": 94,
   "id": "f853a071-5dfa-4656-bd6d-ea9a2c5155da",
   "metadata": {},
   "outputs": [
    {
     "data": {
      "text/plain": [
       "((51632, 22), 1.6673426629430899)"
      ]
     },
     "execution_count": 94,
     "metadata": {},
     "output_type": "execute_result"
    }
   ],
   "source": [
    "M_solo_T.loc[M_kill_dist]\n",
    "M_solo_T.loc[M_kill_dist].shape, M_solo_T.loc[M_kill_dist].shape[0] / M_solo_T.shape[0] * 100\n",
    "# killer와 victim의 거리 아웃라이어는 51632 / 비율은 1.6673426629430899%"
   ]
  },
  {
   "cell_type": "markdown",
   "id": "84bc68ab-6366-4923-a2c4-b03a0769d2e4",
   "metadata": {},
   "source": [
    "#### Outlier Dataset 만들기"
   ]
  },
  {
   "cell_type": "code",
   "execution_count": 95,
   "id": "b9d7fecc-3252-4ec4-bd38-e61cc8f24962",
   "metadata": {},
   "outputs": [],
   "source": [
    "E_solo_outlier = pd.concat([E_solo_T.loc[E_solo_T['game_size'] < 80], E_solo_T.loc[E_solo_T['player_dist_walk'] > 10000]\n",
    "                           , E_solo_T.loc[E_solo_T['player_dist_ride'] > 30000], E_solo_T.loc[E_solo_T['player_dmg'] > 3000]\n",
    "                           , E_solo_T.loc[E_solo_T['player_kills'] > 30], E_solo_T.loc[E_solo_T['player_survive_time'] > 1900]\n",
    "                           , E_solo_T.loc[E_kill_dist]])"
   ]
  },
  {
   "cell_type": "code",
   "execution_count": 96,
   "id": "be4abcd3-7d8d-4ede-9ff8-89db19266d9d",
   "metadata": {},
   "outputs": [],
   "source": [
    "M_solo_outlier = pd.concat([M_solo_T.loc[M_solo_T['game_size'] < 80], M_solo_T.loc[M_solo_T['player_dist_walk'] > 10000]\n",
    "                           , M_solo_T.loc[M_solo_T['player_dist_ride'] > 30000], M_solo_T.loc[M_solo_T['player_dmg'] > 3000]\n",
    "                           , M_solo_T.loc[M_solo_T['player_kills'] > 30], M_solo_T.loc[M_solo_T['player_survive_time'] > 1900]\n",
    "                           , M_solo_T.loc[M_kill_dist]])"
   ]
  },
  {
   "cell_type": "code",
   "execution_count": 97,
   "id": "a687598d-13f0-4817-b03c-83226aa7603e",
   "metadata": {},
   "outputs": [
    {
     "data": {
      "text/plain": [
       "((1705143, 22), (334030, 22))"
      ]
     },
     "execution_count": 97,
     "metadata": {},
     "output_type": "execute_result"
    }
   ],
   "source": [
    "E_solo_outlier.shape, M_solo_outlier.shape"
   ]
  },
  {
   "cell_type": "code",
   "execution_count": 98,
   "id": "7c844461-6e91-407e-82e7-e03374f8d2eb",
   "metadata": {},
   "outputs": [],
   "source": [
    "# ERANGEL의 Outlier는 1705143개, MIRAMAR의 Outlier는 334030개"
   ]
  },
  {
   "cell_type": "markdown",
   "id": "582d9573-63eb-41ba-b31f-7039dbc97a6f",
   "metadata": {},
   "source": [
    "#### Outlier를 제거한 Dataset 만들기"
   ]
  },
  {
   "cell_type": "code",
   "execution_count": 99,
   "id": "005a3333-778a-48eb-aa36-58b90289ce4d",
   "metadata": {},
   "outputs": [],
   "source": [
    "E_solo_T = E_solo_T.loc[E_solo_T['game_size'] >= 80]\n",
    "E_solo_T = E_solo_T.loc[E_solo_T['player_dist_walk'] <= 10000]\n",
    "E_solo_T = E_solo_T.loc[E_solo_T['player_dist_ride'] <= 30000]\n",
    "E_solo_T = E_solo_T.loc[E_solo_T['player_dmg'] <= 3000]\n",
    "E_solo_T = E_solo_T.loc[E_solo_T['player_kills'] <= 30]\n",
    "E_solo_T = E_solo_T.loc[E_solo_T['player_survive_time'] <= 1900]\n",
    "E_solo_T = E_solo_T.loc[-E_kill_dist]"
   ]
  },
  {
   "cell_type": "code",
   "execution_count": 100,
   "id": "2170b25e-08c4-4be8-8076-7295368995bb",
   "metadata": {},
   "outputs": [],
   "source": [
    "M_solo_T = M_solo_T.loc[M_solo_T['game_size'] >= 80]\n",
    "M_solo_T = M_solo_T.loc[M_solo_T['player_dist_walk'] <= 10000]\n",
    "M_solo_T = M_solo_T.loc[M_solo_T['player_dist_ride'] <= 30000]\n",
    "M_solo_T = M_solo_T.loc[M_solo_T['player_dmg'] <= 3000]\n",
    "M_solo_T = M_solo_T.loc[M_solo_T['player_kills'] <= 30]\n",
    "M_solo_T = M_solo_T.loc[M_solo_T['player_survive_time'] <= 1900]\n",
    "M_solo_T = M_solo_T.loc[-M_kill_dist]"
   ]
  },
  {
   "cell_type": "code",
   "execution_count": 101,
   "id": "4c50faaf-e510-40d9-944c-36aa578de39e",
   "metadata": {},
   "outputs": [],
   "source": [
    "E_solo_anal = E_solo_T\n",
    "M_solo_anal = M_solo_T"
   ]
  },
  {
   "cell_type": "code",
   "execution_count": 102,
   "id": "47a8cb57-441a-469e-8b9e-272dedbc3067",
   "metadata": {},
   "outputs": [
    {
     "data": {
      "text/plain": [
       "((15529242, 22), (2774102, 22))"
      ]
     },
     "execution_count": 102,
     "metadata": {},
     "output_type": "execute_result"
    }
   ],
   "source": [
    "E_solo_anal.shape, M_solo_anal.shape"
   ]
  },
  {
   "cell_type": "code",
   "execution_count": 103,
   "id": "938dd33e-41f4-42b1-b80c-ca90245f7d77",
   "metadata": {},
   "outputs": [],
   "source": [
    "del E_solo_T, M_solo_T"
   ]
  },
  {
   "cell_type": "code",
   "execution_count": 104,
   "id": "74c0b85a-3d34-4b87-9287-c66f85938f46",
   "metadata": {},
   "outputs": [],
   "source": [
    "# 분석에 사용할 ERANGEL의 Data의 수는 15529242개, MIRAMAR의 Data의 수는 2774102개"
   ]
  },
  {
   "cell_type": "markdown",
   "id": "c6370947-fd00-4e1e-aecc-124d5b5b8255",
   "metadata": {},
   "source": [
    "### Tear_score 계산"
   ]
  },
  {
   "cell_type": "code",
   "execution_count": 105,
   "id": "4d621c08-cc1e-4877-9dd2-3ec3f0610607",
   "metadata": {},
   "outputs": [],
   "source": [
    "# (28 - 순위) * 0.5 + 킬 * 2 + 어시스트 * 2의 수식으로 티어 변동 점수 계산"
   ]
  },
  {
   "cell_type": "markdown",
   "id": "b530a62c-4576-4928-b1d9-13c8a4529984",
   "metadata": {},
   "source": [
    "#### 1. ERANGEL Tear 계산"
   ]
  },
  {
   "cell_type": "code",
   "execution_count": 106,
   "id": "24c79679-dd07-43ff-ba21-6fbd74661a30",
   "metadata": {},
   "outputs": [],
   "source": [
    "# 잘못 계산했을 떄 초기화 방법\n",
    "# E_solo_anal = E_solo_anal[['date', 'game_size', 'match_id', 'player_assists', 'player_dist_ride',\n",
    "#                            'player_dist_walk', 'player_dmg', 'player_kills', 'player_name',\n",
    "#                            'player_survive_time', 'team_id', 'team_placement', 'killed_by',\n",
    "#                            'killer_placement', 'killer_position_x', 'killer_position_y', 'time',\n",
    "#                            'victim_name', 'victim_placement', 'victim_position_x',\n",
    "#                            'victim_position_y']]"
   ]
  },
  {
   "cell_type": "code",
   "execution_count": 107,
   "id": "96195b9e-dfcd-4461-8b4f-70d086b899b6",
   "metadata": {},
   "outputs": [],
   "source": [
    "E_solo_anal['tear_score'] = ((28 - E_solo_anal['team_placement']) * 0.5) + (E_solo_anal['player_kills'] * 2) + (E_solo_anal['player_assists'] * 2)"
   ]
  },
  {
   "cell_type": "code",
   "execution_count": 108,
   "id": "8d4c9672-a2ee-4e61-9858-e13c568a9018",
   "metadata": {},
   "outputs": [],
   "source": [
    "temp = E_solo_anal.groupby('player_name')['tear_score'].sum().reset_index()"
   ]
  },
  {
   "cell_type": "code",
   "execution_count": 109,
   "id": "b831a356-c908-478f-9084-1a5532b27439",
   "metadata": {},
   "outputs": [],
   "source": [
    "scores = [(temp['tear_score'].min() - 1), 1499, 1599, 1699, 1799, 1899, 1999, 2099, 2199, 2299, 2399, 2499, 2599, 2699, 2799, 2899, 2999\n",
    "          , 3099, 3199, 3299, 3399, 3499, temp['tear_score'].max()]\n",
    "tears = ['Bronze', 'Silver_5', 'Silver_4', 'Silver_3', 'Silver_2', 'Silver_1', 'Gold_5', 'Gold_4', 'Gold_3', 'Gold_2', 'Gold_1'\n",
    "         , 'Platinum_5', 'Platinum_4', 'Platinum_3', 'Platinum_2', 'Platinum_1'\n",
    "         , 'Diamond_5', 'Diamond_4', 'Diamond_3', 'Diamond_2', 'Diamond_1', 'Master']\n",
    "temp['tear'] = pd.cut(temp['tear_score'], bins = scores, labels = tears)"
   ]
  },
  {
   "cell_type": "code",
   "execution_count": 110,
   "id": "e43ca738-b1d7-4a10-9e61-cd9dc3a23edf",
   "metadata": {},
   "outputs": [],
   "source": [
    "E_solo_anal = E_solo_anal.merge(temp[['player_name', 'tear']], how = 'left', on = 'player_name')"
   ]
  },
  {
   "cell_type": "code",
   "execution_count": 111,
   "id": "c13da31d-3ef6-4e9e-a1fe-c371f6d7c02c",
   "metadata": {},
   "outputs": [
    {
     "data": {
      "text/html": [
       "<div>\n",
       "<style scoped>\n",
       "    .dataframe tbody tr th:only-of-type {\n",
       "        vertical-align: middle;\n",
       "    }\n",
       "\n",
       "    .dataframe tbody tr th {\n",
       "        vertical-align: top;\n",
       "    }\n",
       "\n",
       "    .dataframe thead th {\n",
       "        text-align: right;\n",
       "    }\n",
       "</style>\n",
       "<table border=\"1\" class=\"dataframe\">\n",
       "  <thead>\n",
       "    <tr style=\"text-align: right;\">\n",
       "      <th></th>\n",
       "      <th>date</th>\n",
       "      <th>game_size</th>\n",
       "      <th>match_id</th>\n",
       "      <th>player_assists</th>\n",
       "      <th>player_dist_ride</th>\n",
       "      <th>player_dist_walk</th>\n",
       "      <th>player_dmg</th>\n",
       "      <th>player_kills</th>\n",
       "      <th>player_name</th>\n",
       "      <th>player_survive_time</th>\n",
       "      <th>team_id</th>\n",
       "      <th>team_placement</th>\n",
       "      <th>killed_by</th>\n",
       "      <th>killer_placement</th>\n",
       "      <th>killer_position_x</th>\n",
       "      <th>killer_position_y</th>\n",
       "      <th>map</th>\n",
       "      <th>time</th>\n",
       "      <th>victim_name</th>\n",
       "      <th>victim_placement</th>\n",
       "      <th>victim_position_x</th>\n",
       "      <th>victim_position_y</th>\n",
       "      <th>tear_score</th>\n",
       "      <th>tear</th>\n",
       "    </tr>\n",
       "  </thead>\n",
       "  <tbody>\n",
       "    <tr>\n",
       "      <th>0</th>\n",
       "      <td>2017-11-19T08:28:59+0000</td>\n",
       "      <td>91</td>\n",
       "      <td>2U4GBNA0YmlixJ6lhgS6xB2tqdo7SEhoYyHlVu18akkAzL...</td>\n",
       "      <td>0</td>\n",
       "      <td>0.000000</td>\n",
       "      <td>170.954788</td>\n",
       "      <td>0</td>\n",
       "      <td>0</td>\n",
       "      <td>Satch</td>\n",
       "      <td>186.999</td>\n",
       "      <td>100004</td>\n",
       "      <td>79</td>\n",
       "      <td>NaN</td>\n",
       "      <td>NaN</td>\n",
       "      <td>NaN</td>\n",
       "      <td>NaN</td>\n",
       "      <td>ERANGEL</td>\n",
       "      <td>NaN</td>\n",
       "      <td>NaN</td>\n",
       "      <td>NaN</td>\n",
       "      <td>NaN</td>\n",
       "      <td>NaN</td>\n",
       "      <td>-25.5</td>\n",
       "      <td>Bronze</td>\n",
       "    </tr>\n",
       "    <tr>\n",
       "      <th>1</th>\n",
       "      <td>2017-11-19T08:28:59+0000</td>\n",
       "      <td>91</td>\n",
       "      <td>2U4GBNA0YmlixJ6lhgS6xB2tqdo7SEhoYyHlVu18akkAzL...</td>\n",
       "      <td>0</td>\n",
       "      <td>0.000000</td>\n",
       "      <td>66.545590</td>\n",
       "      <td>0</td>\n",
       "      <td>0</td>\n",
       "      <td>osamabinlaggon</td>\n",
       "      <td>124.782</td>\n",
       "      <td>100005</td>\n",
       "      <td>87</td>\n",
       "      <td>NaN</td>\n",
       "      <td>NaN</td>\n",
       "      <td>NaN</td>\n",
       "      <td>NaN</td>\n",
       "      <td>ERANGEL</td>\n",
       "      <td>NaN</td>\n",
       "      <td>NaN</td>\n",
       "      <td>NaN</td>\n",
       "      <td>NaN</td>\n",
       "      <td>NaN</td>\n",
       "      <td>-29.5</td>\n",
       "      <td>Bronze</td>\n",
       "    </tr>\n",
       "    <tr>\n",
       "      <th>2</th>\n",
       "      <td>2017-11-19T08:28:59+0000</td>\n",
       "      <td>91</td>\n",
       "      <td>2U4GBNA0YmlixJ6lhgS6xB2tqdo7SEhoYyHlVu18akkAzL...</td>\n",
       "      <td>0</td>\n",
       "      <td>728.722656</td>\n",
       "      <td>610.168945</td>\n",
       "      <td>124</td>\n",
       "      <td>0</td>\n",
       "      <td>dengboyu76</td>\n",
       "      <td>839.161</td>\n",
       "      <td>100006</td>\n",
       "      <td>35</td>\n",
       "      <td>NaN</td>\n",
       "      <td>NaN</td>\n",
       "      <td>NaN</td>\n",
       "      <td>NaN</td>\n",
       "      <td>ERANGEL</td>\n",
       "      <td>NaN</td>\n",
       "      <td>NaN</td>\n",
       "      <td>NaN</td>\n",
       "      <td>NaN</td>\n",
       "      <td>NaN</td>\n",
       "      <td>-3.5</td>\n",
       "      <td>Bronze</td>\n",
       "    </tr>\n",
       "    <tr>\n",
       "      <th>3</th>\n",
       "      <td>2017-11-19T08:28:59+0000</td>\n",
       "      <td>91</td>\n",
       "      <td>2U4GBNA0YmlixJ6lhgS6xB2tqdo7SEhoYyHlVu18akkAzL...</td>\n",
       "      <td>0</td>\n",
       "      <td>2646.184000</td>\n",
       "      <td>1431.292000</td>\n",
       "      <td>24</td>\n",
       "      <td>0</td>\n",
       "      <td>GOGingmimi</td>\n",
       "      <td>751.716</td>\n",
       "      <td>100007</td>\n",
       "      <td>46</td>\n",
       "      <td>NaN</td>\n",
       "      <td>NaN</td>\n",
       "      <td>NaN</td>\n",
       "      <td>NaN</td>\n",
       "      <td>ERANGEL</td>\n",
       "      <td>NaN</td>\n",
       "      <td>NaN</td>\n",
       "      <td>NaN</td>\n",
       "      <td>NaN</td>\n",
       "      <td>NaN</td>\n",
       "      <td>-9.0</td>\n",
       "      <td>Bronze</td>\n",
       "    </tr>\n",
       "    <tr>\n",
       "      <th>4</th>\n",
       "      <td>2017-11-19T08:28:59+0000</td>\n",
       "      <td>91</td>\n",
       "      <td>2U4GBNA0YmlixJ6lhgS6xB2tqdo7SEhoYyHlVu18akkAzL...</td>\n",
       "      <td>0</td>\n",
       "      <td>0.000000</td>\n",
       "      <td>723.102300</td>\n",
       "      <td>100</td>\n",
       "      <td>1</td>\n",
       "      <td>AtomicBrunette</td>\n",
       "      <td>744.088</td>\n",
       "      <td>100011</td>\n",
       "      <td>47</td>\n",
       "      <td>M16A4</td>\n",
       "      <td>47.0</td>\n",
       "      <td>296314.6</td>\n",
       "      <td>302359.5</td>\n",
       "      <td>ERANGEL</td>\n",
       "      <td>297.0</td>\n",
       "      <td>DzzzZZZZP</td>\n",
       "      <td>66.0</td>\n",
       "      <td>295531.2</td>\n",
       "      <td>304050.2</td>\n",
       "      <td>-7.5</td>\n",
       "      <td>Bronze</td>\n",
       "    </tr>\n",
       "  </tbody>\n",
       "</table>\n",
       "</div>"
      ],
      "text/plain": [
       "                       date  game_size  \\\n",
       "0  2017-11-19T08:28:59+0000         91   \n",
       "1  2017-11-19T08:28:59+0000         91   \n",
       "2  2017-11-19T08:28:59+0000         91   \n",
       "3  2017-11-19T08:28:59+0000         91   \n",
       "4  2017-11-19T08:28:59+0000         91   \n",
       "\n",
       "                                            match_id  player_assists  \\\n",
       "0  2U4GBNA0YmlixJ6lhgS6xB2tqdo7SEhoYyHlVu18akkAzL...               0   \n",
       "1  2U4GBNA0YmlixJ6lhgS6xB2tqdo7SEhoYyHlVu18akkAzL...               0   \n",
       "2  2U4GBNA0YmlixJ6lhgS6xB2tqdo7SEhoYyHlVu18akkAzL...               0   \n",
       "3  2U4GBNA0YmlixJ6lhgS6xB2tqdo7SEhoYyHlVu18akkAzL...               0   \n",
       "4  2U4GBNA0YmlixJ6lhgS6xB2tqdo7SEhoYyHlVu18akkAzL...               0   \n",
       "\n",
       "   player_dist_ride  player_dist_walk  player_dmg  player_kills  \\\n",
       "0          0.000000        170.954788           0             0   \n",
       "1          0.000000         66.545590           0             0   \n",
       "2        728.722656        610.168945         124             0   \n",
       "3       2646.184000       1431.292000          24             0   \n",
       "4          0.000000        723.102300         100             1   \n",
       "\n",
       "      player_name  player_survive_time  team_id  team_placement killed_by  \\\n",
       "0           Satch              186.999   100004              79       NaN   \n",
       "1  osamabinlaggon              124.782   100005              87       NaN   \n",
       "2      dengboyu76              839.161   100006              35       NaN   \n",
       "3      GOGingmimi              751.716   100007              46       NaN   \n",
       "4  AtomicBrunette              744.088   100011              47     M16A4   \n",
       "\n",
       "   killer_placement  killer_position_x  killer_position_y      map   time  \\\n",
       "0               NaN                NaN                NaN  ERANGEL    NaN   \n",
       "1               NaN                NaN                NaN  ERANGEL    NaN   \n",
       "2               NaN                NaN                NaN  ERANGEL    NaN   \n",
       "3               NaN                NaN                NaN  ERANGEL    NaN   \n",
       "4              47.0           296314.6           302359.5  ERANGEL  297.0   \n",
       "\n",
       "  victim_name  victim_placement  victim_position_x  victim_position_y  \\\n",
       "0         NaN               NaN                NaN                NaN   \n",
       "1         NaN               NaN                NaN                NaN   \n",
       "2         NaN               NaN                NaN                NaN   \n",
       "3         NaN               NaN                NaN                NaN   \n",
       "4   DzzzZZZZP              66.0           295531.2           304050.2   \n",
       "\n",
       "   tear_score    tear  \n",
       "0       -25.5  Bronze  \n",
       "1       -29.5  Bronze  \n",
       "2        -3.5  Bronze  \n",
       "3        -9.0  Bronze  \n",
       "4        -7.5  Bronze  "
      ]
     },
     "execution_count": 111,
     "metadata": {},
     "output_type": "execute_result"
    }
   ],
   "source": [
    "E_solo_anal.head()"
   ]
  },
  {
   "cell_type": "code",
   "execution_count": 112,
   "id": "00102d8e-8fa4-4701-9ee8-ba1463a71a70",
   "metadata": {},
   "outputs": [
    {
     "data": {
      "text/plain": [
       "0"
      ]
     },
     "execution_count": 112,
     "metadata": {},
     "output_type": "execute_result"
    }
   ],
   "source": [
    "E_solo_anal['tear'].isna().sum()"
   ]
  },
  {
   "cell_type": "markdown",
   "id": "b2176fcd-6e0a-4a9b-b6b3-162ffb1dab1f",
   "metadata": {},
   "source": [
    "#### 2. MIRAMAR Tear 계산"
   ]
  },
  {
   "cell_type": "code",
   "execution_count": 64,
   "id": "78c31662-1cc6-4a1d-9473-1f62eac580f1",
   "metadata": {},
   "outputs": [],
   "source": [
    "# 잘못 계산했을 떄 초기화 방법\n",
    "# M_solo_anal = M_solo_anal[['date', 'game_size', 'match_id', 'player_assists', 'player_dist_ride',\n",
    "#                            'player_dist_walk', 'player_dmg', 'player_kills', 'player_name',\n",
    "#                            'player_survive_time', 'team_id', 'team_placement', 'killed_by',\n",
    "#                            'killer_placement', 'killer_position_x', 'killer_position_y', 'time',\n",
    "#                            'victim_name', 'victim_placement', 'victim_position_x',\n",
    "#                            'victim_position_y']]"
   ]
  },
  {
   "cell_type": "code",
   "execution_count": 113,
   "id": "2fee51e0-beb7-40ad-a8ef-98d2a8324bc6",
   "metadata": {},
   "outputs": [],
   "source": [
    "M_solo_anal['tear_score'] = ((28 - M_solo_anal['team_placement']) * 0.5) + (M_solo_anal['player_kills'] * 2) + (M_solo_anal['player_assists'] * 2)"
   ]
  },
  {
   "cell_type": "code",
   "execution_count": 114,
   "id": "9a9419bd-7456-436b-9614-239cde929849",
   "metadata": {},
   "outputs": [],
   "source": [
    "temp2 = M_solo_anal.groupby('player_name')['tear_score'].sum().reset_index()"
   ]
  },
  {
   "cell_type": "code",
   "execution_count": 115,
   "id": "371fc031-9233-417b-a89c-f0c4244f57b3",
   "metadata": {},
   "outputs": [],
   "source": [
    "scores2 = [int(temp2['tear_score'].min() - 1), 1499, 1599, 1699, 1799, 1899, 1999, 2099, 2199, 2299, 2399, 2499, 2599, 2699, 2799, 2899, 2999\n",
    "          , 3099, 3199, 3299, 3399, 3499, 5000]\n",
    "# 여기서는 temp2['tear_score'].max() 값이 3499보다 작으므로 5000이라는 값을 입력\n",
    "temp2['tear'] = pd.cut(temp2['tear_score'], bins = scores2, labels = tears)"
   ]
  },
  {
   "cell_type": "code",
   "execution_count": 116,
   "id": "703c58a1-cad6-461f-82c2-8d76cac6c388",
   "metadata": {},
   "outputs": [],
   "source": [
    "M_solo_anal = M_solo_anal.merge(temp2[['player_name', 'tear']], how = 'left', on = 'player_name')"
   ]
  },
  {
   "cell_type": "code",
   "execution_count": 117,
   "id": "2be9db43-2ef1-42da-b591-4c27050f4c14",
   "metadata": {},
   "outputs": [
    {
     "data": {
      "text/plain": [
       "0"
      ]
     },
     "execution_count": 117,
     "metadata": {},
     "output_type": "execute_result"
    }
   ],
   "source": [
    "M_solo_anal['tear'].isna().sum()"
   ]
  },
  {
   "cell_type": "code",
   "execution_count": 118,
   "id": "11986933-b2f6-4bc5-9eda-724c4c2c0c86",
   "metadata": {},
   "outputs": [
    {
     "data": {
      "text/html": [
       "<div>\n",
       "<style scoped>\n",
       "    .dataframe tbody tr th:only-of-type {\n",
       "        vertical-align: middle;\n",
       "    }\n",
       "\n",
       "    .dataframe tbody tr th {\n",
       "        vertical-align: top;\n",
       "    }\n",
       "\n",
       "    .dataframe thead th {\n",
       "        text-align: right;\n",
       "    }\n",
       "</style>\n",
       "<table border=\"1\" class=\"dataframe\">\n",
       "  <thead>\n",
       "    <tr style=\"text-align: right;\">\n",
       "      <th></th>\n",
       "      <th>date</th>\n",
       "      <th>game_size</th>\n",
       "      <th>match_id</th>\n",
       "      <th>player_assists</th>\n",
       "      <th>player_dist_ride</th>\n",
       "      <th>player_dist_walk</th>\n",
       "      <th>player_dmg</th>\n",
       "      <th>player_kills</th>\n",
       "      <th>player_name</th>\n",
       "      <th>player_survive_time</th>\n",
       "      <th>team_id</th>\n",
       "      <th>team_placement</th>\n",
       "      <th>killed_by</th>\n",
       "      <th>killer_placement</th>\n",
       "      <th>killer_position_x</th>\n",
       "      <th>killer_position_y</th>\n",
       "      <th>map</th>\n",
       "      <th>time</th>\n",
       "      <th>victim_name</th>\n",
       "      <th>victim_placement</th>\n",
       "      <th>victim_position_x</th>\n",
       "      <th>victim_position_y</th>\n",
       "      <th>tear_score</th>\n",
       "      <th>tear</th>\n",
       "    </tr>\n",
       "  </thead>\n",
       "  <tbody>\n",
       "    <tr>\n",
       "      <th>0</th>\n",
       "      <td>2017-12-30T10:44:20+0000</td>\n",
       "      <td>85</td>\n",
       "      <td>2U4GBNA0YmkvCmIao1jSik4oZSUnd8bzeMgA1H7GSnDkUa...</td>\n",
       "      <td>2</td>\n",
       "      <td>0.0000</td>\n",
       "      <td>2093.24900</td>\n",
       "      <td>110</td>\n",
       "      <td>0</td>\n",
       "      <td>ManillaIce</td>\n",
       "      <td>1743.631</td>\n",
       "      <td>100000</td>\n",
       "      <td>5</td>\n",
       "      <td>NaN</td>\n",
       "      <td>NaN</td>\n",
       "      <td>NaN</td>\n",
       "      <td>NaN</td>\n",
       "      <td>MIRAMAR</td>\n",
       "      <td>NaN</td>\n",
       "      <td>NaN</td>\n",
       "      <td>NaN</td>\n",
       "      <td>NaN</td>\n",
       "      <td>NaN</td>\n",
       "      <td>15.5</td>\n",
       "      <td>Bronze</td>\n",
       "    </tr>\n",
       "    <tr>\n",
       "      <th>1</th>\n",
       "      <td>2017-12-30T10:44:20+0000</td>\n",
       "      <td>85</td>\n",
       "      <td>2U4GBNA0YmkvCmIao1jSik4oZSUnd8bzeMgA1H7GSnDkUa...</td>\n",
       "      <td>0</td>\n",
       "      <td>0.0000</td>\n",
       "      <td>166.62450</td>\n",
       "      <td>0</td>\n",
       "      <td>0</td>\n",
       "      <td>laijiang</td>\n",
       "      <td>167.734</td>\n",
       "      <td>100002</td>\n",
       "      <td>68</td>\n",
       "      <td>NaN</td>\n",
       "      <td>NaN</td>\n",
       "      <td>NaN</td>\n",
       "      <td>NaN</td>\n",
       "      <td>MIRAMAR</td>\n",
       "      <td>NaN</td>\n",
       "      <td>NaN</td>\n",
       "      <td>NaN</td>\n",
       "      <td>NaN</td>\n",
       "      <td>NaN</td>\n",
       "      <td>-20.0</td>\n",
       "      <td>Bronze</td>\n",
       "    </tr>\n",
       "    <tr>\n",
       "      <th>2</th>\n",
       "      <td>2017-12-30T10:44:20+0000</td>\n",
       "      <td>85</td>\n",
       "      <td>2U4GBNA0YmkvCmIao1jSik4oZSUnd8bzeMgA1H7GSnDkUa...</td>\n",
       "      <td>0</td>\n",
       "      <td>513.7829</td>\n",
       "      <td>2472.66870</td>\n",
       "      <td>100</td>\n",
       "      <td>1</td>\n",
       "      <td>weiqing52</td>\n",
       "      <td>1184.879</td>\n",
       "      <td>100005</td>\n",
       "      <td>22</td>\n",
       "      <td>AKM</td>\n",
       "      <td>22.0</td>\n",
       "      <td>319200.7</td>\n",
       "      <td>340021.9</td>\n",
       "      <td>MIRAMAR</td>\n",
       "      <td>265.0</td>\n",
       "      <td>tjboby11</td>\n",
       "      <td>59.0</td>\n",
       "      <td>320995.9</td>\n",
       "      <td>339918.6</td>\n",
       "      <td>5.0</td>\n",
       "      <td>Bronze</td>\n",
       "    </tr>\n",
       "    <tr>\n",
       "      <th>3</th>\n",
       "      <td>2017-12-30T10:44:20+0000</td>\n",
       "      <td>85</td>\n",
       "      <td>2U4GBNA0YmkvCmIao1jSik4oZSUnd8bzeMgA1H7GSnDkUa...</td>\n",
       "      <td>0</td>\n",
       "      <td>0.0000</td>\n",
       "      <td>50.22462</td>\n",
       "      <td>22</td>\n",
       "      <td>0</td>\n",
       "      <td>BaoJunG</td>\n",
       "      <td>105.961</td>\n",
       "      <td>100008</td>\n",
       "      <td>76</td>\n",
       "      <td>NaN</td>\n",
       "      <td>NaN</td>\n",
       "      <td>NaN</td>\n",
       "      <td>NaN</td>\n",
       "      <td>MIRAMAR</td>\n",
       "      <td>NaN</td>\n",
       "      <td>NaN</td>\n",
       "      <td>NaN</td>\n",
       "      <td>NaN</td>\n",
       "      <td>NaN</td>\n",
       "      <td>-24.0</td>\n",
       "      <td>Bronze</td>\n",
       "    </tr>\n",
       "    <tr>\n",
       "      <th>4</th>\n",
       "      <td>2017-12-30T10:44:20+0000</td>\n",
       "      <td>85</td>\n",
       "      <td>2U4GBNA0YmkvCmIao1jSik4oZSUnd8bzeMgA1H7GSnDkUa...</td>\n",
       "      <td>0</td>\n",
       "      <td>0.0000</td>\n",
       "      <td>87.91814</td>\n",
       "      <td>61</td>\n",
       "      <td>1</td>\n",
       "      <td>TuLangGou</td>\n",
       "      <td>203.750</td>\n",
       "      <td>100011</td>\n",
       "      <td>63</td>\n",
       "      <td>Win94</td>\n",
       "      <td>63.0</td>\n",
       "      <td>371892.2</td>\n",
       "      <td>424208.3</td>\n",
       "      <td>MIRAMAR</td>\n",
       "      <td>134.0</td>\n",
       "      <td>hjlkghxfhgfd</td>\n",
       "      <td>72.0</td>\n",
       "      <td>371039.0</td>\n",
       "      <td>424247.1</td>\n",
       "      <td>-15.5</td>\n",
       "      <td>Bronze</td>\n",
       "    </tr>\n",
       "  </tbody>\n",
       "</table>\n",
       "</div>"
      ],
      "text/plain": [
       "                       date  game_size  \\\n",
       "0  2017-12-30T10:44:20+0000         85   \n",
       "1  2017-12-30T10:44:20+0000         85   \n",
       "2  2017-12-30T10:44:20+0000         85   \n",
       "3  2017-12-30T10:44:20+0000         85   \n",
       "4  2017-12-30T10:44:20+0000         85   \n",
       "\n",
       "                                            match_id  player_assists  \\\n",
       "0  2U4GBNA0YmkvCmIao1jSik4oZSUnd8bzeMgA1H7GSnDkUa...               2   \n",
       "1  2U4GBNA0YmkvCmIao1jSik4oZSUnd8bzeMgA1H7GSnDkUa...               0   \n",
       "2  2U4GBNA0YmkvCmIao1jSik4oZSUnd8bzeMgA1H7GSnDkUa...               0   \n",
       "3  2U4GBNA0YmkvCmIao1jSik4oZSUnd8bzeMgA1H7GSnDkUa...               0   \n",
       "4  2U4GBNA0YmkvCmIao1jSik4oZSUnd8bzeMgA1H7GSnDkUa...               0   \n",
       "\n",
       "   player_dist_ride  player_dist_walk  player_dmg  player_kills player_name  \\\n",
       "0            0.0000        2093.24900         110             0  ManillaIce   \n",
       "1            0.0000         166.62450           0             0    laijiang   \n",
       "2          513.7829        2472.66870         100             1   weiqing52   \n",
       "3            0.0000          50.22462          22             0     BaoJunG   \n",
       "4            0.0000          87.91814          61             1   TuLangGou   \n",
       "\n",
       "   player_survive_time  team_id  team_placement killed_by  killer_placement  \\\n",
       "0             1743.631   100000               5       NaN               NaN   \n",
       "1              167.734   100002              68       NaN               NaN   \n",
       "2             1184.879   100005              22       AKM              22.0   \n",
       "3              105.961   100008              76       NaN               NaN   \n",
       "4              203.750   100011              63     Win94              63.0   \n",
       "\n",
       "   killer_position_x  killer_position_y      map   time   victim_name  \\\n",
       "0                NaN                NaN  MIRAMAR    NaN           NaN   \n",
       "1                NaN                NaN  MIRAMAR    NaN           NaN   \n",
       "2           319200.7           340021.9  MIRAMAR  265.0      tjboby11   \n",
       "3                NaN                NaN  MIRAMAR    NaN           NaN   \n",
       "4           371892.2           424208.3  MIRAMAR  134.0  hjlkghxfhgfd   \n",
       "\n",
       "   victim_placement  victim_position_x  victim_position_y  tear_score    tear  \n",
       "0               NaN                NaN                NaN        15.5  Bronze  \n",
       "1               NaN                NaN                NaN       -20.0  Bronze  \n",
       "2              59.0           320995.9           339918.6         5.0  Bronze  \n",
       "3               NaN                NaN                NaN       -24.0  Bronze  \n",
       "4              72.0           371039.0           424247.1       -15.5  Bronze  "
      ]
     },
     "execution_count": 118,
     "metadata": {},
     "output_type": "execute_result"
    }
   ],
   "source": [
    "pd.set_option('display.max_columns', None)\n",
    "M_solo_anal.head()"
   ]
  },
  {
   "cell_type": "markdown",
   "id": "569d7ff0-49c6-46b4-96ad-3bdb25385b71",
   "metadata": {},
   "source": [
    "### Erangel, Miramar 데이터셋 합치기"
   ]
  },
  {
   "cell_type": "markdown",
   "id": "86c3b627-8642-4ba3-9aba-fd5f02392915",
   "metadata": {},
   "source": [
    "#### 1. 분석용 데이터 합치기"
   ]
  },
  {
   "cell_type": "code",
   "execution_count": 191,
   "id": "5931781f-d371-405c-aa12-bd581e63647c",
   "metadata": {},
   "outputs": [],
   "source": [
    "solo_anal = pd.concat([E_solo_anal, M_solo_anal]).reset_index(drop = True)"
   ]
  },
  {
   "cell_type": "code",
   "execution_count": 206,
   "id": "48b9792d-762b-42f1-a3ef-2262b3662c28",
   "metadata": {},
   "outputs": [],
   "source": [
    "pubg_rp = solo_anal.groupby(['match_id', 'player_name'])['tear_score'].mean().reset_index()"
   ]
  },
  {
   "cell_type": "code",
   "execution_count": 225,
   "id": "3ff53929-3a3b-4ebe-b9ba-21bc2e28052d",
   "metadata": {},
   "outputs": [],
   "source": [
    "rp_sum = pubg_rp.groupby(['player_name'])['tear_score'].sum().reset_index()"
   ]
  },
  {
   "cell_type": "code",
   "execution_count": 227,
   "id": "ac0f1e00-0906-4002-bc6b-1658c3fa8d0e",
   "metadata": {},
   "outputs": [
    {
     "data": {
      "text/plain": [
       "1277.0"
      ]
     },
     "execution_count": 227,
     "metadata": {},
     "output_type": "execute_result"
    }
   ],
   "source": [
    "rp_sum['tear_score'].max()"
   ]
  },
  {
   "cell_type": "code",
   "execution_count": 216,
   "id": "2c0017e3-ae73-4899-abec-05907cdb9d4f",
   "metadata": {},
   "outputs": [],
   "source": [
    "scores = [int(rp_sum['tear_score'].min() - 1), 1499, 1599, 1699, 1799, 1899, 1999, 2099, 2199, 2299, 2399, 2499, 2599, 2699, 2799, 2899, 2999\n",
    "          , 3099, 3199, 3299, 3399, 3499, 5000]"
   ]
  },
  {
   "cell_type": "code",
   "execution_count": 217,
   "id": "4c9e0564-fb7f-4700-95d3-331519febf8a",
   "metadata": {},
   "outputs": [],
   "source": [
    "rp_sum['tear'] = pd.cut(rp_sum['tear_score'], bins = scores, labels = tears)"
   ]
  },
  {
   "cell_type": "code",
   "execution_count": 218,
   "id": "415073f0-c450-4d00-9e4d-32248c42983e",
   "metadata": {},
   "outputs": [],
   "source": [
    "solo_anal = solo_anal[['date', 'game_size', 'match_id', 'player_assists', 'player_dist_ride',\n",
    "                       'player_dist_walk', 'player_dmg', 'player_kills', 'player_name',\n",
    "                       'player_survive_time', 'team_id', 'team_placement', 'killed_by',\n",
    "                       'killer_placement', 'killer_position_x', 'killer_position_y', 'map',\n",
    "                       'time', 'victim_name', 'victim_placement', 'victim_position_x',\n",
    "                       'victim_position_y', 'tear_score']]"
   ]
  },
  {
   "cell_type": "code",
   "execution_count": 219,
   "id": "1efbee32-433d-4cb5-a5f6-f58d648af75d",
   "metadata": {},
   "outputs": [],
   "source": [
    "solo_anal = solo_anal.merge(rp_sum[['player_name', 'tear']], how = 'left', on = 'player_name')"
   ]
  },
  {
   "cell_type": "code",
   "execution_count": 220,
   "id": "8578dfc6-4d3d-4735-9e6d-dca474ce375a",
   "metadata": {},
   "outputs": [
    {
     "data": {
      "text/html": [
       "<div>\n",
       "<style scoped>\n",
       "    .dataframe tbody tr th:only-of-type {\n",
       "        vertical-align: middle;\n",
       "    }\n",
       "\n",
       "    .dataframe tbody tr th {\n",
       "        vertical-align: top;\n",
       "    }\n",
       "\n",
       "    .dataframe thead th {\n",
       "        text-align: right;\n",
       "    }\n",
       "</style>\n",
       "<table border=\"1\" class=\"dataframe\">\n",
       "  <thead>\n",
       "    <tr style=\"text-align: right;\">\n",
       "      <th></th>\n",
       "      <th>date</th>\n",
       "      <th>game_size</th>\n",
       "      <th>match_id</th>\n",
       "      <th>player_assists</th>\n",
       "      <th>player_dist_ride</th>\n",
       "      <th>player_dist_walk</th>\n",
       "      <th>player_dmg</th>\n",
       "      <th>player_kills</th>\n",
       "      <th>player_name</th>\n",
       "      <th>player_survive_time</th>\n",
       "      <th>team_id</th>\n",
       "      <th>team_placement</th>\n",
       "      <th>killed_by</th>\n",
       "      <th>killer_placement</th>\n",
       "      <th>killer_position_x</th>\n",
       "      <th>killer_position_y</th>\n",
       "      <th>map</th>\n",
       "      <th>time</th>\n",
       "      <th>victim_name</th>\n",
       "      <th>victim_placement</th>\n",
       "      <th>victim_position_x</th>\n",
       "      <th>victim_position_y</th>\n",
       "      <th>tear_score</th>\n",
       "      <th>tear</th>\n",
       "    </tr>\n",
       "  </thead>\n",
       "  <tbody>\n",
       "    <tr>\n",
       "      <th>0</th>\n",
       "      <td>2017-11-19T08:28:59+0000</td>\n",
       "      <td>91</td>\n",
       "      <td>2U4GBNA0YmlixJ6lhgS6xB2tqdo7SEhoYyHlVu18akkAzL...</td>\n",
       "      <td>0</td>\n",
       "      <td>0.000000</td>\n",
       "      <td>170.954788</td>\n",
       "      <td>0</td>\n",
       "      <td>0</td>\n",
       "      <td>Satch</td>\n",
       "      <td>186.999</td>\n",
       "      <td>100004</td>\n",
       "      <td>79</td>\n",
       "      <td>NaN</td>\n",
       "      <td>NaN</td>\n",
       "      <td>NaN</td>\n",
       "      <td>NaN</td>\n",
       "      <td>ERANGEL</td>\n",
       "      <td>NaN</td>\n",
       "      <td>NaN</td>\n",
       "      <td>NaN</td>\n",
       "      <td>NaN</td>\n",
       "      <td>NaN</td>\n",
       "      <td>-25.5</td>\n",
       "      <td>Bronze</td>\n",
       "    </tr>\n",
       "    <tr>\n",
       "      <th>1</th>\n",
       "      <td>2017-11-19T08:28:59+0000</td>\n",
       "      <td>91</td>\n",
       "      <td>2U4GBNA0YmlixJ6lhgS6xB2tqdo7SEhoYyHlVu18akkAzL...</td>\n",
       "      <td>0</td>\n",
       "      <td>0.000000</td>\n",
       "      <td>66.545590</td>\n",
       "      <td>0</td>\n",
       "      <td>0</td>\n",
       "      <td>osamabinlaggon</td>\n",
       "      <td>124.782</td>\n",
       "      <td>100005</td>\n",
       "      <td>87</td>\n",
       "      <td>NaN</td>\n",
       "      <td>NaN</td>\n",
       "      <td>NaN</td>\n",
       "      <td>NaN</td>\n",
       "      <td>ERANGEL</td>\n",
       "      <td>NaN</td>\n",
       "      <td>NaN</td>\n",
       "      <td>NaN</td>\n",
       "      <td>NaN</td>\n",
       "      <td>NaN</td>\n",
       "      <td>-29.5</td>\n",
       "      <td>Bronze</td>\n",
       "    </tr>\n",
       "    <tr>\n",
       "      <th>2</th>\n",
       "      <td>2017-11-19T08:28:59+0000</td>\n",
       "      <td>91</td>\n",
       "      <td>2U4GBNA0YmlixJ6lhgS6xB2tqdo7SEhoYyHlVu18akkAzL...</td>\n",
       "      <td>0</td>\n",
       "      <td>728.722656</td>\n",
       "      <td>610.168945</td>\n",
       "      <td>124</td>\n",
       "      <td>0</td>\n",
       "      <td>dengboyu76</td>\n",
       "      <td>839.161</td>\n",
       "      <td>100006</td>\n",
       "      <td>35</td>\n",
       "      <td>NaN</td>\n",
       "      <td>NaN</td>\n",
       "      <td>NaN</td>\n",
       "      <td>NaN</td>\n",
       "      <td>ERANGEL</td>\n",
       "      <td>NaN</td>\n",
       "      <td>NaN</td>\n",
       "      <td>NaN</td>\n",
       "      <td>NaN</td>\n",
       "      <td>NaN</td>\n",
       "      <td>-3.5</td>\n",
       "      <td>Bronze</td>\n",
       "    </tr>\n",
       "    <tr>\n",
       "      <th>3</th>\n",
       "      <td>2017-11-19T08:28:59+0000</td>\n",
       "      <td>91</td>\n",
       "      <td>2U4GBNA0YmlixJ6lhgS6xB2tqdo7SEhoYyHlVu18akkAzL...</td>\n",
       "      <td>0</td>\n",
       "      <td>2646.184000</td>\n",
       "      <td>1431.292000</td>\n",
       "      <td>24</td>\n",
       "      <td>0</td>\n",
       "      <td>GOGingmimi</td>\n",
       "      <td>751.716</td>\n",
       "      <td>100007</td>\n",
       "      <td>46</td>\n",
       "      <td>NaN</td>\n",
       "      <td>NaN</td>\n",
       "      <td>NaN</td>\n",
       "      <td>NaN</td>\n",
       "      <td>ERANGEL</td>\n",
       "      <td>NaN</td>\n",
       "      <td>NaN</td>\n",
       "      <td>NaN</td>\n",
       "      <td>NaN</td>\n",
       "      <td>NaN</td>\n",
       "      <td>-9.0</td>\n",
       "      <td>Bronze</td>\n",
       "    </tr>\n",
       "    <tr>\n",
       "      <th>4</th>\n",
       "      <td>2017-11-19T08:28:59+0000</td>\n",
       "      <td>91</td>\n",
       "      <td>2U4GBNA0YmlixJ6lhgS6xB2tqdo7SEhoYyHlVu18akkAzL...</td>\n",
       "      <td>0</td>\n",
       "      <td>0.000000</td>\n",
       "      <td>723.102300</td>\n",
       "      <td>100</td>\n",
       "      <td>1</td>\n",
       "      <td>AtomicBrunette</td>\n",
       "      <td>744.088</td>\n",
       "      <td>100011</td>\n",
       "      <td>47</td>\n",
       "      <td>M16A4</td>\n",
       "      <td>47.0</td>\n",
       "      <td>296314.6</td>\n",
       "      <td>302359.5</td>\n",
       "      <td>ERANGEL</td>\n",
       "      <td>297.0</td>\n",
       "      <td>DzzzZZZZP</td>\n",
       "      <td>66.0</td>\n",
       "      <td>295531.2</td>\n",
       "      <td>304050.2</td>\n",
       "      <td>-7.5</td>\n",
       "      <td>Bronze</td>\n",
       "    </tr>\n",
       "  </tbody>\n",
       "</table>\n",
       "</div>"
      ],
      "text/plain": [
       "                       date  game_size  \\\n",
       "0  2017-11-19T08:28:59+0000         91   \n",
       "1  2017-11-19T08:28:59+0000         91   \n",
       "2  2017-11-19T08:28:59+0000         91   \n",
       "3  2017-11-19T08:28:59+0000         91   \n",
       "4  2017-11-19T08:28:59+0000         91   \n",
       "\n",
       "                                            match_id  player_assists  \\\n",
       "0  2U4GBNA0YmlixJ6lhgS6xB2tqdo7SEhoYyHlVu18akkAzL...               0   \n",
       "1  2U4GBNA0YmlixJ6lhgS6xB2tqdo7SEhoYyHlVu18akkAzL...               0   \n",
       "2  2U4GBNA0YmlixJ6lhgS6xB2tqdo7SEhoYyHlVu18akkAzL...               0   \n",
       "3  2U4GBNA0YmlixJ6lhgS6xB2tqdo7SEhoYyHlVu18akkAzL...               0   \n",
       "4  2U4GBNA0YmlixJ6lhgS6xB2tqdo7SEhoYyHlVu18akkAzL...               0   \n",
       "\n",
       "   player_dist_ride  player_dist_walk  player_dmg  player_kills  \\\n",
       "0          0.000000        170.954788           0             0   \n",
       "1          0.000000         66.545590           0             0   \n",
       "2        728.722656        610.168945         124             0   \n",
       "3       2646.184000       1431.292000          24             0   \n",
       "4          0.000000        723.102300         100             1   \n",
       "\n",
       "      player_name  player_survive_time  team_id  team_placement killed_by  \\\n",
       "0           Satch              186.999   100004              79       NaN   \n",
       "1  osamabinlaggon              124.782   100005              87       NaN   \n",
       "2      dengboyu76              839.161   100006              35       NaN   \n",
       "3      GOGingmimi              751.716   100007              46       NaN   \n",
       "4  AtomicBrunette              744.088   100011              47     M16A4   \n",
       "\n",
       "   killer_placement  killer_position_x  killer_position_y      map   time  \\\n",
       "0               NaN                NaN                NaN  ERANGEL    NaN   \n",
       "1               NaN                NaN                NaN  ERANGEL    NaN   \n",
       "2               NaN                NaN                NaN  ERANGEL    NaN   \n",
       "3               NaN                NaN                NaN  ERANGEL    NaN   \n",
       "4              47.0           296314.6           302359.5  ERANGEL  297.0   \n",
       "\n",
       "  victim_name  victim_placement  victim_position_x  victim_position_y  \\\n",
       "0         NaN               NaN                NaN                NaN   \n",
       "1         NaN               NaN                NaN                NaN   \n",
       "2         NaN               NaN                NaN                NaN   \n",
       "3         NaN               NaN                NaN                NaN   \n",
       "4   DzzzZZZZP              66.0           295531.2           304050.2   \n",
       "\n",
       "   tear_score    tear  \n",
       "0       -25.5  Bronze  \n",
       "1       -29.5  Bronze  \n",
       "2        -3.5  Bronze  \n",
       "3        -9.0  Bronze  \n",
       "4        -7.5  Bronze  "
      ]
     },
     "execution_count": 220,
     "metadata": {},
     "output_type": "execute_result"
    }
   ],
   "source": [
    "solo_anal.head()"
   ]
  },
  {
   "cell_type": "code",
   "execution_count": null,
   "id": "ec652158-131a-49c6-93a4-f747cc36aea0",
   "metadata": {},
   "outputs": [],
   "source": []
  },
  {
   "cell_type": "markdown",
   "id": "be861bd4-eaac-4679-a0b1-f2cb7f2ff210",
   "metadata": {},
   "source": [
    "#### 2. Outlier 데이터 합치기"
   ]
  },
  {
   "cell_type": "code",
   "execution_count": 127,
   "id": "7fe15041-0494-4328-8443-78a8b9f660ce",
   "metadata": {},
   "outputs": [],
   "source": [
    "solo_outlier = pd.concat([E_solo_outlier, M_solo_outlier]).reset_index(drop = True)"
   ]
  },
  {
   "cell_type": "code",
   "execution_count": 131,
   "id": "5dd40d29-1e32-44bf-994b-1d506832dec5",
   "metadata": {},
   "outputs": [
    {
     "data": {
      "text/html": [
       "<div>\n",
       "<style scoped>\n",
       "    .dataframe tbody tr th:only-of-type {\n",
       "        vertical-align: middle;\n",
       "    }\n",
       "\n",
       "    .dataframe tbody tr th {\n",
       "        vertical-align: top;\n",
       "    }\n",
       "\n",
       "    .dataframe thead th {\n",
       "        text-align: right;\n",
       "    }\n",
       "</style>\n",
       "<table border=\"1\" class=\"dataframe\">\n",
       "  <thead>\n",
       "    <tr style=\"text-align: right;\">\n",
       "      <th></th>\n",
       "      <th>date</th>\n",
       "      <th>game_size</th>\n",
       "      <th>match_id</th>\n",
       "      <th>player_assists</th>\n",
       "      <th>player_dist_ride</th>\n",
       "      <th>player_dist_walk</th>\n",
       "      <th>player_dmg</th>\n",
       "      <th>player_kills</th>\n",
       "      <th>player_name</th>\n",
       "      <th>player_survive_time</th>\n",
       "      <th>team_id</th>\n",
       "      <th>team_placement</th>\n",
       "      <th>killed_by</th>\n",
       "      <th>killer_placement</th>\n",
       "      <th>killer_position_x</th>\n",
       "      <th>killer_position_y</th>\n",
       "      <th>map</th>\n",
       "      <th>time</th>\n",
       "      <th>victim_name</th>\n",
       "      <th>victim_placement</th>\n",
       "      <th>victim_position_x</th>\n",
       "      <th>victim_position_y</th>\n",
       "    </tr>\n",
       "  </thead>\n",
       "  <tbody>\n",
       "    <tr>\n",
       "      <th>0</th>\n",
       "      <td>2017-12-17T06:37:50+0000</td>\n",
       "      <td>63</td>\n",
       "      <td>2U4GBNA0YmmyNWABCuuEotdFnf2pYAu3C5f-JJ9Qv-UyQV...</td>\n",
       "      <td>0</td>\n",
       "      <td>0.00000</td>\n",
       "      <td>197.745000</td>\n",
       "      <td>20</td>\n",
       "      <td>0</td>\n",
       "      <td>Poisoner-</td>\n",
       "      <td>306.522</td>\n",
       "      <td>100002</td>\n",
       "      <td>47</td>\n",
       "      <td>NaN</td>\n",
       "      <td>NaN</td>\n",
       "      <td>NaN</td>\n",
       "      <td>NaN</td>\n",
       "      <td>ERANGEL</td>\n",
       "      <td>NaN</td>\n",
       "      <td>NaN</td>\n",
       "      <td>NaN</td>\n",
       "      <td>NaN</td>\n",
       "      <td>NaN</td>\n",
       "    </tr>\n",
       "    <tr>\n",
       "      <th>1</th>\n",
       "      <td>2017-12-17T06:37:50+0000</td>\n",
       "      <td>63</td>\n",
       "      <td>2U4GBNA0YmmyNWABCuuEotdFnf2pYAu3C5f-JJ9Qv-UyQV...</td>\n",
       "      <td>1</td>\n",
       "      <td>761.70780</td>\n",
       "      <td>856.389465</td>\n",
       "      <td>1</td>\n",
       "      <td>0</td>\n",
       "      <td>NEW-BEE-CH</td>\n",
       "      <td>815.788</td>\n",
       "      <td>100003</td>\n",
       "      <td>28</td>\n",
       "      <td>NaN</td>\n",
       "      <td>NaN</td>\n",
       "      <td>NaN</td>\n",
       "      <td>NaN</td>\n",
       "      <td>ERANGEL</td>\n",
       "      <td>NaN</td>\n",
       "      <td>NaN</td>\n",
       "      <td>NaN</td>\n",
       "      <td>NaN</td>\n",
       "      <td>NaN</td>\n",
       "    </tr>\n",
       "    <tr>\n",
       "      <th>2</th>\n",
       "      <td>2017-12-17T06:37:50+0000</td>\n",
       "      <td>63</td>\n",
       "      <td>2U4GBNA0YmmyNWABCuuEotdFnf2pYAu3C5f-JJ9Qv-UyQV...</td>\n",
       "      <td>0</td>\n",
       "      <td>3053.30444</td>\n",
       "      <td>1741.988890</td>\n",
       "      <td>205</td>\n",
       "      <td>1</td>\n",
       "      <td>CHN-Demon</td>\n",
       "      <td>1070.069</td>\n",
       "      <td>100006</td>\n",
       "      <td>23</td>\n",
       "      <td>AKM</td>\n",
       "      <td>23.0</td>\n",
       "      <td>297418.8</td>\n",
       "      <td>501408.4</td>\n",
       "      <td>ERANGEL</td>\n",
       "      <td>325.0</td>\n",
       "      <td>MuscleGod007</td>\n",
       "      <td>46.0</td>\n",
       "      <td>300051.5</td>\n",
       "      <td>499628.2</td>\n",
       "    </tr>\n",
       "    <tr>\n",
       "      <th>3</th>\n",
       "      <td>2017-12-17T06:37:50+0000</td>\n",
       "      <td>63</td>\n",
       "      <td>2U4GBNA0YmmyNWABCuuEotdFnf2pYAu3C5f-JJ9Qv-UyQV...</td>\n",
       "      <td>0</td>\n",
       "      <td>0.00000</td>\n",
       "      <td>9.943279</td>\n",
       "      <td>19</td>\n",
       "      <td>0</td>\n",
       "      <td>Apparition_111</td>\n",
       "      <td>107.597</td>\n",
       "      <td>100010</td>\n",
       "      <td>60</td>\n",
       "      <td>NaN</td>\n",
       "      <td>NaN</td>\n",
       "      <td>NaN</td>\n",
       "      <td>NaN</td>\n",
       "      <td>ERANGEL</td>\n",
       "      <td>NaN</td>\n",
       "      <td>NaN</td>\n",
       "      <td>NaN</td>\n",
       "      <td>NaN</td>\n",
       "      <td>NaN</td>\n",
       "    </tr>\n",
       "    <tr>\n",
       "      <th>4</th>\n",
       "      <td>2017-12-17T06:37:50+0000</td>\n",
       "      <td>63</td>\n",
       "      <td>2U4GBNA0YmmyNWABCuuEotdFnf2pYAu3C5f-JJ9Qv-UyQV...</td>\n",
       "      <td>0</td>\n",
       "      <td>0.00000</td>\n",
       "      <td>2074.617430</td>\n",
       "      <td>199</td>\n",
       "      <td>2</td>\n",
       "      <td>YELLOW1988</td>\n",
       "      <td>679.751</td>\n",
       "      <td>100016</td>\n",
       "      <td>35</td>\n",
       "      <td>AKM</td>\n",
       "      <td>35.0</td>\n",
       "      <td>404385.6</td>\n",
       "      <td>490252.1</td>\n",
       "      <td>ERANGEL</td>\n",
       "      <td>584.0</td>\n",
       "      <td>EVA_09</td>\n",
       "      <td>39.0</td>\n",
       "      <td>412031.9</td>\n",
       "      <td>482495.1</td>\n",
       "    </tr>\n",
       "  </tbody>\n",
       "</table>\n",
       "</div>"
      ],
      "text/plain": [
       "                       date  game_size  \\\n",
       "0  2017-12-17T06:37:50+0000         63   \n",
       "1  2017-12-17T06:37:50+0000         63   \n",
       "2  2017-12-17T06:37:50+0000         63   \n",
       "3  2017-12-17T06:37:50+0000         63   \n",
       "4  2017-12-17T06:37:50+0000         63   \n",
       "\n",
       "                                            match_id  player_assists  \\\n",
       "0  2U4GBNA0YmmyNWABCuuEotdFnf2pYAu3C5f-JJ9Qv-UyQV...               0   \n",
       "1  2U4GBNA0YmmyNWABCuuEotdFnf2pYAu3C5f-JJ9Qv-UyQV...               1   \n",
       "2  2U4GBNA0YmmyNWABCuuEotdFnf2pYAu3C5f-JJ9Qv-UyQV...               0   \n",
       "3  2U4GBNA0YmmyNWABCuuEotdFnf2pYAu3C5f-JJ9Qv-UyQV...               0   \n",
       "4  2U4GBNA0YmmyNWABCuuEotdFnf2pYAu3C5f-JJ9Qv-UyQV...               0   \n",
       "\n",
       "   player_dist_ride  player_dist_walk  player_dmg  player_kills  \\\n",
       "0           0.00000        197.745000          20             0   \n",
       "1         761.70780        856.389465           1             0   \n",
       "2        3053.30444       1741.988890         205             1   \n",
       "3           0.00000          9.943279          19             0   \n",
       "4           0.00000       2074.617430         199             2   \n",
       "\n",
       "      player_name  player_survive_time  team_id  team_placement killed_by  \\\n",
       "0       Poisoner-              306.522   100002              47       NaN   \n",
       "1      NEW-BEE-CH              815.788   100003              28       NaN   \n",
       "2       CHN-Demon             1070.069   100006              23       AKM   \n",
       "3  Apparition_111              107.597   100010              60       NaN   \n",
       "4      YELLOW1988              679.751   100016              35       AKM   \n",
       "\n",
       "   killer_placement  killer_position_x  killer_position_y      map   time  \\\n",
       "0               NaN                NaN                NaN  ERANGEL    NaN   \n",
       "1               NaN                NaN                NaN  ERANGEL    NaN   \n",
       "2              23.0           297418.8           501408.4  ERANGEL  325.0   \n",
       "3               NaN                NaN                NaN  ERANGEL    NaN   \n",
       "4              35.0           404385.6           490252.1  ERANGEL  584.0   \n",
       "\n",
       "    victim_name  victim_placement  victim_position_x  victim_position_y  \n",
       "0           NaN               NaN                NaN                NaN  \n",
       "1           NaN               NaN                NaN                NaN  \n",
       "2  MuscleGod007              46.0           300051.5           499628.2  \n",
       "3           NaN               NaN                NaN                NaN  \n",
       "4        EVA_09              39.0           412031.9           482495.1  "
      ]
     },
     "execution_count": 131,
     "metadata": {},
     "output_type": "execute_result"
    }
   ],
   "source": [
    "solo_outlier.head()"
   ]
  },
  {
   "cell_type": "markdown",
   "id": "445c9895-6c17-49ca-ac98-2d671eb240e4",
   "metadata": {},
   "source": [
    "### 변수변환"
   ]
  },
  {
   "cell_type": "markdown",
   "id": "8167e564-776b-4747-a3be-33a8f1752570",
   "metadata": {},
   "source": [
    "#### 1. KDA 변수 만들기"
   ]
  },
  {
   "cell_type": "code",
   "execution_count": 148,
   "id": "8ad5e2ad-cd63-4c50-b2a6-9ff1eddde0a6",
   "metadata": {},
   "outputs": [],
   "source": [
    "temp = solo_anal.groupby('player_name')['date'].count().reset_index()"
   ]
  },
  {
   "cell_type": "code",
   "execution_count": 153,
   "id": "2bc5875a-902d-4b54-8d84-169336880448",
   "metadata": {},
   "outputs": [],
   "source": [
    "temp.columns = ['player_name', 'death']"
   ]
  },
  {
   "cell_type": "code",
   "execution_count": 177,
   "id": "a55fb1b6-f3aa-4c26-8bd0-b52339fc99f8",
   "metadata": {},
   "outputs": [
    {
     "data": {
      "text/html": [
       "<div>\n",
       "<style scoped>\n",
       "    .dataframe tbody tr th:only-of-type {\n",
       "        vertical-align: middle;\n",
       "    }\n",
       "\n",
       "    .dataframe tbody tr th {\n",
       "        vertical-align: top;\n",
       "    }\n",
       "\n",
       "    .dataframe thead th {\n",
       "        text-align: right;\n",
       "    }\n",
       "</style>\n",
       "<table border=\"1\" class=\"dataframe\">\n",
       "  <thead>\n",
       "    <tr style=\"text-align: right;\">\n",
       "      <th></th>\n",
       "      <th>player_name</th>\n",
       "      <th>death</th>\n",
       "    </tr>\n",
       "  </thead>\n",
       "  <tbody>\n",
       "    <tr>\n",
       "      <th>0</th>\n",
       "      <td>0---HaMMaN---0</td>\n",
       "      <td>19</td>\n",
       "    </tr>\n",
       "    <tr>\n",
       "      <th>1</th>\n",
       "      <td>0---JK---0</td>\n",
       "      <td>1</td>\n",
       "    </tr>\n",
       "    <tr>\n",
       "      <th>2</th>\n",
       "      <td>0--Monster--0</td>\n",
       "      <td>1</td>\n",
       "    </tr>\n",
       "    <tr>\n",
       "      <th>3</th>\n",
       "      <td>0--ZXJ--0</td>\n",
       "      <td>3</td>\n",
       "    </tr>\n",
       "    <tr>\n",
       "      <th>4</th>\n",
       "      <td>0--kxxk--0</td>\n",
       "      <td>5</td>\n",
       "    </tr>\n",
       "  </tbody>\n",
       "</table>\n",
       "</div>"
      ],
      "text/plain": [
       "      player_name  death\n",
       "0  0---HaMMaN---0     19\n",
       "1      0---JK---0      1\n",
       "2   0--Monster--0      1\n",
       "3       0--ZXJ--0      3\n",
       "4      0--kxxk--0      5"
      ]
     },
     "execution_count": 177,
     "metadata": {},
     "output_type": "execute_result"
    }
   ],
   "source": [
    "temp.head()"
   ]
  },
  {
   "cell_type": "code",
   "execution_count": 164,
   "id": "9af14250-bc12-46d3-88f4-c9cf02ba27a3",
   "metadata": {},
   "outputs": [],
   "source": [
    "kda = solo_anal.groupby('player_name')[['player_kills', 'player_assists']].sum().reset_index()"
   ]
  },
  {
   "cell_type": "code",
   "execution_count": 165,
   "id": "78df96d3-c187-4f05-813f-0fe0ea845cac",
   "metadata": {},
   "outputs": [],
   "source": [
    "kda = kda.merge(temp, how = 'left', on = 'player_name')"
   ]
  },
  {
   "cell_type": "code",
   "execution_count": 167,
   "id": "6bfa82c0-3a59-407e-9c50-1c412ec354fb",
   "metadata": {},
   "outputs": [],
   "source": [
    "kda['kda'] = ((kda['player_kills'] + kda['player_assists']) / kda['death'])"
   ]
  },
  {
   "cell_type": "code",
   "execution_count": 172,
   "id": "b046be10-9025-40c3-b0ae-da13094e2d5d",
   "metadata": {},
   "outputs": [],
   "source": [
    "solo_anal = solo_anal.merge(kda[['player_name', 'kda']], how = 'left', on = 'player_name')"
   ]
  },
  {
   "cell_type": "markdown",
   "id": "50d6d3be-cf86-46d8-bad5-a1691004a665",
   "metadata": {},
   "source": [
    "#### 2. player_dmg ~ player_kills의 상관관계 확인"
   ]
  },
  {
   "cell_type": "code",
   "execution_count": 178,
   "id": "92653de3-c4d0-4823-add6-9b8b38db86ba",
   "metadata": {},
   "outputs": [
    {
     "data": {
      "text/plain": [
       "array([[1.        , 0.97549519],\n",
       "       [0.97549519, 1.        ]])"
      ]
     },
     "execution_count": 178,
     "metadata": {},
     "output_type": "execute_result"
    }
   ],
   "source": [
    "np.corrcoef(solo_anal['player_dmg'], solo_anal['player_kills'])"
   ]
  },
  {
   "cell_type": "code",
   "execution_count": 179,
   "id": "dd0c10fb-ad72-4e86-85dc-74e7cc9f7482",
   "metadata": {},
   "outputs": [],
   "source": [
    "# 상관계수가 0.9755로 매우 강한 양의 상관관계가 있다고 할 수 있음"
   ]
  },
  {
   "cell_type": "markdown",
   "id": "8f7eb709-8afb-4207-891e-a88acce79e8d",
   "metadata": {},
   "source": [
    "#### 3. player_survive_time ~ team_placement의 상관관계 확인"
   ]
  },
  {
   "cell_type": "code",
   "execution_count": 180,
   "id": "d5e5570b-2c2b-424d-b459-80caa077b79e",
   "metadata": {},
   "outputs": [
    {
     "data": {
      "text/plain": [
       "array([[ 1.        , -0.94859058],\n",
       "       [-0.94859058,  1.        ]])"
      ]
     },
     "execution_count": 180,
     "metadata": {},
     "output_type": "execute_result"
    }
   ],
   "source": [
    "np.corrcoef(solo_anal['player_survive_time'], solo_anal['team_placement'])"
   ]
  },
  {
   "cell_type": "code",
   "execution_count": 181,
   "id": "9003b33a-a1e8-435f-aa0e-6ca1f599ef87",
   "metadata": {},
   "outputs": [],
   "source": [
    "# 상관계수가 -0.9486으로 매우 강한 음의 상관관계가 있다고 할 수 있음"
   ]
  },
  {
   "cell_type": "markdown",
   "id": "355f35fa-5f44-446c-b936-9fada147cdd4",
   "metadata": {},
   "source": [
    "#### 4. player_dist_walk ~ team_placement, player_dist_ride ~ team_placement의 상관관계를 확인"
   ]
  },
  {
   "cell_type": "code",
   "execution_count": 182,
   "id": "41338ef3-3ee6-4a4e-a9b4-7b347a698cd4",
   "metadata": {},
   "outputs": [
    {
     "data": {
      "text/plain": [
       "array([[ 1.        , -0.82178226],\n",
       "       [-0.82178226,  1.        ]])"
      ]
     },
     "execution_count": 182,
     "metadata": {},
     "output_type": "execute_result"
    }
   ],
   "source": [
    "np.corrcoef(solo_anal['player_dist_walk'], solo_anal['team_placement'])"
   ]
  },
  {
   "cell_type": "code",
   "execution_count": 221,
   "id": "e7bcea84-51b5-44f3-aa81-a7d48d74671c",
   "metadata": {},
   "outputs": [],
   "source": [
    "# 상관계수가 -0.8218로 매우 강한 음의 상관관계가 있다고 할 수 있음"
   ]
  },
  {
   "cell_type": "code",
   "execution_count": 183,
   "id": "f3e47a4d-61c5-47b2-8358-828b87c1ac26",
   "metadata": {},
   "outputs": [
    {
     "data": {
      "text/plain": [
       "array([[ 1.        , -0.52743598],\n",
       "       [-0.52743598,  1.        ]])"
      ]
     },
     "execution_count": 183,
     "metadata": {},
     "output_type": "execute_result"
    }
   ],
   "source": [
    "np.corrcoef(solo_anal['player_dist_ride'], solo_anal['team_placement'])"
   ]
  },
  {
   "cell_type": "code",
   "execution_count": 222,
   "id": "e10ea974-f271-4478-8b96-cf9abfbce226",
   "metadata": {},
   "outputs": [],
   "source": [
    "# 상관계수가 -0.5274로 약한 음의 상관관계가 있다고 할 수 있음"
   ]
  },
  {
   "cell_type": "markdown",
   "id": "f322369c-c5d6-437a-b05f-ec491da4b39f",
   "metadata": {},
   "source": [
    "#### 4.1 player_dist_walk + player_dist_ride ~ team_placement의 상관관계를 확인"
   ]
  },
  {
   "cell_type": "code",
   "execution_count": 184,
   "id": "41851dd8-8073-418f-a357-686485ea950d",
   "metadata": {},
   "outputs": [
    {
     "data": {
      "text/plain": [
       "array([[1.        , 0.48818925],\n",
       "       [0.48818925, 1.        ]])"
      ]
     },
     "execution_count": 184,
     "metadata": {},
     "output_type": "execute_result"
    }
   ],
   "source": [
    "np.corrcoef((solo_anal['player_dist_ride'] + solo_anal['player_dist_walk']), solo_anal['player_kills'])"
   ]
  },
  {
   "cell_type": "code",
   "execution_count": 223,
   "id": "9168ce57-8c8b-40db-9c95-77649fe4559d",
   "metadata": {},
   "outputs": [],
   "source": [
    "# 상관계수가 0.48818925로 매우 약한 양의 상관관계가 있다고 할 수 있음"
   ]
  },
  {
   "cell_type": "code",
   "execution_count": 185,
   "id": "d65217c5-5918-48fe-9923-ca4c31b54173",
   "metadata": {},
   "outputs": [
    {
     "data": {
      "text/plain": [
       "array([[1.        , 0.32059407],\n",
       "       [0.32059407, 1.        ]])"
      ]
     },
     "execution_count": 185,
     "metadata": {},
     "output_type": "execute_result"
    }
   ],
   "source": [
    "np.corrcoef(solo_anal['player_dist_ride'], solo_anal['player_dist_walk'])"
   ]
  },
  {
   "cell_type": "code",
   "execution_count": 224,
   "id": "efacd8de-fd1f-44cc-ae2e-72e65324e5cf",
   "metadata": {},
   "outputs": [],
   "source": [
    "# 상관계수가 0.32059407로 상관관계가 없다고 할 수 있음"
   ]
  },
  {
   "cell_type": "code",
   "execution_count": null,
   "id": "f8762bf9-d334-4489-8717-5a6b8f8c2ab0",
   "metadata": {},
   "outputs": [],
   "source": []
  }
 ],
 "metadata": {
  "kernelspec": {
   "display_name": "Python 3 (ipykernel)",
   "language": "python",
   "name": "python3"
  },
  "language_info": {
   "codemirror_mode": {
    "name": "ipython",
    "version": 3
   },
   "file_extension": ".py",
   "mimetype": "text/x-python",
   "name": "python",
   "nbconvert_exporter": "python",
   "pygments_lexer": "ipython3",
   "version": "3.8.10"
  }
 },
 "nbformat": 4,
 "nbformat_minor": 5
}
